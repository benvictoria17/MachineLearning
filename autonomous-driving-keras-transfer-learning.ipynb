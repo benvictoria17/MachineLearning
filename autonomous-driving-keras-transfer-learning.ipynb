{
 "cells": [
  {
   "cell_type": "markdown",
   "metadata": {},
   "source": [
    "# Import Dependencies"
   ]
  },
  {
   "cell_type": "code",
   "execution_count": 1,
   "metadata": {
    "_cell_guid": "79c7e3d0-c299-4dcb-8224-4455121ee9b0",
    "_uuid": "d629ff2d2480ee46fbb7e2d37f6b5fab8052498a"
   },
   "outputs": [
    {
     "name": "stdout",
     "output_type": "stream",
     "text": [
      "['IMG', 'driving_log.csv']\n"
     ]
    },
    {
     "name": "stderr",
     "output_type": "stream",
     "text": [
      "Using TensorFlow backend.\n"
     ]
    }
   ],
   "source": [
    "from __future__ import division\n",
    "import random,pickle,csv,cv2,os,scipy,pickle,warnings,matplotlib\n",
    "import pandas as pd\n",
    "import numpy as np\n",
    "import tensorflow as tf\n",
    "import matplotlib.pyplot as plt\n",
    "import seaborn as sns\n",
    "import gc\n",
    "\n",
    "from sklearn.model_selection import train_test_split\n",
    "from sklearn.utils import shuffle\n",
    "from scipy.stats import norm,skew\n",
    "from itertools import islice\n",
    "\n",
    "import keras.backend as K\n",
    "from keras.callbacks import History\n",
    "from keras.layers import Dense,Flatten,Dropout,Concatenate,GlobalAveragePooling2D,Lambda,ZeroPadding2D,GlobalMaxPooling2D\n",
    "from keras.layers import SeparableConv2D,BatchNormalization,MaxPooling2D,Conv2D\n",
    "from keras.applications.mobilenet_v2 import MobileNetV2\n",
    "from keras.utils import print_summary\n",
    "from keras.models import Sequential\n",
    "from keras.callbacks import ModelCheckpoint,EarlyStopping,TensorBoard,CSVLogger,ReduceLROnPlateau,LearningRateScheduler\n",
    "from keras.optimizers import Adam,SGD\n",
    "from keras import applications\n",
    "from keras.utils.vis_utils import plot_model\n",
    "\n",
    "print(os.listdir('../input/self driving car training data/data'))\n",
    "warnings.filterwarnings('ignore')"
   ]
  },
  {
   "cell_type": "markdown",
   "metadata": {},
   "source": [
    "# Helper Functions"
   ]
  },
  {
   "cell_type": "code",
   "execution_count": 2,
   "metadata": {},
   "outputs": [],
   "source": [
    "def show_final_history(history):\n",
    "    fig, ax = plt.subplots(1, 2, figsize=(15,5))\n",
    "    ax[0].set_title('loss')\n",
    "    ax[0].plot(history.epoch, history.history[\"loss\"], label=\"Train loss\")\n",
    "    ax[0].plot(history.epoch, history.history[\"val_loss\"], label=\"Validation loss\")\n",
    "    ax[1].set_title('acc')\n",
    "    ax[1].plot(history.epoch, history.history[\"acc\"], label=\"Train acc\")\n",
    "    ax[1].plot(history.epoch, history.history[\"val_acc\"], label=\"Validation acc\")\n",
    "    ax[0].legend()\n",
    "    ax[1].legend()"
   ]
  },
  {
   "cell_type": "code",
   "execution_count": 3,
   "metadata": {},
   "outputs": [],
   "source": [
    "def image_preprocessing(img):\n",
    "    resized_image = cv2.resize((cv2.cvtColor(img,cv2.COLOR_RGB2HSV))[:,:,1],(40,40))\n",
    "    return resized_image"
   ]
  },
  {
   "cell_type": "code",
   "execution_count": 4,
   "metadata": {},
   "outputs": [],
   "source": [
    "def load_training(delta):\n",
    "    logs = []\n",
    "    features = []\n",
    "    labels = []\n",
    "    with open(labels_file,'rt') as f:\n",
    "        reader = csv.reader(f)\n",
    "        for line in reader:\n",
    "            logs.append(line)\n",
    "        log_labels = logs.pop(0)\n",
    "        \n",
    "    for i in range(len(logs)):\n",
    "        for j in range(3):\n",
    "            img_path = logs[i][j]\n",
    "            img_path = features_directory + 'IMG' + (img_path.split('IMG')[1]).strip()\n",
    "            img = plt.imread(img_path)\n",
    "            features.append(image_preprocessing(img))\n",
    "            \n",
    "            if j == 0:\n",
    "                labels.append(float(logs[i][3]))\n",
    "            elif j == 1:\n",
    "                labels.append(float(logs[i][3]) + delta)\n",
    "            else:\n",
    "                labels.append(float(logs[i][3]) - delta)\n",
    "    return features,labels"
   ]
  },
  {
   "cell_type": "code",
   "execution_count": 5,
   "metadata": {},
   "outputs": [],
   "source": [
    "def loadFromPickle():\n",
    "    with open('features','rb') as f:\n",
    "        features = np.array(pickle.load(f))\n",
    "    with open('labels','rb') as f:\n",
    "        labels = np.array(pickle.load(f))\n",
    "    return features,labels\n",
    "\n",
    "def augmentData(features,labels):\n",
    "    features = np.append(features,features[:,:,::-1],axis=0)\n",
    "    labels = np.append(labels,-labels,axis=0)\n",
    "    return features,labels"
   ]
  },
  {
   "cell_type": "markdown",
   "metadata": {},
   "source": [
    "# Load in the data"
   ]
  },
  {
   "cell_type": "code",
   "execution_count": 6,
   "metadata": {},
   "outputs": [],
   "source": [
    "features_directory = '../input/self driving car training data/data/'\n",
    "labels_file = '../input/self driving car training data/data/driving_log.csv'"
   ]
  },
  {
   "cell_type": "code",
   "execution_count": 7,
   "metadata": {},
   "outputs": [],
   "source": [
    "delta = 0.2\n",
    "features,labels = load_training(delta)\n",
    "\n",
    "features = np.array(features).astype('float32')\n",
    "labels = np.array(labels).astype('float32')\n",
    "\n",
    "with open('features','wb') as f:\n",
    "    pickle.dump(features,f,protocol=4)\n",
    "with open('labels','wb') as f:\n",
    "    pickle.dump(labels,f,protocol=4)"
   ]
  },
  {
   "cell_type": "code",
   "execution_count": 8,
   "metadata": {},
   "outputs": [],
   "source": [
    "pan = pd.Panel(features)\n",
    "df = pan.swapaxes(1,2).to_frame()\n",
    "df.index = df.index.droplevel('major')\n",
    "df.index = df.index+1"
   ]
  },
  {
   "cell_type": "code",
   "execution_count": 9,
   "metadata": {},
   "outputs": [],
   "source": [
    "features,labels = loadFromPickle()\n",
    "features,labels = shuffle(features,labels)\n",
    "\n",
    "x_train,x_val,y_train,y_val = train_test_split(features,labels,random_state=42,test_size=0.2)\n",
    "\n",
    "x_train = x_train.reshape(x_train.shape[0],40,40,1)\n",
    "x_val = x_val.reshape(x_val.shape[0],40,40,1)"
   ]
  },
  {
   "cell_type": "markdown",
   "metadata": {},
   "source": [
    "# Create The Model"
   ]
  },
  {
   "cell_type": "code",
   "execution_count": 10,
   "metadata": {},
   "outputs": [
    {
     "name": "stdout",
     "output_type": "stream",
     "text": [
      "WARNING:tensorflow:From /opt/conda/lib/python3.6/site-packages/tensorflow/python/framework/op_def_library.py:263: colocate_with (from tensorflow.python.framework.ops) is deprecated and will be removed in a future version.\n",
      "Instructions for updating:\n",
      "Colocations handled automatically by placer.\n",
      "WARNING:tensorflow:From /opt/conda/lib/python3.6/site-packages/keras/backend/tensorflow_backend.py:3445: calling dropout (from tensorflow.python.ops.nn_ops) with keep_prob is deprecated and will be removed in a future version.\n",
      "Instructions for updating:\n",
      "Please use `rate` instead of `keep_prob`. Rate should be set to `rate = 1 - keep_prob`.\n",
      "_________________________________________________________________\n",
      "Layer (type)                 Output Shape              Param #   \n",
      "=================================================================\n",
      "mobilenetv2_1.00_40 (Model)  (None, 2, 2, 1280)        2257408   \n",
      "_________________________________________________________________\n",
      "global_average_pooling2d_1 ( (None, 1280)              0         \n",
      "_________________________________________________________________\n",
      "dropout_1 (Dropout)          (None, 1280)              0         \n",
      "_________________________________________________________________\n",
      "dense_1 (Dense)              (None, 1)                 1281      \n",
      "=================================================================\n",
      "Total params: 2,258,689\n",
      "Trainable params: 1,281\n",
      "Non-trainable params: 2,257,408\n",
      "_________________________________________________________________\n"
     ]
    }
   ],
   "source": [
    "base_model = MobileNetV2(include_top=False,weights=None,input_shape=(40,40,1))\n",
    "\n",
    "for layer in base_model.layers:\n",
    "    layer.trainable = False\n",
    "    \n",
    "model = Sequential()\n",
    "model.add(base_model)\n",
    "model.add(GlobalAveragePooling2D())\n",
    "model.add(Dropout(0.5))\n",
    "model.add(Dense(1,activation='sigmoid'))\n",
    "model.summary()\n",
    "plot_model(model, to_file='model_plot.png', show_shapes=True, show_layer_names=True)"
   ]
  },
  {
   "cell_type": "markdown",
   "metadata": {},
   "source": [
    "# Callbacks"
   ]
  },
  {
   "cell_type": "code",
   "execution_count": 11,
   "metadata": {},
   "outputs": [],
   "source": [
    "#-------Callbacks-------------#\n",
    "best_model_weights = './base.model'\n",
    "checkpoint = ModelCheckpoint(\n",
    "    best_model_weights,\n",
    "    monitor='val_loss',\n",
    "    verbose=1,\n",
    "    save_best_only=True,\n",
    "    mode='min',\n",
    "    save_weights_only=False,\n",
    "    period=1\n",
    ")\n",
    "earlystop = EarlyStopping(\n",
    "    monitor='val_loss',\n",
    "    min_delta=0.001,\n",
    "    patience=10,\n",
    "    verbose=1,\n",
    "    mode='auto'\n",
    ")\n",
    "tensorboard = TensorBoard(\n",
    "    log_dir = './logs',\n",
    "    histogram_freq=0,\n",
    "    batch_size=16,\n",
    "    write_graph=True,\n",
    "    write_grads=True,\n",
    "    write_images=False,\n",
    ")\n",
    "\n",
    "csvlogger = CSVLogger(\n",
    "    filename= \"training_csv.log\",\n",
    "    separator = \",\",\n",
    "    append = False\n",
    ")\n",
    "\n",
    "#lrsched = LearningRateScheduler(step_decay,verbose=1)\n",
    "\n",
    "reduce = ReduceLROnPlateau(\n",
    "    monitor='val_loss',\n",
    "    factor=0.5,\n",
    "    patience=10,\n",
    "    verbose=1, \n",
    "    mode='auto',\n",
    "    cooldown=1 \n",
    ")\n",
    "\n",
    "callbacks = [checkpoint,tensorboard,csvlogger,reduce]"
   ]
  },
  {
   "cell_type": "markdown",
   "metadata": {},
   "source": [
    "# Now we train the model"
   ]
  },
  {
   "cell_type": "code",
   "execution_count": 12,
   "metadata": {},
   "outputs": [
    {
     "name": "stdout",
     "output_type": "stream",
     "text": [
      "WARNING:tensorflow:From /opt/conda/lib/python3.6/site-packages/tensorflow/python/ops/math_ops.py:3066: to_int32 (from tensorflow.python.ops.math_ops) is deprecated and will be removed in a future version.\n",
      "Instructions for updating:\n",
      "Use tf.cast instead.\n",
      "Train on 19286 samples, validate on 4822 samples\n",
      "Epoch 1/50\n",
      "19286/19286 [==============================] - 4s 221us/step - loss: 0.0183 - acc: 0.1785 - val_loss: 0.6912 - val_acc: 0.1844\n",
      "\n",
      "Epoch 00001: val_loss improved from inf to 0.69116, saving model to ./base.model\n",
      "Epoch 2/50\n",
      "19286/19286 [==============================] - 1s 74us/step - loss: -0.0535 - acc: 0.1800 - val_loss: 0.6958 - val_acc: 0.0000e+00\n",
      "\n",
      "Epoch 00002: val_loss did not improve from 0.69116\n",
      "Epoch 3/50\n",
      "19286/19286 [==============================] - 1s 73us/step - loss: -0.0851 - acc: 0.1800 - val_loss: 0.7013 - val_acc: 0.0000e+00\n",
      "\n",
      "Epoch 00003: val_loss did not improve from 0.69116\n",
      "Epoch 4/50\n",
      "19286/19286 [==============================] - 1s 73us/step - loss: -0.1083 - acc: 0.1800 - val_loss: 0.7039 - val_acc: 0.0000e+00\n",
      "\n",
      "Epoch 00004: val_loss did not improve from 0.69116\n",
      "Epoch 5/50\n",
      "19286/19286 [==============================] - 1s 74us/step - loss: -0.1209 - acc: 0.1798 - val_loss: 0.7047 - val_acc: 0.0000e+00\n",
      "\n",
      "Epoch 00005: val_loss did not improve from 0.69116\n",
      "Epoch 6/50\n",
      "19286/19286 [==============================] - 1s 74us/step - loss: -0.1298 - acc: 0.1799 - val_loss: 0.7048 - val_acc: 0.0000e+00\n",
      "\n",
      "Epoch 00006: val_loss did not improve from 0.69116\n",
      "Epoch 7/50\n",
      "19286/19286 [==============================] - 1s 73us/step - loss: -0.1361 - acc: 0.1796 - val_loss: 0.7029 - val_acc: 0.0000e+00\n",
      "\n",
      "Epoch 00007: val_loss did not improve from 0.69116\n",
      "Epoch 8/50\n",
      "19286/19286 [==============================] - 1s 73us/step - loss: -0.1412 - acc: 0.1797 - val_loss: 0.7029 - val_acc: 0.0000e+00\n",
      "\n",
      "Epoch 00008: val_loss did not improve from 0.69116\n",
      "Epoch 9/50\n",
      "19286/19286 [==============================] - 1s 73us/step - loss: -0.1515 - acc: 0.1793 - val_loss: 0.7027 - val_acc: 0.0000e+00\n",
      "\n",
      "Epoch 00009: val_loss did not improve from 0.69116\n",
      "Epoch 10/50\n",
      "19286/19286 [==============================] - 1s 74us/step - loss: -0.1518 - acc: 0.1793 - val_loss: 0.7024 - val_acc: 0.0000e+00\n",
      "\n",
      "Epoch 00010: val_loss did not improve from 0.69116\n",
      "Epoch 11/50\n",
      "19286/19286 [==============================] - 1s 73us/step - loss: -0.1595 - acc: 0.1789 - val_loss: 0.7027 - val_acc: 0.0000e+00\n",
      "\n",
      "Epoch 00011: val_loss did not improve from 0.69116\n",
      "\n",
      "Epoch 00011: ReduceLROnPlateau reducing learning rate to 0.0005000000237487257.\n",
      "Epoch 12/50\n",
      "19286/19286 [==============================] - 1s 73us/step - loss: -0.1677 - acc: 0.1789 - val_loss: 0.7011 - val_acc: 0.0000e+00\n",
      "\n",
      "Epoch 00012: val_loss did not improve from 0.69116\n",
      "Epoch 13/50\n",
      "19286/19286 [==============================] - 1s 73us/step - loss: -0.1630 - acc: 0.1789 - val_loss: 0.7017 - val_acc: 0.0000e+00\n",
      "\n",
      "Epoch 00013: val_loss did not improve from 0.69116\n",
      "Epoch 14/50\n",
      "19286/19286 [==============================] - 1s 73us/step - loss: -0.1618 - acc: 0.1795 - val_loss: 0.7014 - val_acc: 0.0000e+00\n",
      "\n",
      "Epoch 00014: val_loss did not improve from 0.69116\n",
      "Epoch 15/50\n",
      "19286/19286 [==============================] - 2s 89us/step - loss: -0.1684 - acc: 0.1792 - val_loss: 0.7019 - val_acc: 0.0000e+00\n",
      "\n",
      "Epoch 00015: val_loss did not improve from 0.69116\n",
      "Epoch 16/50\n",
      "19286/19286 [==============================] - 1s 72us/step - loss: -0.1655 - acc: 0.1790 - val_loss: 0.7004 - val_acc: 0.0000e+00\n",
      "\n",
      "Epoch 00016: val_loss did not improve from 0.69116\n",
      "Epoch 17/50\n",
      "19286/19286 [==============================] - 1s 74us/step - loss: -0.1746 - acc: 0.1794 - val_loss: 0.7026 - val_acc: 0.0000e+00\n",
      "\n",
      "Epoch 00017: val_loss did not improve from 0.69116\n",
      "Epoch 18/50\n",
      "19286/19286 [==============================] - 1s 74us/step - loss: -0.1698 - acc: 0.1790 - val_loss: 0.7021 - val_acc: 0.0000e+00\n",
      "\n",
      "Epoch 00018: val_loss did not improve from 0.69116\n",
      "Epoch 19/50\n",
      "19286/19286 [==============================] - 1s 75us/step - loss: -0.1709 - acc: 0.1791 - val_loss: 0.7008 - val_acc: 0.0000e+00\n",
      "\n",
      "Epoch 00019: val_loss did not improve from 0.69116\n",
      "Epoch 20/50\n",
      "19286/19286 [==============================] - 1s 74us/step - loss: -0.1733 - acc: 0.1789 - val_loss: 0.7010 - val_acc: 0.0000e+00\n",
      "\n",
      "Epoch 00020: val_loss did not improve from 0.69116\n",
      "Epoch 21/50\n",
      "19286/19286 [==============================] - 1s 75us/step - loss: -0.1744 - acc: 0.1788 - val_loss: 0.7014 - val_acc: 0.0000e+00\n",
      "\n",
      "Epoch 00021: val_loss did not improve from 0.69116\n",
      "\n",
      "Epoch 00021: ReduceLROnPlateau reducing learning rate to 0.0002500000118743628.\n",
      "Epoch 22/50\n",
      "19286/19286 [==============================] - 1s 75us/step - loss: -0.1678 - acc: 0.1791 - val_loss: 0.7009 - val_acc: 0.0000e+00\n",
      "\n",
      "Epoch 00022: val_loss did not improve from 0.69116\n",
      "Epoch 23/50\n",
      "19286/19286 [==============================] - 1s 74us/step - loss: -0.1733 - acc: 0.1790 - val_loss: 0.7009 - val_acc: 0.0000e+00\n",
      "\n",
      "Epoch 00023: val_loss did not improve from 0.69116\n",
      "Epoch 24/50\n",
      "19286/19286 [==============================] - 1s 72us/step - loss: -0.1723 - acc: 0.1791 - val_loss: 0.7009 - val_acc: 0.0000e+00\n",
      "\n",
      "Epoch 00024: val_loss did not improve from 0.69116\n",
      "Epoch 25/50\n",
      "19286/19286 [==============================] - 1s 73us/step - loss: -0.1680 - acc: 0.1788 - val_loss: 0.7006 - val_acc: 0.0000e+00\n",
      "\n",
      "Epoch 00025: val_loss did not improve from 0.69116\n",
      "Epoch 26/50\n",
      "19286/19286 [==============================] - 1s 72us/step - loss: -0.1726 - acc: 0.1792 - val_loss: 0.7010 - val_acc: 0.0000e+00\n",
      "\n",
      "Epoch 00026: val_loss did not improve from 0.69116\n",
      "Epoch 27/50\n",
      "19286/19286 [==============================] - 1s 72us/step - loss: -0.1739 - acc: 0.1790 - val_loss: 0.7013 - val_acc: 0.0000e+00\n",
      "\n",
      "Epoch 00027: val_loss did not improve from 0.69116\n",
      "Epoch 28/50\n",
      "19286/19286 [==============================] - 1s 72us/step - loss: -0.1760 - acc: 0.1789 - val_loss: 0.7009 - val_acc: 0.0000e+00\n",
      "\n",
      "Epoch 00028: val_loss did not improve from 0.69116\n",
      "Epoch 29/50\n",
      "19286/19286 [==============================] - 1s 72us/step - loss: -0.1868 - acc: 0.1789 - val_loss: 0.7013 - val_acc: 0.0000e+00\n",
      "\n",
      "Epoch 00029: val_loss did not improve from 0.69116\n",
      "Epoch 30/50\n",
      "19286/19286 [==============================] - 1s 72us/step - loss: -0.1751 - acc: 0.1788 - val_loss: 0.7006 - val_acc: 0.0000e+00\n",
      "\n",
      "Epoch 00030: val_loss did not improve from 0.69116\n",
      "Epoch 31/50\n",
      "19286/19286 [==============================] - 1s 72us/step - loss: -0.1727 - acc: 0.1793 - val_loss: 0.7010 - val_acc: 0.0000e+00\n",
      "\n",
      "Epoch 00031: val_loss did not improve from 0.69116\n",
      "\n",
      "Epoch 00031: ReduceLROnPlateau reducing learning rate to 0.0001250000059371814.\n",
      "Epoch 32/50\n",
      "19286/19286 [==============================] - 1s 72us/step - loss: -0.1759 - acc: 0.1795 - val_loss: 0.7008 - val_acc: 0.0000e+00\n",
      "\n",
      "Epoch 00032: val_loss did not improve from 0.69116\n",
      "Epoch 33/50\n",
      "19286/19286 [==============================] - 1s 72us/step - loss: -0.1749 - acc: 0.1790 - val_loss: 0.7010 - val_acc: 0.0000e+00\n",
      "\n",
      "Epoch 00033: val_loss did not improve from 0.69116\n",
      "Epoch 34/50\n",
      "19286/19286 [==============================] - 1s 72us/step - loss: -0.1755 - acc: 0.1788 - val_loss: 0.7002 - val_acc: 0.0000e+00\n",
      "\n",
      "Epoch 00034: val_loss did not improve from 0.69116\n",
      "Epoch 35/50\n",
      "19286/19286 [==============================] - 1s 73us/step - loss: -0.1738 - acc: 0.1789 - val_loss: 0.7008 - val_acc: 0.0000e+00\n",
      "\n",
      "Epoch 00035: val_loss did not improve from 0.69116\n",
      "Epoch 36/50\n",
      "19286/19286 [==============================] - 1s 72us/step - loss: -0.1824 - acc: 0.1788 - val_loss: 0.7005 - val_acc: 0.0000e+00\n",
      "\n",
      "Epoch 00036: val_loss did not improve from 0.69116\n",
      "Epoch 37/50\n",
      "19286/19286 [==============================] - 1s 72us/step - loss: -0.1737 - acc: 0.1791 - val_loss: 0.7004 - val_acc: 0.0000e+00\n",
      "\n",
      "Epoch 00037: val_loss did not improve from 0.69116\n",
      "Epoch 38/50\n",
      "19286/19286 [==============================] - 1s 72us/step - loss: -0.1774 - acc: 0.1788 - val_loss: 0.7005 - val_acc: 0.0000e+00\n",
      "\n",
      "Epoch 00038: val_loss did not improve from 0.69116\n",
      "Epoch 39/50\n",
      "19286/19286 [==============================] - 1s 72us/step - loss: -0.1743 - acc: 0.1789 - val_loss: 0.7004 - val_acc: 0.0000e+00\n",
      "\n",
      "Epoch 00039: val_loss did not improve from 0.69116\n",
      "Epoch 40/50\n",
      "19286/19286 [==============================] - 1s 72us/step - loss: -0.1750 - acc: 0.1791 - val_loss: 0.7008 - val_acc: 0.0000e+00\n",
      "\n",
      "Epoch 00040: val_loss did not improve from 0.69116\n",
      "Epoch 41/50\n",
      "19286/19286 [==============================] - 1s 74us/step - loss: -0.1825 - acc: 0.1784 - val_loss: 0.7006 - val_acc: 0.0000e+00\n",
      "\n",
      "Epoch 00041: val_loss did not improve from 0.69116\n",
      "\n",
      "Epoch 00041: ReduceLROnPlateau reducing learning rate to 6.25000029685907e-05.\n",
      "Epoch 42/50\n",
      "19286/19286 [==============================] - 1s 75us/step - loss: -0.1772 - acc: 0.1788 - val_loss: 0.7006 - val_acc: 0.0000e+00\n",
      "\n",
      "Epoch 00042: val_loss did not improve from 0.69116\n",
      "Epoch 43/50\n",
      "19286/19286 [==============================] - 1s 74us/step - loss: -0.1735 - acc: 0.1789 - val_loss: 0.7005 - val_acc: 0.0000e+00\n",
      "\n",
      "Epoch 00043: val_loss did not improve from 0.69116\n",
      "Epoch 44/50\n",
      "19286/19286 [==============================] - 1s 74us/step - loss: -0.1795 - acc: 0.1794 - val_loss: 0.7005 - val_acc: 0.0000e+00\n",
      "\n",
      "Epoch 00044: val_loss did not improve from 0.69116\n",
      "Epoch 45/50\n",
      "19286/19286 [==============================] - 1s 72us/step - loss: -0.1791 - acc: 0.1791 - val_loss: 0.7007 - val_acc: 0.0000e+00\n",
      "\n",
      "Epoch 00045: val_loss did not improve from 0.69116\n",
      "Epoch 46/50\n",
      "19286/19286 [==============================] - 1s 72us/step - loss: -0.1807 - acc: 0.1787 - val_loss: 0.7008 - val_acc: 0.0000e+00\n",
      "\n",
      "Epoch 00046: val_loss did not improve from 0.69116\n",
      "Epoch 47/50\n",
      "19286/19286 [==============================] - 1s 72us/step - loss: -0.1801 - acc: 0.1790 - val_loss: 0.7006 - val_acc: 0.0000e+00\n",
      "\n",
      "Epoch 00047: val_loss did not improve from 0.69116\n",
      "Epoch 48/50\n",
      "19286/19286 [==============================] - 1s 72us/step - loss: -0.1794 - acc: 0.1788 - val_loss: 0.7004 - val_acc: 0.0000e+00\n",
      "\n",
      "Epoch 00048: val_loss did not improve from 0.69116\n",
      "Epoch 49/50\n",
      "19286/19286 [==============================] - 1s 72us/step - loss: -0.1823 - acc: 0.1785 - val_loss: 0.7006 - val_acc: 0.0000e+00\n",
      "\n",
      "Epoch 00049: val_loss did not improve from 0.69116\n",
      "Epoch 50/50\n",
      "19286/19286 [==============================] - 1s 72us/step - loss: -0.1809 - acc: 0.1789 - val_loss: 0.7005 - val_acc: 0.0000e+00\n",
      "\n",
      "Epoch 00050: val_loss did not improve from 0.69116\n"
     ]
    }
   ],
   "source": [
    "opt = SGD(lr=1e-4,momentum=0.99)\n",
    "opt1 = Adam(lr=1e-3)\n",
    "\n",
    "model.compile(\n",
    "    loss='binary_crossentropy',\n",
    "    optimizer='rmsprop',\n",
    "    metrics=['accuracy']\n",
    ")\n",
    "    \n",
    "history = model.fit(\n",
    "    x_train,\n",
    "    y_train,\n",
    "    validation_data=(x_val,y_val),\n",
    "    epochs = 50, \n",
    "    verbose = 1,\n",
    "    callbacks=callbacks,\n",
    "    batch_size = 256\n",
    ")"
   ]
  },
  {
   "cell_type": "markdown",
   "metadata": {},
   "source": [
    "# Visualize the training and save the weights and json file"
   ]
  },
  {
   "cell_type": "code",
   "execution_count": 13,
   "metadata": {},
   "outputs": [
    {
     "name": "stdout",
     "output_type": "stream",
     "text": [
      "Weights Saved\n",
      "JSON Saved\n"
     ]
    },
    {
     "data": {
      "image/png": "[encoded data removed]",
      "text/plain": [
       "<Figure size 1080x360 with 2 Axes>"
      ]
     },
     "metadata": {},
     "output_type": "display_data"
    }
   ],
   "source": [
    "show_final_history(history)\n",
    "model.load_weights(best_model_weights)\n",
    "\n",
    "model_json = model.to_json()\n",
    "with open(\"model.json\",\"w\") as json_file:\n",
    "    json_file.write(model_json)\n",
    "    \n",
    "model.save(\"model.h5\")\n",
    "print(\"Weights Saved\")\n",
    "print(\"JSON Saved\")"
   ]
  },
  {
   "cell_type": "markdown",
   "metadata": {},
   "source": [
    "# TensorBoard"
   ]
  },
  {
   "cell_type": "code",
   "execution_count": 14,
   "metadata": {},
   "outputs": [
    {
     "name": "stdout",
     "output_type": "stream",
     "text": [
      "--2019-04-10 14:09:19--  https://bin.equinox.io/c/4VmDzA7iaHb/ngrok-stable-linux-amd64.zip\r\n",
      "Resolving bin.equinox.io (bin.equinox.io)... 54.152.127.232, 52.72.250.2, 54.165.51.142, ...\r\n",
      "Connecting to bin.equinox.io (bin.equinox.io)|54.152.127.232|:443... connected.\r\n",
      "HTTP request sent, awaiting response... 200 OK\r\n",
      "Length: 14977695 (14M) [application/octet-stream]\r\n",
      "Saving to: ‘ngrok-stable-linux-amd64.zip’\r\n",
      "\r\n",
      "ngrok-stable-linux- 100%[===================>]  14.28M  41.3MB/s    in 0.3s    \r\n",
      "\r\n",
      "2019-04-10 14:09:20 (41.3 MB/s) - ‘ngrok-stable-linux-amd64.zip’ saved [14977695/14977695]\r\n",
      "\r\n",
      "Archive:  ngrok-stable-linux-amd64.zip\r\n",
      "  inflating: ngrok                   \r\n",
      "https://2cd6cd60.ngrok.io\r\n"
     ]
    }
   ],
   "source": [
    "!wget https://bin.equinox.io/c/4VmDzA7iaHb/ngrok-stable-linux-amd64.zip\n",
    "!unzip ngrok-stable-linux-amd64.zip\n",
    "LOG_DIR = './logs' # Here you have to put your log directory\n",
    "get_ipython().system_raw(\n",
    "    'tensorboard --logdir {} --host 0.0.0.0 --port 8080 &'\n",
    "    .format(LOG_DIR)\n",
    ")\n",
    "get_ipython().system_raw('./ngrok http 8080 &')\n",
    "! curl -s http://localhost:4040/api/tunnels | python3 -c \\\n",
    "    \"import sys, json; print(json.load(sys.stdin)['tunnels'][0]['public_url'])\""
   ]
  },
  {
   "cell_type": "code",
   "execution_count": 15,
   "metadata": {},
   "outputs": [],
   "source": []
  }
 ],
 "metadata": {
  "kernelspec": {
   "display_name": "Python 3",
   "language": "python",
   "name": "python3"
  },
  "language_info": {
   "codemirror_mode": {
    "name": "ipython",
    "version": 3
   },
   "file_extension": ".py",
   "mimetype": "text/x-python",
   "name": "python",
   "nbconvert_exporter": "python",
   "pygments_lexer": "ipython3",
   "version": "3.6.4"
  }
 },
 "nbformat": 4,
 "nbformat_minor": 1
}
