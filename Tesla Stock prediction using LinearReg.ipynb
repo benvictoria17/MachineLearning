{
 "cells": [
  {
   "cell_type": "code",
   "execution_count": 1,
   "id": "b452fe26",
   "metadata": {
    "_cell_guid": "b1076dfc-b9ad-4769-8c92-a6c4dae69d19",
    "_uuid": "8f2839f25d086af736a60e9eeb907d3b93b6e0e5",
    "execution": {
     "iopub.execute_input": "2022-03-07T00:03:59.415596Z",
     "iopub.status.busy": "2022-03-07T00:03:59.414410Z",
     "iopub.status.idle": "2022-03-07T00:04:00.803586Z",
     "shell.execute_reply": "2022-03-07T00:04:00.802905Z",
     "shell.execute_reply.started": "2022-03-06T23:57:23.645498Z"
    },
    "papermill": {
     "duration": 1.422552,
     "end_time": "2022-03-07T00:04:00.803769",
     "exception": false,
     "start_time": "2022-03-07T00:03:59.381217",
     "status": "completed"
    },
    "tags": []
   },
   "outputs": [],
   "source": [
    "import pandas as pd \n",
    "import numpy as np \n",
    "import matplotlib.pyplot as plt \n",
    "import seaborn as sns \n",
    "from sklearn.linear_model import LinearRegression\n",
    "sns.set()"
   ]
  },
  {
   "cell_type": "code",
   "execution_count": 2,
   "id": "fcdce227",
   "metadata": {
    "execution": {
     "iopub.execute_input": "2022-03-07T00:04:00.879452Z",
     "iopub.status.busy": "2022-03-07T00:04:00.878768Z",
     "iopub.status.idle": "2022-03-07T00:04:01.178827Z",
     "shell.execute_reply": "2022-03-07T00:04:01.179314Z",
     "shell.execute_reply.started": "2022-03-06T23:57:51.157294Z"
    },
    "papermill": {
     "duration": 0.344802,
     "end_time": "2022-03-07T00:04:01.179490",
     "exception": false,
     "start_time": "2022-03-07T00:04:00.834688",
     "status": "completed"
    },
    "tags": []
   },
   "outputs": [
    {
     "data": {
      "text/html": [
       "<div>\n",
       "<style scoped>\n",
       "    .dataframe tbody tr th:only-of-type {\n",
       "        vertical-align: middle;\n",
       "    }\n",
       "\n",
       "    .dataframe tbody tr th {\n",
       "        vertical-align: top;\n",
       "    }\n",
       "\n",
       "    .dataframe thead th {\n",
       "        text-align: right;\n",
       "    }\n",
       "</style>\n",
       "<table border=\"1\" class=\"dataframe\">\n",
       "  <thead>\n",
       "    <tr style=\"text-align: right;\">\n",
       "      <th></th>\n",
       "      <th>Open</th>\n",
       "      <th>High</th>\n",
       "      <th>Low</th>\n",
       "      <th>Close</th>\n",
       "      <th>Volume</th>\n",
       "      <th>Adj Close</th>\n",
       "    </tr>\n",
       "    <tr>\n",
       "      <th>Date</th>\n",
       "      <th></th>\n",
       "      <th></th>\n",
       "      <th></th>\n",
       "      <th></th>\n",
       "      <th></th>\n",
       "      <th></th>\n",
       "    </tr>\n",
       "  </thead>\n",
       "  <tbody>\n",
       "    <tr>\n",
       "      <th>6/29/2010</th>\n",
       "      <td>19.000000</td>\n",
       "      <td>25.000000</td>\n",
       "      <td>17.540001</td>\n",
       "      <td>23.889999</td>\n",
       "      <td>18766300</td>\n",
       "      <td>23.889999</td>\n",
       "    </tr>\n",
       "    <tr>\n",
       "      <th>6/30/2010</th>\n",
       "      <td>25.790001</td>\n",
       "      <td>30.420000</td>\n",
       "      <td>23.299999</td>\n",
       "      <td>23.830000</td>\n",
       "      <td>17187100</td>\n",
       "      <td>23.830000</td>\n",
       "    </tr>\n",
       "    <tr>\n",
       "      <th>7/1/2010</th>\n",
       "      <td>25.000000</td>\n",
       "      <td>25.920000</td>\n",
       "      <td>20.270000</td>\n",
       "      <td>21.959999</td>\n",
       "      <td>8218800</td>\n",
       "      <td>21.959999</td>\n",
       "    </tr>\n",
       "    <tr>\n",
       "      <th>7/2/2010</th>\n",
       "      <td>23.000000</td>\n",
       "      <td>23.100000</td>\n",
       "      <td>18.709999</td>\n",
       "      <td>19.200001</td>\n",
       "      <td>5139800</td>\n",
       "      <td>19.200001</td>\n",
       "    </tr>\n",
       "    <tr>\n",
       "      <th>7/6/2010</th>\n",
       "      <td>20.000000</td>\n",
       "      <td>20.000000</td>\n",
       "      <td>15.830000</td>\n",
       "      <td>16.110001</td>\n",
       "      <td>6866900</td>\n",
       "      <td>16.110001</td>\n",
       "    </tr>\n",
       "    <tr>\n",
       "      <th>...</th>\n",
       "      <td>...</td>\n",
       "      <td>...</td>\n",
       "      <td>...</td>\n",
       "      <td>...</td>\n",
       "      <td>...</td>\n",
       "      <td>...</td>\n",
       "    </tr>\n",
       "    <tr>\n",
       "      <th>3/13/2017</th>\n",
       "      <td>244.820007</td>\n",
       "      <td>246.850006</td>\n",
       "      <td>242.779999</td>\n",
       "      <td>246.169998</td>\n",
       "      <td>3010700</td>\n",
       "      <td>246.169998</td>\n",
       "    </tr>\n",
       "    <tr>\n",
       "      <th>3/14/2017</th>\n",
       "      <td>246.110001</td>\n",
       "      <td>258.119995</td>\n",
       "      <td>246.020004</td>\n",
       "      <td>258.000000</td>\n",
       "      <td>7575500</td>\n",
       "      <td>258.000000</td>\n",
       "    </tr>\n",
       "    <tr>\n",
       "      <th>3/15/2017</th>\n",
       "      <td>257.000000</td>\n",
       "      <td>261.000000</td>\n",
       "      <td>254.270004</td>\n",
       "      <td>255.729996</td>\n",
       "      <td>4816600</td>\n",
       "      <td>255.729996</td>\n",
       "    </tr>\n",
       "    <tr>\n",
       "      <th>3/16/2017</th>\n",
       "      <td>262.399994</td>\n",
       "      <td>265.750000</td>\n",
       "      <td>259.059998</td>\n",
       "      <td>262.049988</td>\n",
       "      <td>7100400</td>\n",
       "      <td>262.049988</td>\n",
       "    </tr>\n",
       "    <tr>\n",
       "      <th>3/17/2017</th>\n",
       "      <td>264.000000</td>\n",
       "      <td>265.329987</td>\n",
       "      <td>261.200012</td>\n",
       "      <td>261.500000</td>\n",
       "      <td>6475900</td>\n",
       "      <td>261.500000</td>\n",
       "    </tr>\n",
       "  </tbody>\n",
       "</table>\n",
       "<p>1692 rows × 6 columns</p>\n",
       "</div>"
      ],
      "text/plain": [
       "                 Open        High         Low       Close    Volume  \\\n",
       "Date                                                                  \n",
       "6/29/2010   19.000000   25.000000   17.540001   23.889999  18766300   \n",
       "6/30/2010   25.790001   30.420000   23.299999   23.830000  17187100   \n",
       "7/1/2010    25.000000   25.920000   20.270000   21.959999   8218800   \n",
       "7/2/2010    23.000000   23.100000   18.709999   19.200001   5139800   \n",
       "7/6/2010    20.000000   20.000000   15.830000   16.110001   6866900   \n",
       "...               ...         ...         ...         ...       ...   \n",
       "3/13/2017  244.820007  246.850006  242.779999  246.169998   3010700   \n",
       "3/14/2017  246.110001  258.119995  246.020004  258.000000   7575500   \n",
       "3/15/2017  257.000000  261.000000  254.270004  255.729996   4816600   \n",
       "3/16/2017  262.399994  265.750000  259.059998  262.049988   7100400   \n",
       "3/17/2017  264.000000  265.329987  261.200012  261.500000   6475900   \n",
       "\n",
       "            Adj Close  \n",
       "Date                   \n",
       "6/29/2010   23.889999  \n",
       "6/30/2010   23.830000  \n",
       "7/1/2010    21.959999  \n",
       "7/2/2010    19.200001  \n",
       "7/6/2010    16.110001  \n",
       "...               ...  \n",
       "3/13/2017  246.169998  \n",
       "3/14/2017  258.000000  \n",
       "3/15/2017  255.729996  \n",
       "3/16/2017  262.049988  \n",
       "3/17/2017  261.500000  \n",
       "\n",
       "[1692 rows x 6 columns]"
      ]
     },
     "execution_count": 2,
     "metadata": {},
     "output_type": "execute_result"
    }
   ],
   "source": [
    "stock =  pd.read_csv('https://raw.githubusercontent.com/benvictoria17/Finance/master/dataset/Tesla%20Stock%20Price/Tesla.csv%20-%20Tesla.csv.csv')\n",
    "stock.head()\n",
    "stock.set_index('Date', inplace=True)\n",
    "stock"
   ]
  },
  {
   "cell_type": "code",
   "execution_count": 3,
   "id": "38ded541",
   "metadata": {
    "execution": {
     "iopub.execute_input": "2022-03-07T00:04:01.249269Z",
     "iopub.status.busy": "2022-03-07T00:04:01.248524Z",
     "iopub.status.idle": "2022-03-07T00:04:01.275127Z",
     "shell.execute_reply": "2022-03-07T00:04:01.275632Z",
     "shell.execute_reply.started": "2022-03-06T23:58:37.275489Z"
    },
    "papermill": {
     "duration": 0.064612,
     "end_time": "2022-03-07T00:04:01.275811",
     "exception": false,
     "start_time": "2022-03-07T00:04:01.211199",
     "status": "completed"
    },
    "tags": []
   },
   "outputs": [
    {
     "data": {
      "text/html": [
       "<div>\n",
       "<style scoped>\n",
       "    .dataframe tbody tr th:only-of-type {\n",
       "        vertical-align: middle;\n",
       "    }\n",
       "\n",
       "    .dataframe tbody tr th {\n",
       "        vertical-align: top;\n",
       "    }\n",
       "\n",
       "    .dataframe thead th {\n",
       "        text-align: right;\n",
       "    }\n",
       "</style>\n",
       "<table border=\"1\" class=\"dataframe\">\n",
       "  <thead>\n",
       "    <tr style=\"text-align: right;\">\n",
       "      <th></th>\n",
       "      <th>Open</th>\n",
       "      <th>High</th>\n",
       "      <th>Low</th>\n",
       "      <th>Close</th>\n",
       "      <th>Volume</th>\n",
       "      <th>Adj Close</th>\n",
       "    </tr>\n",
       "  </thead>\n",
       "  <tbody>\n",
       "    <tr>\n",
       "      <th>count</th>\n",
       "      <td>1692.000000</td>\n",
       "      <td>1692.000000</td>\n",
       "      <td>1692.000000</td>\n",
       "      <td>1692.000000</td>\n",
       "      <td>1.692000e+03</td>\n",
       "      <td>1692.000000</td>\n",
       "    </tr>\n",
       "    <tr>\n",
       "      <th>mean</th>\n",
       "      <td>132.441572</td>\n",
       "      <td>134.769698</td>\n",
       "      <td>129.996223</td>\n",
       "      <td>132.428658</td>\n",
       "      <td>4.270741e+06</td>\n",
       "      <td>132.428658</td>\n",
       "    </tr>\n",
       "    <tr>\n",
       "      <th>std</th>\n",
       "      <td>94.309923</td>\n",
       "      <td>95.694914</td>\n",
       "      <td>92.855227</td>\n",
       "      <td>94.313187</td>\n",
       "      <td>4.295971e+06</td>\n",
       "      <td>94.313187</td>\n",
       "    </tr>\n",
       "    <tr>\n",
       "      <th>min</th>\n",
       "      <td>16.139999</td>\n",
       "      <td>16.629999</td>\n",
       "      <td>14.980000</td>\n",
       "      <td>15.800000</td>\n",
       "      <td>1.185000e+05</td>\n",
       "      <td>15.800000</td>\n",
       "    </tr>\n",
       "    <tr>\n",
       "      <th>25%</th>\n",
       "      <td>30.000000</td>\n",
       "      <td>30.650000</td>\n",
       "      <td>29.215000</td>\n",
       "      <td>29.884999</td>\n",
       "      <td>1.194350e+06</td>\n",
       "      <td>29.884999</td>\n",
       "    </tr>\n",
       "    <tr>\n",
       "      <th>50%</th>\n",
       "      <td>156.334999</td>\n",
       "      <td>162.370002</td>\n",
       "      <td>153.150002</td>\n",
       "      <td>158.160004</td>\n",
       "      <td>3.180700e+06</td>\n",
       "      <td>158.160004</td>\n",
       "    </tr>\n",
       "    <tr>\n",
       "      <th>75%</th>\n",
       "      <td>220.557495</td>\n",
       "      <td>224.099999</td>\n",
       "      <td>217.119999</td>\n",
       "      <td>220.022503</td>\n",
       "      <td>5.662100e+06</td>\n",
       "      <td>220.022503</td>\n",
       "    </tr>\n",
       "    <tr>\n",
       "      <th>max</th>\n",
       "      <td>287.670013</td>\n",
       "      <td>291.420013</td>\n",
       "      <td>280.399994</td>\n",
       "      <td>286.040009</td>\n",
       "      <td>3.716390e+07</td>\n",
       "      <td>286.040009</td>\n",
       "    </tr>\n",
       "  </tbody>\n",
       "</table>\n",
       "</div>"
      ],
      "text/plain": [
       "              Open         High          Low        Close        Volume  \\\n",
       "count  1692.000000  1692.000000  1692.000000  1692.000000  1.692000e+03   \n",
       "mean    132.441572   134.769698   129.996223   132.428658  4.270741e+06   \n",
       "std      94.309923    95.694914    92.855227    94.313187  4.295971e+06   \n",
       "min      16.139999    16.629999    14.980000    15.800000  1.185000e+05   \n",
       "25%      30.000000    30.650000    29.215000    29.884999  1.194350e+06   \n",
       "50%     156.334999   162.370002   153.150002   158.160004  3.180700e+06   \n",
       "75%     220.557495   224.099999   217.119999   220.022503  5.662100e+06   \n",
       "max     287.670013   291.420013   280.399994   286.040009  3.716390e+07   \n",
       "\n",
       "         Adj Close  \n",
       "count  1692.000000  \n",
       "mean    132.428658  \n",
       "std      94.313187  \n",
       "min      15.800000  \n",
       "25%      29.884999  \n",
       "50%     158.160004  \n",
       "75%     220.022503  \n",
       "max     286.040009  "
      ]
     },
     "execution_count": 3,
     "metadata": {},
     "output_type": "execute_result"
    }
   ],
   "source": [
    "stock.describe()"
   ]
  },
  {
   "cell_type": "code",
   "execution_count": 4,
   "id": "588ca58f",
   "metadata": {
    "execution": {
     "iopub.execute_input": "2022-03-07T00:04:01.338203Z",
     "iopub.status.busy": "2022-03-07T00:04:01.337580Z",
     "iopub.status.idle": "2022-03-07T00:04:01.551496Z",
     "shell.execute_reply": "2022-03-07T00:04:01.551975Z",
     "shell.execute_reply.started": "2022-03-06T23:58:44.909782Z"
    },
    "papermill": {
     "duration": 0.246572,
     "end_time": "2022-03-07T00:04:01.552140",
     "exception": false,
     "start_time": "2022-03-07T00:04:01.305568",
     "status": "completed"
    },
    "tags": []
   },
   "outputs": [
    {
     "name": "stderr",
     "output_type": "stream",
     "text": [
      "/opt/conda/lib/python3.7/site-packages/seaborn/_decorators.py:43: FutureWarning: Pass the following variable as a keyword arg: x. From version 0.12, the only valid positional argument will be `data`, and passing other arguments without an explicit keyword will result in an error or misinterpretation.\n",
      "  FutureWarning\n"
     ]
    },
    {
     "data": {
      "text/plain": [
       "<AxesSubplot:xlabel='Open'>"
      ]
     },
     "execution_count": 4,
     "metadata": {},
     "output_type": "execute_result"
    },
    {
     "data": {
      "image/png": "[encoded data removed]",
      "text/plain": [
       "<Figure size 432x288 with 1 Axes>"
      ]
     },
     "metadata": {},
     "output_type": "display_data"
    }
   ],
   "source": [
    "sns.boxplot(stock['Open'])"
   ]
  },
  {
   "cell_type": "code",
   "execution_count": 5,
   "id": "8621f629",
   "metadata": {
    "execution": {
     "iopub.execute_input": "2022-03-07T00:04:01.636860Z",
     "iopub.status.busy": "2022-03-07T00:04:01.621281Z",
     "iopub.status.idle": "2022-03-07T00:04:01.793393Z",
     "shell.execute_reply": "2022-03-07T00:04:01.792686Z",
     "shell.execute_reply.started": "2022-03-06T23:58:52.675618Z"
    },
    "papermill": {
     "duration": 0.209445,
     "end_time": "2022-03-07T00:04:01.793559",
     "exception": false,
     "start_time": "2022-03-07T00:04:01.584114",
     "status": "completed"
    },
    "tags": []
   },
   "outputs": [
    {
     "name": "stderr",
     "output_type": "stream",
     "text": [
      "/opt/conda/lib/python3.7/site-packages/seaborn/_decorators.py:43: FutureWarning: Pass the following variable as a keyword arg: x. From version 0.12, the only valid positional argument will be `data`, and passing other arguments without an explicit keyword will result in an error or misinterpretation.\n",
      "  FutureWarning\n"
     ]
    },
    {
     "data": {
      "text/plain": [
       "<AxesSubplot:xlabel='Close'>"
      ]
     },
     "execution_count": 5,
     "metadata": {},
     "output_type": "execute_result"
    },
    {
     "data": {
      "image/png": "[encoded data removed]",
      "text/plain": [
       "<Figure size 432x288 with 1 Axes>"
      ]
     },
     "metadata": {},
     "output_type": "display_data"
    }
   ],
   "source": [
    "sns.boxplot(stock['Close'])"
   ]
  },
  {
   "cell_type": "code",
   "execution_count": 6,
   "id": "a64e5b2d",
   "metadata": {
    "execution": {
     "iopub.execute_input": "2022-03-07T00:04:01.884982Z",
     "iopub.status.busy": "2022-03-07T00:04:01.878282Z",
     "iopub.status.idle": "2022-03-07T00:04:02.043144Z",
     "shell.execute_reply": "2022-03-07T00:04:02.042474Z",
     "shell.execute_reply.started": "2022-03-06T23:59:01.066898Z"
    },
    "papermill": {
     "duration": 0.21692,
     "end_time": "2022-03-07T00:04:02.043318",
     "exception": false,
     "start_time": "2022-03-07T00:04:01.826398",
     "status": "completed"
    },
    "tags": []
   },
   "outputs": [
    {
     "name": "stderr",
     "output_type": "stream",
     "text": [
      "/opt/conda/lib/python3.7/site-packages/seaborn/_decorators.py:43: FutureWarning: Pass the following variable as a keyword arg: x. From version 0.12, the only valid positional argument will be `data`, and passing other arguments without an explicit keyword will result in an error or misinterpretation.\n",
      "  FutureWarning\n"
     ]
    },
    {
     "data": {
      "text/plain": [
       "<AxesSubplot:xlabel='Low'>"
      ]
     },
     "execution_count": 6,
     "metadata": {},
     "output_type": "execute_result"
    },
    {
     "data": {
      "image/png": "[encoded data removed]",
      "text/plain": [
       "<Figure size 432x288 with 1 Axes>"
      ]
     },
     "metadata": {},
     "output_type": "display_data"
    }
   ],
   "source": [
    "sns.boxplot(stock['Low'])"
   ]
  },
  {
   "cell_type": "code",
   "execution_count": 7,
   "id": "a387a4e3",
   "metadata": {
    "execution": {
     "iopub.execute_input": "2022-03-07T00:04:02.132317Z",
     "iopub.status.busy": "2022-03-07T00:04:02.129886Z",
     "iopub.status.idle": "2022-03-07T00:04:02.343220Z",
     "shell.execute_reply": "2022-03-07T00:04:02.342592Z",
     "shell.execute_reply.started": "2022-03-06T23:59:11.278240Z"
    },
    "papermill": {
     "duration": 0.263475,
     "end_time": "2022-03-07T00:04:02.343406",
     "exception": false,
     "start_time": "2022-03-07T00:04:02.079931",
     "status": "completed"
    },
    "tags": []
   },
   "outputs": [
    {
     "name": "stderr",
     "output_type": "stream",
     "text": [
      "/opt/conda/lib/python3.7/site-packages/seaborn/_decorators.py:43: FutureWarning: Pass the following variable as a keyword arg: x. From version 0.12, the only valid positional argument will be `data`, and passing other arguments without an explicit keyword will result in an error or misinterpretation.\n",
      "  FutureWarning\n"
     ]
    },
    {
     "data": {
      "text/plain": [
       "<AxesSubplot:xlabel='High'>"
      ]
     },
     "execution_count": 7,
     "metadata": {},
     "output_type": "execute_result"
    },
    {
     "data": {
      "image/png": "[encoded data removed]",
      "text/plain": [
       "<Figure size 432x288 with 1 Axes>"
      ]
     },
     "metadata": {},
     "output_type": "display_data"
    }
   ],
   "source": [
    "sns.boxplot(stock['High'])"
   ]
  },
  {
   "cell_type": "code",
   "execution_count": 8,
   "id": "6b673cd0",
   "metadata": {
    "execution": {
     "iopub.execute_input": "2022-03-07T00:04:02.420815Z",
     "iopub.status.busy": "2022-03-07T00:04:02.420068Z",
     "iopub.status.idle": "2022-03-07T00:04:02.667074Z",
     "shell.execute_reply": "2022-03-07T00:04:02.666379Z",
     "shell.execute_reply.started": "2022-03-06T23:59:18.992765Z"
    },
    "papermill": {
     "duration": 0.28659,
     "end_time": "2022-03-07T00:04:02.667383",
     "exception": false,
     "start_time": "2022-03-07T00:04:02.380793",
     "status": "completed"
    },
    "tags": []
   },
   "outputs": [
    {
     "name": "stderr",
     "output_type": "stream",
     "text": [
      "/opt/conda/lib/python3.7/site-packages/seaborn/_decorators.py:43: FutureWarning: Pass the following variable as a keyword arg: x. From version 0.12, the only valid positional argument will be `data`, and passing other arguments without an explicit keyword will result in an error or misinterpretation.\n",
      "  FutureWarning\n"
     ]
    },
    {
     "data": {
      "text/plain": [
       "<AxesSubplot:xlabel='Volume'>"
      ]
     },
     "execution_count": 8,
     "metadata": {},
     "output_type": "execute_result"
    },
    {
     "data": {
      "image/png": "[encoded data removed]",
      "text/plain": [
       "<Figure size 432x288 with 1 Axes>"
      ]
     },
     "metadata": {},
     "output_type": "display_data"
    }
   ],
   "source": [
    "sns.boxplot(stock['Volume'])"
   ]
  },
  {
   "cell_type": "code",
   "execution_count": 9,
   "id": "f131ee69",
   "metadata": {
    "execution": {
     "iopub.execute_input": "2022-03-07T00:04:02.752325Z",
     "iopub.status.busy": "2022-03-07T00:04:02.751606Z",
     "iopub.status.idle": "2022-03-07T00:04:02.974227Z",
     "shell.execute_reply": "2022-03-07T00:04:02.973660Z",
     "shell.execute_reply.started": "2022-03-06T23:59:31.433810Z"
    },
    "papermill": {
     "duration": 0.268725,
     "end_time": "2022-03-07T00:04:02.974397",
     "exception": false,
     "start_time": "2022-03-07T00:04:02.705672",
     "status": "completed"
    },
    "tags": []
   },
   "outputs": [
    {
     "name": "stderr",
     "output_type": "stream",
     "text": [
      "/opt/conda/lib/python3.7/site-packages/seaborn/_decorators.py:43: FutureWarning: Pass the following variable as a keyword arg: x. From version 0.12, the only valid positional argument will be `data`, and passing other arguments without an explicit keyword will result in an error or misinterpretation.\n",
      "  FutureWarning\n"
     ]
    },
    {
     "data": {
      "text/plain": [
       "<AxesSubplot:xlabel='Open'>"
      ]
     },
     "execution_count": 9,
     "metadata": {},
     "output_type": "execute_result"
    },
    {
     "data": {
      "image/png": "[encoded data removed]",
      "text/plain": [
       "<Figure size 432x288 with 1 Axes>"
      ]
     },
     "metadata": {},
     "output_type": "display_data"
    }
   ],
   "source": [
    "r = stock['Volume'].quantile(0.90)\n",
    "stock_1 = stock[stock['Volume'] < r]\n",
    "r = stock_1['Open'].quantile(0.90)\n",
    "stock_2 = stock_1[stock_1['Open'] < r]\n",
    "sns.boxplot(stock_2['Open'])"
   ]
  },
  {
   "cell_type": "code",
   "execution_count": 10,
   "id": "2057dff9",
   "metadata": {
    "execution": {
     "iopub.execute_input": "2022-03-07T00:04:03.056326Z",
     "iopub.status.busy": "2022-03-07T00:04:03.055604Z",
     "iopub.status.idle": "2022-03-07T00:04:03.087823Z",
     "shell.execute_reply": "2022-03-07T00:04:03.088352Z",
     "shell.execute_reply.started": "2022-03-06T23:59:43.394813Z"
    },
    "papermill": {
     "duration": 0.075005,
     "end_time": "2022-03-07T00:04:03.088528",
     "exception": false,
     "start_time": "2022-03-07T00:04:03.013523",
     "status": "completed"
    },
    "tags": []
   },
   "outputs": [
    {
     "data": {
      "text/html": [
       "<div>\n",
       "<style scoped>\n",
       "    .dataframe tbody tr th:only-of-type {\n",
       "        vertical-align: middle;\n",
       "    }\n",
       "\n",
       "    .dataframe tbody tr th {\n",
       "        vertical-align: top;\n",
       "    }\n",
       "\n",
       "    .dataframe thead th {\n",
       "        text-align: right;\n",
       "    }\n",
       "</style>\n",
       "<table border=\"1\" class=\"dataframe\">\n",
       "  <thead>\n",
       "    <tr style=\"text-align: right;\">\n",
       "      <th></th>\n",
       "      <th>Open</th>\n",
       "      <th>High</th>\n",
       "      <th>Low</th>\n",
       "      <th>Close</th>\n",
       "      <th>Volume</th>\n",
       "      <th>Adj Close</th>\n",
       "    </tr>\n",
       "  </thead>\n",
       "  <tbody>\n",
       "    <tr>\n",
       "      <th>count</th>\n",
       "      <td>997.000000</td>\n",
       "      <td>997.000000</td>\n",
       "      <td>997.000000</td>\n",
       "      <td>997.000000</td>\n",
       "      <td>9.970000e+02</td>\n",
       "      <td>997.000000</td>\n",
       "    </tr>\n",
       "    <tr>\n",
       "      <th>mean</th>\n",
       "      <td>72.155366</td>\n",
       "      <td>73.484343</td>\n",
       "      <td>70.729308</td>\n",
       "      <td>72.164102</td>\n",
       "      <td>2.538884e+06</td>\n",
       "      <td>72.164102</td>\n",
       "    </tr>\n",
       "    <tr>\n",
       "      <th>std</th>\n",
       "      <td>69.990604</td>\n",
       "      <td>71.148049</td>\n",
       "      <td>68.761193</td>\n",
       "      <td>70.057977</td>\n",
       "      <td>2.297192e+06</td>\n",
       "      <td>70.057977</td>\n",
       "    </tr>\n",
       "    <tr>\n",
       "      <th>min</th>\n",
       "      <td>16.139999</td>\n",
       "      <td>16.629999</td>\n",
       "      <td>14.980000</td>\n",
       "      <td>15.800000</td>\n",
       "      <td>1.185000e+05</td>\n",
       "      <td>15.800000</td>\n",
       "    </tr>\n",
       "    <tr>\n",
       "      <th>25%</th>\n",
       "      <td>27.400000</td>\n",
       "      <td>27.940001</td>\n",
       "      <td>26.709999</td>\n",
       "      <td>27.340000</td>\n",
       "      <td>8.549000e+05</td>\n",
       "      <td>27.340000</td>\n",
       "    </tr>\n",
       "    <tr>\n",
       "      <th>50%</th>\n",
       "      <td>31.959999</td>\n",
       "      <td>32.490002</td>\n",
       "      <td>31.200001</td>\n",
       "      <td>31.930000</td>\n",
       "      <td>1.402700e+06</td>\n",
       "      <td>31.930000</td>\n",
       "    </tr>\n",
       "    <tr>\n",
       "      <th>75%</th>\n",
       "      <td>141.880005</td>\n",
       "      <td>144.350006</td>\n",
       "      <td>140.970001</td>\n",
       "      <td>142.000000</td>\n",
       "      <td>3.870100e+06</td>\n",
       "      <td>142.000000</td>\n",
       "    </tr>\n",
       "    <tr>\n",
       "      <th>max</th>\n",
       "      <td>216.820007</td>\n",
       "      <td>217.500000</td>\n",
       "      <td>203.850006</td>\n",
       "      <td>211.710007</td>\n",
       "      <td>9.061500e+06</td>\n",
       "      <td>211.710007</td>\n",
       "    </tr>\n",
       "  </tbody>\n",
       "</table>\n",
       "</div>"
      ],
      "text/plain": [
       "             Open        High         Low       Close        Volume  \\\n",
       "count  997.000000  997.000000  997.000000  997.000000  9.970000e+02   \n",
       "mean    72.155366   73.484343   70.729308   72.164102  2.538884e+06   \n",
       "std     69.990604   71.148049   68.761193   70.057977  2.297192e+06   \n",
       "min     16.139999   16.629999   14.980000   15.800000  1.185000e+05   \n",
       "25%     27.400000   27.940001   26.709999   27.340000  8.549000e+05   \n",
       "50%     31.959999   32.490002   31.200001   31.930000  1.402700e+06   \n",
       "75%    141.880005  144.350006  140.970001  142.000000  3.870100e+06   \n",
       "max    216.820007  217.500000  203.850006  211.710007  9.061500e+06   \n",
       "\n",
       "        Adj Close  \n",
       "count  997.000000  \n",
       "mean    72.164102  \n",
       "std     70.057977  \n",
       "min     15.800000  \n",
       "25%     27.340000  \n",
       "50%     31.930000  \n",
       "75%    142.000000  \n",
       "max    211.710007  "
      ]
     },
     "execution_count": 10,
     "metadata": {},
     "output_type": "execute_result"
    }
   ],
   "source": [
    "r = stock_2['Close'].quantile(0.90)\n",
    "stock_3 = stock_2[stock_2['Close'] < r]\n",
    "r = stock_3['High'].quantile(0.90)\n",
    "stock_4 = stock_3[stock_3['High'] < r]\n",
    "r = stock_4['Low'].quantile(0.90)\n",
    "stock_5 = stock_4[stock_4['Low'] < r]\n",
    "data_no_outliers = stock_5.reset_index(drop=True)\n",
    "data_no_outliers.describe()"
   ]
  },
  {
   "cell_type": "code",
   "execution_count": 11,
   "id": "ab6558e1",
   "metadata": {
    "execution": {
     "iopub.execute_input": "2022-03-07T00:04:03.171392Z",
     "iopub.status.busy": "2022-03-07T00:04:03.170683Z",
     "iopub.status.idle": "2022-03-07T00:04:03.666106Z",
     "shell.execute_reply": "2022-03-07T00:04:03.664990Z",
     "shell.execute_reply.started": "2022-03-06T23:59:56.868424Z"
    },
    "papermill": {
     "duration": 0.538104,
     "end_time": "2022-03-07T00:04:03.666282",
     "exception": false,
     "start_time": "2022-03-07T00:04:03.128178",
     "status": "completed"
    },
    "tags": []
   },
   "outputs": [
    {
     "data": {
      "image/png": "[encoded data removed]",
      "text/plain": [
       "<Figure size 1080x216 with 3 Axes>"
      ]
     },
     "metadata": {},
     "output_type": "display_data"
    }
   ],
   "source": [
    "g, (x1,x3,x4) = plt.subplots(1,3, sharey=True, figsize=(15,3))\n",
    "x1.scatter(data_no_outliers['Open'],data_no_outliers['Close'])\n",
    "x1.set_title('Open and Close')\n",
    "x3.scatter(data_no_outliers['High'],data_no_outliers['Close'])\n",
    "x3.set_title('High and Close')\n",
    "x4.scatter(data_no_outliers['Low'],data_no_outliers['Close'])\n",
    "x4.set_title('Low and Close')\n",
    "\n",
    "plt.show()"
   ]
  },
  {
   "cell_type": "code",
   "execution_count": 12,
   "id": "7a04a6eb",
   "metadata": {
    "execution": {
     "iopub.execute_input": "2022-03-07T00:04:03.755894Z",
     "iopub.status.busy": "2022-03-07T00:04:03.755001Z",
     "iopub.status.idle": "2022-03-07T00:04:03.883376Z",
     "shell.execute_reply": "2022-03-07T00:04:03.882832Z",
     "shell.execute_reply.started": "2022-03-07T00:00:13.794123Z"
    },
    "papermill": {
     "duration": 0.17512,
     "end_time": "2022-03-07T00:04:03.883529",
     "exception": false,
     "start_time": "2022-03-07T00:04:03.708409",
     "status": "completed"
    },
    "tags": []
   },
   "outputs": [
    {
     "data": {
      "text/html": [
       "<div>\n",
       "<style scoped>\n",
       "    .dataframe tbody tr th:only-of-type {\n",
       "        vertical-align: middle;\n",
       "    }\n",
       "\n",
       "    .dataframe tbody tr th {\n",
       "        vertical-align: top;\n",
       "    }\n",
       "\n",
       "    .dataframe thead th {\n",
       "        text-align: right;\n",
       "    }\n",
       "</style>\n",
       "<table border=\"1\" class=\"dataframe\">\n",
       "  <thead>\n",
       "    <tr style=\"text-align: right;\">\n",
       "      <th></th>\n",
       "      <th>vif</th>\n",
       "      <th>features</th>\n",
       "    </tr>\n",
       "  </thead>\n",
       "  <tbody>\n",
       "    <tr>\n",
       "      <th>0</th>\n",
       "      <td>6098.349096</td>\n",
       "      <td>Open</td>\n",
       "    </tr>\n",
       "    <tr>\n",
       "      <th>1</th>\n",
       "      <td>6164.765024</td>\n",
       "      <td>High</td>\n",
       "    </tr>\n",
       "    <tr>\n",
       "      <th>2</th>\n",
       "      <td>5095.915247</td>\n",
       "      <td>Low</td>\n",
       "    </tr>\n",
       "  </tbody>\n",
       "</table>\n",
       "</div>"
      ],
      "text/plain": [
       "           vif features\n",
       "0  6098.349096     Open\n",
       "1  6164.765024     High\n",
       "2  5095.915247      Low"
      ]
     },
     "execution_count": 12,
     "metadata": {},
     "output_type": "execute_result"
    }
   ],
   "source": [
    "from statsmodels.stats.outliers_influence import variance_inflation_factor\n",
    "variable = data_no_outliers[['Open','High','Low']]\n",
    "VIF = pd.DataFrame()\n",
    "VIF['vif'] = [variance_inflation_factor(variable.values, i) for i in range(variable.shape[1])]\n",
    "VIF['features'] = variable.columns.values\n",
    "VIF"
   ]
  },
  {
   "cell_type": "code",
   "execution_count": 13,
   "id": "1672d1d3",
   "metadata": {
    "execution": {
     "iopub.execute_input": "2022-03-07T00:04:03.983645Z",
     "iopub.status.busy": "2022-03-07T00:04:03.982751Z",
     "iopub.status.idle": "2022-03-07T00:04:03.986267Z",
     "shell.execute_reply": "2022-03-07T00:04:03.986770Z",
     "shell.execute_reply.started": "2022-03-07T00:00:21.841193Z"
    },
    "papermill": {
     "duration": 0.061826,
     "end_time": "2022-03-07T00:04:03.986938",
     "exception": false,
     "start_time": "2022-03-07T00:04:03.925112",
     "status": "completed"
    },
    "tags": []
   },
   "outputs": [
    {
     "data": {
      "text/html": [
       "<div>\n",
       "<style scoped>\n",
       "    .dataframe tbody tr th:only-of-type {\n",
       "        vertical-align: middle;\n",
       "    }\n",
       "\n",
       "    .dataframe tbody tr th {\n",
       "        vertical-align: top;\n",
       "    }\n",
       "\n",
       "    .dataframe thead th {\n",
       "        text-align: right;\n",
       "    }\n",
       "</style>\n",
       "<table border=\"1\" class=\"dataframe\">\n",
       "  <thead>\n",
       "    <tr style=\"text-align: right;\">\n",
       "      <th></th>\n",
       "      <th>Open</th>\n",
       "      <th>High</th>\n",
       "      <th>Low</th>\n",
       "      <th>Close</th>\n",
       "      <th>Volume</th>\n",
       "      <th>Adj Close</th>\n",
       "    </tr>\n",
       "  </thead>\n",
       "  <tbody>\n",
       "    <tr>\n",
       "      <th>0</th>\n",
       "      <td>25.000000</td>\n",
       "      <td>25.920000</td>\n",
       "      <td>20.270000</td>\n",
       "      <td>21.959999</td>\n",
       "      <td>8218800</td>\n",
       "      <td>21.959999</td>\n",
       "    </tr>\n",
       "    <tr>\n",
       "      <th>1</th>\n",
       "      <td>23.000000</td>\n",
       "      <td>23.100000</td>\n",
       "      <td>18.709999</td>\n",
       "      <td>19.200001</td>\n",
       "      <td>5139800</td>\n",
       "      <td>19.200001</td>\n",
       "    </tr>\n",
       "    <tr>\n",
       "      <th>2</th>\n",
       "      <td>20.000000</td>\n",
       "      <td>20.000000</td>\n",
       "      <td>15.830000</td>\n",
       "      <td>16.110001</td>\n",
       "      <td>6866900</td>\n",
       "      <td>16.110001</td>\n",
       "    </tr>\n",
       "    <tr>\n",
       "      <th>3</th>\n",
       "      <td>16.400000</td>\n",
       "      <td>16.629999</td>\n",
       "      <td>14.980000</td>\n",
       "      <td>15.800000</td>\n",
       "      <td>6921700</td>\n",
       "      <td>15.800000</td>\n",
       "    </tr>\n",
       "    <tr>\n",
       "      <th>4</th>\n",
       "      <td>16.139999</td>\n",
       "      <td>17.520000</td>\n",
       "      <td>15.570000</td>\n",
       "      <td>17.459999</td>\n",
       "      <td>7711400</td>\n",
       "      <td>17.459999</td>\n",
       "    </tr>\n",
       "    <tr>\n",
       "      <th>...</th>\n",
       "      <td>...</td>\n",
       "      <td>...</td>\n",
       "      <td>...</td>\n",
       "      <td>...</td>\n",
       "      <td>...</td>\n",
       "      <td>...</td>\n",
       "    </tr>\n",
       "    <tr>\n",
       "      <th>992</th>\n",
       "      <td>198.740005</td>\n",
       "      <td>203.000000</td>\n",
       "      <td>196.759995</td>\n",
       "      <td>198.690002</td>\n",
       "      <td>4150900</td>\n",
       "      <td>198.690002</td>\n",
       "    </tr>\n",
       "    <tr>\n",
       "      <th>993</th>\n",
       "      <td>198.410004</td>\n",
       "      <td>200.740005</td>\n",
       "      <td>197.389999</td>\n",
       "      <td>197.580002</td>\n",
       "      <td>3219600</td>\n",
       "      <td>197.580002</td>\n",
       "    </tr>\n",
       "    <tr>\n",
       "      <th>994</th>\n",
       "      <td>198.080002</td>\n",
       "      <td>202.589996</td>\n",
       "      <td>197.600006</td>\n",
       "      <td>202.490005</td>\n",
       "      <td>3796900</td>\n",
       "      <td>202.490005</td>\n",
       "    </tr>\n",
       "    <tr>\n",
       "      <th>995</th>\n",
       "      <td>202.490005</td>\n",
       "      <td>204.449997</td>\n",
       "      <td>199.839996</td>\n",
       "      <td>202.729996</td>\n",
       "      <td>3488100</td>\n",
       "      <td>202.729996</td>\n",
       "    </tr>\n",
       "    <tr>\n",
       "      <th>996</th>\n",
       "      <td>203.050003</td>\n",
       "      <td>209.000000</td>\n",
       "      <td>202.500000</td>\n",
       "      <td>208.789993</td>\n",
       "      <td>4689100</td>\n",
       "      <td>208.789993</td>\n",
       "    </tr>\n",
       "  </tbody>\n",
       "</table>\n",
       "<p>997 rows × 6 columns</p>\n",
       "</div>"
      ],
      "text/plain": [
       "           Open        High         Low       Close   Volume   Adj Close\n",
       "0     25.000000   25.920000   20.270000   21.959999  8218800   21.959999\n",
       "1     23.000000   23.100000   18.709999   19.200001  5139800   19.200001\n",
       "2     20.000000   20.000000   15.830000   16.110001  6866900   16.110001\n",
       "3     16.400000   16.629999   14.980000   15.800000  6921700   15.800000\n",
       "4     16.139999   17.520000   15.570000   17.459999  7711400   17.459999\n",
       "..          ...         ...         ...         ...      ...         ...\n",
       "992  198.740005  203.000000  196.759995  198.690002  4150900  198.690002\n",
       "993  198.410004  200.740005  197.389999  197.580002  3219600  197.580002\n",
       "994  198.080002  202.589996  197.600006  202.490005  3796900  202.490005\n",
       "995  202.490005  204.449997  199.839996  202.729996  3488100  202.729996\n",
       "996  203.050003  209.000000  202.500000  208.789993  4689100  208.789993\n",
       "\n",
       "[997 rows x 6 columns]"
      ]
     },
     "execution_count": 13,
     "metadata": {},
     "output_type": "execute_result"
    }
   ],
   "source": [
    "data_cleaned = data_no_outliers\n",
    "data_cleaned"
   ]
  },
  {
   "cell_type": "code",
   "execution_count": 14,
   "id": "453182c6",
   "metadata": {
    "execution": {
     "iopub.execute_input": "2022-03-07T00:04:04.083041Z",
     "iopub.status.busy": "2022-03-07T00:04:04.080350Z",
     "iopub.status.idle": "2022-03-07T00:04:04.095690Z",
     "shell.execute_reply": "2022-03-07T00:04:04.095122Z",
     "shell.execute_reply.started": "2022-03-07T00:00:29.642197Z"
    },
    "papermill": {
     "duration": 0.066775,
     "end_time": "2022-03-07T00:04:04.095833",
     "exception": false,
     "start_time": "2022-03-07T00:04:04.029058",
     "status": "completed"
    },
    "tags": []
   },
   "outputs": [
    {
     "data": {
      "text/html": [
       "<div>\n",
       "<style scoped>\n",
       "    .dataframe tbody tr th:only-of-type {\n",
       "        vertical-align: middle;\n",
       "    }\n",
       "\n",
       "    .dataframe tbody tr th {\n",
       "        vertical-align: top;\n",
       "    }\n",
       "\n",
       "    .dataframe thead th {\n",
       "        text-align: right;\n",
       "    }\n",
       "</style>\n",
       "<table border=\"1\" class=\"dataframe\">\n",
       "  <thead>\n",
       "    <tr style=\"text-align: right;\">\n",
       "      <th></th>\n",
       "      <th>Open</th>\n",
       "      <th>High</th>\n",
       "      <th>Low</th>\n",
       "      <th>Close</th>\n",
       "      <th>Volume</th>\n",
       "      <th>Adj Close</th>\n",
       "    </tr>\n",
       "  </thead>\n",
       "  <tbody>\n",
       "    <tr>\n",
       "      <th>0</th>\n",
       "      <td>-0.674077</td>\n",
       "      <td>-0.668862</td>\n",
       "      <td>-0.734202</td>\n",
       "      <td>-0.716968</td>\n",
       "      <td>2.473789</td>\n",
       "      <td>-0.716968</td>\n",
       "    </tr>\n",
       "    <tr>\n",
       "      <th>1</th>\n",
       "      <td>-0.702666</td>\n",
       "      <td>-0.708517</td>\n",
       "      <td>-0.756901</td>\n",
       "      <td>-0.756383</td>\n",
       "      <td>1.132784</td>\n",
       "      <td>-0.756383</td>\n",
       "    </tr>\n",
       "    <tr>\n",
       "      <th>2</th>\n",
       "      <td>-0.745551</td>\n",
       "      <td>-0.752110</td>\n",
       "      <td>-0.798806</td>\n",
       "      <td>-0.800512</td>\n",
       "      <td>1.884992</td>\n",
       "      <td>-0.800512</td>\n",
       "    </tr>\n",
       "    <tr>\n",
       "      <th>3</th>\n",
       "      <td>-0.797012</td>\n",
       "      <td>-0.799500</td>\n",
       "      <td>-0.811174</td>\n",
       "      <td>-0.804939</td>\n",
       "      <td>1.908859</td>\n",
       "      <td>-0.804939</td>\n",
       "    </tr>\n",
       "    <tr>\n",
       "      <th>4</th>\n",
       "      <td>-0.800729</td>\n",
       "      <td>-0.786985</td>\n",
       "      <td>-0.802589</td>\n",
       "      <td>-0.781232</td>\n",
       "      <td>2.252799</td>\n",
       "      <td>-0.781232</td>\n",
       "    </tr>\n",
       "    <tr>\n",
       "      <th>...</th>\n",
       "      <td>...</td>\n",
       "      <td>...</td>\n",
       "      <td>...</td>\n",
       "      <td>...</td>\n",
       "      <td>...</td>\n",
       "      <td>...</td>\n",
       "    </tr>\n",
       "    <tr>\n",
       "      <th>992</th>\n",
       "      <td>1.809502</td>\n",
       "      <td>1.821282</td>\n",
       "      <td>1.833795</td>\n",
       "      <td>1.806923</td>\n",
       "      <td>0.702085</td>\n",
       "      <td>1.806923</td>\n",
       "    </tr>\n",
       "    <tr>\n",
       "      <th>993</th>\n",
       "      <td>1.804785</td>\n",
       "      <td>1.789501</td>\n",
       "      <td>1.842962</td>\n",
       "      <td>1.791071</td>\n",
       "      <td>0.296474</td>\n",
       "      <td>1.791071</td>\n",
       "    </tr>\n",
       "    <tr>\n",
       "      <th>994</th>\n",
       "      <td>1.800068</td>\n",
       "      <td>1.815516</td>\n",
       "      <td>1.846018</td>\n",
       "      <td>1.861191</td>\n",
       "      <td>0.547907</td>\n",
       "      <td>1.861191</td>\n",
       "    </tr>\n",
       "    <tr>\n",
       "      <th>995</th>\n",
       "      <td>1.863108</td>\n",
       "      <td>1.841672</td>\n",
       "      <td>1.878610</td>\n",
       "      <td>1.864619</td>\n",
       "      <td>0.413414</td>\n",
       "      <td>1.864619</td>\n",
       "    </tr>\n",
       "    <tr>\n",
       "      <th>996</th>\n",
       "      <td>1.871113</td>\n",
       "      <td>1.905655</td>\n",
       "      <td>1.917314</td>\n",
       "      <td>1.951162</td>\n",
       "      <td>0.936489</td>\n",
       "      <td>1.951162</td>\n",
       "    </tr>\n",
       "  </tbody>\n",
       "</table>\n",
       "<p>997 rows × 6 columns</p>\n",
       "</div>"
      ],
      "text/plain": [
       "         Open      High       Low     Close    Volume  Adj Close\n",
       "0   -0.674077 -0.668862 -0.734202 -0.716968  2.473789  -0.716968\n",
       "1   -0.702666 -0.708517 -0.756901 -0.756383  1.132784  -0.756383\n",
       "2   -0.745551 -0.752110 -0.798806 -0.800512  1.884992  -0.800512\n",
       "3   -0.797012 -0.799500 -0.811174 -0.804939  1.908859  -0.804939\n",
       "4   -0.800729 -0.786985 -0.802589 -0.781232  2.252799  -0.781232\n",
       "..        ...       ...       ...       ...       ...        ...\n",
       "992  1.809502  1.821282  1.833795  1.806923  0.702085   1.806923\n",
       "993  1.804785  1.789501  1.842962  1.791071  0.296474   1.791071\n",
       "994  1.800068  1.815516  1.846018  1.861191  0.547907   1.861191\n",
       "995  1.863108  1.841672  1.878610  1.864619  0.413414   1.864619\n",
       "996  1.871113  1.905655  1.917314  1.951162  0.936489   1.951162\n",
       "\n",
       "[997 rows x 6 columns]"
      ]
     },
     "execution_count": 14,
     "metadata": {},
     "output_type": "execute_result"
    }
   ],
   "source": [
    "from sklearn.preprocessing import StandardScaler\n",
    "scaled = StandardScaler()\n",
    "scaled.fit(data_cleaned)\n",
    "scaled_data = scaled.transform(data_cleaned)\n",
    "scaled_data = pd.DataFrame(scaled_data,columns=data_cleaned.columns.values)\n",
    "scaled_data"
   ]
  },
  {
   "cell_type": "code",
   "execution_count": 15,
   "id": "cef88cab",
   "metadata": {
    "execution": {
     "iopub.execute_input": "2022-03-07T00:04:04.186523Z",
     "iopub.status.busy": "2022-03-07T00:04:04.185843Z",
     "iopub.status.idle": "2022-03-07T00:04:04.192468Z",
     "shell.execute_reply": "2022-03-07T00:04:04.192962Z",
     "shell.execute_reply.started": "2022-03-07T00:00:42.263516Z"
    },
    "papermill": {
     "duration": 0.055276,
     "end_time": "2022-03-07T00:04:04.193138",
     "exception": false,
     "start_time": "2022-03-07T00:04:04.137862",
     "status": "completed"
    },
    "tags": []
   },
   "outputs": [
    {
     "data": {
      "text/plain": [
       "((797, 4), (797,))"
      ]
     },
     "execution_count": 15,
     "metadata": {},
     "output_type": "execute_result"
    }
   ],
   "source": [
    "from sklearn.model_selection import train_test_split\n",
    "x = scaled_data[['Open','High','Low','Volume']]\n",
    "y = scaled_data['Close']\n",
    "x_train,x_test,y_train,y_test = train_test_split(x,y, test_size= 0.2,random_state=23)\n",
    "x_train.shape , y_train.shape"
   ]
  },
  {
   "cell_type": "code",
   "execution_count": 16,
   "id": "326867f6",
   "metadata": {
    "execution": {
     "iopub.execute_input": "2022-03-07T00:04:04.281519Z",
     "iopub.status.busy": "2022-03-07T00:04:04.280876Z",
     "iopub.status.idle": "2022-03-07T00:04:04.305886Z",
     "shell.execute_reply": "2022-03-07T00:04:04.305218Z",
     "shell.execute_reply.started": "2022-03-07T00:00:48.865709Z"
    },
    "papermill": {
     "duration": 0.070162,
     "end_time": "2022-03-07T00:04:04.306025",
     "exception": false,
     "start_time": "2022-03-07T00:04:04.235863",
     "status": "completed"
    },
    "tags": []
   },
   "outputs": [
    {
     "data": {
      "text/plain": [
       "LinearRegression()"
      ]
     },
     "execution_count": 16,
     "metadata": {},
     "output_type": "execute_result"
    }
   ],
   "source": [
    "from sklearn.linear_model import LinearRegression\n",
    "reg = LinearRegression()\n",
    "reg.fit(x_train,y_train)"
   ]
  },
  {
   "cell_type": "code",
   "execution_count": 17,
   "id": "ca938579",
   "metadata": {
    "execution": {
     "iopub.execute_input": "2022-03-07T00:04:04.399153Z",
     "iopub.status.busy": "2022-03-07T00:04:04.398339Z",
     "iopub.status.idle": "2022-03-07T00:04:04.401970Z",
     "shell.execute_reply": "2022-03-07T00:04:04.401373Z",
     "shell.execute_reply.started": "2022-03-07T00:00:54.060994Z"
    },
    "papermill": {
     "duration": 0.053052,
     "end_time": "2022-03-07T00:04:04.402106",
     "exception": false,
     "start_time": "2022-03-07T00:04:04.349054",
     "status": "completed"
    },
    "tags": []
   },
   "outputs": [
    {
     "data": {
      "text/plain": [
       "array([-0.64423193,  1.03481372,  0.61179904, -0.00328489])"
      ]
     },
     "execution_count": 17,
     "metadata": {},
     "output_type": "execute_result"
    }
   ],
   "source": [
    "reg.coef_"
   ]
  },
  {
   "cell_type": "code",
   "execution_count": 18,
   "id": "e064c374",
   "metadata": {
    "execution": {
     "iopub.execute_input": "2022-03-07T00:04:04.496824Z",
     "iopub.status.busy": "2022-03-07T00:04:04.495910Z",
     "iopub.status.idle": "2022-03-07T00:04:04.500201Z",
     "shell.execute_reply": "2022-03-07T00:04:04.499470Z",
     "shell.execute_reply.started": "2022-03-07T00:01:04.984046Z"
    },
    "papermill": {
     "duration": 0.054595,
     "end_time": "2022-03-07T00:04:04.500414",
     "exception": false,
     "start_time": "2022-03-07T00:04:04.445819",
     "status": "completed"
    },
    "tags": []
   },
   "outputs": [
    {
     "data": {
      "text/plain": [
       "0.0001289681464574314"
      ]
     },
     "execution_count": 18,
     "metadata": {},
     "output_type": "execute_result"
    }
   ],
   "source": [
    "reg.intercept_"
   ]
  },
  {
   "cell_type": "code",
   "execution_count": 19,
   "id": "c60d4fda",
   "metadata": {
    "execution": {
     "iopub.execute_input": "2022-03-07T00:04:04.607154Z",
     "iopub.status.busy": "2022-03-07T00:04:04.606153Z",
     "iopub.status.idle": "2022-03-07T00:04:04.611009Z",
     "shell.execute_reply": "2022-03-07T00:04:04.610483Z",
     "shell.execute_reply.started": "2022-03-07T00:01:10.167777Z"
    },
    "papermill": {
     "duration": 0.066464,
     "end_time": "2022-03-07T00:04:04.611144",
     "exception": false,
     "start_time": "2022-03-07T00:04:04.544680",
     "status": "completed"
    },
    "tags": []
   },
   "outputs": [
    {
     "data": {
      "text/plain": [
       "array([-0.60515172, -0.72965429, -0.54885741, -0.54225122,  1.06175676,\n",
       "       -0.47774421,  1.6584523 ,  1.097128  , -0.69318797, -0.58214203,\n",
       "       -0.55436813, -0.69109615, -0.69117212, -0.65014461, -0.70355702,\n",
       "       -0.69042943, -0.58038884, -0.73909449,  1.66417271, -0.81629005,\n",
       "       -0.66917141, -0.56523667, -0.58547938, -0.74653171, -0.64032409,\n",
       "       -0.72110713, -0.75124201,  1.74421483, -0.70597903, -0.49163912,\n",
       "       -0.68195734,  1.66728304,  1.69199404, -0.55623667, -0.53543044,\n",
       "        0.43029231, -0.60881902,  1.73268348, -0.62724995,  0.71802176,\n",
       "        1.89067713, -0.48865809, -0.59571184, -0.55736184,  1.82906773,\n",
       "       -0.6230081 , -0.71578845, -0.5792635 ,  1.02451138, -0.63000164,\n",
       "       -0.6081972 , -0.73387662, -0.68322262, -0.55863843,  1.30568521,\n",
       "       -0.66185255, -0.74716688, -0.63411133, -0.46556701, -0.32833852,\n",
       "       -0.568683  , -0.62666275, -0.53368925, -0.73697788,  1.86789853,\n",
       "       -0.61132799, -0.65146901, -0.5808056 , -0.48790855, -0.62998971,\n",
       "        0.52280314, -0.6383278 , -0.4815704 ,  1.01574359, -0.61811553,\n",
       "       -0.36223616, -0.62841779,  1.82635226, -0.59132326, -0.609077  ,\n",
       "       -0.65625543, -0.7292614 , -0.58130988, -0.61252916,  1.89398732,\n",
       "       -0.60106077,  0.21008347, -0.19403933,  1.47683978, -0.61685141,\n",
       "       -0.53666446, -0.58530162, -0.68753917, -0.67437471, -0.58974027,\n",
       "       -0.60098768, -0.61852229,  1.76701248, -0.47187552, -0.61006452,\n",
       "       -0.60828257, -0.48401043,  1.45882505, -0.58953782, -0.63367855,\n",
       "        1.77809687, -0.58246041, -0.52583499, -0.69590977, -0.73689492,\n",
       "        1.9087193 , -0.64719654, -0.49045073, -0.60100435,  1.77871527,\n",
       "       -0.6999217 ,  1.60128496, -0.65406766, -0.54430752, -0.49191997,\n",
       "       -0.71392292, -0.72372183, -0.70622107, -0.55642128, -0.63462415,\n",
       "        1.58242135,  1.93317772, -0.54405643, -0.73518853,  1.6492856 ,\n",
       "       -0.73030454,  1.97919404, -0.54616556, -0.55584203, -0.54505757,\n",
       "       -0.53860257, -0.65033649, -0.55805529, -0.7088633 ,  1.68633974,\n",
       "       -0.63813451, -0.62467154, -0.51685163, -0.66275572, -0.69144145,\n",
       "       -0.64087985, -0.73934914, -0.74816967,  0.45840862, -0.63901913,\n",
       "        1.85631939,  1.85195602, -0.59134168, -0.75897631, -0.7341388 ,\n",
       "       -0.62312907,  1.84436328,  1.6187732 , -0.4839391 , -0.62282947,\n",
       "       -0.64968397, -0.62089824, -0.57825749, -0.67934954,  1.54718003,\n",
       "        1.66672563,  0.41506567, -0.67450307,  1.04633293, -0.53826142,\n",
       "       -0.77334526, -0.61847485,  1.74043837, -0.69094023, -0.56306536,\n",
       "        1.80307469,  1.65106378, -0.54926695, -0.62834039,  1.8475458 ,\n",
       "       -0.68588748,  1.39903989, -0.52207768, -0.63984564,  0.50370537,\n",
       "        1.68459747, -0.64956121,  0.24638815, -0.4994205 ,  1.87790934,\n",
       "        1.84559653,  1.87456207,  1.87152659, -0.57253909, -0.74503743,\n",
       "        1.61394888,  1.89024458, -0.68070642, -0.62669179, -0.61252006,\n",
       "       -0.71706038, -0.66831522, -0.54198513, -0.40303594,  1.37823   ,\n",
       "       -0.58817432, -0.63716813, -0.68970264, -0.59877216, -0.55286998,\n",
       "        1.24288932,  1.55420845,  0.97585159, -0.68197168,  1.70078815,\n",
       "       -0.73277619, -0.69364637, -0.28770572,  1.88198817, -0.60949124,\n",
       "       -0.60909901, -0.53986973, -0.54923693, -0.73644797, -0.61613507,\n",
       "       -0.39231176, -0.58474567,  1.81029049, -0.32432796,  0.94160878,\n",
       "        1.31583475, -0.68667061,  1.73734995,  1.59723695, -0.64998601,\n",
       "        1.80093635, -0.61864315, -0.63545766,  1.89156407, -0.6979784 ,\n",
       "       -0.73949315,  1.71152754,  1.67662237,  1.85361695, -0.58111692,\n",
       "       -0.65218349, -0.63071806,  1.00388575,  1.55254922, -0.63244428,\n",
       "       -0.64474419, -0.73313841, -0.58131086,  0.66096502,  1.68025887,\n",
       "        1.87438468, -0.56030148, -0.46514331,  1.50144751,  0.42284902,\n",
       "       -0.53307299, -0.62324354, -0.62971876, -0.53275332, -0.71968141,\n",
       "       -0.44800675, -0.69166335, -0.62122114, -0.62424265, -0.60774221,\n",
       "       -0.55576172, -0.66650984, -0.57764626, -0.74480567,  1.56978447,\n",
       "       -0.6355643 , -0.62560243, -0.43572375,  1.86476626, -0.54837963,\n",
       "        0.98372492, -0.57738561, -0.61524674, -0.74221623, -0.58791283,\n",
       "       -0.73483932,  1.65295258, -0.73559443, -0.60975131, -0.7114282 ,\n",
       "       -0.66736855,  1.81025243,  0.65015479,  0.73821117,  1.81300985,\n",
       "        0.72784706, -0.49711441, -0.64148674, -0.62486186, -0.7319669 ,\n",
       "       -0.75343628, -0.73390997, -0.53424303, -0.60616036, -0.67942624,\n",
       "        1.80576268, -0.72868058, -0.53377359,  1.82756371,  1.31496986,\n",
       "       -0.49448885, -0.53051468, -0.53165619,  1.85914002, -0.49829799,\n",
       "        1.67145317, -0.72911359,  1.80919549, -0.56669008,  1.30002955,\n",
       "       -0.71236608, -0.47475255,  1.80207375,  1.34416744, -0.62420593,\n",
       "        1.86683876,  1.83606283, -0.64498285, -0.70304341, -0.60359079,\n",
       "       -0.52980076, -0.63512091, -0.62183772, -0.58090242, -0.60999619,\n",
       "       -0.62339635, -0.58305146, -0.74586879, -0.63429376,  1.59121778,\n",
       "        1.77661308, -0.61972024,  1.88984459, -0.43443225,  1.75697445,\n",
       "       -0.76002044, -0.64356269, -0.49132575, -0.65682146, -0.58742946,\n",
       "       -0.72105574, -0.24867072, -0.57067725, -0.58168769, -0.57613455,\n",
       "       -0.64789038, -0.70741046,  1.45244244, -0.62417684, -0.69596695,\n",
       "       -0.62946391, -0.69377488, -0.63626956,  1.88885217, -0.67573778,\n",
       "       -0.53054115, -0.63961549, -0.54363777, -0.56389729, -0.65347201,\n",
       "       -0.52782174, -0.65204795, -0.68489053, -0.70029412, -0.63003407,\n",
       "       -0.58979752,  1.02511259,  1.73351101,  1.70003598, -0.44518037,\n",
       "        1.35939307, -0.60765412,  1.78057377, -0.62808792,  1.9059338 ,\n",
       "       -0.22912751, -0.64589905, -0.61098814, -0.64570707,  1.60415874,\n",
       "       -0.70273589,  1.9203125 , -0.76132656, -0.57490798, -0.55875935,\n",
       "       -0.62093487, -0.57438664, -0.6232612 , -0.68214118,  1.82754599,\n",
       "       -0.6157425 , -0.62142817, -0.60620893, -0.63823427, -0.53727256,\n",
       "        0.34051279,  1.85136044, -0.65119335,  1.11315296, -0.59441371,\n",
       "        1.87515608, -0.65596758, -0.56450779, -0.58073273, -0.55772651,\n",
       "       -0.79059245, -0.41791898, -0.6138741 , -0.79275841,  1.72638201,\n",
       "       -0.59984869, -0.65073231,  1.5835995 , -0.5412979 , -0.63242987,\n",
       "        1.58303486, -0.77032739,  1.89845317, -0.7365417 , -0.55849977,\n",
       "       -0.53312192,  1.34621453, -0.70258528,  1.84668203, -0.75060174,\n",
       "       -0.68961508, -0.54975237, -0.54493572, -0.5701549 ,  1.08196673,\n",
       "        1.81577773, -0.70561236,  1.16594403, -0.63002073,  1.698485  ,\n",
       "       -0.55328074, -0.73664736, -0.61216154,  1.59577457, -0.55347071,\n",
       "       -0.73733684, -0.62199564, -0.61646304, -0.70411568, -0.54643772,\n",
       "       -0.63952165,  1.43061737, -0.53843575, -0.56593547,  1.65608425,\n",
       "       -0.57570966,  1.88578172, -0.6131294 , -0.66402513, -0.73956326,\n",
       "       -0.72044517, -0.66869712, -0.63278225,  1.76396607,  1.84678104,\n",
       "        1.82667924, -0.58535643, -0.59792985,  1.84824966, -0.62175736,\n",
       "       -0.63310616, -0.58665769, -0.64493789, -0.6200146 , -0.47294198,\n",
       "       -0.59621872, -0.65412036,  1.9366315 , -0.63508197,  1.83868509,\n",
       "        1.93151025, -0.67394179, -0.49371489, -0.54703824, -0.50092033,\n",
       "       -0.49882784, -0.73658849, -0.62500289,  1.32133237, -0.60043991,\n",
       "        1.89151797, -0.59107044, -0.57204744, -0.63782956,  1.68061121,\n",
       "       -0.58017733, -0.58594924, -0.63956343, -0.67649717, -0.55301021,\n",
       "        1.92554338, -0.67424321, -0.67710195,  1.52502539,  1.15055537,\n",
       "       -0.22707595, -0.54336512, -0.52888925,  1.91975114, -0.4902713 ,\n",
       "       -0.54365593, -0.62036907, -0.56664404,  1.3866342 , -0.60864905,\n",
       "       -0.69050173, -0.73226959, -0.57330063, -0.61423588, -0.63999167,\n",
       "       -0.5534777 , -0.64808784,  1.64448859, -0.67851031,  1.61297626,\n",
       "       -0.6385335 , -0.63195101, -0.71281871, -0.4691781 , -0.63431973,\n",
       "       -0.64234085,  1.88850212, -0.53848603, -0.59583595, -0.62958601,\n",
       "        1.72694391, -0.73786364, -0.53825943, -0.43091721,  1.37387766,\n",
       "       -0.63978125, -0.55763392, -0.61359308, -0.72237411, -0.58839123,\n",
       "       -0.6126539 , -0.6057046 , -0.61757501, -0.59213534, -0.59525334,\n",
       "        1.78582095, -0.56647268, -0.49823495, -0.54665204, -0.65157157,\n",
       "        0.3280976 , -0.6105309 , -0.52988739,  1.75639337, -0.68306804,\n",
       "        1.70947339, -0.57031027,  0.41572212,  1.71062201,  1.86635619,\n",
       "        1.58512668, -0.54046291, -0.52727874,  1.84093348,  1.52495069,\n",
       "        1.77393042, -0.54854229, -0.70749622,  1.71168995,  1.88760617,\n",
       "       -0.62946784,  1.57202311,  1.90061153, -0.47090352, -0.56852892,\n",
       "        1.787498  , -0.61687096, -0.56151257,  1.7025206 , -0.59085195,\n",
       "       -0.24868475,  1.75691269, -0.66297369, -0.60783337, -0.56795992,\n",
       "       -0.52313391, -0.65974397, -0.57876631,  1.06814299,  1.34173313,\n",
       "        1.75359614, -0.52851897,  1.32711108, -0.6461722 , -0.57119846,\n",
       "       -0.69693157, -0.73768522, -0.54603631,  1.58485172, -0.64251601,\n",
       "        1.73631539, -0.63110241, -0.64072795, -0.49285447,  0.87356347,\n",
       "        1.66365024,  1.07932209, -0.71265205, -0.72578765,  1.89999279,\n",
       "       -0.38760533, -0.73930069, -0.61828186, -0.56074971, -0.5845022 ,\n",
       "       -0.61430816, -0.65838907, -0.73388012, -0.61186028, -0.73419736,\n",
       "       -0.5294239 , -0.55790135, -0.53860147, -0.67370497, -0.68667307,\n",
       "       -0.69595323, -0.68384799, -0.66988112, -0.62371849, -0.69295953,\n",
       "        1.80882074,  1.69782078, -0.51687879,  1.72130962, -0.66110523,\n",
       "       -0.6448256 , -0.71999014, -0.68239349, -0.54252445, -0.66690821,\n",
       "        1.86261663, -0.61183206, -0.5555173 ,  1.28923329, -0.77299795,\n",
       "       -0.64233744,  1.86373053,  1.09550731,  0.92203618,  1.94138629,\n",
       "        0.32775889, -0.64129819, -0.49817028, -0.61728822, -0.64344829,\n",
       "        1.94995519, -0.57941562,  0.88571581, -0.60805193, -0.65926144,\n",
       "       -0.62922393, -0.72192555, -0.64740704,  1.70836908, -0.53506508,\n",
       "        1.67621646,  1.49153982,  1.97898087, -0.65605693,  1.86325481,\n",
       "       -0.54453803, -0.79682221,  1.88393627, -0.75198987,  1.507916  ,\n",
       "       -0.5351499 , -0.66493437, -0.67946324, -0.45035758,  1.43837489,\n",
       "        1.71988157, -0.59670333, -0.69870131,  1.68839988,  1.4995231 ,\n",
       "       -0.51688771, -0.62085444,  1.52362838,  1.74121384, -0.62591452,\n",
       "       -0.55608776, -0.63609674, -0.56507917,  1.90229247, -0.48909322,\n",
       "       -0.5690186 , -0.59158433, -0.65846422,  1.62934355, -0.69620167,\n",
       "       -0.73892429,  1.78351474, -0.67369437,  1.76677326, -0.51989524,\n",
       "       -0.63402668, -0.74366247,  0.25323154, -0.70315575, -0.63253979,\n",
       "       -0.62206802,  1.89495093, -0.65976155, -0.49888252,  1.86478535,\n",
       "       -0.62467776, -0.62296935, -0.54920098, -0.59529296,  1.85075233,\n",
       "       -0.68351083, -0.62807819, -0.5589181 , -0.7564678 , -0.59984088,\n",
       "        1.64861873, -0.71506716, -0.56341072,  1.79349034, -0.61746567,\n",
       "       -0.52605995, -0.61346046, -0.68888211, -0.62560738, -0.72662853,\n",
       "       -0.59238362, -0.76001918, -0.54506869, -0.66764466, -0.60877238,\n",
       "       -0.54379168, -0.37990394,  0.4774603 , -0.52584553, -0.62324034,\n",
       "       -0.72557031, -0.50695003,  1.71347739,  1.71078304, -0.63406898,\n",
       "       -0.62727887,  1.51084736, -0.63161622, -0.69328058, -0.55131548,\n",
       "       -0.57826196, -0.74315887,  1.86693274,  1.86284044, -0.57798789,\n",
       "       -0.69028364, -0.59858569, -0.60097134, -0.73809557, -0.63995782,\n",
       "       -0.26369232, -0.56221265, -0.29254022, -0.74187638, -0.65172493,\n",
       "       -0.52082949,  1.86937561, -0.78487614,  1.85824787, -0.54238903,\n",
       "       -0.57161209, -0.74505252, -0.53501261, -0.54400898, -0.6232153 ,\n",
       "       -0.76518547, -0.6018385 ,  1.79686936,  1.59458238, -0.7503966 ,\n",
       "        1.16881521, -0.58116266])"
      ]
     },
     "execution_count": 19,
     "metadata": {},
     "output_type": "execute_result"
    }
   ],
   "source": [
    "train_predict = reg.predict(x_train)\n",
    "train_predict"
   ]
  },
  {
   "cell_type": "code",
   "execution_count": 20,
   "id": "23727980",
   "metadata": {
    "execution": {
     "iopub.execute_input": "2022-03-07T00:04:04.713745Z",
     "iopub.status.busy": "2022-03-07T00:04:04.712779Z",
     "iopub.status.idle": "2022-03-07T00:04:04.716343Z",
     "shell.execute_reply": "2022-03-07T00:04:04.716850Z",
     "shell.execute_reply.started": "2022-03-07T00:01:31.641523Z"
    },
    "papermill": {
     "duration": 0.061149,
     "end_time": "2022-03-07T00:04:04.717022",
     "exception": false,
     "start_time": "2022-03-07T00:04:04.655873",
     "status": "completed"
    },
    "tags": []
   },
   "outputs": [
    {
     "data": {
      "text/html": [
       "<div>\n",
       "<style scoped>\n",
       "    .dataframe tbody tr th:only-of-type {\n",
       "        vertical-align: middle;\n",
       "    }\n",
       "\n",
       "    .dataframe tbody tr th {\n",
       "        vertical-align: top;\n",
       "    }\n",
       "\n",
       "    .dataframe thead th {\n",
       "        text-align: right;\n",
       "    }\n",
       "</style>\n",
       "<table border=\"1\" class=\"dataframe\">\n",
       "  <thead>\n",
       "    <tr style=\"text-align: right;\">\n",
       "      <th></th>\n",
       "      <th>Actual</th>\n",
       "      <th>prediction</th>\n",
       "    </tr>\n",
       "  </thead>\n",
       "  <tbody>\n",
       "    <tr>\n",
       "      <th>0</th>\n",
       "      <td>-0.600149</td>\n",
       "      <td>-0.605152</td>\n",
       "    </tr>\n",
       "    <tr>\n",
       "      <th>1</th>\n",
       "      <td>-0.729963</td>\n",
       "      <td>-0.729654</td>\n",
       "    </tr>\n",
       "    <tr>\n",
       "      <th>2</th>\n",
       "      <td>-0.543881</td>\n",
       "      <td>-0.548857</td>\n",
       "    </tr>\n",
       "    <tr>\n",
       "      <th>3</th>\n",
       "      <td>-0.545881</td>\n",
       "      <td>-0.542251</td>\n",
       "    </tr>\n",
       "    <tr>\n",
       "      <th>4</th>\n",
       "      <td>1.068736</td>\n",
       "      <td>1.061757</td>\n",
       "    </tr>\n",
       "    <tr>\n",
       "      <th>5</th>\n",
       "      <td>-0.480188</td>\n",
       "      <td>-0.477744</td>\n",
       "    </tr>\n",
       "    <tr>\n",
       "      <th>6</th>\n",
       "      <td>1.655259</td>\n",
       "      <td>1.658452</td>\n",
       "    </tr>\n",
       "    <tr>\n",
       "      <th>7</th>\n",
       "      <td>1.076305</td>\n",
       "      <td>1.097128</td>\n",
       "    </tr>\n",
       "    <tr>\n",
       "      <th>8</th>\n",
       "      <td>-0.686406</td>\n",
       "      <td>-0.693188</td>\n",
       "    </tr>\n",
       "    <tr>\n",
       "      <th>9</th>\n",
       "      <td>-0.575871</td>\n",
       "      <td>-0.582142</td>\n",
       "    </tr>\n",
       "    <tr>\n",
       "      <th>10</th>\n",
       "      <td>-0.556877</td>\n",
       "      <td>-0.554368</td>\n",
       "    </tr>\n",
       "    <tr>\n",
       "      <th>11</th>\n",
       "      <td>-0.684407</td>\n",
       "      <td>-0.691096</td>\n",
       "    </tr>\n",
       "    <tr>\n",
       "      <th>12</th>\n",
       "      <td>-0.691690</td>\n",
       "      <td>-0.691172</td>\n",
       "    </tr>\n",
       "    <tr>\n",
       "      <th>13</th>\n",
       "      <td>-0.661414</td>\n",
       "      <td>-0.650145</td>\n",
       "    </tr>\n",
       "    <tr>\n",
       "      <th>14</th>\n",
       "      <td>-0.704829</td>\n",
       "      <td>-0.703557</td>\n",
       "    </tr>\n",
       "    <tr>\n",
       "      <th>15</th>\n",
       "      <td>-0.686692</td>\n",
       "      <td>-0.690429</td>\n",
       "    </tr>\n",
       "    <tr>\n",
       "      <th>16</th>\n",
       "      <td>-0.587153</td>\n",
       "      <td>-0.580389</td>\n",
       "    </tr>\n",
       "    <tr>\n",
       "      <th>17</th>\n",
       "      <td>-0.737247</td>\n",
       "      <td>-0.739094</td>\n",
       "    </tr>\n",
       "    <tr>\n",
       "      <th>18</th>\n",
       "      <td>1.662685</td>\n",
       "      <td>1.664173</td>\n",
       "    </tr>\n",
       "    <tr>\n",
       "      <th>19</th>\n",
       "      <td>-0.804939</td>\n",
       "      <td>-0.816290</td>\n",
       "    </tr>\n",
       "  </tbody>\n",
       "</table>\n",
       "</div>"
      ],
      "text/plain": [
       "      Actual  prediction\n",
       "0  -0.600149   -0.605152\n",
       "1  -0.729963   -0.729654\n",
       "2  -0.543881   -0.548857\n",
       "3  -0.545881   -0.542251\n",
       "4   1.068736    1.061757\n",
       "5  -0.480188   -0.477744\n",
       "6   1.655259    1.658452\n",
       "7   1.076305    1.097128\n",
       "8  -0.686406   -0.693188\n",
       "9  -0.575871   -0.582142\n",
       "10 -0.556877   -0.554368\n",
       "11 -0.684407   -0.691096\n",
       "12 -0.691690   -0.691172\n",
       "13 -0.661414   -0.650145\n",
       "14 -0.704829   -0.703557\n",
       "15 -0.686692   -0.690429\n",
       "16 -0.587153   -0.580389\n",
       "17 -0.737247   -0.739094\n",
       "18  1.662685    1.664173\n",
       "19 -0.804939   -0.816290"
      ]
     },
     "execution_count": 20,
     "metadata": {},
     "output_type": "execute_result"
    }
   ],
   "source": [
    "predict_train_table = pd.DataFrame({\n",
    "    'Actual':y_train,'prediction': train_predict})\n",
    "predict_train_table=predict_train_table.reset_index(drop=True)\n",
    "predict_train_table.head(20)"
   ]
  },
  {
   "cell_type": "code",
   "execution_count": 21,
   "id": "c6ad336f",
   "metadata": {
    "execution": {
     "iopub.execute_input": "2022-03-07T00:04:04.814002Z",
     "iopub.status.busy": "2022-03-07T00:04:04.813313Z",
     "iopub.status.idle": "2022-03-07T00:04:05.406807Z",
     "shell.execute_reply": "2022-03-07T00:04:05.407324Z",
     "shell.execute_reply.started": "2022-03-07T00:01:42.751055Z"
    },
    "papermill": {
     "duration": 0.644584,
     "end_time": "2022-03-07T00:04:05.407500",
     "exception": false,
     "start_time": "2022-03-07T00:04:04.762916",
     "status": "completed"
    },
    "tags": []
   },
   "outputs": [
    {
     "data": {
      "text/plain": [
       "<AxesSubplot:>"
      ]
     },
     "execution_count": 21,
     "metadata": {},
     "output_type": "execute_result"
    },
    {
     "data": {
      "image/png": "[encoded data removed]",
      "text/plain": [
       "<Figure size 432x288 with 1 Axes>"
      ]
     },
     "metadata": {},
     "output_type": "display_data"
    }
   ],
   "source": [
    "show_graph_train = np.exp(predict_train_table.head(20))\n",
    "show_graph_train.plot(kind='bar')"
   ]
  },
  {
   "cell_type": "code",
   "execution_count": 22,
   "id": "806932d7",
   "metadata": {
    "execution": {
     "iopub.execute_input": "2022-03-07T00:04:05.503610Z",
     "iopub.status.busy": "2022-03-07T00:04:05.502943Z",
     "iopub.status.idle": "2022-03-07T00:04:05.516900Z",
     "shell.execute_reply": "2022-03-07T00:04:05.517400Z",
     "shell.execute_reply.started": "2022-03-07T00:01:56.256448Z"
    },
    "papermill": {
     "duration": 0.063569,
     "end_time": "2022-03-07T00:04:05.517583",
     "exception": false,
     "start_time": "2022-03-07T00:04:05.454014",
     "status": "completed"
    },
    "tags": []
   },
   "outputs": [
    {
     "data": {
      "text/html": [
       "<div>\n",
       "<style scoped>\n",
       "    .dataframe tbody tr th:only-of-type {\n",
       "        vertical-align: middle;\n",
       "    }\n",
       "\n",
       "    .dataframe tbody tr th {\n",
       "        vertical-align: top;\n",
       "    }\n",
       "\n",
       "    .dataframe thead th {\n",
       "        text-align: right;\n",
       "    }\n",
       "</style>\n",
       "<table border=\"1\" class=\"dataframe\">\n",
       "  <thead>\n",
       "    <tr style=\"text-align: right;\">\n",
       "      <th></th>\n",
       "      <th>Actual</th>\n",
       "      <th>Prediction</th>\n",
       "    </tr>\n",
       "  </thead>\n",
       "  <tbody>\n",
       "    <tr>\n",
       "      <th>0</th>\n",
       "      <td>1.877043</td>\n",
       "      <td>1.912844</td>\n",
       "    </tr>\n",
       "    <tr>\n",
       "      <th>1</th>\n",
       "      <td>1.500166</td>\n",
       "      <td>1.529032</td>\n",
       "    </tr>\n",
       "    <tr>\n",
       "      <th>2</th>\n",
       "      <td>-0.638565</td>\n",
       "      <td>-0.640574</td>\n",
       "    </tr>\n",
       "    <tr>\n",
       "      <th>3</th>\n",
       "      <td>1.807066</td>\n",
       "      <td>1.756114</td>\n",
       "    </tr>\n",
       "    <tr>\n",
       "      <th>4</th>\n",
       "      <td>-0.245978</td>\n",
       "      <td>-0.256596</td>\n",
       "    </tr>\n",
       "    <tr>\n",
       "      <th>5</th>\n",
       "      <td>-0.625426</td>\n",
       "      <td>-0.625354</td>\n",
       "    </tr>\n",
       "    <tr>\n",
       "      <th>6</th>\n",
       "      <td>-0.542453</td>\n",
       "      <td>-0.550536</td>\n",
       "    </tr>\n",
       "    <tr>\n",
       "      <th>7</th>\n",
       "      <td>-0.677409</td>\n",
       "      <td>-0.680598</td>\n",
       "    </tr>\n",
       "    <tr>\n",
       "      <th>8</th>\n",
       "      <td>-0.654845</td>\n",
       "      <td>-0.647214</td>\n",
       "    </tr>\n",
       "    <tr>\n",
       "      <th>9</th>\n",
       "      <td>-0.662842</td>\n",
       "      <td>-0.663703</td>\n",
       "    </tr>\n",
       "    <tr>\n",
       "      <th>10</th>\n",
       "      <td>-0.619714</td>\n",
       "      <td>-0.623563</td>\n",
       "    </tr>\n",
       "    <tr>\n",
       "      <th>11</th>\n",
       "      <td>-0.687549</td>\n",
       "      <td>-0.686455</td>\n",
       "    </tr>\n",
       "    <tr>\n",
       "      <th>12</th>\n",
       "      <td>-0.630282</td>\n",
       "      <td>-0.632413</td>\n",
       "    </tr>\n",
       "    <tr>\n",
       "      <th>13</th>\n",
       "      <td>-0.590723</td>\n",
       "      <td>-0.564405</td>\n",
       "    </tr>\n",
       "    <tr>\n",
       "      <th>14</th>\n",
       "      <td>1.611701</td>\n",
       "      <td>1.661467</td>\n",
       "    </tr>\n",
       "    <tr>\n",
       "      <th>15</th>\n",
       "      <td>-0.653703</td>\n",
       "      <td>-0.657582</td>\n",
       "    </tr>\n",
       "    <tr>\n",
       "      <th>16</th>\n",
       "      <td>-0.635851</td>\n",
       "      <td>-0.630045</td>\n",
       "    </tr>\n",
       "    <tr>\n",
       "      <th>17</th>\n",
       "      <td>-0.546023</td>\n",
       "      <td>-0.543203</td>\n",
       "    </tr>\n",
       "    <tr>\n",
       "      <th>18</th>\n",
       "      <td>-0.632709</td>\n",
       "      <td>-0.631098</td>\n",
       "    </tr>\n",
       "    <tr>\n",
       "      <th>19</th>\n",
       "      <td>-0.634852</td>\n",
       "      <td>-0.629393</td>\n",
       "    </tr>\n",
       "    <tr>\n",
       "      <th>20</th>\n",
       "      <td>-0.302103</td>\n",
       "      <td>-0.284661</td>\n",
       "    </tr>\n",
       "    <tr>\n",
       "      <th>21</th>\n",
       "      <td>-0.632138</td>\n",
       "      <td>-0.636976</td>\n",
       "    </tr>\n",
       "    <tr>\n",
       "      <th>22</th>\n",
       "      <td>-0.517033</td>\n",
       "      <td>-0.523618</td>\n",
       "    </tr>\n",
       "    <tr>\n",
       "      <th>23</th>\n",
       "      <td>-0.652988</td>\n",
       "      <td>-0.650672</td>\n",
       "    </tr>\n",
       "    <tr>\n",
       "      <th>24</th>\n",
       "      <td>1.695674</td>\n",
       "      <td>1.676982</td>\n",
       "    </tr>\n",
       "  </tbody>\n",
       "</table>\n",
       "</div>"
      ],
      "text/plain": [
       "      Actual  Prediction\n",
       "0   1.877043    1.912844\n",
       "1   1.500166    1.529032\n",
       "2  -0.638565   -0.640574\n",
       "3   1.807066    1.756114\n",
       "4  -0.245978   -0.256596\n",
       "5  -0.625426   -0.625354\n",
       "6  -0.542453   -0.550536\n",
       "7  -0.677409   -0.680598\n",
       "8  -0.654845   -0.647214\n",
       "9  -0.662842   -0.663703\n",
       "10 -0.619714   -0.623563\n",
       "11 -0.687549   -0.686455\n",
       "12 -0.630282   -0.632413\n",
       "13 -0.590723   -0.564405\n",
       "14  1.611701    1.661467\n",
       "15 -0.653703   -0.657582\n",
       "16 -0.635851   -0.630045\n",
       "17 -0.546023   -0.543203\n",
       "18 -0.632709   -0.631098\n",
       "19 -0.634852   -0.629393\n",
       "20 -0.302103   -0.284661\n",
       "21 -0.632138   -0.636976\n",
       "22 -0.517033   -0.523618\n",
       "23 -0.652988   -0.650672\n",
       "24  1.695674    1.676982"
      ]
     },
     "execution_count": 22,
     "metadata": {},
     "output_type": "execute_result"
    }
   ],
   "source": [
    "predict_test = reg.predict(x_test)\n",
    "predict_test_table = pd.DataFrame({'Actual': y_test,'Prediction': predict_test\n",
    "})\n",
    "predict_test_table =predict_test_table.reset_index(drop=True)\n",
    "predict_test_table.head(25)"
   ]
  },
  {
   "cell_type": "code",
   "execution_count": 23,
   "id": "ab9f92c4",
   "metadata": {
    "execution": {
     "iopub.execute_input": "2022-03-07T00:04:05.615222Z",
     "iopub.status.busy": "2022-03-07T00:04:05.614514Z",
     "iopub.status.idle": "2022-03-07T00:04:05.620013Z",
     "shell.execute_reply": "2022-03-07T00:04:05.620475Z",
     "shell.execute_reply.started": "2022-03-07T00:02:06.372573Z"
    },
    "papermill": {
     "duration": 0.055931,
     "end_time": "2022-03-07T00:04:05.620658",
     "exception": false,
     "start_time": "2022-03-07T00:04:05.564727",
     "status": "completed"
    },
    "tags": []
   },
   "outputs": [
    {
     "data": {
      "text/plain": [
       "0.009796321429785154"
      ]
     },
     "execution_count": 23,
     "metadata": {},
     "output_type": "execute_result"
    }
   ],
   "source": [
    "from sklearn.metrics import mean_absolute_error \n",
    "mean_absolute_error(y_test,predict_test)"
   ]
  },
  {
   "cell_type": "code",
   "execution_count": 24,
   "id": "b45222f0",
   "metadata": {
    "execution": {
     "iopub.execute_input": "2022-03-07T00:04:05.719501Z",
     "iopub.status.busy": "2022-03-07T00:04:05.718810Z",
     "iopub.status.idle": "2022-03-07T00:04:05.724561Z",
     "shell.execute_reply": "2022-03-07T00:04:05.725199Z",
     "shell.execute_reply.started": "2022-03-07T00:02:12.789630Z"
    },
    "papermill": {
     "duration": 0.057016,
     "end_time": "2022-03-07T00:04:05.725424",
     "exception": false,
     "start_time": "2022-03-07T00:04:05.668408",
     "status": "completed"
    },
    "tags": []
   },
   "outputs": [
    {
     "name": "stdout",
     "output_type": "stream",
     "text": [
      "Mean_abolute_error is    0.009796321429785154\n"
     ]
    }
   ],
   "source": [
    "print('Mean_abolute_error is' , str(mean_absolute_error(y_test,predict_test)),sep=\"    \")"
   ]
  },
  {
   "cell_type": "code",
   "execution_count": 25,
   "id": "e7ff363c",
   "metadata": {
    "execution": {
     "iopub.execute_input": "2022-03-07T00:04:05.830973Z",
     "iopub.status.busy": "2022-03-07T00:04:05.830266Z",
     "iopub.status.idle": "2022-03-07T00:04:05.836058Z",
     "shell.execute_reply": "2022-03-07T00:04:05.836673Z",
     "shell.execute_reply.started": "2022-03-07T00:02:20.729661Z"
    },
    "papermill": {
     "duration": 0.062546,
     "end_time": "2022-03-07T00:04:05.836843",
     "exception": false,
     "start_time": "2022-03-07T00:04:05.774297",
     "status": "completed"
    },
    "tags": []
   },
   "outputs": [
    {
     "data": {
      "text/plain": [
       "0.009796321429785154"
      ]
     },
     "execution_count": 25,
     "metadata": {},
     "output_type": "execute_result"
    }
   ],
   "source": [
    "from sklearn import metrics\n",
    "import math\n",
    "metrics.mean_absolute_error(y_test,predict_test)"
   ]
  },
  {
   "cell_type": "code",
   "execution_count": 26,
   "id": "a14448de",
   "metadata": {
    "execution": {
     "iopub.execute_input": "2022-03-07T00:04:05.942898Z",
     "iopub.status.busy": "2022-03-07T00:04:05.941546Z",
     "iopub.status.idle": "2022-03-07T00:04:05.945454Z",
     "shell.execute_reply": "2022-03-07T00:04:05.946168Z",
     "shell.execute_reply.started": "2022-03-07T00:02:26.753856Z"
    },
    "papermill": {
     "duration": 0.059043,
     "end_time": "2022-03-07T00:04:05.946397",
     "exception": false,
     "start_time": "2022-03-07T00:04:05.887354",
     "status": "completed"
    },
    "tags": []
   },
   "outputs": [
    {
     "data": {
      "text/plain": [
       "0.0003190722526169304"
      ]
     },
     "execution_count": 26,
     "metadata": {},
     "output_type": "execute_result"
    }
   ],
   "source": [
    "metrics.mean_squared_error(y_test,predict_test)"
   ]
  },
  {
   "cell_type": "code",
   "execution_count": 27,
   "id": "67e1fa5c",
   "metadata": {
    "execution": {
     "iopub.execute_input": "2022-03-07T00:04:06.047727Z",
     "iopub.status.busy": "2022-03-07T00:04:06.047072Z",
     "iopub.status.idle": "2022-03-07T00:04:06.052884Z",
     "shell.execute_reply": "2022-03-07T00:04:06.053438Z",
     "shell.execute_reply.started": "2022-03-07T00:02:32.206035Z"
    },
    "papermill": {
     "duration": 0.057915,
     "end_time": "2022-03-07T00:04:06.053652",
     "exception": false,
     "start_time": "2022-03-07T00:04:05.995737",
     "status": "completed"
    },
    "tags": []
   },
   "outputs": [
    {
     "data": {
      "text/plain": [
       "0.0178625936699274"
      ]
     },
     "execution_count": 27,
     "metadata": {},
     "output_type": "execute_result"
    }
   ],
   "source": [
    "math.sqrt(metrics.mean_squared_error(y_test,predict_test))"
   ]
  },
  {
   "cell_type": "code",
   "execution_count": 28,
   "id": "bd0c338b",
   "metadata": {
    "execution": {
     "iopub.execute_input": "2022-03-07T00:04:06.156086Z",
     "iopub.status.busy": "2022-03-07T00:04:06.155441Z",
     "iopub.status.idle": "2022-03-07T00:04:06.611697Z",
     "shell.execute_reply": "2022-03-07T00:04:06.612535Z",
     "shell.execute_reply.started": "2022-03-07T00:02:43.430160Z"
    },
    "papermill": {
     "duration": 0.50962,
     "end_time": "2022-03-07T00:04:06.612790",
     "exception": false,
     "start_time": "2022-03-07T00:04:06.103170",
     "status": "completed"
    },
    "tags": []
   },
   "outputs": [
    {
     "data": {
      "image/png": "[encoded data removed]",
      "text/plain": [
       "<Figure size 432x288 with 1 Axes>"
      ]
     },
     "metadata": {},
     "output_type": "display_data"
    }
   ],
   "source": [
    "show_graph = np.exp(predict_test_table.head(20))\n",
    "show_graph.plot(kind='bar')\n",
    "plt.show()"
   ]
  }
 ],
 "metadata": {
  "kernelspec": {
   "display_name": "Python 3",
   "language": "python",
   "name": "python3"
  },
  "language_info": {
   "codemirror_mode": {
    "name": "ipython",
    "version": 3
   },
   "file_extension": ".py",
   "mimetype": "text/x-python",
   "name": "python",
   "nbconvert_exporter": "python",
   "pygments_lexer": "ipython3",
   "version": "3.7.12"
  },
  "papermill": {
   "default_parameters": {},
   "duration": 18.450525,
   "end_time": "2022-03-07T00:04:07.484616",
   "environment_variables": {},
   "exception": null,
   "input_path": "__notebook__.ipynb",
   "output_path": "__notebook__.ipynb",
   "parameters": {},
   "start_time": "2022-03-07T00:03:49.034091",
   "version": "2.3.3"
  }
 },
 "nbformat": 4,
 "nbformat_minor": 5
}
