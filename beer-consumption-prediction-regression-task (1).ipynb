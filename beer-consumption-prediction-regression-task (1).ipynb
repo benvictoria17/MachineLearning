{
  "cells":[
    {
      "cell_type":"code",
      "source":[
        "import numpy as np\n",
        "import pandas as pd\n",
        "\n",
        "import re\n",
        "from sklearn.preprocessing import StandardScaler\n",
        "from sklearn.model_selection import train_test_split\n",
        "\n",
        "from sklearn.linear_model import LinearRegression, Ridge, Lasso, ElasticNet, SGDRegressor, HuberRegressor"
      ],
      "execution_count":1,
      "outputs":[
        
      ],
      "metadata":{
        
      }
    },
    {
      "cell_type":"code",
      "source":[
        "data = pd.read_csv('https:\/\/raw.githubusercontent.com\/benvictoria21\/MachineLearning\/master\/dataset\/Consumo_cerveja.csv')"
      ],
      "execution_count":2,
      "outputs":[
        
      ],
      "metadata":{
        
      }
    },
    {
      "cell_type":"code",
      "source":[
        "data"
      ],
      "execution_count":3,
      "outputs":[
        {
          "data":{
            "text\/html":[
              "<div>\n",
              "<style scoped>\n",
              "    .dataframe tbody tr th:only-of-type {\n",
              "        vertical-align: middle;\n",
              "    }\n",
              "\n",
              "    .dataframe tbody tr th {\n",
              "        vertical-align: top;\n",
              "    }\n",
              "\n",
              "    .dataframe thead th {\n",
              "        text-align: right;\n",
              "    }\n",
              "<\/style>\n",
              "<table border=\"1\" class=\"dataframe\">\n",
              "  <thead>\n",
              "    <tr style=\"text-align: right;\">\n",
              "      <th><\/th>\n",
              "      <th>Data<\/th>\n",
              "      <th>Temperatura Media (C)<\/th>\n",
              "      <th>Temperatura Minima (C)<\/th>\n",
              "      <th>Temperatura Maxima (C)<\/th>\n",
              "      <th>Precipitacao (mm)<\/th>\n",
              "      <th>Final de Semana<\/th>\n",
              "      <th>Consumo de cerveja (litros)<\/th>\n",
              "    <\/tr>\n",
              "  <\/thead>\n",
              "  <tbody>\n",
              "    <tr>\n",
              "      <th>0<\/th>\n",
              "      <td>2015-01-01<\/td>\n",
              "      <td>27,3<\/td>\n",
              "      <td>23,9<\/td>\n",
              "      <td>32,5<\/td>\n",
              "      <td>0<\/td>\n",
              "      <td>0.0<\/td>\n",
              "      <td>25.461<\/td>\n",
              "    <\/tr>\n",
              "    <tr>\n",
              "      <th>1<\/th>\n",
              "      <td>2015-01-02<\/td>\n",
              "      <td>27,02<\/td>\n",
              "      <td>24,5<\/td>\n",
              "      <td>33,5<\/td>\n",
              "      <td>0<\/td>\n",
              "      <td>0.0<\/td>\n",
              "      <td>28.972<\/td>\n",
              "    <\/tr>\n",
              "    <tr>\n",
              "      <th>2<\/th>\n",
              "      <td>2015-01-03<\/td>\n",
              "      <td>24,82<\/td>\n",
              "      <td>22,4<\/td>\n",
              "      <td>29,9<\/td>\n",
              "      <td>0<\/td>\n",
              "      <td>1.0<\/td>\n",
              "      <td>30.814<\/td>\n",
              "    <\/tr>\n",
              "    <tr>\n",
              "      <th>3<\/th>\n",
              "      <td>2015-01-04<\/td>\n",
              "      <td>23,98<\/td>\n",
              "      <td>21,5<\/td>\n",
              "      <td>28,6<\/td>\n",
              "      <td>1,2<\/td>\n",
              "      <td>1.0<\/td>\n",
              "      <td>29.799<\/td>\n",
              "    <\/tr>\n",
              "    <tr>\n",
              "      <th>4<\/th>\n",
              "      <td>2015-01-05<\/td>\n",
              "      <td>23,82<\/td>\n",
              "      <td>21<\/td>\n",
              "      <td>28,3<\/td>\n",
              "      <td>0<\/td>\n",
              "      <td>0.0<\/td>\n",
              "      <td>28.900<\/td>\n",
              "    <\/tr>\n",
              "    <tr>\n",
              "      <th>...<\/th>\n",
              "      <td>...<\/td>\n",
              "      <td>...<\/td>\n",
              "      <td>...<\/td>\n",
              "      <td>...<\/td>\n",
              "      <td>...<\/td>\n",
              "      <td>...<\/td>\n",
              "      <td>...<\/td>\n",
              "    <\/tr>\n",
              "    <tr>\n",
              "      <th>936<\/th>\n",
              "      <td>NaN<\/td>\n",
              "      <td>NaN<\/td>\n",
              "      <td>NaN<\/td>\n",
              "      <td>NaN<\/td>\n",
              "      <td>NaN<\/td>\n",
              "      <td>NaN<\/td>\n",
              "      <td>NaN<\/td>\n",
              "    <\/tr>\n",
              "    <tr>\n",
              "      <th>937<\/th>\n",
              "      <td>NaN<\/td>\n",
              "      <td>NaN<\/td>\n",
              "      <td>NaN<\/td>\n",
              "      <td>NaN<\/td>\n",
              "      <td>NaN<\/td>\n",
              "      <td>NaN<\/td>\n",
              "      <td>NaN<\/td>\n",
              "    <\/tr>\n",
              "    <tr>\n",
              "      <th>938<\/th>\n",
              "      <td>NaN<\/td>\n",
              "      <td>NaN<\/td>\n",
              "      <td>NaN<\/td>\n",
              "      <td>NaN<\/td>\n",
              "      <td>NaN<\/td>\n",
              "      <td>NaN<\/td>\n",
              "      <td>NaN<\/td>\n",
              "    <\/tr>\n",
              "    <tr>\n",
              "      <th>939<\/th>\n",
              "      <td>NaN<\/td>\n",
              "      <td>NaN<\/td>\n",
              "      <td>NaN<\/td>\n",
              "      <td>NaN<\/td>\n",
              "      <td>NaN<\/td>\n",
              "      <td>NaN<\/td>\n",
              "      <td>NaN<\/td>\n",
              "    <\/tr>\n",
              "    <tr>\n",
              "      <th>940<\/th>\n",
              "      <td>NaN<\/td>\n",
              "      <td>NaN<\/td>\n",
              "      <td>NaN<\/td>\n",
              "      <td>NaN<\/td>\n",
              "      <td>NaN<\/td>\n",
              "      <td>NaN<\/td>\n",
              "      <td>NaN<\/td>\n",
              "    <\/tr>\n",
              "  <\/tbody>\n",
              "<\/table>\n",
              "<p>941 rows × 7 columns<\/p>\n",
              "<\/div>"
            ]
          },
          "metadata":{
            
          },
          "output_type":"display_data"
        }
      ],
      "metadata":{
        
      }
    },
    {
      "cell_type":"code",
      "source":[
        "data.info()"
      ],
      "execution_count":4,
      "outputs":[
        {
          "name":"stdout",
          "text":[
            "<class 'pandas.core.frame.DataFrame'>\n",
            "RangeIndex: 941 entries, 0 to 940\n",
            "Data columns (total 7 columns):\n",
            " #   Column                       Non-Null Count  Dtype  \n",
            "---  ------                       --------------  -----  \n",
            " 0   Data                         365 non-null    object \n",
            " 1   Temperatura Media (C)        365 non-null    object \n",
            " 2   Temperatura Minima (C)       365 non-null    object \n",
            " 3   Temperatura Maxima (C)       365 non-null    object \n",
            " 4   Precipitacao (mm)            365 non-null    object \n",
            " 5   Final de Semana              365 non-null    float64\n",
            " 6   Consumo de cerveja (litros)  365 non-null    float64\n",
            "dtypes: float64(2), object(5)\n",
            "memory usage: 51.6+ KB\n"
          ],
          "output_type":"stream"
        }
      ],
      "metadata":{
        
      }
    },
    {
      "cell_type":"code",
      "source":[
        "data.isna().mean()"
      ],
      "execution_count":5,
      "outputs":[
        {
          "data":{
            "text\/plain":[
              "Data                           0.612115\n",
              "Temperatura Media (C)          0.612115\n",
              "Temperatura Minima (C)         0.612115\n",
              "Temperatura Maxima (C)         0.612115\n",
              "Precipitacao (mm)              0.612115\n",
              "Final de Semana                0.612115\n",
              "Consumo de cerveja (litros)    0.612115\n",
              "dtype: float64"
            ]
          },
          "metadata":{
            
          },
          "output_type":"display_data"
        }
      ],
      "metadata":{
        
      }
    },
    {
      "cell_type":"code",
      "source":[
        "def preprocess_inputs(df):\n",
        "    df = df.copy()\n",
        "    \n",
        "    # Drop missing rows\n",
        "    df = df.dropna(axis=0).reset_index(drop=True)\n",
        "    \n",
        "    # Replace , with . in numeric columns\n",
        "    for column in ['Temperatura Media (C)', 'Temperatura Minima (C)' ,'Temperatura Maxima (C)', 'Precipitacao (mm)']:\n",
        "        df[column] = df[column].apply(lambda x: np.float(re.sub(r',', '.', x)))\n",
        "    \n",
        "    # Create date features\n",
        "    df['Data'] = pd.to_datetime(df['Data'])\n",
        "\n",
        "    df['Month'] = df['Data'].apply(lambda x: x.month)\n",
        "    df['Day'] = df['Data'].apply(lambda x: x.day)\n",
        "    \n",
        "    df = df.drop('Data', axis=1)\n",
        "    \n",
        "    # Split df into X and y\n",
        "    y = df['Consumo de cerveja (litros)'].copy()\n",
        "    X = df.drop('Consumo de cerveja (litros)', axis=1).copy()\n",
        "    \n",
        "    # Scale X with a standard scaler\n",
        "    scaler = StandardScaler()\n",
        "    X = pd.DataFrame(scaler.fit_transform(X), columns=X.columns)\n",
        "    \n",
        "    return X, y"
      ],
      "execution_count":6,
      "outputs":[
        
      ],
      "metadata":{
        
      }
    },
    {
      "cell_type":"code",
      "source":[
        "X, y = preprocess_inputs(data)"
      ],
      "execution_count":7,
      "outputs":[
        
      ],
      "metadata":{
        
      }
    },
    {
      "cell_type":"code",
      "source":[
        "X"
      ],
      "execution_count":8,
      "outputs":[
        {
          "data":{
            "text\/html":[
              "<div>\n",
              "<style scoped>\n",
              "    .dataframe tbody tr th:only-of-type {\n",
              "        vertical-align: middle;\n",
              "    }\n",
              "\n",
              "    .dataframe tbody tr th {\n",
              "        vertical-align: top;\n",
              "    }\n",
              "\n",
              "    .dataframe thead th {\n",
              "        text-align: right;\n",
              "    }\n",
              "<\/style>\n",
              "<table border=\"1\" class=\"dataframe\">\n",
              "  <thead>\n",
              "    <tr style=\"text-align: right;\">\n",
              "      <th><\/th>\n",
              "      <th>Temperatura Media (C)<\/th>\n",
              "      <th>Temperatura Minima (C)<\/th>\n",
              "      <th>Temperatura Maxima (C)<\/th>\n",
              "      <th>Precipitacao (mm)<\/th>\n",
              "      <th>Final de Semana<\/th>\n",
              "      <th>Month<\/th>\n",
              "      <th>Day<\/th>\n",
              "    <\/tr>\n",
              "  <\/thead>\n",
              "  <tbody>\n",
              "    <tr>\n",
              "      <th>0<\/th>\n",
              "      <td>1.912508<\/td>\n",
              "      <td>2.281333<\/td>\n",
              "      <td>1.365781<\/td>\n",
              "      <td>-0.419062<\/td>\n",
              "      <td>-0.631243<\/td>\n",
              "      <td>-1.602745<\/td>\n",
              "      <td>-1.673503<\/td>\n",
              "    <\/tr>\n",
              "    <tr>\n",
              "      <th>1<\/th>\n",
              "      <td>1.824340<\/td>\n",
              "      <td>2.493924<\/td>\n",
              "      <td>1.597722<\/td>\n",
              "      <td>-0.419062<\/td>\n",
              "      <td>-0.631243<\/td>\n",
              "      <td>-1.602745<\/td>\n",
              "      <td>-1.559818<\/td>\n",
              "    <\/tr>\n",
              "    <tr>\n",
              "      <th>2<\/th>\n",
              "      <td>1.131590<\/td>\n",
              "      <td>1.749853<\/td>\n",
              "      <td>0.762735<\/td>\n",
              "      <td>-0.419062<\/td>\n",
              "      <td>1.584177<\/td>\n",
              "      <td>-1.602745<\/td>\n",
              "      <td>-1.446134<\/td>\n",
              "    <\/tr>\n",
              "    <tr>\n",
              "      <th>3<\/th>\n",
              "      <td>0.867085<\/td>\n",
              "      <td>1.430966<\/td>\n",
              "      <td>0.461212<\/td>\n",
              "      <td>-0.322294<\/td>\n",
              "      <td>1.584177<\/td>\n",
              "      <td>-1.602745<\/td>\n",
              "      <td>-1.332449<\/td>\n",
              "    <\/tr>\n",
              "    <tr>\n",
              "      <th>4<\/th>\n",
              "      <td>0.816703<\/td>\n",
              "      <td>1.253806<\/td>\n",
              "      <td>0.391630<\/td>\n",
              "      <td>-0.419062<\/td>\n",
              "      <td>-0.631243<\/td>\n",
              "      <td>-1.602745<\/td>\n",
              "      <td>-1.218764<\/td>\n",
              "    <\/tr>\n",
              "    <tr>\n",
              "      <th>...<\/th>\n",
              "      <td>...<\/td>\n",
              "      <td>...<\/td>\n",
              "      <td>...<\/td>\n",
              "      <td>...<\/td>\n",
              "      <td>...<\/td>\n",
              "      <td>...<\/td>\n",
              "      <td>...<\/td>\n",
              "    <\/tr>\n",
              "    <tr>\n",
              "      <th>360<\/th>\n",
              "      <td>0.873383<\/td>\n",
              "      <td>1.289238<\/td>\n",
              "      <td>0.368436<\/td>\n",
              "      <td>0.677640<\/td>\n",
              "      <td>1.584177<\/td>\n",
              "      <td>1.587648<\/td>\n",
              "      <td>1.282303<\/td>\n",
              "    <\/tr>\n",
              "    <tr>\n",
              "      <th>361<\/th>\n",
              "      <td>0.445137<\/td>\n",
              "      <td>1.289238<\/td>\n",
              "      <td>0.020525<\/td>\n",
              "      <td>-0.419062<\/td>\n",
              "      <td>-0.631243<\/td>\n",
              "      <td>1.587648<\/td>\n",
              "      <td>1.395988<\/td>\n",
              "    <\/tr>\n",
              "    <tr>\n",
              "      <th>362<\/th>\n",
              "      <td>0.142846<\/td>\n",
              "      <td>1.005782<\/td>\n",
              "      <td>-0.582521<\/td>\n",
              "      <td>0.411528<\/td>\n",
              "      <td>-0.631243<\/td>\n",
              "      <td>1.587648<\/td>\n",
              "      <td>1.509672<\/td>\n",
              "    <\/tr>\n",
              "    <tr>\n",
              "      <th>363<\/th>\n",
              "      <td>0.048380<\/td>\n",
              "      <td>0.651463<\/td>\n",
              "      <td>-0.976820<\/td>\n",
              "      <td>0.088969<\/td>\n",
              "      <td>-0.631243<\/td>\n",
              "      <td>1.587648<\/td>\n",
              "      <td>1.623357<\/td>\n",
              "    <\/tr>\n",
              "    <tr>\n",
              "      <th>364<\/th>\n",
              "      <td>1.112696<\/td>\n",
              "      <td>0.970350<\/td>\n",
              "      <td>0.553989<\/td>\n",
              "      <td>-0.419062<\/td>\n",
              "      <td>-0.631243<\/td>\n",
              "      <td>1.587648<\/td>\n",
              "      <td>1.737042<\/td>\n",
              "    <\/tr>\n",
              "  <\/tbody>\n",
              "<\/table>\n",
              "<p>365 rows × 7 columns<\/p>\n",
              "<\/div>"
            ]
          },
          "metadata":{
            
          },
          "output_type":"display_data"
        }
      ],
      "metadata":{
        
      }
    },
    {
      "cell_type":"code",
      "source":[
        "X.dtypes"
      ],
      "execution_count":9,
      "outputs":[
        {
          "data":{
            "text\/plain":[
              "Temperatura Media (C)     float64\n",
              "Temperatura Minima (C)    float64\n",
              "Temperatura Maxima (C)    float64\n",
              "Precipitacao (mm)         float64\n",
              "Final de Semana           float64\n",
              "Month                     float64\n",
              "Day                       float64\n",
              "dtype: object"
            ]
          },
          "metadata":{
            
          },
          "output_type":"display_data"
        }
      ],
      "metadata":{
        
      }
    },
    {
      "cell_type":"code",
      "source":[
        "y"
      ],
      "execution_count":10,
      "outputs":[
        {
          "data":{
            "text\/plain":[
              "0      25.461\n",
              "1      28.972\n",
              "2      30.814\n",
              "3      29.799\n",
              "4      28.900\n",
              "        ...  \n",
              "360    32.307\n",
              "361    26.095\n",
              "362    22.309\n",
              "363    20.467\n",
              "364    22.446\n",
              "Name: Consumo de cerveja (litros), Length: 365, dtype: float64"
            ]
          },
          "metadata":{
            
          },
          "output_type":"display_data"
        }
      ],
      "metadata":{
        
      }
    },
    {
      "cell_type":"code",
      "source":[
        "X_train, X_test, y_train, y_test = train_test_split(X, y, train_size=0.7, random_state=123)"
      ],
      "execution_count":11,
      "outputs":[
        
      ],
      "metadata":{
        
      }
    },
    {
      "cell_type":"code",
      "source":[
        "models = {\n",
        "    '    Linear Regression': LinearRegression(),\n",
        "    '     Ridge Regression': Ridge(),\n",
        "    '     Lasso Regression': Lasso(),\n",
        "    'ElasticNet Regression': ElasticNet(),\n",
        "    '       SGD Regression': SGDRegressor(),\n",
        "    '     Huber Regression': HuberRegressor()\n",
        "}\n",
        "\n",
        "for model in models.values():\n",
        "    model.fit(X_train, y_train)"
      ],
      "execution_count":12,
      "outputs":[
        
      ],
      "metadata":{
        
      }
    },
    {
      "cell_type":"code",
      "source":[
        "for name, model in models.items():\n",
        "    print(name + \" R^2 Score: {:.4f}\".format(model.score(X_test, y_test)))"
      ],
      "execution_count":13,
      "outputs":[
        {
          "name":"stdout",
          "text":[
            "    Linear Regression R^2 Score: 0.6896\n",
            "     Ridge Regression R^2 Score: 0.6909\n",
            "     Lasso Regression R^2 Score: 0.5763\n",
            "ElasticNet Regression R^2 Score: 0.5646\n",
            "       SGD Regression R^2 Score: 0.6926\n",
            "     Huber Regression R^2 Score: 0.6699\n"
          ],
          "output_type":"stream"
        }
      ],
      "metadata":{
        
      }
    }
  ],
  "metadata":{
    
  },
  "nbformat":4,
  "nbformat_minor":0
}