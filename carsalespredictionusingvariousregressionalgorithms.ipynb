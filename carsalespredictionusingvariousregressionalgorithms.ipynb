{
 "cells": [
  {
   "cell_type": "code",
   "execution_count": 1,
   "id": "b58e5b88",
   "metadata": {
    "execution": {
     "iopub.execute_input": "2022-03-13T05:22:15.499836Z",
     "iopub.status.busy": "2022-03-13T05:22:15.498038Z",
     "iopub.status.idle": "2022-03-13T05:22:16.589709Z",
     "shell.execute_reply": "2022-03-13T05:22:16.588759Z",
     "shell.execute_reply.started": "2022-03-13T05:16:45.600811Z"
    },
    "papermill": {
     "duration": 1.149257,
     "end_time": "2022-03-13T05:22:16.589908",
     "exception": false,
     "start_time": "2022-03-13T05:22:15.440651",
     "status": "completed"
    },
    "tags": []
   },
   "outputs": [],
   "source": [
    "import numpy as np \n",
    "import pandas as pd \n",
    "import matplotlib.pyplot as plt\n",
    "import seaborn as sns "
   ]
  },
  {
   "cell_type": "code",
   "execution_count": 2,
   "id": "a8ee3120",
   "metadata": {
    "execution": {
     "iopub.execute_input": "2022-03-13T05:22:16.696612Z",
     "iopub.status.busy": "2022-03-13T05:22:16.695628Z",
     "iopub.status.idle": "2022-03-13T05:22:17.017183Z",
     "shell.execute_reply": "2022-03-13T05:22:17.017688Z",
     "shell.execute_reply.started": "2022-03-13T05:16:45.606363Z"
    },
    "papermill": {
     "duration": 0.375166,
     "end_time": "2022-03-13T05:22:17.017874",
     "exception": false,
     "start_time": "2022-03-13T05:22:16.642708",
     "status": "completed"
    },
    "tags": []
   },
   "outputs": [
    {
     "data": {
      "text/html": [
       "<div>\n",
       "<style scoped>\n",
       "    .dataframe tbody tr th:only-of-type {\n",
       "        vertical-align: middle;\n",
       "    }\n",
       "\n",
       "    .dataframe tbody tr th {\n",
       "        vertical-align: top;\n",
       "    }\n",
       "\n",
       "    .dataframe thead th {\n",
       "        text-align: right;\n",
       "    }\n",
       "</style>\n",
       "<table border=\"1\" class=\"dataframe\">\n",
       "  <thead>\n",
       "    <tr style=\"text-align: right;\">\n",
       "      <th></th>\n",
       "      <th>Manufacturer</th>\n",
       "      <th>Model</th>\n",
       "      <th>Sales_in_thousands</th>\n",
       "      <th>__year_resale_value</th>\n",
       "      <th>Vehicle_type</th>\n",
       "      <th>Price_in_thousands</th>\n",
       "      <th>Engine_size</th>\n",
       "      <th>Horsepower</th>\n",
       "      <th>Wheelbase</th>\n",
       "      <th>Width</th>\n",
       "      <th>Length</th>\n",
       "      <th>Curb_weight</th>\n",
       "      <th>Fuel_capacity</th>\n",
       "      <th>Fuel_efficiency</th>\n",
       "      <th>Latest_Launch</th>\n",
       "      <th>Power_perf_factor</th>\n",
       "    </tr>\n",
       "  </thead>\n",
       "  <tbody>\n",
       "    <tr>\n",
       "      <th>0</th>\n",
       "      <td>Acura</td>\n",
       "      <td>Integra</td>\n",
       "      <td>16.919</td>\n",
       "      <td>16.360</td>\n",
       "      <td>Passenger</td>\n",
       "      <td>21.50</td>\n",
       "      <td>1.8</td>\n",
       "      <td>140.0</td>\n",
       "      <td>101.2</td>\n",
       "      <td>67.3</td>\n",
       "      <td>172.4</td>\n",
       "      <td>2.639</td>\n",
       "      <td>13.2</td>\n",
       "      <td>28.0</td>\n",
       "      <td>2/2/2012</td>\n",
       "      <td>58.280150</td>\n",
       "    </tr>\n",
       "    <tr>\n",
       "      <th>1</th>\n",
       "      <td>Acura</td>\n",
       "      <td>TL</td>\n",
       "      <td>39.384</td>\n",
       "      <td>19.875</td>\n",
       "      <td>Passenger</td>\n",
       "      <td>28.40</td>\n",
       "      <td>3.2</td>\n",
       "      <td>225.0</td>\n",
       "      <td>108.1</td>\n",
       "      <td>70.3</td>\n",
       "      <td>192.9</td>\n",
       "      <td>3.517</td>\n",
       "      <td>17.2</td>\n",
       "      <td>25.0</td>\n",
       "      <td>6/3/2011</td>\n",
       "      <td>91.370778</td>\n",
       "    </tr>\n",
       "    <tr>\n",
       "      <th>2</th>\n",
       "      <td>Acura</td>\n",
       "      <td>CL</td>\n",
       "      <td>14.114</td>\n",
       "      <td>18.225</td>\n",
       "      <td>Passenger</td>\n",
       "      <td>NaN</td>\n",
       "      <td>3.2</td>\n",
       "      <td>225.0</td>\n",
       "      <td>106.9</td>\n",
       "      <td>70.6</td>\n",
       "      <td>192.0</td>\n",
       "      <td>3.470</td>\n",
       "      <td>17.2</td>\n",
       "      <td>26.0</td>\n",
       "      <td>1/4/2012</td>\n",
       "      <td>NaN</td>\n",
       "    </tr>\n",
       "    <tr>\n",
       "      <th>3</th>\n",
       "      <td>Acura</td>\n",
       "      <td>RL</td>\n",
       "      <td>8.588</td>\n",
       "      <td>29.725</td>\n",
       "      <td>Passenger</td>\n",
       "      <td>42.00</td>\n",
       "      <td>3.5</td>\n",
       "      <td>210.0</td>\n",
       "      <td>114.6</td>\n",
       "      <td>71.4</td>\n",
       "      <td>196.6</td>\n",
       "      <td>3.850</td>\n",
       "      <td>18.0</td>\n",
       "      <td>22.0</td>\n",
       "      <td>3/10/2011</td>\n",
       "      <td>91.389779</td>\n",
       "    </tr>\n",
       "    <tr>\n",
       "      <th>4</th>\n",
       "      <td>Audi</td>\n",
       "      <td>A4</td>\n",
       "      <td>20.397</td>\n",
       "      <td>22.255</td>\n",
       "      <td>Passenger</td>\n",
       "      <td>23.99</td>\n",
       "      <td>1.8</td>\n",
       "      <td>150.0</td>\n",
       "      <td>102.6</td>\n",
       "      <td>68.2</td>\n",
       "      <td>178.0</td>\n",
       "      <td>2.998</td>\n",
       "      <td>16.4</td>\n",
       "      <td>27.0</td>\n",
       "      <td>10/8/2011</td>\n",
       "      <td>62.777639</td>\n",
       "    </tr>\n",
       "    <tr>\n",
       "      <th>...</th>\n",
       "      <td>...</td>\n",
       "      <td>...</td>\n",
       "      <td>...</td>\n",
       "      <td>...</td>\n",
       "      <td>...</td>\n",
       "      <td>...</td>\n",
       "      <td>...</td>\n",
       "      <td>...</td>\n",
       "      <td>...</td>\n",
       "      <td>...</td>\n",
       "      <td>...</td>\n",
       "      <td>...</td>\n",
       "      <td>...</td>\n",
       "      <td>...</td>\n",
       "      <td>...</td>\n",
       "      <td>...</td>\n",
       "    </tr>\n",
       "    <tr>\n",
       "      <th>152</th>\n",
       "      <td>Volvo</td>\n",
       "      <td>V40</td>\n",
       "      <td>3.545</td>\n",
       "      <td>NaN</td>\n",
       "      <td>Passenger</td>\n",
       "      <td>24.40</td>\n",
       "      <td>1.9</td>\n",
       "      <td>160.0</td>\n",
       "      <td>100.5</td>\n",
       "      <td>67.6</td>\n",
       "      <td>176.6</td>\n",
       "      <td>3.042</td>\n",
       "      <td>15.8</td>\n",
       "      <td>25.0</td>\n",
       "      <td>9/21/2011</td>\n",
       "      <td>66.498812</td>\n",
       "    </tr>\n",
       "    <tr>\n",
       "      <th>153</th>\n",
       "      <td>Volvo</td>\n",
       "      <td>S70</td>\n",
       "      <td>15.245</td>\n",
       "      <td>NaN</td>\n",
       "      <td>Passenger</td>\n",
       "      <td>27.50</td>\n",
       "      <td>2.4</td>\n",
       "      <td>168.0</td>\n",
       "      <td>104.9</td>\n",
       "      <td>69.3</td>\n",
       "      <td>185.9</td>\n",
       "      <td>3.208</td>\n",
       "      <td>17.9</td>\n",
       "      <td>25.0</td>\n",
       "      <td>11/24/2012</td>\n",
       "      <td>70.654495</td>\n",
       "    </tr>\n",
       "    <tr>\n",
       "      <th>154</th>\n",
       "      <td>Volvo</td>\n",
       "      <td>V70</td>\n",
       "      <td>17.531</td>\n",
       "      <td>NaN</td>\n",
       "      <td>Passenger</td>\n",
       "      <td>28.80</td>\n",
       "      <td>2.4</td>\n",
       "      <td>168.0</td>\n",
       "      <td>104.9</td>\n",
       "      <td>69.3</td>\n",
       "      <td>186.2</td>\n",
       "      <td>3.259</td>\n",
       "      <td>17.9</td>\n",
       "      <td>25.0</td>\n",
       "      <td>6/25/2011</td>\n",
       "      <td>71.155978</td>\n",
       "    </tr>\n",
       "    <tr>\n",
       "      <th>155</th>\n",
       "      <td>Volvo</td>\n",
       "      <td>C70</td>\n",
       "      <td>3.493</td>\n",
       "      <td>NaN</td>\n",
       "      <td>Passenger</td>\n",
       "      <td>45.50</td>\n",
       "      <td>2.3</td>\n",
       "      <td>236.0</td>\n",
       "      <td>104.9</td>\n",
       "      <td>71.5</td>\n",
       "      <td>185.7</td>\n",
       "      <td>3.601</td>\n",
       "      <td>18.5</td>\n",
       "      <td>23.0</td>\n",
       "      <td>4/26/2011</td>\n",
       "      <td>101.623357</td>\n",
       "    </tr>\n",
       "    <tr>\n",
       "      <th>156</th>\n",
       "      <td>Volvo</td>\n",
       "      <td>S80</td>\n",
       "      <td>18.969</td>\n",
       "      <td>NaN</td>\n",
       "      <td>Passenger</td>\n",
       "      <td>36.00</td>\n",
       "      <td>2.9</td>\n",
       "      <td>201.0</td>\n",
       "      <td>109.9</td>\n",
       "      <td>72.1</td>\n",
       "      <td>189.8</td>\n",
       "      <td>3.600</td>\n",
       "      <td>21.1</td>\n",
       "      <td>24.0</td>\n",
       "      <td>11/14/2011</td>\n",
       "      <td>85.735655</td>\n",
       "    </tr>\n",
       "  </tbody>\n",
       "</table>\n",
       "<p>157 rows × 16 columns</p>\n",
       "</div>"
      ],
      "text/plain": [
       "    Manufacturer    Model  Sales_in_thousands  __year_resale_value  \\\n",
       "0          Acura  Integra              16.919               16.360   \n",
       "1          Acura       TL              39.384               19.875   \n",
       "2          Acura       CL              14.114               18.225   \n",
       "3          Acura       RL               8.588               29.725   \n",
       "4           Audi       A4              20.397               22.255   \n",
       "..           ...      ...                 ...                  ...   \n",
       "152        Volvo      V40               3.545                  NaN   \n",
       "153        Volvo      S70              15.245                  NaN   \n",
       "154        Volvo      V70              17.531                  NaN   \n",
       "155        Volvo      C70               3.493                  NaN   \n",
       "156        Volvo      S80              18.969                  NaN   \n",
       "\n",
       "    Vehicle_type  Price_in_thousands  Engine_size  Horsepower  Wheelbase  \\\n",
       "0      Passenger               21.50          1.8       140.0      101.2   \n",
       "1      Passenger               28.40          3.2       225.0      108.1   \n",
       "2      Passenger                 NaN          3.2       225.0      106.9   \n",
       "3      Passenger               42.00          3.5       210.0      114.6   \n",
       "4      Passenger               23.99          1.8       150.0      102.6   \n",
       "..           ...                 ...          ...         ...        ...   \n",
       "152    Passenger               24.40          1.9       160.0      100.5   \n",
       "153    Passenger               27.50          2.4       168.0      104.9   \n",
       "154    Passenger               28.80          2.4       168.0      104.9   \n",
       "155    Passenger               45.50          2.3       236.0      104.9   \n",
       "156    Passenger               36.00          2.9       201.0      109.9   \n",
       "\n",
       "     Width  Length  Curb_weight  Fuel_capacity  Fuel_efficiency Latest_Launch  \\\n",
       "0     67.3   172.4        2.639           13.2             28.0      2/2/2012   \n",
       "1     70.3   192.9        3.517           17.2             25.0      6/3/2011   \n",
       "2     70.6   192.0        3.470           17.2             26.0      1/4/2012   \n",
       "3     71.4   196.6        3.850           18.0             22.0     3/10/2011   \n",
       "4     68.2   178.0        2.998           16.4             27.0     10/8/2011   \n",
       "..     ...     ...          ...            ...              ...           ...   \n",
       "152   67.6   176.6        3.042           15.8             25.0     9/21/2011   \n",
       "153   69.3   185.9        3.208           17.9             25.0    11/24/2012   \n",
       "154   69.3   186.2        3.259           17.9             25.0     6/25/2011   \n",
       "155   71.5   185.7        3.601           18.5             23.0     4/26/2011   \n",
       "156   72.1   189.8        3.600           21.1             24.0    11/14/2011   \n",
       "\n",
       "     Power_perf_factor  \n",
       "0            58.280150  \n",
       "1            91.370778  \n",
       "2                  NaN  \n",
       "3            91.389779  \n",
       "4            62.777639  \n",
       "..                 ...  \n",
       "152          66.498812  \n",
       "153          70.654495  \n",
       "154          71.155978  \n",
       "155         101.623357  \n",
       "156          85.735655  \n",
       "\n",
       "[157 rows x 16 columns]"
      ]
     },
     "execution_count": 2,
     "metadata": {},
     "output_type": "execute_result"
    }
   ],
   "source": [
    "dataset = pd.read_csv(\"https://raw.githubusercontent.com/benvictoria17/Finance/master/dataset/Car%20sales/Car_sales.csv\")\n",
    "dataset"
   ]
  },
  {
   "cell_type": "code",
   "execution_count": 3,
   "id": "5d214fcc",
   "metadata": {
    "execution": {
     "iopub.execute_input": "2022-03-13T05:22:17.129682Z",
     "iopub.status.busy": "2022-03-13T05:22:17.129022Z",
     "iopub.status.idle": "2022-03-13T05:22:17.181028Z",
     "shell.execute_reply": "2022-03-13T05:22:17.181653Z",
     "shell.execute_reply.started": "2022-03-13T05:16:45.936134Z"
    },
    "papermill": {
     "duration": 0.111179,
     "end_time": "2022-03-13T05:22:17.181841",
     "exception": false,
     "start_time": "2022-03-13T05:22:17.070662",
     "status": "completed"
    },
    "tags": []
   },
   "outputs": [
    {
     "data": {
      "text/html": [
       "<div>\n",
       "<style scoped>\n",
       "    .dataframe tbody tr th:only-of-type {\n",
       "        vertical-align: middle;\n",
       "    }\n",
       "\n",
       "    .dataframe tbody tr th {\n",
       "        vertical-align: top;\n",
       "    }\n",
       "\n",
       "    .dataframe thead th {\n",
       "        text-align: right;\n",
       "    }\n",
       "</style>\n",
       "<table border=\"1\" class=\"dataframe\">\n",
       "  <thead>\n",
       "    <tr style=\"text-align: right;\">\n",
       "      <th></th>\n",
       "      <th>Sales_in_thousands</th>\n",
       "      <th>__year_resale_value</th>\n",
       "      <th>Price_in_thousands</th>\n",
       "      <th>Engine_size</th>\n",
       "      <th>Horsepower</th>\n",
       "      <th>Wheelbase</th>\n",
       "      <th>Width</th>\n",
       "      <th>Length</th>\n",
       "      <th>Curb_weight</th>\n",
       "      <th>Fuel_capacity</th>\n",
       "      <th>Fuel_efficiency</th>\n",
       "      <th>Power_perf_factor</th>\n",
       "    </tr>\n",
       "  </thead>\n",
       "  <tbody>\n",
       "    <tr>\n",
       "      <th>count</th>\n",
       "      <td>157.000000</td>\n",
       "      <td>121.000000</td>\n",
       "      <td>155.000000</td>\n",
       "      <td>156.000000</td>\n",
       "      <td>156.000000</td>\n",
       "      <td>156.000000</td>\n",
       "      <td>156.000000</td>\n",
       "      <td>156.000000</td>\n",
       "      <td>155.000000</td>\n",
       "      <td>156.000000</td>\n",
       "      <td>154.000000</td>\n",
       "      <td>155.000000</td>\n",
       "    </tr>\n",
       "    <tr>\n",
       "      <th>mean</th>\n",
       "      <td>52.998076</td>\n",
       "      <td>18.072975</td>\n",
       "      <td>27.390755</td>\n",
       "      <td>3.060897</td>\n",
       "      <td>185.948718</td>\n",
       "      <td>107.487179</td>\n",
       "      <td>71.150000</td>\n",
       "      <td>187.343590</td>\n",
       "      <td>3.378026</td>\n",
       "      <td>17.951923</td>\n",
       "      <td>23.844156</td>\n",
       "      <td>77.043591</td>\n",
       "    </tr>\n",
       "    <tr>\n",
       "      <th>std</th>\n",
       "      <td>68.029422</td>\n",
       "      <td>11.453384</td>\n",
       "      <td>14.351653</td>\n",
       "      <td>1.044653</td>\n",
       "      <td>56.700321</td>\n",
       "      <td>7.641303</td>\n",
       "      <td>3.451872</td>\n",
       "      <td>13.431754</td>\n",
       "      <td>0.630502</td>\n",
       "      <td>3.887921</td>\n",
       "      <td>4.282706</td>\n",
       "      <td>25.142664</td>\n",
       "    </tr>\n",
       "    <tr>\n",
       "      <th>min</th>\n",
       "      <td>0.110000</td>\n",
       "      <td>5.160000</td>\n",
       "      <td>9.235000</td>\n",
       "      <td>1.000000</td>\n",
       "      <td>55.000000</td>\n",
       "      <td>92.600000</td>\n",
       "      <td>62.600000</td>\n",
       "      <td>149.400000</td>\n",
       "      <td>1.895000</td>\n",
       "      <td>10.300000</td>\n",
       "      <td>15.000000</td>\n",
       "      <td>23.276272</td>\n",
       "    </tr>\n",
       "    <tr>\n",
       "      <th>25%</th>\n",
       "      <td>14.114000</td>\n",
       "      <td>11.260000</td>\n",
       "      <td>18.017500</td>\n",
       "      <td>2.300000</td>\n",
       "      <td>149.500000</td>\n",
       "      <td>103.000000</td>\n",
       "      <td>68.400000</td>\n",
       "      <td>177.575000</td>\n",
       "      <td>2.971000</td>\n",
       "      <td>15.800000</td>\n",
       "      <td>21.000000</td>\n",
       "      <td>60.407707</td>\n",
       "    </tr>\n",
       "    <tr>\n",
       "      <th>50%</th>\n",
       "      <td>29.450000</td>\n",
       "      <td>14.180000</td>\n",
       "      <td>22.799000</td>\n",
       "      <td>3.000000</td>\n",
       "      <td>177.500000</td>\n",
       "      <td>107.000000</td>\n",
       "      <td>70.550000</td>\n",
       "      <td>187.900000</td>\n",
       "      <td>3.342000</td>\n",
       "      <td>17.200000</td>\n",
       "      <td>24.000000</td>\n",
       "      <td>72.030917</td>\n",
       "    </tr>\n",
       "    <tr>\n",
       "      <th>75%</th>\n",
       "      <td>67.956000</td>\n",
       "      <td>19.875000</td>\n",
       "      <td>31.947500</td>\n",
       "      <td>3.575000</td>\n",
       "      <td>215.000000</td>\n",
       "      <td>112.200000</td>\n",
       "      <td>73.425000</td>\n",
       "      <td>196.125000</td>\n",
       "      <td>3.799500</td>\n",
       "      <td>19.575000</td>\n",
       "      <td>26.000000</td>\n",
       "      <td>89.414878</td>\n",
       "    </tr>\n",
       "    <tr>\n",
       "      <th>max</th>\n",
       "      <td>540.561000</td>\n",
       "      <td>67.550000</td>\n",
       "      <td>85.500000</td>\n",
       "      <td>8.000000</td>\n",
       "      <td>450.000000</td>\n",
       "      <td>138.700000</td>\n",
       "      <td>79.900000</td>\n",
       "      <td>224.500000</td>\n",
       "      <td>5.572000</td>\n",
       "      <td>32.000000</td>\n",
       "      <td>45.000000</td>\n",
       "      <td>188.144323</td>\n",
       "    </tr>\n",
       "  </tbody>\n",
       "</table>\n",
       "</div>"
      ],
      "text/plain": [
       "       Sales_in_thousands  __year_resale_value  Price_in_thousands  \\\n",
       "count          157.000000           121.000000          155.000000   \n",
       "mean            52.998076            18.072975           27.390755   \n",
       "std             68.029422            11.453384           14.351653   \n",
       "min              0.110000             5.160000            9.235000   \n",
       "25%             14.114000            11.260000           18.017500   \n",
       "50%             29.450000            14.180000           22.799000   \n",
       "75%             67.956000            19.875000           31.947500   \n",
       "max            540.561000            67.550000           85.500000   \n",
       "\n",
       "       Engine_size  Horsepower   Wheelbase       Width      Length  \\\n",
       "count   156.000000  156.000000  156.000000  156.000000  156.000000   \n",
       "mean      3.060897  185.948718  107.487179   71.150000  187.343590   \n",
       "std       1.044653   56.700321    7.641303    3.451872   13.431754   \n",
       "min       1.000000   55.000000   92.600000   62.600000  149.400000   \n",
       "25%       2.300000  149.500000  103.000000   68.400000  177.575000   \n",
       "50%       3.000000  177.500000  107.000000   70.550000  187.900000   \n",
       "75%       3.575000  215.000000  112.200000   73.425000  196.125000   \n",
       "max       8.000000  450.000000  138.700000   79.900000  224.500000   \n",
       "\n",
       "       Curb_weight  Fuel_capacity  Fuel_efficiency  Power_perf_factor  \n",
       "count   155.000000     156.000000       154.000000         155.000000  \n",
       "mean      3.378026      17.951923        23.844156          77.043591  \n",
       "std       0.630502       3.887921         4.282706          25.142664  \n",
       "min       1.895000      10.300000        15.000000          23.276272  \n",
       "25%       2.971000      15.800000        21.000000          60.407707  \n",
       "50%       3.342000      17.200000        24.000000          72.030917  \n",
       "75%       3.799500      19.575000        26.000000          89.414878  \n",
       "max       5.572000      32.000000        45.000000         188.144323  "
      ]
     },
     "execution_count": 3,
     "metadata": {},
     "output_type": "execute_result"
    }
   ],
   "source": [
    "dataset.describe()"
   ]
  },
  {
   "cell_type": "code",
   "execution_count": 4,
   "id": "9ec623ef",
   "metadata": {
    "execution": {
     "iopub.execute_input": "2022-03-13T05:22:17.288747Z",
     "iopub.status.busy": "2022-03-13T05:22:17.288129Z",
     "iopub.status.idle": "2022-03-13T05:22:17.306578Z",
     "shell.execute_reply": "2022-03-13T05:22:17.305815Z",
     "shell.execute_reply.started": "2022-03-13T05:16:45.983932Z"
    },
    "papermill": {
     "duration": 0.073133,
     "end_time": "2022-03-13T05:22:17.306767",
     "exception": false,
     "start_time": "2022-03-13T05:22:17.233634",
     "status": "completed"
    },
    "tags": []
   },
   "outputs": [
    {
     "name": "stdout",
     "output_type": "stream",
     "text": [
      "<class 'pandas.core.frame.DataFrame'>\n",
      "RangeIndex: 157 entries, 0 to 156\n",
      "Data columns (total 16 columns):\n",
      " #   Column               Non-Null Count  Dtype  \n",
      "---  ------               --------------  -----  \n",
      " 0   Manufacturer         157 non-null    object \n",
      " 1   Model                157 non-null    object \n",
      " 2   Sales_in_thousands   157 non-null    float64\n",
      " 3   __year_resale_value  121 non-null    float64\n",
      " 4   Vehicle_type         157 non-null    object \n",
      " 5   Price_in_thousands   155 non-null    float64\n",
      " 6   Engine_size          156 non-null    float64\n",
      " 7   Horsepower           156 non-null    float64\n",
      " 8   Wheelbase            156 non-null    float64\n",
      " 9   Width                156 non-null    float64\n",
      " 10  Length               156 non-null    float64\n",
      " 11  Curb_weight          155 non-null    float64\n",
      " 12  Fuel_capacity        156 non-null    float64\n",
      " 13  Fuel_efficiency      154 non-null    float64\n",
      " 14  Latest_Launch        157 non-null    object \n",
      " 15  Power_perf_factor    155 non-null    float64\n",
      "dtypes: float64(12), object(4)\n",
      "memory usage: 19.8+ KB\n"
     ]
    }
   ],
   "source": [
    "dataset.info()"
   ]
  },
  {
   "cell_type": "code",
   "execution_count": 5,
   "id": "46bc690b",
   "metadata": {
    "execution": {
     "iopub.execute_input": "2022-03-13T05:22:17.416511Z",
     "iopub.status.busy": "2022-03-13T05:22:17.415837Z",
     "iopub.status.idle": "2022-03-13T05:22:17.683067Z",
     "shell.execute_reply": "2022-03-13T05:22:17.682388Z",
     "shell.execute_reply.started": "2022-03-13T05:16:45.998779Z"
    },
    "papermill": {
     "duration": 0.322803,
     "end_time": "2022-03-13T05:22:17.683214",
     "exception": false,
     "start_time": "2022-03-13T05:22:17.360411",
     "status": "completed"
    },
    "tags": []
   },
   "outputs": [
    {
     "data": {
      "image/png": "[encoded data removed]",
      "text/plain": [
       "<Figure size 432x288 with 1 Axes>"
      ]
     },
     "metadata": {
      "needs_background": "light"
     },
     "output_type": "display_data"
    }
   ],
   "source": [
    "plt.hist(list(dataset['Sales_in_thousands']), bins = 20)\n",
    "plt.xlabel(\"Sales in thousands\")\n",
    "plt.ylabel(\"Frequency\")\n",
    "plt.title(\"Understanding the distribution of the variable - Sales_in_thousands\")\n",
    "plt.show()"
   ]
  },
  {
   "cell_type": "code",
   "execution_count": 6,
   "id": "35642d79",
   "metadata": {
    "execution": {
     "iopub.execute_input": "2022-03-13T05:22:17.795761Z",
     "iopub.status.busy": "2022-03-13T05:22:17.794772Z",
     "iopub.status.idle": "2022-03-13T05:22:18.018633Z",
     "shell.execute_reply": "2022-03-13T05:22:18.019156Z",
     "shell.execute_reply.started": "2022-03-13T05:16:46.239467Z"
    },
    "papermill": {
     "duration": 0.280433,
     "end_time": "2022-03-13T05:22:18.019322",
     "exception": false,
     "start_time": "2022-03-13T05:22:17.738889",
     "status": "completed"
    },
    "tags": []
   },
   "outputs": [
    {
     "data": {
      "image/png": "[encoded data removed]",
      "text/plain": [
       "<Figure size 720x504 with 1 Axes>"
      ]
     },
     "metadata": {
      "needs_background": "light"
     },
     "output_type": "display_data"
    }
   ],
   "source": [
    "\n",
    "manufacturer_count = dict()\n",
    "for each_manufacturer in list(dataset['Manufacturer']):\n",
    "    if each_manufacturer not in manufacturer_count:\n",
    "        manufacturer_count[each_manufacturer] = 1\n",
    "    else:\n",
    "        manufacturer_count[each_manufacturer] += 1\n",
    "\n",
    "sorted_manufacturers = dict(sorted(manufacturer_count.items(), key = lambda item : item[1], reverse = True))\n",
    "\n",
    "top_10_manufacturers = []\n",
    "top_10_counts = []\n",
    "for each_manufacturer in sorted_manufacturers:\n",
    "    top_10_manufacturers.append(each_manufacturer)\n",
    "    top_10_counts.append(sorted_manufacturers[each_manufacturer])\n",
    "    if len(top_10_counts) == 10:\n",
    "        break\n",
    "\n",
    "fig = plt.figure(figsize = (10, 7))\n",
    "plt.bar(top_10_manufacturers, top_10_counts, color = 'red', width = 0.4)\n",
    "plt.xlabel(\"Top 10 Manufacturers\")\n",
    "plt.ylabel(\"Models manufactured\")\n",
    "plt.title(\"Top 10 manufacturers with most models manufactured\")\n",
    "plt.show()"
   ]
  },
  {
   "cell_type": "code",
   "execution_count": 7,
   "id": "f990bcf1",
   "metadata": {
    "execution": {
     "iopub.execute_input": "2022-03-13T05:22:18.130847Z",
     "iopub.status.busy": "2022-03-13T05:22:18.129867Z",
     "iopub.status.idle": "2022-03-13T05:22:18.296659Z",
     "shell.execute_reply": "2022-03-13T05:22:18.296164Z",
     "shell.execute_reply.started": "2022-03-13T05:16:46.472205Z"
    },
    "papermill": {
     "duration": 0.223473,
     "end_time": "2022-03-13T05:22:18.296811",
     "exception": false,
     "start_time": "2022-03-13T05:22:18.073338",
     "status": "completed"
    },
    "tags": []
   },
   "outputs": [
    {
     "data": {
      "image/png": "[encoded data removed]",
      "text/plain": [
       "<Figure size 432x288 with 1 Axes>"
      ]
     },
     "metadata": {
      "needs_background": "light"
     },
     "output_type": "display_data"
    }
   ],
   "source": [
    "\n",
    "vehicle_type_dict = dict()\n",
    "for each_vehicle in dataset['Vehicle_type']:\n",
    "    if each_vehicle not in vehicle_type_dict:\n",
    "        vehicle_type_dict[each_vehicle] = 1\n",
    "    else:\n",
    "        vehicle_type_dict[each_vehicle] += 1\n",
    "\n",
    "vehicle_type = list(vehicle_type_dict.keys())\n",
    "vehicle_count = list(vehicle_type_dict.values())\n",
    "\n",
    "plt.bar(vehicle_type, vehicle_count, color = 'red', width = 0.5)\n",
    "plt.xlabel(\"Various Vehicle Types\")\n",
    "plt.ylabel(\"Count of each vehicle type\")\n",
    "plt.title(\"Bar graph showing the count of various vehicle types used in the dataset\")\n",
    "plt.show()"
   ]
  },
  {
   "cell_type": "code",
   "execution_count": 8,
   "id": "b75a3bd1",
   "metadata": {
    "execution": {
     "iopub.execute_input": "2022-03-13T05:22:18.409078Z",
     "iopub.status.busy": "2022-03-13T05:22:18.408445Z",
     "iopub.status.idle": "2022-03-13T05:22:18.660541Z",
     "shell.execute_reply": "2022-03-13T05:22:18.659702Z",
     "shell.execute_reply.started": "2022-03-13T05:16:46.644947Z"
    },
    "papermill": {
     "duration": 0.309054,
     "end_time": "2022-03-13T05:22:18.660743",
     "exception": false,
     "start_time": "2022-03-13T05:22:18.351689",
     "status": "completed"
    },
    "tags": []
   },
   "outputs": [
    {
     "data": {
      "image/png": "[encoded data removed]",
      "text/plain": [
       "<Figure size 432x288 with 1 Axes>"
      ]
     },
     "metadata": {
      "needs_background": "light"
     },
     "output_type": "display_data"
    }
   ],
   "source": [
    "plt.hist(list(dataset['Price_in_thousands']), bins = 20)\n",
    "plt.xlabel(\"Price in thousands\")\n",
    "plt.ylabel(\"Frequency\")\n",
    "plt.title(\"Histogram showing the distribution of the variable - 'Price_in_thousands'\")\n",
    "plt.show()"
   ]
  },
  {
   "cell_type": "code",
   "execution_count": 9,
   "id": "67f92167",
   "metadata": {
    "execution": {
     "iopub.execute_input": "2022-03-13T05:22:18.795886Z",
     "iopub.status.busy": "2022-03-13T05:22:18.794738Z",
     "iopub.status.idle": "2022-03-13T05:22:19.173685Z",
     "shell.execute_reply": "2022-03-13T05:22:19.172438Z",
     "shell.execute_reply.started": "2022-03-13T05:16:46.883960Z"
    },
    "papermill": {
     "duration": 0.443777,
     "end_time": "2022-03-13T05:22:19.173920",
     "exception": false,
     "start_time": "2022-03-13T05:22:18.730143",
     "status": "completed"
    },
    "tags": []
   },
   "outputs": [
    {
     "data": {
      "image/png": "[encoded data removed]",
      "text/plain": [
       "<Figure size 432x288 with 1 Axes>"
      ]
     },
     "metadata": {
      "needs_background": "light"
     },
     "output_type": "display_data"
    }
   ],
   "source": [
    "\n",
    "top_5_manufacturers = [manufacturer for manufacturer in top_10_manufacturers[: 5]]\n",
    "colors = ['green', 'blue', 'red', 'yellow', 'pink']\n",
    "\n",
    "for index in range(5):\n",
    "    plt.scatter(list(dataset[dataset['Manufacturer'] == top_5_manufacturers[index]]['Engine_size']), \n",
    "               list(dataset[dataset['Manufacturer'] == top_5_manufacturers[index]]['Horsepower']),\n",
    "               color = colors[index], label = top_5_manufacturers[index])\n",
    "\n",
    "plt.xlabel(\"Engine Size\")\n",
    "plt.ylabel(\"Horsepower\")\n",
    "plt.title(\"Scatterplot between Engine size and Horsepower for the top 5 manufacturers with most models manufactured\")\n",
    "plt.legend()\n",
    "plt.show()"
   ]
  },
  {
   "cell_type": "code",
   "execution_count": 10,
   "id": "9f2a2691",
   "metadata": {
    "execution": {
     "iopub.execute_input": "2022-03-13T05:22:19.296924Z",
     "iopub.status.busy": "2022-03-13T05:22:19.296234Z",
     "iopub.status.idle": "2022-03-13T05:22:19.629706Z",
     "shell.execute_reply": "2022-03-13T05:22:19.629045Z",
     "shell.execute_reply.started": "2022-03-13T05:16:47.248016Z"
    },
    "papermill": {
     "duration": 0.393155,
     "end_time": "2022-03-13T05:22:19.629871",
     "exception": false,
     "start_time": "2022-03-13T05:22:19.236716",
     "status": "completed"
    },
    "tags": []
   },
   "outputs": [
    {
     "data": {
      "image/png": "[encoded data removed]",
      "text/plain": [
       "<Figure size 432x288 with 1 Axes>"
      ]
     },
     "metadata": {
      "needs_background": "light"
     },
     "output_type": "display_data"
    }
   ],
   "source": [
    "for index in range(5):\n",
    "    plt.scatter(list(dataset[dataset['Manufacturer'] == top_5_manufacturers[index]]['Fuel_capacity']), \n",
    "               list(dataset[dataset['Manufacturer'] == top_5_manufacturers[index]]['Fuel_efficiency']),\n",
    "               color = colors[index], label = top_5_manufacturers[index])\n",
    "\n",
    "plt.xlabel(\"Fuel capacity\")\n",
    "plt.ylabel(\"Fuel efficiency\")\n",
    "plt.title(\"Scatterplot between Fuel capacity and Fuel efficiency for the top 5 manufacturers with most models manufactured\")\n",
    "plt.legend()\n",
    "plt.show()"
   ]
  },
  {
   "cell_type": "code",
   "execution_count": 11,
   "id": "dc942ed3",
   "metadata": {
    "execution": {
     "iopub.execute_input": "2022-03-13T05:22:19.755359Z",
     "iopub.status.busy": "2022-03-13T05:22:19.754651Z",
     "iopub.status.idle": "2022-03-13T05:22:19.934932Z",
     "shell.execute_reply": "2022-03-13T05:22:19.934301Z",
     "shell.execute_reply.started": "2022-03-13T05:16:47.606591Z"
    },
    "papermill": {
     "duration": 0.24662,
     "end_time": "2022-03-13T05:22:19.935070",
     "exception": false,
     "start_time": "2022-03-13T05:22:19.688450",
     "status": "completed"
    },
    "tags": []
   },
   "outputs": [
    {
     "data": {
      "image/png": "[encoded data removed]",
      "text/plain": [
       "<Figure size 432x288 with 1 Axes>"
      ]
     },
     "metadata": {
      "needs_background": "light"
     },
     "output_type": "display_data"
    }
   ],
   "source": [
    "\n",
    "year = [str(each_date) for each_date in dataset['Latest_Launch']]\n",
    "new_year = [each_year[-1:-5:-1][::-1] for each_year in year]\n",
    "\n",
    "year_count_dict = dict()\n",
    "for each_year in new_year:\n",
    "    if each_year not in year_count_dict:\n",
    "        year_count_dict[each_year] = 1\n",
    "    else:\n",
    "        year_count_dict[each_year] += 1\n",
    "\n",
    "years = list(year_count_dict.keys())\n",
    "year_count = list(year_count_dict.values())\n",
    "\n",
    "plt.bar(years, year_count, color = 'green', width = 0.4)\n",
    "plt.xlabel(\"Years\")\n",
    "plt.ylabel(\"Number of launches in the year\")\n",
    "plt.title(\"Bar graph showing the number of launches per year\")\n",
    "plt.show()"
   ]
  },
  {
   "cell_type": "code",
   "execution_count": 12,
   "id": "ee864cef",
   "metadata": {
    "execution": {
     "iopub.execute_input": "2022-03-13T05:22:20.059121Z",
     "iopub.status.busy": "2022-03-13T05:22:20.058460Z",
     "iopub.status.idle": "2022-03-13T05:22:20.278726Z",
     "shell.execute_reply": "2022-03-13T05:22:20.279305Z",
     "shell.execute_reply.started": "2022-03-13T05:16:47.812072Z"
    },
    "papermill": {
     "duration": 0.28505,
     "end_time": "2022-03-13T05:22:20.279474",
     "exception": false,
     "start_time": "2022-03-13T05:22:19.994424",
     "status": "completed"
    },
    "tags": []
   },
   "outputs": [
    {
     "data": {
      "image/png": "[encoded data removed]",
      "text/plain": [
       "<Figure size 432x288 with 1 Axes>"
      ]
     },
     "metadata": {
      "needs_background": "light"
     },
     "output_type": "display_data"
    }
   ],
   "source": [
    "plt.xlabel(\"Distribution of Power performance factor\")\n",
    "plt.ylabel(\"Frequency\")\n",
    "plt.title(\"Histogram to show the distribution of the variable - Power_perf_factor\")\n",
    "plt.hist(list(dataset['Power_perf_factor']), bins = 20)\n",
    "plt.show()"
   ]
  },
  {
   "cell_type": "code",
   "execution_count": 13,
   "id": "a0ddaae5",
   "metadata": {
    "execution": {
     "iopub.execute_input": "2022-03-13T05:22:20.402741Z",
     "iopub.status.busy": "2022-03-13T05:22:20.402076Z",
     "iopub.status.idle": "2022-03-13T05:22:20.655504Z",
     "shell.execute_reply": "2022-03-13T05:22:20.654996Z",
     "shell.execute_reply.started": "2022-03-13T05:16:48.050630Z"
    },
    "papermill": {
     "duration": 0.316263,
     "end_time": "2022-03-13T05:22:20.655645",
     "exception": false,
     "start_time": "2022-03-13T05:22:20.339382",
     "status": "completed"
    },
    "tags": []
   },
   "outputs": [
    {
     "name": "stdout",
     "output_type": "stream",
     "text": [
      "{'Ford': 183.87590909090912, 'Honda': 118.53479999999999, 'Jeep': 97.71766666666667, 'Dodge': 82.74081818181818, 'Toyota': 82.245, 'Pontiac': 61.75566666666668, 'Chevrolet': 61.596111111111114, 'Buick': 60.50475, 'Nissan': 57.090714285714284, 'Hyundai': 45.77533333333333, 'Subaru': 40.067499999999995, 'Mercury': 39.666500000000006, 'Volkswagen': 34.86866666666666, 'Saturn': 33.769999999999996, 'Oldsmobile': 29.831499999999995, 'Chrysler': 28.817285714285713, 'Lincoln': 28.544666666666668, 'Mitsubishi': 25.842142857142854, 'Infiniti': 23.713, 'Cadillac': 22.4356, 'Acura': 19.75125, 'Lexus': 17.807166666666664, 'Plymouth': 16.00025, 'BMW': 15.501666666666667, 'Jaguar': 15.467, 'Audi': 13.519, 'Mercedes-B': 13.01388888888889, 'Volvo': 12.623333333333335, 'Saab': 10.653, 'Porsche': 4.042666666666666}\n"
     ]
    },
    {
     "data": {
      "image/png": "[encoded data removed]",
      "text/plain": [
       "<Figure size 432x288 with 1 Axes>"
      ]
     },
     "metadata": {
      "needs_background": "light"
     },
     "output_type": "display_data"
    }
   ],
   "source": [
    "\n",
    "average_sales_dict = dict()\n",
    "manufacturers = set(dataset['Manufacturer'])\n",
    "for each_manufacturer in manufacturers:\n",
    "    manufacturer_sales_data = list(dataset[dataset['Manufacturer'] == each_manufacturer]['Sales_in_thousands'])\n",
    "    average_sales_dict[each_manufacturer] = np.mean(manufacturer_sales_data)\n",
    "\n",
    "sorted_manufacturers = dict(sorted(average_sales_dict.items(), key = lambda item : item[1], reverse = True))\n",
    "print(sorted_manufacturers)\n",
    "\n",
    "plt.hist(list(sorted_manufacturers.values()), bins = 20)\n",
    "plt.xlabel(\"Average sales\")\n",
    "plt.ylabel(\"Frequency\")\n",
    "plt.title(\"Histogram for the average sales values\")\n",
    "plt.show()"
   ]
  },
  {
   "cell_type": "code",
   "execution_count": 14,
   "id": "a518685b",
   "metadata": {
    "execution": {
     "iopub.execute_input": "2022-03-13T05:22:20.924286Z",
     "iopub.status.busy": "2022-03-13T05:22:20.923591Z",
     "iopub.status.idle": "2022-03-13T05:22:21.098093Z",
     "shell.execute_reply": "2022-03-13T05:22:21.098571Z",
     "shell.execute_reply.started": "2022-03-13T05:16:48.309266Z"
    },
    "papermill": {
     "duration": 0.381027,
     "end_time": "2022-03-13T05:22:21.098747",
     "exception": false,
     "start_time": "2022-03-13T05:22:20.717720",
     "status": "completed"
    },
    "tags": []
   },
   "outputs": [
    {
     "data": {
      "image/png": "[encoded data removed]",
      "text/plain": [
       "<Figure size 432x288 with 1 Axes>"
      ]
     },
     "metadata": {
      "needs_background": "light"
     },
     "output_type": "display_data"
    }
   ],
   "source": [
    "top_5_manufacturers = list(sorted_manufacturers.keys())[:5]\n",
    "top_5_manufacturers_sales = list(sorted_manufacturers.values())[:5]\n",
    "\n",
    "plt.bar(top_5_manufacturers, top_5_manufacturers_sales, color = 'red', width = 0.4)\n",
    "plt.xlabel(\"Manufacturers\")\n",
    "plt.ylabel(\"Average sales of each manufacturer\")\n",
    "plt.title(\"Top 5 manufacturers with highest average sales\")\n",
    "plt.show()"
   ]
  },
  {
   "cell_type": "code",
   "execution_count": 15,
   "id": "719d16f0",
   "metadata": {
    "execution": {
     "iopub.execute_input": "2022-03-13T05:22:21.232199Z",
     "iopub.status.busy": "2022-03-13T05:22:21.231180Z",
     "iopub.status.idle": "2022-03-13T05:22:22.308375Z",
     "shell.execute_reply": "2022-03-13T05:22:22.308868Z",
     "shell.execute_reply.started": "2022-03-13T05:16:48.502596Z"
    },
    "papermill": {
     "duration": 1.147967,
     "end_time": "2022-03-13T05:22:22.309036",
     "exception": false,
     "start_time": "2022-03-13T05:22:21.161069",
     "status": "completed"
    },
    "tags": []
   },
   "outputs": [
    {
     "data": {
      "text/plain": [
       "Text(0.5, 1.0, 'Correlation Heatmap')"
      ]
     },
     "execution_count": 15,
     "metadata": {},
     "output_type": "execute_result"
    },
    {
     "data": {
      "image/png": "[encoded data removed]",
      "text/plain": [
       "<Figure size 720x720 with 2 Axes>"
      ]
     },
     "metadata": {
      "needs_background": "light"
     },
     "output_type": "display_data"
    }
   ],
   "source": [
    "\n",
    "\n",
    "plt.figure(figsize=(10, 10))\n",
    "heatmap = sns.heatmap(dataset.corr(), vmin=-1, vmax=1, annot=True)\n",
    "heatmap.set_title('Correlation Heatmap', fontdict={'fontsize':12}, pad=12)"
   ]
  },
  {
   "cell_type": "code",
   "execution_count": 16,
   "id": "1959e4ee",
   "metadata": {
    "execution": {
     "iopub.execute_input": "2022-03-13T05:22:22.445632Z",
     "iopub.status.busy": "2022-03-13T05:22:22.444955Z",
     "iopub.status.idle": "2022-03-13T05:22:23.354333Z",
     "shell.execute_reply": "2022-03-13T05:22:23.353696Z",
     "shell.execute_reply.started": "2022-03-13T05:16:49.607749Z"
    },
    "papermill": {
     "duration": 0.978579,
     "end_time": "2022-03-13T05:22:23.354483",
     "exception": false,
     "start_time": "2022-03-13T05:22:22.375904",
     "status": "completed"
    },
    "tags": []
   },
   "outputs": [],
   "source": [
    "import statsmodels.api as sm\n",
    "from sklearn.compose import ColumnTransformer\n",
    "from sklearn.preprocessing import OneHotEncoder\n",
    "from sklearn.model_selection import train_test_split\n",
    "from sklearn.preprocessing import StandardScaler"
   ]
  },
  {
   "cell_type": "code",
   "execution_count": 17,
   "id": "110c9c26",
   "metadata": {
    "execution": {
     "iopub.execute_input": "2022-03-13T05:22:23.488776Z",
     "iopub.status.busy": "2022-03-13T05:22:23.488142Z",
     "iopub.status.idle": "2022-03-13T05:22:23.519307Z",
     "shell.execute_reply": "2022-03-13T05:22:23.519866Z",
     "shell.execute_reply.started": "2022-03-13T05:16:49.614475Z"
    },
    "papermill": {
     "duration": 0.099952,
     "end_time": "2022-03-13T05:22:23.520033",
     "exception": false,
     "start_time": "2022-03-13T05:22:23.420081",
     "status": "completed"
    },
    "tags": []
   },
   "outputs": [
    {
     "data": {
      "text/html": [
       "<div>\n",
       "<style scoped>\n",
       "    .dataframe tbody tr th:only-of-type {\n",
       "        vertical-align: middle;\n",
       "    }\n",
       "\n",
       "    .dataframe tbody tr th {\n",
       "        vertical-align: top;\n",
       "    }\n",
       "\n",
       "    .dataframe thead th {\n",
       "        text-align: right;\n",
       "    }\n",
       "</style>\n",
       "<table border=\"1\" class=\"dataframe\">\n",
       "  <thead>\n",
       "    <tr style=\"text-align: right;\">\n",
       "      <th></th>\n",
       "      <th>Manufacturer</th>\n",
       "      <th>Sales_in_thousands</th>\n",
       "      <th>__year_resale_value</th>\n",
       "      <th>Vehicle_type</th>\n",
       "      <th>Price_in_thousands</th>\n",
       "      <th>Engine_size</th>\n",
       "      <th>Horsepower</th>\n",
       "      <th>Wheelbase</th>\n",
       "      <th>Width</th>\n",
       "      <th>Length</th>\n",
       "      <th>Curb_weight</th>\n",
       "      <th>Fuel_capacity</th>\n",
       "      <th>Fuel_efficiency</th>\n",
       "      <th>Power_perf_factor</th>\n",
       "    </tr>\n",
       "  </thead>\n",
       "  <tbody>\n",
       "    <tr>\n",
       "      <th>0</th>\n",
       "      <td>Acura</td>\n",
       "      <td>16.919</td>\n",
       "      <td>16.360</td>\n",
       "      <td>Passenger</td>\n",
       "      <td>21.50</td>\n",
       "      <td>1.8</td>\n",
       "      <td>140.0</td>\n",
       "      <td>101.2</td>\n",
       "      <td>67.3</td>\n",
       "      <td>172.4</td>\n",
       "      <td>2.639</td>\n",
       "      <td>13.2</td>\n",
       "      <td>28.0</td>\n",
       "      <td>58.280150</td>\n",
       "    </tr>\n",
       "    <tr>\n",
       "      <th>1</th>\n",
       "      <td>Acura</td>\n",
       "      <td>39.384</td>\n",
       "      <td>19.875</td>\n",
       "      <td>Passenger</td>\n",
       "      <td>28.40</td>\n",
       "      <td>3.2</td>\n",
       "      <td>225.0</td>\n",
       "      <td>108.1</td>\n",
       "      <td>70.3</td>\n",
       "      <td>192.9</td>\n",
       "      <td>3.517</td>\n",
       "      <td>17.2</td>\n",
       "      <td>25.0</td>\n",
       "      <td>91.370778</td>\n",
       "    </tr>\n",
       "    <tr>\n",
       "      <th>2</th>\n",
       "      <td>Acura</td>\n",
       "      <td>14.114</td>\n",
       "      <td>18.225</td>\n",
       "      <td>Passenger</td>\n",
       "      <td>NaN</td>\n",
       "      <td>3.2</td>\n",
       "      <td>225.0</td>\n",
       "      <td>106.9</td>\n",
       "      <td>70.6</td>\n",
       "      <td>192.0</td>\n",
       "      <td>3.470</td>\n",
       "      <td>17.2</td>\n",
       "      <td>26.0</td>\n",
       "      <td>NaN</td>\n",
       "    </tr>\n",
       "    <tr>\n",
       "      <th>3</th>\n",
       "      <td>Acura</td>\n",
       "      <td>8.588</td>\n",
       "      <td>29.725</td>\n",
       "      <td>Passenger</td>\n",
       "      <td>42.00</td>\n",
       "      <td>3.5</td>\n",
       "      <td>210.0</td>\n",
       "      <td>114.6</td>\n",
       "      <td>71.4</td>\n",
       "      <td>196.6</td>\n",
       "      <td>3.850</td>\n",
       "      <td>18.0</td>\n",
       "      <td>22.0</td>\n",
       "      <td>91.389779</td>\n",
       "    </tr>\n",
       "    <tr>\n",
       "      <th>4</th>\n",
       "      <td>Audi</td>\n",
       "      <td>20.397</td>\n",
       "      <td>22.255</td>\n",
       "      <td>Passenger</td>\n",
       "      <td>23.99</td>\n",
       "      <td>1.8</td>\n",
       "      <td>150.0</td>\n",
       "      <td>102.6</td>\n",
       "      <td>68.2</td>\n",
       "      <td>178.0</td>\n",
       "      <td>2.998</td>\n",
       "      <td>16.4</td>\n",
       "      <td>27.0</td>\n",
       "      <td>62.777639</td>\n",
       "    </tr>\n",
       "    <tr>\n",
       "      <th>...</th>\n",
       "      <td>...</td>\n",
       "      <td>...</td>\n",
       "      <td>...</td>\n",
       "      <td>...</td>\n",
       "      <td>...</td>\n",
       "      <td>...</td>\n",
       "      <td>...</td>\n",
       "      <td>...</td>\n",
       "      <td>...</td>\n",
       "      <td>...</td>\n",
       "      <td>...</td>\n",
       "      <td>...</td>\n",
       "      <td>...</td>\n",
       "      <td>...</td>\n",
       "    </tr>\n",
       "    <tr>\n",
       "      <th>152</th>\n",
       "      <td>Volvo</td>\n",
       "      <td>3.545</td>\n",
       "      <td>NaN</td>\n",
       "      <td>Passenger</td>\n",
       "      <td>24.40</td>\n",
       "      <td>1.9</td>\n",
       "      <td>160.0</td>\n",
       "      <td>100.5</td>\n",
       "      <td>67.6</td>\n",
       "      <td>176.6</td>\n",
       "      <td>3.042</td>\n",
       "      <td>15.8</td>\n",
       "      <td>25.0</td>\n",
       "      <td>66.498812</td>\n",
       "    </tr>\n",
       "    <tr>\n",
       "      <th>153</th>\n",
       "      <td>Volvo</td>\n",
       "      <td>15.245</td>\n",
       "      <td>NaN</td>\n",
       "      <td>Passenger</td>\n",
       "      <td>27.50</td>\n",
       "      <td>2.4</td>\n",
       "      <td>168.0</td>\n",
       "      <td>104.9</td>\n",
       "      <td>69.3</td>\n",
       "      <td>185.9</td>\n",
       "      <td>3.208</td>\n",
       "      <td>17.9</td>\n",
       "      <td>25.0</td>\n",
       "      <td>70.654495</td>\n",
       "    </tr>\n",
       "    <tr>\n",
       "      <th>154</th>\n",
       "      <td>Volvo</td>\n",
       "      <td>17.531</td>\n",
       "      <td>NaN</td>\n",
       "      <td>Passenger</td>\n",
       "      <td>28.80</td>\n",
       "      <td>2.4</td>\n",
       "      <td>168.0</td>\n",
       "      <td>104.9</td>\n",
       "      <td>69.3</td>\n",
       "      <td>186.2</td>\n",
       "      <td>3.259</td>\n",
       "      <td>17.9</td>\n",
       "      <td>25.0</td>\n",
       "      <td>71.155978</td>\n",
       "    </tr>\n",
       "    <tr>\n",
       "      <th>155</th>\n",
       "      <td>Volvo</td>\n",
       "      <td>3.493</td>\n",
       "      <td>NaN</td>\n",
       "      <td>Passenger</td>\n",
       "      <td>45.50</td>\n",
       "      <td>2.3</td>\n",
       "      <td>236.0</td>\n",
       "      <td>104.9</td>\n",
       "      <td>71.5</td>\n",
       "      <td>185.7</td>\n",
       "      <td>3.601</td>\n",
       "      <td>18.5</td>\n",
       "      <td>23.0</td>\n",
       "      <td>101.623357</td>\n",
       "    </tr>\n",
       "    <tr>\n",
       "      <th>156</th>\n",
       "      <td>Volvo</td>\n",
       "      <td>18.969</td>\n",
       "      <td>NaN</td>\n",
       "      <td>Passenger</td>\n",
       "      <td>36.00</td>\n",
       "      <td>2.9</td>\n",
       "      <td>201.0</td>\n",
       "      <td>109.9</td>\n",
       "      <td>72.1</td>\n",
       "      <td>189.8</td>\n",
       "      <td>3.600</td>\n",
       "      <td>21.1</td>\n",
       "      <td>24.0</td>\n",
       "      <td>85.735655</td>\n",
       "    </tr>\n",
       "  </tbody>\n",
       "</table>\n",
       "<p>157 rows × 14 columns</p>\n",
       "</div>"
      ],
      "text/plain": [
       "    Manufacturer  Sales_in_thousands  __year_resale_value Vehicle_type  \\\n",
       "0          Acura              16.919               16.360    Passenger   \n",
       "1          Acura              39.384               19.875    Passenger   \n",
       "2          Acura              14.114               18.225    Passenger   \n",
       "3          Acura               8.588               29.725    Passenger   \n",
       "4           Audi              20.397               22.255    Passenger   \n",
       "..           ...                 ...                  ...          ...   \n",
       "152        Volvo               3.545                  NaN    Passenger   \n",
       "153        Volvo              15.245                  NaN    Passenger   \n",
       "154        Volvo              17.531                  NaN    Passenger   \n",
       "155        Volvo               3.493                  NaN    Passenger   \n",
       "156        Volvo              18.969                  NaN    Passenger   \n",
       "\n",
       "     Price_in_thousands  Engine_size  Horsepower  Wheelbase  Width  Length  \\\n",
       "0                 21.50          1.8       140.0      101.2   67.3   172.4   \n",
       "1                 28.40          3.2       225.0      108.1   70.3   192.9   \n",
       "2                   NaN          3.2       225.0      106.9   70.6   192.0   \n",
       "3                 42.00          3.5       210.0      114.6   71.4   196.6   \n",
       "4                 23.99          1.8       150.0      102.6   68.2   178.0   \n",
       "..                  ...          ...         ...        ...    ...     ...   \n",
       "152               24.40          1.9       160.0      100.5   67.6   176.6   \n",
       "153               27.50          2.4       168.0      104.9   69.3   185.9   \n",
       "154               28.80          2.4       168.0      104.9   69.3   186.2   \n",
       "155               45.50          2.3       236.0      104.9   71.5   185.7   \n",
       "156               36.00          2.9       201.0      109.9   72.1   189.8   \n",
       "\n",
       "     Curb_weight  Fuel_capacity  Fuel_efficiency  Power_perf_factor  \n",
       "0          2.639           13.2             28.0          58.280150  \n",
       "1          3.517           17.2             25.0          91.370778  \n",
       "2          3.470           17.2             26.0                NaN  \n",
       "3          3.850           18.0             22.0          91.389779  \n",
       "4          2.998           16.4             27.0          62.777639  \n",
       "..           ...            ...              ...                ...  \n",
       "152        3.042           15.8             25.0          66.498812  \n",
       "153        3.208           17.9             25.0          70.654495  \n",
       "154        3.259           17.9             25.0          71.155978  \n",
       "155        3.601           18.5             23.0         101.623357  \n",
       "156        3.600           21.1             24.0          85.735655  \n",
       "\n",
       "[157 rows x 14 columns]"
      ]
     },
     "execution_count": 17,
     "metadata": {},
     "output_type": "execute_result"
    }
   ],
   "source": [
    "modified_dataset = dataset.drop(['Model', 'Latest_Launch'], axis = 1)\n",
    "modified_dataset"
   ]
  },
  {
   "cell_type": "code",
   "execution_count": 18,
   "id": "3e72a404",
   "metadata": {
    "execution": {
     "iopub.execute_input": "2022-03-13T05:22:23.659294Z",
     "iopub.status.busy": "2022-03-13T05:22:23.658606Z",
     "iopub.status.idle": "2022-03-13T05:22:23.688503Z",
     "shell.execute_reply": "2022-03-13T05:22:23.689133Z",
     "shell.execute_reply.started": "2022-03-13T05:16:49.656449Z"
    },
    "papermill": {
     "duration": 0.102328,
     "end_time": "2022-03-13T05:22:23.689304",
     "exception": false,
     "start_time": "2022-03-13T05:22:23.586976",
     "status": "completed"
    },
    "tags": []
   },
   "outputs": [
    {
     "data": {
      "text/html": [
       "<div>\n",
       "<style scoped>\n",
       "    .dataframe tbody tr th:only-of-type {\n",
       "        vertical-align: middle;\n",
       "    }\n",
       "\n",
       "    .dataframe tbody tr th {\n",
       "        vertical-align: top;\n",
       "    }\n",
       "\n",
       "    .dataframe thead th {\n",
       "        text-align: right;\n",
       "    }\n",
       "</style>\n",
       "<table border=\"1\" class=\"dataframe\">\n",
       "  <thead>\n",
       "    <tr style=\"text-align: right;\">\n",
       "      <th></th>\n",
       "      <th>Manufacturer</th>\n",
       "      <th>Sales_in_thousands</th>\n",
       "      <th>__year_resale_value</th>\n",
       "      <th>Vehicle_type</th>\n",
       "      <th>Price_in_thousands</th>\n",
       "      <th>Engine_size</th>\n",
       "      <th>Horsepower</th>\n",
       "      <th>Wheelbase</th>\n",
       "      <th>Width</th>\n",
       "      <th>Length</th>\n",
       "      <th>Curb_weight</th>\n",
       "      <th>Fuel_capacity</th>\n",
       "      <th>Fuel_efficiency</th>\n",
       "      <th>Power_perf_factor</th>\n",
       "    </tr>\n",
       "  </thead>\n",
       "  <tbody>\n",
       "    <tr>\n",
       "      <th>0</th>\n",
       "      <td>Acura</td>\n",
       "      <td>16.919</td>\n",
       "      <td>16.360</td>\n",
       "      <td>Passenger</td>\n",
       "      <td>21.50</td>\n",
       "      <td>1.8</td>\n",
       "      <td>140.0</td>\n",
       "      <td>101.2</td>\n",
       "      <td>67.3</td>\n",
       "      <td>172.4</td>\n",
       "      <td>2.639</td>\n",
       "      <td>13.2</td>\n",
       "      <td>28.0</td>\n",
       "      <td>58.280150</td>\n",
       "    </tr>\n",
       "    <tr>\n",
       "      <th>1</th>\n",
       "      <td>Acura</td>\n",
       "      <td>39.384</td>\n",
       "      <td>19.875</td>\n",
       "      <td>Passenger</td>\n",
       "      <td>28.40</td>\n",
       "      <td>3.2</td>\n",
       "      <td>225.0</td>\n",
       "      <td>108.1</td>\n",
       "      <td>70.3</td>\n",
       "      <td>192.9</td>\n",
       "      <td>3.517</td>\n",
       "      <td>17.2</td>\n",
       "      <td>25.0</td>\n",
       "      <td>91.370778</td>\n",
       "    </tr>\n",
       "    <tr>\n",
       "      <th>3</th>\n",
       "      <td>Acura</td>\n",
       "      <td>8.588</td>\n",
       "      <td>29.725</td>\n",
       "      <td>Passenger</td>\n",
       "      <td>42.00</td>\n",
       "      <td>3.5</td>\n",
       "      <td>210.0</td>\n",
       "      <td>114.6</td>\n",
       "      <td>71.4</td>\n",
       "      <td>196.6</td>\n",
       "      <td>3.850</td>\n",
       "      <td>18.0</td>\n",
       "      <td>22.0</td>\n",
       "      <td>91.389779</td>\n",
       "    </tr>\n",
       "    <tr>\n",
       "      <th>4</th>\n",
       "      <td>Audi</td>\n",
       "      <td>20.397</td>\n",
       "      <td>22.255</td>\n",
       "      <td>Passenger</td>\n",
       "      <td>23.99</td>\n",
       "      <td>1.8</td>\n",
       "      <td>150.0</td>\n",
       "      <td>102.6</td>\n",
       "      <td>68.2</td>\n",
       "      <td>178.0</td>\n",
       "      <td>2.998</td>\n",
       "      <td>16.4</td>\n",
       "      <td>27.0</td>\n",
       "      <td>62.777639</td>\n",
       "    </tr>\n",
       "    <tr>\n",
       "      <th>5</th>\n",
       "      <td>Audi</td>\n",
       "      <td>18.780</td>\n",
       "      <td>23.555</td>\n",
       "      <td>Passenger</td>\n",
       "      <td>33.95</td>\n",
       "      <td>2.8</td>\n",
       "      <td>200.0</td>\n",
       "      <td>108.7</td>\n",
       "      <td>76.1</td>\n",
       "      <td>192.0</td>\n",
       "      <td>3.561</td>\n",
       "      <td>18.5</td>\n",
       "      <td>22.0</td>\n",
       "      <td>84.565105</td>\n",
       "    </tr>\n",
       "    <tr>\n",
       "      <th>...</th>\n",
       "      <td>...</td>\n",
       "      <td>...</td>\n",
       "      <td>...</td>\n",
       "      <td>...</td>\n",
       "      <td>...</td>\n",
       "      <td>...</td>\n",
       "      <td>...</td>\n",
       "      <td>...</td>\n",
       "      <td>...</td>\n",
       "      <td>...</td>\n",
       "      <td>...</td>\n",
       "      <td>...</td>\n",
       "      <td>...</td>\n",
       "      <td>...</td>\n",
       "    </tr>\n",
       "    <tr>\n",
       "      <th>152</th>\n",
       "      <td>Volvo</td>\n",
       "      <td>3.545</td>\n",
       "      <td>NaN</td>\n",
       "      <td>Passenger</td>\n",
       "      <td>24.40</td>\n",
       "      <td>1.9</td>\n",
       "      <td>160.0</td>\n",
       "      <td>100.5</td>\n",
       "      <td>67.6</td>\n",
       "      <td>176.6</td>\n",
       "      <td>3.042</td>\n",
       "      <td>15.8</td>\n",
       "      <td>25.0</td>\n",
       "      <td>66.498812</td>\n",
       "    </tr>\n",
       "    <tr>\n",
       "      <th>153</th>\n",
       "      <td>Volvo</td>\n",
       "      <td>15.245</td>\n",
       "      <td>NaN</td>\n",
       "      <td>Passenger</td>\n",
       "      <td>27.50</td>\n",
       "      <td>2.4</td>\n",
       "      <td>168.0</td>\n",
       "      <td>104.9</td>\n",
       "      <td>69.3</td>\n",
       "      <td>185.9</td>\n",
       "      <td>3.208</td>\n",
       "      <td>17.9</td>\n",
       "      <td>25.0</td>\n",
       "      <td>70.654495</td>\n",
       "    </tr>\n",
       "    <tr>\n",
       "      <th>154</th>\n",
       "      <td>Volvo</td>\n",
       "      <td>17.531</td>\n",
       "      <td>NaN</td>\n",
       "      <td>Passenger</td>\n",
       "      <td>28.80</td>\n",
       "      <td>2.4</td>\n",
       "      <td>168.0</td>\n",
       "      <td>104.9</td>\n",
       "      <td>69.3</td>\n",
       "      <td>186.2</td>\n",
       "      <td>3.259</td>\n",
       "      <td>17.9</td>\n",
       "      <td>25.0</td>\n",
       "      <td>71.155978</td>\n",
       "    </tr>\n",
       "    <tr>\n",
       "      <th>155</th>\n",
       "      <td>Volvo</td>\n",
       "      <td>3.493</td>\n",
       "      <td>NaN</td>\n",
       "      <td>Passenger</td>\n",
       "      <td>45.50</td>\n",
       "      <td>2.3</td>\n",
       "      <td>236.0</td>\n",
       "      <td>104.9</td>\n",
       "      <td>71.5</td>\n",
       "      <td>185.7</td>\n",
       "      <td>3.601</td>\n",
       "      <td>18.5</td>\n",
       "      <td>23.0</td>\n",
       "      <td>101.623357</td>\n",
       "    </tr>\n",
       "    <tr>\n",
       "      <th>156</th>\n",
       "      <td>Volvo</td>\n",
       "      <td>18.969</td>\n",
       "      <td>NaN</td>\n",
       "      <td>Passenger</td>\n",
       "      <td>36.00</td>\n",
       "      <td>2.9</td>\n",
       "      <td>201.0</td>\n",
       "      <td>109.9</td>\n",
       "      <td>72.1</td>\n",
       "      <td>189.8</td>\n",
       "      <td>3.600</td>\n",
       "      <td>21.1</td>\n",
       "      <td>24.0</td>\n",
       "      <td>85.735655</td>\n",
       "    </tr>\n",
       "  </tbody>\n",
       "</table>\n",
       "<p>155 rows × 14 columns</p>\n",
       "</div>"
      ],
      "text/plain": [
       "    Manufacturer  Sales_in_thousands  __year_resale_value Vehicle_type  \\\n",
       "0          Acura              16.919               16.360    Passenger   \n",
       "1          Acura              39.384               19.875    Passenger   \n",
       "3          Acura               8.588               29.725    Passenger   \n",
       "4           Audi              20.397               22.255    Passenger   \n",
       "5           Audi              18.780               23.555    Passenger   \n",
       "..           ...                 ...                  ...          ...   \n",
       "152        Volvo               3.545                  NaN    Passenger   \n",
       "153        Volvo              15.245                  NaN    Passenger   \n",
       "154        Volvo              17.531                  NaN    Passenger   \n",
       "155        Volvo               3.493                  NaN    Passenger   \n",
       "156        Volvo              18.969                  NaN    Passenger   \n",
       "\n",
       "     Price_in_thousands  Engine_size  Horsepower  Wheelbase  Width  Length  \\\n",
       "0                 21.50          1.8       140.0      101.2   67.3   172.4   \n",
       "1                 28.40          3.2       225.0      108.1   70.3   192.9   \n",
       "3                 42.00          3.5       210.0      114.6   71.4   196.6   \n",
       "4                 23.99          1.8       150.0      102.6   68.2   178.0   \n",
       "5                 33.95          2.8       200.0      108.7   76.1   192.0   \n",
       "..                  ...          ...         ...        ...    ...     ...   \n",
       "152               24.40          1.9       160.0      100.5   67.6   176.6   \n",
       "153               27.50          2.4       168.0      104.9   69.3   185.9   \n",
       "154               28.80          2.4       168.0      104.9   69.3   186.2   \n",
       "155               45.50          2.3       236.0      104.9   71.5   185.7   \n",
       "156               36.00          2.9       201.0      109.9   72.1   189.8   \n",
       "\n",
       "     Curb_weight  Fuel_capacity  Fuel_efficiency  Power_perf_factor  \n",
       "0          2.639           13.2             28.0          58.280150  \n",
       "1          3.517           17.2             25.0          91.370778  \n",
       "3          3.850           18.0             22.0          91.389779  \n",
       "4          2.998           16.4             27.0          62.777639  \n",
       "5          3.561           18.5             22.0          84.565105  \n",
       "..           ...            ...              ...                ...  \n",
       "152        3.042           15.8             25.0          66.498812  \n",
       "153        3.208           17.9             25.0          70.654495  \n",
       "154        3.259           17.9             25.0          71.155978  \n",
       "155        3.601           18.5             23.0         101.623357  \n",
       "156        3.600           21.1             24.0          85.735655  \n",
       "\n",
       "[155 rows x 14 columns]"
      ]
     },
     "execution_count": 18,
     "metadata": {},
     "output_type": "execute_result"
    }
   ],
   "source": [
    "new_dataset = modified_dataset[modified_dataset['Price_in_thousands'].notna()]\n",
    "new_dataset"
   ]
  },
  {
   "cell_type": "code",
   "execution_count": 19,
   "id": "9548e3dc",
   "metadata": {
    "execution": {
     "iopub.execute_input": "2022-03-13T05:22:23.828690Z",
     "iopub.status.busy": "2022-03-13T05:22:23.828086Z",
     "iopub.status.idle": "2022-03-13T05:22:23.871234Z",
     "shell.execute_reply": "2022-03-13T05:22:23.871982Z",
     "shell.execute_reply.started": "2022-03-13T05:16:49.690823Z"
    },
    "papermill": {
     "duration": 0.115724,
     "end_time": "2022-03-13T05:22:23.872226",
     "exception": false,
     "start_time": "2022-03-13T05:22:23.756502",
     "status": "completed"
    },
    "tags": []
   },
   "outputs": [
    {
     "name": "stderr",
     "output_type": "stream",
     "text": [
      "/opt/conda/lib/python3.7/site-packages/pandas/core/generic.py:6392: SettingWithCopyWarning: \n",
      "A value is trying to be set on a copy of a slice from a DataFrame\n",
      "\n",
      "See the caveats in the documentation: https://pandas.pydata.org/pandas-docs/stable/user_guide/indexing.html#returning-a-view-versus-a-copy\n",
      "  return self._update_inplace(result)\n"
     ]
    },
    {
     "data": {
      "text/html": [
       "<div>\n",
       "<style scoped>\n",
       "    .dataframe tbody tr th:only-of-type {\n",
       "        vertical-align: middle;\n",
       "    }\n",
       "\n",
       "    .dataframe tbody tr th {\n",
       "        vertical-align: top;\n",
       "    }\n",
       "\n",
       "    .dataframe thead th {\n",
       "        text-align: right;\n",
       "    }\n",
       "</style>\n",
       "<table border=\"1\" class=\"dataframe\">\n",
       "  <thead>\n",
       "    <tr style=\"text-align: right;\">\n",
       "      <th></th>\n",
       "      <th>Manufacturer</th>\n",
       "      <th>Sales_in_thousands</th>\n",
       "      <th>__year_resale_value</th>\n",
       "      <th>Vehicle_type</th>\n",
       "      <th>Price_in_thousands</th>\n",
       "      <th>Engine_size</th>\n",
       "      <th>Horsepower</th>\n",
       "      <th>Wheelbase</th>\n",
       "      <th>Width</th>\n",
       "      <th>Length</th>\n",
       "      <th>Curb_weight</th>\n",
       "      <th>Fuel_capacity</th>\n",
       "      <th>Fuel_efficiency</th>\n",
       "      <th>Power_perf_factor</th>\n",
       "    </tr>\n",
       "  </thead>\n",
       "  <tbody>\n",
       "    <tr>\n",
       "      <th>0</th>\n",
       "      <td>Acura</td>\n",
       "      <td>16.919</td>\n",
       "      <td>16.360</td>\n",
       "      <td>Passenger</td>\n",
       "      <td>21.50</td>\n",
       "      <td>1.8</td>\n",
       "      <td>140.0</td>\n",
       "      <td>101.2</td>\n",
       "      <td>67.3</td>\n",
       "      <td>172.4</td>\n",
       "      <td>2.639</td>\n",
       "      <td>13.2</td>\n",
       "      <td>28.0</td>\n",
       "      <td>58.280150</td>\n",
       "    </tr>\n",
       "    <tr>\n",
       "      <th>1</th>\n",
       "      <td>Acura</td>\n",
       "      <td>39.384</td>\n",
       "      <td>19.875</td>\n",
       "      <td>Passenger</td>\n",
       "      <td>28.40</td>\n",
       "      <td>3.2</td>\n",
       "      <td>225.0</td>\n",
       "      <td>108.1</td>\n",
       "      <td>70.3</td>\n",
       "      <td>192.9</td>\n",
       "      <td>3.517</td>\n",
       "      <td>17.2</td>\n",
       "      <td>25.0</td>\n",
       "      <td>91.370778</td>\n",
       "    </tr>\n",
       "    <tr>\n",
       "      <th>3</th>\n",
       "      <td>Acura</td>\n",
       "      <td>8.588</td>\n",
       "      <td>29.725</td>\n",
       "      <td>Passenger</td>\n",
       "      <td>42.00</td>\n",
       "      <td>3.5</td>\n",
       "      <td>210.0</td>\n",
       "      <td>114.6</td>\n",
       "      <td>71.4</td>\n",
       "      <td>196.6</td>\n",
       "      <td>3.850</td>\n",
       "      <td>18.0</td>\n",
       "      <td>22.0</td>\n",
       "      <td>91.389779</td>\n",
       "    </tr>\n",
       "    <tr>\n",
       "      <th>4</th>\n",
       "      <td>Audi</td>\n",
       "      <td>20.397</td>\n",
       "      <td>22.255</td>\n",
       "      <td>Passenger</td>\n",
       "      <td>23.99</td>\n",
       "      <td>1.8</td>\n",
       "      <td>150.0</td>\n",
       "      <td>102.6</td>\n",
       "      <td>68.2</td>\n",
       "      <td>178.0</td>\n",
       "      <td>2.998</td>\n",
       "      <td>16.4</td>\n",
       "      <td>27.0</td>\n",
       "      <td>62.777639</td>\n",
       "    </tr>\n",
       "    <tr>\n",
       "      <th>5</th>\n",
       "      <td>Audi</td>\n",
       "      <td>18.780</td>\n",
       "      <td>23.555</td>\n",
       "      <td>Passenger</td>\n",
       "      <td>33.95</td>\n",
       "      <td>2.8</td>\n",
       "      <td>200.0</td>\n",
       "      <td>108.7</td>\n",
       "      <td>76.1</td>\n",
       "      <td>192.0</td>\n",
       "      <td>3.561</td>\n",
       "      <td>18.5</td>\n",
       "      <td>22.0</td>\n",
       "      <td>84.565105</td>\n",
       "    </tr>\n",
       "    <tr>\n",
       "      <th>...</th>\n",
       "      <td>...</td>\n",
       "      <td>...</td>\n",
       "      <td>...</td>\n",
       "      <td>...</td>\n",
       "      <td>...</td>\n",
       "      <td>...</td>\n",
       "      <td>...</td>\n",
       "      <td>...</td>\n",
       "      <td>...</td>\n",
       "      <td>...</td>\n",
       "      <td>...</td>\n",
       "      <td>...</td>\n",
       "      <td>...</td>\n",
       "      <td>...</td>\n",
       "    </tr>\n",
       "    <tr>\n",
       "      <th>152</th>\n",
       "      <td>Volvo</td>\n",
       "      <td>3.545</td>\n",
       "      <td>14.010</td>\n",
       "      <td>Passenger</td>\n",
       "      <td>24.40</td>\n",
       "      <td>1.9</td>\n",
       "      <td>160.0</td>\n",
       "      <td>100.5</td>\n",
       "      <td>67.6</td>\n",
       "      <td>176.6</td>\n",
       "      <td>3.042</td>\n",
       "      <td>15.8</td>\n",
       "      <td>25.0</td>\n",
       "      <td>66.498812</td>\n",
       "    </tr>\n",
       "    <tr>\n",
       "      <th>153</th>\n",
       "      <td>Volvo</td>\n",
       "      <td>15.245</td>\n",
       "      <td>14.010</td>\n",
       "      <td>Passenger</td>\n",
       "      <td>27.50</td>\n",
       "      <td>2.4</td>\n",
       "      <td>168.0</td>\n",
       "      <td>104.9</td>\n",
       "      <td>69.3</td>\n",
       "      <td>185.9</td>\n",
       "      <td>3.208</td>\n",
       "      <td>17.9</td>\n",
       "      <td>25.0</td>\n",
       "      <td>70.654495</td>\n",
       "    </tr>\n",
       "    <tr>\n",
       "      <th>154</th>\n",
       "      <td>Volvo</td>\n",
       "      <td>17.531</td>\n",
       "      <td>14.010</td>\n",
       "      <td>Passenger</td>\n",
       "      <td>28.80</td>\n",
       "      <td>2.4</td>\n",
       "      <td>168.0</td>\n",
       "      <td>104.9</td>\n",
       "      <td>69.3</td>\n",
       "      <td>186.2</td>\n",
       "      <td>3.259</td>\n",
       "      <td>17.9</td>\n",
       "      <td>25.0</td>\n",
       "      <td>71.155978</td>\n",
       "    </tr>\n",
       "    <tr>\n",
       "      <th>155</th>\n",
       "      <td>Volvo</td>\n",
       "      <td>3.493</td>\n",
       "      <td>14.010</td>\n",
       "      <td>Passenger</td>\n",
       "      <td>45.50</td>\n",
       "      <td>2.3</td>\n",
       "      <td>236.0</td>\n",
       "      <td>104.9</td>\n",
       "      <td>71.5</td>\n",
       "      <td>185.7</td>\n",
       "      <td>3.601</td>\n",
       "      <td>18.5</td>\n",
       "      <td>23.0</td>\n",
       "      <td>101.623357</td>\n",
       "    </tr>\n",
       "    <tr>\n",
       "      <th>156</th>\n",
       "      <td>Volvo</td>\n",
       "      <td>18.969</td>\n",
       "      <td>14.010</td>\n",
       "      <td>Passenger</td>\n",
       "      <td>36.00</td>\n",
       "      <td>2.9</td>\n",
       "      <td>201.0</td>\n",
       "      <td>109.9</td>\n",
       "      <td>72.1</td>\n",
       "      <td>189.8</td>\n",
       "      <td>3.600</td>\n",
       "      <td>21.1</td>\n",
       "      <td>24.0</td>\n",
       "      <td>85.735655</td>\n",
       "    </tr>\n",
       "  </tbody>\n",
       "</table>\n",
       "<p>155 rows × 14 columns</p>\n",
       "</div>"
      ],
      "text/plain": [
       "    Manufacturer  Sales_in_thousands  __year_resale_value Vehicle_type  \\\n",
       "0          Acura              16.919               16.360    Passenger   \n",
       "1          Acura              39.384               19.875    Passenger   \n",
       "3          Acura               8.588               29.725    Passenger   \n",
       "4           Audi              20.397               22.255    Passenger   \n",
       "5           Audi              18.780               23.555    Passenger   \n",
       "..           ...                 ...                  ...          ...   \n",
       "152        Volvo               3.545               14.010    Passenger   \n",
       "153        Volvo              15.245               14.010    Passenger   \n",
       "154        Volvo              17.531               14.010    Passenger   \n",
       "155        Volvo               3.493               14.010    Passenger   \n",
       "156        Volvo              18.969               14.010    Passenger   \n",
       "\n",
       "     Price_in_thousands  Engine_size  Horsepower  Wheelbase  Width  Length  \\\n",
       "0                 21.50          1.8       140.0      101.2   67.3   172.4   \n",
       "1                 28.40          3.2       225.0      108.1   70.3   192.9   \n",
       "3                 42.00          3.5       210.0      114.6   71.4   196.6   \n",
       "4                 23.99          1.8       150.0      102.6   68.2   178.0   \n",
       "5                 33.95          2.8       200.0      108.7   76.1   192.0   \n",
       "..                  ...          ...         ...        ...    ...     ...   \n",
       "152               24.40          1.9       160.0      100.5   67.6   176.6   \n",
       "153               27.50          2.4       168.0      104.9   69.3   185.9   \n",
       "154               28.80          2.4       168.0      104.9   69.3   186.2   \n",
       "155               45.50          2.3       236.0      104.9   71.5   185.7   \n",
       "156               36.00          2.9       201.0      109.9   72.1   189.8   \n",
       "\n",
       "     Curb_weight  Fuel_capacity  Fuel_efficiency  Power_perf_factor  \n",
       "0          2.639           13.2             28.0          58.280150  \n",
       "1          3.517           17.2             25.0          91.370778  \n",
       "3          3.850           18.0             22.0          91.389779  \n",
       "4          2.998           16.4             27.0          62.777639  \n",
       "5          3.561           18.5             22.0          84.565105  \n",
       "..           ...            ...              ...                ...  \n",
       "152        3.042           15.8             25.0          66.498812  \n",
       "153        3.208           17.9             25.0          70.654495  \n",
       "154        3.259           17.9             25.0          71.155978  \n",
       "155        3.601           18.5             23.0         101.623357  \n",
       "156        3.600           21.1             24.0          85.735655  \n",
       "\n",
       "[155 rows x 14 columns]"
      ]
     },
     "execution_count": 19,
     "metadata": {},
     "output_type": "execute_result"
    }
   ],
   "source": [
    "new_dataset['__year_resale_value'].fillna(value = new_dataset['__year_resale_value'].median(), inplace = True)\n",
    "new_dataset['Fuel_efficiency'].fillna(value = new_dataset['Fuel_efficiency'].median(), inplace = True)\n",
    "new_dataset['Power_perf_factor'].fillna(value = new_dataset['Power_perf_factor'].median(), inplace = True)\n",
    "new_dataset"
   ]
  },
  {
   "cell_type": "code",
   "execution_count": 20,
   "id": "7e16ab9f",
   "metadata": {
    "execution": {
     "iopub.execute_input": "2022-03-13T05:22:24.014625Z",
     "iopub.status.busy": "2022-03-13T05:22:24.014015Z",
     "iopub.status.idle": "2022-03-13T05:22:24.025501Z",
     "shell.execute_reply": "2022-03-13T05:22:24.026363Z",
     "shell.execute_reply.started": "2022-03-13T05:16:49.728654Z"
    },
    "papermill": {
     "duration": 0.084223,
     "end_time": "2022-03-13T05:22:24.026590",
     "exception": false,
     "start_time": "2022-03-13T05:22:23.942367",
     "status": "completed"
    },
    "tags": []
   },
   "outputs": [
    {
     "name": "stdout",
     "output_type": "stream",
     "text": [
      "<class 'pandas.core.frame.DataFrame'>\n",
      "Int64Index: 155 entries, 0 to 156\n",
      "Data columns (total 14 columns):\n",
      " #   Column               Non-Null Count  Dtype  \n",
      "---  ------               --------------  -----  \n",
      " 0   Manufacturer         155 non-null    object \n",
      " 1   Sales_in_thousands   155 non-null    float64\n",
      " 2   __year_resale_value  155 non-null    float64\n",
      " 3   Vehicle_type         155 non-null    object \n",
      " 4   Price_in_thousands   155 non-null    float64\n",
      " 5   Engine_size          155 non-null    float64\n",
      " 6   Horsepower           155 non-null    float64\n",
      " 7   Wheelbase            155 non-null    float64\n",
      " 8   Width                155 non-null    float64\n",
      " 9   Length               155 non-null    float64\n",
      " 10  Curb_weight          154 non-null    float64\n",
      " 11  Fuel_capacity        155 non-null    float64\n",
      " 12  Fuel_efficiency      155 non-null    float64\n",
      " 13  Power_perf_factor    155 non-null    float64\n",
      "dtypes: float64(12), object(2)\n",
      "memory usage: 18.2+ KB\n"
     ]
    }
   ],
   "source": [
    "new_dataset.info()"
   ]
  },
  {
   "cell_type": "code",
   "execution_count": 21,
   "id": "0a414c5a",
   "metadata": {
    "execution": {
     "iopub.execute_input": "2022-03-13T05:22:24.198805Z",
     "iopub.status.busy": "2022-03-13T05:22:24.169626Z",
     "iopub.status.idle": "2022-03-13T05:22:24.203081Z",
     "shell.execute_reply": "2022-03-13T05:22:24.203598Z",
     "shell.execute_reply.started": "2022-03-13T05:16:49.744323Z"
    },
    "papermill": {
     "duration": 0.106374,
     "end_time": "2022-03-13T05:22:24.203768",
     "exception": false,
     "start_time": "2022-03-13T05:22:24.097394",
     "status": "completed"
    },
    "tags": []
   },
   "outputs": [
    {
     "name": "stderr",
     "output_type": "stream",
     "text": [
      "/opt/conda/lib/python3.7/site-packages/pandas/core/generic.py:6392: SettingWithCopyWarning: \n",
      "A value is trying to be set on a copy of a slice from a DataFrame\n",
      "\n",
      "See the caveats in the documentation: https://pandas.pydata.org/pandas-docs/stable/user_guide/indexing.html#returning-a-view-versus-a-copy\n",
      "  return self._update_inplace(result)\n"
     ]
    },
    {
     "data": {
      "text/html": [
       "<div>\n",
       "<style scoped>\n",
       "    .dataframe tbody tr th:only-of-type {\n",
       "        vertical-align: middle;\n",
       "    }\n",
       "\n",
       "    .dataframe tbody tr th {\n",
       "        vertical-align: top;\n",
       "    }\n",
       "\n",
       "    .dataframe thead th {\n",
       "        text-align: right;\n",
       "    }\n",
       "</style>\n",
       "<table border=\"1\" class=\"dataframe\">\n",
       "  <thead>\n",
       "    <tr style=\"text-align: right;\">\n",
       "      <th></th>\n",
       "      <th>Manufacturer</th>\n",
       "      <th>Sales_in_thousands</th>\n",
       "      <th>__year_resale_value</th>\n",
       "      <th>Vehicle_type</th>\n",
       "      <th>Price_in_thousands</th>\n",
       "      <th>Engine_size</th>\n",
       "      <th>Horsepower</th>\n",
       "      <th>Wheelbase</th>\n",
       "      <th>Width</th>\n",
       "      <th>Length</th>\n",
       "      <th>Curb_weight</th>\n",
       "      <th>Fuel_capacity</th>\n",
       "      <th>Fuel_efficiency</th>\n",
       "      <th>Power_perf_factor</th>\n",
       "    </tr>\n",
       "  </thead>\n",
       "  <tbody>\n",
       "    <tr>\n",
       "      <th>0</th>\n",
       "      <td>Acura</td>\n",
       "      <td>16.919</td>\n",
       "      <td>16.360</td>\n",
       "      <td>Passenger</td>\n",
       "      <td>21.50</td>\n",
       "      <td>1.8</td>\n",
       "      <td>140.0</td>\n",
       "      <td>101.2</td>\n",
       "      <td>67.3</td>\n",
       "      <td>172.4</td>\n",
       "      <td>2.639</td>\n",
       "      <td>13.2</td>\n",
       "      <td>28.0</td>\n",
       "      <td>58.280150</td>\n",
       "    </tr>\n",
       "    <tr>\n",
       "      <th>1</th>\n",
       "      <td>Acura</td>\n",
       "      <td>39.384</td>\n",
       "      <td>19.875</td>\n",
       "      <td>Passenger</td>\n",
       "      <td>28.40</td>\n",
       "      <td>3.2</td>\n",
       "      <td>225.0</td>\n",
       "      <td>108.1</td>\n",
       "      <td>70.3</td>\n",
       "      <td>192.9</td>\n",
       "      <td>3.517</td>\n",
       "      <td>17.2</td>\n",
       "      <td>25.0</td>\n",
       "      <td>91.370778</td>\n",
       "    </tr>\n",
       "    <tr>\n",
       "      <th>3</th>\n",
       "      <td>Acura</td>\n",
       "      <td>8.588</td>\n",
       "      <td>29.725</td>\n",
       "      <td>Passenger</td>\n",
       "      <td>42.00</td>\n",
       "      <td>3.5</td>\n",
       "      <td>210.0</td>\n",
       "      <td>114.6</td>\n",
       "      <td>71.4</td>\n",
       "      <td>196.6</td>\n",
       "      <td>3.850</td>\n",
       "      <td>18.0</td>\n",
       "      <td>22.0</td>\n",
       "      <td>91.389779</td>\n",
       "    </tr>\n",
       "    <tr>\n",
       "      <th>4</th>\n",
       "      <td>Audi</td>\n",
       "      <td>20.397</td>\n",
       "      <td>22.255</td>\n",
       "      <td>Passenger</td>\n",
       "      <td>23.99</td>\n",
       "      <td>1.8</td>\n",
       "      <td>150.0</td>\n",
       "      <td>102.6</td>\n",
       "      <td>68.2</td>\n",
       "      <td>178.0</td>\n",
       "      <td>2.998</td>\n",
       "      <td>16.4</td>\n",
       "      <td>27.0</td>\n",
       "      <td>62.777639</td>\n",
       "    </tr>\n",
       "    <tr>\n",
       "      <th>5</th>\n",
       "      <td>Audi</td>\n",
       "      <td>18.780</td>\n",
       "      <td>23.555</td>\n",
       "      <td>Passenger</td>\n",
       "      <td>33.95</td>\n",
       "      <td>2.8</td>\n",
       "      <td>200.0</td>\n",
       "      <td>108.7</td>\n",
       "      <td>76.1</td>\n",
       "      <td>192.0</td>\n",
       "      <td>3.561</td>\n",
       "      <td>18.5</td>\n",
       "      <td>22.0</td>\n",
       "      <td>84.565105</td>\n",
       "    </tr>\n",
       "    <tr>\n",
       "      <th>...</th>\n",
       "      <td>...</td>\n",
       "      <td>...</td>\n",
       "      <td>...</td>\n",
       "      <td>...</td>\n",
       "      <td>...</td>\n",
       "      <td>...</td>\n",
       "      <td>...</td>\n",
       "      <td>...</td>\n",
       "      <td>...</td>\n",
       "      <td>...</td>\n",
       "      <td>...</td>\n",
       "      <td>...</td>\n",
       "      <td>...</td>\n",
       "      <td>...</td>\n",
       "    </tr>\n",
       "    <tr>\n",
       "      <th>152</th>\n",
       "      <td>Volvo</td>\n",
       "      <td>3.545</td>\n",
       "      <td>14.010</td>\n",
       "      <td>Passenger</td>\n",
       "      <td>24.40</td>\n",
       "      <td>1.9</td>\n",
       "      <td>160.0</td>\n",
       "      <td>100.5</td>\n",
       "      <td>67.6</td>\n",
       "      <td>176.6</td>\n",
       "      <td>3.042</td>\n",
       "      <td>15.8</td>\n",
       "      <td>25.0</td>\n",
       "      <td>66.498812</td>\n",
       "    </tr>\n",
       "    <tr>\n",
       "      <th>153</th>\n",
       "      <td>Volvo</td>\n",
       "      <td>15.245</td>\n",
       "      <td>14.010</td>\n",
       "      <td>Passenger</td>\n",
       "      <td>27.50</td>\n",
       "      <td>2.4</td>\n",
       "      <td>168.0</td>\n",
       "      <td>104.9</td>\n",
       "      <td>69.3</td>\n",
       "      <td>185.9</td>\n",
       "      <td>3.208</td>\n",
       "      <td>17.9</td>\n",
       "      <td>25.0</td>\n",
       "      <td>70.654495</td>\n",
       "    </tr>\n",
       "    <tr>\n",
       "      <th>154</th>\n",
       "      <td>Volvo</td>\n",
       "      <td>17.531</td>\n",
       "      <td>14.010</td>\n",
       "      <td>Passenger</td>\n",
       "      <td>28.80</td>\n",
       "      <td>2.4</td>\n",
       "      <td>168.0</td>\n",
       "      <td>104.9</td>\n",
       "      <td>69.3</td>\n",
       "      <td>186.2</td>\n",
       "      <td>3.259</td>\n",
       "      <td>17.9</td>\n",
       "      <td>25.0</td>\n",
       "      <td>71.155978</td>\n",
       "    </tr>\n",
       "    <tr>\n",
       "      <th>155</th>\n",
       "      <td>Volvo</td>\n",
       "      <td>3.493</td>\n",
       "      <td>14.010</td>\n",
       "      <td>Passenger</td>\n",
       "      <td>45.50</td>\n",
       "      <td>2.3</td>\n",
       "      <td>236.0</td>\n",
       "      <td>104.9</td>\n",
       "      <td>71.5</td>\n",
       "      <td>185.7</td>\n",
       "      <td>3.601</td>\n",
       "      <td>18.5</td>\n",
       "      <td>23.0</td>\n",
       "      <td>101.623357</td>\n",
       "    </tr>\n",
       "    <tr>\n",
       "      <th>156</th>\n",
       "      <td>Volvo</td>\n",
       "      <td>18.969</td>\n",
       "      <td>14.010</td>\n",
       "      <td>Passenger</td>\n",
       "      <td>36.00</td>\n",
       "      <td>2.9</td>\n",
       "      <td>201.0</td>\n",
       "      <td>109.9</td>\n",
       "      <td>72.1</td>\n",
       "      <td>189.8</td>\n",
       "      <td>3.600</td>\n",
       "      <td>21.1</td>\n",
       "      <td>24.0</td>\n",
       "      <td>85.735655</td>\n",
       "    </tr>\n",
       "  </tbody>\n",
       "</table>\n",
       "<p>155 rows × 14 columns</p>\n",
       "</div>"
      ],
      "text/plain": [
       "    Manufacturer  Sales_in_thousands  __year_resale_value Vehicle_type  \\\n",
       "0          Acura              16.919               16.360    Passenger   \n",
       "1          Acura              39.384               19.875    Passenger   \n",
       "3          Acura               8.588               29.725    Passenger   \n",
       "4           Audi              20.397               22.255    Passenger   \n",
       "5           Audi              18.780               23.555    Passenger   \n",
       "..           ...                 ...                  ...          ...   \n",
       "152        Volvo               3.545               14.010    Passenger   \n",
       "153        Volvo              15.245               14.010    Passenger   \n",
       "154        Volvo              17.531               14.010    Passenger   \n",
       "155        Volvo               3.493               14.010    Passenger   \n",
       "156        Volvo              18.969               14.010    Passenger   \n",
       "\n",
       "     Price_in_thousands  Engine_size  Horsepower  Wheelbase  Width  Length  \\\n",
       "0                 21.50          1.8       140.0      101.2   67.3   172.4   \n",
       "1                 28.40          3.2       225.0      108.1   70.3   192.9   \n",
       "3                 42.00          3.5       210.0      114.6   71.4   196.6   \n",
       "4                 23.99          1.8       150.0      102.6   68.2   178.0   \n",
       "5                 33.95          2.8       200.0      108.7   76.1   192.0   \n",
       "..                  ...          ...         ...        ...    ...     ...   \n",
       "152               24.40          1.9       160.0      100.5   67.6   176.6   \n",
       "153               27.50          2.4       168.0      104.9   69.3   185.9   \n",
       "154               28.80          2.4       168.0      104.9   69.3   186.2   \n",
       "155               45.50          2.3       236.0      104.9   71.5   185.7   \n",
       "156               36.00          2.9       201.0      109.9   72.1   189.8   \n",
       "\n",
       "     Curb_weight  Fuel_capacity  Fuel_efficiency  Power_perf_factor  \n",
       "0          2.639           13.2             28.0          58.280150  \n",
       "1          3.517           17.2             25.0          91.370778  \n",
       "3          3.850           18.0             22.0          91.389779  \n",
       "4          2.998           16.4             27.0          62.777639  \n",
       "5          3.561           18.5             22.0          84.565105  \n",
       "..           ...            ...              ...                ...  \n",
       "152        3.042           15.8             25.0          66.498812  \n",
       "153        3.208           17.9             25.0          70.654495  \n",
       "154        3.259           17.9             25.0          71.155978  \n",
       "155        3.601           18.5             23.0         101.623357  \n",
       "156        3.600           21.1             24.0          85.735655  \n",
       "\n",
       "[155 rows x 14 columns]"
      ]
     },
     "execution_count": 21,
     "metadata": {},
     "output_type": "execute_result"
    }
   ],
   "source": [
    "new_dataset['Curb_weight'].fillna(value = new_dataset['Curb_weight'].mean(), inplace = True)\n",
    "new_dataset"
   ]
  },
  {
   "cell_type": "code",
   "execution_count": 22,
   "id": "e7d83352",
   "metadata": {
    "execution": {
     "iopub.execute_input": "2022-03-13T05:22:24.348955Z",
     "iopub.status.busy": "2022-03-13T05:22:24.348284Z",
     "iopub.status.idle": "2022-03-13T05:22:24.359713Z",
     "shell.execute_reply": "2022-03-13T05:22:24.358915Z",
     "shell.execute_reply.started": "2022-03-13T05:16:49.786013Z"
    },
    "papermill": {
     "duration": 0.085733,
     "end_time": "2022-03-13T05:22:24.359917",
     "exception": false,
     "start_time": "2022-03-13T05:22:24.274184",
     "status": "completed"
    },
    "tags": []
   },
   "outputs": [
    {
     "name": "stdout",
     "output_type": "stream",
     "text": [
      "<class 'pandas.core.frame.DataFrame'>\n",
      "Int64Index: 155 entries, 0 to 156\n",
      "Data columns (total 14 columns):\n",
      " #   Column               Non-Null Count  Dtype  \n",
      "---  ------               --------------  -----  \n",
      " 0   Manufacturer         155 non-null    object \n",
      " 1   Sales_in_thousands   155 non-null    float64\n",
      " 2   __year_resale_value  155 non-null    float64\n",
      " 3   Vehicle_type         155 non-null    object \n",
      " 4   Price_in_thousands   155 non-null    float64\n",
      " 5   Engine_size          155 non-null    float64\n",
      " 6   Horsepower           155 non-null    float64\n",
      " 7   Wheelbase            155 non-null    float64\n",
      " 8   Width                155 non-null    float64\n",
      " 9   Length               155 non-null    float64\n",
      " 10  Curb_weight          155 non-null    float64\n",
      " 11  Fuel_capacity        155 non-null    float64\n",
      " 12  Fuel_efficiency      155 non-null    float64\n",
      " 13  Power_perf_factor    155 non-null    float64\n",
      "dtypes: float64(12), object(2)\n",
      "memory usage: 18.2+ KB\n"
     ]
    }
   ],
   "source": [
    "new_dataset.info()"
   ]
  },
  {
   "cell_type": "code",
   "execution_count": 23,
   "id": "d9dd407a",
   "metadata": {
    "execution": {
     "iopub.execute_input": "2022-03-13T05:22:24.516075Z",
     "iopub.status.busy": "2022-03-13T05:22:24.515241Z",
     "iopub.status.idle": "2022-03-13T05:22:24.536203Z",
     "shell.execute_reply": "2022-03-13T05:22:24.535432Z",
     "shell.execute_reply.started": "2022-03-13T05:16:49.801991Z"
    },
    "papermill": {
     "duration": 0.104778,
     "end_time": "2022-03-13T05:22:24.536400",
     "exception": false,
     "start_time": "2022-03-13T05:22:24.431622",
     "status": "completed"
    },
    "tags": []
   },
   "outputs": [
    {
     "name": "stdout",
     "output_type": "stream",
     "text": [
      "Column: __year_resale_value and VIF: 13.19\n",
      "Column: Engine_size and VIF: 9007199254740992.0\n",
      "Column: Wheelbase and VIF: 885.49\n",
      "Column: Length and VIF: 495.93\n",
      "Column: Fuel_capacity and VIF: 101.84\n",
      "Column: Power_perf_factor and VIF: 515276.15\n"
     ]
    }
   ],
   "source": [
    "\n",
    "'''On observing the correlation matrix, it was evident that almost all the variables are pairwise correlated. \n",
    "Hence, we use the Variance Inflation Factor (VIF) to identify those columns which cause the problem of multicollinearity\n",
    "in the dataset.'''\n",
    "\n",
    "sample_dataset = new_dataset.drop(['Sales_in_thousands','Manufacturer', 'Vehicle_type'], axis = 1) ### Removing categorical data for calculating VIF\n",
    "column_names = list(sample_dataset.columns)\n",
    "\n",
    "for name in column_names:\n",
    "    if len(column_names) >= 2:\n",
    "        Y = sample_dataset.loc[:, sample_dataset.columns == name]\n",
    "        X = sample_dataset.loc[:, sample_dataset.columns != name]\n",
    "        linear_model = sm.OLS(Y, X)\n",
    "        results = linear_model.fit()\n",
    "        r_squared = results.rsquared\n",
    "        vif_value = round(1/(1 - r_squared), 2)\n",
    "        print(\"Column: {} and VIF: {}\".format(name, vif_value))\n",
    "        if vif_value > 10:\n",
    "            sample_dataset = sample_dataset.drop([name], axis = 1)\n",
    "            column_names.remove(name)"
   ]
  },
  {
   "cell_type": "code",
   "execution_count": 24,
   "id": "21f3a8bd",
   "metadata": {
    "execution": {
     "iopub.execute_input": "2022-03-13T05:22:24.686528Z",
     "iopub.status.busy": "2022-03-13T05:22:24.685860Z",
     "iopub.status.idle": "2022-03-13T05:22:24.705923Z",
     "shell.execute_reply": "2022-03-13T05:22:24.706426Z",
     "shell.execute_reply.started": "2022-03-13T05:16:49.833402Z"
    },
    "papermill": {
     "duration": 0.096626,
     "end_time": "2022-03-13T05:22:24.706598",
     "exception": false,
     "start_time": "2022-03-13T05:22:24.609972",
     "status": "completed"
    },
    "tags": []
   },
   "outputs": [
    {
     "data": {
      "text/html": [
       "<div>\n",
       "<style scoped>\n",
       "    .dataframe tbody tr th:only-of-type {\n",
       "        vertical-align: middle;\n",
       "    }\n",
       "\n",
       "    .dataframe tbody tr th {\n",
       "        vertical-align: top;\n",
       "    }\n",
       "\n",
       "    .dataframe thead th {\n",
       "        text-align: right;\n",
       "    }\n",
       "</style>\n",
       "<table border=\"1\" class=\"dataframe\">\n",
       "  <thead>\n",
       "    <tr style=\"text-align: right;\">\n",
       "      <th></th>\n",
       "      <th>Manufacturer</th>\n",
       "      <th>Sales_in_thousands</th>\n",
       "      <th>Vehicle_type</th>\n",
       "      <th>Price_in_thousands</th>\n",
       "      <th>Horsepower</th>\n",
       "      <th>Width</th>\n",
       "      <th>Curb_weight</th>\n",
       "      <th>Fuel_efficiency</th>\n",
       "    </tr>\n",
       "  </thead>\n",
       "  <tbody>\n",
       "    <tr>\n",
       "      <th>0</th>\n",
       "      <td>Acura</td>\n",
       "      <td>16.919</td>\n",
       "      <td>Passenger</td>\n",
       "      <td>21.50</td>\n",
       "      <td>140.0</td>\n",
       "      <td>67.3</td>\n",
       "      <td>2.639</td>\n",
       "      <td>28.0</td>\n",
       "    </tr>\n",
       "    <tr>\n",
       "      <th>1</th>\n",
       "      <td>Acura</td>\n",
       "      <td>39.384</td>\n",
       "      <td>Passenger</td>\n",
       "      <td>28.40</td>\n",
       "      <td>225.0</td>\n",
       "      <td>70.3</td>\n",
       "      <td>3.517</td>\n",
       "      <td>25.0</td>\n",
       "    </tr>\n",
       "    <tr>\n",
       "      <th>3</th>\n",
       "      <td>Acura</td>\n",
       "      <td>8.588</td>\n",
       "      <td>Passenger</td>\n",
       "      <td>42.00</td>\n",
       "      <td>210.0</td>\n",
       "      <td>71.4</td>\n",
       "      <td>3.850</td>\n",
       "      <td>22.0</td>\n",
       "    </tr>\n",
       "    <tr>\n",
       "      <th>4</th>\n",
       "      <td>Audi</td>\n",
       "      <td>20.397</td>\n",
       "      <td>Passenger</td>\n",
       "      <td>23.99</td>\n",
       "      <td>150.0</td>\n",
       "      <td>68.2</td>\n",
       "      <td>2.998</td>\n",
       "      <td>27.0</td>\n",
       "    </tr>\n",
       "    <tr>\n",
       "      <th>5</th>\n",
       "      <td>Audi</td>\n",
       "      <td>18.780</td>\n",
       "      <td>Passenger</td>\n",
       "      <td>33.95</td>\n",
       "      <td>200.0</td>\n",
       "      <td>76.1</td>\n",
       "      <td>3.561</td>\n",
       "      <td>22.0</td>\n",
       "    </tr>\n",
       "    <tr>\n",
       "      <th>...</th>\n",
       "      <td>...</td>\n",
       "      <td>...</td>\n",
       "      <td>...</td>\n",
       "      <td>...</td>\n",
       "      <td>...</td>\n",
       "      <td>...</td>\n",
       "      <td>...</td>\n",
       "      <td>...</td>\n",
       "    </tr>\n",
       "    <tr>\n",
       "      <th>152</th>\n",
       "      <td>Volvo</td>\n",
       "      <td>3.545</td>\n",
       "      <td>Passenger</td>\n",
       "      <td>24.40</td>\n",
       "      <td>160.0</td>\n",
       "      <td>67.6</td>\n",
       "      <td>3.042</td>\n",
       "      <td>25.0</td>\n",
       "    </tr>\n",
       "    <tr>\n",
       "      <th>153</th>\n",
       "      <td>Volvo</td>\n",
       "      <td>15.245</td>\n",
       "      <td>Passenger</td>\n",
       "      <td>27.50</td>\n",
       "      <td>168.0</td>\n",
       "      <td>69.3</td>\n",
       "      <td>3.208</td>\n",
       "      <td>25.0</td>\n",
       "    </tr>\n",
       "    <tr>\n",
       "      <th>154</th>\n",
       "      <td>Volvo</td>\n",
       "      <td>17.531</td>\n",
       "      <td>Passenger</td>\n",
       "      <td>28.80</td>\n",
       "      <td>168.0</td>\n",
       "      <td>69.3</td>\n",
       "      <td>3.259</td>\n",
       "      <td>25.0</td>\n",
       "    </tr>\n",
       "    <tr>\n",
       "      <th>155</th>\n",
       "      <td>Volvo</td>\n",
       "      <td>3.493</td>\n",
       "      <td>Passenger</td>\n",
       "      <td>45.50</td>\n",
       "      <td>236.0</td>\n",
       "      <td>71.5</td>\n",
       "      <td>3.601</td>\n",
       "      <td>23.0</td>\n",
       "    </tr>\n",
       "    <tr>\n",
       "      <th>156</th>\n",
       "      <td>Volvo</td>\n",
       "      <td>18.969</td>\n",
       "      <td>Passenger</td>\n",
       "      <td>36.00</td>\n",
       "      <td>201.0</td>\n",
       "      <td>72.1</td>\n",
       "      <td>3.600</td>\n",
       "      <td>24.0</td>\n",
       "    </tr>\n",
       "  </tbody>\n",
       "</table>\n",
       "<p>155 rows × 8 columns</p>\n",
       "</div>"
      ],
      "text/plain": [
       "    Manufacturer  Sales_in_thousands Vehicle_type  Price_in_thousands  \\\n",
       "0          Acura              16.919    Passenger               21.50   \n",
       "1          Acura              39.384    Passenger               28.40   \n",
       "3          Acura               8.588    Passenger               42.00   \n",
       "4           Audi              20.397    Passenger               23.99   \n",
       "5           Audi              18.780    Passenger               33.95   \n",
       "..           ...                 ...          ...                 ...   \n",
       "152        Volvo               3.545    Passenger               24.40   \n",
       "153        Volvo              15.245    Passenger               27.50   \n",
       "154        Volvo              17.531    Passenger               28.80   \n",
       "155        Volvo               3.493    Passenger               45.50   \n",
       "156        Volvo              18.969    Passenger               36.00   \n",
       "\n",
       "     Horsepower  Width  Curb_weight  Fuel_efficiency  \n",
       "0         140.0   67.3        2.639             28.0  \n",
       "1         225.0   70.3        3.517             25.0  \n",
       "3         210.0   71.4        3.850             22.0  \n",
       "4         150.0   68.2        2.998             27.0  \n",
       "5         200.0   76.1        3.561             22.0  \n",
       "..          ...    ...          ...              ...  \n",
       "152       160.0   67.6        3.042             25.0  \n",
       "153       168.0   69.3        3.208             25.0  \n",
       "154       168.0   69.3        3.259             25.0  \n",
       "155       236.0   71.5        3.601             23.0  \n",
       "156       201.0   72.1        3.600             24.0  \n",
       "\n",
       "[155 rows x 8 columns]"
      ]
     },
     "execution_count": 24,
     "metadata": {},
     "output_type": "execute_result"
    }
   ],
   "source": [
    "final_dataset = new_dataset.drop(['__year_resale_value', 'Engine_size', 'Wheelbase', 'Length', \n",
    "                                     'Fuel_capacity', 'Power_perf_factor'], axis = 1)\n",
    "final_dataset"
   ]
  },
  {
   "cell_type": "code",
   "execution_count": 25,
   "id": "22543e5d",
   "metadata": {
    "execution": {
     "iopub.execute_input": "2022-03-13T05:22:24.854527Z",
     "iopub.status.busy": "2022-03-13T05:22:24.853827Z",
     "iopub.status.idle": "2022-03-13T05:22:24.876078Z",
     "shell.execute_reply": "2022-03-13T05:22:24.876596Z",
     "shell.execute_reply.started": "2022-03-13T05:16:49.860130Z"
    },
    "papermill": {
     "duration": 0.098181,
     "end_time": "2022-03-13T05:22:24.876767",
     "exception": false,
     "start_time": "2022-03-13T05:22:24.778586",
     "status": "completed"
    },
    "tags": []
   },
   "outputs": [
    {
     "data": {
      "text/html": [
       "<div>\n",
       "<style scoped>\n",
       "    .dataframe tbody tr th:only-of-type {\n",
       "        vertical-align: middle;\n",
       "    }\n",
       "\n",
       "    .dataframe tbody tr th {\n",
       "        vertical-align: top;\n",
       "    }\n",
       "\n",
       "    .dataframe thead th {\n",
       "        text-align: right;\n",
       "    }\n",
       "</style>\n",
       "<table border=\"1\" class=\"dataframe\">\n",
       "  <thead>\n",
       "    <tr style=\"text-align: right;\">\n",
       "      <th></th>\n",
       "      <th>Manufacturer</th>\n",
       "      <th>Sales_in_thousands</th>\n",
       "      <th>Vehicle_type</th>\n",
       "      <th>Price_in_thousands</th>\n",
       "      <th>Horsepower</th>\n",
       "      <th>Width</th>\n",
       "      <th>Curb_weight</th>\n",
       "      <th>Fuel_efficiency</th>\n",
       "    </tr>\n",
       "  </thead>\n",
       "  <tbody>\n",
       "    <tr>\n",
       "      <th>0</th>\n",
       "      <td>1</td>\n",
       "      <td>16.919</td>\n",
       "      <td>Passenger</td>\n",
       "      <td>21.50</td>\n",
       "      <td>140.0</td>\n",
       "      <td>67.3</td>\n",
       "      <td>2.639</td>\n",
       "      <td>28.0</td>\n",
       "    </tr>\n",
       "    <tr>\n",
       "      <th>1</th>\n",
       "      <td>1</td>\n",
       "      <td>39.384</td>\n",
       "      <td>Passenger</td>\n",
       "      <td>28.40</td>\n",
       "      <td>225.0</td>\n",
       "      <td>70.3</td>\n",
       "      <td>3.517</td>\n",
       "      <td>25.0</td>\n",
       "    </tr>\n",
       "    <tr>\n",
       "      <th>3</th>\n",
       "      <td>1</td>\n",
       "      <td>8.588</td>\n",
       "      <td>Passenger</td>\n",
       "      <td>42.00</td>\n",
       "      <td>210.0</td>\n",
       "      <td>71.4</td>\n",
       "      <td>3.850</td>\n",
       "      <td>22.0</td>\n",
       "    </tr>\n",
       "    <tr>\n",
       "      <th>4</th>\n",
       "      <td>1</td>\n",
       "      <td>20.397</td>\n",
       "      <td>Passenger</td>\n",
       "      <td>23.99</td>\n",
       "      <td>150.0</td>\n",
       "      <td>68.2</td>\n",
       "      <td>2.998</td>\n",
       "      <td>27.0</td>\n",
       "    </tr>\n",
       "    <tr>\n",
       "      <th>5</th>\n",
       "      <td>1</td>\n",
       "      <td>18.780</td>\n",
       "      <td>Passenger</td>\n",
       "      <td>33.95</td>\n",
       "      <td>200.0</td>\n",
       "      <td>76.1</td>\n",
       "      <td>3.561</td>\n",
       "      <td>22.0</td>\n",
       "    </tr>\n",
       "    <tr>\n",
       "      <th>...</th>\n",
       "      <td>...</td>\n",
       "      <td>...</td>\n",
       "      <td>...</td>\n",
       "      <td>...</td>\n",
       "      <td>...</td>\n",
       "      <td>...</td>\n",
       "      <td>...</td>\n",
       "      <td>...</td>\n",
       "    </tr>\n",
       "    <tr>\n",
       "      <th>152</th>\n",
       "      <td>1</td>\n",
       "      <td>3.545</td>\n",
       "      <td>Passenger</td>\n",
       "      <td>24.40</td>\n",
       "      <td>160.0</td>\n",
       "      <td>67.6</td>\n",
       "      <td>3.042</td>\n",
       "      <td>25.0</td>\n",
       "    </tr>\n",
       "    <tr>\n",
       "      <th>153</th>\n",
       "      <td>1</td>\n",
       "      <td>15.245</td>\n",
       "      <td>Passenger</td>\n",
       "      <td>27.50</td>\n",
       "      <td>168.0</td>\n",
       "      <td>69.3</td>\n",
       "      <td>3.208</td>\n",
       "      <td>25.0</td>\n",
       "    </tr>\n",
       "    <tr>\n",
       "      <th>154</th>\n",
       "      <td>1</td>\n",
       "      <td>17.531</td>\n",
       "      <td>Passenger</td>\n",
       "      <td>28.80</td>\n",
       "      <td>168.0</td>\n",
       "      <td>69.3</td>\n",
       "      <td>3.259</td>\n",
       "      <td>25.0</td>\n",
       "    </tr>\n",
       "    <tr>\n",
       "      <th>155</th>\n",
       "      <td>1</td>\n",
       "      <td>3.493</td>\n",
       "      <td>Passenger</td>\n",
       "      <td>45.50</td>\n",
       "      <td>236.0</td>\n",
       "      <td>71.5</td>\n",
       "      <td>3.601</td>\n",
       "      <td>23.0</td>\n",
       "    </tr>\n",
       "    <tr>\n",
       "      <th>156</th>\n",
       "      <td>1</td>\n",
       "      <td>18.969</td>\n",
       "      <td>Passenger</td>\n",
       "      <td>36.00</td>\n",
       "      <td>201.0</td>\n",
       "      <td>72.1</td>\n",
       "      <td>3.600</td>\n",
       "      <td>24.0</td>\n",
       "    </tr>\n",
       "  </tbody>\n",
       "</table>\n",
       "<p>155 rows × 8 columns</p>\n",
       "</div>"
      ],
      "text/plain": [
       "     Manufacturer  Sales_in_thousands Vehicle_type  Price_in_thousands  \\\n",
       "0               1              16.919    Passenger               21.50   \n",
       "1               1              39.384    Passenger               28.40   \n",
       "3               1               8.588    Passenger               42.00   \n",
       "4               1              20.397    Passenger               23.99   \n",
       "5               1              18.780    Passenger               33.95   \n",
       "..            ...                 ...          ...                 ...   \n",
       "152             1               3.545    Passenger               24.40   \n",
       "153             1              15.245    Passenger               27.50   \n",
       "154             1              17.531    Passenger               28.80   \n",
       "155             1               3.493    Passenger               45.50   \n",
       "156             1              18.969    Passenger               36.00   \n",
       "\n",
       "     Horsepower  Width  Curb_weight  Fuel_efficiency  \n",
       "0         140.0   67.3        2.639             28.0  \n",
       "1         225.0   70.3        3.517             25.0  \n",
       "3         210.0   71.4        3.850             22.0  \n",
       "4         150.0   68.2        2.998             27.0  \n",
       "5         200.0   76.1        3.561             22.0  \n",
       "..          ...    ...          ...              ...  \n",
       "152       160.0   67.6        3.042             25.0  \n",
       "153       168.0   69.3        3.208             25.0  \n",
       "154       168.0   69.3        3.259             25.0  \n",
       "155       236.0   71.5        3.601             23.0  \n",
       "156       201.0   72.1        3.600             24.0  \n",
       "\n",
       "[155 rows x 8 columns]"
      ]
     },
     "execution_count": 25,
     "metadata": {},
     "output_type": "execute_result"
    }
   ],
   "source": [
    "'''Encoding the variable - Manufacturer such that if the average sales of a manufacturer are greater than 75, they belong \n",
    "to class 2, else class 1'''\n",
    "\n",
    "manufacturers = []\n",
    "for each_manufacturer in final_dataset['Manufacturer']:\n",
    "    if sorted_manufacturers[each_manufacturer] > 75:\n",
    "        manufacturers.append(2)\n",
    "    else:\n",
    "        manufacturers.append(1)\n",
    "final_dataset['Manufacturer'] = manufacturers\n",
    "final_dataset"
   ]
  },
  {
   "cell_type": "code",
   "execution_count": 26,
   "id": "370197fa",
   "metadata": {
    "execution": {
     "iopub.execute_input": "2022-03-13T05:22:25.027030Z",
     "iopub.status.busy": "2022-03-13T05:22:25.026324Z",
     "iopub.status.idle": "2022-03-13T05:22:25.032772Z",
     "shell.execute_reply": "2022-03-13T05:22:25.033350Z",
     "shell.execute_reply.started": "2022-03-13T05:17:00.851694Z"
    },
    "papermill": {
     "duration": 0.08419,
     "end_time": "2022-03-13T05:22:25.033520",
     "exception": false,
     "start_time": "2022-03-13T05:22:24.949330",
     "status": "completed"
    },
    "tags": []
   },
   "outputs": [
    {
     "name": "stdout",
     "output_type": "stream",
     "text": [
      "[1 16.919 'Passenger' 140.0 67.3 2.639 28.0]\n"
     ]
    }
   ],
   "source": [
    "X = final_dataset.iloc[:, [0, 1, 2, 4, 5, 6, 7]].values\n",
    "Y = final_dataset.iloc[:, 3:4].values\n",
    "print(X[0])"
   ]
  },
  {
   "cell_type": "code",
   "execution_count": 27,
   "id": "d9ea4af5",
   "metadata": {
    "execution": {
     "iopub.execute_input": "2022-03-13T05:22:25.186064Z",
     "iopub.status.busy": "2022-03-13T05:22:25.185233Z",
     "iopub.status.idle": "2022-03-13T05:22:25.195483Z",
     "shell.execute_reply": "2022-03-13T05:22:25.196182Z",
     "shell.execute_reply.started": "2022-03-13T05:17:07.856606Z"
    },
    "papermill": {
     "duration": 0.088186,
     "end_time": "2022-03-13T05:22:25.196364",
     "exception": false,
     "start_time": "2022-03-13T05:22:25.108178",
     "status": "completed"
    },
    "tags": []
   },
   "outputs": [
    {
     "name": "stdout",
     "output_type": "stream",
     "text": [
      "[[21.5  ]\n",
      " [28.4  ]\n",
      " [42.   ]\n",
      " [23.99 ]\n",
      " [33.95 ]\n",
      " [62.   ]\n",
      " [26.99 ]\n",
      " [33.4  ]\n",
      " [38.9  ]\n",
      " [21.975]\n",
      " [25.3  ]\n",
      " [31.965]\n",
      " [27.885]\n",
      " [39.895]\n",
      " [44.475]\n",
      " [39.665]\n",
      " [31.01 ]\n",
      " [46.225]\n",
      " [13.26 ]\n",
      " [16.535]\n",
      " [18.89 ]\n",
      " [19.39 ]\n",
      " [24.34 ]\n",
      " [45.705]\n",
      " [13.96 ]\n",
      " [ 9.235]\n",
      " [18.89 ]\n",
      " [19.84 ]\n",
      " [24.495]\n",
      " [22.245]\n",
      " [16.48 ]\n",
      " [28.34 ]\n",
      " [29.185]\n",
      " [12.64 ]\n",
      " [19.045]\n",
      " [20.23 ]\n",
      " [22.505]\n",
      " [69.725]\n",
      " [19.46 ]\n",
      " [21.315]\n",
      " [18.575]\n",
      " [16.98 ]\n",
      " [26.31 ]\n",
      " [19.565]\n",
      " [12.07 ]\n",
      " [21.56 ]\n",
      " [17.035]\n",
      " [17.885]\n",
      " [12.315]\n",
      " [22.195]\n",
      " [31.93 ]\n",
      " [21.41 ]\n",
      " [36.135]\n",
      " [12.05 ]\n",
      " [26.935]\n",
      " [12.885]\n",
      " [15.35 ]\n",
      " [20.55 ]\n",
      " [26.6  ]\n",
      " [26.   ]\n",
      " [ 9.699]\n",
      " [11.799]\n",
      " [14.999]\n",
      " [29.465]\n",
      " [42.8  ]\n",
      " [14.46 ]\n",
      " [21.62 ]\n",
      " [26.895]\n",
      " [31.505]\n",
      " [37.805]\n",
      " [46.305]\n",
      " [54.005]\n",
      " [60.105]\n",
      " [34.605]\n",
      " [39.08 ]\n",
      " [43.33 ]\n",
      " [42.66 ]\n",
      " [13.987]\n",
      " [19.047]\n",
      " [17.357]\n",
      " [24.997]\n",
      " [25.45 ]\n",
      " [31.807]\n",
      " [22.527]\n",
      " [16.24 ]\n",
      " [16.54 ]\n",
      " [19.035]\n",
      " [22.605]\n",
      " [27.56 ]\n",
      " [22.51 ]\n",
      " [31.75 ]\n",
      " [49.9  ]\n",
      " [69.7  ]\n",
      " [82.6  ]\n",
      " [38.9  ]\n",
      " [41.   ]\n",
      " [41.6  ]\n",
      " [85.5  ]\n",
      " [35.3  ]\n",
      " [13.499]\n",
      " [20.39 ]\n",
      " [26.249]\n",
      " [26.399]\n",
      " [29.299]\n",
      " [22.799]\n",
      " [17.89 ]\n",
      " [18.145]\n",
      " [24.15 ]\n",
      " [18.27 ]\n",
      " [36.229]\n",
      " [31.598]\n",
      " [25.345]\n",
      " [12.64 ]\n",
      " [16.08 ]\n",
      " [18.85 ]\n",
      " [43.   ]\n",
      " [21.61 ]\n",
      " [19.72 ]\n",
      " [25.31 ]\n",
      " [21.665]\n",
      " [23.755]\n",
      " [25.635]\n",
      " [41.43 ]\n",
      " [71.02 ]\n",
      " [74.97 ]\n",
      " [33.12 ]\n",
      " [26.1  ]\n",
      " [10.685]\n",
      " [12.535]\n",
      " [14.29 ]\n",
      " [18.835]\n",
      " [15.01 ]\n",
      " [22.695]\n",
      " [20.095]\n",
      " [13.108]\n",
      " [17.518]\n",
      " [25.545]\n",
      " [16.875]\n",
      " [11.528]\n",
      " [22.368]\n",
      " [16.888]\n",
      " [22.288]\n",
      " [51.728]\n",
      " [14.9  ]\n",
      " [16.7  ]\n",
      " [21.2  ]\n",
      " [19.99 ]\n",
      " [17.5  ]\n",
      " [15.9  ]\n",
      " [23.4  ]\n",
      " [24.4  ]\n",
      " [27.5  ]\n",
      " [28.8  ]\n",
      " [45.5  ]\n",
      " [36.   ]]\n"
     ]
    }
   ],
   "source": [
    "print(Y)"
   ]
  },
  {
   "cell_type": "code",
   "execution_count": 28,
   "id": "49464497",
   "metadata": {
    "execution": {
     "iopub.execute_input": "2022-03-13T05:22:25.348209Z",
     "iopub.status.busy": "2022-03-13T05:22:25.347512Z",
     "iopub.status.idle": "2022-03-13T05:22:25.355681Z",
     "shell.execute_reply": "2022-03-13T05:22:25.355169Z",
     "shell.execute_reply.started": "2022-03-13T05:17:34.850397Z"
    },
    "papermill": {
     "duration": 0.084373,
     "end_time": "2022-03-13T05:22:25.355842",
     "exception": false,
     "start_time": "2022-03-13T05:22:25.271469",
     "status": "completed"
    },
    "tags": []
   },
   "outputs": [
    {
     "name": "stdout",
     "output_type": "stream",
     "text": [
      "[0.0 1.0 1 16.919 140.0 67.3 2.639 28.0]\n"
     ]
    }
   ],
   "source": [
    "columnTransformer = ColumnTransformer(transformers = [('encoder', OneHotEncoder(), [2])], \n",
    "                                     remainder ='passthrough')\n",
    "X = np.array(columnTransformer.fit_transform(X))\n",
    "print(X[0])"
   ]
  },
  {
   "cell_type": "code",
   "execution_count": 29,
   "id": "1f7bad19",
   "metadata": {
    "execution": {
     "iopub.execute_input": "2022-03-13T05:22:25.507758Z",
     "iopub.status.busy": "2022-03-13T05:22:25.507118Z",
     "iopub.status.idle": "2022-03-13T05:22:25.515355Z",
     "shell.execute_reply": "2022-03-13T05:22:25.515917Z",
     "shell.execute_reply.started": "2022-03-13T05:17:52.112368Z"
    },
    "papermill": {
     "duration": 0.085338,
     "end_time": "2022-03-13T05:22:25.516089",
     "exception": false,
     "start_time": "2022-03-13T05:22:25.430751",
     "status": "completed"
    },
    "tags": []
   },
   "outputs": [
    {
     "name": "stdout",
     "output_type": "stream",
     "text": [
      "[0.0 1.0 1 -0.5971544980976075 0.4855529689932659 -0.9682209785808613\n",
      " -0.30414594743793366 0.5376925814044157]\n"
     ]
    }
   ],
   "source": [
    "X_train, X_test, Y_train, Y_test = train_test_split(X, Y, test_size = 0.2, random_state = 42)\n",
    "\n",
    "standardScaler = StandardScaler()\n",
    "X_train[:, 3:] = standardScaler.fit_transform(X_train[:, 3:])\n",
    "X_test[:, 3:] = standardScaler.transform(X_test[:, 3:])\n",
    "print(X_train[0])"
   ]
  },
  {
   "cell_type": "code",
   "execution_count": 30,
   "id": "db2de551",
   "metadata": {
    "execution": {
     "iopub.execute_input": "2022-03-13T05:22:25.698245Z",
     "iopub.status.busy": "2022-03-13T05:22:25.697532Z",
     "iopub.status.idle": "2022-03-13T05:22:25.703652Z",
     "shell.execute_reply": "2022-03-13T05:22:25.702960Z",
     "shell.execute_reply.started": "2022-03-13T05:17:59.099753Z"
    },
    "papermill": {
     "duration": 0.103345,
     "end_time": "2022-03-13T05:22:25.703830",
     "exception": false,
     "start_time": "2022-03-13T05:22:25.600485",
     "status": "completed"
    },
    "tags": []
   },
   "outputs": [
    {
     "name": "stdout",
     "output_type": "stream",
     "text": [
      "[0.0 1.0 1 -0.754444977827755 -0.44099666918824076 0.33492495389324445\n",
      " -0.4342962026825829 -0.607906732928016]\n"
     ]
    }
   ],
   "source": [
    "print(X_test[0])"
   ]
  },
  {
   "cell_type": "code",
   "execution_count": 31,
   "id": "1d7ce405",
   "metadata": {
    "execution": {
     "iopub.execute_input": "2022-03-13T05:22:25.862061Z",
     "iopub.status.busy": "2022-03-13T05:22:25.860972Z",
     "iopub.status.idle": "2022-03-13T05:22:26.089918Z",
     "shell.execute_reply": "2022-03-13T05:22:26.089325Z",
     "shell.execute_reply.started": "2022-03-13T05:18:10.564125Z"
    },
    "papermill": {
     "duration": 0.309156,
     "end_time": "2022-03-13T05:22:26.090076",
     "exception": false,
     "start_time": "2022-03-13T05:22:25.780920",
     "status": "completed"
    },
    "tags": []
   },
   "outputs": [],
   "source": [
    "from sklearn.metrics import r2_score\n",
    "from sklearn.linear_model import LinearRegression\n",
    "from sklearn.svm import SVR\n",
    "from sklearn.tree import DecisionTreeRegressor\n",
    "from sklearn.ensemble import RandomForestRegressor\n",
    "from sklearn.linear_model import Ridge\n",
    "from sklearn.linear_model import Lasso\n",
    "from sklearn.model_selection import GridSearchCV"
   ]
  },
  {
   "cell_type": "code",
   "execution_count": 32,
   "id": "7ba19e8e",
   "metadata": {
    "execution": {
     "iopub.execute_input": "2022-03-13T05:22:26.245421Z",
     "iopub.status.busy": "2022-03-13T05:22:26.244411Z",
     "iopub.status.idle": "2022-03-13T05:22:26.267499Z",
     "shell.execute_reply": "2022-03-13T05:22:26.268102Z",
     "shell.execute_reply.started": "2022-03-13T05:18:29.299552Z"
    },
    "papermill": {
     "duration": 0.101374,
     "end_time": "2022-03-13T05:22:26.268279",
     "exception": false,
     "start_time": "2022-03-13T05:22:26.166905",
     "status": "completed"
    },
    "tags": []
   },
   "outputs": [
    {
     "data": {
      "text/plain": [
       "LinearRegression()"
      ]
     },
     "execution_count": 32,
     "metadata": {},
     "output_type": "execute_result"
    }
   ],
   "source": [
    "linear_regressor = LinearRegression()\n",
    "linear_regressor.fit(X_train, Y_train)"
   ]
  },
  {
   "cell_type": "code",
   "execution_count": 33,
   "id": "341e39ad",
   "metadata": {
    "execution": {
     "iopub.execute_input": "2022-03-13T05:22:26.423115Z",
     "iopub.status.busy": "2022-03-13T05:22:26.422107Z",
     "iopub.status.idle": "2022-03-13T05:22:26.429817Z",
     "shell.execute_reply": "2022-03-13T05:22:26.430515Z",
     "shell.execute_reply.started": "2022-03-13T05:18:38.967736Z"
    },
    "papermill": {
     "duration": 0.087015,
     "end_time": "2022-03-13T05:22:26.430733",
     "exception": false,
     "start_time": "2022-03-13T05:22:26.343718",
     "status": "completed"
    },
    "tags": []
   },
   "outputs": [
    {
     "name": "stdout",
     "output_type": "stream",
     "text": [
      "[[20.76 25.45]\n",
      " [37.93 51.73]\n",
      " [40.11 28.34]\n",
      " [28.75 22.25]\n",
      " [28.88 25.31]\n",
      " [ 9.09  9.7 ]\n",
      " [56.31 82.6 ]\n",
      " [13.94 17.5 ]\n",
      " [39.92 45.5 ]\n",
      " [34.1  31.5 ]\n",
      " [37.86 26.31]\n",
      " [15.7  11.53]\n",
      " [21.53 19.05]\n",
      " [30.97 43.33]\n",
      " [45.04 39.66]\n",
      " [24.19 16.54]\n",
      " [15.32 16.48]\n",
      " [31.55 31.75]\n",
      " [24.46 19.72]\n",
      " [16.4  16.88]\n",
      " [12.43 13.26]\n",
      " [30.8  27.89]\n",
      " [24.11 21.98]\n",
      " [15.03 13.96]\n",
      " [38.4  37.8 ]\n",
      " [18.31 15.01]\n",
      " [30.48 41.  ]\n",
      " [24.48 21.56]\n",
      " [19.5  19.04]\n",
      " [15.34 16.24]\n",
      " [30.11 26.1 ]]\n"
     ]
    }
   ],
   "source": [
    "Y_pred = linear_regressor.predict(X_test)\n",
    "np.set_printoptions(precision = 2)\n",
    "print(np.concatenate((Y_pred.reshape(len(Y_pred), 1), Y_test.reshape(len(Y_test), 1)), axis = 1))"
   ]
  },
  {
   "cell_type": "code",
   "execution_count": 34,
   "id": "bb5b3136",
   "metadata": {
    "execution": {
     "iopub.execute_input": "2022-03-13T05:22:26.585400Z",
     "iopub.status.busy": "2022-03-13T05:22:26.584636Z",
     "iopub.status.idle": "2022-03-13T05:22:26.590665Z",
     "shell.execute_reply": "2022-03-13T05:22:26.591221Z",
     "shell.execute_reply.started": "2022-03-13T05:18:47.884538Z"
    },
    "papermill": {
     "duration": 0.084738,
     "end_time": "2022-03-13T05:22:26.591396",
     "exception": false,
     "start_time": "2022-03-13T05:22:26.506658",
     "status": "completed"
    },
    "tags": []
   },
   "outputs": [
    {
     "data": {
      "text/plain": [
       "0.7401526627598903"
      ]
     },
     "execution_count": 34,
     "metadata": {},
     "output_type": "execute_result"
    }
   ],
   "source": [
    "r2_linear_regression = r2_score(Y_test, Y_pred)\n",
    "r2_linear_regression"
   ]
  },
  {
   "cell_type": "code",
   "execution_count": 35,
   "id": "4b2f9d1c",
   "metadata": {
    "execution": {
     "iopub.execute_input": "2022-03-13T05:22:26.752711Z",
     "iopub.status.busy": "2022-03-13T05:22:26.751142Z",
     "iopub.status.idle": "2022-03-13T05:22:26.762677Z",
     "shell.execute_reply": "2022-03-13T05:22:26.762079Z",
     "shell.execute_reply.started": "2022-03-13T05:18:58.968881Z"
    },
    "papermill": {
     "duration": 0.091364,
     "end_time": "2022-03-13T05:22:26.762852",
     "exception": false,
     "start_time": "2022-03-13T05:22:26.671488",
     "status": "completed"
    },
    "tags": []
   },
   "outputs": [
    {
     "name": "stderr",
     "output_type": "stream",
     "text": [
      "/opt/conda/lib/python3.7/site-packages/sklearn/utils/validation.py:985: DataConversionWarning: A column-vector y was passed when a 1d array was expected. Please change the shape of y to (n_samples, ), for example using ravel().\n",
      "  y = column_or_1d(y, warn=True)\n"
     ]
    },
    {
     "data": {
      "text/plain": [
       "SVR()"
      ]
     },
     "execution_count": 35,
     "metadata": {},
     "output_type": "execute_result"
    }
   ],
   "source": [
    "support_vector_regressor = SVR(kernel = 'rbf')\n",
    "support_vector_regressor.fit(X_train, Y_train)"
   ]
  },
  {
   "cell_type": "code",
   "execution_count": 36,
   "id": "f8ee561d",
   "metadata": {
    "execution": {
     "iopub.execute_input": "2022-03-13T05:22:26.923304Z",
     "iopub.status.busy": "2022-03-13T05:22:26.922635Z",
     "iopub.status.idle": "2022-03-13T05:22:26.928444Z",
     "shell.execute_reply": "2022-03-13T05:22:26.928942Z",
     "shell.execute_reply.started": "2022-03-13T05:19:10.462819Z"
    },
    "papermill": {
     "duration": 0.08945,
     "end_time": "2022-03-13T05:22:26.929130",
     "exception": false,
     "start_time": "2022-03-13T05:22:26.839680",
     "status": "completed"
    },
    "tags": []
   },
   "outputs": [
    {
     "name": "stdout",
     "output_type": "stream",
     "text": [
      "[[24.22 25.45]\n",
      " [27.08 51.73]\n",
      " [31.43 28.34]\n",
      " [25.05 22.25]\n",
      " [26.03 25.31]\n",
      " [15.16  9.7 ]\n",
      " [34.52 82.6 ]\n",
      " [18.1  17.5 ]\n",
      " [31.96 45.5 ]\n",
      " [28.73 31.5 ]\n",
      " [27.13 26.31]\n",
      " [17.92 11.53]\n",
      " [20.87 19.05]\n",
      " [26.89 43.33]\n",
      " [32.54 39.66]\n",
      " [19.62 16.54]\n",
      " [17.84 16.48]\n",
      " [24.76 31.75]\n",
      " [20.02 19.72]\n",
      " [15.46 16.88]\n",
      " [15.59 13.26]\n",
      " [25.19 27.89]\n",
      " [21.82 21.98]\n",
      " [15.42 13.96]\n",
      " [31.22 37.8 ]\n",
      " [17.46 15.01]\n",
      " [23.27 41.  ]\n",
      " [20.88 21.56]\n",
      " [21.35 19.04]\n",
      " [17.26 16.24]\n",
      " [25.06 26.1 ]]\n"
     ]
    }
   ],
   "source": [
    "Y_pred = support_vector_regressor.predict(X_test)\n",
    "np.set_printoptions(precision = 2)\n",
    "print(np.concatenate((Y_pred.reshape(len(Y_pred), 1), Y_test.reshape(len(Y_test), 1)), axis = 1))"
   ]
  },
  {
   "cell_type": "code",
   "execution_count": 37,
   "id": "58cc47d0",
   "metadata": {
    "execution": {
     "iopub.execute_input": "2022-03-13T05:22:27.090774Z",
     "iopub.status.busy": "2022-03-13T05:22:27.090169Z",
     "iopub.status.idle": "2022-03-13T05:22:27.095474Z",
     "shell.execute_reply": "2022-03-13T05:22:27.096096Z",
     "shell.execute_reply.started": "2022-03-13T05:19:20.248652Z"
    },
    "papermill": {
     "duration": 0.088202,
     "end_time": "2022-03-13T05:22:27.096267",
     "exception": false,
     "start_time": "2022-03-13T05:22:27.008065",
     "status": "completed"
    },
    "tags": []
   },
   "outputs": [
    {
     "data": {
      "text/plain": [
       "0.40370238764441324"
      ]
     },
     "execution_count": 37,
     "metadata": {},
     "output_type": "execute_result"
    }
   ],
   "source": [
    "r2_support_vector_regression = r2_score(Y_test, Y_pred)\n",
    "r2_support_vector_regression"
   ]
  },
  {
   "cell_type": "code",
   "execution_count": 38,
   "id": "4cc653c7",
   "metadata": {
    "execution": {
     "iopub.execute_input": "2022-03-13T05:22:27.255632Z",
     "iopub.status.busy": "2022-03-13T05:22:27.255020Z",
     "iopub.status.idle": "2022-03-13T05:22:27.261748Z",
     "shell.execute_reply": "2022-03-13T05:22:27.262367Z",
     "shell.execute_reply.started": "2022-03-13T05:19:27.714752Z"
    },
    "papermill": {
     "duration": 0.088155,
     "end_time": "2022-03-13T05:22:27.262538",
     "exception": false,
     "start_time": "2022-03-13T05:22:27.174383",
     "status": "completed"
    },
    "tags": []
   },
   "outputs": [
    {
     "data": {
      "text/plain": [
       "DecisionTreeRegressor(random_state=0)"
      ]
     },
     "execution_count": 38,
     "metadata": {},
     "output_type": "execute_result"
    }
   ],
   "source": [
    "decision_tree_regressor = DecisionTreeRegressor(random_state = 0)\n",
    "decision_tree_regressor.fit(X_train, Y_train)"
   ]
  },
  {
   "cell_type": "code",
   "execution_count": 39,
   "id": "1bafd447",
   "metadata": {
    "execution": {
     "iopub.execute_input": "2022-03-13T05:22:27.427272Z",
     "iopub.status.busy": "2022-03-13T05:22:27.426609Z",
     "iopub.status.idle": "2022-03-13T05:22:27.429109Z",
     "shell.execute_reply": "2022-03-13T05:22:27.429593Z",
     "shell.execute_reply.started": "2022-03-13T05:19:35.080560Z"
    },
    "papermill": {
     "duration": 0.089418,
     "end_time": "2022-03-13T05:22:27.429759",
     "exception": false,
     "start_time": "2022-03-13T05:22:27.340341",
     "status": "completed"
    },
    "tags": []
   },
   "outputs": [
    {
     "name": "stdout",
     "output_type": "stream",
     "text": [
      "[[18.14 25.45]\n",
      " [60.1  51.73]\n",
      " [42.8  28.34]\n",
      " [23.75 22.25]\n",
      " [36.   25.31]\n",
      " [13.99  9.7 ]\n",
      " [46.3  82.6 ]\n",
      " [14.9  17.5 ]\n",
      " [43.   45.5 ]\n",
      " [27.56 31.5 ]\n",
      " [19.46 26.31]\n",
      " [12.64 11.53]\n",
      " [20.39 19.05]\n",
      " [25.3  43.33]\n",
      " [39.08 39.66]\n",
      " [17.04 16.54]\n",
      " [15.35 16.48]\n",
      " [33.4  31.75]\n",
      " [18.27 19.72]\n",
      " [12.64 16.88]\n",
      " [15.9  13.26]\n",
      " [22.61 27.89]\n",
      " [19.39 21.98]\n",
      " [12.64 13.96]\n",
      " [42.8  37.8 ]\n",
      " [16.54 15.01]\n",
      " [38.9  41.  ]\n",
      " [22.5  21.56]\n",
      " [18.85 19.04]\n",
      " [14.9  16.24]\n",
      " [31.6  26.1 ]]\n"
     ]
    }
   ],
   "source": [
    "Y_pred = decision_tree_regressor.predict(X_test)\n",
    "np.set_printoptions(precision = 2)\n",
    "print(np.concatenate((Y_pred.reshape(len(Y_pred), 1), Y_test.reshape(len(Y_test), 1)), axis = 1))"
   ]
  },
  {
   "cell_type": "code",
   "execution_count": 40,
   "id": "ee4a0659",
   "metadata": {
    "execution": {
     "iopub.execute_input": "2022-03-13T05:22:27.595952Z",
     "iopub.status.busy": "2022-03-13T05:22:27.595266Z",
     "iopub.status.idle": "2022-03-13T05:22:27.597767Z",
     "shell.execute_reply": "2022-03-13T05:22:27.598359Z",
     "shell.execute_reply.started": "2022-03-13T05:19:43.820628Z"
    },
    "papermill": {
     "duration": 0.088016,
     "end_time": "2022-03-13T05:22:27.598517",
     "exception": false,
     "start_time": "2022-03-13T05:22:27.510501",
     "status": "completed"
    },
    "tags": []
   },
   "outputs": [
    {
     "data": {
      "text/plain": [
       "0.6516960439893903"
      ]
     },
     "execution_count": 40,
     "metadata": {},
     "output_type": "execute_result"
    }
   ],
   "source": [
    "r2_decision_tree_regression = r2_score(Y_test, Y_pred)\n",
    "r2_decision_tree_regression"
   ]
  },
  {
   "cell_type": "code",
   "execution_count": 41,
   "id": "668bcd20",
   "metadata": {
    "execution": {
     "iopub.execute_input": "2022-03-13T05:22:27.768844Z",
     "iopub.status.busy": "2022-03-13T05:22:27.768201Z",
     "iopub.status.idle": "2022-03-13T05:22:27.787636Z",
     "shell.execute_reply": "2022-03-13T05:22:27.787125Z",
     "shell.execute_reply.started": "2022-03-13T05:19:51.877009Z"
    },
    "papermill": {
     "duration": 0.109439,
     "end_time": "2022-03-13T05:22:27.787767",
     "exception": false,
     "start_time": "2022-03-13T05:22:27.678328",
     "status": "completed"
    },
    "tags": []
   },
   "outputs": [
    {
     "name": "stderr",
     "output_type": "stream",
     "text": [
      "/opt/conda/lib/python3.7/site-packages/ipykernel_launcher.py:2: DataConversionWarning: A column-vector y was passed when a 1d array was expected. Please change the shape of y to (n_samples,), for example using ravel().\n",
      "  \n"
     ]
    },
    {
     "data": {
      "text/plain": [
       "RandomForestRegressor(n_estimators=10, random_state=0)"
      ]
     },
     "execution_count": 41,
     "metadata": {},
     "output_type": "execute_result"
    }
   ],
   "source": [
    "random_forest_regressor = RandomForestRegressor(n_estimators = 10, random_state = 0)\n",
    "random_forest_regressor.fit(X_train, Y_train)"
   ]
  },
  {
   "cell_type": "code",
   "execution_count": 42,
   "id": "3ac38831",
   "metadata": {
    "execution": {
     "iopub.execute_input": "2022-03-13T05:22:27.956348Z",
     "iopub.status.busy": "2022-03-13T05:22:27.955629Z",
     "iopub.status.idle": "2022-03-13T05:22:27.958180Z",
     "shell.execute_reply": "2022-03-13T05:22:27.958657Z",
     "shell.execute_reply.started": "2022-03-13T05:20:05.885224Z"
    },
    "papermill": {
     "duration": 0.0907,
     "end_time": "2022-03-13T05:22:27.958846",
     "exception": false,
     "start_time": "2022-03-13T05:22:27.868146",
     "status": "completed"
    },
    "tags": []
   },
   "outputs": [
    {
     "name": "stdout",
     "output_type": "stream",
     "text": [
      "[[26.22 25.45]\n",
      " [45.77 51.73]\n",
      " [40.36 28.34]\n",
      " [25.41 22.25]\n",
      " [29.27 25.31]\n",
      " [11.41  9.7 ]\n",
      " [62.69 82.6 ]\n",
      " [16.98 17.5 ]\n",
      " [38.03 45.5 ]\n",
      " [31.2  31.5 ]\n",
      " [28.77 26.31]\n",
      " [13.87 11.53]\n",
      " [19.4  19.05]\n",
      " [27.25 43.33]\n",
      " [42.81 39.66]\n",
      " [21.44 16.54]\n",
      " [15.77 16.48]\n",
      " [32.77 31.75]\n",
      " [21.18 19.72]\n",
      " [14.49 16.88]\n",
      " [14.92 13.26]\n",
      " [22.61 27.89]\n",
      " [19.27 21.98]\n",
      " [12.74 13.96]\n",
      " [40.04 37.8 ]\n",
      " [17.03 15.01]\n",
      " [29.41 41.  ]\n",
      " [21.97 21.56]\n",
      " [19.01 19.04]\n",
      " [17.09 16.24]\n",
      " [32.25 26.1 ]]\n"
     ]
    }
   ],
   "source": [
    "Y_pred = random_forest_regressor.predict(X_test)\n",
    "np.set_printoptions(precision = 2)\n",
    "print(np.concatenate((Y_pred.reshape(len(Y_pred), 1), Y_test.reshape(len(Y_test), 1)), axis = 1))"
   ]
  },
  {
   "cell_type": "code",
   "execution_count": 43,
   "id": "a6b95ae7",
   "metadata": {
    "execution": {
     "iopub.execute_input": "2022-03-13T05:22:28.121575Z",
     "iopub.status.busy": "2022-03-13T05:22:28.120958Z",
     "iopub.status.idle": "2022-03-13T05:22:28.126225Z",
     "shell.execute_reply": "2022-03-13T05:22:28.126788Z",
     "shell.execute_reply.started": "2022-03-13T05:20:15.944392Z"
    },
    "papermill": {
     "duration": 0.088173,
     "end_time": "2022-03-13T05:22:28.126985",
     "exception": false,
     "start_time": "2022-03-13T05:22:28.038812",
     "status": "completed"
    },
    "tags": []
   },
   "outputs": [
    {
     "data": {
      "text/plain": [
       "0.8204071370060241"
      ]
     },
     "execution_count": 43,
     "metadata": {},
     "output_type": "execute_result"
    }
   ],
   "source": [
    "r2_random_forest_regression = r2_score(Y_test, Y_pred)\n",
    "r2_random_forest_regression"
   ]
  },
  {
   "cell_type": "code",
   "execution_count": 44,
   "id": "16d3bf4d",
   "metadata": {
    "execution": {
     "iopub.execute_input": "2022-03-13T05:22:28.289465Z",
     "iopub.status.busy": "2022-03-13T05:22:28.288893Z",
     "iopub.status.idle": "2022-03-13T05:22:28.427498Z",
     "shell.execute_reply": "2022-03-13T05:22:28.428009Z",
     "shell.execute_reply.started": "2022-03-13T05:20:23.209929Z"
    },
    "papermill": {
     "duration": 0.221203,
     "end_time": "2022-03-13T05:22:28.428179",
     "exception": false,
     "start_time": "2022-03-13T05:22:28.206976",
     "status": "completed"
    },
    "tags": []
   },
   "outputs": [
    {
     "name": "stderr",
     "output_type": "stream",
     "text": [
      "/opt/conda/lib/python3.7/site-packages/sklearn/linear_model/_ridge.py:156: LinAlgWarning: Ill-conditioned matrix (rcond=4.53802e-18): result may not be accurate.\n",
      "  return linalg.solve(A, Xy, sym_pos=True, overwrite_a=True).T\n",
      "/opt/conda/lib/python3.7/site-packages/sklearn/linear_model/_ridge.py:156: LinAlgWarning: Ill-conditioned matrix (rcond=5.19069e-18): result may not be accurate.\n",
      "  return linalg.solve(A, Xy, sym_pos=True, overwrite_a=True).T\n",
      "/opt/conda/lib/python3.7/site-packages/sklearn/linear_model/_ridge.py:156: LinAlgWarning: Ill-conditioned matrix (rcond=9.54955e-18): result may not be accurate.\n",
      "  return linalg.solve(A, Xy, sym_pos=True, overwrite_a=True).T\n"
     ]
    },
    {
     "data": {
      "text/plain": [
       "GridSearchCV(cv=5, estimator=Ridge(),\n",
       "             param_grid={'alpha': [1e-15, 1e-10, 1e-08, 0.001, 0.01, 1, 5, 10,\n",
       "                                   20, 30, 35, 40, 45, 50, 55, 100]},\n",
       "             scoring='neg_mean_squared_error')"
      ]
     },
     "execution_count": 44,
     "metadata": {},
     "output_type": "execute_result"
    }
   ],
   "source": [
    "ridge = Ridge()\n",
    "parameters = {'alpha': [1e-15, 1e-10, 1e-8, 1e-3, 1e-2, 1, 5, 10, 20, 30, 35, 40, 45, 50, 55, 100]}\n",
    "ridge_regressor = GridSearchCV(ridge, parameters, scoring = 'neg_mean_squared_error', cv = 5)\n",
    "ridge_regressor.fit(X_train, Y_train)"
   ]
  },
  {
   "cell_type": "code",
   "execution_count": 45,
   "id": "6a380657",
   "metadata": {
    "execution": {
     "iopub.execute_input": "2022-03-13T05:22:28.595422Z",
     "iopub.status.busy": "2022-03-13T05:22:28.594375Z",
     "iopub.status.idle": "2022-03-13T05:22:28.598987Z",
     "shell.execute_reply": "2022-03-13T05:22:28.599447Z",
     "shell.execute_reply.started": "2022-03-13T05:20:33.446814Z"
    },
    "papermill": {
     "duration": 0.089655,
     "end_time": "2022-03-13T05:22:28.599623",
     "exception": false,
     "start_time": "2022-03-13T05:22:28.509968",
     "status": "completed"
    },
    "tags": []
   },
   "outputs": [
    {
     "name": "stdout",
     "output_type": "stream",
     "text": [
      "{'alpha': 5}\n"
     ]
    }
   ],
   "source": [
    "print(ridge_regressor.best_params_)"
   ]
  },
  {
   "cell_type": "code",
   "execution_count": 46,
   "id": "49636f92",
   "metadata": {
    "execution": {
     "iopub.execute_input": "2022-03-13T05:22:28.771124Z",
     "iopub.status.busy": "2022-03-13T05:22:28.765811Z",
     "iopub.status.idle": "2022-03-13T05:22:28.773859Z",
     "shell.execute_reply": "2022-03-13T05:22:28.774604Z",
     "shell.execute_reply.started": "2022-03-13T05:20:41.187416Z"
    },
    "papermill": {
     "duration": 0.093946,
     "end_time": "2022-03-13T05:22:28.774860",
     "exception": false,
     "start_time": "2022-03-13T05:22:28.680914",
     "status": "completed"
    },
    "tags": []
   },
   "outputs": [
    {
     "name": "stdout",
     "output_type": "stream",
     "text": [
      "[[22.28 25.45]\n",
      " [37.86 51.73]\n",
      " [39.83 28.34]\n",
      " [28.91 22.25]\n",
      " [29.21 25.31]\n",
      " [ 9.61  9.7 ]\n",
      " [54.65 82.6 ]\n",
      " [14.97 17.5 ]\n",
      " [39.36 45.5 ]\n",
      " [33.9  31.5 ]\n",
      " [37.02 26.31]\n",
      " [16.   11.53]\n",
      " [22.14 19.05]\n",
      " [31.73 43.33]\n",
      " [44.54 39.66]\n",
      " [24.13 16.54]\n",
      " [16.24 16.48]\n",
      " [30.89 31.75]\n",
      " [24.49 19.72]\n",
      " [16.31 16.88]\n",
      " [12.96 13.26]\n",
      " [30.61 27.89]\n",
      " [24.42 21.98]\n",
      " [14.87 13.96]\n",
      " [37.83 37.8 ]\n",
      " [18.58 15.01]\n",
      " [29.92 41.  ]\n",
      " [24.69 21.56]\n",
      " [20.42 19.04]\n",
      " [16.03 16.24]\n",
      " [30.09 26.1 ]]\n"
     ]
    }
   ],
   "source": [
    "Y_pred = ridge_regressor.predict(X_test)\n",
    "np.set_printoptions(precision = 2)\n",
    "print(np.concatenate((Y_pred.reshape(len(Y_pred), 1), Y_test.reshape(len(Y_test), 1)), axis = 1))"
   ]
  },
  {
   "cell_type": "code",
   "execution_count": 47,
   "id": "10277bef",
   "metadata": {
    "execution": {
     "iopub.execute_input": "2022-03-13T05:22:28.953978Z",
     "iopub.status.busy": "2022-03-13T05:22:28.952860Z",
     "iopub.status.idle": "2022-03-13T05:22:29.090768Z",
     "shell.execute_reply": "2022-03-13T05:22:29.090212Z",
     "shell.execute_reply.started": "2022-03-13T05:21:06.491943Z"
    },
    "papermill": {
     "duration": 0.231551,
     "end_time": "2022-03-13T05:22:29.090944",
     "exception": false,
     "start_time": "2022-03-13T05:22:28.859393",
     "status": "completed"
    },
    "tags": []
   },
   "outputs": [
    {
     "data": {
      "text/plain": [
       "GridSearchCV(cv=5, estimator=Lasso(),\n",
       "             param_grid={'alpha': [1e-15, 1e-10, 1e-08, 0.001, 0.01, 1, 5, 10,\n",
       "                                   20, 30, 35, 40, 45, 50, 55, 100]},\n",
       "             scoring='neg_mean_squared_error')"
      ]
     },
     "execution_count": 47,
     "metadata": {},
     "output_type": "execute_result"
    }
   ],
   "source": [
    "r2_ridge_regression = r2_score(Y_test, Y_pred)\n",
    "r2_ridge_regression\n",
    "\n",
    "lasso = Lasso()\n",
    "parameters = {'alpha': [1e-15, 1e-10, 1e-8, 1e-3, 1e-2, 1, 5, 10, 20, 30, 35, 40, 45, 50, 55, 100]}\n",
    "lasso_regressor = GridSearchCV(lasso, parameters, scoring = 'neg_mean_squared_error', cv = 5)\n",
    "lasso_regressor.fit(X_train, Y_train)"
   ]
  },
  {
   "cell_type": "code",
   "execution_count": 48,
   "id": "28727c36",
   "metadata": {
    "execution": {
     "iopub.execute_input": "2022-03-13T05:22:29.265190Z",
     "iopub.status.busy": "2022-03-13T05:22:29.264290Z",
     "iopub.status.idle": "2022-03-13T05:22:29.268391Z",
     "shell.execute_reply": "2022-03-13T05:22:29.268870Z",
     "shell.execute_reply.started": "2022-03-13T05:21:24.233849Z"
    },
    "papermill": {
     "duration": 0.095588,
     "end_time": "2022-03-13T05:22:29.269035",
     "exception": false,
     "start_time": "2022-03-13T05:22:29.173447",
     "status": "completed"
    },
    "tags": []
   },
   "outputs": [
    {
     "name": "stdout",
     "output_type": "stream",
     "text": [
      "{'alpha': 0.01}\n",
      "[[20.82 25.45]\n",
      " [37.89 51.73]\n",
      " [40.1  28.34]\n",
      " [28.74 22.25]\n",
      " [28.88 25.31]\n",
      " [ 9.11  9.7 ]\n",
      " [56.21 82.6 ]\n",
      " [13.96 17.5 ]\n",
      " [39.88 45.5 ]\n",
      " [34.07 31.5 ]\n",
      " [37.84 26.31]\n",
      " [15.82 11.53]\n",
      " [21.55 19.05]\n",
      " [30.95 43.33]\n",
      " [45.02 39.66]\n",
      " [24.17 16.54]\n",
      " [15.34 16.48]\n",
      " [31.49 31.75]\n",
      " [24.45 19.72]\n",
      " [16.42 16.88]\n",
      " [12.43 13.26]\n",
      " [30.76 27.89]\n",
      " [24.1  21.98]\n",
      " [15.02 13.96]\n",
      " [38.34 37.8 ]\n",
      " [18.3  15.01]\n",
      " [30.45 41.  ]\n",
      " [24.5  21.56]\n",
      " [19.5  19.04]\n",
      " [15.35 16.24]\n",
      " [30.1  26.1 ]]\n"
     ]
    },
    {
     "data": {
      "text/plain": [
       "0.7392202435133952"
      ]
     },
     "execution_count": 48,
     "metadata": {},
     "output_type": "execute_result"
    }
   ],
   "source": [
    "print(lasso_regressor.best_params_)\n",
    "\n",
    "Y_pred = lasso_regressor.predict(X_test)\n",
    "np.set_printoptions(precision = 2)\n",
    "print(np.concatenate((Y_pred.reshape(len(Y_pred), 1), Y_test.reshape(len(Y_test), 1)), axis = 1))\n",
    "\n",
    "\n",
    "r2_lasso_regression = r2_score(Y_test, Y_pred)\n",
    "r2_lasso_regression"
   ]
  },
  {
   "cell_type": "code",
   "execution_count": 49,
   "id": "5cb5be56",
   "metadata": {
    "execution": {
     "iopub.execute_input": "2022-03-13T05:22:29.441499Z",
     "iopub.status.busy": "2022-03-13T05:22:29.440761Z",
     "iopub.status.idle": "2022-03-13T05:22:29.450551Z",
     "shell.execute_reply": "2022-03-13T05:22:29.449898Z",
     "shell.execute_reply.started": "2022-03-13T05:21:38.644686Z"
    },
    "papermill": {
     "duration": 0.099465,
     "end_time": "2022-03-13T05:22:29.450692",
     "exception": false,
     "start_time": "2022-03-13T05:22:29.351227",
     "status": "completed"
    },
    "tags": []
   },
   "outputs": [
    {
     "name": "stdout",
     "output_type": "stream",
     "text": [
      "╒═════════╤═════════════════════════════════╤═══════════════════╕\n",
      "│   S.No. │ Regression Model                │   R-squared value │\n",
      "╞═════════╪═════════════════════════════════╪═══════════════════╡\n",
      "│       1 │ Linear Regression               │          0.740153 │\n",
      "├─────────┼─────────────────────────────────┼───────────────────┤\n",
      "│       2 │ Support Vector Regression       │          0.403702 │\n",
      "├─────────┼─────────────────────────────────┼───────────────────┤\n",
      "│       3 │ Decision Tree Regression        │          0.651696 │\n",
      "├─────────┼─────────────────────────────────┼───────────────────┤\n",
      "│       4 │ Random Forest Regression        │          0.820407 │\n",
      "├─────────┼─────────────────────────────────┼───────────────────┤\n",
      "│       5 │ Ridge Regression (alpha = 5)    │          0.731917 │\n",
      "├─────────┼─────────────────────────────────┼───────────────────┤\n",
      "│       6 │ Lasso Regression (alpha = 0.01) │          0.73922  │\n",
      "╘═════════╧═════════════════════════════════╧═══════════════════╛\n"
     ]
    }
   ],
   "source": [
    "from tabulate import tabulate\n",
    "\n",
    "table = []\n",
    "table.append(['S.No.', 'Regression Model', 'R-squared value'])\n",
    "table.append(['1', 'Linear Regression', r2_linear_regression])\n",
    "table.append(['2', 'Support Vector Regression', r2_support_vector_regression])\n",
    "table.append(['3', 'Decision Tree Regression', r2_decision_tree_regression])\n",
    "table.append(['4', 'Random Forest Regression', r2_random_forest_regression])\n",
    "table.append(['5', 'Ridge Regression (alpha = 5)', r2_ridge_regression])\n",
    "table.append(['6', 'Lasso Regression (alpha = 0.01)', r2_lasso_regression])\n",
    "\n",
    "print(tabulate(table, headers='firstrow', tablefmt='fancy_grid'))"
   ]
  },
  {
   "cell_type": "code",
   "execution_count": null,
   "id": "008ec817",
   "metadata": {
    "papermill": {
     "duration": 0.087439,
     "end_time": "2022-03-13T05:22:29.622737",
     "exception": false,
     "start_time": "2022-03-13T05:22:29.535298",
     "status": "completed"
    },
    "tags": []
   },
   "outputs": [],
   "source": []
  },
  {
   "cell_type": "code",
   "execution_count": null,
   "id": "5dce80f8",
   "metadata": {
    "papermill": {
     "duration": 0.083948,
     "end_time": "2022-03-13T05:22:29.793735",
     "exception": false,
     "start_time": "2022-03-13T05:22:29.709787",
     "status": "completed"
    },
    "tags": []
   },
   "outputs": [],
   "source": []
  }
 ],
 "metadata": {
  "kernelspec": {
   "display_name": "Python 3",
   "language": "python",
   "name": "python3"
  },
  "language_info": {
   "codemirror_mode": {
    "name": "ipython",
    "version": 3
   },
   "file_extension": ".py",
   "mimetype": "text/x-python",
   "name": "python",
   "nbconvert_exporter": "python",
   "pygments_lexer": "ipython3",
   "version": "3.7.12"
  },
  "papermill": {
   "default_parameters": {},
   "duration": 25.622861,
   "end_time": "2022-03-13T05:22:30.690340",
   "environment_variables": {},
   "exception": null,
   "input_path": "__notebook__.ipynb",
   "output_path": "__notebook__.ipynb",
   "parameters": {},
   "start_time": "2022-03-13T05:22:05.067479",
   "version": "2.3.3"
  }
 },
 "nbformat": 4,
 "nbformat_minor": 5
}
