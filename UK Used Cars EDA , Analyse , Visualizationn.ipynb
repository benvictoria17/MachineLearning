{
 "cells": [
  {
   "cell_type": "code",
   "execution_count": 1,
   "id": "d7e6e7eb",
   "metadata": {
    "_cell_guid": "b1076dfc-b9ad-4769-8c92-a6c4dae69d19",
    "_uuid": "8f2839f25d086af736a60e9eeb907d3b93b6e0e5",
    "execution": {
     "iopub.execute_input": "2022-03-17T02:08:54.054575Z",
     "iopub.status.busy": "2022-03-17T02:08:54.053710Z",
     "iopub.status.idle": "2022-03-17T02:08:55.955613Z",
     "shell.execute_reply": "2022-03-17T02:08:55.956018Z",
     "shell.execute_reply.started": "2022-03-17T02:01:50.092227Z"
    },
    "papermill": {
     "duration": 1.935477,
     "end_time": "2022-03-17T02:08:55.956246",
     "exception": false,
     "start_time": "2022-03-17T02:08:54.020769",
     "status": "completed"
    },
    "tags": []
   },
   "outputs": [],
   "source": [
    "import numpy as np\n",
    "import pandas as pd \n",
    "import matplotlib.pyplot as plt\n",
    "import seaborn as sns \n",
    "import plotly.express as px\n",
    "import sklearn"
   ]
  },
  {
   "cell_type": "code",
   "execution_count": 2,
   "id": "e042fec0",
   "metadata": {
    "execution": {
     "iopub.execute_input": "2022-03-17T02:08:56.020037Z",
     "iopub.status.busy": "2022-03-17T02:08:56.019500Z",
     "iopub.status.idle": "2022-03-17T02:08:57.745160Z",
     "shell.execute_reply": "2022-03-17T02:08:57.744653Z",
     "shell.execute_reply.started": "2022-03-17T02:01:52.611157Z"
    },
    "papermill": {
     "duration": 1.757767,
     "end_time": "2022-03-17T02:08:57.745266",
     "exception": false,
     "start_time": "2022-03-17T02:08:55.987499",
     "status": "completed"
    },
    "tags": []
   },
   "outputs": [],
   "source": [
    "audi=pd.read_csv(\"https://raw.githubusercontent.com/benvictoria17/DataAnalytics/master/dataset/100%2C000%20UK%20Used%20Car%20Data%20set/audi.csv\")\n",
    "bmw=pd.read_csv(\"https://raw.githubusercontent.com/benvictoria17/DataAnalytics/master/dataset/100%2C000%20UK%20Used%20Car%20Data%20set/bmw.csv\")\n",
    "ford=pd.read_csv(\"https://raw.githubusercontent.com/benvictoria17/DataAnalytics/master/dataset/100%2C000%20UK%20Used%20Car%20Data%20set/ford.csv\")\n",
    "hyundai=pd.read_csv(\"https://raw.githubusercontent.com/benvictoria17/DataAnalytics/master/dataset/100%2C000%20UK%20Used%20Car%20Data%20set/hyundi.csv\")\n",
    "mercedes=pd.read_csv(\"https://raw.githubusercontent.com/benvictoria17/DataAnalytics/master/dataset/100%2C000%20UK%20Used%20Car%20Data%20set/merc.csv\")\n",
    "skoda=pd.read_csv(\"https://raw.githubusercontent.com/benvictoria17/DataAnalytics/master/dataset/100%2C000%20UK%20Used%20Car%20Data%20set/skoda.csv\")\n",
    "toyota=pd.read_csv(\"https://raw.githubusercontent.com/benvictoria17/DataAnalytics/master/dataset/100%2C000%20UK%20Used%20Car%20Data%20set/toyota.csv\")"
   ]
  },
  {
   "cell_type": "code",
   "execution_count": 3,
   "id": "150e563b",
   "metadata": {
    "execution": {
     "iopub.execute_input": "2022-03-17T02:08:57.818245Z",
     "iopub.status.busy": "2022-03-17T02:08:57.816131Z",
     "iopub.status.idle": "2022-03-17T02:08:57.852346Z",
     "shell.execute_reply": "2022-03-17T02:08:57.852695Z",
     "shell.execute_reply.started": "2022-03-17T02:01:55.060754Z"
    },
    "papermill": {
     "duration": 0.078435,
     "end_time": "2022-03-17T02:08:57.852845",
     "exception": false,
     "start_time": "2022-03-17T02:08:57.774410",
     "status": "completed"
    },
    "tags": []
   },
   "outputs": [],
   "source": [
    "audi[\"company\"]=\"audi\"\n",
    "bmw[\"company\"]=\"bmw\"\n",
    "ford[\"company\"]=\"ford\"\n",
    "hyundai[\"company\"]=\"hyundai\"\n",
    "mercedes[\"company\"]=\"mercedes\"\n",
    "skoda[\"company\"]=\"skoda\"\n",
    "toyota[\"company\"]=\"toyota\"\n",
    "original=[audi,bmw,ford,hyundai,mercedes,skoda,toyota]\n",
    "original=pd.concat(original)\n",
    "df=original.copy()"
   ]
  },
  {
   "cell_type": "code",
   "execution_count": 4,
   "id": "3f183ab9",
   "metadata": {
    "execution": {
     "iopub.execute_input": "2022-03-17T02:08:57.917379Z",
     "iopub.status.busy": "2022-03-17T02:08:57.916791Z",
     "iopub.status.idle": "2022-03-17T02:08:57.932347Z",
     "shell.execute_reply": "2022-03-17T02:08:57.932770Z",
     "shell.execute_reply.started": "2022-03-17T02:01:55.134626Z"
    },
    "papermill": {
     "duration": 0.051182,
     "end_time": "2022-03-17T02:08:57.932910",
     "exception": false,
     "start_time": "2022-03-17T02:08:57.881728",
     "status": "completed"
    },
    "tags": []
   },
   "outputs": [
    {
     "data": {
      "text/html": [
       "<div>\n",
       "<style scoped>\n",
       "    .dataframe tbody tr th:only-of-type {\n",
       "        vertical-align: middle;\n",
       "    }\n",
       "\n",
       "    .dataframe tbody tr th {\n",
       "        vertical-align: top;\n",
       "    }\n",
       "\n",
       "    .dataframe thead th {\n",
       "        text-align: right;\n",
       "    }\n",
       "</style>\n",
       "<table border=\"1\" class=\"dataframe\">\n",
       "  <thead>\n",
       "    <tr style=\"text-align: right;\">\n",
       "      <th></th>\n",
       "      <th>model</th>\n",
       "      <th>year</th>\n",
       "      <th>price</th>\n",
       "      <th>transmission</th>\n",
       "      <th>mileage</th>\n",
       "      <th>fuelType</th>\n",
       "      <th>tax</th>\n",
       "      <th>mpg</th>\n",
       "      <th>engineSize</th>\n",
       "      <th>company</th>\n",
       "      <th>tax(£)</th>\n",
       "    </tr>\n",
       "  </thead>\n",
       "  <tbody>\n",
       "    <tr>\n",
       "      <th>0</th>\n",
       "      <td>A1</td>\n",
       "      <td>2017</td>\n",
       "      <td>12500</td>\n",
       "      <td>Manual</td>\n",
       "      <td>15735</td>\n",
       "      <td>Petrol</td>\n",
       "      <td>150.0</td>\n",
       "      <td>55.4</td>\n",
       "      <td>1.4</td>\n",
       "      <td>audi</td>\n",
       "      <td>NaN</td>\n",
       "    </tr>\n",
       "    <tr>\n",
       "      <th>1</th>\n",
       "      <td>A6</td>\n",
       "      <td>2016</td>\n",
       "      <td>16500</td>\n",
       "      <td>Automatic</td>\n",
       "      <td>36203</td>\n",
       "      <td>Diesel</td>\n",
       "      <td>20.0</td>\n",
       "      <td>64.2</td>\n",
       "      <td>2.0</td>\n",
       "      <td>audi</td>\n",
       "      <td>NaN</td>\n",
       "    </tr>\n",
       "    <tr>\n",
       "      <th>2</th>\n",
       "      <td>A1</td>\n",
       "      <td>2016</td>\n",
       "      <td>11000</td>\n",
       "      <td>Manual</td>\n",
       "      <td>29946</td>\n",
       "      <td>Petrol</td>\n",
       "      <td>30.0</td>\n",
       "      <td>55.4</td>\n",
       "      <td>1.4</td>\n",
       "      <td>audi</td>\n",
       "      <td>NaN</td>\n",
       "    </tr>\n",
       "    <tr>\n",
       "      <th>3</th>\n",
       "      <td>A4</td>\n",
       "      <td>2017</td>\n",
       "      <td>16800</td>\n",
       "      <td>Automatic</td>\n",
       "      <td>25952</td>\n",
       "      <td>Diesel</td>\n",
       "      <td>145.0</td>\n",
       "      <td>67.3</td>\n",
       "      <td>2.0</td>\n",
       "      <td>audi</td>\n",
       "      <td>NaN</td>\n",
       "    </tr>\n",
       "    <tr>\n",
       "      <th>4</th>\n",
       "      <td>A3</td>\n",
       "      <td>2019</td>\n",
       "      <td>17300</td>\n",
       "      <td>Manual</td>\n",
       "      <td>1998</td>\n",
       "      <td>Petrol</td>\n",
       "      <td>145.0</td>\n",
       "      <td>49.6</td>\n",
       "      <td>1.0</td>\n",
       "      <td>audi</td>\n",
       "      <td>NaN</td>\n",
       "    </tr>\n",
       "  </tbody>\n",
       "</table>\n",
       "</div>"
      ],
      "text/plain": [
       "  model  year  price transmission  mileage fuelType    tax   mpg  engineSize  \\\n",
       "0    A1  2017  12500       Manual    15735   Petrol  150.0  55.4         1.4   \n",
       "1    A6  2016  16500    Automatic    36203   Diesel   20.0  64.2         2.0   \n",
       "2    A1  2016  11000       Manual    29946   Petrol   30.0  55.4         1.4   \n",
       "3    A4  2017  16800    Automatic    25952   Diesel  145.0  67.3         2.0   \n",
       "4    A3  2019  17300       Manual     1998   Petrol  145.0  49.6         1.0   \n",
       "\n",
       "  company  tax(£)  \n",
       "0    audi     NaN  \n",
       "1    audi     NaN  \n",
       "2    audi     NaN  \n",
       "3    audi     NaN  \n",
       "4    audi     NaN  "
      ]
     },
     "execution_count": 4,
     "metadata": {},
     "output_type": "execute_result"
    }
   ],
   "source": [
    "df.head()"
   ]
  },
  {
   "cell_type": "code",
   "execution_count": 5,
   "id": "7473056a",
   "metadata": {
    "execution": {
     "iopub.execute_input": "2022-03-17T02:08:57.995747Z",
     "iopub.status.busy": "2022-03-17T02:08:57.995287Z",
     "iopub.status.idle": "2022-03-17T02:08:58.011741Z",
     "shell.execute_reply": "2022-03-17T02:08:58.012240Z",
     "shell.execute_reply.started": "2022-03-17T02:01:55.163332Z"
    },
    "papermill": {
     "duration": 0.048551,
     "end_time": "2022-03-17T02:08:58.012401",
     "exception": false,
     "start_time": "2022-03-17T02:08:57.963850",
     "status": "completed"
    },
    "tags": []
   },
   "outputs": [
    {
     "data": {
      "text/html": [
       "<div>\n",
       "<style scoped>\n",
       "    .dataframe tbody tr th:only-of-type {\n",
       "        vertical-align: middle;\n",
       "    }\n",
       "\n",
       "    .dataframe tbody tr th {\n",
       "        vertical-align: top;\n",
       "    }\n",
       "\n",
       "    .dataframe thead th {\n",
       "        text-align: right;\n",
       "    }\n",
       "</style>\n",
       "<table border=\"1\" class=\"dataframe\">\n",
       "  <thead>\n",
       "    <tr style=\"text-align: right;\">\n",
       "      <th></th>\n",
       "      <th>model</th>\n",
       "      <th>year</th>\n",
       "      <th>price</th>\n",
       "      <th>transmission</th>\n",
       "      <th>mileage</th>\n",
       "      <th>fuelType</th>\n",
       "      <th>tax</th>\n",
       "      <th>mpg</th>\n",
       "      <th>engineSize</th>\n",
       "      <th>company</th>\n",
       "      <th>tax(£)</th>\n",
       "    </tr>\n",
       "  </thead>\n",
       "  <tbody>\n",
       "    <tr>\n",
       "      <th>6733</th>\n",
       "      <td>IQ</td>\n",
       "      <td>2011</td>\n",
       "      <td>5500</td>\n",
       "      <td>Automatic</td>\n",
       "      <td>30000</td>\n",
       "      <td>Petrol</td>\n",
       "      <td>20.0</td>\n",
       "      <td>58.9</td>\n",
       "      <td>1.0</td>\n",
       "      <td>toyota</td>\n",
       "      <td>NaN</td>\n",
       "    </tr>\n",
       "    <tr>\n",
       "      <th>6734</th>\n",
       "      <td>Urban Cruiser</td>\n",
       "      <td>2011</td>\n",
       "      <td>4985</td>\n",
       "      <td>Manual</td>\n",
       "      <td>36154</td>\n",
       "      <td>Petrol</td>\n",
       "      <td>125.0</td>\n",
       "      <td>50.4</td>\n",
       "      <td>1.3</td>\n",
       "      <td>toyota</td>\n",
       "      <td>NaN</td>\n",
       "    </tr>\n",
       "    <tr>\n",
       "      <th>6735</th>\n",
       "      <td>Urban Cruiser</td>\n",
       "      <td>2012</td>\n",
       "      <td>4995</td>\n",
       "      <td>Manual</td>\n",
       "      <td>46000</td>\n",
       "      <td>Diesel</td>\n",
       "      <td>125.0</td>\n",
       "      <td>57.6</td>\n",
       "      <td>1.4</td>\n",
       "      <td>toyota</td>\n",
       "      <td>NaN</td>\n",
       "    </tr>\n",
       "    <tr>\n",
       "      <th>6736</th>\n",
       "      <td>Urban Cruiser</td>\n",
       "      <td>2011</td>\n",
       "      <td>3995</td>\n",
       "      <td>Manual</td>\n",
       "      <td>60700</td>\n",
       "      <td>Petrol</td>\n",
       "      <td>125.0</td>\n",
       "      <td>50.4</td>\n",
       "      <td>1.3</td>\n",
       "      <td>toyota</td>\n",
       "      <td>NaN</td>\n",
       "    </tr>\n",
       "    <tr>\n",
       "      <th>6737</th>\n",
       "      <td>Urban Cruiser</td>\n",
       "      <td>2011</td>\n",
       "      <td>4495</td>\n",
       "      <td>Manual</td>\n",
       "      <td>45128</td>\n",
       "      <td>Petrol</td>\n",
       "      <td>125.0</td>\n",
       "      <td>50.4</td>\n",
       "      <td>1.3</td>\n",
       "      <td>toyota</td>\n",
       "      <td>NaN</td>\n",
       "    </tr>\n",
       "  </tbody>\n",
       "</table>\n",
       "</div>"
      ],
      "text/plain": [
       "               model  year  price transmission  mileage fuelType    tax   mpg  \\\n",
       "6733              IQ  2011   5500    Automatic    30000   Petrol   20.0  58.9   \n",
       "6734   Urban Cruiser  2011   4985       Manual    36154   Petrol  125.0  50.4   \n",
       "6735   Urban Cruiser  2012   4995       Manual    46000   Diesel  125.0  57.6   \n",
       "6736   Urban Cruiser  2011   3995       Manual    60700   Petrol  125.0  50.4   \n",
       "6737   Urban Cruiser  2011   4495       Manual    45128   Petrol  125.0  50.4   \n",
       "\n",
       "      engineSize company  tax(£)  \n",
       "6733         1.0  toyota     NaN  \n",
       "6734         1.3  toyota     NaN  \n",
       "6735         1.4  toyota     NaN  \n",
       "6736         1.3  toyota     NaN  \n",
       "6737         1.3  toyota     NaN  "
      ]
     },
     "execution_count": 5,
     "metadata": {},
     "output_type": "execute_result"
    }
   ],
   "source": [
    "df.tail()"
   ]
  },
  {
   "cell_type": "code",
   "execution_count": 6,
   "id": "391143bf",
   "metadata": {
    "execution": {
     "iopub.execute_input": "2022-03-17T02:08:58.108620Z",
     "iopub.status.busy": "2022-03-17T02:08:58.107998Z",
     "iopub.status.idle": "2022-03-17T02:08:58.111828Z",
     "shell.execute_reply": "2022-03-17T02:08:58.111331Z",
     "shell.execute_reply.started": "2022-03-17T02:01:55.185149Z"
    },
    "papermill": {
     "duration": 0.054031,
     "end_time": "2022-03-17T02:08:58.111944",
     "exception": false,
     "start_time": "2022-03-17T02:08:58.057913",
     "status": "completed"
    },
    "tags": []
   },
   "outputs": [
    {
     "data": {
      "text/plain": [
       "(70398, 11)"
      ]
     },
     "execution_count": 6,
     "metadata": {},
     "output_type": "execute_result"
    }
   ],
   "source": [
    "df.shape"
   ]
  },
  {
   "cell_type": "code",
   "execution_count": 7,
   "id": "cdae2269",
   "metadata": {
    "execution": {
     "iopub.execute_input": "2022-03-17T02:08:58.208608Z",
     "iopub.status.busy": "2022-03-17T02:08:58.207964Z",
     "iopub.status.idle": "2022-03-17T02:08:58.211239Z",
     "shell.execute_reply": "2022-03-17T02:08:58.210636Z",
     "shell.execute_reply.started": "2022-03-17T02:01:55.192572Z"
    },
    "papermill": {
     "duration": 0.053679,
     "end_time": "2022-03-17T02:08:58.211356",
     "exception": false,
     "start_time": "2022-03-17T02:08:58.157677",
     "status": "completed"
    },
    "tags": []
   },
   "outputs": [
    {
     "data": {
      "text/plain": [
       "Index(['model', 'year', 'price', 'transmission', 'mileage', 'fuelType', 'tax',\n",
       "       'mpg', 'engineSize', 'company', 'tax(£)'],\n",
       "      dtype='object')"
      ]
     },
     "execution_count": 7,
     "metadata": {},
     "output_type": "execute_result"
    }
   ],
   "source": [
    "df.columns"
   ]
  },
  {
   "cell_type": "code",
   "execution_count": 8,
   "id": "5bf823ee",
   "metadata": {
    "execution": {
     "iopub.execute_input": "2022-03-17T02:08:58.308447Z",
     "iopub.status.busy": "2022-03-17T02:08:58.307826Z",
     "iopub.status.idle": "2022-03-17T02:08:58.333790Z",
     "shell.execute_reply": "2022-03-17T02:08:58.333346Z",
     "shell.execute_reply.started": "2022-03-17T02:01:55.206512Z"
    },
    "papermill": {
     "duration": 0.076177,
     "end_time": "2022-03-17T02:08:58.333946",
     "exception": false,
     "start_time": "2022-03-17T02:08:58.257769",
     "status": "completed"
    },
    "tags": []
   },
   "outputs": [
    {
     "name": "stdout",
     "output_type": "stream",
     "text": [
      "<class 'pandas.core.frame.DataFrame'>\n",
      "Int64Index: 70398 entries, 0 to 6737\n",
      "Data columns (total 11 columns):\n",
      " #   Column        Non-Null Count  Dtype  \n",
      "---  ------        --------------  -----  \n",
      " 0   model         70398 non-null  object \n",
      " 1   year          70398 non-null  int64  \n",
      " 2   price         70398 non-null  int64  \n",
      " 3   transmission  70398 non-null  object \n",
      " 4   mileage       70398 non-null  int64  \n",
      " 5   fuelType      70398 non-null  object \n",
      " 6   tax           65538 non-null  float64\n",
      " 7   mpg           70398 non-null  float64\n",
      " 8   engineSize    70398 non-null  float64\n",
      " 9   company       70398 non-null  object \n",
      " 10  tax(£)        4860 non-null   float64\n",
      "dtypes: float64(4), int64(3), object(4)\n",
      "memory usage: 6.4+ MB\n"
     ]
    }
   ],
   "source": [
    "df.info()"
   ]
  },
  {
   "cell_type": "code",
   "execution_count": 9,
   "id": "cf12a329",
   "metadata": {
    "execution": {
     "iopub.execute_input": "2022-03-17T02:08:58.404316Z",
     "iopub.status.busy": "2022-03-17T02:08:58.403764Z",
     "iopub.status.idle": "2022-03-17T02:08:58.437746Z",
     "shell.execute_reply": "2022-03-17T02:08:58.438115Z",
     "shell.execute_reply.started": "2022-03-17T02:01:55.268329Z"
    },
    "papermill": {
     "duration": 0.072556,
     "end_time": "2022-03-17T02:08:58.438248",
     "exception": false,
     "start_time": "2022-03-17T02:08:58.365692",
     "status": "completed"
    },
    "tags": []
   },
   "outputs": [
    {
     "data": {
      "text/html": [
       "<div>\n",
       "<style scoped>\n",
       "    .dataframe tbody tr th:only-of-type {\n",
       "        vertical-align: middle;\n",
       "    }\n",
       "\n",
       "    .dataframe tbody tr th {\n",
       "        vertical-align: top;\n",
       "    }\n",
       "\n",
       "    .dataframe thead th {\n",
       "        text-align: right;\n",
       "    }\n",
       "</style>\n",
       "<table border=\"1\" class=\"dataframe\">\n",
       "  <thead>\n",
       "    <tr style=\"text-align: right;\">\n",
       "      <th></th>\n",
       "      <th>year</th>\n",
       "      <th>price</th>\n",
       "      <th>mileage</th>\n",
       "      <th>tax</th>\n",
       "      <th>mpg</th>\n",
       "      <th>engineSize</th>\n",
       "      <th>tax(£)</th>\n",
       "    </tr>\n",
       "  </thead>\n",
       "  <tbody>\n",
       "    <tr>\n",
       "      <th>count</th>\n",
       "      <td>70398.000000</td>\n",
       "      <td>70398.000000</td>\n",
       "      <td>70398.000000</td>\n",
       "      <td>65538.000000</td>\n",
       "      <td>70398.000000</td>\n",
       "      <td>70398.000000</td>\n",
       "      <td>4860.000000</td>\n",
       "    </tr>\n",
       "    <tr>\n",
       "      <th>mean</th>\n",
       "      <td>2017.076550</td>\n",
       "      <td>18037.205361</td>\n",
       "      <td>23181.649095</td>\n",
       "      <td>120.223229</td>\n",
       "      <td>56.174424</td>\n",
       "      <td>1.724401</td>\n",
       "      <td>121.147119</td>\n",
       "    </tr>\n",
       "    <tr>\n",
       "      <th>std</th>\n",
       "      <td>2.141514</td>\n",
       "      <td>10597.516999</td>\n",
       "      <td>21342.702158</td>\n",
       "      <td>64.980767</td>\n",
       "      <td>17.421733</td>\n",
       "      <td>0.605706</td>\n",
       "      <td>58.003289</td>\n",
       "    </tr>\n",
       "    <tr>\n",
       "      <th>min</th>\n",
       "      <td>1970.000000</td>\n",
       "      <td>495.000000</td>\n",
       "      <td>1.000000</td>\n",
       "      <td>0.000000</td>\n",
       "      <td>1.100000</td>\n",
       "      <td>0.000000</td>\n",
       "      <td>0.000000</td>\n",
       "    </tr>\n",
       "    <tr>\n",
       "      <th>25%</th>\n",
       "      <td>2016.000000</td>\n",
       "      <td>10700.000000</td>\n",
       "      <td>7374.000000</td>\n",
       "      <td>125.000000</td>\n",
       "      <td>47.900000</td>\n",
       "      <td>1.200000</td>\n",
       "      <td>125.000000</td>\n",
       "    </tr>\n",
       "    <tr>\n",
       "      <th>50%</th>\n",
       "      <td>2017.000000</td>\n",
       "      <td>15750.000000</td>\n",
       "      <td>17410.000000</td>\n",
       "      <td>145.000000</td>\n",
       "      <td>56.500000</td>\n",
       "      <td>1.600000</td>\n",
       "      <td>145.000000</td>\n",
       "    </tr>\n",
       "    <tr>\n",
       "      <th>75%</th>\n",
       "      <td>2019.000000</td>\n",
       "      <td>22450.000000</td>\n",
       "      <td>32466.750000</td>\n",
       "      <td>145.000000</td>\n",
       "      <td>64.200000</td>\n",
       "      <td>2.000000</td>\n",
       "      <td>145.000000</td>\n",
       "    </tr>\n",
       "    <tr>\n",
       "      <th>max</th>\n",
       "      <td>2060.000000</td>\n",
       "      <td>159999.000000</td>\n",
       "      <td>323000.000000</td>\n",
       "      <td>580.000000</td>\n",
       "      <td>470.800000</td>\n",
       "      <td>6.600000</td>\n",
       "      <td>555.000000</td>\n",
       "    </tr>\n",
       "  </tbody>\n",
       "</table>\n",
       "</div>"
      ],
      "text/plain": [
       "               year          price        mileage           tax           mpg  \\\n",
       "count  70398.000000   70398.000000   70398.000000  65538.000000  70398.000000   \n",
       "mean    2017.076550   18037.205361   23181.649095    120.223229     56.174424   \n",
       "std        2.141514   10597.516999   21342.702158     64.980767     17.421733   \n",
       "min     1970.000000     495.000000       1.000000      0.000000      1.100000   \n",
       "25%     2016.000000   10700.000000    7374.000000    125.000000     47.900000   \n",
       "50%     2017.000000   15750.000000   17410.000000    145.000000     56.500000   \n",
       "75%     2019.000000   22450.000000   32466.750000    145.000000     64.200000   \n",
       "max     2060.000000  159999.000000  323000.000000    580.000000    470.800000   \n",
       "\n",
       "         engineSize       tax(£)  \n",
       "count  70398.000000  4860.000000  \n",
       "mean       1.724401   121.147119  \n",
       "std        0.605706    58.003289  \n",
       "min        0.000000     0.000000  \n",
       "25%        1.200000   125.000000  \n",
       "50%        1.600000   145.000000  \n",
       "75%        2.000000   145.000000  \n",
       "max        6.600000   555.000000  "
      ]
     },
     "execution_count": 9,
     "metadata": {},
     "output_type": "execute_result"
    }
   ],
   "source": [
    "df.describe()"
   ]
  },
  {
   "cell_type": "code",
   "execution_count": 10,
   "id": "dce97a8c",
   "metadata": {
    "execution": {
     "iopub.execute_input": "2022-03-17T02:08:58.503322Z",
     "iopub.status.busy": "2022-03-17T02:08:58.502895Z",
     "iopub.status.idle": "2022-03-17T02:08:58.540315Z",
     "shell.execute_reply": "2022-03-17T02:08:58.540677Z",
     "shell.execute_reply.started": "2022-03-17T02:01:55.325228Z"
    },
    "papermill": {
     "duration": 0.071273,
     "end_time": "2022-03-17T02:08:58.540825",
     "exception": false,
     "start_time": "2022-03-17T02:08:58.469552",
     "status": "completed"
    },
    "tags": []
   },
   "outputs": [
    {
     "data": {
      "text/plain": [
       "model           70398\n",
       "year            70398\n",
       "price           70398\n",
       "transmission    70398\n",
       "mileage         70398\n",
       "fuelType        70398\n",
       "tax             65538\n",
       "mpg             70398\n",
       "engineSize      70398\n",
       "company         70398\n",
       "tax(£)           4860\n",
       "dtype: int64"
      ]
     },
     "execution_count": 10,
     "metadata": {},
     "output_type": "execute_result"
    }
   ],
   "source": [
    "df.count()"
   ]
  },
  {
   "cell_type": "code",
   "execution_count": 11,
   "id": "91e0332e",
   "metadata": {
    "execution": {
     "iopub.execute_input": "2022-03-17T02:08:58.621570Z",
     "iopub.status.busy": "2022-03-17T02:08:58.620975Z",
     "iopub.status.idle": "2022-03-17T02:08:58.655230Z",
     "shell.execute_reply": "2022-03-17T02:08:58.655795Z",
     "shell.execute_reply.started": "2022-03-17T02:01:55.370351Z"
    },
    "papermill": {
     "duration": 0.083436,
     "end_time": "2022-03-17T02:08:58.655963",
     "exception": false,
     "start_time": "2022-03-17T02:08:58.572527",
     "status": "completed"
    },
    "tags": []
   },
   "outputs": [
    {
     "data": {
      "text/plain": [
       "model           False\n",
       "year            False\n",
       "price           False\n",
       "transmission    False\n",
       "mileage         False\n",
       "fuelType        False\n",
       "tax              True\n",
       "mpg             False\n",
       "engineSize      False\n",
       "company         False\n",
       "tax(£)           True\n",
       "dtype: bool"
      ]
     },
     "execution_count": 11,
     "metadata": {},
     "output_type": "execute_result"
    }
   ],
   "source": [
    "df.isna().any()"
   ]
  },
  {
   "cell_type": "code",
   "execution_count": 12,
   "id": "4f43ae72",
   "metadata": {
    "execution": {
     "iopub.execute_input": "2022-03-17T02:08:58.756365Z",
     "iopub.status.busy": "2022-03-17T02:08:58.755687Z",
     "iopub.status.idle": "2022-03-17T02:08:58.790362Z",
     "shell.execute_reply": "2022-03-17T02:08:58.790859Z",
     "shell.execute_reply.started": "2022-03-17T02:01:55.414742Z"
    },
    "papermill": {
     "duration": 0.086667,
     "end_time": "2022-03-17T02:08:58.791011",
     "exception": false,
     "start_time": "2022-03-17T02:08:58.704344",
     "status": "completed"
    },
    "tags": []
   },
   "outputs": [
    {
     "data": {
      "text/plain": [
       "model               0\n",
       "year                0\n",
       "price               0\n",
       "transmission        0\n",
       "mileage             0\n",
       "fuelType            0\n",
       "tax              4860\n",
       "mpg                 0\n",
       "engineSize          0\n",
       "company             0\n",
       "tax(£)          65538\n",
       "dtype: int64"
      ]
     },
     "execution_count": 12,
     "metadata": {},
     "output_type": "execute_result"
    }
   ],
   "source": [
    "df.isna().sum()"
   ]
  },
  {
   "cell_type": "code",
   "execution_count": 13,
   "id": "f76ad5bb",
   "metadata": {
    "execution": {
     "iopub.execute_input": "2022-03-17T02:08:58.891863Z",
     "iopub.status.busy": "2022-03-17T02:08:58.891262Z",
     "iopub.status.idle": "2022-03-17T02:08:58.902911Z",
     "shell.execute_reply": "2022-03-17T02:08:58.903453Z",
     "shell.execute_reply.started": "2022-03-17T02:01:55.458604Z"
    },
    "papermill": {
     "duration": 0.063576,
     "end_time": "2022-03-17T02:08:58.903624",
     "exception": false,
     "start_time": "2022-03-17T02:08:58.840048",
     "status": "completed"
    },
    "tags": []
   },
   "outputs": [
    {
     "data": {
      "text/plain": [
       "2019    18915\n",
       "2017    15661\n",
       "2016    10701\n",
       "2018    10069\n",
       "2015     5422\n",
       "2020     2989\n",
       "2014     2964\n",
       "2013     1966\n",
       "2012      457\n",
       "2011      303\n",
       "2010      231\n",
       "2009      209\n",
       "2008      146\n",
       "2007      116\n",
       "2006       59\n",
       "2005       53\n",
       "2004       42\n",
       "2003       27\n",
       "2002       25\n",
       "2001       14\n",
       "1998        8\n",
       "2000        8\n",
       "1999        6\n",
       "1997        3\n",
       "1996        2\n",
       "2060        1\n",
       "1970        1\n",
       "Name: year, dtype: int64"
      ]
     },
     "execution_count": 13,
     "metadata": {},
     "output_type": "execute_result"
    }
   ],
   "source": [
    "df.drop([\"tax\",\"tax(£)\"],axis=1, inplace=True)\n",
    "df[\"year\"].value_counts()"
   ]
  },
  {
   "cell_type": "code",
   "execution_count": 14,
   "id": "844fc00f",
   "metadata": {
    "execution": {
     "iopub.execute_input": "2022-03-17T02:08:59.006962Z",
     "iopub.status.busy": "2022-03-17T02:08:59.006317Z",
     "iopub.status.idle": "2022-03-17T02:08:59.038564Z",
     "shell.execute_reply": "2022-03-17T02:08:59.039075Z",
     "shell.execute_reply.started": "2022-03-17T02:01:55.474061Z"
    },
    "papermill": {
     "duration": 0.085489,
     "end_time": "2022-03-17T02:08:59.039227",
     "exception": false,
     "start_time": "2022-03-17T02:08:58.953738",
     "status": "completed"
    },
    "tags": []
   },
   "outputs": [
    {
     "data": {
      "text/plain": [
       "count    70397.000000\n",
       "mean         3.924059\n",
       "std          2.135410\n",
       "min          1.000000\n",
       "25%          2.000000\n",
       "50%          4.000000\n",
       "75%          5.000000\n",
       "max         51.000000\n",
       "Name: age, dtype: float64"
      ]
     },
     "execution_count": 14,
     "metadata": {},
     "output_type": "execute_result"
    }
   ],
   "source": [
    "df.drop(df[df[\"year\"]==2060].index,axis=0,inplace=True)\n",
    "age = 2021 - df['year']\n",
    "df['age'] = age\n",
    "df[\"age\"].describe()"
   ]
  },
  {
   "cell_type": "code",
   "execution_count": 15,
   "id": "7a91bf21",
   "metadata": {
    "execution": {
     "iopub.execute_input": "2022-03-17T02:08:59.144680Z",
     "iopub.status.busy": "2022-03-17T02:08:59.144062Z",
     "iopub.status.idle": "2022-03-17T02:08:59.154270Z",
     "shell.execute_reply": "2022-03-17T02:08:59.153718Z",
     "shell.execute_reply.started": "2022-03-17T02:01:55.520189Z"
    },
    "papermill": {
     "duration": 0.064895,
     "end_time": "2022-03-17T02:08:59.154394",
     "exception": false,
     "start_time": "2022-03-17T02:08:59.089499",
     "status": "completed"
    },
    "tags": []
   },
   "outputs": [
    {
     "data": {
      "text/html": [
       "<div>\n",
       "<style scoped>\n",
       "    .dataframe tbody tr th:only-of-type {\n",
       "        vertical-align: middle;\n",
       "    }\n",
       "\n",
       "    .dataframe tbody tr th {\n",
       "        vertical-align: top;\n",
       "    }\n",
       "\n",
       "    .dataframe thead th {\n",
       "        text-align: right;\n",
       "    }\n",
       "</style>\n",
       "<table border=\"1\" class=\"dataframe\">\n",
       "  <thead>\n",
       "    <tr style=\"text-align: right;\">\n",
       "      <th></th>\n",
       "      <th>age</th>\n",
       "      <th>count</th>\n",
       "    </tr>\n",
       "  </thead>\n",
       "  <tbody>\n",
       "    <tr>\n",
       "      <th>0</th>\n",
       "      <td>2</td>\n",
       "      <td>18915</td>\n",
       "    </tr>\n",
       "    <tr>\n",
       "      <th>1</th>\n",
       "      <td>4</td>\n",
       "      <td>15661</td>\n",
       "    </tr>\n",
       "    <tr>\n",
       "      <th>2</th>\n",
       "      <td>5</td>\n",
       "      <td>10701</td>\n",
       "    </tr>\n",
       "    <tr>\n",
       "      <th>3</th>\n",
       "      <td>3</td>\n",
       "      <td>10069</td>\n",
       "    </tr>\n",
       "    <tr>\n",
       "      <th>4</th>\n",
       "      <td>6</td>\n",
       "      <td>5422</td>\n",
       "    </tr>\n",
       "  </tbody>\n",
       "</table>\n",
       "</div>"
      ],
      "text/plain": [
       "   age  count\n",
       "0    2  18915\n",
       "1    4  15661\n",
       "2    5  10701\n",
       "3    3  10069\n",
       "4    6   5422"
      ]
     },
     "execution_count": 15,
     "metadata": {},
     "output_type": "execute_result"
    }
   ],
   "source": [
    "carage=df[\"age\"].value_counts().reset_index()\n",
    "carage.columns=[\"age\",\"count\"]\n",
    "carage.head()"
   ]
  },
  {
   "cell_type": "code",
   "execution_count": 16,
   "id": "d21d3826",
   "metadata": {
    "execution": {
     "iopub.execute_input": "2022-03-17T02:08:59.261387Z",
     "iopub.status.busy": "2022-03-17T02:08:59.258271Z",
     "iopub.status.idle": "2022-03-17T02:08:59.269967Z",
     "shell.execute_reply": "2022-03-17T02:08:59.270491Z",
     "shell.execute_reply.started": "2022-03-17T02:01:55.534992Z"
    },
    "papermill": {
     "duration": 0.065396,
     "end_time": "2022-03-17T02:08:59.270647",
     "exception": false,
     "start_time": "2022-03-17T02:08:59.205251",
     "status": "completed"
    },
    "tags": []
   },
   "outputs": [
    {
     "data": {
      "text/plain": [
       "count     70397.00000\n",
       "mean      18037.36932\n",
       "std       10597.50298\n",
       "min         495.00000\n",
       "25%       10700.00000\n",
       "50%       15750.00000\n",
       "75%       22450.00000\n",
       "max      159999.00000\n",
       "Name: price, dtype: float64"
      ]
     },
     "execution_count": 16,
     "metadata": {},
     "output_type": "execute_result"
    }
   ],
   "source": [
    "df[\"price\"].describe()"
   ]
  },
  {
   "cell_type": "code",
   "execution_count": 17,
   "id": "74711c04",
   "metadata": {
    "execution": {
     "iopub.execute_input": "2022-03-17T02:08:59.376261Z",
     "iopub.status.busy": "2022-03-17T02:08:59.375474Z",
     "iopub.status.idle": "2022-03-17T02:08:59.384504Z",
     "shell.execute_reply": "2022-03-17T02:08:59.385108Z",
     "shell.execute_reply.started": "2022-03-17T02:01:55.549783Z"
    },
    "papermill": {
     "duration": 0.063289,
     "end_time": "2022-03-17T02:08:59.385257",
     "exception": false,
     "start_time": "2022-03-17T02:08:59.321968",
     "status": "completed"
    },
    "tags": []
   },
   "outputs": [
    {
     "data": {
      "text/plain": [
       "Manual       35048\n",
       "Semi-Auto    18432\n",
       "Automatic    16911\n",
       "Other            6\n",
       "Name: transmission, dtype: int64"
      ]
     },
     "execution_count": 17,
     "metadata": {},
     "output_type": "execute_result"
    }
   ],
   "source": [
    "df[\"transmission\"].value_counts()"
   ]
  },
  {
   "cell_type": "code",
   "execution_count": 18,
   "id": "044e9ed0",
   "metadata": {
    "execution": {
     "iopub.execute_input": "2022-03-17T02:08:59.492552Z",
     "iopub.status.busy": "2022-03-17T02:08:59.491739Z",
     "iopub.status.idle": "2022-03-17T02:08:59.501627Z",
     "shell.execute_reply": "2022-03-17T02:08:59.502231Z",
     "shell.execute_reply.started": "2022-03-17T02:01:55.571990Z"
    },
    "papermill": {
     "duration": 0.065608,
     "end_time": "2022-03-17T02:08:59.502384",
     "exception": false,
     "start_time": "2022-03-17T02:08:59.436776",
     "status": "completed"
    },
    "tags": []
   },
   "outputs": [
    {
     "data": {
      "text/plain": [
       "Manual       35048\n",
       "Semi-Auto    18432\n",
       "Automatic    16911\n",
       "Other            6\n",
       "Name: transmission, dtype: int64"
      ]
     },
     "execution_count": 18,
     "metadata": {},
     "output_type": "execute_result"
    }
   ],
   "source": [
    "df[\"transmission\"].value_counts()"
   ]
  },
  {
   "cell_type": "code",
   "execution_count": 19,
   "id": "c85935c7",
   "metadata": {
    "execution": {
     "iopub.execute_input": "2022-03-17T02:08:59.618694Z",
     "iopub.status.busy": "2022-03-17T02:08:59.617830Z",
     "iopub.status.idle": "2022-03-17T02:08:59.644658Z",
     "shell.execute_reply": "2022-03-17T02:08:59.644165Z",
     "shell.execute_reply.started": "2022-03-17T02:01:55.597877Z"
    },
    "papermill": {
     "duration": 0.089376,
     "end_time": "2022-03-17T02:08:59.644785",
     "exception": false,
     "start_time": "2022-03-17T02:08:59.555409",
     "status": "completed"
    },
    "tags": []
   },
   "outputs": [
    {
     "data": {
      "text/plain": [
       "count     70364.000000\n",
       "mean      23182.381971\n",
       "std       21344.356740\n",
       "min           1.000000\n",
       "25%        7374.000000\n",
       "50%       17408.500000\n",
       "75%       32467.500000\n",
       "max      323000.000000\n",
       "Name: mileage, dtype: float64"
      ]
     },
     "execution_count": 19,
     "metadata": {},
     "output_type": "execute_result"
    }
   ],
   "source": [
    "df.drop(df[df[\"transmission\"]==\"Other\"].index,axis=0,inplace=True)\n",
    "df[\"mileage\"].describe()"
   ]
  },
  {
   "cell_type": "code",
   "execution_count": 20,
   "id": "6af8c372",
   "metadata": {
    "execution": {
     "iopub.execute_input": "2022-03-17T02:08:59.753243Z",
     "iopub.status.busy": "2022-03-17T02:08:59.752436Z",
     "iopub.status.idle": "2022-03-17T02:08:59.760423Z",
     "shell.execute_reply": "2022-03-17T02:08:59.761014Z",
     "shell.execute_reply.started": "2022-03-17T02:01:55.661413Z"
    },
    "papermill": {
     "duration": 0.063638,
     "end_time": "2022-03-17T02:08:59.761176",
     "exception": false,
     "start_time": "2022-03-17T02:08:59.697538",
     "status": "completed"
    },
    "tags": []
   },
   "outputs": [
    {
     "data": {
      "text/plain": [
       "count     70364.000000\n",
       "mean      23182.381971\n",
       "std       21344.356740\n",
       "min           1.000000\n",
       "25%        7374.000000\n",
       "50%       17408.500000\n",
       "75%       32467.500000\n",
       "max      323000.000000\n",
       "Name: mileage, dtype: float64"
      ]
     },
     "execution_count": 20,
     "metadata": {},
     "output_type": "execute_result"
    }
   ],
   "source": [
    "df[\"mileage\"].describe()"
   ]
  },
  {
   "cell_type": "code",
   "execution_count": 21,
   "id": "602d37d9",
   "metadata": {
    "execution": {
     "iopub.execute_input": "2022-03-17T02:08:59.873011Z",
     "iopub.status.busy": "2022-03-17T02:08:59.872205Z",
     "iopub.status.idle": "2022-03-17T02:08:59.897345Z",
     "shell.execute_reply": "2022-03-17T02:08:59.897856Z",
     "shell.execute_reply.started": "2022-03-17T02:01:55.680998Z"
    },
    "papermill": {
     "duration": 0.082399,
     "end_time": "2022-03-17T02:08:59.898007",
     "exception": false,
     "start_time": "2022-03-17T02:08:59.815608",
     "status": "completed"
    },
    "tags": []
   },
   "outputs": [
    {
     "data": {
      "text/html": [
       "<div>\n",
       "<style scoped>\n",
       "    .dataframe tbody tr th:only-of-type {\n",
       "        vertical-align: middle;\n",
       "    }\n",
       "\n",
       "    .dataframe tbody tr th {\n",
       "        vertical-align: top;\n",
       "    }\n",
       "\n",
       "    .dataframe thead th {\n",
       "        text-align: right;\n",
       "    }\n",
       "</style>\n",
       "<table border=\"1\" class=\"dataframe\">\n",
       "  <thead>\n",
       "    <tr style=\"text-align: right;\">\n",
       "      <th></th>\n",
       "      <th>year</th>\n",
       "      <th>price</th>\n",
       "      <th>mileage</th>\n",
       "      <th>mpg</th>\n",
       "      <th>engineSize</th>\n",
       "      <th>age</th>\n",
       "    </tr>\n",
       "  </thead>\n",
       "  <tbody>\n",
       "    <tr>\n",
       "      <th>count</th>\n",
       "      <td>16840.00000</td>\n",
       "      <td>16840.000000</td>\n",
       "      <td>16840.000000</td>\n",
       "      <td>16840.000000</td>\n",
       "      <td>16840.000000</td>\n",
       "      <td>16840.00000</td>\n",
       "    </tr>\n",
       "    <tr>\n",
       "      <th>mean</th>\n",
       "      <td>2018.98652</td>\n",
       "      <td>26421.062648</td>\n",
       "      <td>3256.524109</td>\n",
       "      <td>49.291882</td>\n",
       "      <td>1.782815</td>\n",
       "      <td>2.01348</td>\n",
       "    </tr>\n",
       "    <tr>\n",
       "      <th>std</th>\n",
       "      <td>0.73569</td>\n",
       "      <td>13029.032309</td>\n",
       "      <td>2126.953381</td>\n",
       "      <td>15.359127</td>\n",
       "      <td>0.648518</td>\n",
       "      <td>0.73569</td>\n",
       "    </tr>\n",
       "    <tr>\n",
       "      <th>min</th>\n",
       "      <td>2007.00000</td>\n",
       "      <td>1299.000000</td>\n",
       "      <td>1.000000</td>\n",
       "      <td>1.100000</td>\n",
       "      <td>0.000000</td>\n",
       "      <td>1.00000</td>\n",
       "    </tr>\n",
       "    <tr>\n",
       "      <th>25%</th>\n",
       "      <td>2019.00000</td>\n",
       "      <td>17790.000000</td>\n",
       "      <td>1403.500000</td>\n",
       "      <td>40.400000</td>\n",
       "      <td>1.300000</td>\n",
       "      <td>2.00000</td>\n",
       "    </tr>\n",
       "    <tr>\n",
       "      <th>50%</th>\n",
       "      <td>2019.00000</td>\n",
       "      <td>24950.000000</td>\n",
       "      <td>3314.000000</td>\n",
       "      <td>47.900000</td>\n",
       "      <td>2.000000</td>\n",
       "      <td>2.00000</td>\n",
       "    </tr>\n",
       "    <tr>\n",
       "      <th>75%</th>\n",
       "      <td>2019.00000</td>\n",
       "      <td>31699.000000</td>\n",
       "      <td>5000.000000</td>\n",
       "      <td>56.500000</td>\n",
       "      <td>2.000000</td>\n",
       "      <td>2.00000</td>\n",
       "    </tr>\n",
       "    <tr>\n",
       "      <th>max</th>\n",
       "      <td>2020.00000</td>\n",
       "      <td>159999.000000</td>\n",
       "      <td>6999.000000</td>\n",
       "      <td>470.800000</td>\n",
       "      <td>6.200000</td>\n",
       "      <td>14.00000</td>\n",
       "    </tr>\n",
       "  </tbody>\n",
       "</table>\n",
       "</div>"
      ],
      "text/plain": [
       "              year          price       mileage           mpg    engineSize  \\\n",
       "count  16840.00000   16840.000000  16840.000000  16840.000000  16840.000000   \n",
       "mean    2018.98652   26421.062648   3256.524109     49.291882      1.782815   \n",
       "std        0.73569   13029.032309   2126.953381     15.359127      0.648518   \n",
       "min     2007.00000    1299.000000      1.000000      1.100000      0.000000   \n",
       "25%     2019.00000   17790.000000   1403.500000     40.400000      1.300000   \n",
       "50%     2019.00000   24950.000000   3314.000000     47.900000      2.000000   \n",
       "75%     2019.00000   31699.000000   5000.000000     56.500000      2.000000   \n",
       "max     2020.00000  159999.000000   6999.000000    470.800000      6.200000   \n",
       "\n",
       "               age  \n",
       "count  16840.00000  \n",
       "mean       2.01348  \n",
       "std        0.73569  \n",
       "min        1.00000  \n",
       "25%        2.00000  \n",
       "50%        2.00000  \n",
       "75%        2.00000  \n",
       "max       14.00000  "
      ]
     },
     "execution_count": 21,
     "metadata": {},
     "output_type": "execute_result"
    }
   ],
   "source": [
    "df[df[\"mileage\"]<7000].describe()"
   ]
  },
  {
   "cell_type": "code",
   "execution_count": 22,
   "id": "cb4dd53b",
   "metadata": {
    "execution": {
     "iopub.execute_input": "2022-03-17T02:09:00.009744Z",
     "iopub.status.busy": "2022-03-17T02:09:00.008947Z",
     "iopub.status.idle": "2022-03-17T02:09:00.036989Z",
     "shell.execute_reply": "2022-03-17T02:09:00.037517Z",
     "shell.execute_reply.started": "2022-03-17T02:01:55.716418Z"
    },
    "papermill": {
     "duration": 0.085307,
     "end_time": "2022-03-17T02:09:00.037672",
     "exception": false,
     "start_time": "2022-03-17T02:08:59.952365",
     "status": "completed"
    },
    "tags": []
   },
   "outputs": [
    {
     "data": {
      "text/plain": [
       "Petrol      35518\n",
       "Diesel      31685\n",
       "Hybrid       2925\n",
       "Other         158\n",
       "Electric        5\n",
       "Name: fuelType, dtype: int64"
      ]
     },
     "execution_count": 22,
     "metadata": {},
     "output_type": "execute_result"
    }
   ],
   "source": [
    "df.drop(df[df[\"mileage\"]==1].index,axis=0,inplace=True)\n",
    "df[\"fuelType\"].value_counts()"
   ]
  },
  {
   "cell_type": "code",
   "execution_count": 23,
   "id": "1f3cbe2d",
   "metadata": {
    "execution": {
     "iopub.execute_input": "2022-03-17T02:09:00.150416Z",
     "iopub.status.busy": "2022-03-17T02:09:00.149750Z",
     "iopub.status.idle": "2022-03-17T02:09:00.200550Z",
     "shell.execute_reply": "2022-03-17T02:09:00.200004Z",
     "shell.execute_reply.started": "2022-03-17T02:01:55.766206Z"
    },
    "papermill": {
     "duration": 0.108045,
     "end_time": "2022-03-17T02:09:00.200674",
     "exception": false,
     "start_time": "2022-03-17T02:09:00.092629",
     "status": "completed"
    },
    "tags": []
   },
   "outputs": [
    {
     "data": {
      "text/plain": [
       "count    69422.000000\n",
       "mean        56.093805\n",
       "std         16.738420\n",
       "min          1.100000\n",
       "25%         47.900000\n",
       "50%         56.500000\n",
       "75%         64.200000\n",
       "max        470.800000\n",
       "Name: mpg, dtype: float64"
      ]
     },
     "execution_count": 23,
     "metadata": {},
     "output_type": "execute_result"
    }
   ],
   "source": [
    "df.drop(df[df[\"fuelType\"]==\"Other\"].index,axis=0,inplace=True)\n",
    "df[\"mpg\"].describe()"
   ]
  },
  {
   "cell_type": "code",
   "execution_count": 24,
   "id": "5918dea4",
   "metadata": {
    "execution": {
     "iopub.execute_input": "2022-03-17T02:09:00.314301Z",
     "iopub.status.busy": "2022-03-17T02:09:00.313650Z",
     "iopub.status.idle": "2022-03-17T02:09:00.350577Z",
     "shell.execute_reply": "2022-03-17T02:09:00.351170Z",
     "shell.execute_reply.started": "2022-03-17T02:01:55.819507Z"
    },
    "papermill": {
     "duration": 0.095223,
     "end_time": "2022-03-17T02:09:00.351324",
     "exception": false,
     "start_time": "2022-03-17T02:09:00.256101",
     "status": "completed"
    },
    "tags": []
   },
   "outputs": [
    {
     "data": {
      "text/plain": [
       "count    69372.000000\n",
       "mean         1.723926\n",
       "std          0.604940\n",
       "min          0.000000\n",
       "25%          1.200000\n",
       "50%          1.600000\n",
       "75%          2.000000\n",
       "max          6.600000\n",
       "Name: engineSize, dtype: float64"
      ]
     },
     "execution_count": 24,
     "metadata": {},
     "output_type": "execute_result"
    }
   ],
   "source": [
    "df.drop(df[df[\"mpg\"]==1.100000].index,axis=0,inplace=True)\n",
    "df[\"engineSize\"].describe()"
   ]
  },
  {
   "cell_type": "code",
   "execution_count": 25,
   "id": "d88c0e12",
   "metadata": {
    "execution": {
     "iopub.execute_input": "2022-03-17T02:09:00.466477Z",
     "iopub.status.busy": "2022-03-17T02:09:00.465877Z",
     "iopub.status.idle": "2022-03-17T02:09:00.833737Z",
     "shell.execute_reply": "2022-03-17T02:09:00.834123Z",
     "shell.execute_reply.started": "2022-03-17T02:01:55.860569Z"
    },
    "papermill": {
     "duration": 0.427385,
     "end_time": "2022-03-17T02:09:00.834247",
     "exception": false,
     "start_time": "2022-03-17T02:09:00.406862",
     "status": "completed"
    },
    "tags": []
   },
   "outputs": [
    {
     "data": {
      "text/plain": [
       "Text(0, 0.5, 'Count')"
      ]
     },
     "execution_count": 25,
     "metadata": {},
     "output_type": "execute_result"
    },
    {
     "data": {
      "image/png": "[encoded data removed]",
      "text/plain": [
       "<Figure size 1080x576 with 1 Axes>"
      ]
     },
     "metadata": {
      "needs_background": "light"
     },
     "output_type": "display_data"
    }
   ],
   "source": [
    "df.drop(df[df[\"engineSize\"]<=1.0000000].index,axis=0,inplace=True)\n",
    "plt.figure(figsize=(15,8))\n",
    "count_of_model = df['company'].value_counts().sort_values(ascending=False)\n",
    "sns.countplot(data=df, x='company',order=count_of_model.index,palette=\"mako\")\n",
    "plt.title('Frequency of company',size=15)\n",
    "plt.xlabel('company',size=13)\n",
    "plt.ylabel('Count',size=13)"
   ]
  },
  {
   "cell_type": "code",
   "execution_count": 26,
   "id": "06f4af41",
   "metadata": {
    "execution": {
     "iopub.execute_input": "2022-03-17T02:09:00.911268Z",
     "iopub.status.busy": "2022-03-17T02:09:00.910825Z",
     "iopub.status.idle": "2022-03-17T02:09:01.042301Z",
     "shell.execute_reply": "2022-03-17T02:09:01.042865Z",
     "shell.execute_reply.started": "2022-03-17T02:01:56.388953Z"
    },
    "papermill": {
     "duration": 0.171088,
     "end_time": "2022-03-17T02:09:01.043016",
     "exception": false,
     "start_time": "2022-03-17T02:09:00.871928",
     "status": "completed"
    },
    "tags": []
   },
   "outputs": [
    {
     "data": {
      "image/png": "[encoded data removed]",
      "text/plain": [
       "<Figure size 864x504 with 1 Axes>"
      ]
     },
     "metadata": {},
     "output_type": "display_data"
    }
   ],
   "source": [
    "pie=df[\"company\"].value_counts().reset_index()\n",
    "pie.columns=[\"company\",\"count\"]\n",
    "plt.figure(figsize=(12,7))\n",
    "color=sns.color_palette(\"pastel\")\n",
    "plt.pie(pie[\"count\"],colors=color,autopct='%.0f%%',labels=pie[\"company\"])\n",
    "plt.show()"
   ]
  },
  {
   "cell_type": "code",
   "execution_count": null,
   "id": "ec39b1da",
   "metadata": {
    "papermill": {
     "duration": 0.044756,
     "end_time": "2022-03-17T02:09:01.138704",
     "exception": false,
     "start_time": "2022-03-17T02:09:01.093948",
     "status": "completed"
    },
    "tags": []
   },
   "outputs": [],
   "source": []
  },
  {
   "cell_type": "code",
   "execution_count": 27,
   "id": "9a970937",
   "metadata": {
    "execution": {
     "iopub.execute_input": "2022-03-17T02:09:01.220956Z",
     "iopub.status.busy": "2022-03-17T02:09:01.220398Z",
     "iopub.status.idle": "2022-03-17T02:09:02.476465Z",
     "shell.execute_reply": "2022-03-17T02:09:02.476973Z",
     "shell.execute_reply.started": "2022-03-17T02:02:47.764719Z"
    },
    "papermill": {
     "duration": 1.299286,
     "end_time": "2022-03-17T02:09:02.477134",
     "exception": false,
     "start_time": "2022-03-17T02:09:01.177848",
     "status": "completed"
    },
    "tags": []
   },
   "outputs": [
    {
     "data": {
      "text/html": [
       "        <script type=\"text/javascript\">\n",
       "        window.PlotlyConfig = {MathJaxConfig: 'local'};\n",
       "        if (window.MathJax) {MathJax.Hub.Config({SVG: {font: \"STIX-Web\"}});}\n",
       "        if (typeof require !== 'undefined') {\n",
       "        require.undef(\"plotly\");\n",
       "        requirejs.config({\n",
       "            paths: {\n",
       "                'plotly': ['https://cdn.plot.ly/plotly-2.9.0.min']\n",
       "            }\n",
       "        });\n",
       "        require(['plotly'], function(Plotly) {\n",
       "            window._Plotly = Plotly;\n",
       "        });\n",
       "        }\n",
       "        </script>\n",
       "        "
      ]
     },
     "metadata": {},
     "output_type": "display_data"
    },
    {
     "data": {
      "text/html": [
       "<div>                            <div id=\"6145f29a-913e-4bd0-838d-751312e43b5f\" class=\"plotly-graph-div\" style=\"height:525px; width:100%;\"></div>            <script type=\"text/javascript\">                require([\"plotly\"], function(Plotly) {                    window.PLOTLYENV=window.PLOTLYENV || {};                                    if (document.getElementById(\"6145f29a-913e-4bd0-838d-751312e43b5f\")) {                    Plotly.newPlot(                        \"6145f29a-913e-4bd0-838d-751312e43b5f\",                        [{\"branchvalues\":\"total\",\"domain\":{\"x\":[0.0,1.0],\"y\":[0.0,1.0]},\"hovertemplate\":\"labels=%{label}<br>count=%{value}<br>parent=%{parent}<br>id=%{id}<extra></extra>\",\"ids\":[\"audi\",\"bmw\",\"ford\",\"hyundai\",\"mercedes\",\"skoda\",\"toyota\"],\"labels\":[\"audi\",\"bmw\",\"ford\",\"hyundai\",\"mercedes\",\"skoda\",\"toyota\"],\"name\":\"\",\"parents\":[\"\",\"\",\"\",\"\",\"\",\"\",\"\"],\"values\":[3302,3362,7572,982,4495,1256,1465],\"type\":\"treemap\"}],                        {\"template\":{\"data\":{\"bar\":[{\"error_x\":{\"color\":\"#2a3f5f\"},\"error_y\":{\"color\":\"#2a3f5f\"},\"marker\":{\"line\":{\"color\":\"#E5ECF6\",\"width\":0.5},\"pattern\":{\"fillmode\":\"overlay\",\"size\":10,\"solidity\":0.2}},\"type\":\"bar\"}],\"barpolar\":[{\"marker\":{\"line\":{\"color\":\"#E5ECF6\",\"width\":0.5},\"pattern\":{\"fillmode\":\"overlay\",\"size\":10,\"solidity\":0.2}},\"type\":\"barpolar\"}],\"carpet\":[{\"aaxis\":{\"endlinecolor\":\"#2a3f5f\",\"gridcolor\":\"white\",\"linecolor\":\"white\",\"minorgridcolor\":\"white\",\"startlinecolor\":\"#2a3f5f\"},\"baxis\":{\"endlinecolor\":\"#2a3f5f\",\"gridcolor\":\"white\",\"linecolor\":\"white\",\"minorgridcolor\":\"white\",\"startlinecolor\":\"#2a3f5f\"},\"type\":\"carpet\"}],\"choropleth\":[{\"colorbar\":{\"outlinewidth\":0,\"ticks\":\"\"},\"type\":\"choropleth\"}],\"contour\":[{\"colorbar\":{\"outlinewidth\":0,\"ticks\":\"\"},\"colorscale\":[[0.0,\"#0d0887\"],[0.1111111111111111,\"#46039f\"],[0.2222222222222222,\"#7201a8\"],[0.3333333333333333,\"#9c179e\"],[0.4444444444444444,\"#bd3786\"],[0.5555555555555556,\"#d8576b\"],[0.6666666666666666,\"#ed7953\"],[0.7777777777777778,\"#fb9f3a\"],[0.8888888888888888,\"#fdca26\"],[1.0,\"#f0f921\"]],\"type\":\"contour\"}],\"contourcarpet\":[{\"colorbar\":{\"outlinewidth\":0,\"ticks\":\"\"},\"type\":\"contourcarpet\"}],\"heatmap\":[{\"colorbar\":{\"outlinewidth\":0,\"ticks\":\"\"},\"colorscale\":[[0.0,\"#0d0887\"],[0.1111111111111111,\"#46039f\"],[0.2222222222222222,\"#7201a8\"],[0.3333333333333333,\"#9c179e\"],[0.4444444444444444,\"#bd3786\"],[0.5555555555555556,\"#d8576b\"],[0.6666666666666666,\"#ed7953\"],[0.7777777777777778,\"#fb9f3a\"],[0.8888888888888888,\"#fdca26\"],[1.0,\"#f0f921\"]],\"type\":\"heatmap\"}],\"heatmapgl\":[{\"colorbar\":{\"outlinewidth\":0,\"ticks\":\"\"},\"colorscale\":[[0.0,\"#0d0887\"],[0.1111111111111111,\"#46039f\"],[0.2222222222222222,\"#7201a8\"],[0.3333333333333333,\"#9c179e\"],[0.4444444444444444,\"#bd3786\"],[0.5555555555555556,\"#d8576b\"],[0.6666666666666666,\"#ed7953\"],[0.7777777777777778,\"#fb9f3a\"],[0.8888888888888888,\"#fdca26\"],[1.0,\"#f0f921\"]],\"type\":\"heatmapgl\"}],\"histogram\":[{\"marker\":{\"pattern\":{\"fillmode\":\"overlay\",\"size\":10,\"solidity\":0.2}},\"type\":\"histogram\"}],\"histogram2d\":[{\"colorbar\":{\"outlinewidth\":0,\"ticks\":\"\"},\"colorscale\":[[0.0,\"#0d0887\"],[0.1111111111111111,\"#46039f\"],[0.2222222222222222,\"#7201a8\"],[0.3333333333333333,\"#9c179e\"],[0.4444444444444444,\"#bd3786\"],[0.5555555555555556,\"#d8576b\"],[0.6666666666666666,\"#ed7953\"],[0.7777777777777778,\"#fb9f3a\"],[0.8888888888888888,\"#fdca26\"],[1.0,\"#f0f921\"]],\"type\":\"histogram2d\"}],\"histogram2dcontour\":[{\"colorbar\":{\"outlinewidth\":0,\"ticks\":\"\"},\"colorscale\":[[0.0,\"#0d0887\"],[0.1111111111111111,\"#46039f\"],[0.2222222222222222,\"#7201a8\"],[0.3333333333333333,\"#9c179e\"],[0.4444444444444444,\"#bd3786\"],[0.5555555555555556,\"#d8576b\"],[0.6666666666666666,\"#ed7953\"],[0.7777777777777778,\"#fb9f3a\"],[0.8888888888888888,\"#fdca26\"],[1.0,\"#f0f921\"]],\"type\":\"histogram2dcontour\"}],\"mesh3d\":[{\"colorbar\":{\"outlinewidth\":0,\"ticks\":\"\"},\"type\":\"mesh3d\"}],\"parcoords\":[{\"line\":{\"colorbar\":{\"outlinewidth\":0,\"ticks\":\"\"}},\"type\":\"parcoords\"}],\"pie\":[{\"automargin\":true,\"type\":\"pie\"}],\"scatter\":[{\"marker\":{\"colorbar\":{\"outlinewidth\":0,\"ticks\":\"\"}},\"type\":\"scatter\"}],\"scatter3d\":[{\"line\":{\"colorbar\":{\"outlinewidth\":0,\"ticks\":\"\"}},\"marker\":{\"colorbar\":{\"outlinewidth\":0,\"ticks\":\"\"}},\"type\":\"scatter3d\"}],\"scattercarpet\":[{\"marker\":{\"colorbar\":{\"outlinewidth\":0,\"ticks\":\"\"}},\"type\":\"scattercarpet\"}],\"scattergeo\":[{\"marker\":{\"colorbar\":{\"outlinewidth\":0,\"ticks\":\"\"}},\"type\":\"scattergeo\"}],\"scattergl\":[{\"marker\":{\"colorbar\":{\"outlinewidth\":0,\"ticks\":\"\"}},\"type\":\"scattergl\"}],\"scattermapbox\":[{\"marker\":{\"colorbar\":{\"outlinewidth\":0,\"ticks\":\"\"}},\"type\":\"scattermapbox\"}],\"scatterpolar\":[{\"marker\":{\"colorbar\":{\"outlinewidth\":0,\"ticks\":\"\"}},\"type\":\"scatterpolar\"}],\"scatterpolargl\":[{\"marker\":{\"colorbar\":{\"outlinewidth\":0,\"ticks\":\"\"}},\"type\":\"scatterpolargl\"}],\"scatterternary\":[{\"marker\":{\"colorbar\":{\"outlinewidth\":0,\"ticks\":\"\"}},\"type\":\"scatterternary\"}],\"surface\":[{\"colorbar\":{\"outlinewidth\":0,\"ticks\":\"\"},\"colorscale\":[[0.0,\"#0d0887\"],[0.1111111111111111,\"#46039f\"],[0.2222222222222222,\"#7201a8\"],[0.3333333333333333,\"#9c179e\"],[0.4444444444444444,\"#bd3786\"],[0.5555555555555556,\"#d8576b\"],[0.6666666666666666,\"#ed7953\"],[0.7777777777777778,\"#fb9f3a\"],[0.8888888888888888,\"#fdca26\"],[1.0,\"#f0f921\"]],\"type\":\"surface\"}],\"table\":[{\"cells\":{\"fill\":{\"color\":\"#EBF0F8\"},\"line\":{\"color\":\"white\"}},\"header\":{\"fill\":{\"color\":\"#C8D4E3\"},\"line\":{\"color\":\"white\"}},\"type\":\"table\"}]},\"layout\":{\"annotationdefaults\":{\"arrowcolor\":\"#2a3f5f\",\"arrowhead\":0,\"arrowwidth\":1},\"autotypenumbers\":\"strict\",\"coloraxis\":{\"colorbar\":{\"outlinewidth\":0,\"ticks\":\"\"}},\"colorscale\":{\"diverging\":[[0,\"#8e0152\"],[0.1,\"#c51b7d\"],[0.2,\"#de77ae\"],[0.3,\"#f1b6da\"],[0.4,\"#fde0ef\"],[0.5,\"#f7f7f7\"],[0.6,\"#e6f5d0\"],[0.7,\"#b8e186\"],[0.8,\"#7fbc41\"],[0.9,\"#4d9221\"],[1,\"#276419\"]],\"sequential\":[[0.0,\"#0d0887\"],[0.1111111111111111,\"#46039f\"],[0.2222222222222222,\"#7201a8\"],[0.3333333333333333,\"#9c179e\"],[0.4444444444444444,\"#bd3786\"],[0.5555555555555556,\"#d8576b\"],[0.6666666666666666,\"#ed7953\"],[0.7777777777777778,\"#fb9f3a\"],[0.8888888888888888,\"#fdca26\"],[1.0,\"#f0f921\"]],\"sequentialminus\":[[0.0,\"#0d0887\"],[0.1111111111111111,\"#46039f\"],[0.2222222222222222,\"#7201a8\"],[0.3333333333333333,\"#9c179e\"],[0.4444444444444444,\"#bd3786\"],[0.5555555555555556,\"#d8576b\"],[0.6666666666666666,\"#ed7953\"],[0.7777777777777778,\"#fb9f3a\"],[0.8888888888888888,\"#fdca26\"],[1.0,\"#f0f921\"]]},\"colorway\":[\"#636efa\",\"#EF553B\",\"#00cc96\",\"#ab63fa\",\"#FFA15A\",\"#19d3f3\",\"#FF6692\",\"#B6E880\",\"#FF97FF\",\"#FECB52\"],\"font\":{\"color\":\"#2a3f5f\"},\"geo\":{\"bgcolor\":\"white\",\"lakecolor\":\"white\",\"landcolor\":\"#E5ECF6\",\"showlakes\":true,\"showland\":true,\"subunitcolor\":\"white\"},\"hoverlabel\":{\"align\":\"left\"},\"hovermode\":\"closest\",\"mapbox\":{\"style\":\"light\"},\"paper_bgcolor\":\"white\",\"plot_bgcolor\":\"#E5ECF6\",\"polar\":{\"angularaxis\":{\"gridcolor\":\"white\",\"linecolor\":\"white\",\"ticks\":\"\"},\"bgcolor\":\"#E5ECF6\",\"radialaxis\":{\"gridcolor\":\"white\",\"linecolor\":\"white\",\"ticks\":\"\"}},\"scene\":{\"xaxis\":{\"backgroundcolor\":\"#E5ECF6\",\"gridcolor\":\"white\",\"gridwidth\":2,\"linecolor\":\"white\",\"showbackground\":true,\"ticks\":\"\",\"zerolinecolor\":\"white\"},\"yaxis\":{\"backgroundcolor\":\"#E5ECF6\",\"gridcolor\":\"white\",\"gridwidth\":2,\"linecolor\":\"white\",\"showbackground\":true,\"ticks\":\"\",\"zerolinecolor\":\"white\"},\"zaxis\":{\"backgroundcolor\":\"#E5ECF6\",\"gridcolor\":\"white\",\"gridwidth\":2,\"linecolor\":\"white\",\"showbackground\":true,\"ticks\":\"\",\"zerolinecolor\":\"white\"}},\"shapedefaults\":{\"line\":{\"color\":\"#2a3f5f\"}},\"ternary\":{\"aaxis\":{\"gridcolor\":\"white\",\"linecolor\":\"white\",\"ticks\":\"\"},\"baxis\":{\"gridcolor\":\"white\",\"linecolor\":\"white\",\"ticks\":\"\"},\"bgcolor\":\"#E5ECF6\",\"caxis\":{\"gridcolor\":\"white\",\"linecolor\":\"white\",\"ticks\":\"\"}},\"title\":{\"x\":0.05},\"xaxis\":{\"automargin\":true,\"gridcolor\":\"white\",\"linecolor\":\"white\",\"ticks\":\"\",\"title\":{\"standoff\":15},\"zerolinecolor\":\"white\",\"zerolinewidth\":2},\"yaxis\":{\"automargin\":true,\"gridcolor\":\"white\",\"linecolor\":\"white\",\"ticks\":\"\",\"title\":{\"standoff\":15},\"zerolinecolor\":\"white\",\"zerolinewidth\":2}}},\"legend\":{\"tracegroupgap\":0},\"title\":{\"text\":\" The most bought car brand :\"}},                        {\"responsive\": true}                    ).then(function(){\n",
       "                            \n",
       "var gd = document.getElementById('6145f29a-913e-4bd0-838d-751312e43b5f');\n",
       "var x = new MutationObserver(function (mutations, observer) {{\n",
       "        var display = window.getComputedStyle(gd).display;\n",
       "        if (!display || display === 'none') {{\n",
       "            console.log([gd, 'removed!']);\n",
       "            Plotly.purge(gd);\n",
       "            observer.disconnect();\n",
       "        }}\n",
       "}});\n",
       "\n",
       "// Listen for the removal of the full notebook cells\n",
       "var notebookContainer = gd.closest('#notebook-container');\n",
       "if (notebookContainer) {{\n",
       "    x.observe(notebookContainer, {childList: true});\n",
       "}}\n",
       "\n",
       "// Listen for the clearing of the current output cell\n",
       "var outputEl = gd.closest('.output');\n",
       "if (outputEl) {{\n",
       "    x.observe(outputEl, {childList: true});\n",
       "}}\n",
       "\n",
       "                        })                };                });            </script>        </div>"
      ]
     },
     "metadata": {},
     "output_type": "display_data"
    }
   ],
   "source": [
    "brand_count=df\n",
    "px.treemap(brand_count,path=[\"company\"],title=\" The most bought car brand :\")"
   ]
  },
  {
   "cell_type": "code",
   "execution_count": 28,
   "id": "9429d5df",
   "metadata": {
    "execution": {
     "iopub.execute_input": "2022-03-17T02:09:02.619834Z",
     "iopub.status.busy": "2022-03-17T02:09:02.619024Z",
     "iopub.status.idle": "2022-03-17T02:09:02.822266Z",
     "shell.execute_reply": "2022-03-17T02:09:02.821641Z",
     "shell.execute_reply.started": "2022-03-17T02:03:06.399719Z"
    },
    "papermill": {
     "duration": 0.271027,
     "end_time": "2022-03-17T02:09:02.822410",
     "exception": false,
     "start_time": "2022-03-17T02:09:02.551383",
     "status": "completed"
    },
    "tags": []
   },
   "outputs": [
    {
     "data": {
      "image/png": "[encoded data removed]",
      "text/plain": [
       "<Figure size 1080x576 with 1 Axes>"
      ]
     },
     "metadata": {
      "needs_background": "light"
     },
     "output_type": "display_data"
    }
   ],
   "source": [
    "model=df[\"model\"].value_counts().reset_index()\n",
    "model.columns=[\"model\",\"count\"]\n",
    "plt.figure(figsize=(15,8))\n",
    "count_of_model = df['model'].value_counts()[0:10].sort_values(ascending=False)\n",
    "sns.countplot(data=df, x='model',order=count_of_model.index,palette=\"mako\")\n",
    "plt.title('Frequency of model',size=15)\n",
    "plt.xlabel('Model',size=13)\n",
    "plt.ylabel('Count',size=13)\n",
    "plt.show()"
   ]
  },
  {
   "cell_type": "code",
   "execution_count": 29,
   "id": "4036c865",
   "metadata": {
    "execution": {
     "iopub.execute_input": "2022-03-17T02:09:02.923090Z",
     "iopub.status.busy": "2022-03-17T02:09:02.921000Z",
     "iopub.status.idle": "2022-03-17T02:09:03.256228Z",
     "shell.execute_reply": "2022-03-17T02:09:03.256736Z",
     "shell.execute_reply.started": "2022-03-17T02:03:24.910540Z"
    },
    "papermill": {
     "duration": 0.383243,
     "end_time": "2022-03-17T02:09:03.256962",
     "exception": false,
     "start_time": "2022-03-17T02:09:02.873719",
     "status": "completed"
    },
    "tags": []
   },
   "outputs": [
    {
     "data": {
      "text/html": [
       "<div>                            <div id=\"3d0560f9-3aa8-42a1-9751-a2ccacab23f7\" class=\"plotly-graph-div\" style=\"height:525px; width:100%;\"></div>            <script type=\"text/javascript\">                require([\"plotly\"], function(Plotly) {                    window.PLOTLYENV=window.PLOTLYENV || {};                                    if (document.getElementById(\"3d0560f9-3aa8-42a1-9751-a2ccacab23f7\")) {                    Plotly.newPlot(                        \"3d0560f9-3aa8-42a1-9751-a2ccacab23f7\",                        [{\"branchvalues\":\"total\",\"domain\":{\"x\":[0.0,1.0],\"y\":[0.0,1.0]},\"hovertemplate\":\"labels=%{label}<br>count=%{value}<br>parent=%{parent}<br>id=%{id}<extra></extra>\",\"ids\":[\" 1 Series\",\" 2 Series\",\" 3 Series\",\" 4 Series\",\" 5 Series\",\" 6 Series\",\" 7 Series\",\" 8 Series\",\" A Class\",\" A1\",\" A2\",\" A3\",\" A4\",\" A5\",\" A6\",\" A7\",\" A8\",\" Auris\",\" Avensis\",\" B Class\",\" B-MAX\",\" C Class\",\" C-HR\",\" C-MAX\",\" CL Class\",\" CLA Class\",\" CLC Class\",\" CLS Class\",\" Camry\",\" Corolla\",\" E Class\",\" EcoSport\",\" Edge\",\" Escort\",\" Fabia\",\" Fiesta\",\" Focus\",\" Fusion\",\" G Class\",\" GL Class\",\" GLA Class\",\" GLB Class\",\" GLC Class\",\" GLE Class\",\" GLS Class\",\" GT86\",\" Galaxy\",\" Grand C-MAX\",\" Grand Tourneo Connect\",\" Hilux\",\" I10\",\" I20\",\" I30\",\" I40\",\" I800\",\" IX20\",\" IX35\",\" Ioniq\",\" KA\",\" Ka+\",\" Kamiq\",\" Karoq\",\" Kodiaq\",\" Kona\",\" Kuga\",\" Land Cruiser\",\" M Class\",\" M2\",\" M3\",\" M4\",\" M5\",\" M6\",\" Mondeo\",\" Mustang\",\" Octavia\",\" PROACE VERSO\",\" Prius\",\" Puma\",\" Q2\",\" Q3\",\" Q5\",\" Q7\",\" Q8\",\" R Class\",\" R8\",\" RAV4\",\" RS3\",\" RS4\",\" RS5\",\" RS6\",\" RS7\",\" Ranger\",\" Rapid\",\" Roomster\",\" S Class\",\" S-MAX\",\" S3\",\" S4\",\" S5\",\" S8\",\" SL CLASS\",\" SLK\",\" SQ5\",\" SQ7\",\" Santa Fe\",\" Scala\",\" Streetka\",\" Superb\",\" Supra\",\" TT\",\" Tourneo Connect\",\" Tourneo Custom\",\" Transit Tourneo\",\" Tucson\",\" Urban Cruiser\",\" V Class\",\" Veloster\",\" Verso\",\" Verso-S\",\" X-CLASS\",\" X1\",\" X2\",\" X3\",\" X4\",\" X5\",\" X6\",\" X7\",\" Yaris\",\" Yeti\",\" Yeti Outdoor\",\" Z3\",\" Z4\",\" i8\",\"180\",\"200\"],\"labels\":[\" 1 Series\",\" 2 Series\",\" 3 Series\",\" 4 Series\",\" 5 Series\",\" 6 Series\",\" 7 Series\",\" 8 Series\",\" A Class\",\" A1\",\" A2\",\" A3\",\" A4\",\" A5\",\" A6\",\" A7\",\" A8\",\" Auris\",\" Avensis\",\" B Class\",\" B-MAX\",\" C Class\",\" C-HR\",\" C-MAX\",\" CL Class\",\" CLA Class\",\" CLC Class\",\" CLS Class\",\" Camry\",\" Corolla\",\" E Class\",\" EcoSport\",\" Edge\",\" Escort\",\" Fabia\",\" Fiesta\",\" Focus\",\" Fusion\",\" G Class\",\" GL Class\",\" GLA Class\",\" GLB Class\",\" GLC Class\",\" GLE Class\",\" GLS Class\",\" GT86\",\" Galaxy\",\" Grand C-MAX\",\" Grand Tourneo Connect\",\" Hilux\",\" I10\",\" I20\",\" I30\",\" I40\",\" I800\",\" IX20\",\" IX35\",\" Ioniq\",\" KA\",\" Ka+\",\" Kamiq\",\" Karoq\",\" Kodiaq\",\" Kona\",\" Kuga\",\" Land Cruiser\",\" M Class\",\" M2\",\" M3\",\" M4\",\" M5\",\" M6\",\" Mondeo\",\" Mustang\",\" Octavia\",\" PROACE VERSO\",\" Prius\",\" Puma\",\" Q2\",\" Q3\",\" Q5\",\" Q7\",\" Q8\",\" R Class\",\" R8\",\" RAV4\",\" RS3\",\" RS4\",\" RS5\",\" RS6\",\" RS7\",\" Ranger\",\" Rapid\",\" Roomster\",\" S Class\",\" S-MAX\",\" S3\",\" S4\",\" S5\",\" S8\",\" SL CLASS\",\" SLK\",\" SQ5\",\" SQ7\",\" Santa Fe\",\" Scala\",\" Streetka\",\" Superb\",\" Supra\",\" TT\",\" Tourneo Connect\",\" Tourneo Custom\",\" Transit Tourneo\",\" Tucson\",\" Urban Cruiser\",\" V Class\",\" Veloster\",\" Verso\",\" Verso-S\",\" X-CLASS\",\" X1\",\" X2\",\" X3\",\" X4\",\" X5\",\" X6\",\" X7\",\" Yaris\",\" Yeti\",\" Yeti Outdoor\",\" Z3\",\" Z4\",\" i8\",\"180\",\"200\"],\"name\":\"\",\"parents\":[\"\",\"\",\"\",\"\",\"\",\"\",\"\",\"\",\"\",\"\",\"\",\"\",\"\",\"\",\"\",\"\",\"\",\"\",\"\",\"\",\"\",\"\",\"\",\"\",\"\",\"\",\"\",\"\",\"\",\"\",\"\",\"\",\"\",\"\",\"\",\"\",\"\",\"\",\"\",\"\",\"\",\"\",\"\",\"\",\"\",\"\",\"\",\"\",\"\",\"\",\"\",\"\",\"\",\"\",\"\",\"\",\"\",\"\",\"\",\"\",\"\",\"\",\"\",\"\",\"\",\"\",\"\",\"\",\"\",\"\",\"\",\"\",\"\",\"\",\"\",\"\",\"\",\"\",\"\",\"\",\"\",\"\",\"\",\"\",\"\",\"\",\"\",\"\",\"\",\"\",\"\",\"\",\"\",\"\",\"\",\"\",\"\",\"\",\"\",\"\",\"\",\"\",\"\",\"\",\"\",\"\",\"\",\"\",\"\",\"\",\"\",\"\",\"\",\"\",\"\",\"\",\"\",\"\",\"\",\"\",\"\",\"\",\"\",\"\",\"\",\"\",\"\",\"\",\"\",\"\",\"\",\"\",\"\",\"\",\"\"],\"values\":[663,389,761,292,338,43,34,8,889,352,1,628,480,289,244,47,33,188,64,195,155,1297,191,293,158,37,1,79,8,78,672,192,168,1,160,1623,1801,16,3,55,303,3,291,150,27,13,185,140,44,38,122,100,107,33,33,48,33,65,159,350,26,80,122,18,1637,19,30,3,10,31,10,1,445,43,416,6,97,2,227,440,271,102,13,2,8,145,8,3,5,9,1,1,32,7,76,239,8,2,1,3,93,33,6,4,63,25,2,241,5,117,23,52,1,359,2,71,1,51,2,28,257,85,151,50,150,28,18,558,35,112,2,29,9,1,1],\"type\":\"treemap\"}],                        {\"template\":{\"data\":{\"bar\":[{\"error_x\":{\"color\":\"#2a3f5f\"},\"error_y\":{\"color\":\"#2a3f5f\"},\"marker\":{\"line\":{\"color\":\"#E5ECF6\",\"width\":0.5},\"pattern\":{\"fillmode\":\"overlay\",\"size\":10,\"solidity\":0.2}},\"type\":\"bar\"}],\"barpolar\":[{\"marker\":{\"line\":{\"color\":\"#E5ECF6\",\"width\":0.5},\"pattern\":{\"fillmode\":\"overlay\",\"size\":10,\"solidity\":0.2}},\"type\":\"barpolar\"}],\"carpet\":[{\"aaxis\":{\"endlinecolor\":\"#2a3f5f\",\"gridcolor\":\"white\",\"linecolor\":\"white\",\"minorgridcolor\":\"white\",\"startlinecolor\":\"#2a3f5f\"},\"baxis\":{\"endlinecolor\":\"#2a3f5f\",\"gridcolor\":\"white\",\"linecolor\":\"white\",\"minorgridcolor\":\"white\",\"startlinecolor\":\"#2a3f5f\"},\"type\":\"carpet\"}],\"choropleth\":[{\"colorbar\":{\"outlinewidth\":0,\"ticks\":\"\"},\"type\":\"choropleth\"}],\"contour\":[{\"colorbar\":{\"outlinewidth\":0,\"ticks\":\"\"},\"colorscale\":[[0.0,\"#0d0887\"],[0.1111111111111111,\"#46039f\"],[0.2222222222222222,\"#7201a8\"],[0.3333333333333333,\"#9c179e\"],[0.4444444444444444,\"#bd3786\"],[0.5555555555555556,\"#d8576b\"],[0.6666666666666666,\"#ed7953\"],[0.7777777777777778,\"#fb9f3a\"],[0.8888888888888888,\"#fdca26\"],[1.0,\"#f0f921\"]],\"type\":\"contour\"}],\"contourcarpet\":[{\"colorbar\":{\"outlinewidth\":0,\"ticks\":\"\"},\"type\":\"contourcarpet\"}],\"heatmap\":[{\"colorbar\":{\"outlinewidth\":0,\"ticks\":\"\"},\"colorscale\":[[0.0,\"#0d0887\"],[0.1111111111111111,\"#46039f\"],[0.2222222222222222,\"#7201a8\"],[0.3333333333333333,\"#9c179e\"],[0.4444444444444444,\"#bd3786\"],[0.5555555555555556,\"#d8576b\"],[0.6666666666666666,\"#ed7953\"],[0.7777777777777778,\"#fb9f3a\"],[0.8888888888888888,\"#fdca26\"],[1.0,\"#f0f921\"]],\"type\":\"heatmap\"}],\"heatmapgl\":[{\"colorbar\":{\"outlinewidth\":0,\"ticks\":\"\"},\"colorscale\":[[0.0,\"#0d0887\"],[0.1111111111111111,\"#46039f\"],[0.2222222222222222,\"#7201a8\"],[0.3333333333333333,\"#9c179e\"],[0.4444444444444444,\"#bd3786\"],[0.5555555555555556,\"#d8576b\"],[0.6666666666666666,\"#ed7953\"],[0.7777777777777778,\"#fb9f3a\"],[0.8888888888888888,\"#fdca26\"],[1.0,\"#f0f921\"]],\"type\":\"heatmapgl\"}],\"histogram\":[{\"marker\":{\"pattern\":{\"fillmode\":\"overlay\",\"size\":10,\"solidity\":0.2}},\"type\":\"histogram\"}],\"histogram2d\":[{\"colorbar\":{\"outlinewidth\":0,\"ticks\":\"\"},\"colorscale\":[[0.0,\"#0d0887\"],[0.1111111111111111,\"#46039f\"],[0.2222222222222222,\"#7201a8\"],[0.3333333333333333,\"#9c179e\"],[0.4444444444444444,\"#bd3786\"],[0.5555555555555556,\"#d8576b\"],[0.6666666666666666,\"#ed7953\"],[0.7777777777777778,\"#fb9f3a\"],[0.8888888888888888,\"#fdca26\"],[1.0,\"#f0f921\"]],\"type\":\"histogram2d\"}],\"histogram2dcontour\":[{\"colorbar\":{\"outlinewidth\":0,\"ticks\":\"\"},\"colorscale\":[[0.0,\"#0d0887\"],[0.1111111111111111,\"#46039f\"],[0.2222222222222222,\"#7201a8\"],[0.3333333333333333,\"#9c179e\"],[0.4444444444444444,\"#bd3786\"],[0.5555555555555556,\"#d8576b\"],[0.6666666666666666,\"#ed7953\"],[0.7777777777777778,\"#fb9f3a\"],[0.8888888888888888,\"#fdca26\"],[1.0,\"#f0f921\"]],\"type\":\"histogram2dcontour\"}],\"mesh3d\":[{\"colorbar\":{\"outlinewidth\":0,\"ticks\":\"\"},\"type\":\"mesh3d\"}],\"parcoords\":[{\"line\":{\"colorbar\":{\"outlinewidth\":0,\"ticks\":\"\"}},\"type\":\"parcoords\"}],\"pie\":[{\"automargin\":true,\"type\":\"pie\"}],\"scatter\":[{\"marker\":{\"colorbar\":{\"outlinewidth\":0,\"ticks\":\"\"}},\"type\":\"scatter\"}],\"scatter3d\":[{\"line\":{\"colorbar\":{\"outlinewidth\":0,\"ticks\":\"\"}},\"marker\":{\"colorbar\":{\"outlinewidth\":0,\"ticks\":\"\"}},\"type\":\"scatter3d\"}],\"scattercarpet\":[{\"marker\":{\"colorbar\":{\"outlinewidth\":0,\"ticks\":\"\"}},\"type\":\"scattercarpet\"}],\"scattergeo\":[{\"marker\":{\"colorbar\":{\"outlinewidth\":0,\"ticks\":\"\"}},\"type\":\"scattergeo\"}],\"scattergl\":[{\"marker\":{\"colorbar\":{\"outlinewidth\":0,\"ticks\":\"\"}},\"type\":\"scattergl\"}],\"scattermapbox\":[{\"marker\":{\"colorbar\":{\"outlinewidth\":0,\"ticks\":\"\"}},\"type\":\"scattermapbox\"}],\"scatterpolar\":[{\"marker\":{\"colorbar\":{\"outlinewidth\":0,\"ticks\":\"\"}},\"type\":\"scatterpolar\"}],\"scatterpolargl\":[{\"marker\":{\"colorbar\":{\"outlinewidth\":0,\"ticks\":\"\"}},\"type\":\"scatterpolargl\"}],\"scatterternary\":[{\"marker\":{\"colorbar\":{\"outlinewidth\":0,\"ticks\":\"\"}},\"type\":\"scatterternary\"}],\"surface\":[{\"colorbar\":{\"outlinewidth\":0,\"ticks\":\"\"},\"colorscale\":[[0.0,\"#0d0887\"],[0.1111111111111111,\"#46039f\"],[0.2222222222222222,\"#7201a8\"],[0.3333333333333333,\"#9c179e\"],[0.4444444444444444,\"#bd3786\"],[0.5555555555555556,\"#d8576b\"],[0.6666666666666666,\"#ed7953\"],[0.7777777777777778,\"#fb9f3a\"],[0.8888888888888888,\"#fdca26\"],[1.0,\"#f0f921\"]],\"type\":\"surface\"}],\"table\":[{\"cells\":{\"fill\":{\"color\":\"#EBF0F8\"},\"line\":{\"color\":\"white\"}},\"header\":{\"fill\":{\"color\":\"#C8D4E3\"},\"line\":{\"color\":\"white\"}},\"type\":\"table\"}]},\"layout\":{\"annotationdefaults\":{\"arrowcolor\":\"#2a3f5f\",\"arrowhead\":0,\"arrowwidth\":1},\"autotypenumbers\":\"strict\",\"coloraxis\":{\"colorbar\":{\"outlinewidth\":0,\"ticks\":\"\"}},\"colorscale\":{\"diverging\":[[0,\"#8e0152\"],[0.1,\"#c51b7d\"],[0.2,\"#de77ae\"],[0.3,\"#f1b6da\"],[0.4,\"#fde0ef\"],[0.5,\"#f7f7f7\"],[0.6,\"#e6f5d0\"],[0.7,\"#b8e186\"],[0.8,\"#7fbc41\"],[0.9,\"#4d9221\"],[1,\"#276419\"]],\"sequential\":[[0.0,\"#0d0887\"],[0.1111111111111111,\"#46039f\"],[0.2222222222222222,\"#7201a8\"],[0.3333333333333333,\"#9c179e\"],[0.4444444444444444,\"#bd3786\"],[0.5555555555555556,\"#d8576b\"],[0.6666666666666666,\"#ed7953\"],[0.7777777777777778,\"#fb9f3a\"],[0.8888888888888888,\"#fdca26\"],[1.0,\"#f0f921\"]],\"sequentialminus\":[[0.0,\"#0d0887\"],[0.1111111111111111,\"#46039f\"],[0.2222222222222222,\"#7201a8\"],[0.3333333333333333,\"#9c179e\"],[0.4444444444444444,\"#bd3786\"],[0.5555555555555556,\"#d8576b\"],[0.6666666666666666,\"#ed7953\"],[0.7777777777777778,\"#fb9f3a\"],[0.8888888888888888,\"#fdca26\"],[1.0,\"#f0f921\"]]},\"colorway\":[\"#636efa\",\"#EF553B\",\"#00cc96\",\"#ab63fa\",\"#FFA15A\",\"#19d3f3\",\"#FF6692\",\"#B6E880\",\"#FF97FF\",\"#FECB52\"],\"font\":{\"color\":\"#2a3f5f\"},\"geo\":{\"bgcolor\":\"white\",\"lakecolor\":\"white\",\"landcolor\":\"#E5ECF6\",\"showlakes\":true,\"showland\":true,\"subunitcolor\":\"white\"},\"hoverlabel\":{\"align\":\"left\"},\"hovermode\":\"closest\",\"mapbox\":{\"style\":\"light\"},\"paper_bgcolor\":\"white\",\"plot_bgcolor\":\"#E5ECF6\",\"polar\":{\"angularaxis\":{\"gridcolor\":\"white\",\"linecolor\":\"white\",\"ticks\":\"\"},\"bgcolor\":\"#E5ECF6\",\"radialaxis\":{\"gridcolor\":\"white\",\"linecolor\":\"white\",\"ticks\":\"\"}},\"scene\":{\"xaxis\":{\"backgroundcolor\":\"#E5ECF6\",\"gridcolor\":\"white\",\"gridwidth\":2,\"linecolor\":\"white\",\"showbackground\":true,\"ticks\":\"\",\"zerolinecolor\":\"white\"},\"yaxis\":{\"backgroundcolor\":\"#E5ECF6\",\"gridcolor\":\"white\",\"gridwidth\":2,\"linecolor\":\"white\",\"showbackground\":true,\"ticks\":\"\",\"zerolinecolor\":\"white\"},\"zaxis\":{\"backgroundcolor\":\"#E5ECF6\",\"gridcolor\":\"white\",\"gridwidth\":2,\"linecolor\":\"white\",\"showbackground\":true,\"ticks\":\"\",\"zerolinecolor\":\"white\"}},\"shapedefaults\":{\"line\":{\"color\":\"#2a3f5f\"}},\"ternary\":{\"aaxis\":{\"gridcolor\":\"white\",\"linecolor\":\"white\",\"ticks\":\"\"},\"baxis\":{\"gridcolor\":\"white\",\"linecolor\":\"white\",\"ticks\":\"\"},\"bgcolor\":\"#E5ECF6\",\"caxis\":{\"gridcolor\":\"white\",\"linecolor\":\"white\",\"ticks\":\"\"}},\"title\":{\"x\":0.05},\"xaxis\":{\"automargin\":true,\"gridcolor\":\"white\",\"linecolor\":\"white\",\"ticks\":\"\",\"title\":{\"standoff\":15},\"zerolinecolor\":\"white\",\"zerolinewidth\":2},\"yaxis\":{\"automargin\":true,\"gridcolor\":\"white\",\"linecolor\":\"white\",\"ticks\":\"\",\"title\":{\"standoff\":15},\"zerolinecolor\":\"white\",\"zerolinewidth\":2}}},\"legend\":{\"tracegroupgap\":0},\"title\":{\"text\":\"Popularity of the bought car model:\"}},                        {\"responsive\": true}                    ).then(function(){\n",
       "                            \n",
       "var gd = document.getElementById('3d0560f9-3aa8-42a1-9751-a2ccacab23f7');\n",
       "var x = new MutationObserver(function (mutations, observer) {{\n",
       "        var display = window.getComputedStyle(gd).display;\n",
       "        if (!display || display === 'none') {{\n",
       "            console.log([gd, 'removed!']);\n",
       "            Plotly.purge(gd);\n",
       "            observer.disconnect();\n",
       "        }}\n",
       "}});\n",
       "\n",
       "// Listen for the removal of the full notebook cells\n",
       "var notebookContainer = gd.closest('#notebook-container');\n",
       "if (notebookContainer) {{\n",
       "    x.observe(notebookContainer, {childList: true});\n",
       "}}\n",
       "\n",
       "// Listen for the clearing of the current output cell\n",
       "var outputEl = gd.closest('.output');\n",
       "if (outputEl) {{\n",
       "    x.observe(outputEl, {childList: true});\n",
       "}}\n",
       "\n",
       "                        })                };                });            </script>        </div>"
      ]
     },
     "metadata": {},
     "output_type": "display_data"
    }
   ],
   "source": [
    "model_count=df\n",
    "px.treemap(model_count,path=[\"model\"],title=\"Popularity of the bought car model:\")"
   ]
  },
  {
   "cell_type": "code",
   "execution_count": 30,
   "id": "f269fe30",
   "metadata": {
    "execution": {
     "iopub.execute_input": "2022-03-17T02:09:03.402709Z",
     "iopub.status.busy": "2022-03-17T02:09:03.401985Z",
     "iopub.status.idle": "2022-03-17T02:09:03.412414Z",
     "shell.execute_reply": "2022-03-17T02:09:03.412766Z",
     "shell.execute_reply.started": "2022-03-17T02:04:02.564911Z"
    },
    "papermill": {
     "duration": 0.086856,
     "end_time": "2022-03-17T02:09:03.412921",
     "exception": false,
     "start_time": "2022-03-17T02:09:03.326065",
     "status": "completed"
    },
    "tags": []
   },
   "outputs": [
    {
     "data": {
      "text/html": [
       "<div>\n",
       "<style scoped>\n",
       "    .dataframe tbody tr th:only-of-type {\n",
       "        vertical-align: middle;\n",
       "    }\n",
       "\n",
       "    .dataframe tbody tr th {\n",
       "        vertical-align: top;\n",
       "    }\n",
       "\n",
       "    .dataframe thead th {\n",
       "        text-align: right;\n",
       "    }\n",
       "</style>\n",
       "<table border=\"1\" class=\"dataframe\">\n",
       "  <thead>\n",
       "    <tr style=\"text-align: right;\">\n",
       "      <th></th>\n",
       "      <th>transmission</th>\n",
       "      <th>count</th>\n",
       "    </tr>\n",
       "  </thead>\n",
       "  <tbody>\n",
       "    <tr>\n",
       "      <th>0</th>\n",
       "      <td>Manual</td>\n",
       "      <td>10845</td>\n",
       "    </tr>\n",
       "    <tr>\n",
       "      <th>1</th>\n",
       "      <td>Automatic</td>\n",
       "      <td>6322</td>\n",
       "    </tr>\n",
       "    <tr>\n",
       "      <th>2</th>\n",
       "      <td>Semi-Auto</td>\n",
       "      <td>5267</td>\n",
       "    </tr>\n",
       "  </tbody>\n",
       "</table>\n",
       "</div>"
      ],
      "text/plain": [
       "  transmission  count\n",
       "0       Manual  10845\n",
       "1    Automatic   6322\n",
       "2    Semi-Auto   5267"
      ]
     },
     "execution_count": 30,
     "metadata": {},
     "output_type": "execute_result"
    }
   ],
   "source": [
    "transmission=df[\"transmission\"].value_counts().reset_index()\n",
    "transmission.columns=[\"transmission\",\"count\"]\n",
    "transmission"
   ]
  },
  {
   "cell_type": "code",
   "execution_count": 31,
   "id": "47b2a2c5",
   "metadata": {
    "execution": {
     "iopub.execute_input": "2022-03-17T02:09:03.505759Z",
     "iopub.status.busy": "2022-03-17T02:09:03.505286Z",
     "iopub.status.idle": "2022-03-17T02:09:03.677866Z",
     "shell.execute_reply": "2022-03-17T02:09:03.678241Z",
     "shell.execute_reply.started": "2022-03-17T02:04:18.787179Z"
    },
    "papermill": {
     "duration": 0.220145,
     "end_time": "2022-03-17T02:09:03.678380",
     "exception": false,
     "start_time": "2022-03-17T02:09:03.458235",
     "status": "completed"
    },
    "tags": []
   },
   "outputs": [
    {
     "data": {
      "image/png": "[encoded data removed]",
      "text/plain": [
       "<Figure size 864x504 with 1 Axes>"
      ]
     },
     "metadata": {
      "needs_background": "light"
     },
     "output_type": "display_data"
    }
   ],
   "source": [
    "plt.figure(figsize=(12,7))\n",
    "counttrans=df[\"transmission\"].value_counts().sort_values(ascending=False)\n",
    "sns.countplot(data=df ,x=\"transmission\" , order=counttrans.index,palette=\"mako\") \n",
    "plt.title('Frequency of transmission',size=15)\n",
    "plt.xlabel('transmission',size=13)\n",
    "plt.ylabel('Count',size=13)\n",
    "plt.show()"
   ]
  },
  {
   "cell_type": "code",
   "execution_count": 32,
   "id": "1d0a782e",
   "metadata": {
    "execution": {
     "iopub.execute_input": "2022-03-17T02:09:03.784534Z",
     "iopub.status.busy": "2022-03-17T02:09:03.775477Z",
     "iopub.status.idle": "2022-03-17T02:09:03.788119Z",
     "shell.execute_reply": "2022-03-17T02:09:03.788561Z",
     "shell.execute_reply.started": "2022-03-17T02:05:41.381491Z"
    },
    "papermill": {
     "duration": 0.061075,
     "end_time": "2022-03-17T02:09:03.788697",
     "exception": false,
     "start_time": "2022-03-17T02:09:03.727622",
     "status": "completed"
    },
    "tags": []
   },
   "outputs": [
    {
     "data": {
      "text/html": [
       "<div>\n",
       "<style scoped>\n",
       "    .dataframe tbody tr th:only-of-type {\n",
       "        vertical-align: middle;\n",
       "    }\n",
       "\n",
       "    .dataframe tbody tr th {\n",
       "        vertical-align: top;\n",
       "    }\n",
       "\n",
       "    .dataframe thead th {\n",
       "        text-align: right;\n",
       "    }\n",
       "</style>\n",
       "<table border=\"1\" class=\"dataframe\">\n",
       "  <thead>\n",
       "    <tr style=\"text-align: right;\">\n",
       "      <th></th>\n",
       "      <th>fuelType</th>\n",
       "      <th>count</th>\n",
       "    </tr>\n",
       "  </thead>\n",
       "  <tbody>\n",
       "    <tr>\n",
       "      <th>0</th>\n",
       "      <td>Diesel</td>\n",
       "      <td>12801</td>\n",
       "    </tr>\n",
       "    <tr>\n",
       "      <th>1</th>\n",
       "      <td>Petrol</td>\n",
       "      <td>8703</td>\n",
       "    </tr>\n",
       "    <tr>\n",
       "      <th>2</th>\n",
       "      <td>Hybrid</td>\n",
       "      <td>929</td>\n",
       "    </tr>\n",
       "    <tr>\n",
       "      <th>3</th>\n",
       "      <td>Electric</td>\n",
       "      <td>1</td>\n",
       "    </tr>\n",
       "  </tbody>\n",
       "</table>\n",
       "</div>"
      ],
      "text/plain": [
       "   fuelType  count\n",
       "0    Diesel  12801\n",
       "1    Petrol   8703\n",
       "2    Hybrid    929\n",
       "3  Electric      1"
      ]
     },
     "execution_count": 32,
     "metadata": {},
     "output_type": "execute_result"
    }
   ],
   "source": [
    "fuelType=df[\"fuelType\"].value_counts().reset_index()\n",
    "fuelType.columns=[\"fuelType\",\"count\"]\n",
    "fuelType"
   ]
  },
  {
   "cell_type": "code",
   "execution_count": 33,
   "id": "7de9949d",
   "metadata": {
    "execution": {
     "iopub.execute_input": "2022-03-17T02:09:03.878979Z",
     "iopub.status.busy": "2022-03-17T02:09:03.878400Z",
     "iopub.status.idle": "2022-03-17T02:09:04.057345Z",
     "shell.execute_reply": "2022-03-17T02:09:04.057893Z",
     "shell.execute_reply.started": "2022-03-17T02:05:50.048720Z"
    },
    "papermill": {
     "duration": 0.225977,
     "end_time": "2022-03-17T02:09:04.058057",
     "exception": false,
     "start_time": "2022-03-17T02:09:03.832080",
     "status": "completed"
    },
    "tags": []
   },
   "outputs": [
    {
     "data": {
      "image/png": "[encoded data removed]",
      "text/plain": [
       "<Figure size 864x504 with 1 Axes>"
      ]
     },
     "metadata": {
      "needs_background": "light"
     },
     "output_type": "display_data"
    }
   ],
   "source": [
    "plt.figure(figsize=(12,7))\n",
    "countfuel=df[\"fuelType\"].value_counts().sort_values(ascending=False)\n",
    "sns.countplot(data=df , x=\"fuelType\",order=countfuel.index,palette=\"mako\")\n",
    "plt.title(\"Frequency Of Fuel Type\",size=15)\n",
    "plt.xlabel(\"Fuel type\",size=13)\n",
    "plt.ylabel(\"count\" , size=13)\n",
    "plt.show()"
   ]
  },
  {
   "cell_type": "code",
   "execution_count": 34,
   "id": "3a0d2627",
   "metadata": {
    "execution": {
     "iopub.execute_input": "2022-03-17T02:09:04.181568Z",
     "iopub.status.busy": "2022-03-17T02:09:04.180628Z",
     "iopub.status.idle": "2022-03-17T02:09:05.095307Z",
     "shell.execute_reply": "2022-03-17T02:09:05.094704Z",
     "shell.execute_reply.started": "2022-03-17T02:05:57.685944Z"
    },
    "papermill": {
     "duration": 0.988401,
     "end_time": "2022-03-17T02:09:05.095448",
     "exception": false,
     "start_time": "2022-03-17T02:09:04.107047",
     "status": "completed"
    },
    "tags": []
   },
   "outputs": [
    {
     "data": {
      "image/png": "[encoded data removed]",
      "text/plain": [
       "<Figure size 864x504 with 1 Axes>"
      ]
     },
     "metadata": {
      "needs_background": "light"
     },
     "output_type": "display_data"
    }
   ],
   "source": [
    "plt.figure(figsize=(12,7))\n",
    "sns.barplot(x=\"model\",y=\"mpg\",data=df[0:1000],hue=\"fuelType\",palette=\"mako\")\n",
    "plt.title(\"fuel consumption for each model\",size=15)\n",
    "plt.xlabel(\"model\",size=13)\n",
    "plt.ylabel(\"mpg\" , size=13)\n",
    "plt.show()"
   ]
  },
  {
   "cell_type": "code",
   "execution_count": 35,
   "id": "6ce3393c",
   "metadata": {
    "execution": {
     "iopub.execute_input": "2022-03-17T02:09:05.235970Z",
     "iopub.status.busy": "2022-03-17T02:09:05.235158Z",
     "iopub.status.idle": "2022-03-17T02:09:05.528089Z",
     "shell.execute_reply": "2022-03-17T02:09:05.527495Z",
     "shell.execute_reply.started": "2022-03-17T02:07:58.037257Z"
    },
    "papermill": {
     "duration": 0.365309,
     "end_time": "2022-03-17T02:09:05.528228",
     "exception": false,
     "start_time": "2022-03-17T02:09:05.162919",
     "status": "completed"
    },
    "tags": []
   },
   "outputs": [
    {
     "data": {
      "text/plain": [
       "Text(0, 0.5, 'Count')"
      ]
     },
     "execution_count": 35,
     "metadata": {},
     "output_type": "execute_result"
    },
    {
     "data": {
      "image/png": "[encoded data removed]",
      "text/plain": [
       "<Figure size 1080x576 with 1 Axes>"
      ]
     },
     "metadata": {
      "needs_background": "light"
     },
     "output_type": "display_data"
    }
   ],
   "source": [
    "plt.figure(figsize=(15,8))\n",
    "count_of_model = df['company'].value_counts().sort_values(ascending=False)\n",
    "sns.countplot(data=df, x='company',order=count_of_model.index,palette=\"mako\",hue=\"fuelType\",dodge=False)\n",
    "plt.title('Fuel type For Each Company',size=17)\n",
    "plt.xlabel('company',size=15)\n",
    "plt.ylabel('Count',size=15)"
   ]
  }
 ],
 "metadata": {
  "kernelspec": {
   "display_name": "Python 3",
   "language": "python",
   "name": "python3"
  },
  "language_info": {
   "codemirror_mode": {
    "name": "ipython",
    "version": 3
   },
   "file_extension": ".py",
   "mimetype": "text/x-python",
   "name": "python",
   "nbconvert_exporter": "python",
   "pygments_lexer": "ipython3",
   "version": "3.7.12"
  },
  "papermill": {
   "default_parameters": {},
   "duration": 20.459771,
   "end_time": "2022-03-17T02:09:06.407836",
   "environment_variables": {},
   "exception": null,
   "input_path": "__notebook__.ipynb",
   "output_path": "__notebook__.ipynb",
   "parameters": {},
   "start_time": "2022-03-17T02:08:45.948065",
   "version": "2.3.3"
  }
 },
 "nbformat": 4,
 "nbformat_minor": 5
}
