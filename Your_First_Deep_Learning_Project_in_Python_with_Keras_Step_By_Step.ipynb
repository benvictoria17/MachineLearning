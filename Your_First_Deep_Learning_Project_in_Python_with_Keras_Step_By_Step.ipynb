{
  "nbformat": 4,
  "nbformat_minor": 5,
  "metadata": {
    "kernelspec": {
      "display_name": "Python 3",
      "language": "python",
      "name": "python3"
    },
    "language_info": {
      "codemirror_mode": {
        "name": "ipython",
        "version": 3
      },
      "file_extension": ".py",
      "mimetype": "text/x-python",
      "name": "python",
      "nbconvert_exporter": "python",
      "pygments_lexer": "ipython3",
      "version": "3.7.10"
    },
    "papermill": {
      "default_parameters": {},
      "duration": 112.870765,
      "end_time": "2021-07-25T19:57:29.490527",
      "environment_variables": {},
      "exception": null,
      "input_path": "__notebook__.ipynb",
      "output_path": "__notebook__.ipynb",
      "parameters": {},
      "start_time": "2021-07-25T19:55:36.619762",
      "version": "2.3.3"
    },
    "colab": {
      "name": "Your First Deep Learning Project in Python with Keras Step-By-Step",
      "provenance": [],
      "include_colab_link": true
    }
  },
  "cells": [
    {
      "cell_type": "markdown",
      "metadata": {
        "id": "view-in-github",
        "colab_type": "text"
      },
      "source": [
        "<a href=\"https://colab.research.google.com/github/benvictoria17/MachineLearning/blob/master/Your_First_Deep_Learning_Project_in_Python_with_Keras_Step_By_Step.ipynb\" target=\"_parent\"><img src=\"https://colab.research.google.com/assets/colab-badge.svg\" alt=\"Open In Colab\"/></a>"
      ]
    },
    {
      "cell_type": "code",
      "metadata": {
        "id": "uZRF_pz2vMT1"
      },
      "source": [
        "from numpy import loadtxt\n",
        "from keras.models import Sequential\n",
        "from keras.layers import Dense"
      ],
      "id": "uZRF_pz2vMT1",
      "execution_count": 16,
      "outputs": []
    },
    {
      "cell_type": "code",
      "metadata": {
        "id": "H2NPIgoAvMWh"
      },
      "source": [
        "dataset = loadtxt('https://raw.githubusercontent.com/jbrownlee/Datasets/master/pima-indians-diabetes.data.csv', delimiter=',')\n",
        "# split into input (X) and output (y) variables\n",
        "X = dataset[:,0:8]\n",
        "y = dataset[:,8]"
      ],
      "id": "H2NPIgoAvMWh",
      "execution_count": 17,
      "outputs": []
    },
    {
      "cell_type": "code",
      "metadata": {
        "id": "PHQHd0YvvMYy"
      },
      "source": [
        "model = Sequential()\n",
        "model.add(Dense(12, input_dim=8, activation='relu'))\n",
        "model.add(Dense(8, activation='relu'))\n",
        "model.add(Dense(1, activation='sigmoid'))"
      ],
      "id": "PHQHd0YvvMYy",
      "execution_count": 18,
      "outputs": []
    },
    {
      "cell_type": "code",
      "metadata": {
        "id": "35chowUxvd52"
      },
      "source": [
        "model.compile(loss='binary_crossentropy', optimizer='adam', metrics=['accuracy'])"
      ],
      "id": "35chowUxvd52",
      "execution_count": 19,
      "outputs": []
    },
    {
      "cell_type": "code",
      "metadata": {
        "colab": {
          "base_uri": "https://localhost:8080/"
        },
        "id": "uVGgYGzOvd8Z",
        "outputId": "bc5eb6a0-65f4-41c8-ea0b-823d5fc00412"
      },
      "source": [
        "model.fit(X, y, epochs=20, batch_size=10)"
      ],
      "id": "uVGgYGzOvd8Z",
      "execution_count": 20,
      "outputs": [
        {
          "output_type": "stream",
          "name": "stdout",
          "text": [
            "Epoch 1/20\n",
            "77/77 [==============================] - 1s 2ms/step - loss: 2.4454 - accuracy: 0.5651\n",
            "Epoch 2/20\n",
            "77/77 [==============================] - 0s 2ms/step - loss: 1.2977 - accuracy: 0.5156\n",
            "Epoch 3/20\n",
            "77/77 [==============================] - 0s 2ms/step - loss: 0.9875 - accuracy: 0.5742\n",
            "Epoch 4/20\n",
            "77/77 [==============================] - 0s 1ms/step - loss: 0.8738 - accuracy: 0.6016\n",
            "Epoch 5/20\n",
            "77/77 [==============================] - 0s 1ms/step - loss: 0.8433 - accuracy: 0.6094\n",
            "Epoch 6/20\n",
            "77/77 [==============================] - 0s 2ms/step - loss: 0.7828 - accuracy: 0.6211\n",
            "Epoch 7/20\n",
            "77/77 [==============================] - 0s 2ms/step - loss: 0.7671 - accuracy: 0.6185\n",
            "Epoch 8/20\n",
            "77/77 [==============================] - 0s 2ms/step - loss: 0.7393 - accuracy: 0.6211\n",
            "Epoch 9/20\n",
            "77/77 [==============================] - 0s 2ms/step - loss: 0.6939 - accuracy: 0.6628\n",
            "Epoch 10/20\n",
            "77/77 [==============================] - 0s 1ms/step - loss: 0.6859 - accuracy: 0.6536\n",
            "Epoch 11/20\n",
            "77/77 [==============================] - 0s 1ms/step - loss: 0.6832 - accuracy: 0.6510\n",
            "Epoch 12/20\n",
            "77/77 [==============================] - 0s 2ms/step - loss: 0.6534 - accuracy: 0.6549\n",
            "Epoch 13/20\n",
            "77/77 [==============================] - 0s 1ms/step - loss: 0.6411 - accuracy: 0.6680\n",
            "Epoch 14/20\n",
            "77/77 [==============================] - 0s 1ms/step - loss: 0.6328 - accuracy: 0.6771\n",
            "Epoch 15/20\n",
            "77/77 [==============================] - 0s 2ms/step - loss: 0.6285 - accuracy: 0.6797\n",
            "Epoch 16/20\n",
            "77/77 [==============================] - 0s 1ms/step - loss: 0.6115 - accuracy: 0.6849\n",
            "Epoch 17/20\n",
            "77/77 [==============================] - 0s 1ms/step - loss: 0.6276 - accuracy: 0.6771\n",
            "Epoch 18/20\n",
            "77/77 [==============================] - 0s 1ms/step - loss: 0.6049 - accuracy: 0.6810\n",
            "Epoch 19/20\n",
            "77/77 [==============================] - 0s 1ms/step - loss: 0.5973 - accuracy: 0.6797\n",
            "Epoch 20/20\n",
            "77/77 [==============================] - 0s 1ms/step - loss: 0.5902 - accuracy: 0.7018\n"
          ]
        },
        {
          "output_type": "execute_result",
          "data": {
            "text/plain": [
              "<keras.callbacks.History at 0x7f22a2534e10>"
            ]
          },
          "metadata": {},
          "execution_count": 20
        }
      ]
    },
    {
      "cell_type": "code",
      "metadata": {
        "colab": {
          "base_uri": "https://localhost:8080/"
        },
        "id": "n9Vx0iQuv0VW",
        "outputId": "5e0ba808-d783-4d21-e0a5-31b4cf217d48"
      },
      "source": [
        "_, accuracy = model.evaluate(X, y)\n",
        "print('Accuracy: %.2f' % (accuracy*100))\n",
        "_, accuracy = model.evaluate(X, y)\n",
        "print('Accuracy: %.2f' % (accuracy*100))"
      ],
      "id": "n9Vx0iQuv0VW",
      "execution_count": 22,
      "outputs": [
        {
          "output_type": "stream",
          "name": "stdout",
          "text": [
            "24/24 [==============================] - 0s 1ms/step - loss: 0.6278 - accuracy: 0.6341\n",
            "Accuracy: 63.41\n",
            "24/24 [==============================] - 0s 1ms/step - loss: 0.6278 - accuracy: 0.6341\n",
            "Accuracy: 63.41\n"
          ]
        }
      ]
    },
    {
      "cell_type": "code",
      "metadata": {
        "colab": {
          "base_uri": "https://localhost:8080/"
        },
        "id": "MOwPF5_2v0aX",
        "outputId": "cf59ff86-df59-475e-d5b0-ef4c5e4025f0"
      },
      "source": [
        "from numpy import loadtxt\n",
        "from keras.models import Sequential\n",
        "from keras.layers import Dense\n",
        "# load the dataset\n",
        "dataset = loadtxt('https://raw.githubusercontent.com/jbrownlee/Datasets/master/pima-indians-diabetes.data.csv', delimiter=',')\n",
        "# split into input (X) and output (y) variables\n",
        "X = dataset[:,0:8]\n",
        "y = dataset[:,8]\n",
        "# define the keras model\n",
        "model = Sequential()\n",
        "model.add(Dense(12, input_dim=8, activation='relu'))\n",
        "model.add(Dense(8, activation='relu'))\n",
        "model.add(Dense(1, activation='sigmoid'))\n",
        "# compile the keras model\n",
        "model.compile(loss='binary_crossentropy', optimizer='adam', metrics=['accuracy'])\n",
        "# fit the keras model on the dataset\n",
        "model.fit(X, y, epochs=20, batch_size=10)\n",
        "# evaluate the keras model\n",
        "_, accuracy = model.evaluate(X, y)\n",
        "print('Accuracy: %.2f' % (accuracy*100))"
      ],
      "id": "MOwPF5_2v0aX",
      "execution_count": 26,
      "outputs": [
        {
          "output_type": "stream",
          "name": "stdout",
          "text": [
            "Epoch 1/20\n",
            "77/77 [==============================] - 1s 1ms/step - loss: 8.4611 - accuracy: 0.5547\n",
            "Epoch 2/20\n",
            "77/77 [==============================] - 0s 2ms/step - loss: 1.7615 - accuracy: 0.5391\n",
            "Epoch 3/20\n",
            "77/77 [==============================] - 0s 1ms/step - loss: 0.9073 - accuracy: 0.6146\n",
            "Epoch 4/20\n",
            "77/77 [==============================] - 0s 1ms/step - loss: 0.7544 - accuracy: 0.6354\n",
            "Epoch 5/20\n",
            "77/77 [==============================] - 0s 1ms/step - loss: 0.7329 - accuracy: 0.6263\n",
            "Epoch 6/20\n",
            "77/77 [==============================] - 0s 1ms/step - loss: 0.7081 - accuracy: 0.6380\n",
            "Epoch 7/20\n",
            "77/77 [==============================] - 0s 1ms/step - loss: 0.7150 - accuracy: 0.6393\n",
            "Epoch 8/20\n",
            "77/77 [==============================] - 0s 1ms/step - loss: 0.7160 - accuracy: 0.6458\n",
            "Epoch 9/20\n",
            "77/77 [==============================] - 0s 1ms/step - loss: 0.7148 - accuracy: 0.6393\n",
            "Epoch 10/20\n",
            "77/77 [==============================] - 0s 1ms/step - loss: 0.6941 - accuracy: 0.6641\n",
            "Epoch 11/20\n",
            "77/77 [==============================] - 0s 1ms/step - loss: 0.6792 - accuracy: 0.6602\n",
            "Epoch 12/20\n",
            "77/77 [==============================] - 0s 1ms/step - loss: 0.6695 - accuracy: 0.6706\n",
            "Epoch 13/20\n",
            "77/77 [==============================] - 0s 1ms/step - loss: 0.6988 - accuracy: 0.6536\n",
            "Epoch 14/20\n",
            "77/77 [==============================] - 0s 1ms/step - loss: 0.6555 - accuracy: 0.6797\n",
            "Epoch 15/20\n",
            "77/77 [==============================] - 0s 1ms/step - loss: 0.6493 - accuracy: 0.6823\n",
            "Epoch 16/20\n",
            "77/77 [==============================] - 0s 1ms/step - loss: 0.6885 - accuracy: 0.6810\n",
            "Epoch 17/20\n",
            "77/77 [==============================] - 0s 1ms/step - loss: 0.6796 - accuracy: 0.6719\n",
            "Epoch 18/20\n",
            "77/77 [==============================] - 0s 2ms/step - loss: 0.6401 - accuracy: 0.6810\n",
            "Epoch 19/20\n",
            "77/77 [==============================] - 0s 1ms/step - loss: 0.6323 - accuracy: 0.6823\n",
            "Epoch 20/20\n",
            "77/77 [==============================] - 0s 1ms/step - loss: 0.6306 - accuracy: 0.6771\n",
            "24/24 [==============================] - 0s 1ms/step - loss: 0.6162 - accuracy: 0.6979\n",
            "Accuracy: 69.79\n"
          ]
        }
      ]
    },
    {
      "cell_type": "code",
      "metadata": {
        "colab": {
          "base_uri": "https://localhost:8080/"
        },
        "id": "e3DTv__NwMAX",
        "outputId": "dec10d6f-5b03-4b2d-f147-11b0b6097eb0"
      },
      "source": [
        "# fit the keras model on the dataset without progress bars\n",
        "model.fit(X, y, epochs=20, batch_size=10, verbose=0)\n",
        "# evaluate the keras model\n",
        "_, accuracy = model.evaluate(X, y, verbose=0)\n",
        "..."
      ],
      "id": "e3DTv__NwMAX",
      "execution_count": 27,
      "outputs": [
        {
          "output_type": "execute_result",
          "data": {
            "text/plain": [
              "Ellipsis"
            ]
          },
          "metadata": {},
          "execution_count": 27
        }
      ]
    },
    {
      "cell_type": "code",
      "metadata": {
        "id": "i6cZB02ywMWc"
      },
      "source": [
        "# make probability predictions with the model\n",
        "predictions = model.predict(X)\n",
        "# round predictions \n",
        "rounded = [round(x[0]) for x in predictions]"
      ],
      "id": "i6cZB02ywMWc",
      "execution_count": 28,
      "outputs": []
    }
  ]
}