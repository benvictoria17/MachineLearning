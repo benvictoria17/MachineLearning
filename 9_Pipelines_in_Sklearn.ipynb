{
  "nbformat": 4,
  "nbformat_minor": 0,
  "metadata": {
    "colab": {
      "name": "9. Pipelines in Sklearn.ipynb",
      "provenance": [],
      "authorship_tag": "ABX9TyNlTVvps+TGEsDD7nffuAze",
      "include_colab_link": true
    },
    "kernelspec": {
      "name": "python3",
      "display_name": "Python 3"
    }
  },
  "cells": [
    {
      "cell_type": "markdown",
      "metadata": {
        "id": "view-in-github",
        "colab_type": "text"
      },
      "source": [
        "<a href=\"https://colab.research.google.com/github/benvictoria21/python-machine-learning/blob/master/9_Pipelines_in_Sklearn.ipynb\" target=\"_parent\"><img src=\"https://colab.research.google.com/assets/colab-badge.svg\" alt=\"Open In Colab\"/></a>"
      ]
    },
    {
      "cell_type": "code",
      "metadata": {
        "id": "WyjbtlZZJPJX",
        "colab_type": "code",
        "colab": {}
      },
      "source": [
        "import numpy as np\n",
        "\n",
        "from sklearn.pipeline import Pipeline\n",
        "from sklearn.datasets import make_regression\n",
        "from sklearn.decomposition import PCA\n",
        "from sklearn.svm import SVR\n",
        "\n",
        "n_features = 10\n",
        "X, y = make_regression(n_informative=5, n_features=n_features)"
      ],
      "execution_count": 2,
      "outputs": []
    },
    {
      "cell_type": "code",
      "metadata": {
        "id": "ZB4jWQNt6q6S",
        "colab_type": "code",
        "colab": {
          "base_uri": "https://localhost:8080/",
          "height": 357
        },
        "outputId": "f54a68ca-4e7e-467a-9971-371a005d0eeb"
      },
      "source": [
        "for rand_row in [np.random.randint(100) for x in range(20)]:\n",
        "    rand_col = np.random.randint(n_features) \n",
        "    X[rand_row][rand_col] = np.nan\n",
        "    print(\"X[{0}][{1}] = np.nan\".format(rand_row, rand_col))"
      ],
      "execution_count": 4,
      "outputs": [
        {
          "output_type": "stream",
          "text": [
            "X[59][8] = np.nan\n",
            "X[14][6] = np.nan\n",
            "X[36][1] = np.nan\n",
            "X[21][5] = np.nan\n",
            "X[26][0] = np.nan\n",
            "X[49][3] = np.nan\n",
            "X[43][0] = np.nan\n",
            "X[1][2] = np.nan\n",
            "X[57][2] = np.nan\n",
            "X[34][3] = np.nan\n",
            "X[65][1] = np.nan\n",
            "X[49][9] = np.nan\n",
            "X[44][5] = np.nan\n",
            "X[18][8] = np.nan\n",
            "X[21][2] = np.nan\n",
            "X[73][3] = np.nan\n",
            "X[11][2] = np.nan\n",
            "X[56][7] = np.nan\n",
            "X[98][0] = np.nan\n",
            "X[10][2] = np.nan\n"
          ],
          "name": "stdout"
        }
      ]
    },
    {
      "cell_type": "code",
      "metadata": {
        "id": "j2GxyRLS6rDS",
        "colab_type": "code",
        "colab": {}
      },
      "source": [
        "from sklearn.model_selection import train_test_split\n",
        "from sklearn.metrics import accuracy_score\n",
        "X_train, X_test, y_train, y_test = train_test_split(X, y, test_size=0.2)"
      ],
      "execution_count": 7,
      "outputs": []
    }
  ]
}