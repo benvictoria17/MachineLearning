{
 "cells": [
  {
   "cell_type": "code",
   "execution_count": 1,
   "id": "c4923224",
   "metadata": {
    "_cell_guid": "b1076dfc-b9ad-4769-8c92-a6c4dae69d19",
    "_uuid": "8f2839f25d086af736a60e9eeb907d3b93b6e0e5",
    "execution": {
     "iopub.execute_input": "2022-03-15T23:24:10.930684Z",
     "iopub.status.busy": "2022-03-15T23:24:10.929949Z",
     "iopub.status.idle": "2022-03-15T23:24:18.340968Z",
     "shell.execute_reply": "2022-03-15T23:24:18.341554Z",
     "shell.execute_reply.started": "2022-03-15T23:21:02.793965Z"
    },
    "papermill": {
     "duration": 7.44907,
     "end_time": "2022-03-15T23:24:18.341918",
     "exception": false,
     "start_time": "2022-03-15T23:24:10.892848",
     "status": "completed"
    },
    "tags": []
   },
   "outputs": [],
   "source": [
    "import numpy as np \n",
    "import pandas as pd \n",
    "import seaborn as sns\n",
    "import matplotlib.pyplot as plt;\n",
    "from statsmodels.tsa.seasonal import seasonal_decompose\n",
    "from tensorflow.keras.models import Sequential\n",
    "from tensorflow.keras.layers import Dense, InputLayer\n",
    "import warnings\n",
    "warnings.filterwarnings('ignore')"
   ]
  },
  {
   "cell_type": "code",
   "execution_count": 2,
   "id": "2c985fb3",
   "metadata": {
    "execution": {
     "iopub.execute_input": "2022-03-15T23:24:18.397734Z",
     "iopub.status.busy": "2022-03-15T23:24:18.396990Z",
     "iopub.status.idle": "2022-03-15T23:24:19.022481Z",
     "shell.execute_reply": "2022-03-15T23:24:19.021862Z",
     "shell.execute_reply.started": "2022-03-15T23:21:10.087551Z"
    },
    "papermill": {
     "duration": 0.654662,
     "end_time": "2022-03-15T23:24:19.022665",
     "exception": false,
     "start_time": "2022-03-15T23:24:18.368003",
     "status": "completed"
    },
    "tags": []
   },
   "outputs": [],
   "source": [
    "df_cars = pd.read_csv(\"https://raw.githubusercontent.com/benvictoria17/MachineLearning/master/dataset/cars%20sales%20for%20time%20series%20prediction/sales-cars.csv\")"
   ]
  },
  {
   "cell_type": "code",
   "execution_count": 3,
   "id": "3fbf86d1",
   "metadata": {
    "execution": {
     "iopub.execute_input": "2022-03-15T23:24:19.082490Z",
     "iopub.status.busy": "2022-03-15T23:24:19.081778Z",
     "iopub.status.idle": "2022-03-15T23:24:19.094409Z",
     "shell.execute_reply": "2022-03-15T23:24:19.094969Z",
     "shell.execute_reply.started": "2022-03-15T23:21:10.373577Z"
    },
    "papermill": {
     "duration": 0.047462,
     "end_time": "2022-03-15T23:24:19.095186",
     "exception": false,
     "start_time": "2022-03-15T23:24:19.047724",
     "status": "completed"
    },
    "tags": []
   },
   "outputs": [
    {
     "data": {
      "text/html": [
       "<div>\n",
       "<style scoped>\n",
       "    .dataframe tbody tr th:only-of-type {\n",
       "        vertical-align: middle;\n",
       "    }\n",
       "\n",
       "    .dataframe tbody tr th {\n",
       "        vertical-align: top;\n",
       "    }\n",
       "\n",
       "    .dataframe thead th {\n",
       "        text-align: right;\n",
       "    }\n",
       "</style>\n",
       "<table border=\"1\" class=\"dataframe\">\n",
       "  <thead>\n",
       "    <tr style=\"text-align: right;\">\n",
       "      <th></th>\n",
       "      <th>Month</th>\n",
       "      <th>Sales</th>\n",
       "    </tr>\n",
       "  </thead>\n",
       "  <tbody>\n",
       "    <tr>\n",
       "      <th>0</th>\n",
       "      <td>2016-01</td>\n",
       "      <td>266</td>\n",
       "    </tr>\n",
       "    <tr>\n",
       "      <th>1</th>\n",
       "      <td>2016-02</td>\n",
       "      <td>146</td>\n",
       "    </tr>\n",
       "    <tr>\n",
       "      <th>2</th>\n",
       "      <td>2016-03</td>\n",
       "      <td>183</td>\n",
       "    </tr>\n",
       "    <tr>\n",
       "      <th>3</th>\n",
       "      <td>2016-04</td>\n",
       "      <td>119</td>\n",
       "    </tr>\n",
       "    <tr>\n",
       "      <th>4</th>\n",
       "      <td>2016-05</td>\n",
       "      <td>180</td>\n",
       "    </tr>\n",
       "  </tbody>\n",
       "</table>\n",
       "</div>"
      ],
      "text/plain": [
       "     Month  Sales\n",
       "0  2016-01    266\n",
       "1  2016-02    146\n",
       "2  2016-03    183\n",
       "3  2016-04    119\n",
       "4  2016-05    180"
      ]
     },
     "execution_count": 3,
     "metadata": {},
     "output_type": "execute_result"
    }
   ],
   "source": [
    "df_cars.head()"
   ]
  },
  {
   "cell_type": "code",
   "execution_count": 4,
   "id": "98854989",
   "metadata": {
    "execution": {
     "iopub.execute_input": "2022-03-15T23:24:19.160071Z",
     "iopub.status.busy": "2022-03-15T23:24:19.159264Z",
     "iopub.status.idle": "2022-03-15T23:24:19.179808Z",
     "shell.execute_reply": "2022-03-15T23:24:19.179162Z",
     "shell.execute_reply.started": "2022-03-15T23:21:10.395414Z"
    },
    "papermill": {
     "duration": 0.058658,
     "end_time": "2022-03-15T23:24:19.179982",
     "exception": false,
     "start_time": "2022-03-15T23:24:19.121324",
     "status": "completed"
    },
    "tags": []
   },
   "outputs": [],
   "source": [
    "df_cars.index = pd.to_datetime(df_cars.Month, format='%Y-%m')\n",
    "df_cars = df_cars.resample(\"M\").sum()"
   ]
  },
  {
   "cell_type": "code",
   "execution_count": 5,
   "id": "bd61def4",
   "metadata": {
    "execution": {
     "iopub.execute_input": "2022-03-15T23:24:19.243131Z",
     "iopub.status.busy": "2022-03-15T23:24:19.242391Z",
     "iopub.status.idle": "2022-03-15T23:24:19.245629Z",
     "shell.execute_reply": "2022-03-15T23:24:19.246414Z",
     "shell.execute_reply.started": "2022-03-15T23:21:10.429940Z"
    },
    "papermill": {
     "duration": 0.040419,
     "end_time": "2022-03-15T23:24:19.246709",
     "exception": false,
     "start_time": "2022-03-15T23:24:19.206290",
     "status": "completed"
    },
    "tags": []
   },
   "outputs": [
    {
     "data": {
      "text/html": [
       "<div>\n",
       "<style scoped>\n",
       "    .dataframe tbody tr th:only-of-type {\n",
       "        vertical-align: middle;\n",
       "    }\n",
       "\n",
       "    .dataframe tbody tr th {\n",
       "        vertical-align: top;\n",
       "    }\n",
       "\n",
       "    .dataframe thead th {\n",
       "        text-align: right;\n",
       "    }\n",
       "</style>\n",
       "<table border=\"1\" class=\"dataframe\">\n",
       "  <thead>\n",
       "    <tr style=\"text-align: right;\">\n",
       "      <th></th>\n",
       "      <th>Sales</th>\n",
       "    </tr>\n",
       "    <tr>\n",
       "      <th>Month</th>\n",
       "      <th></th>\n",
       "    </tr>\n",
       "  </thead>\n",
       "  <tbody>\n",
       "    <tr>\n",
       "      <th>2016-01-31</th>\n",
       "      <td>266</td>\n",
       "    </tr>\n",
       "    <tr>\n",
       "      <th>2016-02-29</th>\n",
       "      <td>146</td>\n",
       "    </tr>\n",
       "    <tr>\n",
       "      <th>2016-03-31</th>\n",
       "      <td>183</td>\n",
       "    </tr>\n",
       "    <tr>\n",
       "      <th>2016-04-30</th>\n",
       "      <td>119</td>\n",
       "    </tr>\n",
       "    <tr>\n",
       "      <th>2016-05-31</th>\n",
       "      <td>180</td>\n",
       "    </tr>\n",
       "  </tbody>\n",
       "</table>\n",
       "</div>"
      ],
      "text/plain": [
       "            Sales\n",
       "Month            \n",
       "2016-01-31    266\n",
       "2016-02-29    146\n",
       "2016-03-31    183\n",
       "2016-04-30    119\n",
       "2016-05-31    180"
      ]
     },
     "execution_count": 5,
     "metadata": {},
     "output_type": "execute_result"
    }
   ],
   "source": [
    "df_cars.head()"
   ]
  },
  {
   "cell_type": "code",
   "execution_count": 6,
   "id": "eb3089c0",
   "metadata": {
    "execution": {
     "iopub.execute_input": "2022-03-15T23:24:19.304309Z",
     "iopub.status.busy": "2022-03-15T23:24:19.303603Z",
     "iopub.status.idle": "2022-03-15T23:24:19.738434Z",
     "shell.execute_reply": "2022-03-15T23:24:19.739018Z",
     "shell.execute_reply.started": "2022-03-15T23:21:10.442328Z"
    },
    "papermill": {
     "duration": 0.46529,
     "end_time": "2022-03-15T23:24:19.739229",
     "exception": false,
     "start_time": "2022-03-15T23:24:19.273939",
     "status": "completed"
    },
    "tags": []
   },
   "outputs": [
    {
     "data": {
      "image/png": "[encoded data removed]",
      "text/plain": [
       "<Figure size 864x432 with 1 Axes>"
      ]
     },
     "metadata": {
      "needs_background": "light"
     },
     "output_type": "display_data"
    }
   ],
   "source": [
    "df_cars.plot(figsize=(12,6));"
   ]
  },
  {
   "cell_type": "code",
   "execution_count": 7,
   "id": "878145af",
   "metadata": {
    "execution": {
     "iopub.execute_input": "2022-03-15T23:24:19.799872Z",
     "iopub.status.busy": "2022-03-15T23:24:19.799140Z",
     "iopub.status.idle": "2022-03-15T23:24:20.715171Z",
     "shell.execute_reply": "2022-03-15T23:24:20.715747Z",
     "shell.execute_reply.started": "2022-03-15T23:21:10.778973Z"
    },
    "papermill": {
     "duration": 0.948285,
     "end_time": "2022-03-15T23:24:20.715950",
     "exception": false,
     "start_time": "2022-03-15T23:24:19.767665",
     "status": "completed"
    },
    "tags": []
   },
   "outputs": [
    {
     "data": {
      "image/png": "[encoded data removed]",
      "text/plain": [
       "<Figure size 432x288 with 4 Axes>"
      ]
     },
     "metadata": {
      "needs_background": "light"
     },
     "output_type": "display_data"
    }
   ],
   "source": [
    "results = seasonal_decompose(df_cars['Sales'])\n",
    "results.plot();"
   ]
  },
  {
   "cell_type": "code",
   "execution_count": 8,
   "id": "3a9bf759",
   "metadata": {
    "execution": {
     "iopub.execute_input": "2022-03-15T23:24:20.779539Z",
     "iopub.status.busy": "2022-03-15T23:24:20.778846Z",
     "iopub.status.idle": "2022-03-15T23:24:20.780591Z",
     "shell.execute_reply": "2022-03-15T23:24:20.781076Z",
     "shell.execute_reply.started": "2022-03-15T23:21:11.421052Z"
    },
    "papermill": {
     "duration": 0.036593,
     "end_time": "2022-03-15T23:24:20.781275",
     "exception": false,
     "start_time": "2022-03-15T23:24:20.744682",
     "status": "completed"
    },
    "tags": []
   },
   "outputs": [],
   "source": [
    "train = df_cars[:-6]\n",
    "test = df_cars[-6:]"
   ]
  },
  {
   "cell_type": "code",
   "execution_count": 9,
   "id": "4cc5016b",
   "metadata": {
    "execution": {
     "iopub.execute_input": "2022-03-15T23:24:20.844968Z",
     "iopub.status.busy": "2022-03-15T23:24:20.844306Z",
     "iopub.status.idle": "2022-03-15T23:24:20.854961Z",
     "shell.execute_reply": "2022-03-15T23:24:20.854336Z",
     "shell.execute_reply.started": "2022-03-15T23:21:11.426712Z"
    },
    "papermill": {
     "duration": 0.042731,
     "end_time": "2022-03-15T23:24:20.855119",
     "exception": false,
     "start_time": "2022-03-15T23:24:20.812388",
     "status": "completed"
    },
    "tags": []
   },
   "outputs": [
    {
     "data": {
      "text/html": [
       "<div>\n",
       "<style scoped>\n",
       "    .dataframe tbody tr th:only-of-type {\n",
       "        vertical-align: middle;\n",
       "    }\n",
       "\n",
       "    .dataframe tbody tr th {\n",
       "        vertical-align: top;\n",
       "    }\n",
       "\n",
       "    .dataframe thead th {\n",
       "        text-align: right;\n",
       "    }\n",
       "</style>\n",
       "<table border=\"1\" class=\"dataframe\">\n",
       "  <thead>\n",
       "    <tr style=\"text-align: right;\">\n",
       "      <th></th>\n",
       "      <th>Sales</th>\n",
       "    </tr>\n",
       "    <tr>\n",
       "      <th>Month</th>\n",
       "      <th></th>\n",
       "    </tr>\n",
       "  </thead>\n",
       "  <tbody>\n",
       "    <tr>\n",
       "      <th>2016-01-31</th>\n",
       "      <td>266</td>\n",
       "    </tr>\n",
       "    <tr>\n",
       "      <th>2016-02-29</th>\n",
       "      <td>146</td>\n",
       "    </tr>\n",
       "    <tr>\n",
       "      <th>2016-03-31</th>\n",
       "      <td>183</td>\n",
       "    </tr>\n",
       "    <tr>\n",
       "      <th>2016-04-30</th>\n",
       "      <td>119</td>\n",
       "    </tr>\n",
       "    <tr>\n",
       "      <th>2016-05-31</th>\n",
       "      <td>180</td>\n",
       "    </tr>\n",
       "  </tbody>\n",
       "</table>\n",
       "</div>"
      ],
      "text/plain": [
       "            Sales\n",
       "Month            \n",
       "2016-01-31    266\n",
       "2016-02-29    146\n",
       "2016-03-31    183\n",
       "2016-04-30    119\n",
       "2016-05-31    180"
      ]
     },
     "execution_count": 9,
     "metadata": {},
     "output_type": "execute_result"
    }
   ],
   "source": [
    "train.head()"
   ]
  },
  {
   "cell_type": "code",
   "execution_count": 10,
   "id": "51100a3d",
   "metadata": {
    "execution": {
     "iopub.execute_input": "2022-03-15T23:24:20.924737Z",
     "iopub.status.busy": "2022-03-15T23:24:20.923989Z",
     "iopub.status.idle": "2022-03-15T23:24:20.927133Z",
     "shell.execute_reply": "2022-03-15T23:24:20.927869Z",
     "shell.execute_reply.started": "2022-03-15T23:21:11.446359Z"
    },
    "papermill": {
     "duration": 0.043107,
     "end_time": "2022-03-15T23:24:20.928079",
     "exception": false,
     "start_time": "2022-03-15T23:24:20.884972",
     "status": "completed"
    },
    "tags": []
   },
   "outputs": [
    {
     "data": {
      "text/html": [
       "<div>\n",
       "<style scoped>\n",
       "    .dataframe tbody tr th:only-of-type {\n",
       "        vertical-align: middle;\n",
       "    }\n",
       "\n",
       "    .dataframe tbody tr th {\n",
       "        vertical-align: top;\n",
       "    }\n",
       "\n",
       "    .dataframe thead th {\n",
       "        text-align: right;\n",
       "    }\n",
       "</style>\n",
       "<table border=\"1\" class=\"dataframe\">\n",
       "  <thead>\n",
       "    <tr style=\"text-align: right;\">\n",
       "      <th></th>\n",
       "      <th>Sales</th>\n",
       "    </tr>\n",
       "    <tr>\n",
       "      <th>Month</th>\n",
       "      <th></th>\n",
       "    </tr>\n",
       "  </thead>\n",
       "  <tbody>\n",
       "    <tr>\n",
       "      <th>2018-07-31</th>\n",
       "      <td>490</td>\n",
       "    </tr>\n",
       "    <tr>\n",
       "      <th>2018-08-31</th>\n",
       "      <td>408</td>\n",
       "    </tr>\n",
       "    <tr>\n",
       "      <th>2018-09-30</th>\n",
       "      <td>490</td>\n",
       "    </tr>\n",
       "    <tr>\n",
       "      <th>2018-10-31</th>\n",
       "      <td>420</td>\n",
       "    </tr>\n",
       "    <tr>\n",
       "      <th>2018-11-30</th>\n",
       "      <td>520</td>\n",
       "    </tr>\n",
       "  </tbody>\n",
       "</table>\n",
       "</div>"
      ],
      "text/plain": [
       "            Sales\n",
       "Month            \n",
       "2018-07-31    490\n",
       "2018-08-31    408\n",
       "2018-09-30    490\n",
       "2018-10-31    420\n",
       "2018-11-30    520"
      ]
     },
     "execution_count": 10,
     "metadata": {},
     "output_type": "execute_result"
    }
   ],
   "source": [
    "test.head()"
   ]
  },
  {
   "cell_type": "code",
   "execution_count": 11,
   "id": "703806fa",
   "metadata": {
    "execution": {
     "iopub.execute_input": "2022-03-15T23:24:21.000994Z",
     "iopub.status.busy": "2022-03-15T23:24:20.992636Z",
     "iopub.status.idle": "2022-03-15T23:24:21.004746Z",
     "shell.execute_reply": "2022-03-15T23:24:21.005348Z",
     "shell.execute_reply.started": "2022-03-15T23:21:11.461276Z"
    },
    "papermill": {
     "duration": 0.04682,
     "end_time": "2022-03-15T23:24:21.005585",
     "exception": false,
     "start_time": "2022-03-15T23:24:20.958765",
     "status": "completed"
    },
    "tags": []
   },
   "outputs": [
    {
     "data": {
      "text/plain": [
       "array([[266, 146, 183, 119, 180, 169, 232, 225, 193, 123, 337, 186],\n",
       "       [146, 183, 119, 180, 169, 232, 225, 193, 123, 337, 186, 194],\n",
       "       [183, 119, 180, 169, 232, 225, 193, 123, 337, 186, 194, 150],\n",
       "       [119, 180, 169, 232, 225, 193, 123, 337, 186, 194, 150, 210],\n",
       "       [180, 169, 232, 225, 193, 123, 337, 186, 194, 150, 210, 273],\n",
       "       [169, 232, 225, 193, 123, 337, 186, 194, 150, 210, 273, 191],\n",
       "       [232, 225, 193, 123, 337, 186, 194, 150, 210, 273, 191, 287],\n",
       "       [225, 193, 123, 337, 186, 194, 150, 210, 273, 191, 287, 226],\n",
       "       [193, 123, 337, 186, 194, 150, 210, 273, 191, 287, 226, 304],\n",
       "       [123, 337, 186, 194, 150, 210, 273, 191, 287, 226, 304, 290],\n",
       "       [337, 186, 194, 150, 210, 273, 191, 287, 226, 304, 290, 422],\n",
       "       [186, 194, 150, 210, 273, 191, 287, 226, 304, 290, 422, 265],\n",
       "       [194, 150, 210, 273, 191, 287, 226, 304, 290, 422, 265, 342],\n",
       "       [150, 210, 273, 191, 287, 226, 304, 290, 422, 265, 342, 340],\n",
       "       [210, 273, 191, 287, 226, 304, 290, 422, 265, 342, 340, 440],\n",
       "       [273, 191, 287, 226, 304, 290, 422, 265, 342, 340, 440, 316],\n",
       "       [191, 287, 226, 304, 290, 422, 265, 342, 340, 440, 316, 439],\n",
       "       [287, 226, 304, 290, 422, 265, 342, 340, 440, 316, 439, 401]])"
      ]
     },
     "execution_count": 11,
     "metadata": {},
     "output_type": "execute_result"
    }
   ],
   "source": [
    "def generate_lag(df, n):\n",
    "    X, y = [], []\n",
    "    for i in range(len(df) - n):\n",
    "        X.append(df[i:i+n])\n",
    "        y.append(df[n+i])\n",
    "    \n",
    "    return np.array(X), np.array(y), np.array(y[-n:]).reshape(1,n)\n",
    "X, y, last_batch_values = generate_lag(train.Sales.values, 12)\n",
    "X"
   ]
  },
  {
   "cell_type": "code",
   "execution_count": 12,
   "id": "8b65926c",
   "metadata": {
    "execution": {
     "iopub.execute_input": "2022-03-15T23:24:21.072626Z",
     "iopub.status.busy": "2022-03-15T23:24:21.071618Z",
     "iopub.status.idle": "2022-03-15T23:24:21.077848Z",
     "shell.execute_reply": "2022-03-15T23:24:21.078359Z",
     "shell.execute_reply.started": "2022-03-15T23:21:20.488743Z"
    },
    "papermill": {
     "duration": 0.040833,
     "end_time": "2022-03-15T23:24:21.078579",
     "exception": false,
     "start_time": "2022-03-15T23:24:21.037746",
     "status": "completed"
    },
    "tags": []
   },
   "outputs": [
    {
     "data": {
      "text/plain": [
       "array([194, 150, 210, 273, 191, 287, 226, 304, 290, 422, 265, 342, 340,\n",
       "       440, 316, 439, 401, 390])"
      ]
     },
     "execution_count": 12,
     "metadata": {},
     "output_type": "execute_result"
    }
   ],
   "source": [
    "y"
   ]
  },
  {
   "cell_type": "code",
   "execution_count": 13,
   "id": "c16a18fa",
   "metadata": {
    "execution": {
     "iopub.execute_input": "2022-03-15T23:24:21.146540Z",
     "iopub.status.busy": "2022-03-15T23:24:21.145844Z",
     "iopub.status.idle": "2022-03-15T23:24:21.150976Z",
     "shell.execute_reply": "2022-03-15T23:24:21.151658Z",
     "shell.execute_reply.started": "2022-03-15T23:21:28.658467Z"
    },
    "papermill": {
     "duration": 0.041767,
     "end_time": "2022-03-15T23:24:21.151973",
     "exception": false,
     "start_time": "2022-03-15T23:24:21.110206",
     "status": "completed"
    },
    "tags": []
   },
   "outputs": [
    {
     "data": {
      "text/plain": [
       "array([[226, 304, 290, 422, 265, 342, 340, 440, 316, 439, 401, 390]])"
      ]
     },
     "execution_count": 13,
     "metadata": {},
     "output_type": "execute_result"
    }
   ],
   "source": [
    "last_batch_values"
   ]
  },
  {
   "cell_type": "code",
   "execution_count": 14,
   "id": "d0f28017",
   "metadata": {
    "execution": {
     "iopub.execute_input": "2022-03-15T23:24:21.220031Z",
     "iopub.status.busy": "2022-03-15T23:24:21.219266Z",
     "iopub.status.idle": "2022-03-15T23:24:22.119756Z",
     "shell.execute_reply": "2022-03-15T23:24:22.120280Z",
     "shell.execute_reply.started": "2022-03-15T23:21:57.488215Z"
    },
    "papermill": {
     "duration": 0.93659,
     "end_time": "2022-03-15T23:24:22.120482",
     "exception": false,
     "start_time": "2022-03-15T23:24:21.183892",
     "status": "completed"
    },
    "tags": []
   },
   "outputs": [
    {
     "name": "stderr",
     "output_type": "stream",
     "text": [
      "2022-03-15 23:24:21.252539: I tensorflow/core/common_runtime/process_util.cc:146] Creating new thread pool with default inter op setting: 2. Tune using inter_op_parallelism_threads for best performance.\n",
      "2022-03-15 23:24:21.420620: I tensorflow/compiler/mlir/mlir_graph_optimization_pass.cc:185] None of the MLIR Optimization Passes are enabled (registered 2)\n"
     ]
    },
    {
     "name": "stdout",
     "output_type": "stream",
     "text": [
      "Epoch 1/10\n",
      "1/1 [==============================] - 1s 562ms/step - loss: 47575.6602\n",
      "Epoch 2/10\n",
      "1/1 [==============================] - 0s 6ms/step - loss: 39418.8594\n",
      "Epoch 3/10\n",
      "1/1 [==============================] - 0s 4ms/step - loss: 32084.0664\n",
      "Epoch 4/10\n",
      "1/1 [==============================] - 0s 4ms/step - loss: 25572.4336\n",
      "Epoch 5/10\n",
      "1/1 [==============================] - 0s 4ms/step - loss: 19920.6133\n",
      "Epoch 6/10\n",
      "1/1 [==============================] - 0s 4ms/step - loss: 15167.3506\n",
      "Epoch 7/10\n",
      "1/1 [==============================] - 0s 3ms/step - loss: 11329.0078\n",
      "Epoch 8/10\n",
      "1/1 [==============================] - 0s 3ms/step - loss: 8347.6631\n",
      "Epoch 9/10\n",
      "1/1 [==============================] - 0s 4ms/step - loss: 6186.0210\n",
      "Epoch 10/10\n",
      "1/1 [==============================] - 0s 3ms/step - loss: 4753.0371\n",
      "<keras.callbacks.History object at 0x7feaaa525fd0>\n"
     ]
    },
    {
     "data": {
      "text/plain": [
       "<keras.engine.sequential.Sequential at 0x7feaaa3b5ad0>"
      ]
     },
     "execution_count": 14,
     "metadata": {},
     "output_type": "execute_result"
    }
   ],
   "source": [
    "def mlp_model(input_, y_, epochs=1000):\n",
    "    model = Sequential()\n",
    "    model.add(Dense(100, activation='relu', input_dim=input_.shape[1]))\n",
    "    model.add(Dense(1))\n",
    "    model.compile(optimizer='adam', loss='mse')\n",
    "    print(model.fit(input_, y_, epochs=epochs))\n",
    "    return model\n",
    "model = mlp_model(X,y, epochs=10)\n",
    "model"
   ]
  },
  {
   "cell_type": "code",
   "execution_count": 15,
   "id": "ab766649",
   "metadata": {
    "execution": {
     "iopub.execute_input": "2022-03-15T23:24:22.212745Z",
     "iopub.status.busy": "2022-03-15T23:24:22.211639Z",
     "iopub.status.idle": "2022-03-15T23:24:22.714435Z",
     "shell.execute_reply": "2022-03-15T23:24:22.715002Z",
     "shell.execute_reply.started": "2022-03-15T23:22:09.919753Z"
    },
    "papermill": {
     "duration": 0.553238,
     "end_time": "2022-03-15T23:24:22.715213",
     "exception": false,
     "start_time": "2022-03-15T23:24:22.161975",
     "status": "completed"
    },
    "tags": []
   },
   "outputs": [
    {
     "data": {
      "text/plain": [
       "array([421.4909 , 438.88547, 436.99408, 484.01947, 465.23712, 492.2877 ],\n",
       "      dtype=float32)"
      ]
     },
     "execution_count": 15,
     "metadata": {},
     "output_type": "execute_result"
    }
   ],
   "source": [
    "def forecast_function(model, last_batch, n):\n",
    "    in_value = last_batch.copy()\n",
    "    preds = []\n",
    "    for i in range(n):\n",
    "        p = model.predict(in_value)\n",
    "        preds.append(p.ravel())\n",
    "        in_value = np.append(in_value, p)[1:].reshape(last_batch.shape)\n",
    "    return np.array(preds).ravel()\n",
    "pred = forecast_function(model, last_batch_values, 6)\n",
    "pred"
   ]
  },
  {
   "cell_type": "code",
   "execution_count": 16,
   "id": "a49370d1",
   "metadata": {
    "execution": {
     "iopub.execute_input": "2022-03-15T23:24:22.804895Z",
     "iopub.status.busy": "2022-03-15T23:24:22.803804Z",
     "iopub.status.idle": "2022-03-15T23:24:22.824187Z",
     "shell.execute_reply": "2022-03-15T23:24:22.824720Z",
     "shell.execute_reply.started": "2022-03-15T23:22:16.115487Z"
    },
    "papermill": {
     "duration": 0.067683,
     "end_time": "2022-03-15T23:24:22.824931",
     "exception": false,
     "start_time": "2022-03-15T23:24:22.757248",
     "status": "completed"
    },
    "tags": []
   },
   "outputs": [
    {
     "data": {
      "text/html": [
       "<div>\n",
       "<style scoped>\n",
       "    .dataframe tbody tr th:only-of-type {\n",
       "        vertical-align: middle;\n",
       "    }\n",
       "\n",
       "    .dataframe tbody tr th {\n",
       "        vertical-align: top;\n",
       "    }\n",
       "\n",
       "    .dataframe thead th {\n",
       "        text-align: right;\n",
       "    }\n",
       "</style>\n",
       "<table border=\"1\" class=\"dataframe\">\n",
       "  <thead>\n",
       "    <tr style=\"text-align: right;\">\n",
       "      <th></th>\n",
       "      <th>Sales</th>\n",
       "      <th>Predicted_Sales</th>\n",
       "    </tr>\n",
       "    <tr>\n",
       "      <th>Month</th>\n",
       "      <th></th>\n",
       "      <th></th>\n",
       "    </tr>\n",
       "  </thead>\n",
       "  <tbody>\n",
       "    <tr>\n",
       "      <th>2018-07-31</th>\n",
       "      <td>490</td>\n",
       "      <td>421.490906</td>\n",
       "    </tr>\n",
       "    <tr>\n",
       "      <th>2018-08-31</th>\n",
       "      <td>408</td>\n",
       "      <td>438.885468</td>\n",
       "    </tr>\n",
       "    <tr>\n",
       "      <th>2018-09-30</th>\n",
       "      <td>490</td>\n",
       "      <td>436.994080</td>\n",
       "    </tr>\n",
       "    <tr>\n",
       "      <th>2018-10-31</th>\n",
       "      <td>420</td>\n",
       "      <td>484.019470</td>\n",
       "    </tr>\n",
       "    <tr>\n",
       "      <th>2018-11-30</th>\n",
       "      <td>520</td>\n",
       "      <td>465.237122</td>\n",
       "    </tr>\n",
       "  </tbody>\n",
       "</table>\n",
       "</div>"
      ],
      "text/plain": [
       "            Sales  Predicted_Sales\n",
       "Month                             \n",
       "2018-07-31    490       421.490906\n",
       "2018-08-31    408       438.885468\n",
       "2018-09-30    490       436.994080\n",
       "2018-10-31    420       484.019470\n",
       "2018-11-30    520       465.237122"
      ]
     },
     "execution_count": 16,
     "metadata": {},
     "output_type": "execute_result"
    }
   ],
   "source": [
    "test['Predicted_Sales']=pred\n",
    "test.head()"
   ]
  },
  {
   "cell_type": "code",
   "execution_count": 17,
   "id": "49f823eb",
   "metadata": {
    "execution": {
     "iopub.execute_input": "2022-03-15T23:24:22.916837Z",
     "iopub.status.busy": "2022-03-15T23:24:22.915747Z",
     "iopub.status.idle": "2022-03-15T23:24:23.159195Z",
     "shell.execute_reply": "2022-03-15T23:24:23.158505Z",
     "shell.execute_reply.started": "2022-03-15T23:22:30.427886Z"
    },
    "papermill": {
     "duration": 0.291049,
     "end_time": "2022-03-15T23:24:23.159364",
     "exception": false,
     "start_time": "2022-03-15T23:24:22.868315",
     "status": "completed"
    },
    "tags": []
   },
   "outputs": [
    {
     "data": {
      "text/plain": [
       "<AxesSubplot:xlabel='Month'>"
      ]
     },
     "execution_count": 17,
     "metadata": {},
     "output_type": "execute_result"
    },
    {
     "data": {
      "image/png": "[encoded data removed]",
      "text/plain": [
       "<Figure size 864x432 with 1 Axes>"
      ]
     },
     "metadata": {
      "needs_background": "light"
     },
     "output_type": "display_data"
    }
   ],
   "source": [
    "test.plot(figsize=(12,6))"
   ]
  },
  {
   "cell_type": "code",
   "execution_count": 18,
   "id": "41fcb2d8",
   "metadata": {
    "execution": {
     "iopub.execute_input": "2022-03-15T23:24:23.262510Z",
     "iopub.status.busy": "2022-03-15T23:24:23.261768Z",
     "iopub.status.idle": "2022-03-15T23:24:23.272623Z",
     "shell.execute_reply": "2022-03-15T23:24:23.273240Z",
     "shell.execute_reply.started": "2022-03-15T23:22:41.654329Z"
    },
    "papermill": {
     "duration": 0.067903,
     "end_time": "2022-03-15T23:24:23.273438",
     "exception": false,
     "start_time": "2022-03-15T23:24:23.205535",
     "status": "completed"
    },
    "tags": []
   },
   "outputs": [
    {
     "data": {
      "text/html": [
       "<div>\n",
       "<style scoped>\n",
       "    .dataframe tbody tr th:only-of-type {\n",
       "        vertical-align: middle;\n",
       "    }\n",
       "\n",
       "    .dataframe tbody tr th {\n",
       "        vertical-align: top;\n",
       "    }\n",
       "\n",
       "    .dataframe thead th {\n",
       "        text-align: right;\n",
       "    }\n",
       "</style>\n",
       "<table border=\"1\" class=\"dataframe\">\n",
       "  <thead>\n",
       "    <tr style=\"text-align: right;\">\n",
       "      <th></th>\n",
       "      <th>Sales</th>\n",
       "      <th>Predicted_Sales</th>\n",
       "      <th>error_percentage</th>\n",
       "    </tr>\n",
       "    <tr>\n",
       "      <th>Month</th>\n",
       "      <th></th>\n",
       "      <th></th>\n",
       "      <th></th>\n",
       "    </tr>\n",
       "  </thead>\n",
       "  <tbody>\n",
       "    <tr>\n",
       "      <th>2018-07-31</th>\n",
       "      <td>490</td>\n",
       "      <td>421.490906</td>\n",
       "      <td>13.981448</td>\n",
       "    </tr>\n",
       "    <tr>\n",
       "      <th>2018-08-31</th>\n",
       "      <td>408</td>\n",
       "      <td>438.885468</td>\n",
       "      <td>7.569968</td>\n",
       "    </tr>\n",
       "    <tr>\n",
       "      <th>2018-09-30</th>\n",
       "      <td>490</td>\n",
       "      <td>436.994080</td>\n",
       "      <td>10.817535</td>\n",
       "    </tr>\n",
       "    <tr>\n",
       "      <th>2018-10-31</th>\n",
       "      <td>420</td>\n",
       "      <td>484.019470</td>\n",
       "      <td>15.242731</td>\n",
       "    </tr>\n",
       "    <tr>\n",
       "      <th>2018-11-30</th>\n",
       "      <td>520</td>\n",
       "      <td>465.237122</td>\n",
       "      <td>10.531323</td>\n",
       "    </tr>\n",
       "    <tr>\n",
       "      <th>2018-12-31</th>\n",
       "      <td>480</td>\n",
       "      <td>492.287689</td>\n",
       "      <td>2.559935</td>\n",
       "    </tr>\n",
       "  </tbody>\n",
       "</table>\n",
       "</div>"
      ],
      "text/plain": [
       "            Sales  Predicted_Sales  error_percentage\n",
       "Month                                               \n",
       "2018-07-31    490       421.490906         13.981448\n",
       "2018-08-31    408       438.885468          7.569968\n",
       "2018-09-30    490       436.994080         10.817535\n",
       "2018-10-31    420       484.019470         15.242731\n",
       "2018-11-30    520       465.237122         10.531323\n",
       "2018-12-31    480       492.287689          2.559935"
      ]
     },
     "execution_count": 18,
     "metadata": {},
     "output_type": "execute_result"
    }
   ],
   "source": [
    "def error_function(df,column_1,column_2):\n",
    "    data = df.copy()\n",
    "    my_list = []\n",
    "    for i in range(len(data)):\n",
    "        x = (data[column_2][i]*100)/data[column_1][i]\n",
    "        if x >= 100:\n",
    "            error = x-100\n",
    "            #data['error_percentage'][i] = error\n",
    "            my_list.append(error)\n",
    "        else:\n",
    "            error = 100-x\n",
    "            my_list.append(error)\n",
    "            #data['error_percentage'][i] = error\n",
    "    data['error_percentage'] = my_list\n",
    "    return data\n",
    "column_1 = 'Sales'\n",
    "column_2 = 'Predicted_Sales'\n",
    "df_new = error_function(test,column_1,column_2)\n",
    "df_new"
   ]
  },
  {
   "cell_type": "code",
   "execution_count": 19,
   "id": "82a21f72",
   "metadata": {
    "execution": {
     "iopub.execute_input": "2022-03-15T23:24:23.374679Z",
     "iopub.status.busy": "2022-03-15T23:24:23.369185Z",
     "iopub.status.idle": "2022-03-15T23:24:23.377383Z",
     "shell.execute_reply": "2022-03-15T23:24:23.378003Z",
     "shell.execute_reply.started": "2022-03-15T23:23:00.663241Z"
    },
    "papermill": {
     "duration": 0.05824,
     "end_time": "2022-03-15T23:24:23.378213",
     "exception": false,
     "start_time": "2022-03-15T23:24:23.319973",
     "status": "completed"
    },
    "tags": []
   },
   "outputs": [
    {
     "data": {
      "text/plain": [
       "10.117156523516078"
      ]
     },
     "execution_count": 19,
     "metadata": {},
     "output_type": "execute_result"
    }
   ],
   "source": [
    "def mean_error(df,error_column):\n",
    "    total = 0\n",
    "    for i in range(len(df)):\n",
    "        total += df[error_column][i]\n",
    "    mean_error_ = total/(len(df))\n",
    "    return mean_error_\n",
    "error_rate = mean_error(df_new,'error_percentage')\n",
    "error_rate"
   ]
  },
  {
   "cell_type": "code",
   "execution_count": 20,
   "id": "2a6e6a21",
   "metadata": {
    "execution": {
     "iopub.execute_input": "2022-03-15T23:24:23.477822Z",
     "iopub.status.busy": "2022-03-15T23:24:23.477071Z",
     "iopub.status.idle": "2022-03-15T23:24:23.484129Z",
     "shell.execute_reply": "2022-03-15T23:24:23.483471Z",
     "shell.execute_reply.started": "2022-03-15T23:23:06.919707Z"
    },
    "papermill": {
     "duration": 0.059176,
     "end_time": "2022-03-15T23:24:23.484286",
     "exception": false,
     "start_time": "2022-03-15T23:24:23.425110",
     "status": "completed"
    },
    "tags": []
   },
   "outputs": [
    {
     "data": {
      "text/plain": [
       "2808"
      ]
     },
     "execution_count": 20,
     "metadata": {},
     "output_type": "execute_result"
    }
   ],
   "source": [
    "sum_of_actual_sales = sum(df_new.Sales.values)\n",
    "sum_of_actual_sales"
   ]
  },
  {
   "cell_type": "code",
   "execution_count": 21,
   "id": "1a813370",
   "metadata": {
    "execution": {
     "iopub.execute_input": "2022-03-15T23:24:23.584727Z",
     "iopub.status.busy": "2022-03-15T23:24:23.584016Z",
     "iopub.status.idle": "2022-03-15T23:24:23.587359Z",
     "shell.execute_reply": "2022-03-15T23:24:23.588020Z",
     "shell.execute_reply.started": "2022-03-15T23:23:11.247858Z"
    },
    "papermill": {
     "duration": 0.056372,
     "end_time": "2022-03-15T23:24:23.588216",
     "exception": false,
     "start_time": "2022-03-15T23:24:23.531844",
     "status": "completed"
    },
    "tags": []
   },
   "outputs": [
    {
     "data": {
      "text/plain": [
       "2738.9147338867188"
      ]
     },
     "execution_count": 21,
     "metadata": {},
     "output_type": "execute_result"
    }
   ],
   "source": [
    "sum_of_predicted_sales = sum(df_new.Predicted_Sales.values)\n",
    "sum_of_predicted_sales"
   ]
  },
  {
   "cell_type": "code",
   "execution_count": 22,
   "id": "b409872e",
   "metadata": {
    "execution": {
     "iopub.execute_input": "2022-03-15T23:24:23.686144Z",
     "iopub.status.busy": "2022-03-15T23:24:23.685414Z",
     "iopub.status.idle": "2022-03-15T23:24:23.692573Z",
     "shell.execute_reply": "2022-03-15T23:24:23.693370Z",
     "shell.execute_reply.started": "2022-03-15T23:23:21.283550Z"
    },
    "papermill": {
     "duration": 0.058708,
     "end_time": "2022-03-15T23:24:23.693627",
     "exception": false,
     "start_time": "2022-03-15T23:24:23.634919",
     "status": "completed"
    },
    "tags": []
   },
   "outputs": [
    {
     "name": "stdout",
     "output_type": "stream",
     "text": [
      "Percentage error:  2.4603014997607318\n"
     ]
    }
   ],
   "source": [
    "rate_of_actual_and_predict_sums = (sum_of_predicted_sales*100)/sum_of_actual_sales\n",
    "if rate_of_actual_and_predict_sums >= 100:\n",
    "    total_percentage = rate_of_actual_and_predict_sums - 100\n",
    "else:\n",
    "    total_percentage = 100-rate_of_actual_and_predict_sums\n",
    "print('Percentage error: ',total_percentage)"
   ]
  }
 ],
 "metadata": {
  "kernelspec": {
   "display_name": "Python 3",
   "language": "python",
   "name": "python3"
  },
  "language_info": {
   "codemirror_mode": {
    "name": "ipython",
    "version": 3
   },
   "file_extension": ".py",
   "mimetype": "text/x-python",
   "name": "python",
   "nbconvert_exporter": "python",
   "pygments_lexer": "ipython3",
   "version": "3.7.12"
  },
  "papermill": {
   "default_parameters": {},
   "duration": 26.697758,
   "end_time": "2022-03-15T23:24:27.321296",
   "environment_variables": {},
   "exception": null,
   "input_path": "__notebook__.ipynb",
   "output_path": "__notebook__.ipynb",
   "parameters": {},
   "start_time": "2022-03-15T23:24:00.623538",
   "version": "2.3.3"
  }
 },
 "nbformat": 4,
 "nbformat_minor": 5
}
