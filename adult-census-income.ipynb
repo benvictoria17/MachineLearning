{
 "cells": [
  {
   "cell_type": "code",
   "execution_count": 1,
   "id": "c180353c",
   "metadata": {
    "_cell_guid": "b1076dfc-b9ad-4769-8c92-a6c4dae69d19",
    "_uuid": "8f2839f25d086af736a60e9eeb907d3b93b6e0e5",
    "execution": {
     "iopub.execute_input": "2021-11-11T18:17:36.106094Z",
     "iopub.status.busy": "2021-11-11T18:17:36.105285Z",
     "iopub.status.idle": "2021-11-11T18:17:37.293447Z",
     "shell.execute_reply": "2021-11-11T18:17:37.294044Z",
     "shell.execute_reply.started": "2021-11-11T18:13:32.364228Z"
    },
    "papermill": {
     "duration": 1.22475,
     "end_time": "2021-11-11T18:17:37.294358",
     "exception": false,
     "start_time": "2021-11-11T18:17:36.069608",
     "status": "completed"
    },
    "tags": []
   },
   "outputs": [
    {
     "data": {
      "text/html": [
       "<div>\n",
       "<style scoped>\n",
       "    .dataframe tbody tr th:only-of-type {\n",
       "        vertical-align: middle;\n",
       "    }\n",
       "\n",
       "    .dataframe tbody tr th {\n",
       "        vertical-align: top;\n",
       "    }\n",
       "\n",
       "    .dataframe thead th {\n",
       "        text-align: right;\n",
       "    }\n",
       "</style>\n",
       "<table border=\"1\" class=\"dataframe\">\n",
       "  <thead>\n",
       "    <tr style=\"text-align: right;\">\n",
       "      <th></th>\n",
       "      <th>age</th>\n",
       "      <th>workclass</th>\n",
       "      <th>fnlwgt</th>\n",
       "      <th>education</th>\n",
       "      <th>education.num</th>\n",
       "      <th>marital.status</th>\n",
       "      <th>occupation</th>\n",
       "      <th>relationship</th>\n",
       "      <th>race</th>\n",
       "      <th>sex</th>\n",
       "      <th>capital.gain</th>\n",
       "      <th>capital.loss</th>\n",
       "      <th>hours.per.week</th>\n",
       "      <th>native.country</th>\n",
       "      <th>income</th>\n",
       "    </tr>\n",
       "  </thead>\n",
       "  <tbody>\n",
       "    <tr>\n",
       "      <th>0</th>\n",
       "      <td>90</td>\n",
       "      <td>?</td>\n",
       "      <td>77053</td>\n",
       "      <td>HS-grad</td>\n",
       "      <td>9</td>\n",
       "      <td>Widowed</td>\n",
       "      <td>?</td>\n",
       "      <td>Not-in-family</td>\n",
       "      <td>White</td>\n",
       "      <td>Female</td>\n",
       "      <td>0</td>\n",
       "      <td>4356</td>\n",
       "      <td>40</td>\n",
       "      <td>United-States</td>\n",
       "      <td>&lt;=50K</td>\n",
       "    </tr>\n",
       "    <tr>\n",
       "      <th>1</th>\n",
       "      <td>82</td>\n",
       "      <td>Private</td>\n",
       "      <td>132870</td>\n",
       "      <td>HS-grad</td>\n",
       "      <td>9</td>\n",
       "      <td>Widowed</td>\n",
       "      <td>Exec-managerial</td>\n",
       "      <td>Not-in-family</td>\n",
       "      <td>White</td>\n",
       "      <td>Female</td>\n",
       "      <td>0</td>\n",
       "      <td>4356</td>\n",
       "      <td>18</td>\n",
       "      <td>United-States</td>\n",
       "      <td>&lt;=50K</td>\n",
       "    </tr>\n",
       "    <tr>\n",
       "      <th>2</th>\n",
       "      <td>66</td>\n",
       "      <td>?</td>\n",
       "      <td>186061</td>\n",
       "      <td>Some-college</td>\n",
       "      <td>10</td>\n",
       "      <td>Widowed</td>\n",
       "      <td>?</td>\n",
       "      <td>Unmarried</td>\n",
       "      <td>Black</td>\n",
       "      <td>Female</td>\n",
       "      <td>0</td>\n",
       "      <td>4356</td>\n",
       "      <td>40</td>\n",
       "      <td>United-States</td>\n",
       "      <td>&lt;=50K</td>\n",
       "    </tr>\n",
       "    <tr>\n",
       "      <th>3</th>\n",
       "      <td>54</td>\n",
       "      <td>Private</td>\n",
       "      <td>140359</td>\n",
       "      <td>7th-8th</td>\n",
       "      <td>4</td>\n",
       "      <td>Divorced</td>\n",
       "      <td>Machine-op-inspct</td>\n",
       "      <td>Unmarried</td>\n",
       "      <td>White</td>\n",
       "      <td>Female</td>\n",
       "      <td>0</td>\n",
       "      <td>3900</td>\n",
       "      <td>40</td>\n",
       "      <td>United-States</td>\n",
       "      <td>&lt;=50K</td>\n",
       "    </tr>\n",
       "    <tr>\n",
       "      <th>4</th>\n",
       "      <td>41</td>\n",
       "      <td>Private</td>\n",
       "      <td>264663</td>\n",
       "      <td>Some-college</td>\n",
       "      <td>10</td>\n",
       "      <td>Separated</td>\n",
       "      <td>Prof-specialty</td>\n",
       "      <td>Own-child</td>\n",
       "      <td>White</td>\n",
       "      <td>Female</td>\n",
       "      <td>0</td>\n",
       "      <td>3900</td>\n",
       "      <td>40</td>\n",
       "      <td>United-States</td>\n",
       "      <td>&lt;=50K</td>\n",
       "    </tr>\n",
       "  </tbody>\n",
       "</table>\n",
       "</div>"
      ],
      "text/plain": [
       "   age workclass  fnlwgt     education  education.num marital.status  \\\n",
       "0   90         ?   77053       HS-grad              9        Widowed   \n",
       "1   82   Private  132870       HS-grad              9        Widowed   \n",
       "2   66         ?  186061  Some-college             10        Widowed   \n",
       "3   54   Private  140359       7th-8th              4       Divorced   \n",
       "4   41   Private  264663  Some-college             10      Separated   \n",
       "\n",
       "          occupation   relationship   race     sex  capital.gain  \\\n",
       "0                  ?  Not-in-family  White  Female             0   \n",
       "1    Exec-managerial  Not-in-family  White  Female             0   \n",
       "2                  ?      Unmarried  Black  Female             0   \n",
       "3  Machine-op-inspct      Unmarried  White  Female             0   \n",
       "4     Prof-specialty      Own-child  White  Female             0   \n",
       "\n",
       "   capital.loss  hours.per.week native.country income  \n",
       "0          4356              40  United-States  <=50K  \n",
       "1          4356              18  United-States  <=50K  \n",
       "2          4356              40  United-States  <=50K  \n",
       "3          3900              40  United-States  <=50K  \n",
       "4          3900              40  United-States  <=50K  "
      ]
     },
     "execution_count": 1,
     "metadata": {},
     "output_type": "execute_result"
    }
   ],
   "source": [
    "import pandas as pd \n",
    "import numpy as np \n",
    "import matplotlib.pyplot as plt\n",
    "%matplotlib  inline\n",
    "import seaborn as sns \n",
    "df = pd.read_csv(\"https://raw.githubusercontent.com/benvictoria17/DataVisualization/master/dataset/Adult%20Census%20Income/adult.csv\")\n",
    "df.head()"
   ]
  },
  {
   "cell_type": "code",
   "execution_count": 2,
   "id": "c6362d80",
   "metadata": {
    "execution": {
     "iopub.execute_input": "2021-11-11T18:17:37.372922Z",
     "iopub.status.busy": "2021-11-11T18:17:37.371957Z",
     "iopub.status.idle": "2021-11-11T18:17:37.437395Z",
     "shell.execute_reply": "2021-11-11T18:17:37.438024Z",
     "shell.execute_reply.started": "2021-11-11T18:13:34.268158Z"
    },
    "papermill": {
     "duration": 0.106628,
     "end_time": "2021-11-11T18:17:37.438220",
     "exception": false,
     "start_time": "2021-11-11T18:17:37.331592",
     "status": "completed"
    },
    "tags": []
   },
   "outputs": [
    {
     "name": "stdout",
     "output_type": "stream",
     "text": [
      "<class 'pandas.core.frame.DataFrame'>\n",
      "RangeIndex: 32561 entries, 0 to 32560\n",
      "Data columns (total 15 columns):\n",
      " #   Column          Non-Null Count  Dtype \n",
      "---  ------          --------------  ----- \n",
      " 0   age             32561 non-null  int64 \n",
      " 1   workclass       32561 non-null  object\n",
      " 2   fnlwgt          32561 non-null  int64 \n",
      " 3   education       32561 non-null  object\n",
      " 4   education.num   32561 non-null  int64 \n",
      " 5   marital.status  32561 non-null  object\n",
      " 6   occupation      32561 non-null  object\n",
      " 7   relationship    32561 non-null  object\n",
      " 8   race            32561 non-null  object\n",
      " 9   sex             32561 non-null  object\n",
      " 10  capital.gain    32561 non-null  int64 \n",
      " 11  capital.loss    32561 non-null  int64 \n",
      " 12  hours.per.week  32561 non-null  int64 \n",
      " 13  native.country  32561 non-null  object\n",
      " 14  income          32561 non-null  object\n",
      "dtypes: int64(6), object(9)\n",
      "memory usage: 3.7+ MB\n"
     ]
    }
   ],
   "source": [
    "df.info()"
   ]
  },
  {
   "cell_type": "code",
   "execution_count": 3,
   "id": "b898f877",
   "metadata": {
    "execution": {
     "iopub.execute_input": "2021-11-11T18:17:37.527969Z",
     "iopub.status.busy": "2021-11-11T18:17:37.527169Z",
     "iopub.status.idle": "2021-11-11T18:17:37.563802Z",
     "shell.execute_reply": "2021-11-11T18:17:37.565116Z",
     "shell.execute_reply.started": "2021-11-11T18:13:34.334411Z"
    },
    "papermill": {
     "duration": 0.086854,
     "end_time": "2021-11-11T18:17:37.565325",
     "exception": false,
     "start_time": "2021-11-11T18:17:37.478471",
     "status": "completed"
    },
    "tags": []
   },
   "outputs": [
    {
     "data": {
      "text/html": [
       "<div>\n",
       "<style scoped>\n",
       "    .dataframe tbody tr th:only-of-type {\n",
       "        vertical-align: middle;\n",
       "    }\n",
       "\n",
       "    .dataframe tbody tr th {\n",
       "        vertical-align: top;\n",
       "    }\n",
       "\n",
       "    .dataframe thead th {\n",
       "        text-align: right;\n",
       "    }\n",
       "</style>\n",
       "<table border=\"1\" class=\"dataframe\">\n",
       "  <thead>\n",
       "    <tr style=\"text-align: right;\">\n",
       "      <th></th>\n",
       "      <th>age</th>\n",
       "      <th>fnlwgt</th>\n",
       "      <th>education.num</th>\n",
       "      <th>capital.gain</th>\n",
       "      <th>capital.loss</th>\n",
       "      <th>hours.per.week</th>\n",
       "    </tr>\n",
       "  </thead>\n",
       "  <tbody>\n",
       "    <tr>\n",
       "      <th>count</th>\n",
       "      <td>32561.000000</td>\n",
       "      <td>3.256100e+04</td>\n",
       "      <td>32561.000000</td>\n",
       "      <td>32561.000000</td>\n",
       "      <td>32561.000000</td>\n",
       "      <td>32561.000000</td>\n",
       "    </tr>\n",
       "    <tr>\n",
       "      <th>mean</th>\n",
       "      <td>38.581647</td>\n",
       "      <td>1.897784e+05</td>\n",
       "      <td>10.080679</td>\n",
       "      <td>1077.648844</td>\n",
       "      <td>87.303830</td>\n",
       "      <td>40.437456</td>\n",
       "    </tr>\n",
       "    <tr>\n",
       "      <th>std</th>\n",
       "      <td>13.640433</td>\n",
       "      <td>1.055500e+05</td>\n",
       "      <td>2.572720</td>\n",
       "      <td>7385.292085</td>\n",
       "      <td>402.960219</td>\n",
       "      <td>12.347429</td>\n",
       "    </tr>\n",
       "    <tr>\n",
       "      <th>min</th>\n",
       "      <td>17.000000</td>\n",
       "      <td>1.228500e+04</td>\n",
       "      <td>1.000000</td>\n",
       "      <td>0.000000</td>\n",
       "      <td>0.000000</td>\n",
       "      <td>1.000000</td>\n",
       "    </tr>\n",
       "    <tr>\n",
       "      <th>25%</th>\n",
       "      <td>28.000000</td>\n",
       "      <td>1.178270e+05</td>\n",
       "      <td>9.000000</td>\n",
       "      <td>0.000000</td>\n",
       "      <td>0.000000</td>\n",
       "      <td>40.000000</td>\n",
       "    </tr>\n",
       "    <tr>\n",
       "      <th>50%</th>\n",
       "      <td>37.000000</td>\n",
       "      <td>1.783560e+05</td>\n",
       "      <td>10.000000</td>\n",
       "      <td>0.000000</td>\n",
       "      <td>0.000000</td>\n",
       "      <td>40.000000</td>\n",
       "    </tr>\n",
       "    <tr>\n",
       "      <th>75%</th>\n",
       "      <td>48.000000</td>\n",
       "      <td>2.370510e+05</td>\n",
       "      <td>12.000000</td>\n",
       "      <td>0.000000</td>\n",
       "      <td>0.000000</td>\n",
       "      <td>45.000000</td>\n",
       "    </tr>\n",
       "    <tr>\n",
       "      <th>max</th>\n",
       "      <td>90.000000</td>\n",
       "      <td>1.484705e+06</td>\n",
       "      <td>16.000000</td>\n",
       "      <td>99999.000000</td>\n",
       "      <td>4356.000000</td>\n",
       "      <td>99.000000</td>\n",
       "    </tr>\n",
       "  </tbody>\n",
       "</table>\n",
       "</div>"
      ],
      "text/plain": [
       "                age        fnlwgt  education.num  capital.gain  capital.loss  \\\n",
       "count  32561.000000  3.256100e+04   32561.000000  32561.000000  32561.000000   \n",
       "mean      38.581647  1.897784e+05      10.080679   1077.648844     87.303830   \n",
       "std       13.640433  1.055500e+05       2.572720   7385.292085    402.960219   \n",
       "min       17.000000  1.228500e+04       1.000000      0.000000      0.000000   \n",
       "25%       28.000000  1.178270e+05       9.000000      0.000000      0.000000   \n",
       "50%       37.000000  1.783560e+05      10.000000      0.000000      0.000000   \n",
       "75%       48.000000  2.370510e+05      12.000000      0.000000      0.000000   \n",
       "max       90.000000  1.484705e+06      16.000000  99999.000000   4356.000000   \n",
       "\n",
       "       hours.per.week  \n",
       "count    32561.000000  \n",
       "mean        40.437456  \n",
       "std         12.347429  \n",
       "min          1.000000  \n",
       "25%         40.000000  \n",
       "50%         40.000000  \n",
       "75%         45.000000  \n",
       "max         99.000000  "
      ]
     },
     "execution_count": 3,
     "metadata": {},
     "output_type": "execute_result"
    }
   ],
   "source": [
    "df.describe()"
   ]
  },
  {
   "cell_type": "code",
   "execution_count": 4,
   "id": "0a1871d6",
   "metadata": {
    "execution": {
     "iopub.execute_input": "2021-11-11T18:17:37.654879Z",
     "iopub.status.busy": "2021-11-11T18:17:37.654062Z",
     "iopub.status.idle": "2021-11-11T18:17:38.122559Z",
     "shell.execute_reply": "2021-11-11T18:17:38.123001Z",
     "shell.execute_reply.started": "2021-11-11T18:13:34.379676Z"
    },
    "papermill": {
     "duration": 0.51696,
     "end_time": "2021-11-11T18:17:38.123146",
     "exception": false,
     "start_time": "2021-11-11T18:17:37.606186",
     "status": "completed"
    },
    "tags": []
   },
   "outputs": [
    {
     "data": {
      "text/plain": [
       "<AxesSubplot:>"
      ]
     },
     "execution_count": 4,
     "metadata": {},
     "output_type": "execute_result"
    },
    {
     "data": {
      "image/png": "[encoded data removed]",
      "text/plain": [
       "<Figure size 1152x1008 with 2 Axes>"
      ]
     },
     "metadata": {
      "needs_background": "light"
     },
     "output_type": "display_data"
    }
   ],
   "source": [
    "plt.figure(figsize=(16,14))\n",
    "sns.heatmap(df.corr(), annot = True)"
   ]
  },
  {
   "cell_type": "code",
   "execution_count": 5,
   "id": "83762abc",
   "metadata": {
    "execution": {
     "iopub.execute_input": "2021-11-11T18:17:38.178610Z",
     "iopub.status.busy": "2021-11-11T18:17:38.177959Z",
     "iopub.status.idle": "2021-11-11T18:17:39.755177Z",
     "shell.execute_reply": "2021-11-11T18:17:39.755671Z",
     "shell.execute_reply.started": "2021-11-11T18:13:35.075872Z"
    },
    "papermill": {
     "duration": 1.607817,
     "end_time": "2021-11-11T18:17:39.755843",
     "exception": false,
     "start_time": "2021-11-11T18:17:38.148026",
     "status": "completed"
    },
    "tags": []
   },
   "outputs": [
    {
     "data": {
      "text/plain": [
       "<matplotlib.legend.Legend at 0x7f44d42f4ad0>"
      ]
     },
     "execution_count": 5,
     "metadata": {},
     "output_type": "execute_result"
    },
    {
     "data": {
      "image/png": "[encoded data removed]",
      "text/plain": [
       "<Figure size 1152x432 with 1 Axes>"
      ]
     },
     "metadata": {
      "needs_background": "light"
     },
     "output_type": "display_data"
    }
   ],
   "source": [
    "plt.figure(figsize=(16,6))\n",
    "sns.countplot(x=df.age, hue=df.income)\n",
    "plt.title(\"\")\n",
    "plt.xlabel('Age')\n",
    "plt.ylabel('Count')\n",
    "plt.legend()"
   ]
  },
  {
   "cell_type": "code",
   "execution_count": 6,
   "id": "7b743fb2",
   "metadata": {
    "execution": {
     "iopub.execute_input": "2021-11-11T18:17:39.812199Z",
     "iopub.status.busy": "2021-11-11T18:17:39.811431Z",
     "iopub.status.idle": "2021-11-11T18:17:39.816697Z",
     "shell.execute_reply": "2021-11-11T18:17:39.816233Z",
     "shell.execute_reply.started": "2021-11-11T18:13:37.074740Z"
    },
    "papermill": {
     "duration": 0.035575,
     "end_time": "2021-11-11T18:17:39.816814",
     "exception": false,
     "start_time": "2021-11-11T18:17:39.781239",
     "status": "completed"
    },
    "tags": []
   },
   "outputs": [
    {
     "data": {
      "text/plain": [
       "array(['?', 'Private', 'State-gov', 'Federal-gov', 'Self-emp-not-inc',\n",
       "       'Self-emp-inc', 'Local-gov', 'Without-pay', 'Never-worked'],\n",
       "      dtype=object)"
      ]
     },
     "execution_count": 6,
     "metadata": {},
     "output_type": "execute_result"
    }
   ],
   "source": [
    "df.workclass.unique()"
   ]
  },
  {
   "cell_type": "code",
   "execution_count": 7,
   "id": "d1f3c698",
   "metadata": {
    "execution": {
     "iopub.execute_input": "2021-11-11T18:17:39.872605Z",
     "iopub.status.busy": "2021-11-11T18:17:39.871842Z",
     "iopub.status.idle": "2021-11-11T18:17:40.233683Z",
     "shell.execute_reply": "2021-11-11T18:17:40.232984Z",
     "shell.execute_reply.started": "2021-11-11T18:13:37.089773Z"
    },
    "papermill": {
     "duration": 0.391782,
     "end_time": "2021-11-11T18:17:40.233820",
     "exception": false,
     "start_time": "2021-11-11T18:17:39.842038",
     "status": "completed"
    },
    "tags": []
   },
   "outputs": [
    {
     "data": {
      "text/plain": [
       "<matplotlib.legend.Legend at 0x7f44d4318ad0>"
      ]
     },
     "execution_count": 7,
     "metadata": {},
     "output_type": "execute_result"
    },
    {
     "data": {
      "image/png": "[encoded data removed]",
      "text/plain": [
       "<Figure size 1152x432 with 1 Axes>"
      ]
     },
     "metadata": {
      "needs_background": "light"
     },
     "output_type": "display_data"
    }
   ],
   "source": [
    "plt.figure(figsize=(16,6))\n",
    "sns.countplot(x=df.workclass, hue=df.income)\n",
    "plt.title(\"\")\n",
    "plt.xlabel('Work Class')\n",
    "plt.ylabel('Count')\n",
    "plt.legend()"
   ]
  },
  {
   "cell_type": "code",
   "execution_count": 8,
   "id": "ce029583",
   "metadata": {
    "execution": {
     "iopub.execute_input": "2021-11-11T18:17:40.304693Z",
     "iopub.status.busy": "2021-11-11T18:17:40.302632Z",
     "iopub.status.idle": "2021-11-11T18:17:40.310894Z",
     "shell.execute_reply": "2021-11-11T18:17:40.310079Z",
     "shell.execute_reply.started": "2021-11-11T18:13:37.536870Z"
    },
    "papermill": {
     "duration": 0.050308,
     "end_time": "2021-11-11T18:17:40.311079",
     "exception": false,
     "start_time": "2021-11-11T18:17:40.260771",
     "status": "completed"
    },
    "tags": []
   },
   "outputs": [
    {
     "data": {
      "text/plain": [
       "age               14\n",
       "workclass         14\n",
       "fnlwgt            14\n",
       "education         14\n",
       "education.num     14\n",
       "marital.status    14\n",
       "occupation        14\n",
       "relationship      14\n",
       "race              14\n",
       "sex               14\n",
       "capital.gain      14\n",
       "capital.loss      14\n",
       "hours.per.week    14\n",
       "native.country    14\n",
       "income            14\n",
       "dtype: int64"
      ]
     },
     "execution_count": 8,
     "metadata": {},
     "output_type": "execute_result"
    }
   ],
   "source": [
    "df[df['workclass']=='Without-pay'].count()"
   ]
  },
  {
   "cell_type": "code",
   "execution_count": 9,
   "id": "8bba1290",
   "metadata": {
    "execution": {
     "iopub.execute_input": "2021-11-11T18:17:40.429271Z",
     "iopub.status.busy": "2021-11-11T18:17:40.428421Z",
     "iopub.status.idle": "2021-11-11T18:17:40.433201Z",
     "shell.execute_reply": "2021-11-11T18:17:40.434309Z",
     "shell.execute_reply.started": "2021-11-11T18:13:37.555557Z"
    },
    "papermill": {
     "duration": 0.067968,
     "end_time": "2021-11-11T18:17:40.434537",
     "exception": false,
     "start_time": "2021-11-11T18:17:40.366569",
     "status": "completed"
    },
    "tags": []
   },
   "outputs": [
    {
     "data": {
      "text/plain": [
       "age               7\n",
       "workclass         7\n",
       "fnlwgt            7\n",
       "education         7\n",
       "education.num     7\n",
       "marital.status    7\n",
       "occupation        7\n",
       "relationship      7\n",
       "race              7\n",
       "sex               7\n",
       "capital.gain      7\n",
       "capital.loss      7\n",
       "hours.per.week    7\n",
       "native.country    7\n",
       "income            7\n",
       "dtype: int64"
      ]
     },
     "execution_count": 9,
     "metadata": {},
     "output_type": "execute_result"
    }
   ],
   "source": [
    "df[df['workclass']=='Never-worked'].count()"
   ]
  },
  {
   "cell_type": "code",
   "execution_count": 10,
   "id": "62470bac",
   "metadata": {
    "execution": {
     "iopub.execute_input": "2021-11-11T18:17:40.534982Z",
     "iopub.status.busy": "2021-11-11T18:17:40.534203Z",
     "iopub.status.idle": "2021-11-11T18:17:40.559821Z",
     "shell.execute_reply": "2021-11-11T18:17:40.560772Z",
     "shell.execute_reply.started": "2021-11-11T18:13:37.585272Z"
    },
    "papermill": {
     "duration": 0.082317,
     "end_time": "2021-11-11T18:17:40.560954",
     "exception": false,
     "start_time": "2021-11-11T18:17:40.478637",
     "status": "completed"
    },
    "tags": []
   },
   "outputs": [
    {
     "data": {
      "text/plain": [
       "array(['?', 'Private', 'State-gov', 'Federal-gov', 'Self-emp-not-inc',\n",
       "       'Self-emp-inc', 'Local-gov'], dtype=object)"
      ]
     },
     "execution_count": 10,
     "metadata": {},
     "output_type": "execute_result"
    }
   ],
   "source": [
    "df = df[df.workclass != 'Never-worked']\n",
    "df = df[df.workclass != 'Without-pay']\n",
    "df.workclass.unique()"
   ]
  },
  {
   "cell_type": "code",
   "execution_count": 11,
   "id": "9efb3282",
   "metadata": {
    "execution": {
     "iopub.execute_input": "2021-11-11T18:17:40.659436Z",
     "iopub.status.busy": "2021-11-11T18:17:40.658672Z",
     "iopub.status.idle": "2021-11-11T18:17:40.665275Z",
     "shell.execute_reply": "2021-11-11T18:17:40.665929Z",
     "shell.execute_reply.started": "2021-11-11T18:13:37.620565Z"
    },
    "papermill": {
     "duration": 0.060332,
     "end_time": "2021-11-11T18:17:40.666107",
     "exception": false,
     "start_time": "2021-11-11T18:17:40.605775",
     "status": "completed"
    },
    "tags": []
   },
   "outputs": [
    {
     "name": "stdout",
     "output_type": "stream",
     "text": [
      "['HS-grad' 'Some-college' '7th-8th' '10th' 'Doctorate' 'Prof-school'\n",
      " 'Bachelors' 'Masters' '11th' 'Assoc-acdm' 'Assoc-voc' '1st-4th' '5th-6th'\n",
      " '12th' '9th' 'Preschool']\n",
      "[ 9 10  4  6 16 15 13 14  7 12 11  2  3  8  5  1]\n"
     ]
    }
   ],
   "source": [
    "print(df.education.unique())\n",
    "print(df['education.num'].unique())"
   ]
  },
  {
   "cell_type": "code",
   "execution_count": 12,
   "id": "86a33491",
   "metadata": {
    "execution": {
     "iopub.execute_input": "2021-11-11T18:17:40.771238Z",
     "iopub.status.busy": "2021-11-11T18:17:40.770472Z",
     "iopub.status.idle": "2021-11-11T18:17:41.290386Z",
     "shell.execute_reply": "2021-11-11T18:17:41.290989Z",
     "shell.execute_reply.started": "2021-11-11T18:13:37.633388Z"
    },
    "papermill": {
     "duration": 0.579653,
     "end_time": "2021-11-11T18:17:41.291162",
     "exception": false,
     "start_time": "2021-11-11T18:17:40.711509",
     "status": "completed"
    },
    "tags": []
   },
   "outputs": [
    {
     "data": {
      "text/plain": [
       "<matplotlib.legend.Legend at 0x7f44d44e8e50>"
      ]
     },
     "execution_count": 12,
     "metadata": {},
     "output_type": "execute_result"
    },
    {
     "data": {
      "image/png": "[encoded data removed]",
      "text/plain": [
       "<Figure size 1152x432 with 1 Axes>"
      ]
     },
     "metadata": {
      "needs_background": "light"
     },
     "output_type": "display_data"
    }
   ],
   "source": [
    "plt.figure(figsize=(16,6))\n",
    "sns.countplot(x=df.education, hue=df.income)\n",
    "plt.title(\"\")\n",
    "plt.xlabel('Education')\n",
    "plt.ylabel('Count')\n",
    "plt.legend()"
   ]
  },
  {
   "cell_type": "code",
   "execution_count": 13,
   "id": "02aaaaaf",
   "metadata": {
    "execution": {
     "iopub.execute_input": "2021-11-11T18:17:41.366890Z",
     "iopub.status.busy": "2021-11-11T18:17:41.366011Z",
     "iopub.status.idle": "2021-11-11T18:17:41.604261Z",
     "shell.execute_reply": "2021-11-11T18:17:41.603633Z",
     "shell.execute_reply.started": "2021-11-11T18:13:38.179437Z"
    },
    "papermill": {
     "duration": 0.278951,
     "end_time": "2021-11-11T18:17:41.604439",
     "exception": false,
     "start_time": "2021-11-11T18:17:41.325488",
     "status": "completed"
    },
    "tags": []
   },
   "outputs": [
    {
     "name": "stdout",
     "output_type": "stream",
     "text": [
      "Percentage of eduction level who earn >50K \n",
      "HS-grad\n",
      "15.966066151939758\n",
      "Some-college\n",
      "19.0365083722207\n",
      "7th-8th\n",
      "6.211180124223603\n",
      "10th\n",
      "6.659505907626208\n",
      "Doctorate\n",
      "74.09200968523002\n",
      "Prof-school\n",
      "73.4375\n",
      "Bachelors\n",
      "41.47525676937442\n",
      "Masters\n",
      "55.65873476494486\n",
      "11th\n",
      "5.110732538330494\n",
      "Assoc-acdm\n",
      "24.859287054409005\n",
      "Assoc-voc\n",
      "26.121562952243128\n",
      "1st-4th\n",
      "3.571428571428571\n",
      "5th-6th\n",
      "4.804804804804805\n",
      "12th\n",
      "7.621247113163972\n",
      "9th\n",
      "5.252918287937743\n",
      "Preschool\n",
      "0.0\n"
     ]
    }
   ],
   "source": [
    "e = df.education.unique()\n",
    "\n",
    "print('Percentage of eduction level who earn >50K ')\n",
    "for i in e:\n",
    "  val = len(df[(df.education == i) & (df.income == '>50K')])\n",
    "  tot = len(df[df.education == i])\n",
    "  print(i)\n",
    "  print((val/tot)*100)"
   ]
  },
  {
   "cell_type": "code",
   "execution_count": 14,
   "id": "4b2058d2",
   "metadata": {
    "execution": {
     "iopub.execute_input": "2021-11-11T18:17:41.672155Z",
     "iopub.status.busy": "2021-11-11T18:17:41.671387Z",
     "iopub.status.idle": "2021-11-11T18:17:41.674685Z",
     "shell.execute_reply": "2021-11-11T18:17:41.674136Z",
     "shell.execute_reply.started": "2021-11-11T18:13:38.479779Z"
    },
    "papermill": {
     "duration": 0.039338,
     "end_time": "2021-11-11T18:17:41.674804",
     "exception": false,
     "start_time": "2021-11-11T18:17:41.635466",
     "status": "completed"
    },
    "tags": []
   },
   "outputs": [
    {
     "data": {
      "text/plain": [
       "array(['Widowed', 'Divorced', 'Separated', 'Never-married',\n",
       "       'Married-civ-spouse', 'Married-spouse-absent', 'Married-AF-spouse'],\n",
       "      dtype=object)"
      ]
     },
     "execution_count": 14,
     "metadata": {},
     "output_type": "execute_result"
    }
   ],
   "source": [
    "df['marital.status'].unique()"
   ]
  },
  {
   "cell_type": "code",
   "execution_count": 15,
   "id": "26f2a241",
   "metadata": {
    "execution": {
     "iopub.execute_input": "2021-11-11T18:17:41.757300Z",
     "iopub.status.busy": "2021-11-11T18:17:41.756582Z",
     "iopub.status.idle": "2021-11-11T18:17:42.069592Z",
     "shell.execute_reply": "2021-11-11T18:17:42.068911Z",
     "shell.execute_reply.started": "2021-11-11T18:13:38.492770Z"
    },
    "papermill": {
     "duration": 0.365285,
     "end_time": "2021-11-11T18:17:42.069715",
     "exception": false,
     "start_time": "2021-11-11T18:17:41.704430",
     "status": "completed"
    },
    "tags": []
   },
   "outputs": [
    {
     "data": {
      "text/plain": [
       "<matplotlib.legend.Legend at 0x7f44d426dd50>"
      ]
     },
     "execution_count": 15,
     "metadata": {},
     "output_type": "execute_result"
    },
    {
     "data": {
      "image/png": "[encoded data removed]",
      "text/plain": [
       "<Figure size 1152x432 with 1 Axes>"
      ]
     },
     "metadata": {
      "needs_background": "light"
     },
     "output_type": "display_data"
    }
   ],
   "source": [
    "plt.figure(figsize=(16,6))\n",
    "sns.countplot(x=df['marital.status'], hue=df.income)\n",
    "plt.title(\"\")\n",
    "plt.xlabel('Work Class')\n",
    "plt.ylabel('Count')\n",
    "plt.legend()"
   ]
  },
  {
   "cell_type": "code",
   "execution_count": 16,
   "id": "eb199083",
   "metadata": {
    "execution": {
     "iopub.execute_input": "2021-11-11T18:17:42.139407Z",
     "iopub.status.busy": "2021-11-11T18:17:42.138610Z",
     "iopub.status.idle": "2021-11-11T18:17:42.144303Z",
     "shell.execute_reply": "2021-11-11T18:17:42.143843Z",
     "shell.execute_reply.started": "2021-11-11T18:13:38.903529Z"
    },
    "papermill": {
     "duration": 0.043229,
     "end_time": "2021-11-11T18:17:42.144431",
     "exception": false,
     "start_time": "2021-11-11T18:17:42.101202",
     "status": "completed"
    },
    "tags": []
   },
   "outputs": [
    {
     "data": {
      "text/plain": [
       "array(['?', 'Exec-managerial', 'Machine-op-inspct', 'Prof-specialty',\n",
       "       'Other-service', 'Adm-clerical', 'Craft-repair',\n",
       "       'Transport-moving', 'Handlers-cleaners', 'Sales',\n",
       "       'Farming-fishing', 'Tech-support', 'Protective-serv',\n",
       "       'Armed-Forces', 'Priv-house-serv'], dtype=object)"
      ]
     },
     "execution_count": 16,
     "metadata": {},
     "output_type": "execute_result"
    }
   ],
   "source": [
    "df.occupation.unique()"
   ]
  },
  {
   "cell_type": "code",
   "execution_count": 17,
   "id": "1128edc8",
   "metadata": {
    "execution": {
     "iopub.execute_input": "2021-11-11T18:17:42.216010Z",
     "iopub.status.busy": "2021-11-11T18:17:42.215223Z",
     "iopub.status.idle": "2021-11-11T18:17:42.220781Z",
     "shell.execute_reply": "2021-11-11T18:17:42.220248Z",
     "shell.execute_reply.started": "2021-11-11T18:13:38.918963Z"
    },
    "papermill": {
     "duration": 0.043245,
     "end_time": "2021-11-11T18:17:42.220900",
     "exception": false,
     "start_time": "2021-11-11T18:17:42.177655",
     "status": "completed"
    },
    "tags": []
   },
   "outputs": [
    {
     "data": {
      "text/plain": [
       "array(['Not-in-family', 'Unmarried', 'Own-child', 'Other-relative',\n",
       "       'Husband', 'Wife'], dtype=object)"
      ]
     },
     "execution_count": 17,
     "metadata": {},
     "output_type": "execute_result"
    }
   ],
   "source": [
    "df['relationship'].unique()"
   ]
  },
  {
   "cell_type": "code",
   "execution_count": 18,
   "id": "44e13187",
   "metadata": {
    "execution": {
     "iopub.execute_input": "2021-11-11T18:17:42.294038Z",
     "iopub.status.busy": "2021-11-11T18:17:42.293394Z",
     "iopub.status.idle": "2021-11-11T18:17:42.453253Z",
     "shell.execute_reply": "2021-11-11T18:17:42.453719Z",
     "shell.execute_reply.started": "2021-11-11T18:13:38.933546Z"
    },
    "papermill": {
     "duration": 0.201604,
     "end_time": "2021-11-11T18:17:42.453861",
     "exception": false,
     "start_time": "2021-11-11T18:17:42.252257",
     "status": "completed"
    },
    "tags": []
   },
   "outputs": [
    {
     "data": {
      "text/plain": [
       "Text(0.5, 1.0, 'Relationships')"
      ]
     },
     "execution_count": 18,
     "metadata": {},
     "output_type": "execute_result"
    },
    {
     "data": {
      "image/png": "[encoded data removed]",
      "text/plain": [
       "<Figure size 720x576 with 1 Axes>"
      ]
     },
     "metadata": {},
     "output_type": "display_data"
    }
   ],
   "source": [
    "data = df['relationship'].value_counts()\n",
    "plt.figure(figsize=(10,8))\n",
    "data.plot.pie(autopct=\"%.1f%%\")\n",
    "plt.title('Relationships')"
   ]
  },
  {
   "cell_type": "code",
   "execution_count": 19,
   "id": "0a1bef67",
   "metadata": {
    "execution": {
     "iopub.execute_input": "2021-11-11T18:17:42.546653Z",
     "iopub.status.busy": "2021-11-11T18:17:42.527155Z",
     "iopub.status.idle": "2021-11-11T18:17:42.856818Z",
     "shell.execute_reply": "2021-11-11T18:17:42.856109Z",
     "shell.execute_reply.started": "2021-11-11T18:13:39.139917Z"
    },
    "papermill": {
     "duration": 0.368565,
     "end_time": "2021-11-11T18:17:42.856960",
     "exception": false,
     "start_time": "2021-11-11T18:17:42.488395",
     "status": "completed"
    },
    "tags": []
   },
   "outputs": [
    {
     "data": {
      "text/plain": [
       "<matplotlib.legend.Legend at 0x7f44d4127fd0>"
      ]
     },
     "execution_count": 19,
     "metadata": {},
     "output_type": "execute_result"
    },
    {
     "data": {
      "image/png": "[encoded data removed]",
      "text/plain": [
       "<Figure size 1152x432 with 1 Axes>"
      ]
     },
     "metadata": {
      "needs_background": "light"
     },
     "output_type": "display_data"
    }
   ],
   "source": [
    "plt.figure(figsize=(16,6))\n",
    "sns.countplot(x=df.race, hue=df.income)\n",
    "plt.title(\"\")\n",
    "plt.xlabel('Work Class')\n",
    "plt.ylabel('Count')\n",
    "plt.legend()"
   ]
  },
  {
   "cell_type": "code",
   "execution_count": 20,
   "id": "dc2e4407",
   "metadata": {
    "execution": {
     "iopub.execute_input": "2021-11-11T18:17:42.932581Z",
     "iopub.status.busy": "2021-11-11T18:17:42.931823Z",
     "iopub.status.idle": "2021-11-11T18:17:43.011033Z",
     "shell.execute_reply": "2021-11-11T18:17:43.011607Z",
     "shell.execute_reply.started": "2021-11-11T18:13:39.529679Z"
    },
    "papermill": {
     "duration": 0.120588,
     "end_time": "2021-11-11T18:17:43.011768",
     "exception": false,
     "start_time": "2021-11-11T18:17:42.891180",
     "status": "completed"
    },
    "tags": []
   },
   "outputs": [
    {
     "name": "stdout",
     "output_type": "stream",
     "text": [
      "Percentage of race who earn >50K \n",
      "White\n",
      "25.601640346775064\n",
      "Black\n",
      "12.399871835950016\n",
      "Asian-Pac-Islander\n",
      "26.589595375722542\n",
      "Other\n",
      "9.22509225092251\n",
      "Amer-Indian-Eskimo\n",
      "11.57556270096463\n"
     ]
    }
   ],
   "source": [
    "race = df.race.unique()\n",
    "\n",
    "print('Percentage of race who earn >50K ')\n",
    "for i in race:\n",
    "  val = len(df[(df.race == i) & (df.income == '>50K')])\n",
    "  tot = len(df[df.race == i])\n",
    "  print(i)\n",
    "  print((val/tot)*100)"
   ]
  },
  {
   "cell_type": "code",
   "execution_count": 21,
   "id": "b8c5f96e",
   "metadata": {
    "execution": {
     "iopub.execute_input": "2021-11-11T18:17:43.101966Z",
     "iopub.status.busy": "2021-11-11T18:17:43.093168Z",
     "iopub.status.idle": "2021-11-11T18:17:43.502404Z",
     "shell.execute_reply": "2021-11-11T18:17:43.502920Z",
     "shell.execute_reply.started": "2021-11-11T18:13:39.634518Z"
    },
    "papermill": {
     "duration": 0.457007,
     "end_time": "2021-11-11T18:17:43.503071",
     "exception": false,
     "start_time": "2021-11-11T18:17:43.046064",
     "status": "completed"
    },
    "tags": []
   },
   "outputs": [
    {
     "data": {
      "image/png": "[encoded data removed]",
      "text/plain": [
       "<Figure size 432x288 with 1 Axes>"
      ]
     },
     "metadata": {
      "needs_background": "light"
     },
     "output_type": "display_data"
    }
   ],
   "source": [
    "sns.kdeplot(data=df['capital.gain'], shade=True)\n",
    "plt.show()"
   ]
  },
  {
   "cell_type": "code",
   "execution_count": 22,
   "id": "9c76971c",
   "metadata": {
    "execution": {
     "iopub.execute_input": "2021-11-11T18:17:43.596978Z",
     "iopub.status.busy": "2021-11-11T18:17:43.583281Z",
     "iopub.status.idle": "2021-11-11T18:17:44.020540Z",
     "shell.execute_reply": "2021-11-11T18:17:44.020997Z",
     "shell.execute_reply.started": "2021-11-11T18:13:40.117010Z"
    },
    "papermill": {
     "duration": 0.481761,
     "end_time": "2021-11-11T18:17:44.021140",
     "exception": false,
     "start_time": "2021-11-11T18:17:43.539379",
     "status": "completed"
    },
    "tags": []
   },
   "outputs": [
    {
     "data": {
      "text/plain": [
       "<AxesSubplot:xlabel='hours.per.week', ylabel='Density'>"
      ]
     },
     "execution_count": 22,
     "metadata": {},
     "output_type": "execute_result"
    },
    {
     "data": {
      "image/png": "[encoded data removed]",
      "text/plain": [
       "<Figure size 432x288 with 1 Axes>"
      ]
     },
     "metadata": {
      "needs_background": "light"
     },
     "output_type": "display_data"
    }
   ],
   "source": [
    "sns.kdeplot(data=df['hours.per.week'], shade=True)"
   ]
  },
  {
   "cell_type": "code",
   "execution_count": 23,
   "id": "8416357c",
   "metadata": {
    "execution": {
     "iopub.execute_input": "2021-11-11T18:17:44.097559Z",
     "iopub.status.busy": "2021-11-11T18:17:44.096811Z",
     "iopub.status.idle": "2021-11-11T18:17:44.101946Z",
     "shell.execute_reply": "2021-11-11T18:17:44.102311Z",
     "shell.execute_reply.started": "2021-11-11T18:13:40.624593Z"
    },
    "papermill": {
     "duration": 0.045782,
     "end_time": "2021-11-11T18:17:44.102461",
     "exception": false,
     "start_time": "2021-11-11T18:17:44.056679",
     "status": "completed"
    },
    "tags": []
   },
   "outputs": [
    {
     "data": {
      "text/plain": [
       "array(['United-States', '?', 'Mexico', 'Greece', 'Vietnam', 'China',\n",
       "       'Taiwan', 'India', 'Philippines', 'Trinadad&Tobago', 'Canada',\n",
       "       'South', 'Holand-Netherlands', 'Puerto-Rico', 'Poland', 'Iran',\n",
       "       'England', 'Germany', 'Italy', 'Japan', 'Hong', 'Honduras', 'Cuba',\n",
       "       'Ireland', 'Cambodia', 'Peru', 'Nicaragua', 'Dominican-Republic',\n",
       "       'Haiti', 'El-Salvador', 'Hungary', 'Columbia', 'Guatemala',\n",
       "       'Jamaica', 'Ecuador', 'France', 'Yugoslavia', 'Scotland',\n",
       "       'Portugal', 'Laos', 'Thailand', 'Outlying-US(Guam-USVI-etc)'],\n",
       "      dtype=object)"
      ]
     },
     "execution_count": 23,
     "metadata": {},
     "output_type": "execute_result"
    }
   ],
   "source": [
    "df['native.country'].unique()"
   ]
  },
  {
   "cell_type": "code",
   "execution_count": 24,
   "id": "367a1920",
   "metadata": {
    "execution": {
     "iopub.execute_input": "2021-11-11T18:17:44.177185Z",
     "iopub.status.busy": "2021-11-11T18:17:44.176393Z",
     "iopub.status.idle": "2021-11-11T18:17:44.845940Z",
     "shell.execute_reply": "2021-11-11T18:17:44.846361Z",
     "shell.execute_reply.started": "2021-11-11T18:13:40.638251Z"
    },
    "papermill": {
     "duration": 0.708485,
     "end_time": "2021-11-11T18:17:44.846520",
     "exception": false,
     "start_time": "2021-11-11T18:17:44.138035",
     "status": "completed"
    },
    "tags": []
   },
   "outputs": [
    {
     "data": {
      "text/plain": [
       "Text(0.5, 1.0, 'Native Countries')"
      ]
     },
     "execution_count": 24,
     "metadata": {},
     "output_type": "execute_result"
    },
    {
     "data": {
      "image/png": "[encoded data removed]",
      "text/plain": [
       "<Figure size 720x720 with 1 Axes>"
      ]
     },
     "metadata": {},
     "output_type": "display_data"
    }
   ],
   "source": [
    "data = df['native.country'].value_counts()\n",
    "plt.figure(figsize=(10,10))\n",
    "data.plot.pie(autopct=\"%.1f%%\")\n",
    "plt.title('Native Countries')"
   ]
  },
  {
   "cell_type": "code",
   "execution_count": 25,
   "id": "8ba5bb09",
   "metadata": {
    "execution": {
     "iopub.execute_input": "2021-11-11T18:17:44.995028Z",
     "iopub.status.busy": "2021-11-11T18:17:44.994281Z",
     "iopub.status.idle": "2021-11-11T18:17:45.195039Z",
     "shell.execute_reply": "2021-11-11T18:17:45.195877Z",
     "shell.execute_reply.started": "2021-11-11T18:13:41.493572Z"
    },
    "papermill": {
     "duration": 0.311576,
     "end_time": "2021-11-11T18:17:45.196032",
     "exception": false,
     "start_time": "2021-11-11T18:17:44.884456",
     "status": "completed"
    },
    "tags": []
   },
   "outputs": [
    {
     "data": {
      "text/plain": [
       "<matplotlib.legend.Legend at 0x7f44d4056d10>"
      ]
     },
     "execution_count": 25,
     "metadata": {},
     "output_type": "execute_result"
    },
    {
     "data": {
      "image/png": "[encoded data removed]",
      "text/plain": [
       "<Figure size 1152x432 with 1 Axes>"
      ]
     },
     "metadata": {
      "needs_background": "light"
     },
     "output_type": "display_data"
    }
   ],
   "source": [
    "inc = df.income.value_counts()\n",
    "plt.figure(figsize=(16,6))\n",
    "sns.countplot(x=df['income'])\n",
    "plt.title(\"\")\n",
    "plt.xlabel('Income')\n",
    "plt.ylabel('Count')\n",
    "plt.legend()"
   ]
  },
  {
   "cell_type": "code",
   "execution_count": 26,
   "id": "ef69a4e9",
   "metadata": {
    "execution": {
     "iopub.execute_input": "2021-11-11T18:17:45.278984Z",
     "iopub.status.busy": "2021-11-11T18:17:45.278011Z",
     "iopub.status.idle": "2021-11-11T18:17:45.280908Z",
     "shell.execute_reply": "2021-11-11T18:17:45.281438Z",
     "shell.execute_reply.started": "2021-11-11T18:13:41.772882Z"
    },
    "papermill": {
     "duration": 0.046538,
     "end_time": "2021-11-11T18:17:45.281566",
     "exception": false,
     "start_time": "2021-11-11T18:17:45.235028",
     "status": "completed"
    },
    "tags": []
   },
   "outputs": [
    {
     "data": {
      "text/plain": [
       "Index(['age', 'workclass', 'fnlwgt', 'education', 'education.num',\n",
       "       'marital.status', 'occupation', 'relationship', 'race', 'sex',\n",
       "       'capital.gain', 'capital.loss', 'hours.per.week', 'native.country',\n",
       "       'income'],\n",
       "      dtype='object')"
      ]
     },
     "execution_count": 26,
     "metadata": {},
     "output_type": "execute_result"
    }
   ],
   "source": [
    "df.columns"
   ]
  },
  {
   "cell_type": "code",
   "execution_count": 27,
   "id": "d999c46f",
   "metadata": {
    "execution": {
     "iopub.execute_input": "2021-11-11T18:17:45.365237Z",
     "iopub.status.busy": "2021-11-11T18:17:45.364489Z",
     "iopub.status.idle": "2021-11-11T18:17:45.377129Z",
     "shell.execute_reply": "2021-11-11T18:17:45.376728Z",
     "shell.execute_reply.started": "2021-11-11T18:13:41.781752Z"
    },
    "papermill": {
     "duration": 0.056323,
     "end_time": "2021-11-11T18:17:45.377233",
     "exception": false,
     "start_time": "2021-11-11T18:17:45.320910",
     "status": "completed"
    },
    "tags": []
   },
   "outputs": [
    {
     "data": {
      "text/html": [
       "<div>\n",
       "<style scoped>\n",
       "    .dataframe tbody tr th:only-of-type {\n",
       "        vertical-align: middle;\n",
       "    }\n",
       "\n",
       "    .dataframe tbody tr th {\n",
       "        vertical-align: top;\n",
       "    }\n",
       "\n",
       "    .dataframe thead th {\n",
       "        text-align: right;\n",
       "    }\n",
       "</style>\n",
       "<table border=\"1\" class=\"dataframe\">\n",
       "  <thead>\n",
       "    <tr style=\"text-align: right;\">\n",
       "      <th></th>\n",
       "      <th>age</th>\n",
       "      <th>workclass</th>\n",
       "      <th>fnlwgt</th>\n",
       "      <th>education.num</th>\n",
       "      <th>marital.status</th>\n",
       "      <th>relationship</th>\n",
       "      <th>race</th>\n",
       "      <th>sex</th>\n",
       "      <th>capital.gain</th>\n",
       "      <th>capital.loss</th>\n",
       "      <th>hours.per.week</th>\n",
       "      <th>native.country</th>\n",
       "    </tr>\n",
       "  </thead>\n",
       "  <tbody>\n",
       "    <tr>\n",
       "      <th>0</th>\n",
       "      <td>90</td>\n",
       "      <td>?</td>\n",
       "      <td>77053</td>\n",
       "      <td>9</td>\n",
       "      <td>Widowed</td>\n",
       "      <td>Not-in-family</td>\n",
       "      <td>White</td>\n",
       "      <td>Female</td>\n",
       "      <td>0</td>\n",
       "      <td>4356</td>\n",
       "      <td>40</td>\n",
       "      <td>United-States</td>\n",
       "    </tr>\n",
       "    <tr>\n",
       "      <th>1</th>\n",
       "      <td>82</td>\n",
       "      <td>Private</td>\n",
       "      <td>132870</td>\n",
       "      <td>9</td>\n",
       "      <td>Widowed</td>\n",
       "      <td>Not-in-family</td>\n",
       "      <td>White</td>\n",
       "      <td>Female</td>\n",
       "      <td>0</td>\n",
       "      <td>4356</td>\n",
       "      <td>18</td>\n",
       "      <td>United-States</td>\n",
       "    </tr>\n",
       "    <tr>\n",
       "      <th>2</th>\n",
       "      <td>66</td>\n",
       "      <td>?</td>\n",
       "      <td>186061</td>\n",
       "      <td>10</td>\n",
       "      <td>Widowed</td>\n",
       "      <td>Unmarried</td>\n",
       "      <td>Black</td>\n",
       "      <td>Female</td>\n",
       "      <td>0</td>\n",
       "      <td>4356</td>\n",
       "      <td>40</td>\n",
       "      <td>United-States</td>\n",
       "    </tr>\n",
       "    <tr>\n",
       "      <th>3</th>\n",
       "      <td>54</td>\n",
       "      <td>Private</td>\n",
       "      <td>140359</td>\n",
       "      <td>4</td>\n",
       "      <td>Divorced</td>\n",
       "      <td>Unmarried</td>\n",
       "      <td>White</td>\n",
       "      <td>Female</td>\n",
       "      <td>0</td>\n",
       "      <td>3900</td>\n",
       "      <td>40</td>\n",
       "      <td>United-States</td>\n",
       "    </tr>\n",
       "    <tr>\n",
       "      <th>4</th>\n",
       "      <td>41</td>\n",
       "      <td>Private</td>\n",
       "      <td>264663</td>\n",
       "      <td>10</td>\n",
       "      <td>Separated</td>\n",
       "      <td>Own-child</td>\n",
       "      <td>White</td>\n",
       "      <td>Female</td>\n",
       "      <td>0</td>\n",
       "      <td>3900</td>\n",
       "      <td>40</td>\n",
       "      <td>United-States</td>\n",
       "    </tr>\n",
       "  </tbody>\n",
       "</table>\n",
       "</div>"
      ],
      "text/plain": [
       "   age workclass  fnlwgt  education.num marital.status   relationship   race  \\\n",
       "0   90         ?   77053              9        Widowed  Not-in-family  White   \n",
       "1   82   Private  132870              9        Widowed  Not-in-family  White   \n",
       "2   66         ?  186061             10        Widowed      Unmarried  Black   \n",
       "3   54   Private  140359              4       Divorced      Unmarried  White   \n",
       "4   41   Private  264663             10      Separated      Own-child  White   \n",
       "\n",
       "      sex  capital.gain  capital.loss  hours.per.week native.country  \n",
       "0  Female             0          4356              40  United-States  \n",
       "1  Female             0          4356              18  United-States  \n",
       "2  Female             0          4356              40  United-States  \n",
       "3  Female             0          3900              40  United-States  \n",
       "4  Female             0          3900              40  United-States  "
      ]
     },
     "execution_count": 27,
     "metadata": {},
     "output_type": "execute_result"
    }
   ],
   "source": [
    "X = df.drop(['education', 'income', 'occupation'], axis='columns')\n",
    "y = df.income\n",
    "\n",
    "X.head()"
   ]
  },
  {
   "cell_type": "code",
   "execution_count": 28,
   "id": "cd40e0bc",
   "metadata": {
    "execution": {
     "iopub.execute_input": "2021-11-11T18:17:45.461931Z",
     "iopub.status.busy": "2021-11-11T18:17:45.461226Z",
     "iopub.status.idle": "2021-11-11T18:17:45.622387Z",
     "shell.execute_reply": "2021-11-11T18:17:45.622774Z",
     "shell.execute_reply.started": "2021-11-11T18:13:41.817454Z"
    },
    "papermill": {
     "duration": 0.205317,
     "end_time": "2021-11-11T18:17:45.622916",
     "exception": false,
     "start_time": "2021-11-11T18:17:45.417599",
     "status": "completed"
    },
    "tags": []
   },
   "outputs": [
    {
     "data": {
      "text/html": [
       "<div>\n",
       "<style scoped>\n",
       "    .dataframe tbody tr th:only-of-type {\n",
       "        vertical-align: middle;\n",
       "    }\n",
       "\n",
       "    .dataframe tbody tr th {\n",
       "        vertical-align: top;\n",
       "    }\n",
       "\n",
       "    .dataframe thead th {\n",
       "        text-align: right;\n",
       "    }\n",
       "</style>\n",
       "<table border=\"1\" class=\"dataframe\">\n",
       "  <thead>\n",
       "    <tr style=\"text-align: right;\">\n",
       "      <th></th>\n",
       "      <th>age</th>\n",
       "      <th>workclass</th>\n",
       "      <th>fnlwgt</th>\n",
       "      <th>education.num</th>\n",
       "      <th>marital.status</th>\n",
       "      <th>relationship</th>\n",
       "      <th>race</th>\n",
       "      <th>sex</th>\n",
       "      <th>capital.gain</th>\n",
       "      <th>capital.loss</th>\n",
       "      <th>hours.per.week</th>\n",
       "      <th>native.country</th>\n",
       "    </tr>\n",
       "  </thead>\n",
       "  <tbody>\n",
       "    <tr>\n",
       "      <th>0</th>\n",
       "      <td>90</td>\n",
       "      <td>0</td>\n",
       "      <td>77053</td>\n",
       "      <td>9</td>\n",
       "      <td>6</td>\n",
       "      <td>1</td>\n",
       "      <td>4</td>\n",
       "      <td>0</td>\n",
       "      <td>0</td>\n",
       "      <td>4356</td>\n",
       "      <td>40</td>\n",
       "      <td>39</td>\n",
       "    </tr>\n",
       "    <tr>\n",
       "      <th>1</th>\n",
       "      <td>82</td>\n",
       "      <td>3</td>\n",
       "      <td>132870</td>\n",
       "      <td>9</td>\n",
       "      <td>6</td>\n",
       "      <td>1</td>\n",
       "      <td>4</td>\n",
       "      <td>0</td>\n",
       "      <td>0</td>\n",
       "      <td>4356</td>\n",
       "      <td>18</td>\n",
       "      <td>39</td>\n",
       "    </tr>\n",
       "    <tr>\n",
       "      <th>2</th>\n",
       "      <td>66</td>\n",
       "      <td>0</td>\n",
       "      <td>186061</td>\n",
       "      <td>10</td>\n",
       "      <td>6</td>\n",
       "      <td>4</td>\n",
       "      <td>2</td>\n",
       "      <td>0</td>\n",
       "      <td>0</td>\n",
       "      <td>4356</td>\n",
       "      <td>40</td>\n",
       "      <td>39</td>\n",
       "    </tr>\n",
       "    <tr>\n",
       "      <th>3</th>\n",
       "      <td>54</td>\n",
       "      <td>3</td>\n",
       "      <td>140359</td>\n",
       "      <td>4</td>\n",
       "      <td>0</td>\n",
       "      <td>4</td>\n",
       "      <td>4</td>\n",
       "      <td>0</td>\n",
       "      <td>0</td>\n",
       "      <td>3900</td>\n",
       "      <td>40</td>\n",
       "      <td>39</td>\n",
       "    </tr>\n",
       "    <tr>\n",
       "      <th>4</th>\n",
       "      <td>41</td>\n",
       "      <td>3</td>\n",
       "      <td>264663</td>\n",
       "      <td>10</td>\n",
       "      <td>5</td>\n",
       "      <td>3</td>\n",
       "      <td>4</td>\n",
       "      <td>0</td>\n",
       "      <td>0</td>\n",
       "      <td>3900</td>\n",
       "      <td>40</td>\n",
       "      <td>39</td>\n",
       "    </tr>\n",
       "  </tbody>\n",
       "</table>\n",
       "</div>"
      ],
      "text/plain": [
       "   age  workclass  fnlwgt  education.num  marital.status  relationship  race  \\\n",
       "0   90          0   77053              9               6             1     4   \n",
       "1   82          3  132870              9               6             1     4   \n",
       "2   66          0  186061             10               6             4     2   \n",
       "3   54          3  140359              4               0             4     4   \n",
       "4   41          3  264663             10               5             3     4   \n",
       "\n",
       "   sex  capital.gain  capital.loss  hours.per.week  native.country  \n",
       "0    0             0          4356              40              39  \n",
       "1    0             0          4356              18              39  \n",
       "2    0             0          4356              40              39  \n",
       "3    0             0          3900              40              39  \n",
       "4    0             0          3900              40              39  "
      ]
     },
     "execution_count": 28,
     "metadata": {},
     "output_type": "execute_result"
    }
   ],
   "source": [
    "from sklearn.preprocessing import LabelEncoder\n",
    "le = LabelEncoder()\n",
    "col = ['workclass', 'marital.status', 'relationship', 'race', 'sex', 'native.country']\n",
    "for i in col:\n",
    "  X[i] = le.fit_transform(X[i])\n",
    "\n",
    "X.head()"
   ]
  },
  {
   "cell_type": "code",
   "execution_count": 29,
   "id": "14e73c09",
   "metadata": {
    "execution": {
     "iopub.execute_input": "2021-11-11T18:17:45.713033Z",
     "iopub.status.busy": "2021-11-11T18:17:45.712114Z",
     "iopub.status.idle": "2021-11-11T18:17:45.844325Z",
     "shell.execute_reply": "2021-11-11T18:17:45.844809Z",
     "shell.execute_reply.started": "2021-11-11T18:13:42.043504Z"
    },
    "papermill": {
     "duration": 0.181547,
     "end_time": "2021-11-11T18:17:45.844956",
     "exception": false,
     "start_time": "2021-11-11T18:17:45.663409",
     "status": "completed"
    },
    "tags": []
   },
   "outputs": [
    {
     "data": {
      "text/html": [
       "<div>\n",
       "<style scoped>\n",
       "    .dataframe tbody tr th:only-of-type {\n",
       "        vertical-align: middle;\n",
       "    }\n",
       "\n",
       "    .dataframe tbody tr th {\n",
       "        vertical-align: top;\n",
       "    }\n",
       "\n",
       "    .dataframe thead th {\n",
       "        text-align: right;\n",
       "    }\n",
       "</style>\n",
       "<table border=\"1\" class=\"dataframe\">\n",
       "  <thead>\n",
       "    <tr style=\"text-align: right;\">\n",
       "      <th></th>\n",
       "      <th>age</th>\n",
       "      <th>workclass</th>\n",
       "      <th>fnlwgt</th>\n",
       "      <th>education.num</th>\n",
       "      <th>marital.status</th>\n",
       "      <th>relationship</th>\n",
       "      <th>race</th>\n",
       "      <th>sex</th>\n",
       "      <th>capital.gain</th>\n",
       "      <th>capital.loss</th>\n",
       "      <th>hours.per.week</th>\n",
       "      <th>native.country</th>\n",
       "    </tr>\n",
       "  </thead>\n",
       "  <tbody>\n",
       "    <tr>\n",
       "      <th>0</th>\n",
       "      <td>1.000000</td>\n",
       "      <td>0</td>\n",
       "      <td>0.043987</td>\n",
       "      <td>9</td>\n",
       "      <td>6</td>\n",
       "      <td>1</td>\n",
       "      <td>4</td>\n",
       "      <td>0</td>\n",
       "      <td>0.0</td>\n",
       "      <td>1.000000</td>\n",
       "      <td>0.397959</td>\n",
       "      <td>39</td>\n",
       "    </tr>\n",
       "    <tr>\n",
       "      <th>1</th>\n",
       "      <td>0.890411</td>\n",
       "      <td>3</td>\n",
       "      <td>0.081896</td>\n",
       "      <td>9</td>\n",
       "      <td>6</td>\n",
       "      <td>1</td>\n",
       "      <td>4</td>\n",
       "      <td>0</td>\n",
       "      <td>0.0</td>\n",
       "      <td>1.000000</td>\n",
       "      <td>0.173469</td>\n",
       "      <td>39</td>\n",
       "    </tr>\n",
       "    <tr>\n",
       "      <th>2</th>\n",
       "      <td>0.671233</td>\n",
       "      <td>0</td>\n",
       "      <td>0.118021</td>\n",
       "      <td>10</td>\n",
       "      <td>6</td>\n",
       "      <td>4</td>\n",
       "      <td>2</td>\n",
       "      <td>0</td>\n",
       "      <td>0.0</td>\n",
       "      <td>1.000000</td>\n",
       "      <td>0.397959</td>\n",
       "      <td>39</td>\n",
       "    </tr>\n",
       "    <tr>\n",
       "      <th>3</th>\n",
       "      <td>0.506849</td>\n",
       "      <td>3</td>\n",
       "      <td>0.086982</td>\n",
       "      <td>4</td>\n",
       "      <td>0</td>\n",
       "      <td>4</td>\n",
       "      <td>4</td>\n",
       "      <td>0</td>\n",
       "      <td>0.0</td>\n",
       "      <td>0.895317</td>\n",
       "      <td>0.397959</td>\n",
       "      <td>39</td>\n",
       "    </tr>\n",
       "    <tr>\n",
       "      <th>4</th>\n",
       "      <td>0.328767</td>\n",
       "      <td>3</td>\n",
       "      <td>0.171404</td>\n",
       "      <td>10</td>\n",
       "      <td>5</td>\n",
       "      <td>3</td>\n",
       "      <td>4</td>\n",
       "      <td>0</td>\n",
       "      <td>0.0</td>\n",
       "      <td>0.895317</td>\n",
       "      <td>0.397959</td>\n",
       "      <td>39</td>\n",
       "    </tr>\n",
       "  </tbody>\n",
       "</table>\n",
       "</div>"
      ],
      "text/plain": [
       "        age  workclass    fnlwgt  education.num  marital.status  relationship  \\\n",
       "0  1.000000          0  0.043987              9               6             1   \n",
       "1  0.890411          3  0.081896              9               6             1   \n",
       "2  0.671233          0  0.118021             10               6             4   \n",
       "3  0.506849          3  0.086982              4               0             4   \n",
       "4  0.328767          3  0.171404             10               5             3   \n",
       "\n",
       "   race  sex  capital.gain  capital.loss  hours.per.week  native.country  \n",
       "0     4    0           0.0      1.000000        0.397959              39  \n",
       "1     4    0           0.0      1.000000        0.173469              39  \n",
       "2     2    0           0.0      1.000000        0.397959              39  \n",
       "3     4    0           0.0      0.895317        0.397959              39  \n",
       "4     4    0           0.0      0.895317        0.397959              39  "
      ]
     },
     "execution_count": 29,
     "metadata": {},
     "output_type": "execute_result"
    }
   ],
   "source": [
    "from sklearn.preprocessing import MinMaxScaler\n",
    "scaler = MinMaxScaler()\n",
    "cols = ['age', 'fnlwgt', 'capital.gain', 'capital.loss', 'hours.per.week']\n",
    "X[cols] = scaler.fit_transform(X[cols])\n",
    "\n",
    "X.head()"
   ]
  },
  {
   "cell_type": "code",
   "execution_count": 30,
   "id": "993c9728",
   "metadata": {
    "execution": {
     "iopub.execute_input": "2021-11-11T18:17:45.943676Z",
     "iopub.status.busy": "2021-11-11T18:17:45.942845Z",
     "iopub.status.idle": "2021-11-11T18:18:33.772139Z",
     "shell.execute_reply": "2021-11-11T18:18:33.772629Z",
     "shell.execute_reply.started": "2021-11-11T18:16:15.380445Z"
    },
    "papermill": {
     "duration": 47.885049,
     "end_time": "2021-11-11T18:18:33.772784",
     "exception": false,
     "start_time": "2021-11-11T18:17:45.887735",
     "status": "completed"
    },
    "tags": []
   },
   "outputs": [
    {
     "name": "stderr",
     "output_type": "stream",
     "text": [
      "2021-11-11 18:17:49.762517: I tensorflow/stream_executor/cuda/cuda_gpu_executor.cc:937] successful NUMA node read from SysFS had negative value (-1), but there must be at least one NUMA node, so returning NUMA node zero\n",
      "2021-11-11 18:17:49.869298: I tensorflow/stream_executor/cuda/cuda_gpu_executor.cc:937] successful NUMA node read from SysFS had negative value (-1), but there must be at least one NUMA node, so returning NUMA node zero\n",
      "2021-11-11 18:17:49.870039: I tensorflow/stream_executor/cuda/cuda_gpu_executor.cc:937] successful NUMA node read from SysFS had negative value (-1), but there must be at least one NUMA node, so returning NUMA node zero\n",
      "2021-11-11 18:17:49.871307: I tensorflow/core/platform/cpu_feature_guard.cc:142] This TensorFlow binary is optimized with oneAPI Deep Neural Network Library (oneDNN) to use the following CPU instructions in performance-critical operations:  AVX2 AVX512F FMA\n",
      "To enable them in other operations, rebuild TensorFlow with the appropriate compiler flags.\n",
      "2021-11-11 18:17:49.872174: I tensorflow/stream_executor/cuda/cuda_gpu_executor.cc:937] successful NUMA node read from SysFS had negative value (-1), but there must be at least one NUMA node, so returning NUMA node zero\n",
      "2021-11-11 18:17:49.872915: I tensorflow/stream_executor/cuda/cuda_gpu_executor.cc:937] successful NUMA node read from SysFS had negative value (-1), but there must be at least one NUMA node, so returning NUMA node zero\n",
      "2021-11-11 18:17:49.873585: I tensorflow/stream_executor/cuda/cuda_gpu_executor.cc:937] successful NUMA node read from SysFS had negative value (-1), but there must be at least one NUMA node, so returning NUMA node zero\n",
      "2021-11-11 18:17:51.800690: I tensorflow/stream_executor/cuda/cuda_gpu_executor.cc:937] successful NUMA node read from SysFS had negative value (-1), but there must be at least one NUMA node, so returning NUMA node zero\n",
      "2021-11-11 18:17:51.801483: I tensorflow/stream_executor/cuda/cuda_gpu_executor.cc:937] successful NUMA node read from SysFS had negative value (-1), but there must be at least one NUMA node, so returning NUMA node zero\n",
      "2021-11-11 18:17:51.802155: I tensorflow/stream_executor/cuda/cuda_gpu_executor.cc:937] successful NUMA node read from SysFS had negative value (-1), but there must be at least one NUMA node, so returning NUMA node zero\n",
      "2021-11-11 18:17:51.802759: I tensorflow/core/common_runtime/gpu/gpu_device.cc:1510] Created device /job:localhost/replica:0/task:0/device:GPU:0 with 15403 MB memory:  -> device: 0, name: Tesla P100-PCIE-16GB, pci bus id: 0000:00:04.0, compute capability: 6.0\n",
      "2021-11-11 18:17:52.250418: I tensorflow/compiler/mlir/mlir_graph_optimization_pass.cc:185] None of the MLIR Optimization Passes are enabled (registered 2)\n"
     ]
    },
    {
     "name": "stdout",
     "output_type": "stream",
     "text": [
      "Epoch 1/10\n",
      "814/814 [==============================] - 3s 2ms/step - loss: 0.7962 - accuracy: 0.7208\n",
      "Epoch 2/10\n",
      "814/814 [==============================] - 2s 2ms/step - loss: 0.4417 - accuracy: 0.7980\n",
      "Epoch 3/10\n",
      "814/814 [==============================] - 2s 2ms/step - loss: 0.4122 - accuracy: 0.8098\n",
      "Epoch 4/10\n",
      "814/814 [==============================] - 2s 2ms/step - loss: 0.3912 - accuracy: 0.8171\n",
      "Epoch 5/10\n",
      "814/814 [==============================] - 2s 3ms/step - loss: 0.3792 - accuracy: 0.8197\n",
      "Epoch 6/10\n",
      "814/814 [==============================] - 2s 2ms/step - loss: 0.3716 - accuracy: 0.8237\n",
      "Epoch 7/10\n",
      "814/814 [==============================] - 2s 2ms/step - loss: 0.3677 - accuracy: 0.8280\n",
      "Epoch 8/10\n",
      "814/814 [==============================] - 2s 2ms/step - loss: 0.3615 - accuracy: 0.8295\n",
      "Epoch 9/10\n",
      "814/814 [==============================] - 2s 2ms/step - loss: 0.3585 - accuracy: 0.8301\n",
      "Epoch 10/10\n",
      "814/814 [==============================] - 2s 3ms/step - loss: 0.3542 - accuracy: 0.8342\n"
     ]
    },
    {
     "data": {
      "text/plain": [
       "<keras.callbacks.History at 0x7f4472c1bc50>"
      ]
     },
     "execution_count": 30,
     "metadata": {},
     "output_type": "execute_result"
    }
   ],
   "source": [
    "y = le.fit_transform(y)\n",
    "from sklearn.model_selection import train_test_split\n",
    "X_train, X_test, y_train, y_test = train_test_split(X, y, test_size=0.2, random_state=5)\n",
    "import tensorflow as tf\n",
    "from tensorflow import keras\n",
    "\n",
    "model = keras.Sequential([keras.layers.Dense(12, input_shape=(12,), activation='relu'),\n",
    "                          keras.layers.Dense(12, activation='relu'),\n",
    "                          keras.layers.Dense(1, activation='sigmoid')])\n",
    "model.compile(optimizer='adam', loss='binary_crossentropy', metrics=['accuracy'])\n",
    "model.fit(X_train, y_train, epochs=10)"
   ]
  },
  {
   "cell_type": "code",
   "execution_count": 31,
   "id": "38b4012d",
   "metadata": {
    "execution": {
     "iopub.execute_input": "2021-11-11T18:18:34.077009Z",
     "iopub.status.busy": "2021-11-11T18:18:34.076160Z",
     "iopub.status.idle": "2021-11-11T18:18:34.352587Z",
     "shell.execute_reply": "2021-11-11T18:18:34.352121Z",
     "shell.execute_reply.started": "2021-11-11T18:16:14.831525Z"
    },
    "papermill": {
     "duration": 0.434524,
     "end_time": "2021-11-11T18:18:34.352748",
     "exception": false,
     "start_time": "2021-11-11T18:18:33.918224",
     "status": "completed"
    },
    "tags": []
   },
   "outputs": [
    {
     "data": {
      "text/plain": [
       "[0, 0, 0, 0, 0, 0, 0, 0, 0, 0]"
      ]
     },
     "execution_count": 31,
     "metadata": {},
     "output_type": "execute_result"
    }
   ],
   "source": [
    "pred = model.predict(X_test)\n",
    "prediction = []\n",
    "for element in pred:\n",
    "    if element > 0.5:\n",
    "        prediction.append(1)\n",
    "    else:\n",
    "        prediction.append(0)\n",
    "prediction[:10]"
   ]
  },
  {
   "cell_type": "code",
   "execution_count": 32,
   "id": "99abec3e",
   "metadata": {
    "execution": {
     "iopub.execute_input": "2021-11-11T18:18:34.646624Z",
     "iopub.status.busy": "2021-11-11T18:18:34.645981Z",
     "iopub.status.idle": "2021-11-11T18:18:34.663778Z",
     "shell.execute_reply": "2021-11-11T18:18:34.664169Z",
     "shell.execute_reply.started": "2021-11-11T18:16:15.350939Z"
    },
    "papermill": {
     "duration": 0.166597,
     "end_time": "2021-11-11T18:18:34.664313",
     "exception": false,
     "start_time": "2021-11-11T18:18:34.497716",
     "status": "completed"
    },
    "tags": []
   },
   "outputs": [
    {
     "name": "stdout",
     "output_type": "stream",
     "text": [
      "              precision    recall  f1-score   support\n",
      "\n",
      "           0       0.84      0.96      0.89      4903\n",
      "           1       0.77      0.44      0.56      1605\n",
      "\n",
      "    accuracy                           0.83      6508\n",
      "   macro avg       0.81      0.70      0.73      6508\n",
      "weighted avg       0.82      0.83      0.81      6508\n",
      "\n"
     ]
    }
   ],
   "source": [
    "from sklearn.metrics import classification_report\n",
    "\n",
    "print(classification_report(y_test, prediction))"
   ]
  }
 ],
 "metadata": {
  "kernelspec": {
   "display_name": "Python 3",
   "language": "python",
   "name": "python3"
  },
  "language_info": {
   "codemirror_mode": {
    "name": "ipython",
    "version": 3
   },
   "file_extension": ".py",
   "mimetype": "text/x-python",
   "name": "python",
   "nbconvert_exporter": "python",
   "pygments_lexer": "ipython3",
   "version": "3.7.10"
  },
  "papermill": {
   "default_parameters": {},
   "duration": 69.558307,
   "end_time": "2021-11-11T18:18:38.115128",
   "environment_variables": {},
   "exception": null,
   "input_path": "__notebook__.ipynb",
   "output_path": "__notebook__.ipynb",
   "parameters": {},
   "start_time": "2021-11-11T18:17:28.556821",
   "version": "2.3.3"
  }
 },
 "nbformat": 4,
 "nbformat_minor": 5
}
