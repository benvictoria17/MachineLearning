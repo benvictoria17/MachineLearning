{
 "cells": [
  {
   "cell_type": "code",
   "execution_count": 1,
   "metadata": {
    "_cell_guid": "9c3798b2-8bf6-40f0-ba22-e22efd44b8ae",
    "_uuid": "b2c4a03869fc7c25eac87abf5f440c04dba3bcb1",
    "collapsed": true
   },
   "outputs": [],
   "source": [
    "#Let's do the usual imports\n",
    "import pandas as pd\n",
    "import numpy as np\n",
    "import seaborn as sns\n",
    "import matplotlib.pyplot as plt\n",
    "%matplotlib inline"
   ]
  },
  {
   "cell_type": "code",
   "execution_count": 2,
   "metadata": {
    "_cell_guid": "4b35b51a-c532-413e-926c-a3309a104980",
    "_uuid": "cefc180c7757bd280c4270d0936a146b0dd6cc81",
    "collapsed": true
   },
   "outputs": [],
   "source": [
    "#Reading Our data\n",
    "df= pd.read_csv('../input/crypto-markets.csv', parse_dates=['date'], index_col='date')"
   ]
  },
  {
   "cell_type": "code",
   "execution_count": 3,
   "metadata": {
    "_cell_guid": "f0fd7a9d-453a-4b64-af72-1a947ddfcce8",
    "_uuid": "088e08461a36257d1b78cd0bff5c034cb3e400e4"
   },
   "outputs": [
    {
     "data": {
      "text/html": [
       "<div>\n",
       "<style>\n",
       "    .dataframe thead tr:only-child th {\n",
       "        text-align: right;\n",
       "    }\n",
       "\n",
       "    .dataframe thead th {\n",
       "        text-align: left;\n",
       "    }\n",
       "\n",
       "    .dataframe tbody tr th {\n",
       "        vertical-align: top;\n",
       "    }\n",
       "</style>\n",
       "<table border=\"1\" class=\"dataframe\">\n",
       "  <thead>\n",
       "    <tr style=\"text-align: right;\">\n",
       "      <th></th>\n",
       "      <th>symbol</th>\n",
       "      <th>open</th>\n",
       "      <th>high</th>\n",
       "      <th>low</th>\n",
       "      <th>close</th>\n",
       "      <th>volume</th>\n",
       "      <th>market</th>\n",
       "      <th>name</th>\n",
       "      <th>ranknow</th>\n",
       "    </tr>\n",
       "    <tr>\n",
       "      <th>date</th>\n",
       "      <th></th>\n",
       "      <th></th>\n",
       "      <th></th>\n",
       "      <th></th>\n",
       "      <th></th>\n",
       "      <th></th>\n",
       "      <th></th>\n",
       "      <th></th>\n",
       "      <th></th>\n",
       "    </tr>\n",
       "  </thead>\n",
       "  <tbody>\n",
       "    <tr>\n",
       "      <th>2013-04-28</th>\n",
       "      <td>BTC</td>\n",
       "      <td>135.30</td>\n",
       "      <td>135.98</td>\n",
       "      <td>132.10</td>\n",
       "      <td>134.21</td>\n",
       "      <td>0</td>\n",
       "      <td>1500520000</td>\n",
       "      <td>Bitcoin</td>\n",
       "      <td>1</td>\n",
       "    </tr>\n",
       "    <tr>\n",
       "      <th>2013-04-29</th>\n",
       "      <td>BTC</td>\n",
       "      <td>134.44</td>\n",
       "      <td>147.49</td>\n",
       "      <td>134.00</td>\n",
       "      <td>144.54</td>\n",
       "      <td>0</td>\n",
       "      <td>1491160000</td>\n",
       "      <td>Bitcoin</td>\n",
       "      <td>1</td>\n",
       "    </tr>\n",
       "    <tr>\n",
       "      <th>2013-04-30</th>\n",
       "      <td>BTC</td>\n",
       "      <td>144.00</td>\n",
       "      <td>146.93</td>\n",
       "      <td>134.05</td>\n",
       "      <td>139.00</td>\n",
       "      <td>0</td>\n",
       "      <td>1597780000</td>\n",
       "      <td>Bitcoin</td>\n",
       "      <td>1</td>\n",
       "    </tr>\n",
       "    <tr>\n",
       "      <th>2013-05-01</th>\n",
       "      <td>BTC</td>\n",
       "      <td>139.00</td>\n",
       "      <td>139.89</td>\n",
       "      <td>107.72</td>\n",
       "      <td>116.99</td>\n",
       "      <td>0</td>\n",
       "      <td>1542820000</td>\n",
       "      <td>Bitcoin</td>\n",
       "      <td>1</td>\n",
       "    </tr>\n",
       "    <tr>\n",
       "      <th>2013-05-02</th>\n",
       "      <td>BTC</td>\n",
       "      <td>116.38</td>\n",
       "      <td>125.60</td>\n",
       "      <td>92.28</td>\n",
       "      <td>105.21</td>\n",
       "      <td>0</td>\n",
       "      <td>1292190000</td>\n",
       "      <td>Bitcoin</td>\n",
       "      <td>1</td>\n",
       "    </tr>\n",
       "  </tbody>\n",
       "</table>\n",
       "</div>"
      ],
      "text/plain": [
       "           symbol    open    high     low   close  volume      market  \\\n",
       "date                                                                    \n",
       "2013-04-28    BTC  135.30  135.98  132.10  134.21       0  1500520000   \n",
       "2013-04-29    BTC  134.44  147.49  134.00  144.54       0  1491160000   \n",
       "2013-04-30    BTC  144.00  146.93  134.05  139.00       0  1597780000   \n",
       "2013-05-01    BTC  139.00  139.89  107.72  116.99       0  1542820000   \n",
       "2013-05-02    BTC  116.38  125.60   92.28  105.21       0  1292190000   \n",
       "\n",
       "               name  ranknow  \n",
       "date                          \n",
       "2013-04-28  Bitcoin        1  \n",
       "2013-04-29  Bitcoin        1  \n",
       "2013-04-30  Bitcoin        1  \n",
       "2013-05-01  Bitcoin        1  \n",
       "2013-05-02  Bitcoin        1  "
      ]
     },
     "execution_count": 3,
     "metadata": {},
     "output_type": "execute_result"
    }
   ],
   "source": [
    "df.head()"
   ]
  },
  {
   "cell_type": "code",
   "execution_count": 4,
   "metadata": {
    "_cell_guid": "7fda2606-22b2-4b41-9b28-4302bc2cd959",
    "_uuid": "91bf47bd388c0ef4a4c4d8ff7baa24e0bfa28067"
   },
   "outputs": [
    {
     "data": {
      "text/html": [
       "<div>\n",
       "<style>\n",
       "    .dataframe thead tr:only-child th {\n",
       "        text-align: right;\n",
       "    }\n",
       "\n",
       "    .dataframe thead th {\n",
       "        text-align: left;\n",
       "    }\n",
       "\n",
       "    .dataframe tbody tr th {\n",
       "        vertical-align: top;\n",
       "    }\n",
       "</style>\n",
       "<table border=\"1\" class=\"dataframe\">\n",
       "  <thead>\n",
       "    <tr style=\"text-align: right;\">\n",
       "      <th></th>\n",
       "      <th>symbol</th>\n",
       "      <th>open</th>\n",
       "      <th>high</th>\n",
       "      <th>low</th>\n",
       "      <th>close</th>\n",
       "      <th>volume</th>\n",
       "      <th>market</th>\n",
       "      <th>name</th>\n",
       "      <th>ranknow</th>\n",
       "    </tr>\n",
       "    <tr>\n",
       "      <th>date</th>\n",
       "      <th></th>\n",
       "      <th></th>\n",
       "      <th></th>\n",
       "      <th></th>\n",
       "      <th></th>\n",
       "      <th></th>\n",
       "      <th></th>\n",
       "      <th></th>\n",
       "      <th></th>\n",
       "    </tr>\n",
       "  </thead>\n",
       "  <tbody>\n",
       "    <tr>\n",
       "      <th>2017-12-17</th>\n",
       "      <td>IGNIS</td>\n",
       "      <td>2.090000</td>\n",
       "      <td>2.380000</td>\n",
       "      <td>2.090000</td>\n",
       "      <td>2.160000</td>\n",
       "      <td>10272</td>\n",
       "      <td>0</td>\n",
       "      <td>Ignis [Futures]</td>\n",
       "      <td>1367</td>\n",
       "    </tr>\n",
       "    <tr>\n",
       "      <th>2017-12-18</th>\n",
       "      <td>IGNIS</td>\n",
       "      <td>2.160000</td>\n",
       "      <td>2.640000</td>\n",
       "      <td>2.060000</td>\n",
       "      <td>2.540000</td>\n",
       "      <td>3385</td>\n",
       "      <td>0</td>\n",
       "      <td>Ignis [Futures]</td>\n",
       "      <td>1367</td>\n",
       "    </tr>\n",
       "    <tr>\n",
       "      <th>2017-12-17</th>\n",
       "      <td>BTCA</td>\n",
       "      <td>0.012830</td>\n",
       "      <td>0.014488</td>\n",
       "      <td>0.012793</td>\n",
       "      <td>0.014465</td>\n",
       "      <td>209739</td>\n",
       "      <td>0</td>\n",
       "      <td>Bitair</td>\n",
       "      <td>1368</td>\n",
       "    </tr>\n",
       "    <tr>\n",
       "      <th>2017-12-18</th>\n",
       "      <td>BTCA</td>\n",
       "      <td>0.014301</td>\n",
       "      <td>0.017507</td>\n",
       "      <td>0.010392</td>\n",
       "      <td>0.012712</td>\n",
       "      <td>223386</td>\n",
       "      <td>0</td>\n",
       "      <td>Bitair</td>\n",
       "      <td>1368</td>\n",
       "    </tr>\n",
       "    <tr>\n",
       "      <th>2017-12-18</th>\n",
       "      <td>LOC</td>\n",
       "      <td>0.693261</td>\n",
       "      <td>1.090000</td>\n",
       "      <td>0.684387</td>\n",
       "      <td>0.891086</td>\n",
       "      <td>169077</td>\n",
       "      <td>0</td>\n",
       "      <td>LockChain</td>\n",
       "      <td>1369</td>\n",
       "    </tr>\n",
       "  </tbody>\n",
       "</table>\n",
       "</div>"
      ],
      "text/plain": [
       "           symbol      open      high       low     close  volume  market  \\\n",
       "date                                                                        \n",
       "2017-12-17  IGNIS  2.090000  2.380000  2.090000  2.160000   10272       0   \n",
       "2017-12-18  IGNIS  2.160000  2.640000  2.060000  2.540000    3385       0   \n",
       "2017-12-17   BTCA  0.012830  0.014488  0.012793  0.014465  209739       0   \n",
       "2017-12-18   BTCA  0.014301  0.017507  0.010392  0.012712  223386       0   \n",
       "2017-12-18    LOC  0.693261  1.090000  0.684387  0.891086  169077       0   \n",
       "\n",
       "                       name  ranknow  \n",
       "date                                  \n",
       "2017-12-17  Ignis [Futures]     1367  \n",
       "2017-12-18  Ignis [Futures]     1367  \n",
       "2017-12-17           Bitair     1368  \n",
       "2017-12-18           Bitair     1368  \n",
       "2017-12-18        LockChain     1369  "
      ]
     },
     "execution_count": 4,
     "metadata": {},
     "output_type": "execute_result"
    }
   ],
   "source": [
    "df.tail()"
   ]
  },
  {
   "cell_type": "markdown",
   "metadata": {
    "_cell_guid": "509a7e63-de8e-401f-b9eb-f295b4cc14e7",
    "_uuid": "f991f4e79df9a802f7c58da9ecc4f4f06f7c7e2c"
   },
   "source": [
    "**We have a lot of cryptocurrencies. I'll just try to focus on Bitcoin here. Also notcie that there's no volume values. I wonder why?**"
   ]
  },
  {
   "cell_type": "code",
   "execution_count": 5,
   "metadata": {
    "_cell_guid": "cec3f22b-7b0d-4e1c-a1fe-1f2833a8608c",
    "_uuid": "09fdd967bb666a8d28c98267c04c3e5b80bcc984"
   },
   "outputs": [
    {
     "name": "stderr",
     "output_type": "stream",
     "text": [
      "/opt/conda/lib/python3.6/site-packages/ipykernel_launcher.py:2: SettingWithCopyWarning: \n",
      "A value is trying to be set on a copy of a slice from a DataFrame\n",
      "\n",
      "See the caveats in the documentation: http://pandas.pydata.org/pandas-docs/stable/indexing.html#indexing-view-versus-copy\n",
      "  \n"
     ]
    }
   ],
   "source": [
    "btc=df[df['symbol']=='BTC']#Extracting the bitcoin data from the dataframe\n",
    "btc.drop(['volume','symbol','name','ranknow','market'],axis=1,inplace=True)#Just dropping columns here!"
   ]
  },
  {
   "cell_type": "code",
   "execution_count": 6,
   "metadata": {
    "_cell_guid": "89b1e66b-ab4a-4d5a-87c0-e023ca642c78",
    "_uuid": "04099b6baa527d2761ca228c18741e7b0948b567"
   },
   "outputs": [
    {
     "data": {
      "text/plain": [
       "open     False\n",
       "high     False\n",
       "low      False\n",
       "close    False\n",
       "dtype: bool"
      ]
     },
     "execution_count": 6,
     "metadata": {},
     "output_type": "execute_result"
    }
   ],
   "source": [
    "btc.isnull().any()#We don't have any NaN values luckily"
   ]
  },
  {
   "cell_type": "code",
   "execution_count": 7,
   "metadata": {
    "_cell_guid": "6c8d6f96-f16f-4988-b73a-f1a39abd673d",
    "_uuid": "8ca4ed6bfc3d044f3a1dca26d9063936805a9495"
   },
   "outputs": [
    {
     "data": {
      "text/plain": [
       "(1696, 4)"
      ]
     },
     "execution_count": 7,
     "metadata": {},
     "output_type": "execute_result"
    }
   ],
   "source": [
    "btc.shape #We can see that we have 1696 observations for bitcoin here "
   ]
  },
  {
   "cell_type": "code",
   "execution_count": 8,
   "metadata": {
    "_cell_guid": "aec6c18e-82ec-4e18-a324-73562f5f1f25",
    "_uuid": "324c844e5f3ff372e9611e86c25ecea90919fb1f"
   },
   "outputs": [
    {
     "data": {
      "text/html": [
       "<div>\n",
       "<style>\n",
       "    .dataframe thead tr:only-child th {\n",
       "        text-align: right;\n",
       "    }\n",
       "\n",
       "    .dataframe thead th {\n",
       "        text-align: left;\n",
       "    }\n",
       "\n",
       "    .dataframe tbody tr th {\n",
       "        vertical-align: top;\n",
       "    }\n",
       "</style>\n",
       "<table border=\"1\" class=\"dataframe\">\n",
       "  <thead>\n",
       "    <tr style=\"text-align: right;\">\n",
       "      <th></th>\n",
       "      <th>open</th>\n",
       "      <th>high</th>\n",
       "      <th>low</th>\n",
       "      <th>close</th>\n",
       "    </tr>\n",
       "    <tr>\n",
       "      <th>date</th>\n",
       "      <th></th>\n",
       "      <th></th>\n",
       "      <th></th>\n",
       "      <th></th>\n",
       "    </tr>\n",
       "  </thead>\n",
       "  <tbody>\n",
       "    <tr>\n",
       "      <th>2017-12-14</th>\n",
       "      <td>16384.6</td>\n",
       "      <td>17085.8</td>\n",
       "      <td>16185.9</td>\n",
       "      <td>16564.0</td>\n",
       "    </tr>\n",
       "    <tr>\n",
       "      <th>2017-12-15</th>\n",
       "      <td>16601.3</td>\n",
       "      <td>18154.1</td>\n",
       "      <td>16601.3</td>\n",
       "      <td>17706.9</td>\n",
       "    </tr>\n",
       "    <tr>\n",
       "      <th>2017-12-16</th>\n",
       "      <td>17760.3</td>\n",
       "      <td>19716.7</td>\n",
       "      <td>17515.3</td>\n",
       "      <td>19497.4</td>\n",
       "    </tr>\n",
       "    <tr>\n",
       "      <th>2017-12-17</th>\n",
       "      <td>19475.8</td>\n",
       "      <td>20089.0</td>\n",
       "      <td>18974.1</td>\n",
       "      <td>19140.8</td>\n",
       "    </tr>\n",
       "    <tr>\n",
       "      <th>2017-12-18</th>\n",
       "      <td>19106.4</td>\n",
       "      <td>19371.0</td>\n",
       "      <td>18355.9</td>\n",
       "      <td>19114.2</td>\n",
       "    </tr>\n",
       "  </tbody>\n",
       "</table>\n",
       "</div>"
      ],
      "text/plain": [
       "               open     high      low    close\n",
       "date                                          \n",
       "2017-12-14  16384.6  17085.8  16185.9  16564.0\n",
       "2017-12-15  16601.3  18154.1  16601.3  17706.9\n",
       "2017-12-16  17760.3  19716.7  17515.3  19497.4\n",
       "2017-12-17  19475.8  20089.0  18974.1  19140.8\n",
       "2017-12-18  19106.4  19371.0  18355.9  19114.2"
      ]
     },
     "execution_count": 8,
     "metadata": {},
     "output_type": "execute_result"
    }
   ],
   "source": [
    "btc.tail()#Our data is pretty up to date it seems! "
   ]
  },
  {
   "cell_type": "markdown",
   "metadata": {
    "_cell_guid": "5b24d6f8-6b22-4808-8ef5-4df063393ac0",
    "_uuid": "305ff53734f373922f66a5be6eefcad577c71869"
   },
   "source": [
    "**Lets draw that famous stock market graph and get surprised of Bitcoin's huge growth**"
   ]
  },
  {
   "cell_type": "code",
   "execution_count": 9,
   "metadata": {
    "_cell_guid": "0b91709c-c457-4399-8138-3f9428a18658",
    "_uuid": "345aa1e6af964b65157c9569bfbdc1b8f1f0dc6a"
   },
   "outputs": [
    {
     "data": {
      "text/plain": [
       "<matplotlib.legend.Legend at 0x7fa419ab4978>"
      ]
     },
     "execution_count": 9,
     "metadata": {},
     "output_type": "execute_result"
    },
    {
     "data": {
      "image/png": "[encoded data removed]",
      "text/plain": [
       "<matplotlib.figure.Figure at 0x7fa419ab4b38>"
      ]
     },
     "metadata": {},
     "output_type": "display_data"
    }
   ],
   "source": [
    "sns.set()\n",
    "sns.set_style('whitegrid')\n",
    "btc['close'].plot(figsize=(12,6),label='Close')\n",
    "btc['close'].rolling(window=30).mean().plot(label='30 Day Avg')# Plotting the \n",
    "#rolling 30 day average against the Close Price\n",
    "plt.legend()"
   ]
  },
  {
   "cell_type": "markdown",
   "metadata": {
    "_cell_guid": "6b0333aa-2fae-4baa-bae8-c4c355929109",
    "_uuid": "e068b04ae447c654d3ecafe1985e863e59cff75b"
   },
   "source": [
    "![](http://)**Just because I'm a regression nerd, I will be using it to predict the behaviour of Bitcoin a month into the future. And to be honest, the graph of the last few months looks like a line to me! **"
   ]
  },
  {
   "cell_type": "code",
   "execution_count": 10,
   "metadata": {
    "_cell_guid": "c70ff999-af5b-41c8-b43f-2afab225a781",
    "_uuid": "376005bdb3af2e0772679928d05637e8835d3cc4"
   },
   "outputs": [
    {
     "name": "stderr",
     "output_type": "stream",
     "text": [
      "/opt/conda/lib/python3.6/site-packages/ipykernel_launcher.py:3: SettingWithCopyWarning: \n",
      "A value is trying to be set on a copy of a slice from a DataFrame.\n",
      "Try using .loc[row_indexer,col_indexer] = value instead\n",
      "\n",
      "See the caveats in the documentation: http://pandas.pydata.org/pandas-docs/stable/indexing.html#indexing-view-versus-copy\n",
      "  This is separate from the ipykernel package so we can avoid doing imports until\n"
     ]
    }
   ],
   "source": [
    "#I will be adding a feature to improve the model.This feature is provided by Tafarel Yan in his Kernel\n",
    "\n",
    "btc['ohlc_average'] = (btc['open'] + btc['high'] + btc['low'] + btc['close']) / 4"
   ]
  },
  {
   "cell_type": "code",
   "execution_count": 11,
   "metadata": {
    "_cell_guid": "ae00b84c-b21f-4f18-a79f-cf9de398f318",
    "_uuid": "3b7d4a2b0350cc4fe9a3a0c9696b673e84febf7d"
   },
   "outputs": [
    {
     "data": {
      "text/html": [
       "<div>\n",
       "<style>\n",
       "    .dataframe thead tr:only-child th {\n",
       "        text-align: right;\n",
       "    }\n",
       "\n",
       "    .dataframe thead th {\n",
       "        text-align: left;\n",
       "    }\n",
       "\n",
       "    .dataframe tbody tr th {\n",
       "        vertical-align: top;\n",
       "    }\n",
       "</style>\n",
       "<table border=\"1\" class=\"dataframe\">\n",
       "  <thead>\n",
       "    <tr style=\"text-align: right;\">\n",
       "      <th></th>\n",
       "      <th>open</th>\n",
       "      <th>high</th>\n",
       "      <th>low</th>\n",
       "      <th>close</th>\n",
       "      <th>ohlc_average</th>\n",
       "    </tr>\n",
       "    <tr>\n",
       "      <th>date</th>\n",
       "      <th></th>\n",
       "      <th></th>\n",
       "      <th></th>\n",
       "      <th></th>\n",
       "      <th></th>\n",
       "    </tr>\n",
       "  </thead>\n",
       "  <tbody>\n",
       "    <tr>\n",
       "      <th>2013-04-28</th>\n",
       "      <td>135.30</td>\n",
       "      <td>135.98</td>\n",
       "      <td>132.10</td>\n",
       "      <td>134.21</td>\n",
       "      <td>134.3975</td>\n",
       "    </tr>\n",
       "    <tr>\n",
       "      <th>2013-04-29</th>\n",
       "      <td>134.44</td>\n",
       "      <td>147.49</td>\n",
       "      <td>134.00</td>\n",
       "      <td>144.54</td>\n",
       "      <td>140.1175</td>\n",
       "    </tr>\n",
       "    <tr>\n",
       "      <th>2013-04-30</th>\n",
       "      <td>144.00</td>\n",
       "      <td>146.93</td>\n",
       "      <td>134.05</td>\n",
       "      <td>139.00</td>\n",
       "      <td>140.9950</td>\n",
       "    </tr>\n",
       "    <tr>\n",
       "      <th>2013-05-01</th>\n",
       "      <td>139.00</td>\n",
       "      <td>139.89</td>\n",
       "      <td>107.72</td>\n",
       "      <td>116.99</td>\n",
       "      <td>125.9000</td>\n",
       "    </tr>\n",
       "    <tr>\n",
       "      <th>2013-05-02</th>\n",
       "      <td>116.38</td>\n",
       "      <td>125.60</td>\n",
       "      <td>92.28</td>\n",
       "      <td>105.21</td>\n",
       "      <td>109.8675</td>\n",
       "    </tr>\n",
       "  </tbody>\n",
       "</table>\n",
       "</div>"
      ],
      "text/plain": [
       "              open    high     low   close  ohlc_average\n",
       "date                                                    \n",
       "2013-04-28  135.30  135.98  132.10  134.21      134.3975\n",
       "2013-04-29  134.44  147.49  134.00  144.54      140.1175\n",
       "2013-04-30  144.00  146.93  134.05  139.00      140.9950\n",
       "2013-05-01  139.00  139.89  107.72  116.99      125.9000\n",
       "2013-05-02  116.38  125.60   92.28  105.21      109.8675"
      ]
     },
     "execution_count": 11,
     "metadata": {},
     "output_type": "execute_result"
    }
   ],
   "source": [
    "btc.head()"
   ]
  },
  {
   "cell_type": "code",
   "execution_count": 12,
   "metadata": {
    "_cell_guid": "1def5ef6-1cb2-4339-9973-080258c3cc34",
    "_uuid": "52817357091aabe63e8f3308f991b7318a6d75c8",
    "scrolled": true
   },
   "outputs": [
    {
     "name": "stderr",
     "output_type": "stream",
     "text": [
      "/opt/conda/lib/python3.6/site-packages/ipykernel_launcher.py:1: SettingWithCopyWarning: \n",
      "A value is trying to be set on a copy of a slice from a DataFrame.\n",
      "Try using .loc[row_indexer,col_indexer] = value instead\n",
      "\n",
      "See the caveats in the documentation: http://pandas.pydata.org/pandas-docs/stable/indexing.html#indexing-view-versus-copy\n",
      "  \"\"\"Entry point for launching an IPython kernel.\n"
     ]
    }
   ],
   "source": [
    "btc['Price_After_Month']=btc['close'].shift(-30) #This will be our label"
   ]
  },
  {
   "cell_type": "code",
   "execution_count": 13,
   "metadata": {
    "_cell_guid": "829ec2fd-84a7-439c-8b15-5a9a85ee412e",
    "_uuid": "12464e55d2494df06a733772fa1996067b99f8c6"
   },
   "outputs": [
    {
     "data": {
      "text/html": [
       "<div>\n",
       "<style>\n",
       "    .dataframe thead tr:only-child th {\n",
       "        text-align: right;\n",
       "    }\n",
       "\n",
       "    .dataframe thead th {\n",
       "        text-align: left;\n",
       "    }\n",
       "\n",
       "    .dataframe tbody tr th {\n",
       "        vertical-align: top;\n",
       "    }\n",
       "</style>\n",
       "<table border=\"1\" class=\"dataframe\">\n",
       "  <thead>\n",
       "    <tr style=\"text-align: right;\">\n",
       "      <th></th>\n",
       "      <th>open</th>\n",
       "      <th>high</th>\n",
       "      <th>low</th>\n",
       "      <th>close</th>\n",
       "      <th>ohlc_average</th>\n",
       "      <th>Price_After_Month</th>\n",
       "    </tr>\n",
       "    <tr>\n",
       "      <th>date</th>\n",
       "      <th></th>\n",
       "      <th></th>\n",
       "      <th></th>\n",
       "      <th></th>\n",
       "      <th></th>\n",
       "      <th></th>\n",
       "    </tr>\n",
       "  </thead>\n",
       "  <tbody>\n",
       "    <tr>\n",
       "      <th>2017-12-14</th>\n",
       "      <td>16384.6</td>\n",
       "      <td>17085.8</td>\n",
       "      <td>16185.9</td>\n",
       "      <td>16564.0</td>\n",
       "      <td>16555.075</td>\n",
       "      <td>NaN</td>\n",
       "    </tr>\n",
       "    <tr>\n",
       "      <th>2017-12-15</th>\n",
       "      <td>16601.3</td>\n",
       "      <td>18154.1</td>\n",
       "      <td>16601.3</td>\n",
       "      <td>17706.9</td>\n",
       "      <td>17265.900</td>\n",
       "      <td>NaN</td>\n",
       "    </tr>\n",
       "    <tr>\n",
       "      <th>2017-12-16</th>\n",
       "      <td>17760.3</td>\n",
       "      <td>19716.7</td>\n",
       "      <td>17515.3</td>\n",
       "      <td>19497.4</td>\n",
       "      <td>18622.425</td>\n",
       "      <td>NaN</td>\n",
       "    </tr>\n",
       "    <tr>\n",
       "      <th>2017-12-17</th>\n",
       "      <td>19475.8</td>\n",
       "      <td>20089.0</td>\n",
       "      <td>18974.1</td>\n",
       "      <td>19140.8</td>\n",
       "      <td>19419.925</td>\n",
       "      <td>NaN</td>\n",
       "    </tr>\n",
       "    <tr>\n",
       "      <th>2017-12-18</th>\n",
       "      <td>19106.4</td>\n",
       "      <td>19371.0</td>\n",
       "      <td>18355.9</td>\n",
       "      <td>19114.2</td>\n",
       "      <td>18986.875</td>\n",
       "      <td>NaN</td>\n",
       "    </tr>\n",
       "  </tbody>\n",
       "</table>\n",
       "</div>"
      ],
      "text/plain": [
       "               open     high      low    close  ohlc_average  \\\n",
       "date                                                           \n",
       "2017-12-14  16384.6  17085.8  16185.9  16564.0     16555.075   \n",
       "2017-12-15  16601.3  18154.1  16601.3  17706.9     17265.900   \n",
       "2017-12-16  17760.3  19716.7  17515.3  19497.4     18622.425   \n",
       "2017-12-17  19475.8  20089.0  18974.1  19140.8     19419.925   \n",
       "2017-12-18  19106.4  19371.0  18355.9  19114.2     18986.875   \n",
       "\n",
       "            Price_After_Month  \n",
       "date                           \n",
       "2017-12-14                NaN  \n",
       "2017-12-15                NaN  \n",
       "2017-12-16                NaN  \n",
       "2017-12-17                NaN  \n",
       "2017-12-18                NaN  "
      ]
     },
     "execution_count": 13,
     "metadata": {},
     "output_type": "execute_result"
    }
   ],
   "source": [
    "btc.tail()#We basically moved all our values 30 lines up in our last cell"
   ]
  },
  {
   "cell_type": "code",
   "execution_count": 14,
   "metadata": {
    "_cell_guid": "c3ed8e77-800a-4e77-99be-afe2c7436ca8",
    "_uuid": "f9f9ae9fe42be0fa32047f8ba737c506624d70bb"
   },
   "outputs": [
    {
     "name": "stderr",
     "output_type": "stream",
     "text": [
      "/opt/conda/lib/python3.6/site-packages/ipykernel_launcher.py:3: SettingWithCopyWarning: \n",
      "A value is trying to be set on a copy of a slice from a DataFrame\n",
      "\n",
      "See the caveats in the documentation: http://pandas.pydata.org/pandas-docs/stable/indexing.html#indexing-view-versus-copy\n",
      "  This is separate from the ipykernel package so we can avoid doing imports until\n"
     ]
    }
   ],
   "source": [
    "#Preprocessing\n",
    "from sklearn import preprocessing\n",
    "btc.dropna(inplace=True)\n",
    "X=btc.drop('Price_After_Month',axis=1)\n",
    "X=preprocessing.scale(X)#We need to scale our values to input them in our model\n",
    "y=btc['Price_After_Month']\n",
    "\n"
   ]
  },
  {
   "cell_type": "code",
   "execution_count": 15,
   "metadata": {
    "_cell_guid": "f2591e11-63fc-4a41-9e50-71438182aea9",
    "_uuid": "92429485c49c7086e13f551e253875d67c49f480",
    "scrolled": true
   },
   "outputs": [
    {
     "name": "stderr",
     "output_type": "stream",
     "text": [
      "/opt/conda/lib/python3.6/site-packages/sklearn/cross_validation.py:41: DeprecationWarning: This module was deprecated in version 0.18 in favor of the model_selection module into which all the refactored classes and functions are moved. Also note that the interface of the new CV iterators are different from that of this module. This module will be removed in 0.20.\n",
      "  \"This module will be removed in 0.20.\", DeprecationWarning)\n"
     ]
    }
   ],
   "source": [
    "from sklearn import cross_validation\n",
    "X_train,X_test,y_train,y_test=cross_validation.train_test_split(X,y,test_size=0.3,random_state=101)"
   ]
  },
  {
   "cell_type": "code",
   "execution_count": 16,
   "metadata": {
    "_cell_guid": "1536b2e8-2e94-4064-9284-66eb286a5340",
    "_uuid": "cda8fd4358f3edb1dd189175d3ad2cea69552201"
   },
   "outputs": [
    {
     "name": "stdout",
     "output_type": "stream",
     "text": [
      "Accuracy is: 91.7867 %\n"
     ]
    }
   ],
   "source": [
    "from sklearn.ensemble import RandomForestRegressor\n",
    "reg=RandomForestRegressor(n_estimators=200,random_state=101)\n",
    "reg.fit(X_train,y_train)\n",
    "accuracy=reg.score(X_test,y_test)\n",
    "accuracy=accuracy*100\n",
    "accuracy = float(\"{0:.4f}\".format(accuracy))\n",
    "print('Accuracy is:',accuracy,'%')#This percentage shows how much our regression fits our data"
   ]
  },
  {
   "cell_type": "code",
   "execution_count": 17,
   "metadata": {
    "_cell_guid": "bfdf5b9c-ae37-48ab-9ea0-581953db7230",
    "_uuid": "553fec1cb92aaeb77aba2bff244554f63926088c"
   },
   "outputs": [
    {
     "name": "stdout",
     "output_type": "stream",
     "text": [
      "The prediction is: 607.14875 But the real value is: 607.15\n"
     ]
    }
   ],
   "source": [
    "preds = reg.predict(X_test)\n",
    "print(\"The prediction is:\",preds[1],\"But the real value is:\" ,y_test[1])\n",
    "#We can see that our predictions are kind of accurate but we still need to work on on them a lot. "
   ]
  },
  {
   "cell_type": "code",
   "execution_count": 18,
   "metadata": {
    "_cell_guid": "2889590f-4b86-4d8d-ba5d-6846296c3a58",
    "_uuid": "995144500d26f0106080dd95ce31161443a0b4c8",
    "collapsed": true
   },
   "outputs": [],
   "source": [
    "#Apply our model and get our prediction\n",
    "X_30=X[-30:]#We'll take the last 30 elements to make our predictions on them\n",
    "forecast=reg.predict(X_30)"
   ]
  },
  {
   "cell_type": "code",
   "execution_count": 19,
   "metadata": {
    "_cell_guid": "9cfcbde6-5f5b-4d39-97dc-0e6dc1934edf",
    "_uuid": "f27bd36b202167fbf6417ccd226ab6b3f0769a8c"
   },
   "outputs": [
    {
     "data": {
      "text/html": [
       "<div>\n",
       "<style>\n",
       "    .dataframe thead tr:only-child th {\n",
       "        text-align: right;\n",
       "    }\n",
       "\n",
       "    .dataframe thead th {\n",
       "        text-align: left;\n",
       "    }\n",
       "\n",
       "    .dataframe tbody tr th {\n",
       "        vertical-align: top;\n",
       "    }\n",
       "</style>\n",
       "<table border=\"1\" class=\"dataframe\">\n",
       "  <thead>\n",
       "    <tr style=\"text-align: right;\">\n",
       "      <th></th>\n",
       "      <th>Forecast</th>\n",
       "      <th>Price_After_Month</th>\n",
       "      <th>close</th>\n",
       "      <th>high</th>\n",
       "      <th>low</th>\n",
       "      <th>ohlc_average</th>\n",
       "      <th>open</th>\n",
       "    </tr>\n",
       "  </thead>\n",
       "  <tbody>\n",
       "    <tr>\n",
       "      <th>2017-12-14</th>\n",
       "      <td>15028.3660</td>\n",
       "      <td>NaN</td>\n",
       "      <td>NaN</td>\n",
       "      <td>NaN</td>\n",
       "      <td>NaN</td>\n",
       "      <td>NaN</td>\n",
       "      <td>NaN</td>\n",
       "    </tr>\n",
       "    <tr>\n",
       "      <th>2017-12-15</th>\n",
       "      <td>12557.5675</td>\n",
       "      <td>NaN</td>\n",
       "      <td>NaN</td>\n",
       "      <td>NaN</td>\n",
       "      <td>NaN</td>\n",
       "      <td>NaN</td>\n",
       "      <td>NaN</td>\n",
       "    </tr>\n",
       "    <tr>\n",
       "      <th>2017-12-16</th>\n",
       "      <td>18573.0780</td>\n",
       "      <td>NaN</td>\n",
       "      <td>NaN</td>\n",
       "      <td>NaN</td>\n",
       "      <td>NaN</td>\n",
       "      <td>NaN</td>\n",
       "      <td>NaN</td>\n",
       "    </tr>\n",
       "    <tr>\n",
       "      <th>2017-12-17</th>\n",
       "      <td>18982.8710</td>\n",
       "      <td>NaN</td>\n",
       "      <td>NaN</td>\n",
       "      <td>NaN</td>\n",
       "      <td>NaN</td>\n",
       "      <td>NaN</td>\n",
       "      <td>NaN</td>\n",
       "    </tr>\n",
       "    <tr>\n",
       "      <th>2017-12-18</th>\n",
       "      <td>18945.9850</td>\n",
       "      <td>NaN</td>\n",
       "      <td>NaN</td>\n",
       "      <td>NaN</td>\n",
       "      <td>NaN</td>\n",
       "      <td>NaN</td>\n",
       "      <td>NaN</td>\n",
       "    </tr>\n",
       "  </tbody>\n",
       "</table>\n",
       "</div>"
      ],
      "text/plain": [
       "              Forecast  Price_After_Month  close  high  low  ohlc_average  \\\n",
       "2017-12-14  15028.3660                NaN    NaN   NaN  NaN           NaN   \n",
       "2017-12-15  12557.5675                NaN    NaN   NaN  NaN           NaN   \n",
       "2017-12-16  18573.0780                NaN    NaN   NaN  NaN           NaN   \n",
       "2017-12-17  18982.8710                NaN    NaN   NaN  NaN           NaN   \n",
       "2017-12-18  18945.9850                NaN    NaN   NaN  NaN           NaN   \n",
       "\n",
       "            open  \n",
       "2017-12-14   NaN  \n",
       "2017-12-15   NaN  \n",
       "2017-12-16   NaN  \n",
       "2017-12-17   NaN  \n",
       "2017-12-18   NaN  "
      ]
     },
     "execution_count": 19,
     "metadata": {},
     "output_type": "execute_result"
    }
   ],
   "source": [
    "#creating a new column which contains the predictions! \n",
    "#Proceed at your own risk!  \n",
    "from datetime import datetime, timedelta\n",
    "last_date=btc.iloc[-1].name\n",
    "modified_date = last_date + timedelta(days=1)\n",
    "date=pd.date_range(modified_date,periods=30,freq='D')\n",
    "df1=pd.DataFrame(forecast,columns=['Forecast'],index=date)\n",
    "btc=btc.append(df1)\n",
    "btc.tail()"
   ]
  },
  {
   "cell_type": "code",
   "execution_count": 20,
   "metadata": {
    "_cell_guid": "95d02c98-de78-476d-9885-b30cd08e0b40",
    "_uuid": "0f8dccd89d245c037efcf35082c842771e97df99"
   },
   "outputs": [
    {
     "data": {
      "text/plain": [
       "<matplotlib.legend.Legend at 0x7fa410ca7cf8>"
      ]
     },
     "execution_count": 20,
     "metadata": {},
     "output_type": "execute_result"
    },
    {
     "data": {
      "image/png": "[encoded data removed]",
      "text/plain": [
       "<matplotlib.figure.Figure at 0x7fa410ca7588>"
      ]
     },
     "metadata": {},
     "output_type": "display_data"
    }
   ],
   "source": [
    "#Now we'll plot our forecast! \n",
    "btc['close'].plot(figsize=(12,6),label='Close')\n",
    "btc['Forecast'].plot(label='forecast')\n",
    "plt.legend()"
   ]
  },
  {
   "cell_type": "markdown",
   "metadata": {
    "_cell_guid": "05119954-e82c-4018-be23-cfffb2720da7",
    "_uuid": "8e60053f446ee8555bb500b92737eb4d97cb4f45"
   },
   "source": [
    "**Bitcoin was about 18000 USD on the 18th of December and our model predicted it to be 18945 USD! You can see the potential here!We've achieved this with just a basic model. Maybe I'll do a better predictive model in the future. I'll leave it here for now.**"
   ]
  },
  {
   "cell_type": "markdown",
   "metadata": {
    "_cell_guid": "bdb0f92d-8a59-4020-9e3c-f65b1bccded1",
    "_uuid": "cbf1f21bfb0446f8b43bbcc579f2296fd6326038"
   },
   "source": [
    "**Thank you for you attention**"
   ]
  }
 ],
 "metadata": {
  "kernelspec": {
   "display_name": "Python 3",
   "language": "python",
   "name": "python3"
  },
  "language_info": {
   "codemirror_mode": {
    "name": "ipython",
    "version": 3
   },
   "file_extension": ".py",
   "mimetype": "text/x-python",
   "name": "python",
   "nbconvert_exporter": "python",
   "pygments_lexer": "ipython3",
   "version": "3.6.3"
  }
 },
 "nbformat": 4,
 "nbformat_minor": 1
}
