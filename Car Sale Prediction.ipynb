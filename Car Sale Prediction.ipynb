{
 "cells":[
  {
   "cell_type":"code",
   "source":[
    "import numpy as np \n",
    "import pandas as pd \n",
    "import matplotlib as mpl\n",
    "import matplotlib.pyplot as plt\n",
    "import seaborn as sns\n",
    "import xgboost as xgb\n",
    "from sklearn.model_selection import KFold, train_test_split, GridSearchCV\n",
    "%matplotlib inline"
   ],
   "execution_count":33,
   "outputs":[
    
   ],
   "metadata":{
    "datalore":{
     "type":"CODE",
     "hide_input_from_viewers":false,
     "hide_output_from_viewers":false,
     "node_id":"BTe8zb6GLx6YsD1kU4LFeS"
    }
   }
  },
  {
   "cell_type":"code",
   "source":[
    "df=pd.read_csv(\"https:\/\/raw.githubusercontent.com\/benvictoria17\/MachineLearning\/master\/dataset\/Car%20Sale%20Advertisements\/car_ad.csv\", encoding='latin-1')"
   ],
   "execution_count":36,
   "outputs":[
    
   ],
   "metadata":{
    "datalore":{
     "type":"CODE",
     "hide_input_from_viewers":false,
     "hide_output_from_viewers":false,
     "node_id":"SG9BU03ctVaG4k4FfEp9Wo"
    }
   }
  },
  {
   "cell_type":"code",
   "source":[
    "df = df.drop(df[df.price <= 0 ].index)\n",
    "df.price[df.price ==0].count()"
   ],
   "execution_count":37,
   "outputs":[
    {
     "data":{
      "text\/plain":[
       "0"
      ]
     },
     "metadata":{
      
     },
     "output_type":"display_data"
    }
   ],
   "metadata":{
    "datalore":{
     "type":"CODE",
     "hide_input_from_viewers":false,
     "hide_output_from_viewers":false,
     "node_id":"iNgl4rrgbEKLq0ZVf515BC"
    }
   }
  },
  {
   "cell_type":"code",
   "source":[
    "df.head(3)"
   ],
   "execution_count":38,
   "outputs":[
    {
     "data":{
      "text\/html":[
       "<div>\n",
       "<style scoped>\n",
       "    .dataframe tbody tr th:only-of-type {\n",
       "        vertical-align: middle;\n",
       "    }\n",
       "\n",
       "    .dataframe tbody tr th {\n",
       "        vertical-align: top;\n",
       "    }\n",
       "\n",
       "    .dataframe thead th {\n",
       "        text-align: right;\n",
       "    }\n",
       "<\/style>\n",
       "<table border=\"1\" class=\"dataframe\">\n",
       "  <thead>\n",
       "    <tr style=\"text-align: right;\">\n",
       "      <th><\/th>\n",
       "      <th>car<\/th>\n",
       "      <th>price<\/th>\n",
       "      <th>body<\/th>\n",
       "      <th>mileage<\/th>\n",
       "      <th>engV<\/th>\n",
       "      <th>engType<\/th>\n",
       "      <th>registration<\/th>\n",
       "      <th>year<\/th>\n",
       "      <th>model<\/th>\n",
       "      <th>drive<\/th>\n",
       "    <\/tr>\n",
       "  <\/thead>\n",
       "  <tbody>\n",
       "    <tr>\n",
       "      <th>0<\/th>\n",
       "      <td>Ford<\/td>\n",
       "      <td>15500.0<\/td>\n",
       "      <td>crossover<\/td>\n",
       "      <td>68<\/td>\n",
       "      <td>2.5<\/td>\n",
       "      <td>Gas<\/td>\n",
       "      <td>yes<\/td>\n",
       "      <td>2010<\/td>\n",
       "      <td>Kuga<\/td>\n",
       "      <td>full<\/td>\n",
       "    <\/tr>\n",
       "    <tr>\n",
       "      <th>1<\/th>\n",
       "      <td>Mercedes-Benz<\/td>\n",
       "      <td>20500.0<\/td>\n",
       "      <td>sedan<\/td>\n",
       "      <td>173<\/td>\n",
       "      <td>1.8<\/td>\n",
       "      <td>Gas<\/td>\n",
       "      <td>yes<\/td>\n",
       "      <td>2011<\/td>\n",
       "      <td>E-Class<\/td>\n",
       "      <td>rear<\/td>\n",
       "    <\/tr>\n",
       "    <tr>\n",
       "      <th>2<\/th>\n",
       "      <td>Mercedes-Benz<\/td>\n",
       "      <td>35000.0<\/td>\n",
       "      <td>other<\/td>\n",
       "      <td>135<\/td>\n",
       "      <td>5.5<\/td>\n",
       "      <td>Petrol<\/td>\n",
       "      <td>yes<\/td>\n",
       "      <td>2008<\/td>\n",
       "      <td>CL 550<\/td>\n",
       "      <td>rear<\/td>\n",
       "    <\/tr>\n",
       "  <\/tbody>\n",
       "<\/table>\n",
       "<\/div>"
      ]
     },
     "metadata":{
      
     },
     "output_type":"display_data"
    }
   ],
   "metadata":{
    "datalore":{
     "type":"CODE",
     "hide_input_from_viewers":false,
     "hide_output_from_viewers":false,
     "node_id":"9T7jKd3cQbMaxxZFeUcyE2"
    }
   }
  },
  {
   "cell_type":"code",
   "source":[
    "df = df.drop(df[df.price == 0].index)\n",
    "df.price[df.price == 0].count()"
   ],
   "execution_count":39,
   "outputs":[
    {
     "data":{
      "text\/plain":[
       "0"
      ]
     },
     "metadata":{
      
     },
     "output_type":"display_data"
    }
   ],
   "metadata":{
    "datalore":{
     "type":"CODE",
     "hide_input_from_viewers":false,
     "hide_output_from_viewers":false,
     "node_id":"8oQjKwyfSmyCfLK3ZDKbVm"
    }
   }
  },
  {
   "cell_type":"code",
   "source":[
    "df.shape"
   ],
   "execution_count":40,
   "outputs":[
    {
     "data":{
      "text\/plain":[
       "(9309, 10)"
      ]
     },
     "metadata":{
      
     },
     "output_type":"display_data"
    }
   ],
   "metadata":{
    "datalore":{
     "type":"CODE",
     "hide_input_from_viewers":false,
     "hide_output_from_viewers":false,
     "node_id":"My3PU8d0f0UCQfzAWTcNjx"
    }
   }
  },
  {
   "cell_type":"code",
   "source":[
    "sns.countplot(df[\"body\"])"
   ],
   "execution_count":42,
   "outputs":[
    {
     "data":{
      "text\/plain":[
       "<AxesSubplot:xlabel='body', ylabel='count'>"
      ],
      "image\/png":"[encoded data removed]"
     },
     "metadata":{
      "image\/png":{
       
      }
     },
     "output_type":"display_data"
    }
   ],
   "metadata":{
    "datalore":{
     "type":"CODE",
     "hide_input_from_viewers":false,
     "hide_output_from_viewers":false,
     "node_id":"F50bw12NSDOjsfg8r9uWkf"
    }
   }
  },
  {
   "cell_type":"code",
   "source":[
    "sns.boxplot(x='mileage',y='price',data=df)"
   ],
   "execution_count":43,
   "outputs":[
    {
     "data":{
      "text\/plain":[
       "<AxesSubplot:xlabel='mileage', ylabel='price'>"
      ],
      "image\/png":"[encoded data removed]"
     },
     "metadata":{
      "image\/png":{
       
      }
     },
     "output_type":"display_data"
    }
   ],
   "metadata":{
    "datalore":{
     "type":"CODE",
     "hide_input_from_viewers":false,
     "hide_output_from_viewers":false,
     "node_id":"gqXd6CdruhcwKBi1kYY23q"
    }
   }
  },
  {
   "cell_type":"code",
   "source":[
    "sns.regplot(x='mileage',y='price',data=df)"
   ],
   "execution_count":44,
   "outputs":[
    {
     "data":{
      "text\/plain":[
       "<AxesSubplot:xlabel='mileage', ylabel='price'>"
      ],
      "image\/png":"[encoded data removed]"
     },
     "metadata":{
      "image\/png":{
       
      }
     },
     "output_type":"display_data"
    }
   ],
   "metadata":{
    "datalore":{
     "type":"CODE",
     "hide_input_from_viewers":false,
     "hide_output_from_viewers":false,
     "node_id":"e3bgN0DImx2EETgTJJAaFy"
    }
   }
  },
  {
   "cell_type":"code",
   "source":[
    "sns.countplot(df['registration'])"
   ],
   "execution_count":45,
   "outputs":[
    {
     "data":{
      "text\/plain":[
       "<AxesSubplot:xlabel='registration', ylabel='count'>"
      ],
      "image\/png":"[encoded data removed]"
     },
     "metadata":{
      "image\/png":{
       
      }
     },
     "output_type":"display_data"
    }
   ],
   "metadata":{
    "datalore":{
     "type":"CODE",
     "hide_input_from_viewers":false,
     "hide_output_from_viewers":false,
     "node_id":"VXKvApig1CRxU1UhswmLCU"
    }
   }
  },
  {
   "cell_type":"code",
   "source":[
    "sns.boxplot(x='registration',y='price',data=df)"
   ],
   "execution_count":46,
   "outputs":[
    {
     "data":{
      "text\/plain":[
       "<AxesSubplot:xlabel='registration', ylabel='price'>"
      ],
      "image\/png":"[encoded data removed]"
     },
     "metadata":{
      "image\/png":{
       
      }
     },
     "output_type":"display_data"
    }
   ],
   "metadata":{
    "datalore":{
     "type":"CODE",
     "hide_input_from_viewers":false,
     "hide_output_from_viewers":false,
     "node_id":"ZVQMQz5SMLtyzjlfZmwiHL"
    }
   }
  },
  {
   "cell_type":"code",
   "source":[
    "sns.regplot(x='engV',y='price',data=df)"
   ],
   "execution_count":47,
   "outputs":[
    {
     "data":{
      "text\/plain":[
       "<AxesSubplot:xlabel='engV', ylabel='price'>"
      ],
      "image\/png":"[encoded data removed]"
     },
     "metadata":{
      "image\/png":{
       
      }
     },
     "output_type":"display_data"
    }
   ],
   "metadata":{
    "datalore":{
     "type":"CODE",
     "hide_input_from_viewers":false,
     "hide_output_from_viewers":false,
     "node_id":"KmIlG7pGetaFlkVb2MCiDe"
    }
   }
  },
  {
   "cell_type":"code",
   "source":[
    "sns.countplot(df['engType'])"
   ],
   "execution_count":48,
   "outputs":[
    {
     "data":{
      "text\/plain":[
       "<AxesSubplot:xlabel='engType', ylabel='count'>"
      ],
      "image\/png":"[encoded data removed]"
     },
     "metadata":{
      "image\/png":{
       
      }
     },
     "output_type":"display_data"
    }
   ],
   "metadata":{
    "datalore":{
     "type":"CODE",
     "hide_input_from_viewers":false,
     "hide_output_from_viewers":false,
     "node_id":"6lpfvL22IlPCwFjI5EwMzt"
    }
   }
  },
  {
   "cell_type":"code",
   "source":[
    "from sklearn import model_selection, preprocessing\n",
    "for c in df.columns:\n",
    "    if df[c].dtype == 'object':\n",
    "        lbl = preprocessing.LabelEncoder()\n",
    "        lbl.fit(list(df[c].values)) \n",
    "        df[c] = lbl.transform(list(df[c].values))"
   ],
   "execution_count":49,
   "outputs":[
    
   ],
   "metadata":{
    "datalore":{
     "type":"CODE",
     "hide_input_from_viewers":false,
     "hide_output_from_viewers":false,
     "node_id":"5wBlhGcB8EhCB3FlLa4q3n"
    }
   }
  },
  {
   "cell_type":"code",
   "source":[
    "df.head()"
   ],
   "execution_count":50,
   "outputs":[
    {
     "data":{
      "text\/html":[
       "<div>\n",
       "<style scoped>\n",
       "    .dataframe tbody tr th:only-of-type {\n",
       "        vertical-align: middle;\n",
       "    }\n",
       "\n",
       "    .dataframe tbody tr th {\n",
       "        vertical-align: top;\n",
       "    }\n",
       "\n",
       "    .dataframe thead th {\n",
       "        text-align: right;\n",
       "    }\n",
       "<\/style>\n",
       "<table border=\"1\" class=\"dataframe\">\n",
       "  <thead>\n",
       "    <tr style=\"text-align: right;\">\n",
       "      <th><\/th>\n",
       "      <th>car<\/th>\n",
       "      <th>price<\/th>\n",
       "      <th>body<\/th>\n",
       "      <th>mileage<\/th>\n",
       "      <th>engV<\/th>\n",
       "      <th>engType<\/th>\n",
       "      <th>registration<\/th>\n",
       "      <th>year<\/th>\n",
       "      <th>model<\/th>\n",
       "      <th>drive<\/th>\n",
       "    <\/tr>\n",
       "  <\/thead>\n",
       "  <tbody>\n",
       "    <tr>\n",
       "      <th>0<\/th>\n",
       "      <td>25<\/td>\n",
       "      <td>15500.0<\/td>\n",
       "      <td>0<\/td>\n",
       "      <td>68<\/td>\n",
       "      <td>2.5<\/td>\n",
       "      <td>1<\/td>\n",
       "      <td>1<\/td>\n",
       "      <td>2010<\/td>\n",
       "      <td>490<\/td>\n",
       "      <td>1<\/td>\n",
       "    <\/tr>\n",
       "    <tr>\n",
       "      <th>1<\/th>\n",
       "      <td>52<\/td>\n",
       "      <td>20500.0<\/td>\n",
       "      <td>3<\/td>\n",
       "      <td>173<\/td>\n",
       "      <td>1.8<\/td>\n",
       "      <td>1<\/td>\n",
       "      <td>1<\/td>\n",
       "      <td>2011<\/td>\n",
       "      <td>332<\/td>\n",
       "      <td>3<\/td>\n",
       "    <\/tr>\n",
       "    <tr>\n",
       "      <th>2<\/th>\n",
       "      <td>52<\/td>\n",
       "      <td>35000.0<\/td>\n",
       "      <td>2<\/td>\n",
       "      <td>135<\/td>\n",
       "      <td>5.5<\/td>\n",
       "      <td>3<\/td>\n",
       "      <td>1<\/td>\n",
       "      <td>2008<\/td>\n",
       "      <td>240<\/td>\n",
       "      <td>3<\/td>\n",
       "    <\/tr>\n",
       "    <tr>\n",
       "      <th>3<\/th>\n",
       "      <td>52<\/td>\n",
       "      <td>17800.0<\/td>\n",
       "      <td>5<\/td>\n",
       "      <td>162<\/td>\n",
       "      <td>1.8<\/td>\n",
       "      <td>0<\/td>\n",
       "      <td>1<\/td>\n",
       "      <td>2012<\/td>\n",
       "      <td>206<\/td>\n",
       "      <td>0<\/td>\n",
       "    <\/tr>\n",
       "    <tr>\n",
       "      <th>4<\/th>\n",
       "      <td>52<\/td>\n",
       "      <td>33000.0<\/td>\n",
       "      <td>4<\/td>\n",
       "      <td>91<\/td>\n",
       "      <td>NaN<\/td>\n",
       "      <td>2<\/td>\n",
       "      <td>1<\/td>\n",
       "      <td>2013<\/td>\n",
       "      <td>332<\/td>\n",
       "      <td>2<\/td>\n",
       "    <\/tr>\n",
       "  <\/tbody>\n",
       "<\/table>\n",
       "<\/div>"
      ]
     },
     "metadata":{
      
     },
     "output_type":"display_data"
    }
   ],
   "metadata":{
    "datalore":{
     "type":"CODE",
     "hide_input_from_viewers":false,
     "hide_output_from_viewers":false,
     "node_id":"4nIuDcINuiE7GZuER5Hshm"
    }
   }
  },
  {
   "cell_type":"code",
   "source":[
    "y_train = df[\"price\"]\n",
    "x_train = df.drop([\"price\"], axis=1)\n",
    "from sklearn.model_selection import train_test_split\n",
    "data_train, data_test, label_train, label_test = train_test_split(x_train, y_train, test_size = 0.2, random_state = 42)\n",
    "x_train.head(3)"
   ],
   "execution_count":53,
   "outputs":[
    {
     "data":{
      "text\/html":[
       "<div>\n",
       "<style scoped>\n",
       "    .dataframe tbody tr th:only-of-type {\n",
       "        vertical-align: middle;\n",
       "    }\n",
       "\n",
       "    .dataframe tbody tr th {\n",
       "        vertical-align: top;\n",
       "    }\n",
       "\n",
       "    .dataframe thead th {\n",
       "        text-align: right;\n",
       "    }\n",
       "<\/style>\n",
       "<table border=\"1\" class=\"dataframe\">\n",
       "  <thead>\n",
       "    <tr style=\"text-align: right;\">\n",
       "      <th><\/th>\n",
       "      <th>car<\/th>\n",
       "      <th>body<\/th>\n",
       "      <th>mileage<\/th>\n",
       "      <th>engV<\/th>\n",
       "      <th>engType<\/th>\n",
       "      <th>registration<\/th>\n",
       "      <th>year<\/th>\n",
       "      <th>model<\/th>\n",
       "      <th>drive<\/th>\n",
       "    <\/tr>\n",
       "  <\/thead>\n",
       "  <tbody>\n",
       "    <tr>\n",
       "      <th>0<\/th>\n",
       "      <td>25<\/td>\n",
       "      <td>0<\/td>\n",
       "      <td>68<\/td>\n",
       "      <td>2.5<\/td>\n",
       "      <td>1<\/td>\n",
       "      <td>1<\/td>\n",
       "      <td>2010<\/td>\n",
       "      <td>490<\/td>\n",
       "      <td>1<\/td>\n",
       "    <\/tr>\n",
       "    <tr>\n",
       "      <th>1<\/th>\n",
       "      <td>52<\/td>\n",
       "      <td>3<\/td>\n",
       "      <td>173<\/td>\n",
       "      <td>1.8<\/td>\n",
       "      <td>1<\/td>\n",
       "      <td>1<\/td>\n",
       "      <td>2011<\/td>\n",
       "      <td>332<\/td>\n",
       "      <td>3<\/td>\n",
       "    <\/tr>\n",
       "    <tr>\n",
       "      <th>2<\/th>\n",
       "      <td>52<\/td>\n",
       "      <td>2<\/td>\n",
       "      <td>135<\/td>\n",
       "      <td>5.5<\/td>\n",
       "      <td>3<\/td>\n",
       "      <td>1<\/td>\n",
       "      <td>2008<\/td>\n",
       "      <td>240<\/td>\n",
       "      <td>3<\/td>\n",
       "    <\/tr>\n",
       "  <\/tbody>\n",
       "<\/table>\n",
       "<\/div>"
      ]
     },
     "metadata":{
      
     },
     "output_type":"display_data"
    }
   ],
   "metadata":{
    "datalore":{
     "type":"CODE",
     "hide_input_from_viewers":false,
     "hide_output_from_viewers":false,
     "node_id":"56dkXpKED802sfc3sgE60X"
    }
   }
  },
  {
   "cell_type":"code",
   "source":[
    "xgb_params = {\n",
    "    'eta': 0.05,\n",
    "    'max_depth': 5,\n",
    "    'subsample': 0.7,\n",
    "    'colsample_bytree': 0.7,\n",
    "    'objective': 'reg:linear',\n",
    "    'eval_metric': 'rmse',\n",
    "    'silent': 1\n",
    "}"
   ],
   "execution_count":55,
   "outputs":[
    
   ],
   "metadata":{
    "datalore":{
     "type":"CODE",
     "hide_input_from_viewers":false,
     "hide_output_from_viewers":false,
     "node_id":"lM43uvug1zvCDfOySXJ1Fc"
    }
   }
  },
  {
   "cell_type":"code",
   "source":[
    "df.price.skew()"
   ],
   "execution_count":56,
   "outputs":[
    {
     "data":{
      "text\/plain":[
       "7.1129147348625485"
      ]
     },
     "metadata":{
      
     },
     "output_type":"display_data"
    }
   ],
   "metadata":{
    "datalore":{
     "type":"CODE",
     "hide_input_from_viewers":false,
     "hide_output_from_viewers":false,
     "node_id":"FBgr3V1C0xJnoPkg3xoikF"
    }
   }
  },
  {
   "cell_type":"code",
   "source":[
    "label_test_log=np.log(label_test)\n",
    "label_train_log=np.log(label_train)\n",
    "dtrain_log = xgb.DMatrix(data_train, label_train_log)\n",
    "label_train1=np.log(label_train)"
   ],
   "execution_count":57,
   "outputs":[
    
   ],
   "metadata":{
    "datalore":{
     "type":"CODE",
     "hide_input_from_viewers":false,
     "hide_output_from_viewers":false,
     "node_id":"hEMjhENViCMgIgFGbEmAUZ"
    }
   }
  },
  {
   "cell_type":"code",
   "source":[
    "label_train_log.skew()"
   ],
   "execution_count":59,
   "outputs":[
    {
     "data":{
      "text\/plain":[
       "0.17376919751900072"
      ]
     },
     "metadata":{
      
     },
     "output_type":"display_data"
    }
   ],
   "metadata":{
    "datalore":{
     "type":"CODE",
     "hide_input_from_viewers":false,
     "hide_output_from_viewers":false,
     "node_id":"VoLIOZmKAwr5ZUXOFq2DO5"
    }
   }
  },
  {
   "cell_type":"code",
   "source":[
    "dtrain = xgb.DMatrix(data_train, label_train)\n",
    "cv_output = xgb.cv(xgb_params, dtrain, num_boost_round=1000, early_stopping_rounds=20,\n",
    "    verbose_eval=50, show_stdv=False)"
   ],
   "execution_count":60,
   "outputs":[
    {
     "name":"stdout",
     "text":[
      "[01:49:48] WARNING: ..\/src\/objective\/regression_obj.cu:188: reg:linear is now deprecated in favor of reg:squarederror.\n",
      "[01:49:48] WARNING: ..\/src\/learner.cc:576: \n",
      "Parameters: { \"silent\" } might not be used.\n",
      "\n",
      "  This could be a false alarm, with some parameters getting used by language bindings but\n",
      "  then being mistakenly passed down to XGBoost core, or some parameter actually being used\n",
      "  but getting flagged wrongly here. Please open an issue if you find any such cases.\n",
      "\n",
      "\n",
      "[01:49:48] WARNING: ..\/src\/objective\/regression_obj.cu:188: reg:linear is now deprecated in favor of reg:squarederror.\n",
      "[01:49:48] WARNING: ..\/src\/learner.cc:576: \n",
      "Parameters: { \"silent\" } might not be used.\n",
      "\n",
      "  This could be a false alarm, with some parameters getting used by language bindings but\n",
      "  then being mistakenly passed down to XGBoost core, or some parameter actually being used\n",
      "  but getting flagged wrongly here. Please open an issue if you find any such cases.\n",
      "\n",
      "\n",
      "[01:49:48] WARNING: ..\/src\/objective\/regression_obj.cu:188: reg:linear is now deprecated in favor of reg:squarederror.\n",
      "[01:49:48] WARNING: ..\/src\/learner.cc:576: \n",
      "Parameters: { \"silent\" } might not be used.\n",
      "\n",
      "  This could be a false alarm, with some parameters getting used by language bindings but\n",
      "  then being mistakenly passed down to XGBoost core, or some parameter actually being used\n",
      "  but getting flagged wrongly here. Please open an issue if you find any such cases.\n",
      "\n",
      "\n",
      "[0]\ttrain-rmse:28534.94987\ttest-rmse:28536.16471\n",
      "[50]\ttrain-rmse:8802.87240\ttest-rmse:11343.85221\n",
      "[100]\ttrain-rmse:6050.26855\ttest-rmse:10059.95996\n",
      "[150]\ttrain-rmse:5095.78890\ttest-rmse:9711.53613\n",
      "[200]\ttrain-rmse:4495.04167\ttest-rmse:9599.86882\n",
      "[250]\ttrain-rmse:4059.98267\ttest-rmse:9519.81315\n",
      "[300]\ttrain-rmse:3718.43994\ttest-rmse:9457.12174\n",
      "[350]\ttrain-rmse:3472.59253\ttest-rmse:9409.51367\n",
      "[400]\ttrain-rmse:3264.04346\ttest-rmse:9362.08236\n",
      "[421]\ttrain-rmse:3189.67985\ttest-rmse:9365.56315\n"
     ],
     "output_type":"stream"
    }
   ],
   "metadata":{
    "datalore":{
     "type":"CODE",
     "hide_input_from_viewers":false,
     "hide_output_from_viewers":false,
     "node_id":"6c70RsLb85OLcZ9pt9TxAk"
    }
   }
  },
  {
   "cell_type":"code",
   "source":[
    "dtrain = xgb.DMatrix(data_train, label_train)\n",
    "cv_output = xgb.cv(xgb_params, dtrain, num_boost_round=1000, early_stopping_rounds=20,\n",
    "    verbose_eval=50, show_stdv=False)"
   ],
   "execution_count":61,
   "outputs":[
    {
     "name":"stdout",
     "text":[
      "[01:50:41] WARNING: ..\/src\/objective\/regression_obj.cu:188: reg:linear is now deprecated in favor of reg:squarederror.\n",
      "[01:50:41] WARNING: ..\/src\/learner.cc:576: \n",
      "Parameters: { \"silent\" } might not be used.\n",
      "\n",
      "  This could be a false alarm, with some parameters getting used by language bindings but\n",
      "  then being mistakenly passed down to XGBoost core, or some parameter actually being used\n",
      "  but getting flagged wrongly here. Please open an issue if you find any such cases.\n",
      "\n",
      "\n",
      "[01:50:41] WARNING: ..\/src\/objective\/regression_obj.cu:188: reg:linear is now deprecated in favor of reg:squarederror.\n",
      "[01:50:41] WARNING: ..\/src\/learner.cc:576: \n",
      "Parameters: { \"silent\" } might not be used.\n",
      "\n",
      "  This could be a false alarm, with some parameters getting used by language bindings but\n",
      "  then being mistakenly passed down to XGBoost core, or some parameter actually being used\n",
      "  but getting flagged wrongly here. Please open an issue if you find any such cases.\n",
      "\n",
      "\n",
      "[01:50:41] WARNING: ..\/src\/objective\/regression_obj.cu:188: reg:linear is now deprecated in favor of reg:squarederror.\n",
      "[01:50:41] WARNING: ..\/src\/learner.cc:576: \n",
      "Parameters: { \"silent\" } might not be used.\n",
      "\n",
      "  This could be a false alarm, with some parameters getting used by language bindings but\n",
      "  then being mistakenly passed down to XGBoost core, or some parameter actually being used\n",
      "  but getting flagged wrongly here. Please open an issue if you find any such cases.\n",
      "\n",
      "\n",
      "[0]\ttrain-rmse:28534.94987\ttest-rmse:28536.16471\n",
      "[50]\ttrain-rmse:8802.87240\ttest-rmse:11343.85221\n",
      "[100]\ttrain-rmse:6050.26855\ttest-rmse:10059.95996\n",
      "[150]\ttrain-rmse:5095.78890\ttest-rmse:9711.53613\n",
      "[200]\ttrain-rmse:4495.04167\ttest-rmse:9599.86882\n",
      "[250]\ttrain-rmse:4059.98267\ttest-rmse:9519.81315\n",
      "[300]\ttrain-rmse:3718.43994\ttest-rmse:9457.12174\n",
      "[350]\ttrain-rmse:3472.59253\ttest-rmse:9409.51367\n",
      "[400]\ttrain-rmse:3264.04346\ttest-rmse:9362.08236\n",
      "[421]\ttrain-rmse:3189.67985\ttest-rmse:9365.56315\n"
     ],
     "output_type":"stream"
    }
   ],
   "metadata":{
    "datalore":{
     "type":"CODE",
     "hide_input_from_viewers":false,
     "hide_output_from_viewers":false,
     "node_id":"04r0MaPi5fBMwdVz4N64XT"
    }
   }
  },
  {
   "cell_type":"code",
   "source":[
    "num_boost_rounds = len(cv_output)\n",
    "model = xgb.train(dict(xgb_params, silent=0), dtrain, num_boost_round= \n",
    "\n",
    "num_boost_rounds)\n",
    "num_boost_rounds = len(cv_output)\n",
    "model_log = xgb.train(dict(xgb_params, silent=0), dtrain_log, num_boost_round= \n",
    "\n",
    "num_boost_rounds)\n",
    "fig, ax = plt.subplots(1, 1, figsize=(8, 13))\n",
    "xgb.plot_importance(model, max_num_features=50, height=0.5, ax=ax)"
   ],
   "execution_count":62,
   "outputs":[
    {
     "name":"stdout",
     "text":[
      "[01:51:24] WARNING: ..\/src\/objective\/regression_obj.cu:188: reg:linear is now deprecated in favor of reg:squarederror.\n",
      "[01:51:24] WARNING: ..\/src\/learner.cc:576: \n",
      "Parameters: { \"silent\" } might not be used.\n",
      "\n",
      "  This could be a false alarm, with some parameters getting used by language bindings but\n",
      "  then being mistakenly passed down to XGBoost core, or some parameter actually being used\n",
      "  but getting flagged wrongly here. Please open an issue if you find any such cases.\n",
      "\n",
      "\n",
      "[01:51:26] WARNING: ..\/src\/objective\/regression_obj.cu:188: reg:linear is now deprecated in favor of reg:squarederror.\n",
      "[01:51:26] WARNING: ..\/src\/learner.cc:576: \n",
      "Parameters: { \"silent\" } might not be used.\n",
      "\n",
      "  This could be a false alarm, with some parameters getting used by language bindings but\n",
      "  then being mistakenly passed down to XGBoost core, or some parameter actually being used\n",
      "  but getting flagged wrongly here. Please open an issue if you find any such cases.\n",
      "\n",
      "\n"
     ],
     "output_type":"stream"
    },
    {
     "data":{
      "text\/plain":[
       "<AxesSubplot:title={'center':'Feature importance'}, xlabel='F score', ylabel='Features'>"
      ],
      "image\/png":"[encoded data removed]"
     },
     "metadata":{
      "image\/png":{
       
      }
     },
     "output_type":"display_data"
    }
   ],
   "metadata":{
    "datalore":{
     "type":"CODE",
     "hide_input_from_viewers":false,
     "hide_output_from_viewers":false,
     "node_id":"p2SyPvGUNAeROzMpBn9Vew"
    }
   }
  },
  {
   "cell_type":"code",
   "source":[
    "dtest=xgb.DMatrix(data_test)\n",
    "data_test.head(2)"
   ],
   "execution_count":63,
   "outputs":[
    {
     "data":{
      "text\/html":[
       "<div>\n",
       "<style scoped>\n",
       "    .dataframe tbody tr th:only-of-type {\n",
       "        vertical-align: middle;\n",
       "    }\n",
       "\n",
       "    .dataframe tbody tr th {\n",
       "        vertical-align: top;\n",
       "    }\n",
       "\n",
       "    .dataframe thead th {\n",
       "        text-align: right;\n",
       "    }\n",
       "<\/style>\n",
       "<table border=\"1\" class=\"dataframe\">\n",
       "  <thead>\n",
       "    <tr style=\"text-align: right;\">\n",
       "      <th><\/th>\n",
       "      <th>car<\/th>\n",
       "      <th>body<\/th>\n",
       "      <th>mileage<\/th>\n",
       "      <th>engV<\/th>\n",
       "      <th>engType<\/th>\n",
       "      <th>registration<\/th>\n",
       "      <th>year<\/th>\n",
       "      <th>model<\/th>\n",
       "      <th>drive<\/th>\n",
       "    <\/tr>\n",
       "  <\/thead>\n",
       "  <tbody>\n",
       "    <tr>\n",
       "      <th>6154<\/th>\n",
       "      <td>52<\/td>\n",
       "      <td>2<\/td>\n",
       "      <td>210<\/td>\n",
       "      <td>4.30<\/td>\n",
       "      <td>1<\/td>\n",
       "      <td>1<\/td>\n",
       "      <td>2000<\/td>\n",
       "      <td>544<\/td>\n",
       "      <td>1<\/td>\n",
       "    <\/tr>\n",
       "    <tr>\n",
       "      <th>144<\/th>\n",
       "      <td>52<\/td>\n",
       "      <td>0<\/td>\n",
       "      <td>0<\/td>\n",
       "      <td>2.98<\/td>\n",
       "      <td>0<\/td>\n",
       "      <td>1<\/td>\n",
       "      <td>2016<\/td>\n",
       "      <td>405<\/td>\n",
       "      <td>1<\/td>\n",
       "    <\/tr>\n",
       "  <\/tbody>\n",
       "<\/table>\n",
       "<\/div>"
      ]
     },
     "metadata":{
      
     },
     "output_type":"display_data"
    }
   ],
   "metadata":{
    "datalore":{
     "type":"CODE",
     "hide_input_from_viewers":false,
     "hide_output_from_viewers":false,
     "node_id":"JZlxkiU8Jl3HbUl3p3P856"
    }
   }
  },
  {
   "cell_type":"code",
   "source":[
    "y_predict = model.predict(dtest)\n",
    "out = pd.DataFrame({'Actual_price': label_test, 'predict_price': y_predict,'Diff' :(label_test-y_predict)})\n",
    "out[['Actual_price','predict_price','Diff']].head(5)"
   ],
   "execution_count":66,
   "outputs":[
    {
     "data":{
      "text\/html":[
       "<div>\n",
       "<style scoped>\n",
       "    .dataframe tbody tr th:only-of-type {\n",
       "        vertical-align: middle;\n",
       "    }\n",
       "\n",
       "    .dataframe tbody tr th {\n",
       "        vertical-align: top;\n",
       "    }\n",
       "\n",
       "    .dataframe thead th {\n",
       "        text-align: right;\n",
       "    }\n",
       "<\/style>\n",
       "<table border=\"1\" class=\"dataframe\">\n",
       "  <thead>\n",
       "    <tr style=\"text-align: right;\">\n",
       "      <th><\/th>\n",
       "      <th>Actual_price<\/th>\n",
       "      <th>predict_price<\/th>\n",
       "      <th>Diff<\/th>\n",
       "    <\/tr>\n",
       "  <\/thead>\n",
       "  <tbody>\n",
       "    <tr>\n",
       "      <th>6154<\/th>\n",
       "      <td>8500.0<\/td>\n",
       "      <td>10900.442383<\/td>\n",
       "      <td>-2400.442383<\/td>\n",
       "    <\/tr>\n",
       "    <tr>\n",
       "      <th>144<\/th>\n",
       "      <td>109999.0<\/td>\n",
       "      <td>109461.625000<\/td>\n",
       "      <td>537.375000<\/td>\n",
       "    <\/tr>\n",
       "    <tr>\n",
       "      <th>3627<\/th>\n",
       "      <td>14700.0<\/td>\n",
       "      <td>13294.122070<\/td>\n",
       "      <td>1405.877930<\/td>\n",
       "    <\/tr>\n",
       "    <tr>\n",
       "      <th>4541<\/th>\n",
       "      <td>12400.0<\/td>\n",
       "      <td>11158.984375<\/td>\n",
       "      <td>1241.015625<\/td>\n",
       "    <\/tr>\n",
       "    <tr>\n",
       "      <th>3200<\/th>\n",
       "      <td>10200.0<\/td>\n",
       "      <td>13556.566406<\/td>\n",
       "      <td>-3356.566406<\/td>\n",
       "    <\/tr>\n",
       "  <\/tbody>\n",
       "<\/table>\n",
       "<\/div>"
      ]
     },
     "metadata":{
      
     },
     "output_type":"display_data"
    }
   ],
   "metadata":{
    "datalore":{
     "type":"CODE",
     "hide_input_from_viewers":false,
     "hide_output_from_viewers":false,
     "node_id":"b71e9tyIZkoDiWydzPS7lV"
    }
   }
  },
  {
   "cell_type":"code",
   "source":[
    "y_predict_log = model_log.predict(dtest)\n",
    "y_predict_log=np.exp(y_predict_log)\n",
    "out_log = pd.DataFrame({'Actual_price': label_test, 'predict_price': y_predict_log,'Diff' :(label_test-y_predict_log)})\n",
    "out_log[['Actual_price','predict_price','Diff']].head(5)"
   ],
   "execution_count":68,
   "outputs":[
    {
     "data":{
      "text\/html":[
       "<div>\n",
       "<style scoped>\n",
       "    .dataframe tbody tr th:only-of-type {\n",
       "        vertical-align: middle;\n",
       "    }\n",
       "\n",
       "    .dataframe tbody tr th {\n",
       "        vertical-align: top;\n",
       "    }\n",
       "\n",
       "    .dataframe thead th {\n",
       "        text-align: right;\n",
       "    }\n",
       "<\/style>\n",
       "<table border=\"1\" class=\"dataframe\">\n",
       "  <thead>\n",
       "    <tr style=\"text-align: right;\">\n",
       "      <th><\/th>\n",
       "      <th>Actual_price<\/th>\n",
       "      <th>predict_price<\/th>\n",
       "      <th>Diff<\/th>\n",
       "    <\/tr>\n",
       "  <\/thead>\n",
       "  <tbody>\n",
       "    <tr>\n",
       "      <th>6154<\/th>\n",
       "      <td>8500.0<\/td>\n",
       "      <td>10020.202148<\/td>\n",
       "      <td>-1520.202148<\/td>\n",
       "    <\/tr>\n",
       "    <tr>\n",
       "      <th>144<\/th>\n",
       "      <td>109999.0<\/td>\n",
       "      <td>113645.640625<\/td>\n",
       "      <td>-3646.640625<\/td>\n",
       "    <\/tr>\n",
       "    <tr>\n",
       "      <th>3627<\/th>\n",
       "      <td>14700.0<\/td>\n",
       "      <td>14310.958008<\/td>\n",
       "      <td>389.041992<\/td>\n",
       "    <\/tr>\n",
       "    <tr>\n",
       "      <th>4541<\/th>\n",
       "      <td>12400.0<\/td>\n",
       "      <td>11392.197266<\/td>\n",
       "      <td>1007.802734<\/td>\n",
       "    <\/tr>\n",
       "    <tr>\n",
       "      <th>3200<\/th>\n",
       "      <td>10200.0<\/td>\n",
       "      <td>11306.722656<\/td>\n",
       "      <td>-1106.722656<\/td>\n",
       "    <\/tr>\n",
       "  <\/tbody>\n",
       "<\/table>\n",
       "<\/div>"
      ]
     },
     "metadata":{
      
     },
     "output_type":"display_data"
    }
   ],
   "metadata":{
    "datalore":{
     "type":"CODE",
     "hide_input_from_viewers":false,
     "hide_output_from_viewers":false,
     "node_id":"sadW3bRiUtyjLH0goDqtUu"
    }
   }
  },
  {
   "cell_type":"code",
   "source":[
    "sns.regplot(out_log['predict_price'],out_log['Diff'])"
   ],
   "execution_count":69,
   "outputs":[
    {
     "data":{
      "text\/plain":[
       "<AxesSubplot:xlabel='predict_price', ylabel='Diff'>"
      ],
      "image\/png":"[encoded data removed]"
     },
     "metadata":{
      "image\/png":{
       
      }
     },
     "output_type":"display_data"
    }
   ],
   "metadata":{
    "datalore":{
     "type":"CODE",
     "hide_input_from_viewers":false,
     "hide_output_from_viewers":false,
     "node_id":"uFbKvrKEUP8v0k8AXLtaM8"
    }
   }
  },
  {
   "cell_type":"code",
   "source":[
    "out[['Actual_price','predict_price','Diff']].head(3)"
   ],
   "execution_count":70,
   "outputs":[
    {
     "data":{
      "text\/html":[
       "<div>\n",
       "<style scoped>\n",
       "    .dataframe tbody tr th:only-of-type {\n",
       "        vertical-align: middle;\n",
       "    }\n",
       "\n",
       "    .dataframe tbody tr th {\n",
       "        vertical-align: top;\n",
       "    }\n",
       "\n",
       "    .dataframe thead th {\n",
       "        text-align: right;\n",
       "    }\n",
       "<\/style>\n",
       "<table border=\"1\" class=\"dataframe\">\n",
       "  <thead>\n",
       "    <tr style=\"text-align: right;\">\n",
       "      <th><\/th>\n",
       "      <th>Actual_price<\/th>\n",
       "      <th>predict_price<\/th>\n",
       "      <th>Diff<\/th>\n",
       "    <\/tr>\n",
       "  <\/thead>\n",
       "  <tbody>\n",
       "    <tr>\n",
       "      <th>6154<\/th>\n",
       "      <td>8500.0<\/td>\n",
       "      <td>10900.442383<\/td>\n",
       "      <td>-2400.442383<\/td>\n",
       "    <\/tr>\n",
       "    <tr>\n",
       "      <th>144<\/th>\n",
       "      <td>109999.0<\/td>\n",
       "      <td>109461.625000<\/td>\n",
       "      <td>537.375000<\/td>\n",
       "    <\/tr>\n",
       "    <tr>\n",
       "      <th>3627<\/th>\n",
       "      <td>14700.0<\/td>\n",
       "      <td>13294.122070<\/td>\n",
       "      <td>1405.877930<\/td>\n",
       "    <\/tr>\n",
       "  <\/tbody>\n",
       "<\/table>\n",
       "<\/div>"
      ]
     },
     "metadata":{
      
     },
     "output_type":"display_data"
    }
   ],
   "metadata":{
    "datalore":{
     "type":"CODE",
     "hide_input_from_viewers":false,
     "hide_output_from_viewers":false,
     "node_id":"so0HhVGaTD8rIfWPTg4ywG"
    }
   }
  },
  {
   "cell_type":"code",
   "source":[
    "sns.regplot(out['Actual_price'],out['Diff'])"
   ],
   "execution_count":71,
   "outputs":[
    {
     "data":{
      "text\/plain":[
       "<AxesSubplot:xlabel='Actual_price', ylabel='Diff'>"
      ],
      "image\/png":"[encoded data removed]"
     },
     "metadata":{
      "image\/png":{
       
      }
     },
     "output_type":"display_data"
    }
   ],
   "metadata":{
    "datalore":{
     "type":"CODE",
     "hide_input_from_viewers":false,
     "hide_output_from_viewers":false,
     "node_id":"VM2xyhXAeI5TqGIMV1gcgL"
    }
   }
  },
  {
   "cell_type":"code",
   "source":[
    "sns.regplot(out['predict_price'],out['Diff'])"
   ],
   "execution_count":72,
   "outputs":[
    {
     "data":{
      "text\/plain":[
       "<AxesSubplot:xlabel='predict_price', ylabel='Diff'>"
      ],
      "image\/png":"[encoded data removed]"
     },
     "metadata":{
      "image\/png":{
       
      }
     },
     "output_type":"display_data"
    }
   ],
   "metadata":{
    "datalore":{
     "type":"CODE",
     "hide_input_from_viewers":false,
     "hide_output_from_viewers":false,
     "node_id":"ypMDbxoVdIIofpOt1eM5XQ"
    }
   }
  }
 ],
 "metadata":{
  "datalore":{
   "version":1,
   "computation_mode":"JUPYTER",
   "package_manager":"pip",
   "base_environment":"default",
   "packages":[
    
   ]
  }
 },
 "nbformat":4,
 "nbformat_minor":4
}