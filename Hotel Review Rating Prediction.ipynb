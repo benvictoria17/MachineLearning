{
 "cells": [
  {
   "cell_type": "code",
   "execution_count": 1,
   "id": "d9866edb",
   "metadata": {
    "_cell_guid": "b1076dfc-b9ad-4769-8c92-a6c4dae69d19",
    "_uuid": "8f2839f25d086af736a60e9eeb907d3b93b6e0e5",
    "execution": {
     "iopub.execute_input": "2022-06-01T02:41:51.883368Z",
     "iopub.status.busy": "2022-06-01T02:41:51.882721Z",
     "iopub.status.idle": "2022-06-01T02:42:04.135602Z",
     "shell.execute_reply": "2022-06-01T02:42:04.134416Z"
    },
    "papermill": {
     "duration": 12.266377,
     "end_time": "2022-06-01T02:42:04.138084",
     "exception": false,
     "start_time": "2022-06-01T02:41:51.871707",
     "status": "completed"
    },
    "tags": []
   },
   "outputs": [],
   "source": [
    "import pandas as pd\n",
    "import numpy as np\n",
    "import matplotlib.pyplot as plt\n",
    "%matplotlib inline\n",
    "import seaborn as sns\n",
    "import warnings\n",
    "warnings.filterwarnings('ignore')\n",
    "from collections import Counter\n",
    "import string\n",
    "from nltk.corpus import stopwords\n",
    "import spacy\n",
    "from wordcloud import WordCloud\n",
    "from sklearn.model_selection import StratifiedKFold\n",
    "from sklearn.ensemble import RandomForestClassifier\n",
    "from sklearn.feature_extraction.text import TfidfVectorizer,CountVectorizer\n",
    "from sklearn.linear_model import LogisticRegression\n",
    "from sklearn.metrics import log_loss,f1_score,confusion_matrix,plot_confusion_matrix\n",
    "from scipy.sparse import hstack,csr_matrix\n",
    "from tqdm import tqdm\n",
    "import operator"
   ]
  },
  {
   "cell_type": "code",
   "execution_count": 2,
   "id": "f629b488",
   "metadata": {
    "execution": {
     "iopub.execute_input": "2022-06-01T02:42:04.152437Z",
     "iopub.status.busy": "2022-06-01T02:42:04.151540Z",
     "iopub.status.idle": "2022-06-01T02:42:05.843756Z",
     "shell.execute_reply": "2022-06-01T02:42:05.842711Z"
    },
    "papermill": {
     "duration": 1.701996,
     "end_time": "2022-06-01T02:42:05.846193",
     "exception": false,
     "start_time": "2022-06-01T02:42:04.144197",
     "status": "completed"
    },
    "tags": []
   },
   "outputs": [],
   "source": [
    "data = pd.read_csv(\"https://raw.githubusercontent.com/benvictoria17/DataAnalytics/main/dataset/Trip%20Advisor%20Hotel%20Reviews/tripadvisor_hotel_reviews.csv\")"
   ]
  },
  {
   "cell_type": "code",
   "execution_count": 3,
   "id": "9735eae8",
   "metadata": {
    "execution": {
     "iopub.execute_input": "2022-06-01T02:42:05.859985Z",
     "iopub.status.busy": "2022-06-01T02:42:05.859297Z",
     "iopub.status.idle": "2022-06-01T02:42:05.876980Z",
     "shell.execute_reply": "2022-06-01T02:42:05.875745Z"
    },
    "papermill": {
     "duration": 0.027688,
     "end_time": "2022-06-01T02:42:05.879698",
     "exception": false,
     "start_time": "2022-06-01T02:42:05.852010",
     "status": "completed"
    },
    "tags": []
   },
   "outputs": [
    {
     "data": {
      "text/html": [
       "<div>\n",
       "<style scoped>\n",
       "    .dataframe tbody tr th:only-of-type {\n",
       "        vertical-align: middle;\n",
       "    }\n",
       "\n",
       "    .dataframe tbody tr th {\n",
       "        vertical-align: top;\n",
       "    }\n",
       "\n",
       "    .dataframe thead th {\n",
       "        text-align: right;\n",
       "    }\n",
       "</style>\n",
       "<table border=\"1\" class=\"dataframe\">\n",
       "  <thead>\n",
       "    <tr style=\"text-align: right;\">\n",
       "      <th></th>\n",
       "      <th>Review</th>\n",
       "      <th>Rating</th>\n",
       "    </tr>\n",
       "  </thead>\n",
       "  <tbody>\n",
       "    <tr>\n",
       "      <th>0</th>\n",
       "      <td>nice hotel expensive parking got good deal sta...</td>\n",
       "      <td>4</td>\n",
       "    </tr>\n",
       "    <tr>\n",
       "      <th>1</th>\n",
       "      <td>ok nothing special charge diamond member hilto...</td>\n",
       "      <td>2</td>\n",
       "    </tr>\n",
       "    <tr>\n",
       "      <th>2</th>\n",
       "      <td>nice rooms not 4* experience hotel monaco seat...</td>\n",
       "      <td>3</td>\n",
       "    </tr>\n",
       "    <tr>\n",
       "      <th>3</th>\n",
       "      <td>unique, great stay, wonderful time hotel monac...</td>\n",
       "      <td>5</td>\n",
       "    </tr>\n",
       "    <tr>\n",
       "      <th>4</th>\n",
       "      <td>great stay great stay, went seahawk game aweso...</td>\n",
       "      <td>5</td>\n",
       "    </tr>\n",
       "  </tbody>\n",
       "</table>\n",
       "</div>"
      ],
      "text/plain": [
       "                                              Review  Rating\n",
       "0  nice hotel expensive parking got good deal sta...       4\n",
       "1  ok nothing special charge diamond member hilto...       2\n",
       "2  nice rooms not 4* experience hotel monaco seat...       3\n",
       "3  unique, great stay, wonderful time hotel monac...       5\n",
       "4  great stay great stay, went seahawk game aweso...       5"
      ]
     },
     "execution_count": 3,
     "metadata": {},
     "output_type": "execute_result"
    }
   ],
   "source": [
    "data.head()"
   ]
  },
  {
   "cell_type": "code",
   "execution_count": 4,
   "id": "1b765680",
   "metadata": {
    "execution": {
     "iopub.execute_input": "2022-06-01T02:42:05.893451Z",
     "iopub.status.busy": "2022-06-01T02:42:05.892853Z",
     "iopub.status.idle": "2022-06-01T02:42:05.898739Z",
     "shell.execute_reply": "2022-06-01T02:42:05.898018Z"
    },
    "papermill": {
     "duration": 0.01474,
     "end_time": "2022-06-01T02:42:05.900463",
     "exception": false,
     "start_time": "2022-06-01T02:42:05.885723",
     "status": "completed"
    },
    "tags": []
   },
   "outputs": [
    {
     "data": {
      "text/plain": [
       "(20491, 2)"
      ]
     },
     "execution_count": 4,
     "metadata": {},
     "output_type": "execute_result"
    }
   ],
   "source": [
    "data.shape"
   ]
  },
  {
   "cell_type": "code",
   "execution_count": 5,
   "id": "e9a89861",
   "metadata": {
    "execution": {
     "iopub.execute_input": "2022-06-01T02:42:05.914380Z",
     "iopub.status.busy": "2022-06-01T02:42:05.913665Z",
     "iopub.status.idle": "2022-06-01T02:42:05.924937Z",
     "shell.execute_reply": "2022-06-01T02:42:05.923842Z"
    },
    "papermill": {
     "duration": 0.020648,
     "end_time": "2022-06-01T02:42:05.927092",
     "exception": false,
     "start_time": "2022-06-01T02:42:05.906444",
     "status": "completed"
    },
    "tags": []
   },
   "outputs": [
    {
     "data": {
      "text/plain": [
       "Review    0\n",
       "Rating    0\n",
       "dtype: int64"
      ]
     },
     "execution_count": 5,
     "metadata": {},
     "output_type": "execute_result"
    }
   ],
   "source": [
    "data.isna().sum()"
   ]
  },
  {
   "cell_type": "code",
   "execution_count": 6,
   "id": "e7c65a14",
   "metadata": {
    "execution": {
     "iopub.execute_input": "2022-06-01T02:42:05.940920Z",
     "iopub.status.busy": "2022-06-01T02:42:05.940215Z",
     "iopub.status.idle": "2022-06-01T02:42:06.120226Z",
     "shell.execute_reply": "2022-06-01T02:42:06.119457Z"
    },
    "papermill": {
     "duration": 0.189236,
     "end_time": "2022-06-01T02:42:06.122322",
     "exception": false,
     "start_time": "2022-06-01T02:42:05.933086",
     "status": "completed"
    },
    "tags": []
   },
   "outputs": [
    {
     "data": {
      "text/plain": [
       "Text(0, 0.5, 'Count')"
      ]
     },
     "execution_count": 6,
     "metadata": {},
     "output_type": "execute_result"
    },
    {
     "data": {
      "image/png": "[encoded data removed]",
      "text/plain": [
       "<Figure size 576x576 with 1 Axes>"
      ]
     },
     "metadata": {
      "needs_background": "light"
     },
     "output_type": "display_data"
    }
   ],
   "source": [
    "plt.figure(figsize=(8,8))\n",
    "sns.countplot(data['Rating'])\n",
    "plt.title('Ratings Count in the dataset',fontsize=15)\n",
    "plt.xlabel('Rating',fontsize=8)\n",
    "plt.ylabel('Count',fontsize=8)"
   ]
  },
  {
   "cell_type": "code",
   "execution_count": 7,
   "id": "ed4e5881",
   "metadata": {
    "execution": {
     "iopub.execute_input": "2022-06-01T02:42:06.137854Z",
     "iopub.status.busy": "2022-06-01T02:42:06.137457Z",
     "iopub.status.idle": "2022-06-01T02:42:06.148570Z",
     "shell.execute_reply": "2022-06-01T02:42:06.147601Z"
    },
    "papermill": {
     "duration": 0.020581,
     "end_time": "2022-06-01T02:42:06.150410",
     "exception": false,
     "start_time": "2022-06-01T02:42:06.129829",
     "status": "completed"
    },
    "tags": []
   },
   "outputs": [
    {
     "data": {
      "text/plain": [
       "5    44.185252\n",
       "4    29.471475\n",
       "3    10.658338\n",
       "2     8.750183\n",
       "1     6.934752\n",
       "Name: Rating, dtype: float64"
      ]
     },
     "execution_count": 7,
     "metadata": {},
     "output_type": "execute_result"
    }
   ],
   "source": [
    "(data['Rating'].value_counts()/data.shape[0])*100"
   ]
  },
  {
   "cell_type": "code",
   "execution_count": 8,
   "id": "d7f71016",
   "metadata": {
    "execution": {
     "iopub.execute_input": "2022-06-01T02:42:06.165895Z",
     "iopub.status.busy": "2022-06-01T02:42:06.165205Z",
     "iopub.status.idle": "2022-06-01T02:42:06.175003Z",
     "shell.execute_reply": "2022-06-01T02:42:06.174333Z"
    },
    "papermill": {
     "duration": 0.019817,
     "end_time": "2022-06-01T02:42:06.176763",
     "exception": false,
     "start_time": "2022-06-01T02:42:06.156946",
     "status": "completed"
    },
    "tags": []
   },
   "outputs": [
    {
     "data": {
      "text/plain": [
       "['nice hotel expensive parking got good deal stay hotel anniversary, arrived late evening took advice previous reviews did valet parking, check quick easy, little disappointed non-existent view room room clean nice size, bed comfortable woke stiff neck high pillows, not soundproof like heard music room night morning loud bangs doors opening closing hear people talking hallway, maybe just noisy neighbors, aveda bath products nice, did not goldfish stay nice touch taken advantage staying longer, location great walking distance shopping, overall nice experience having pay 40 parking night,  ',\n",
       " 'ok nothing special charge diamond member hilton decided chain shot 20th anniversary seattle, start booked suite paid extra website description not, suite bedroom bathroom standard hotel room, took printed reservation desk showed said things like tv couch ect desk clerk told oh mixed suites description kimpton website sorry free breakfast, got kidding, embassy suits sitting room bathroom bedroom unlike kimpton calls suite, 5 day stay offer correct false advertising, send kimpton preferred guest website email asking failure provide suite advertised website reservation description furnished hard copy reservation printout website desk manager duty did not reply solution, send email trip guest survey did not follow email mail, guess tell concerned guest.the staff ranged indifferent not helpful, asked desk good breakfast spots neighborhood hood told no hotels, gee best breakfast spots seattle 1/2 block away convenient hotel does not know exist, arrived late night 11 pm inside run bellman busy chating cell phone help bags.prior arrival emailed hotel inform 20th anniversary half really picky wanted make sure good, got nice email saying like deliver bottle champagne chocolate covered strawberries room arrival celebrate, told needed foam pillows, arrival no champagne strawberries no foam pillows great room view alley high rise building good not better housekeeping staff cleaner room property, impressed left morning shopping room got short trips 2 hours, beds comfortable.not good ac-heat control 4 x 4 inch screen bring green shine directly eyes night, light sensitive tape controls.this not 4 start hotel clean business hotel super high rates, better chain hotels seattle,  ',\n",
       " \"nice rooms not 4* experience hotel monaco seattle good hotel n't 4* level.positives large bathroom mediterranean suite comfortable bed pillowsattentive housekeeping staffnegatives ac unit malfunctioned stay desk disorganized, missed 3 separate wakeup calls, concierge busy hard touch, did n't provide guidance special requests.tv hard use ipod sound dock suite non functioning. decided book mediterranean suite 3 night weekend stay 1st choice rest party filled, comparison w spent 45 night larger square footage room great soaking tub whirlpool jets nice shower.before stay hotel arrange car service price 53 tip reasonable driver waiting arrival.checkin easy downside room picked 2 person jacuzi tub no bath accessories salts bubble bath did n't stay, night got 12/1a checked voucher bottle champagne nice gesture fish waiting room, impression room huge open space felt room big, tv far away bed chore change channel, ipod dock broken disappointing.in morning way asked desk check thermostat said 65f 74 2 degrees warm try cover face night bright blue light kept, got room night no, 1st drop desk, called maintainence came look thermostat told play settings happy digital box wo n't work, asked wakeup 10am morning did n't happen, called later 6pm nap wakeup forgot, 10am wakeup morning yep forgotten.the bathroom facilities great room surprised room sold whirlpool bath tub n't bath amenities, great relax water jets going,  \"]"
      ]
     },
     "execution_count": 8,
     "metadata": {},
     "output_type": "execute_result"
    }
   ],
   "source": [
    "list(data['Review'])[:3]"
   ]
  },
  {
   "cell_type": "code",
   "execution_count": 9,
   "id": "6d23b305",
   "metadata": {
    "execution": {
     "iopub.execute_input": "2022-06-01T02:42:06.193526Z",
     "iopub.status.busy": "2022-06-01T02:42:06.192789Z",
     "iopub.status.idle": "2022-06-01T02:42:07.132283Z",
     "shell.execute_reply": "2022-06-01T02:42:07.131161Z"
    },
    "papermill": {
     "duration": 0.950901,
     "end_time": "2022-06-01T02:42:07.134516",
     "exception": false,
     "start_time": "2022-06-01T02:42:06.183615",
     "status": "completed"
    },
    "tags": []
   },
   "outputs": [
    {
     "data": {
      "text/plain": [
       "[('punta cana', 151),\n",
       " ('credit card', 114),\n",
       " ('customer service', 108),\n",
       " ('stay away', 80),\n",
       " ('air conditioning', 78),\n",
       " ('travel agent', 66),\n",
       " ('san juan', 62),\n",
       " ('hot water', 61),\n",
       " ('desk staff', 57),\n",
       " ('new orleans', 54)]"
      ]
     },
     "execution_count": 9,
     "metadata": {},
     "output_type": "execute_result"
    }
   ],
   "source": [
    "stopwrds=set(stopwords.words(\"english\"))\n",
    "def get_bigram(df,n):\n",
    "   \n",
    "    vec=CountVectorizer(ngram_range=(2,2),stop_words=stopwrds).fit(df)\n",
    "    bag_of_words=vec.transform(df)\n",
    "    sum_words=bag_of_words.sum(0)\n",
    "    word_freq=[(word,sum_words[0,idx]) for word,idx in vec.vocabulary_.items()]\n",
    "    word_freq=sorted(word_freq,key=lambda x:x[1],reverse=True)\n",
    "    return word_freq[:n]\n",
    "bigram_rat1=get_bigram(data.loc[data['Rating']==1,'Review'].apply(lambda x:\" \".join(sent for sent in x.split() if sent not in ['did','not','hotel','room','does'])),10)\n",
    "bigram_rat1"
   ]
  },
  {
   "cell_type": "code",
   "execution_count": 10,
   "id": "434b1a91",
   "metadata": {
    "execution": {
     "iopub.execute_input": "2022-06-01T02:42:07.149491Z",
     "iopub.status.busy": "2022-06-01T02:42:07.149094Z",
     "iopub.status.idle": "2022-06-01T02:42:08.470047Z",
     "shell.execute_reply": "2022-06-01T02:42:08.469020Z"
    },
    "papermill": {
     "duration": 1.331219,
     "end_time": "2022-06-01T02:42:08.472488",
     "exception": false,
     "start_time": "2022-06-01T02:42:07.141269",
     "status": "completed"
    },
    "tags": []
   },
   "outputs": [
    {
     "data": {
      "text/plain": [
       "[('punta cana', 201),\n",
       " ('air conditioning', 142),\n",
       " ('staff friendly', 128),\n",
       " ('san juan', 100),\n",
       " ('great location', 97),\n",
       " ('make sure', 89),\n",
       " ('stayed nights', 88),\n",
       " ('good location', 78),\n",
       " ('customer service', 75),\n",
       " ('non smoking', 73)]"
      ]
     },
     "execution_count": 10,
     "metadata": {},
     "output_type": "execute_result"
    }
   ],
   "source": [
    "bigram_rat2=get_bigram(data.loc[data['Rating']==2,'Review'].apply(lambda x:\" \".join(sent for sent in x.split() if sent not in ['did','not','hotel','room','does'])),10)\n",
    "bigram_rat2"
   ]
  },
  {
   "cell_type": "code",
   "execution_count": 11,
   "id": "407f6909",
   "metadata": {
    "execution": {
     "iopub.execute_input": "2022-06-01T02:42:08.487942Z",
     "iopub.status.busy": "2022-06-01T02:42:08.487530Z",
     "iopub.status.idle": "2022-06-01T02:42:09.907286Z",
     "shell.execute_reply": "2022-06-01T02:42:09.906341Z"
    },
    "papermill": {
     "duration": 1.429865,
     "end_time": "2022-06-01T02:42:09.909401",
     "exception": false,
     "start_time": "2022-06-01T02:42:08.479536",
     "status": "completed"
    },
    "tags": []
   },
   "outputs": [
    {
     "data": {
      "text/plain": [
       "[('great location', 251),\n",
       " ('staff friendly', 242),\n",
       " ('punta cana', 207),\n",
       " ('good location', 176),\n",
       " ('stayed nights', 146),\n",
       " ('walking distance', 135),\n",
       " ('san juan', 130),\n",
       " ('good value', 122),\n",
       " ('location great', 114),\n",
       " ('make sure', 114)]"
      ]
     },
     "execution_count": 11,
     "metadata": {},
     "output_type": "execute_result"
    }
   ],
   "source": [
    "bigram_rat3=get_bigram(data.loc[data['Rating']==3,'Review'].apply(lambda x:\" \".join(sent for sent in x.split() if sent not in ['did','not','hotel','room','does'])),10)\n",
    "bigram_rat3"
   ]
  },
  {
   "cell_type": "code",
   "execution_count": 12,
   "id": "a9417bce",
   "metadata": {
    "execution": {
     "iopub.execute_input": "2022-06-01T02:42:09.926898Z",
     "iopub.status.busy": "2022-06-01T02:42:09.926056Z",
     "iopub.status.idle": "2022-06-01T02:42:13.542921Z",
     "shell.execute_reply": "2022-06-01T02:42:13.541291Z"
    },
    "papermill": {
     "duration": 3.627785,
     "end_time": "2022-06-01T02:42:13.545216",
     "exception": false,
     "start_time": "2022-06-01T02:42:09.917431",
     "status": "completed"
    },
    "tags": []
   },
   "outputs": [
    {
     "data": {
      "text/plain": [
       "[('great location', 845),\n",
       " ('staff friendly', 763),\n",
       " ('punta cana', 565),\n",
       " ('walking distance', 528),\n",
       " ('friendly helpful', 503),\n",
       " ('staff helpful', 416),\n",
       " ('good value', 414),\n",
       " ('stayed nights', 409),\n",
       " ('minute walk', 402),\n",
       " ('great time', 401)]"
      ]
     },
     "execution_count": 12,
     "metadata": {},
     "output_type": "execute_result"
    }
   ],
   "source": [
    "bigram_rat4=get_bigram(data.loc[data['Rating']==4,'Review'].apply(lambda x:\" \".join(sent for sent in x.split() if sent not in ['did','not','hotel','room','does'])),10)\n",
    "bigram_rat4"
   ]
  },
  {
   "cell_type": "code",
   "execution_count": 13,
   "id": "0c2ad763",
   "metadata": {
    "execution": {
     "iopub.execute_input": "2022-06-01T02:42:13.561392Z",
     "iopub.status.busy": "2022-06-01T02:42:13.560332Z",
     "iopub.status.idle": "2022-06-01T02:42:18.381833Z",
     "shell.execute_reply": "2022-06-01T02:42:18.380756Z"
    },
    "papermill": {
     "duration": 4.831851,
     "end_time": "2022-06-01T02:42:18.384092",
     "exception": false,
     "start_time": "2022-06-01T02:42:13.552241",
     "status": "completed"
    },
    "tags": []
   },
   "outputs": [
    {
     "data": {
      "text/plain": [
       "[('great location', 1014),\n",
       " ('staff friendly', 1013),\n",
       " ('friendly helpful', 777),\n",
       " ('highly recommend', 736),\n",
       " ('walking distance', 735),\n",
       " ('punta cana', 603),\n",
       " ('staff helpful', 540),\n",
       " ('place stay', 540),\n",
       " ('stayed nights', 511),\n",
       " ('minute walk', 511)]"
      ]
     },
     "execution_count": 13,
     "metadata": {},
     "output_type": "execute_result"
    }
   ],
   "source": [
    "bigram_rat5=get_bigram(data.loc[data['Rating']==5,'Review'].apply(lambda x:\" \".join(sent for sent in x.split() if sent not in ['did','not','hotel','room','does'])),10)\n",
    "bigram_rat5"
   ]
  },
  {
   "cell_type": "code",
   "execution_count": 14,
   "id": "3f871be0",
   "metadata": {
    "execution": {
     "iopub.execute_input": "2022-06-01T02:42:18.400881Z",
     "iopub.status.busy": "2022-06-01T02:42:18.400245Z",
     "iopub.status.idle": "2022-06-01T02:42:18.407730Z",
     "shell.execute_reply": "2022-06-01T02:42:18.406702Z"
    },
    "papermill": {
     "duration": 0.018609,
     "end_time": "2022-06-01T02:42:18.410423",
     "exception": false,
     "start_time": "2022-06-01T02:42:18.391814",
     "status": "completed"
    },
    "tags": []
   },
   "outputs": [
    {
     "data": {
      "text/plain": [
       "{'great location',\n",
       " 'punta cana',\n",
       " 'staff friendly',\n",
       " 'stayed nights',\n",
       " 'walking distance'}"
      ]
     },
     "execution_count": 14,
     "metadata": {},
     "output_type": "execute_result"
    }
   ],
   "source": [
    "set([x[0] for x in bigram_rat3])\\\n",
    "&set([x[0] for x in bigram_rat4])\\\n",
    "&set([x[0] for x in bigram_rat5])"
   ]
  },
  {
   "cell_type": "code",
   "execution_count": 15,
   "id": "0b2e4b55",
   "metadata": {
    "execution": {
     "iopub.execute_input": "2022-06-01T02:42:18.427030Z",
     "iopub.status.busy": "2022-06-01T02:42:18.426644Z",
     "iopub.status.idle": "2022-06-01T02:42:18.433744Z",
     "shell.execute_reply": "2022-06-01T02:42:18.432790Z"
    },
    "papermill": {
     "duration": 0.018153,
     "end_time": "2022-06-01T02:42:18.436068",
     "exception": false,
     "start_time": "2022-06-01T02:42:18.417915",
     "status": "completed"
    },
    "tags": []
   },
   "outputs": [
    {
     "data": {
      "text/plain": [
       "{'punta cana', 'san juan'}"
      ]
     },
     "execution_count": 15,
     "metadata": {},
     "output_type": "execute_result"
    }
   ],
   "source": [
    "set([x[0] for x in bigram_rat1])&set([x[0] for x in bigram_rat2])&set([x[0] for x in bigram_rat3])"
   ]
  },
  {
   "cell_type": "code",
   "execution_count": 16,
   "id": "958d4f81",
   "metadata": {
    "execution": {
     "iopub.execute_input": "2022-06-01T02:42:18.452132Z",
     "iopub.status.busy": "2022-06-01T02:42:18.451782Z",
     "iopub.status.idle": "2022-06-01T02:42:19.476402Z",
     "shell.execute_reply": "2022-06-01T02:42:19.475278Z"
    },
    "papermill": {
     "duration": 1.035668,
     "end_time": "2022-06-01T02:42:19.478982",
     "exception": false,
     "start_time": "2022-06-01T02:42:18.443314",
     "status": "completed"
    },
    "tags": []
   },
   "outputs": [
    {
     "data": {
      "text/plain": [
       "[('year old son', 14),\n",
       " ('king size bed', 13),\n",
       " ('melia caribe tropical', 12),\n",
       " ('holiday inn express', 10),\n",
       " ('staff extremely rude', 10),\n",
       " ('credit card details', 10),\n",
       " ('called desk told', 9),\n",
       " ('make matters worse', 9),\n",
       " ('reviews trip advisor', 9),\n",
       " ('long story short', 9)]"
      ]
     },
     "execution_count": 16,
     "metadata": {},
     "output_type": "execute_result"
    }
   ],
   "source": [
    "def get_trigram(df,n):\n",
    "   \n",
    "    vec=CountVectorizer(ngram_range=(3,3),stop_words=stopwrds).fit(df)\n",
    "    bag_of_words=vec.transform(df)\n",
    "    sum_words=bag_of_words.sum(0)\n",
    "    word_freq=[(word,sum_words[0,idx]) for word,idx in vec.vocabulary_.items()]\n",
    "    word_freq=sorted(word_freq,key=lambda x:x[1],reverse=True)\n",
    "    return word_freq[:n]\n",
    "trigram_rat1=get_trigram(data.loc[data['Rating']==1,'Review'].apply(lambda x:\" \".join(sent for sent in x.split() if sent not in ['did','not','hotel','room','does','san','juan','punta','cana'])),10)\n",
    "trigram_rat1"
   ]
  },
  {
   "cell_type": "code",
   "execution_count": 17,
   "id": "a6d17443",
   "metadata": {
    "execution": {
     "iopub.execute_input": "2022-06-01T02:42:19.499648Z",
     "iopub.status.busy": "2022-06-01T02:42:19.498989Z",
     "iopub.status.idle": "2022-06-01T02:42:21.040530Z",
     "shell.execute_reply": "2022-06-01T02:42:21.039425Z"
    },
    "papermill": {
     "duration": 1.555803,
     "end_time": "2022-06-01T02:42:21.043592",
     "exception": false,
     "start_time": "2022-06-01T02:42:19.487789",
     "status": "completed"
    },
    "tags": []
   },
   "outputs": [
    {
     "data": {
      "text/plain": [
       "[('king size bed', 29),\n",
       " ('staff friendly helpful', 24),\n",
       " ('reviews trip advisor', 15),\n",
       " ('la carte restaurants', 13),\n",
       " ('good value money', 12),\n",
       " ('coffee making facilities', 11),\n",
       " ('free internet access', 10),\n",
       " ('10 minute walk', 10),\n",
       " ('non smoking rooms', 10),\n",
       " ('let start saying', 10)]"
      ]
     },
     "execution_count": 17,
     "metadata": {},
     "output_type": "execute_result"
    }
   ],
   "source": [
    "trigram_rat2=get_trigram(data.loc[data['Rating']==2,'Review'].apply(lambda x:\" \".join(sent for sent in x.split() if sent not in ['did','not','hotel','room','does','san','juan','punta','cana'])),10)\n",
    "trigram_rat2"
   ]
  },
  {
   "cell_type": "code",
   "execution_count": 18,
   "id": "dc9a4926",
   "metadata": {
    "execution": {
     "iopub.execute_input": "2022-06-01T02:42:21.063544Z",
     "iopub.status.busy": "2022-06-01T02:42:21.063049Z",
     "iopub.status.idle": "2022-06-01T02:42:22.738481Z",
     "shell.execute_reply": "2022-06-01T02:42:22.737440Z"
    },
    "papermill": {
     "duration": 1.687365,
     "end_time": "2022-06-01T02:42:22.740693",
     "exception": false,
     "start_time": "2022-06-01T02:42:21.053328",
     "status": "completed"
    },
    "tags": []
   },
   "outputs": [
    {
     "data": {
      "text/plain": [
       "[('staff friendly helpful', 54),\n",
       " ('king size bed', 32),\n",
       " ('good value money', 31),\n",
       " ('10 minute walk', 29),\n",
       " ('flat screen tv', 27),\n",
       " ('la carte restaurants', 20),\n",
       " ('good location stayed', 18),\n",
       " ('15 minute walk', 17),\n",
       " ('clean staff friendly', 17),\n",
       " ('red light district', 17)]"
      ]
     },
     "execution_count": 18,
     "metadata": {},
     "output_type": "execute_result"
    }
   ],
   "source": [
    "trigram_rat3=get_trigram(data.loc[data['Rating']==3,'Review'].apply(lambda x:\" \".join(sent for sent in x.split() if sent not in ['did','not','hotel','room','does','san','juan','punta','cana'])),10)\n",
    "trigram_rat3"
   ]
  },
  {
   "cell_type": "code",
   "execution_count": 19,
   "id": "251f016a",
   "metadata": {
    "execution": {
     "iopub.execute_input": "2022-06-01T02:42:22.757143Z",
     "iopub.status.busy": "2022-06-01T02:42:22.756753Z",
     "iopub.status.idle": "2022-06-01T02:42:27.332594Z",
     "shell.execute_reply": "2022-06-01T02:42:27.331558Z"
    },
    "papermill": {
     "duration": 4.58636,
     "end_time": "2022-06-01T02:42:27.334540",
     "exception": false,
     "start_time": "2022-06-01T02:42:22.748180",
     "status": "completed"
    },
    "tags": []
   },
   "outputs": [
    {
     "data": {
      "text/plain": [
       "[('staff friendly helpful', 298),\n",
       " ('good value money', 125),\n",
       " ('10 minute walk', 99),\n",
       " ('great place stay', 98),\n",
       " ('flat screen tv', 89),\n",
       " ('easy walking distance', 85),\n",
       " ('la carte restaurants', 85),\n",
       " ('king size bed', 73),\n",
       " ('staff helpful friendly', 68),\n",
       " ('free internet access', 68)]"
      ]
     },
     "execution_count": 19,
     "metadata": {},
     "output_type": "execute_result"
    }
   ],
   "source": [
    "trigram_rat4=get_trigram(data.loc[data['Rating']==4,'Review'].apply(lambda x:\" \".join(sent for sent in x.split() if sent not in ['did','not','hotel','room','does','san','juan','punta','cana'])),10)\n",
    "trigram_rat4"
   ]
  },
  {
   "cell_type": "code",
   "execution_count": 20,
   "id": "07caf561",
   "metadata": {
    "execution": {
     "iopub.execute_input": "2022-06-01T02:42:27.352778Z",
     "iopub.status.busy": "2022-06-01T02:42:27.351762Z",
     "iopub.status.idle": "2022-06-01T02:42:33.494044Z",
     "shell.execute_reply": "2022-06-01T02:42:33.493293Z"
    },
    "papermill": {
     "duration": 6.153696,
     "end_time": "2022-06-01T02:42:33.496541",
     "exception": false,
     "start_time": "2022-06-01T02:42:27.342845",
     "status": "completed"
    },
    "tags": []
   },
   "outputs": [
    {
     "data": {
      "text/plain": [
       "[('staff friendly helpful', 403),\n",
       " ('great place stay', 169),\n",
       " ('flat screen tv', 151),\n",
       " ('king size bed', 114),\n",
       " ('10 minute walk', 114),\n",
       " ('staff helpful friendly', 104),\n",
       " ('great location great', 100),\n",
       " ('free internet access', 100),\n",
       " ('easy walking distance', 96),\n",
       " ('staff extremely helpful', 94)]"
      ]
     },
     "execution_count": 20,
     "metadata": {},
     "output_type": "execute_result"
    }
   ],
   "source": [
    "trigram_rat5=get_trigram(data.loc[data['Rating']==5,'Review'].apply(lambda x:\" \".join(sent for sent in x.split() if sent not in ['did','not','hotel','room','does','san','juan','punta','cana'])),10)\n",
    "trigram_rat5"
   ]
  },
  {
   "cell_type": "code",
   "execution_count": 21,
   "id": "44fe8e6b",
   "metadata": {
    "execution": {
     "iopub.execute_input": "2022-06-01T02:42:33.516635Z",
     "iopub.status.busy": "2022-06-01T02:42:33.515854Z",
     "iopub.status.idle": "2022-06-01T02:42:33.522104Z",
     "shell.execute_reply": "2022-06-01T02:42:33.521428Z"
    },
    "papermill": {
     "duration": 0.019161,
     "end_time": "2022-06-01T02:42:33.523909",
     "exception": false,
     "start_time": "2022-06-01T02:42:33.504748",
     "status": "completed"
    },
    "tags": []
   },
   "outputs": [
    {
     "data": {
      "text/plain": [
       "{'10 minute walk', 'flat screen tv', 'king size bed', 'staff friendly helpful'}"
      ]
     },
     "execution_count": 21,
     "metadata": {},
     "output_type": "execute_result"
    }
   ],
   "source": [
    "set([x[0] for x in trigram_rat3])\\\n",
    "&set([x[0] for x in trigram_rat4])\\\n",
    "&set([x[0] for x in trigram_rat5])"
   ]
  },
  {
   "cell_type": "code",
   "execution_count": 22,
   "id": "d0b85cf0",
   "metadata": {
    "execution": {
     "iopub.execute_input": "2022-06-01T02:42:33.542009Z",
     "iopub.status.busy": "2022-06-01T02:42:33.541425Z",
     "iopub.status.idle": "2022-06-01T02:42:33.547038Z",
     "shell.execute_reply": "2022-06-01T02:42:33.546427Z"
    },
    "papermill": {
     "duration": 0.016874,
     "end_time": "2022-06-01T02:42:33.548980",
     "exception": false,
     "start_time": "2022-06-01T02:42:33.532106",
     "status": "completed"
    },
    "tags": []
   },
   "outputs": [
    {
     "data": {
      "text/plain": [
       "{'king size bed'}"
      ]
     },
     "execution_count": 22,
     "metadata": {},
     "output_type": "execute_result"
    }
   ],
   "source": [
    "set([x[0] for x in trigram_rat1])\\\n",
    "&set([x[0] for x in trigram_rat2])\\\n",
    "&set([x[0] for x in trigram_rat3])"
   ]
  },
  {
   "cell_type": "code",
   "execution_count": 23,
   "id": "6fef1d07",
   "metadata": {
    "execution": {
     "iopub.execute_input": "2022-06-01T02:42:33.567883Z",
     "iopub.status.busy": "2022-06-01T02:42:33.567269Z",
     "iopub.status.idle": "2022-06-01T02:42:35.599943Z",
     "shell.execute_reply": "2022-06-01T02:42:35.598811Z"
    },
    "papermill": {
     "duration": 2.046269,
     "end_time": "2022-06-01T02:42:35.603255",
     "exception": false,
     "start_time": "2022-06-01T02:42:33.556986",
     "status": "completed"
    },
    "tags": []
   },
   "outputs": [
    {
     "data": {
      "text/plain": [
       "Text(0, 0.5, 'Num Stopwords')"
      ]
     },
     "execution_count": 23,
     "metadata": {},
     "output_type": "execute_result"
    },
    {
     "data": {
      "image/png": "[encoded data removed]",
      "text/plain": [
       "<Figure size 1080x720 with 4 Axes>"
      ]
     },
     "metadata": {
      "needs_background": "light"
     },
     "output_type": "display_data"
    }
   ],
   "source": [
    "data['length']=data['Review'].apply(lambda x:len(x.split()))\n",
    "data['num_chars']=data['Review'].apply(lambda x:len(str(x)))\n",
    "data['num_punctuations']=data['Review'].apply(lambda x:len([c for c in x if x in string.punctuation]))\n",
    "data['num_stopwords']=data['Review'].apply(lambda x:len([c for c in str(x).lower().split() if c in stopwrds]))\n",
    "plt.figure(figsize=(15,10))\n",
    "plt.subplot(2,2,1)\n",
    "sns.boxplot(x='Rating',y='length',data=data,palette=sns.color_palette('colorblind'))\n",
    "plt.title('Distribution of Length by Rating',fontsize=15)\n",
    "plt.xlabel('Rating',fontsize=8)\n",
    "plt.ylabel('Length',fontsize=8)\n",
    "plt.subplot(2,2,2)\n",
    "sns.boxplot(x='Rating',y='num_chars',data=data,palette=sns.color_palette('colorblind'))\n",
    "plt.title('Distribution of Number of Characters by Rating',fontsize=15)\n",
    "plt.xlabel('Rating',fontsize=8)\n",
    "plt.ylabel('Num Chars',fontsize=8)\n",
    "plt.subplot(2,2,3)\n",
    "sns.boxplot(x='Rating',y='num_punctuations',data=data,palette=sns.color_palette('colorblind'))\n",
    "plt.title('Distribution of Num Punctuations by Rating',fontsize=15)\n",
    "plt.xlabel('Rating',fontsize=8)\n",
    "plt.ylabel('Num Punctuations',fontsize=8)\n",
    "plt.subplot(2,2,4)\n",
    "sns.boxplot(x='Rating',y='num_stopwords',data=data,palette=sns.color_palette('colorblind'))\n",
    "plt.title('Distribution of Stopwords by Rating',fontsize=15)\n",
    "plt.xlabel('Rating',fontsize=8)\n",
    "plt.ylabel('Num Stopwords',fontsize=8)"
   ]
  },
  {
   "cell_type": "code",
   "execution_count": 24,
   "id": "a30a24eb",
   "metadata": {
    "execution": {
     "iopub.execute_input": "2022-06-01T02:42:35.623060Z",
     "iopub.status.busy": "2022-06-01T02:42:35.622177Z",
     "iopub.status.idle": "2022-06-01T02:42:35.633858Z",
     "shell.execute_reply": "2022-06-01T02:42:35.632755Z"
    },
    "papermill": {
     "duration": 0.024158,
     "end_time": "2022-06-01T02:42:35.636428",
     "exception": false,
     "start_time": "2022-06-01T02:42:35.612270",
     "status": "completed"
    },
    "tags": []
   },
   "outputs": [
    {
     "data": {
      "text/plain": [
       "4    9054\n",
       "3    6039\n",
       "2    2184\n",
       "1    1793\n",
       "0    1421\n",
       "Name: Rating, dtype: int64"
      ]
     },
     "execution_count": 24,
     "metadata": {},
     "output_type": "execute_result"
    }
   ],
   "source": [
    "kf=StratifiedKFold(n_splits=5,random_state=42,shuffle=True)\n",
    "feat=['length', 'num_chars', 'num_punctuations', 'num_stopwords']\n",
    "encoding_dict={1:0,\n",
    "              2:1,\n",
    "              3:2,\n",
    "              4:3,\n",
    "              5:4}\n",
    "data['Rating']=data['Rating'].map(encoding_dict)\n",
    "data[\"Rating\"].value_counts()"
   ]
  },
  {
   "cell_type": "code",
   "execution_count": 25,
   "id": "2fd885f1",
   "metadata": {
    "execution": {
     "iopub.execute_input": "2022-06-01T02:42:35.656191Z",
     "iopub.status.busy": "2022-06-01T02:42:35.655503Z",
     "iopub.status.idle": "2022-06-01T02:42:36.310309Z",
     "shell.execute_reply": "2022-06-01T02:42:36.308763Z"
    },
    "papermill": {
     "duration": 0.667587,
     "end_time": "2022-06-01T02:42:36.313074",
     "exception": false,
     "start_time": "2022-06-01T02:42:35.645487",
     "status": "completed"
    },
    "tags": []
   },
   "outputs": [],
   "source": [
    "nlp=spacy.load('en_core_web_sm',disable=['ner','parser','tagger'])\n",
    "\n",
    "def spacy_tokenizer(text):\n",
    "    tokens=[x.text for x in nlp(text)]\n",
    "    tokens=[tok.strip() for tok in tokens]\n",
    "    tokens=[tok for tok in tokens if tok!='' and tok not in ['did','not','hotel','room','does','san','juan','punta','cana']]\n",
    "    return tokens"
   ]
  },
  {
   "cell_type": "code",
   "execution_count": 26,
   "id": "b606f66d",
   "metadata": {
    "execution": {
     "iopub.execute_input": "2022-06-01T02:42:36.334089Z",
     "iopub.status.busy": "2022-06-01T02:42:36.333622Z",
     "iopub.status.idle": "2022-06-01T03:12:20.121497Z",
     "shell.execute_reply": "2022-06-01T03:12:20.119973Z"
    },
    "papermill": {
     "duration": 1783.811643,
     "end_time": "2022-06-01T03:12:20.133751",
     "exception": false,
     "start_time": "2022-06-01T02:42:36.322108",
     "status": "completed"
    },
    "tags": []
   },
   "outputs": [
    {
     "name": "stdout",
     "output_type": "stream",
     "text": [
      "Fold 1 Training ...\n",
      "Fold 1 f1 score 0.2501496382778444\n",
      "Fold 2 Training ...\n",
      "Fold 2 f1 score 0.24294156460285707\n",
      "Fold 3 Training ...\n",
      "Fold 3 f1 score 0.258254799551252\n",
      "Fold 4 Training ...\n",
      "Fold 4 f1 score 0.25097409648631863\n",
      "Fold 5 Training ...\n",
      "Fold 5 f1 score 0.24404982772527734\n",
      "Overall OOF f1 score 0.249300934667502\n"
     ]
    }
   ],
   "source": [
    "oof_preds_tfidf=np.zeros((len(data),1))\n",
    "for i,(trn_idx,val_idx) in enumerate(kf.split(data['Review'],data['Rating'])):\n",
    "    print(f'Fold {i+1} Training ...')\n",
    "    train_x=data.iloc[trn_idx,].reset_index(drop=True)\n",
    "    valid_x=data.iloc[val_idx,].reset_index(drop=True)\n",
    "    train_y=data.iloc[trn_idx,1].values\n",
    "    valid_y=data.iloc[val_idx,1].values\n",
    "    \n",
    "    word_vectorizer=TfidfVectorizer(analyzer='word',tokenizer=spacy_tokenizer,\n",
    "                       token_pattern=r'\\w{1,}',\n",
    "                       stop_words=stopwrds,\n",
    "                      ngram_range=(1,3),max_features=8000)\n",
    "    \n",
    "    word_vectorizer.fit(list(train_x['Review'].values))\n",
    "    train_word_vec=word_vectorizer.transform(list(train_x['Review']))\n",
    "    valid_word_vec=word_vectorizer.transform(list(valid_x['Review']))\n",
    "    train_x_sparse=hstack((csr_matrix(train_x[feat]),train_word_vec))\n",
    "    valid_x_sparse=hstack((csr_matrix(valid_x[feat]),valid_word_vec))\n",
    "    rf=RandomForestClassifier(n_estimators=500,\n",
    "                             max_depth=20,\n",
    "                             max_features='auto',\n",
    "                             min_samples_split=5,\n",
    "                             bootstrap=True,\n",
    "                             n_jobs=-1,\n",
    "                             random_state=42,\n",
    "                             verbose=False)\n",
    "    rf.fit(train_x_sparse,train_y)\n",
    "    preds=rf.predict(valid_x_sparse)\n",
    "    score=f1_score(valid_y,preds,average='macro')\n",
    "    print(f'Fold {i+1} f1 score {score}')\n",
    "    oof_preds_tfidf[val_idx]=preds.reshape(-1,1)\n",
    "oof_score_tfidf=f1_score(data['Rating'],oof_preds_tfidf.astype('int'),average='macro')\n",
    "print(f'Overall OOF f1 score {oof_score_tfidf}')"
   ]
  },
  {
   "cell_type": "code",
   "execution_count": 27,
   "id": "735a67f0",
   "metadata": {
    "execution": {
     "iopub.execute_input": "2022-06-01T03:12:20.156433Z",
     "iopub.status.busy": "2022-06-01T03:12:20.155992Z",
     "iopub.status.idle": "2022-06-01T03:41:42.521570Z",
     "shell.execute_reply": "2022-06-01T03:41:42.520439Z"
    },
    "papermill": {
     "duration": 1762.390115,
     "end_time": "2022-06-01T03:41:42.533653",
     "exception": false,
     "start_time": "2022-06-01T03:12:20.143538",
     "status": "completed"
    },
    "tags": []
   },
   "outputs": [
    {
     "name": "stdout",
     "output_type": "stream",
     "text": [
      "Fold 1 Training ...\n",
      "Fold 1 f1 score 0.25333593508972535\n",
      "Fold 2 Training ...\n",
      "Fold 2 f1 score 0.24329601099636672\n",
      "Fold 3 Training ...\n",
      "Fold 3 f1 score 0.2537143322109119\n",
      "Fold 4 Training ...\n",
      "Fold 4 f1 score 0.25227345467049017\n",
      "Fold 5 Training ...\n",
      "Fold 5 f1 score 0.2427402474458667\n",
      "Overall OOF f1 score 0.249098302331506\n"
     ]
    }
   ],
   "source": [
    "oof_preds_cv=np.zeros((len(data),1))\n",
    "for i,(trn_idx,val_idx) in enumerate(kf.split(data['Review'],data['Rating'])):\n",
    "    print(f'Fold {i+1} Training ...')\n",
    "    train_x=data.iloc[trn_idx,].reset_index(drop=True)\n",
    "    valid_x=data.iloc[val_idx,].reset_index(drop=True)\n",
    "    train_y=data.iloc[trn_idx,1].values\n",
    "    valid_y=data.iloc[val_idx,1].values\n",
    "    \n",
    "    count_vectorizer=CountVectorizer(analyzer='word',tokenizer=spacy_tokenizer,\n",
    "                       token_pattern=r'\\w{1,}',\n",
    "                       stop_words=stopwrds,\n",
    "                      ngram_range=(1,3),max_features=8000)\n",
    "    \n",
    "    count_vectorizer.fit(list(train_x['Review'].values))\n",
    "    train_word_vec=count_vectorizer.transform(list(train_x['Review']))\n",
    "    valid_word_vec=count_vectorizer.transform(list(valid_x['Review']))\n",
    "    train_x_sparse=hstack((csr_matrix(train_x[feat]),train_word_vec))\n",
    "    valid_x_sparse=hstack((csr_matrix(valid_x[feat]),valid_word_vec))\n",
    "    rf=RandomForestClassifier(n_estimators=500,\n",
    "                             max_depth=20,\n",
    "                             max_features='auto',\n",
    "                             min_samples_split=5,\n",
    "                             bootstrap=True,\n",
    "                             n_jobs=-1,\n",
    "                             random_state=42,\n",
    "                             verbose=False)\n",
    "    rf.fit(train_x_sparse,train_y)\n",
    "    preds=rf.predict(valid_x_sparse)\n",
    "    score=f1_score(valid_y,preds,average='macro')\n",
    "    print(f'Fold {i+1} f1 score {score}')\n",
    "    oof_preds_cv[val_idx]=preds.reshape(-1,1)\n",
    "oof_score_cv=f1_score(data['Rating'],oof_preds_cv.astype('int'),average='macro')\n",
    "print(f'Overall OOF f1 score {oof_score_cv}')"
   ]
  }
 ],
 "metadata": {
  "kernelspec": {
   "display_name": "Python 3",
   "language": "python",
   "name": "python3"
  },
  "language_info": {
   "codemirror_mode": {
    "name": "ipython",
    "version": 3
   },
   "file_extension": ".py",
   "mimetype": "text/x-python",
   "name": "python",
   "nbconvert_exporter": "python",
   "pygments_lexer": "ipython3",
   "version": "3.7.12"
  },
  "papermill": {
   "default_parameters": {},
   "duration": 3602.454735,
   "end_time": "2022-06-01T03:41:45.172601",
   "environment_variables": {},
   "exception": null,
   "input_path": "__notebook__.ipynb",
   "output_path": "__notebook__.ipynb",
   "parameters": {},
   "start_time": "2022-06-01T02:41:42.717866",
   "version": "2.3.4"
  }
 },
 "nbformat": 4,
 "nbformat_minor": 5
}
