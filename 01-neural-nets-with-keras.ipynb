{
 "cells": [
  {
   "cell_type": "code",
   "execution_count": 1,
   "id": "ignored-present",
   "metadata": {
    "execution": {
     "iopub.execute_input": "2021-03-31T21:20:23.498494Z",
     "iopub.status.busy": "2021-03-31T21:20:23.497773Z",
     "iopub.status.idle": "2021-03-31T21:20:29.588919Z",
     "shell.execute_reply": "2021-03-31T21:20:29.589518Z"
    },
    "id": "wrgXp6N1D1DR",
    "papermill": {
     "duration": 6.1431,
     "end_time": "2021-03-31T21:20:29.589826",
     "exception": false,
     "start_time": "2021-03-31T21:20:23.446726",
     "status": "completed"
    },
    "tags": []
   },
   "outputs": [],
   "source": [
    "# keras.io code:\n",
    "from keras.layers import Dense\n",
    "output_layer = Dense(10)\n",
    "\n",
    "# corresponding tf.keras code:\n",
    "from tensorflow.keras.layers import Dense\n",
    "output_layer = Dense(10)\n",
    "# or:\n",
    "from tensorflow import keras\n",
    "output_layer = keras.layers.Dense(10)"
   ]
  },
  {
   "cell_type": "code",
   "execution_count": 2,
   "id": "focal-flour",
   "metadata": {
    "execution": {
     "iopub.execute_input": "2021-03-31T21:20:29.677576Z",
     "iopub.status.busy": "2021-03-31T21:20:29.676859Z",
     "iopub.status.idle": "2021-03-31T21:20:29.686850Z",
     "shell.execute_reply": "2021-03-31T21:20:29.687428Z"
    },
    "id": "Qq4z8377D-qh",
    "papermill": {
     "duration": 0.055455,
     "end_time": "2021-03-31T21:20:29.687608",
     "exception": false,
     "start_time": "2021-03-31T21:20:29.632153",
     "status": "completed"
    },
    "tags": []
   },
   "outputs": [],
   "source": [
    "%matplotlib inline\n",
    "%load_ext tensorboard"
   ]
  },
  {
   "cell_type": "code",
   "execution_count": 3,
   "id": "sacred-harmony",
   "metadata": {
    "execution": {
     "iopub.execute_input": "2021-03-31T21:20:29.775201Z",
     "iopub.status.busy": "2021-03-31T21:20:29.774480Z",
     "iopub.status.idle": "2021-03-31T21:20:30.393158Z",
     "shell.execute_reply": "2021-03-31T21:20:30.393650Z"
    },
    "id": "Q4H-DCTfEVCr",
    "papermill": {
     "duration": 0.663929,
     "end_time": "2021-03-31T21:20:30.393852",
     "exception": false,
     "start_time": "2021-03-31T21:20:29.729923",
     "status": "completed"
    },
    "tags": []
   },
   "outputs": [],
   "source": [
    "import matplotlib as mpl\n",
    "import matplotlib.pyplot as plt\n",
    "import numpy as np\n",
    "import os\n",
    "import pandas as pd\n",
    "import sklearn\n",
    "import sys\n",
    "import tensorflow as tf\n",
    "from tensorflow import keras  # tf.keras\n",
    "import time"
   ]
  },
  {
   "cell_type": "code",
   "execution_count": 4,
   "id": "crucial-antarctica",
   "metadata": {
    "execution": {
     "iopub.execute_input": "2021-03-31T21:20:30.483954Z",
     "iopub.status.busy": "2021-03-31T21:20:30.483100Z",
     "iopub.status.idle": "2021-03-31T21:20:30.489970Z",
     "shell.execute_reply": "2021-03-31T21:20:30.490605Z"
    },
    "id": "Snuth6VaEW2b",
    "papermill": {
     "duration": 0.054885,
     "end_time": "2021-03-31T21:20:30.490778",
     "exception": false,
     "start_time": "2021-03-31T21:20:30.435893",
     "status": "completed"
    },
    "tags": []
   },
   "outputs": [
    {
     "name": "stdout",
     "output_type": "stream",
     "text": [
      "python 3.7.9 | packaged by conda-forge | (default, Feb 13 2021, 20:03:11) \n",
      "[GCC 9.3.0]\n",
      "matplotlib 3.4.0\n",
      "numpy 1.19.5\n",
      "pandas 1.2.2\n",
      "sklearn 0.24.1\n",
      "tensorflow 2.4.1\n",
      "tensorflow.keras 2.4.0\n"
     ]
    }
   ],
   "source": [
    "print(\"python\", sys.version)\n",
    "for module in mpl, np, pd, sklearn, tf, keras:\n",
    "    print(module.__name__, module.__version__)"
   ]
  },
  {
   "cell_type": "code",
   "execution_count": 5,
   "id": "packed-disability",
   "metadata": {
    "execution": {
     "iopub.execute_input": "2021-03-31T21:20:30.580185Z",
     "iopub.status.busy": "2021-03-31T21:20:30.579546Z",
     "iopub.status.idle": "2021-03-31T21:20:30.583442Z",
     "shell.execute_reply": "2021-03-31T21:20:30.583984Z"
    },
    "id": "uUqDXIsbEtrO",
    "papermill": {
     "duration": 0.049775,
     "end_time": "2021-03-31T21:20:30.584152",
     "exception": false,
     "start_time": "2021-03-31T21:20:30.534377",
     "status": "completed"
    },
    "tags": []
   },
   "outputs": [],
   "source": [
    "assert sys.version_info >= (3, 5) # Python ≥3.5 required\n",
    "assert tf.__version__ >= \"2.0\"    # TensorFlow ≥2.0 required"
   ]
  },
  {
   "cell_type": "code",
   "execution_count": 6,
   "id": "artistic-winner",
   "metadata": {
    "execution": {
     "iopub.execute_input": "2021-03-31T21:20:30.673942Z",
     "iopub.status.busy": "2021-03-31T21:20:30.673188Z",
     "iopub.status.idle": "2021-03-31T21:20:32.240741Z",
     "shell.execute_reply": "2021-03-31T21:20:32.240173Z"
    },
    "id": "t3XG5I7hLYoG",
    "papermill": {
     "duration": 1.613616,
     "end_time": "2021-03-31T21:20:32.240945",
     "exception": false,
     "start_time": "2021-03-31T21:20:30.627329",
     "status": "completed"
    },
    "tags": []
   },
   "outputs": [
    {
     "name": "stdout",
     "output_type": "stream",
     "text": [
      "Downloading data from https://storage.googleapis.com/tensorflow/tf-keras-datasets/train-labels-idx1-ubyte.gz\n",
      "32768/29515 [=================================] - 0s 0us/step\n",
      "Downloading data from https://storage.googleapis.com/tensorflow/tf-keras-datasets/train-images-idx3-ubyte.gz\n",
      "26427392/26421880 [==============================] - 0s 0us/step\n",
      "Downloading data from https://storage.googleapis.com/tensorflow/tf-keras-datasets/t10k-labels-idx1-ubyte.gz\n",
      "8192/5148 [===============================================] - 0s 0us/step\n",
      "Downloading data from https://storage.googleapis.com/tensorflow/tf-keras-datasets/t10k-images-idx3-ubyte.gz\n",
      "4423680/4422102 [==============================] - 0s 0us/step\n"
     ]
    }
   ],
   "source": [
    "fashion_mnist = keras.datasets.fashion_mnist\n",
    "(X_train_full, y_train_full), (X_test, y_test) = (\n",
    "    fashion_mnist.load_data())\n",
    "X_valid, X_train = X_train_full[:5000], X_train_full[5000:]\n",
    "y_valid, y_train = y_train_full[:5000], y_train_full[5000:]"
   ]
  },
  {
   "cell_type": "code",
   "execution_count": 7,
   "id": "reflected-sacramento",
   "metadata": {
    "execution": {
     "iopub.execute_input": "2021-03-31T21:20:32.343330Z",
     "iopub.status.busy": "2021-03-31T21:20:32.342580Z",
     "iopub.status.idle": "2021-03-31T21:20:32.347002Z",
     "shell.execute_reply": "2021-03-31T21:20:32.346434Z"
    },
    "id": "WzS54GBILY21",
    "papermill": {
     "duration": 0.058475,
     "end_time": "2021-03-31T21:20:32.347144",
     "exception": false,
     "start_time": "2021-03-31T21:20:32.288669",
     "status": "completed"
    },
    "tags": []
   },
   "outputs": [
    {
     "data": {
      "text/plain": [
       "(55000, 28, 28)"
      ]
     },
     "execution_count": 7,
     "metadata": {},
     "output_type": "execute_result"
    }
   ],
   "source": [
    "X_train.shape"
   ]
  },
  {
   "cell_type": "code",
   "execution_count": 8,
   "id": "instrumental-contrary",
   "metadata": {
    "execution": {
     "iopub.execute_input": "2021-03-31T21:20:32.448434Z",
     "iopub.status.busy": "2021-03-31T21:20:32.447613Z",
     "iopub.status.idle": "2021-03-31T21:20:32.461425Z",
     "shell.execute_reply": "2021-03-31T21:20:32.461980Z"
    },
    "id": "W8Ca1v2FLZM9",
    "papermill": {
     "duration": 0.066508,
     "end_time": "2021-03-31T21:20:32.462158",
     "exception": false,
     "start_time": "2021-03-31T21:20:32.395650",
     "status": "completed"
    },
    "tags": []
   },
   "outputs": [
    {
     "data": {
      "text/plain": [
       "array([[  0,   0,   0,   0,   0,   0,   0,   0,   0,   0,   0,   0,   0,\n",
       "          0,   0,   0,   0,   0,   0,   1,   0,   0,   0,   0,   0,   0,\n",
       "          0,   0],\n",
       "       [  0,   0,   0,   0,   0,   0,   0,   0,   0,   0,   0,  44, 127,\n",
       "        182, 185, 161, 120,  55,   0,   0,   0,   0,   0,   0,   0,   0,\n",
       "          0,   0],\n",
       "       [  0,   0,   0,   0,   0,   0,   0,   0,   0,  42, 198, 251, 255,\n",
       "        251, 249, 247, 255, 252, 214, 100,   0,   0,   0,   0,   0,   0,\n",
       "          0,   0],\n",
       "       [  0,   0,   0,   0,   0,   0,   2,   0,   0, 233, 252, 237, 239,\n",
       "        234, 237, 235, 237, 237, 254, 227,   0,   0,   0,   0,   1,   0,\n",
       "          0,   0],\n",
       "       [  0,   0,   0,   0,   0,   2,   0,   0,  16, 210, 225, 215, 175,\n",
       "        217, 216, 193, 196, 226, 221, 209,  50,   0,   0,   2,   0,   0,\n",
       "          0,   0],\n",
       "       [  0,   0,   0,   0,   2,   0,   0, 199, 229, 232, 230, 245, 204,\n",
       "        219, 253, 245, 207, 194, 223, 231, 236, 235,   0,   0,   3,   0,\n",
       "          0,   0],\n",
       "       [  0,   0,   0,   0,   1,   0, 137, 235, 204, 209, 201, 209, 234,\n",
       "        190, 234, 218, 215, 238, 239, 204, 189, 224, 154,   0,   0,   0,\n",
       "          0,   0],\n",
       "       [  0,   0,   0,   0,   0,   0, 194, 201, 200, 209, 202, 193, 205,\n",
       "        194, 183, 218, 231, 197, 172, 181, 193, 205, 199,   0,   0,   0,\n",
       "          0,   0],\n",
       "       [  0,   0,   0,   0,   0,   3, 212, 203, 188, 189, 196, 198, 198,\n",
       "        201, 196, 217, 179, 167, 183, 217, 197, 202, 219,  30,   0,   0,\n",
       "          0,   0],\n",
       "       [  0,   0,   0,   0,   0,  34, 225, 200, 194, 190, 188, 192, 196,\n",
       "        192, 170, 202, 190, 201, 195, 200, 201, 209, 227,  50,   0,   0,\n",
       "          0,   0],\n",
       "       [  0,   0,   0,   0,   0,  68, 225, 210, 211, 198, 192, 196, 204,\n",
       "        196, 181, 212, 197, 195, 192, 206, 220, 210, 229,  93,   0,   0,\n",
       "          0,   0],\n",
       "       [  0,   0,   0,   0,   0, 111, 223, 227, 253, 209, 196, 204, 211,\n",
       "        206, 183, 216, 206, 210, 203, 215, 244, 224, 227, 150,   0,   0,\n",
       "          0,   0],\n",
       "       [  0,   0,   0,   0,   0, 139, 225, 224, 255, 202, 206, 212, 209,\n",
       "        211, 190, 213, 202, 207, 206, 222, 255, 230, 220, 190,   0,   0,\n",
       "          0,   0],\n",
       "       [  0,   0,   0,   0,   0, 180, 226, 224, 255, 199, 204, 207, 214,\n",
       "        214, 190, 216, 206, 203, 205, 219, 243, 224, 214, 234,   0,   0,\n",
       "          0,   0],\n",
       "       [  0,   0,   0,   0,   0, 225, 223, 228, 254, 209, 206, 208, 213,\n",
       "        210, 191, 215, 207, 204, 208, 211, 249, 226, 214, 255,  38,   0,\n",
       "          0,   0],\n",
       "       [  0,   0,   0,   0,   0, 250, 232, 240, 239, 211, 203, 209, 205,\n",
       "        211, 197, 215, 208, 208, 214, 213, 239, 231, 219, 255,  81,   0,\n",
       "          0,   0],\n",
       "       [  0,   0,   0,   0,   0, 248, 236, 247, 240, 203, 200, 208, 206,\n",
       "        214, 193, 213, 212, 208, 212, 211, 243, 242, 225, 254,  66,   0,\n",
       "          0,   0],\n",
       "       [  0,   0,   0,   0,   0, 247, 230, 252, 226, 199, 211, 202, 211,\n",
       "        213, 182, 213, 212, 206, 202, 219, 207, 247, 222, 237, 104,   0,\n",
       "          0,   0],\n",
       "       [  0,   0,   0,   0,  10, 244, 219, 250, 205, 199, 209, 202, 209,\n",
       "        211, 189, 214, 206, 210, 200, 212, 154, 240, 208, 219, 140,   0,\n",
       "          0,   0],\n",
       "       [  0,   0,   0,   0,  21, 255, 222, 238, 184, 210, 192, 206, 209,\n",
       "        210, 189, 213, 211, 209, 192, 228, 155, 226, 238, 241, 166,   0,\n",
       "          0,   0],\n",
       "       [  0,   0,   0,   0,  37, 245, 226, 241, 150, 197, 189, 204, 209,\n",
       "        210, 183, 213, 213, 201, 184, 215, 146, 216, 236, 225, 154,   0,\n",
       "          0,   0],\n",
       "       [  0,   0,   0,   0,  58, 239, 227, 255, 158, 193, 195, 204, 209,\n",
       "        213, 180, 207, 217, 199, 194, 211, 158, 219, 236, 216, 151,   0,\n",
       "          0,   0],\n",
       "       [  0,   0,   0,   0,  68, 233, 226, 243, 139, 200, 193, 205, 210,\n",
       "        208, 180, 205, 212, 203, 196, 216, 157, 179, 255, 216, 155,   0,\n",
       "          0,   0],\n",
       "       [  0,   0,   0,   0,  81, 225, 224, 211, 138, 219, 185, 201, 213,\n",
       "        207, 197, 226, 212, 200, 190, 215, 183,  90, 255, 211, 147,   0,\n",
       "          0,   0],\n",
       "       [  0,   0,   0,   0,  91, 210, 230, 158, 114, 205, 187, 208, 209,\n",
       "        206, 193, 210, 211, 204, 195, 204, 181,  23, 255, 213, 158,   0,\n",
       "          0,   0],\n",
       "       [  0,   0,   0,   0,  87, 205, 232, 109, 164, 255, 214, 224, 222,\n",
       "        210, 197, 214, 225, 222, 211, 220, 217,   0, 234, 216, 169,   0,\n",
       "          0,   0],\n",
       "       [  0,   0,   0,   0,  92, 213, 232, 146,   5, 134, 151, 162, 170,\n",
       "        183, 182, 164, 166, 178, 162, 156,  98,   0, 240, 225, 210,   0,\n",
       "          0,   0],\n",
       "       [  0,   0,   0,   0,  43, 164, 206, 141,   0,   0,   0,   0,   0,\n",
       "          0,   0,   0,   0,   0,   0,   0,   0,   0, 127, 125,  76,   0,\n",
       "          0,   0]], dtype=uint8)"
      ]
     },
     "execution_count": 8,
     "metadata": {},
     "output_type": "execute_result"
    }
   ],
   "source": [
    "X_train[0]"
   ]
  },
  {
   "cell_type": "code",
   "execution_count": 9,
   "id": "rough-polls",
   "metadata": {
    "execution": {
     "iopub.execute_input": "2021-03-31T21:20:32.563055Z",
     "iopub.status.busy": "2021-03-31T21:20:32.562414Z",
     "iopub.status.idle": "2021-03-31T21:20:32.569529Z",
     "shell.execute_reply": "2021-03-31T21:20:32.570007Z"
    },
    "id": "hxU8qJ6ILjL8",
    "papermill": {
     "duration": 0.05923,
     "end_time": "2021-03-31T21:20:32.570184",
     "exception": false,
     "start_time": "2021-03-31T21:20:32.510954",
     "status": "completed"
    },
    "tags": []
   },
   "outputs": [
    {
     "data": {
      "text/plain": [
       "array([4, 0, 7, ..., 3, 0, 5], dtype=uint8)"
      ]
     },
     "execution_count": 9,
     "metadata": {},
     "output_type": "execute_result"
    }
   ],
   "source": [
    "y_train"
   ]
  },
  {
   "cell_type": "code",
   "execution_count": 10,
   "id": "fifth-anaheim",
   "metadata": {
    "execution": {
     "iopub.execute_input": "2021-03-31T21:20:32.674347Z",
     "iopub.status.busy": "2021-03-31T21:20:32.673638Z",
     "iopub.status.idle": "2021-03-31T21:20:32.676679Z",
     "shell.execute_reply": "2021-03-31T21:20:32.676156Z"
    },
    "id": "zEHLqJhWLnWp",
    "papermill": {
     "duration": 0.057313,
     "end_time": "2021-03-31T21:20:32.676867",
     "exception": false,
     "start_time": "2021-03-31T21:20:32.619554",
     "status": "completed"
    },
    "tags": []
   },
   "outputs": [],
   "source": [
    "class_names = [\"T-shirt/top\", \"Trouser\", \"Pullover\", \"Dress\", \"Coat\",\n",
    "               \"Sandal\", \"Shirt\", \"Sneaker\", \"Bag\", \"Ankle boot\"]"
   ]
  },
  {
   "cell_type": "code",
   "execution_count": 11,
   "id": "demanding-sucking",
   "metadata": {
    "execution": {
     "iopub.execute_input": "2021-03-31T21:20:32.781772Z",
     "iopub.status.busy": "2021-03-31T21:20:32.781122Z",
     "iopub.status.idle": "2021-03-31T21:20:32.784994Z",
     "shell.execute_reply": "2021-03-31T21:20:32.784429Z"
    },
    "id": "Ewf7MrHsLnsd",
    "papermill": {
     "duration": 0.058581,
     "end_time": "2021-03-31T21:20:32.785138",
     "exception": false,
     "start_time": "2021-03-31T21:20:32.726557",
     "status": "completed"
    },
    "tags": []
   },
   "outputs": [
    {
     "data": {
      "text/plain": [
       "'Coat'"
      ]
     },
     "execution_count": 11,
     "metadata": {},
     "output_type": "execute_result"
    }
   ],
   "source": [
    "class_names[y_train[0]]"
   ]
  },
  {
   "cell_type": "code",
   "execution_count": 12,
   "id": "hearing-treasury",
   "metadata": {
    "execution": {
     "iopub.execute_input": "2021-03-31T21:20:32.890227Z",
     "iopub.status.busy": "2021-03-31T21:20:32.889533Z",
     "iopub.status.idle": "2021-03-31T21:20:32.893329Z",
     "shell.execute_reply": "2021-03-31T21:20:32.893861Z"
    },
    "id": "XqYyEceJLnoo",
    "papermill": {
     "duration": 0.058698,
     "end_time": "2021-03-31T21:20:32.894027",
     "exception": false,
     "start_time": "2021-03-31T21:20:32.835329",
     "status": "completed"
    },
    "tags": []
   },
   "outputs": [
    {
     "data": {
      "text/plain": [
       "(5000, 28, 28)"
      ]
     },
     "execution_count": 12,
     "metadata": {},
     "output_type": "execute_result"
    }
   ],
   "source": [
    "X_valid.shape"
   ]
  },
  {
   "cell_type": "code",
   "execution_count": 13,
   "id": "fundamental-aggregate",
   "metadata": {
    "execution": {
     "iopub.execute_input": "2021-03-31T21:20:33.001651Z",
     "iopub.status.busy": "2021-03-31T21:20:33.000887Z",
     "iopub.status.idle": "2021-03-31T21:20:33.005296Z",
     "shell.execute_reply": "2021-03-31T21:20:33.004589Z"
    },
    "id": "is1-COctLnll",
    "papermill": {
     "duration": 0.060292,
     "end_time": "2021-03-31T21:20:33.005440",
     "exception": false,
     "start_time": "2021-03-31T21:20:32.945148",
     "status": "completed"
    },
    "tags": []
   },
   "outputs": [
    {
     "data": {
      "text/plain": [
       "(10000, 28, 28)"
      ]
     },
     "execution_count": 13,
     "metadata": {},
     "output_type": "execute_result"
    }
   ],
   "source": [
    "X_test.shape"
   ]
  },
  {
   "cell_type": "code",
   "execution_count": 14,
   "id": "identified-watson",
   "metadata": {
    "execution": {
     "iopub.execute_input": "2021-03-31T21:20:33.135608Z",
     "iopub.status.busy": "2021-03-31T21:20:33.134827Z",
     "iopub.status.idle": "2021-03-31T21:20:35.293686Z",
     "shell.execute_reply": "2021-03-31T21:20:35.292578Z"
    },
    "id": "_EUHR2DHLnir",
    "papermill": {
     "duration": 2.235804,
     "end_time": "2021-03-31T21:20:35.293891",
     "exception": false,
     "start_time": "2021-03-31T21:20:33.058087",
     "status": "completed"
    },
    "tags": []
   },
   "outputs": [
    {
     "data": {
      "image/png": "[encoded data removed]",
      "text/plain": [
       "<Figure size 1008x576 with 50 Axes>"
      ]
     },
     "metadata": {
      "needs_background": "light"
     },
     "output_type": "display_data"
    }
   ],
   "source": [
    "n_rows = 5\n",
    "n_cols = 10\n",
    "plt.figure(figsize=(n_cols*1.4, n_rows * 1.6))\n",
    "for row in range(n_rows):\n",
    "    for col in range(n_cols):\n",
    "        index = n_cols * row + col\n",
    "        plt.subplot(n_rows, n_cols, index + 1)\n",
    "        plt.imshow(X_train[index], cmap=\"binary\", interpolation=\"nearest\")\n",
    "        plt.axis('off')\n",
    "        plt.title(class_names[y_train[index]])\n",
    "plt.show()"
   ]
  },
  {
   "cell_type": "code",
   "execution_count": 15,
   "id": "restricted-wiring",
   "metadata": {
    "execution": {
     "iopub.execute_input": "2021-03-31T21:20:35.422905Z",
     "iopub.status.busy": "2021-03-31T21:20:35.422110Z",
     "iopub.status.idle": "2021-03-31T21:20:35.493203Z",
     "shell.execute_reply": "2021-03-31T21:20:35.493709Z"
    },
    "id": "57V1uWe0L8JL",
    "papermill": {
     "duration": 0.143623,
     "end_time": "2021-03-31T21:20:35.493931",
     "exception": false,
     "start_time": "2021-03-31T21:20:35.350308",
     "status": "completed"
    },
    "tags": []
   },
   "outputs": [],
   "source": [
    "model = keras.models.Sequential()\n",
    "model.add(keras.layers.Flatten(input_shape=[28,28]))\n",
    "model.add(keras.layers.Dense(300, activation=\"relu\"))"
   ]
  },
  {
   "cell_type": "code",
   "execution_count": 16,
   "id": "compound-mexico",
   "metadata": {
    "execution": {
     "iopub.execute_input": "2021-03-31T21:20:35.605451Z",
     "iopub.status.busy": "2021-03-31T21:20:35.604719Z",
     "iopub.status.idle": "2021-03-31T21:20:35.643358Z",
     "shell.execute_reply": "2021-03-31T21:20:35.642590Z"
    },
    "id": "foyIGzWoL_xI",
    "papermill": {
     "duration": 0.095777,
     "end_time": "2021-03-31T21:20:35.643517",
     "exception": false,
     "start_time": "2021-03-31T21:20:35.547740",
     "status": "completed"
    },
    "tags": []
   },
   "outputs": [],
   "source": [
    "model = keras.models.Sequential()\n",
    "model.add(keras.layers.Flatten(input_shape=[28, 28]))\n",
    "model.add(keras.layers.Dense(300, activation=\"relu\"))\n",
    "model.add(keras.layers.Dense(100, activation=\"relu\"))\n",
    "model.add(keras.layers.Dense(10, activation=\"softmax\"))"
   ]
  },
  {
   "cell_type": "code",
   "execution_count": 17,
   "id": "comfortable-algorithm",
   "metadata": {
    "execution": {
     "iopub.execute_input": "2021-03-31T21:20:35.763932Z",
     "iopub.status.busy": "2021-03-31T21:20:35.763186Z",
     "iopub.status.idle": "2021-03-31T21:20:35.796602Z",
     "shell.execute_reply": "2021-03-31T21:20:35.796003Z"
    },
    "id": "ziyOZBgBMEYt",
    "papermill": {
     "duration": 0.098413,
     "end_time": "2021-03-31T21:20:35.796767",
     "exception": false,
     "start_time": "2021-03-31T21:20:35.698354",
     "status": "completed"
    },
    "tags": []
   },
   "outputs": [],
   "source": [
    "model = keras.models.Sequential([\n",
    "    keras.layers.Flatten(input_shape=[28, 28]),\n",
    "    keras.layers.Dense(300, activation=\"relu\"),\n",
    "    keras.layers.Dense(100, activation=\"relu\"),\n",
    "    keras.layers.Dense(10, activation=\"softmax\")\n",
    "])"
   ]
  },
  {
   "cell_type": "code",
   "execution_count": 18,
   "id": "postal-berry",
   "metadata": {
    "execution": {
     "iopub.execute_input": "2021-03-31T21:20:35.909355Z",
     "iopub.status.busy": "2021-03-31T21:20:35.908607Z",
     "iopub.status.idle": "2021-03-31T21:20:35.913132Z",
     "shell.execute_reply": "2021-03-31T21:20:35.913627Z"
    },
    "id": "NERF2uFdMEw9",
    "papermill": {
     "duration": 0.062814,
     "end_time": "2021-03-31T21:20:35.913827",
     "exception": false,
     "start_time": "2021-03-31T21:20:35.851013",
     "status": "completed"
    },
    "tags": []
   },
   "outputs": [
    {
     "data": {
      "text/plain": [
       "[<tensorflow.python.keras.layers.core.Flatten at 0x7f32142c5710>,\n",
       " <tensorflow.python.keras.layers.core.Dense at 0x7f322360d190>,\n",
       " <tensorflow.python.keras.layers.core.Dense at 0x7f32142c5e90>,\n",
       " <tensorflow.python.keras.layers.core.Dense at 0x7f32142c92d0>]"
      ]
     },
     "execution_count": 18,
     "metadata": {},
     "output_type": "execute_result"
    }
   ],
   "source": [
    "model.layers"
   ]
  },
  {
   "cell_type": "code",
   "execution_count": 19,
   "id": "manual-anthropology",
   "metadata": {
    "execution": {
     "iopub.execute_input": "2021-03-31T21:20:36.026966Z",
     "iopub.status.busy": "2021-03-31T21:20:36.026232Z",
     "iopub.status.idle": "2021-03-31T21:20:36.034836Z",
     "shell.execute_reply": "2021-03-31T21:20:36.034199Z"
    },
    "id": "hfW_92_5MFCC",
    "papermill": {
     "duration": 0.06608,
     "end_time": "2021-03-31T21:20:36.034991",
     "exception": false,
     "start_time": "2021-03-31T21:20:35.968911",
     "status": "completed"
    },
    "tags": []
   },
   "outputs": [
    {
     "name": "stdout",
     "output_type": "stream",
     "text": [
      "Model: \"sequential_2\"\n",
      "_________________________________________________________________\n",
      "Layer (type)                 Output Shape              Param #   \n",
      "=================================================================\n",
      "flatten_2 (Flatten)          (None, 784)               0         \n",
      "_________________________________________________________________\n",
      "dense_7 (Dense)              (None, 300)               235500    \n",
      "_________________________________________________________________\n",
      "dense_8 (Dense)              (None, 100)               30100     \n",
      "_________________________________________________________________\n",
      "dense_9 (Dense)              (None, 10)                1010      \n",
      "=================================================================\n",
      "Total params: 266,610\n",
      "Trainable params: 266,610\n",
      "Non-trainable params: 0\n",
      "_________________________________________________________________\n"
     ]
    }
   ],
   "source": [
    "model.summary()"
   ]
  },
  {
   "cell_type": "code",
   "execution_count": 20,
   "id": "interracial-street",
   "metadata": {
    "execution": {
     "iopub.execute_input": "2021-03-31T21:20:36.154991Z",
     "iopub.status.busy": "2021-03-31T21:20:36.153889Z",
     "iopub.status.idle": "2021-03-31T21:20:36.665253Z",
     "shell.execute_reply": "2021-03-31T21:20:36.664675Z"
    },
    "id": "eiLBuTDgMOoJ",
    "papermill": {
     "duration": 0.571525,
     "end_time": "2021-03-31T21:20:36.665394",
     "exception": false,
     "start_time": "2021-03-31T21:20:36.093869",
     "status": "completed"
    },
    "tags": []
   },
   "outputs": [
    {
     "data": {
      "image/png": "[encoded data removed]",
      "text/plain": [
       "<IPython.core.display.Image object>"
      ]
     },
     "execution_count": 20,
     "metadata": {},
     "output_type": "execute_result"
    }
   ],
   "source": [
    "keras.utils.plot_model(model, \"my_mnist_model.png\", show_shapes=True)"
   ]
  },
  {
   "cell_type": "code",
   "execution_count": 21,
   "id": "sonic-livestock",
   "metadata": {
    "execution": {
     "iopub.execute_input": "2021-03-31T21:20:36.786130Z",
     "iopub.status.busy": "2021-03-31T21:20:36.785447Z",
     "iopub.status.idle": "2021-03-31T21:20:36.878904Z",
     "shell.execute_reply": "2021-03-31T21:20:36.878213Z"
    },
    "id": "mr9UrR3GMU3G",
    "papermill": {
     "duration": 0.156392,
     "end_time": "2021-03-31T21:20:36.879049",
     "exception": false,
     "start_time": "2021-03-31T21:20:36.722657",
     "status": "completed"
    },
    "tags": []
   },
   "outputs": [
    {
     "data": {
      "image/svg+xml": [
       "<svg height=\"516pt\" viewBox=\"0.00 0.00 414.00 387.00\" width=\"552pt\" xmlns=\"http://www.w3.org/2000/svg\" xmlns:xlink=\"http://www.w3.org/1999/xlink\">\n",
       "<g class=\"graph\" id=\"graph0\" transform=\"scale(1.33 1.33) rotate(0) translate(4 383)\">\n",
       "<title>G</title>\n",
       "<polygon fill=\"white\" points=\"-4,4 -4,-383 410,-383 410,4 -4,4\" stroke=\"transparent\"/>\n",
       "<!-- 139853259165776 -->\n",
       "<g class=\"node\" id=\"node1\">\n",
       "<title>139853259165776</title>\n",
       "<polygon fill=\"none\" points=\"0,-332.5 0,-378.5 406,-378.5 406,-332.5 0,-332.5\" stroke=\"black\"/>\n",
       "<text font-family=\"Times-Roman\" font-size=\"14.00\" text-anchor=\"middle\" x=\"104.5\" y=\"-351.8\">flatten_2_input: InputLayer</text>\n",
       "<polyline fill=\"none\" points=\"209,-332.5 209,-378.5 \" stroke=\"black\"/>\n",
       "<text font-family=\"Times-Roman\" font-size=\"14.00\" text-anchor=\"middle\" x=\"243\" y=\"-363.3\">input:</text>\n",
       "<polyline fill=\"none\" points=\"209,-355.5 277,-355.5 \" stroke=\"black\"/>\n",
       "<text font-family=\"Times-Roman\" font-size=\"14.00\" text-anchor=\"middle\" x=\"243\" y=\"-340.3\">output:</text>\n",
       "<polyline fill=\"none\" points=\"277,-332.5 277,-378.5 \" stroke=\"black\"/>\n",
       "<text font-family=\"Times-Roman\" font-size=\"14.00\" text-anchor=\"middle\" x=\"341.5\" y=\"-363.3\">[(None, 28, 28)]</text>\n",
       "<polyline fill=\"none\" points=\"277,-355.5 406,-355.5 \" stroke=\"black\"/>\n",
       "<text font-family=\"Times-Roman\" font-size=\"14.00\" text-anchor=\"middle\" x=\"341.5\" y=\"-340.3\">[(None, 28, 28)]</text>\n",
       "</g>\n",
       "<!-- 139853063542544 -->\n",
       "<g class=\"node\" id=\"node2\">\n",
       "<title>139853063542544</title>\n",
       "<polygon fill=\"none\" points=\"40.5,-249.5 40.5,-295.5 365.5,-295.5 365.5,-249.5 40.5,-249.5\" stroke=\"black\"/>\n",
       "<text font-family=\"Times-Roman\" font-size=\"14.00\" text-anchor=\"middle\" x=\"109.5\" y=\"-268.8\">flatten_2: Flatten</text>\n",
       "<polyline fill=\"none\" points=\"178.5,-249.5 178.5,-295.5 \" stroke=\"black\"/>\n",
       "<text font-family=\"Times-Roman\" font-size=\"14.00\" text-anchor=\"middle\" x=\"212.5\" y=\"-280.3\">input:</text>\n",
       "<polyline fill=\"none\" points=\"178.5,-272.5 246.5,-272.5 \" stroke=\"black\"/>\n",
       "<text font-family=\"Times-Roman\" font-size=\"14.00\" text-anchor=\"middle\" x=\"212.5\" y=\"-257.3\">output:</text>\n",
       "<polyline fill=\"none\" points=\"246.5,-249.5 246.5,-295.5 \" stroke=\"black\"/>\n",
       "<text font-family=\"Times-Roman\" font-size=\"14.00\" text-anchor=\"middle\" x=\"306\" y=\"-280.3\">(None, 28, 28)</text>\n",
       "<polyline fill=\"none\" points=\"246.5,-272.5 365.5,-272.5 \" stroke=\"black\"/>\n",
       "<text font-family=\"Times-Roman\" font-size=\"14.00\" text-anchor=\"middle\" x=\"306\" y=\"-257.3\">(None, 784)</text>\n",
       "</g>\n",
       "<!-- 139853259165776&#45;&gt;139853063542544 -->\n",
       "<g class=\"edge\" id=\"edge1\">\n",
       "<title>139853259165776-&gt;139853063542544</title>\n",
       "<path d=\"M203,-332.37C203,-324.15 203,-314.66 203,-305.73\" fill=\"none\" stroke=\"black\"/>\n",
       "<polygon fill=\"black\" points=\"206.5,-305.61 203,-295.61 199.5,-305.61 206.5,-305.61\" stroke=\"black\"/>\n",
       "</g>\n",
       "<!-- 139853318640016 -->\n",
       "<g class=\"node\" id=\"node3\">\n",
       "<title>139853318640016</title>\n",
       "<polygon fill=\"none\" points=\"53,-166.5 53,-212.5 353,-212.5 353,-166.5 53,-166.5\" stroke=\"black\"/>\n",
       "<text font-family=\"Times-Roman\" font-size=\"14.00\" text-anchor=\"middle\" x=\"118.5\" y=\"-185.8\">dense_7: Dense</text>\n",
       "<polyline fill=\"none\" points=\"184,-166.5 184,-212.5 \" stroke=\"black\"/>\n",
       "<text font-family=\"Times-Roman\" font-size=\"14.00\" text-anchor=\"middle\" x=\"218\" y=\"-197.3\">input:</text>\n",
       "<polyline fill=\"none\" points=\"184,-189.5 252,-189.5 \" stroke=\"black\"/>\n",
       "<text font-family=\"Times-Roman\" font-size=\"14.00\" text-anchor=\"middle\" x=\"218\" y=\"-174.3\">output:</text>\n",
       "<polyline fill=\"none\" points=\"252,-166.5 252,-212.5 \" stroke=\"black\"/>\n",
       "<text font-family=\"Times-Roman\" font-size=\"14.00\" text-anchor=\"middle\" x=\"302.5\" y=\"-197.3\">(None, 784)</text>\n",
       "<polyline fill=\"none\" points=\"252,-189.5 353,-189.5 \" stroke=\"black\"/>\n",
       "<text font-family=\"Times-Roman\" font-size=\"14.00\" text-anchor=\"middle\" x=\"302.5\" y=\"-174.3\">(None, 300)</text>\n",
       "</g>\n",
       "<!-- 139853063542544&#45;&gt;139853318640016 -->\n",
       "<g class=\"edge\" id=\"edge2\">\n",
       "<title>139853063542544-&gt;139853318640016</title>\n",
       "<path d=\"M203,-249.37C203,-241.15 203,-231.66 203,-222.73\" fill=\"none\" stroke=\"black\"/>\n",
       "<polygon fill=\"black\" points=\"206.5,-222.61 203,-212.61 199.5,-222.61 206.5,-222.61\" stroke=\"black\"/>\n",
       "</g>\n",
       "<!-- 139853063544464 -->\n",
       "<g class=\"node\" id=\"node4\">\n",
       "<title>139853063544464</title>\n",
       "<polygon fill=\"none\" points=\"53,-83.5 53,-129.5 353,-129.5 353,-83.5 53,-83.5\" stroke=\"black\"/>\n",
       "<text font-family=\"Times-Roman\" font-size=\"14.00\" text-anchor=\"middle\" x=\"118.5\" y=\"-102.8\">dense_8: Dense</text>\n",
       "<polyline fill=\"none\" points=\"184,-83.5 184,-129.5 \" stroke=\"black\"/>\n",
       "<text font-family=\"Times-Roman\" font-size=\"14.00\" text-anchor=\"middle\" x=\"218\" y=\"-114.3\">input:</text>\n",
       "<polyline fill=\"none\" points=\"184,-106.5 252,-106.5 \" stroke=\"black\"/>\n",
       "<text font-family=\"Times-Roman\" font-size=\"14.00\" text-anchor=\"middle\" x=\"218\" y=\"-91.3\">output:</text>\n",
       "<polyline fill=\"none\" points=\"252,-83.5 252,-129.5 \" stroke=\"black\"/>\n",
       "<text font-family=\"Times-Roman\" font-size=\"14.00\" text-anchor=\"middle\" x=\"302.5\" y=\"-114.3\">(None, 300)</text>\n",
       "<polyline fill=\"none\" points=\"252,-106.5 353,-106.5 \" stroke=\"black\"/>\n",
       "<text font-family=\"Times-Roman\" font-size=\"14.00\" text-anchor=\"middle\" x=\"302.5\" y=\"-91.3\">(None, 100)</text>\n",
       "</g>\n",
       "<!-- 139853318640016&#45;&gt;139853063544464 -->\n",
       "<g class=\"edge\" id=\"edge3\">\n",
       "<title>139853318640016-&gt;139853063544464</title>\n",
       "<path d=\"M203,-166.37C203,-158.15 203,-148.66 203,-139.73\" fill=\"none\" stroke=\"black\"/>\n",
       "<polygon fill=\"black\" points=\"206.5,-139.61 203,-129.61 199.5,-139.61 206.5,-139.61\" stroke=\"black\"/>\n",
       "</g>\n",
       "<!-- 139853063557840 -->\n",
       "<g class=\"node\" id=\"node5\">\n",
       "<title>139853063557840</title>\n",
       "<polygon fill=\"none\" points=\"53,-0.5 53,-46.5 353,-46.5 353,-0.5 53,-0.5\" stroke=\"black\"/>\n",
       "<text font-family=\"Times-Roman\" font-size=\"14.00\" text-anchor=\"middle\" x=\"118.5\" y=\"-19.8\">dense_9: Dense</text>\n",
       "<polyline fill=\"none\" points=\"184,-0.5 184,-46.5 \" stroke=\"black\"/>\n",
       "<text font-family=\"Times-Roman\" font-size=\"14.00\" text-anchor=\"middle\" x=\"218\" y=\"-31.3\">input:</text>\n",
       "<polyline fill=\"none\" points=\"184,-23.5 252,-23.5 \" stroke=\"black\"/>\n",
       "<text font-family=\"Times-Roman\" font-size=\"14.00\" text-anchor=\"middle\" x=\"218\" y=\"-8.3\">output:</text>\n",
       "<polyline fill=\"none\" points=\"252,-0.5 252,-46.5 \" stroke=\"black\"/>\n",
       "<text font-family=\"Times-Roman\" font-size=\"14.00\" text-anchor=\"middle\" x=\"302.5\" y=\"-31.3\">(None, 100)</text>\n",
       "<polyline fill=\"none\" points=\"252,-23.5 353,-23.5 \" stroke=\"black\"/>\n",
       "<text font-family=\"Times-Roman\" font-size=\"14.00\" text-anchor=\"middle\" x=\"302.5\" y=\"-8.3\">(None, 10)</text>\n",
       "</g>\n",
       "<!-- 139853063544464&#45;&gt;139853063557840 -->\n",
       "<g class=\"edge\" id=\"edge4\">\n",
       "<title>139853063544464-&gt;139853063557840</title>\n",
       "<path d=\"M203,-83.37C203,-75.15 203,-65.66 203,-56.73\" fill=\"none\" stroke=\"black\"/>\n",
       "<polygon fill=\"black\" points=\"206.5,-56.61 203,-46.61 199.5,-56.61 206.5,-56.61\" stroke=\"black\"/>\n",
       "</g>\n",
       "</g>\n",
       "</svg>"
      ],
      "text/plain": [
       "<IPython.core.display.SVG object>"
      ]
     },
     "execution_count": 21,
     "metadata": {},
     "output_type": "execute_result"
    }
   ],
   "source": [
    "from IPython.display import SVG\n",
    "from tensorflow.python.keras.utils.vis_utils import model_to_dot\n",
    "SVG(model_to_dot(model, show_shapes=True).create(prog='dot', format='svg'))"
   ]
  },
  {
   "cell_type": "code",
   "execution_count": 22,
   "id": "expressed-westminster",
   "metadata": {
    "execution": {
     "iopub.execute_input": "2021-03-31T21:20:37.009744Z",
     "iopub.status.busy": "2021-03-31T21:20:37.004565Z",
     "iopub.status.idle": "2021-03-31T21:20:37.017254Z",
     "shell.execute_reply": "2021-03-31T21:20:37.016544Z"
    },
    "id": "czU1uHWmM50h",
    "papermill": {
     "duration": 0.080198,
     "end_time": "2021-03-31T21:20:37.017406",
     "exception": false,
     "start_time": "2021-03-31T21:20:36.937208",
     "status": "completed"
    },
    "tags": []
   },
   "outputs": [],
   "source": [
    "model.compile(loss=\"sparse_categorical_crossentropy\",\n",
    "              optimizer=keras.optimizers.SGD(lr=1e-3),\n",
    "              metrics=[\"accuracy\"])"
   ]
  },
  {
   "cell_type": "code",
   "execution_count": 23,
   "id": "hourly-dodge",
   "metadata": {
    "execution": {
     "iopub.execute_input": "2021-03-31T21:20:37.161352Z",
     "iopub.status.busy": "2021-03-31T21:20:37.160162Z",
     "iopub.status.idle": "2021-03-31T21:21:20.408516Z",
     "shell.execute_reply": "2021-03-31T21:21:20.409491Z"
    },
    "id": "lKrv1cT3NMKY",
    "papermill": {
     "duration": 43.332654,
     "end_time": "2021-03-31T21:21:20.409753",
     "exception": false,
     "start_time": "2021-03-31T21:20:37.077099",
     "status": "completed"
    },
    "tags": []
   },
   "outputs": [
    {
     "name": "stdout",
     "output_type": "stream",
     "text": [
      "Epoch 1/10\n",
      "1719/1719 [==============================] - 5s 3ms/step - loss: 20.9749 - accuracy: 0.6147 - val_loss: 0.6349 - val_accuracy: 0.7734\n",
      "Epoch 2/10\n",
      "1719/1719 [==============================] - 4s 2ms/step - loss: 0.6205 - accuracy: 0.7676 - val_loss: 0.5418 - val_accuracy: 0.8070\n",
      "Epoch 3/10\n",
      "1719/1719 [==============================] - 4s 2ms/step - loss: 0.5144 - accuracy: 0.8124 - val_loss: 0.5120 - val_accuracy: 0.8230\n",
      "Epoch 4/10\n",
      "1719/1719 [==============================] - 4s 2ms/step - loss: 0.4744 - accuracy: 0.8222 - val_loss: 0.4772 - val_accuracy: 0.8316\n",
      "Epoch 5/10\n",
      "1719/1719 [==============================] - 4s 2ms/step - loss: 0.4391 - accuracy: 0.8365 - val_loss: 0.4557 - val_accuracy: 0.8408\n",
      "Epoch 6/10\n",
      "1719/1719 [==============================] - 4s 2ms/step - loss: 0.4223 - accuracy: 0.8439 - val_loss: 0.4506 - val_accuracy: 0.8434\n",
      "Epoch 7/10\n",
      "1719/1719 [==============================] - 4s 2ms/step - loss: 0.4100 - accuracy: 0.8501 - val_loss: 0.4414 - val_accuracy: 0.8510\n",
      "Epoch 8/10\n",
      "1719/1719 [==============================] - 4s 3ms/step - loss: 0.3907 - accuracy: 0.8540 - val_loss: 0.4223 - val_accuracy: 0.8514\n",
      "Epoch 9/10\n",
      "1719/1719 [==============================] - 4s 2ms/step - loss: 0.3837 - accuracy: 0.8565 - val_loss: 0.4311 - val_accuracy: 0.8534\n",
      "Epoch 10/10\n",
      "1719/1719 [==============================] - 4s 2ms/step - loss: 0.3638 - accuracy: 0.8663 - val_loss: 0.4419 - val_accuracy: 0.8470\n"
     ]
    }
   ],
   "source": [
    "history = model.fit(X_train, y_train, epochs=10,\n",
    "                    validation_data=(X_valid, y_valid))"
   ]
  },
  {
   "cell_type": "code",
   "execution_count": 24,
   "id": "funky-statement",
   "metadata": {
    "execution": {
     "iopub.execute_input": "2021-03-31T21:21:21.008703Z",
     "iopub.status.busy": "2021-03-31T21:21:21.008038Z",
     "iopub.status.idle": "2021-03-31T21:21:21.011912Z",
     "shell.execute_reply": "2021-03-31T21:21:21.011213Z"
    },
    "id": "CvTCC2I8NbDA",
    "papermill": {
     "duration": 0.304992,
     "end_time": "2021-03-31T21:21:21.012069",
     "exception": false,
     "start_time": "2021-03-31T21:21:20.707077",
     "status": "completed"
    },
    "tags": []
   },
   "outputs": [],
   "source": [
    "def plot_learning_curves(history):\n",
    "    pd.DataFrame(history.history).plot(figsize=(8, 5))\n",
    "    plt.grid(True)\n",
    "    plt.gca().set_ylim(0, 1)\n",
    "    plt.show()"
   ]
  },
  {
   "cell_type": "code",
   "execution_count": 25,
   "id": "collect-discharge",
   "metadata": {
    "execution": {
     "iopub.execute_input": "2021-03-31T21:21:21.661849Z",
     "iopub.status.busy": "2021-03-31T21:21:21.660559Z",
     "iopub.status.idle": "2021-03-31T21:21:21.875898Z",
     "shell.execute_reply": "2021-03-31T21:21:21.875247Z"
    },
    "id": "lEGcARkDNfv7",
    "papermill": {
     "duration": 0.52892,
     "end_time": "2021-03-31T21:21:21.876049",
     "exception": false,
     "start_time": "2021-03-31T21:21:21.347129",
     "status": "completed"
    },
    "tags": []
   },
   "outputs": [
    {
     "data": {
      "image/png": "[encoded data removed]",
      "text/plain": [
       "<Figure size 576x360 with 1 Axes>"
      ]
     },
     "metadata": {
      "needs_background": "light"
     },
     "output_type": "display_data"
    }
   ],
   "source": [
    "plot_learning_curves(history)"
   ]
  },
  {
   "cell_type": "code",
   "execution_count": 26,
   "id": "textile-button",
   "metadata": {
    "execution": {
     "iopub.execute_input": "2021-03-31T21:21:22.493887Z",
     "iopub.status.busy": "2021-03-31T21:21:22.493137Z",
     "iopub.status.idle": "2021-03-31T21:22:05.010599Z",
     "shell.execute_reply": "2021-03-31T21:22:05.011523Z"
    },
    "id": "4Ti6uxzKNn7z",
    "papermill": {
     "duration": 42.830263,
     "end_time": "2021-03-31T21:22:05.011735",
     "exception": false,
     "start_time": "2021-03-31T21:21:22.181472",
     "status": "completed"
    },
    "tags": []
   },
   "outputs": [
    {
     "name": "stdout",
     "output_type": "stream",
     "text": [
      "Epoch 1/10\n",
      "1719/1719 [==============================] - 4s 3ms/step - loss: 0.3607 - accuracy: 0.8675 - val_loss: 0.4653 - val_accuracy: 0.8450\n",
      "Epoch 2/10\n",
      "1719/1719 [==============================] - 4s 2ms/step - loss: 0.3528 - accuracy: 0.8695 - val_loss: 0.4114 - val_accuracy: 0.8532\n",
      "Epoch 3/10\n",
      "1719/1719 [==============================] - 4s 2ms/step - loss: 0.3474 - accuracy: 0.8714 - val_loss: 0.4161 - val_accuracy: 0.8590\n",
      "Epoch 4/10\n",
      "1719/1719 [==============================] - 4s 2ms/step - loss: 0.3407 - accuracy: 0.8749 - val_loss: 0.4003 - val_accuracy: 0.8634\n",
      "Epoch 5/10\n",
      "1719/1719 [==============================] - 4s 3ms/step - loss: 0.3341 - accuracy: 0.8762 - val_loss: 0.4012 - val_accuracy: 0.8648\n",
      "Epoch 6/10\n",
      "1719/1719 [==============================] - 4s 2ms/step - loss: 0.3301 - accuracy: 0.8773 - val_loss: 0.4161 - val_accuracy: 0.8606\n",
      "Epoch 7/10\n",
      "1719/1719 [==============================] - 4s 2ms/step - loss: 0.3255 - accuracy: 0.8792 - val_loss: 0.4171 - val_accuracy: 0.8578\n",
      "Epoch 8/10\n",
      "1719/1719 [==============================] - 4s 2ms/step - loss: 0.3201 - accuracy: 0.8813 - val_loss: 0.4045 - val_accuracy: 0.8662\n",
      "Epoch 9/10\n",
      "1719/1719 [==============================] - 4s 2ms/step - loss: 0.3171 - accuracy: 0.8825 - val_loss: 0.4145 - val_accuracy: 0.8626\n",
      "Epoch 10/10\n",
      "1719/1719 [==============================] - 4s 2ms/step - loss: 0.3111 - accuracy: 0.8842 - val_loss: 0.3938 - val_accuracy: 0.8676\n"
     ]
    }
   ],
   "source": [
    "history = model.fit(X_train, y_train, epochs=10,\n",
    "                    validation_data=(X_valid, y_valid))"
   ]
  },
  {
   "cell_type": "code",
   "execution_count": 27,
   "id": "manual-ballot",
   "metadata": {
    "execution": {
     "iopub.execute_input": "2021-03-31T21:22:06.142442Z",
     "iopub.status.busy": "2021-03-31T21:22:06.141589Z",
     "iopub.status.idle": "2021-03-31T21:22:06.661359Z",
     "shell.execute_reply": "2021-03-31T21:22:06.660723Z"
    },
    "id": "sIIQ5shAN2l4",
    "papermill": {
     "duration": 1.061032,
     "end_time": "2021-03-31T21:22:06.661509",
     "exception": false,
     "start_time": "2021-03-31T21:22:05.600477",
     "status": "completed"
    },
    "tags": []
   },
   "outputs": [
    {
     "name": "stdout",
     "output_type": "stream",
     "text": [
      "313/313 [==============================] - 0s 2ms/step - loss: 0.4427 - accuracy: 0.8555\n"
     ]
    },
    {
     "data": {
      "text/plain": [
       "[0.4427405297756195, 0.8554999828338623]"
      ]
     },
     "execution_count": 27,
     "metadata": {},
     "output_type": "execute_result"
    }
   ],
   "source": [
    "model.evaluate(X_test, y_test)"
   ]
  },
  {
   "cell_type": "code",
   "execution_count": 28,
   "id": "supposed-grace",
   "metadata": {
    "execution": {
     "iopub.execute_input": "2021-03-31T21:22:07.804164Z",
     "iopub.status.busy": "2021-03-31T21:22:07.802806Z",
     "iopub.status.idle": "2021-03-31T21:22:07.919260Z",
     "shell.execute_reply": "2021-03-31T21:22:07.918692Z"
    },
    "id": "2wk5AX6VN7Mz",
    "papermill": {
     "duration": 0.716951,
     "end_time": "2021-03-31T21:22:07.919399",
     "exception": false,
     "start_time": "2021-03-31T21:22:07.202448",
     "status": "completed"
    },
    "tags": []
   },
   "outputs": [
    {
     "data": {
      "text/plain": [
       "array([[0.  , 0.  , 0.  , 0.  , 0.  , 0.  , 0.  , 0.01, 0.  , 0.99],\n",
       "       [0.  , 0.  , 0.99, 0.  , 0.  , 0.  , 0.01, 0.  , 0.  , 0.  ],\n",
       "       [0.  , 1.  , 0.  , 0.  , 0.  , 0.  , 0.  , 0.  , 0.  , 0.  ],\n",
       "       [0.  , 1.  , 0.  , 0.  , 0.  , 0.  , 0.  , 0.  , 0.  , 0.  ],\n",
       "       [0.06, 0.  , 0.03, 0.01, 0.  , 0.  , 0.9 , 0.  , 0.  , 0.  ],\n",
       "       [0.  , 1.  , 0.  , 0.  , 0.  , 0.  , 0.  , 0.  , 0.  , 0.  ],\n",
       "       [0.  , 0.  , 0.92, 0.  , 0.08, 0.  , 0.  , 0.  , 0.  , 0.  ],\n",
       "       [0.  , 0.  , 0.  , 0.  , 0.52, 0.  , 0.47, 0.  , 0.  , 0.  ],\n",
       "       [0.  , 0.  , 0.  , 0.  , 0.  , 0.99, 0.  , 0.01, 0.  , 0.  ],\n",
       "       [0.  , 0.  , 0.  , 0.  , 0.  , 0.  , 0.  , 1.  , 0.  , 0.  ]],\n",
       "      dtype=float32)"
      ]
     },
     "execution_count": 28,
     "metadata": {},
     "output_type": "execute_result"
    }
   ],
   "source": [
    "n_new = 10\n",
    "X_new = X_test[:n_new]\n",
    "y_proba = model.predict(X_new)\n",
    "y_proba.round(2)"
   ]
  },
  {
   "cell_type": "code",
   "execution_count": 29,
   "id": "brazilian-nickel",
   "metadata": {
    "execution": {
     "iopub.execute_input": "2021-03-31T21:22:09.008284Z",
     "iopub.status.busy": "2021-03-31T21:22:09.007208Z",
     "iopub.status.idle": "2021-03-31T21:22:09.012425Z",
     "shell.execute_reply": "2021-03-31T21:22:09.011827Z"
    },
    "id": "DUc_elHbN-Bu",
    "papermill": {
     "duration": 0.550865,
     "end_time": "2021-03-31T21:22:09.012582",
     "exception": false,
     "start_time": "2021-03-31T21:22:08.461717",
     "status": "completed"
    },
    "tags": []
   },
   "outputs": [
    {
     "data": {
      "text/plain": [
       "array([9, 2, 1, 1, 6, 1, 2, 4, 5, 7])"
      ]
     },
     "execution_count": 29,
     "metadata": {},
     "output_type": "execute_result"
    }
   ],
   "source": [
    "y_pred = y_proba.argmax(axis=1)\n",
    "y_pred"
   ]
  },
  {
   "cell_type": "code",
   "execution_count": 30,
   "id": "organized-filing",
   "metadata": {
    "execution": {
     "iopub.execute_input": "2021-03-31T21:22:10.103532Z",
     "iopub.status.busy": "2021-03-31T21:22:10.102818Z",
     "iopub.status.idle": "2021-03-31T21:22:10.149643Z",
     "shell.execute_reply": "2021-03-31T21:22:10.148853Z"
    },
    "id": "4LSPk7UXOBpb",
    "papermill": {
     "duration": 0.592684,
     "end_time": "2021-03-31T21:22:10.149873",
     "exception": false,
     "start_time": "2021-03-31T21:22:09.557189",
     "status": "completed"
    },
    "tags": []
   },
   "outputs": [
    {
     "name": "stderr",
     "output_type": "stream",
     "text": [
      "/opt/conda/lib/python3.7/site-packages/tensorflow/python/keras/engine/sequential.py:450: UserWarning: `model.predict_classes()` is deprecated and will be removed after 2021-01-01. Please use instead:* `np.argmax(model.predict(x), axis=-1)`,   if your model does multi-class classification   (e.g. if it uses a `softmax` last-layer activation).* `(model.predict(x) > 0.5).astype(\"int32\")`,   if your model does binary classification   (e.g. if it uses a `sigmoid` last-layer activation).\n",
      "  warnings.warn('`model.predict_classes()` is deprecated and '\n"
     ]
    },
    {
     "data": {
      "text/plain": [
       "array([9, 2, 1, 1, 6, 1, 2, 4, 5, 7])"
      ]
     },
     "execution_count": 30,
     "metadata": {},
     "output_type": "execute_result"
    }
   ],
   "source": [
    "y_pred = model.predict_classes(X_new)\n",
    "y_pred"
   ]
  },
  {
   "cell_type": "code",
   "execution_count": 31,
   "id": "sunrise-allowance",
   "metadata": {
    "execution": {
     "iopub.execute_input": "2021-03-31T21:22:11.236390Z",
     "iopub.status.busy": "2021-03-31T21:22:11.235723Z",
     "iopub.status.idle": "2021-03-31T21:22:11.238670Z",
     "shell.execute_reply": "2021-03-31T21:22:11.239280Z"
    },
    "id": "sqWWtdWrOB6I",
    "papermill": {
     "duration": 0.550879,
     "end_time": "2021-03-31T21:22:11.239449",
     "exception": false,
     "start_time": "2021-03-31T21:22:10.688570",
     "status": "completed"
    },
    "tags": []
   },
   "outputs": [
    {
     "data": {
      "text/plain": [
       "array([0.99, 0.99, 1.  , 1.  , 0.9 , 1.  , 0.92, 0.52, 0.99, 1.  ],\n",
       "      dtype=float32)"
      ]
     },
     "execution_count": 31,
     "metadata": {},
     "output_type": "execute_result"
    }
   ],
   "source": [
    "y_proba.max(axis=1).round(2)"
   ]
  },
  {
   "cell_type": "code",
   "execution_count": 32,
   "id": "straight-appointment",
   "metadata": {
    "execution": {
     "iopub.execute_input": "2021-03-31T21:22:12.325824Z",
     "iopub.status.busy": "2021-03-31T21:22:12.324809Z",
     "iopub.status.idle": "2021-03-31T21:22:12.332089Z",
     "shell.execute_reply": "2021-03-31T21:22:12.331396Z"
    },
    "id": "ZaYfGDE4OCak",
    "papermill": {
     "duration": 0.553253,
     "end_time": "2021-03-31T21:22:12.332234",
     "exception": false,
     "start_time": "2021-03-31T21:22:11.778981",
     "status": "completed"
    },
    "tags": []
   },
   "outputs": [
    {
     "data": {
      "text/plain": [
       "array([[9, 7, 5],\n",
       "       [2, 6, 4],\n",
       "       [1, 3, 0],\n",
       "       [1, 3, 9],\n",
       "       [6, 0, 2],\n",
       "       [1, 3, 0],\n",
       "       [2, 4, 9],\n",
       "       [4, 6, 2],\n",
       "       [5, 7, 1],\n",
       "       [7, 5, 9]])"
      ]
     },
     "execution_count": 32,
     "metadata": {},
     "output_type": "execute_result"
    }
   ],
   "source": [
    "k = 3\n",
    "top_k = np.argsort(-y_proba, axis=1)[:, :k]\n",
    "top_k"
   ]
  },
  {
   "cell_type": "code",
   "execution_count": 33,
   "id": "broad-texas",
   "metadata": {
    "execution": {
     "iopub.execute_input": "2021-03-31T21:22:13.466660Z",
     "iopub.status.busy": "2021-03-31T21:22:13.461435Z",
     "iopub.status.idle": "2021-03-31T21:22:13.469735Z",
     "shell.execute_reply": "2021-03-31T21:22:13.470513Z"
    },
    "id": "Y5zSDuyPOC3Q",
    "papermill": {
     "duration": 0.599219,
     "end_time": "2021-03-31T21:22:13.470748",
     "exception": false,
     "start_time": "2021-03-31T21:22:12.871529",
     "status": "completed"
    },
    "tags": []
   },
   "outputs": [
    {
     "data": {
      "text/plain": [
       "array([[0.99, 0.01, 0.  ],\n",
       "       [0.99, 0.01, 0.  ],\n",
       "       [1.  , 0.  , 0.  ],\n",
       "       [1.  , 0.  , 0.  ],\n",
       "       [0.9 , 0.06, 0.03],\n",
       "       [1.  , 0.  , 0.  ],\n",
       "       [0.92, 0.08, 0.  ],\n",
       "       [0.52, 0.47, 0.  ],\n",
       "       [0.99, 0.01, 0.  ],\n",
       "       [1.  , 0.  , 0.  ]], dtype=float32)"
      ]
     },
     "execution_count": 33,
     "metadata": {},
     "output_type": "execute_result"
    }
   ],
   "source": [
    "row_indices = np.tile(np.arange(len(top_k)), [k, 1]).T\n",
    "y_proba[row_indices, top_k].round(2)\n"
   ]
  },
  {
   "cell_type": "code",
   "execution_count": 34,
   "id": "tamil-knitting",
   "metadata": {
    "execution": {
     "iopub.execute_input": "2021-03-31T21:22:14.607594Z",
     "iopub.status.busy": "2021-03-31T21:22:14.606536Z",
     "iopub.status.idle": "2021-03-31T21:22:15.234351Z",
     "shell.execute_reply": "2021-03-31T21:22:15.233697Z"
    },
    "id": "N791TmcjOCvS",
    "papermill": {
     "duration": 1.18314,
     "end_time": "2021-03-31T21:22:15.234515",
     "exception": false,
     "start_time": "2021-03-31T21:22:14.051375",
     "status": "completed"
    },
    "tags": []
   },
   "outputs": [],
   "source": [
    "pixel_means = X_train.mean(axis = 0)\n",
    "pixel_stds = X_train.std(axis = 0)\n",
    "X_train_scaled = (X_train - pixel_means) / pixel_stds\n",
    "X_valid_scaled = (X_valid - pixel_means) / pixel_stds\n",
    "X_test_scaled = (X_test - pixel_means) / pixel_stds"
   ]
  },
  {
   "cell_type": "code",
   "execution_count": 35,
   "id": "knowing-equilibrium",
   "metadata": {
    "execution": {
     "iopub.execute_input": "2021-03-31T21:22:16.381700Z",
     "iopub.status.busy": "2021-03-31T21:22:16.380963Z",
     "iopub.status.idle": "2021-03-31T21:22:17.385325Z",
     "shell.execute_reply": "2021-03-31T21:22:17.384654Z"
    },
    "id": "MCjwzFYQOCpi",
    "papermill": {
     "duration": 1.590565,
     "end_time": "2021-03-31T21:22:17.385526",
     "exception": false,
     "start_time": "2021-03-31T21:22:15.794961",
     "status": "completed"
    },
    "tags": []
   },
   "outputs": [],
   "source": [
    "from sklearn.preprocessing import StandardScaler\n",
    "\n",
    "scaler = StandardScaler()\n",
    "X_train_scaled = scaler.fit_transform(X_train.astype(np.float32).reshape(-1, 28 * 28)).reshape(-1, 28, 28)\n",
    "X_valid_scaled = scaler.transform(X_valid.astype(np.float32).reshape(-1, 28 * 28)).reshape(-1, 28, 28)\n",
    "X_test_scaled = scaler.transform(X_test.astype(np.float32).reshape(-1, 28 * 28)).reshape(-1, 28, 28)"
   ]
  },
  {
   "cell_type": "code",
   "execution_count": 36,
   "id": "knowing-watts",
   "metadata": {
    "execution": {
     "iopub.execute_input": "2021-03-31T21:22:18.513361Z",
     "iopub.status.busy": "2021-03-31T21:22:18.512345Z",
     "iopub.status.idle": "2021-03-31T21:23:45.370441Z",
     "shell.execute_reply": "2021-03-31T21:23:45.370981Z"
    },
    "id": "yOzViw_jOCUA",
    "papermill": {
     "duration": 87.420217,
     "end_time": "2021-03-31T21:23:45.371193",
     "exception": false,
     "start_time": "2021-03-31T21:22:17.950976",
     "status": "completed"
    },
    "tags": []
   },
   "outputs": [
    {
     "name": "stdout",
     "output_type": "stream",
     "text": [
      "Epoch 1/20\n",
      "1719/1719 [==============================] - 5s 2ms/step - loss: 1.3011 - accuracy: 0.5750 - val_loss: 0.6304 - val_accuracy: 0.7860\n",
      "Epoch 2/20\n",
      "1719/1719 [==============================] - 4s 2ms/step - loss: 0.6108 - accuracy: 0.7909 - val_loss: 0.5298 - val_accuracy: 0.8198\n",
      "Epoch 3/20\n",
      "1719/1719 [==============================] - 4s 2ms/step - loss: 0.5216 - accuracy: 0.8177 - val_loss: 0.4846 - val_accuracy: 0.8338\n",
      "Epoch 4/20\n",
      "1719/1719 [==============================] - 4s 2ms/step - loss: 0.4766 - accuracy: 0.8328 - val_loss: 0.4561 - val_accuracy: 0.8460\n",
      "Epoch 5/20\n",
      "1719/1719 [==============================] - 4s 2ms/step - loss: 0.4428 - accuracy: 0.8430 - val_loss: 0.4373 - val_accuracy: 0.8544\n",
      "Epoch 6/20\n",
      "1719/1719 [==============================] - 4s 2ms/step - loss: 0.4276 - accuracy: 0.8465 - val_loss: 0.4237 - val_accuracy: 0.8560\n",
      "Epoch 7/20\n",
      "1719/1719 [==============================] - 4s 2ms/step - loss: 0.4133 - accuracy: 0.8498 - val_loss: 0.4125 - val_accuracy: 0.8604\n",
      "Epoch 8/20\n",
      "1719/1719 [==============================] - 4s 3ms/step - loss: 0.3989 - accuracy: 0.8583 - val_loss: 0.4041 - val_accuracy: 0.8632\n",
      "Epoch 9/20\n",
      "1719/1719 [==============================] - 4s 2ms/step - loss: 0.3898 - accuracy: 0.8610 - val_loss: 0.3960 - val_accuracy: 0.8618\n",
      "Epoch 10/20\n",
      "1719/1719 [==============================] - 4s 2ms/step - loss: 0.3764 - accuracy: 0.8659 - val_loss: 0.3894 - val_accuracy: 0.8654\n",
      "Epoch 11/20\n",
      "1719/1719 [==============================] - 4s 2ms/step - loss: 0.3698 - accuracy: 0.8670 - val_loss: 0.3846 - val_accuracy: 0.8670\n",
      "Epoch 12/20\n",
      "1719/1719 [==============================] - 4s 2ms/step - loss: 0.3593 - accuracy: 0.8725 - val_loss: 0.3800 - val_accuracy: 0.8698\n",
      "Epoch 13/20\n",
      "1719/1719 [==============================] - 4s 2ms/step - loss: 0.3500 - accuracy: 0.8737 - val_loss: 0.3759 - val_accuracy: 0.8702\n",
      "Epoch 14/20\n",
      "1719/1719 [==============================] - 4s 2ms/step - loss: 0.3510 - accuracy: 0.8755 - val_loss: 0.3717 - val_accuracy: 0.8728\n",
      "Epoch 15/20\n",
      "1719/1719 [==============================] - 4s 3ms/step - loss: 0.3452 - accuracy: 0.8802 - val_loss: 0.3683 - val_accuracy: 0.8734\n",
      "Epoch 16/20\n",
      "1719/1719 [==============================] - 5s 3ms/step - loss: 0.3417 - accuracy: 0.8794 - val_loss: 0.3642 - val_accuracy: 0.8730\n",
      "Epoch 17/20\n",
      "1719/1719 [==============================] - 5s 3ms/step - loss: 0.3356 - accuracy: 0.8794 - val_loss: 0.3623 - val_accuracy: 0.8760\n",
      "Epoch 18/20\n",
      "1719/1719 [==============================] - 5s 3ms/step - loss: 0.3228 - accuracy: 0.8856 - val_loss: 0.3582 - val_accuracy: 0.8762\n",
      "Epoch 19/20\n",
      "1719/1719 [==============================] - 5s 3ms/step - loss: 0.3279 - accuracy: 0.8832 - val_loss: 0.3565 - val_accuracy: 0.8772\n",
      "Epoch 20/20\n",
      "1719/1719 [==============================] - 5s 3ms/step - loss: 0.3244 - accuracy: 0.8845 - val_loss: 0.3537 - val_accuracy: 0.8772\n"
     ]
    }
   ],
   "source": [
    "model = keras.models.Sequential([\n",
    "    keras.layers.Flatten(input_shape=[28, 28]),\n",
    "    keras.layers.Dense(300, activation=\"relu\"),\n",
    "    keras.layers.Dense(100, activation=\"relu\"),\n",
    "    keras.layers.Dense(10, activation=\"softmax\")\n",
    "])\n",
    "model.compile(loss=\"sparse_categorical_crossentropy\",\n",
    "              optimizer=keras.optimizers.SGD(1e-3), metrics=[\"accuracy\"])\n",
    "history = model.fit(X_train_scaled, y_train, epochs=20,\n",
    "                    validation_data=(X_valid_scaled, y_valid))\n"
   ]
  },
  {
   "cell_type": "code",
   "execution_count": 37,
   "id": "descending-washington",
   "metadata": {
    "execution": {
     "iopub.execute_input": "2021-03-31T21:23:47.467668Z",
     "iopub.status.busy": "2021-03-31T21:23:47.466696Z",
     "iopub.status.idle": "2021-03-31T21:23:48.000134Z",
     "shell.execute_reply": "2021-03-31T21:23:48.000620Z"
    },
    "id": "J-ZbvkkWOCPq",
    "papermill": {
     "duration": 1.590636,
     "end_time": "2021-03-31T21:23:48.000837",
     "exception": false,
     "start_time": "2021-03-31T21:23:46.410201",
     "status": "completed"
    },
    "tags": []
   },
   "outputs": [
    {
     "name": "stdout",
     "output_type": "stream",
     "text": [
      "313/313 [==============================] - 0s 2ms/step - loss: 0.3820 - accuracy: 0.8629\n"
     ]
    },
    {
     "data": {
      "text/plain": [
       "[0.38200902938842773, 0.8629000186920166]"
      ]
     },
     "execution_count": 37,
     "metadata": {},
     "output_type": "execute_result"
    }
   ],
   "source": [
    "model.evaluate(X_test_scaled, y_test)"
   ]
  },
  {
   "cell_type": "code",
   "execution_count": 38,
   "id": "functional-sleep",
   "metadata": {
    "execution": {
     "iopub.execute_input": "2021-03-31T21:23:50.164381Z",
     "iopub.status.busy": "2021-03-31T21:23:50.163628Z",
     "iopub.status.idle": "2021-03-31T21:23:50.334504Z",
     "shell.execute_reply": "2021-03-31T21:23:50.333415Z"
    },
    "id": "-ZN_s3zTOmIp",
    "papermill": {
     "duration": 1.251686,
     "end_time": "2021-03-31T21:23:50.334664",
     "exception": false,
     "start_time": "2021-03-31T21:23:49.082978",
     "status": "completed"
    },
    "tags": []
   },
   "outputs": [
    {
     "data": {
      "image/png": "[encoded data removed]",
      "text/plain": [
       "<Figure size 576x360 with 1 Axes>"
      ]
     },
     "metadata": {
      "needs_background": "light"
     },
     "output_type": "display_data"
    }
   ],
   "source": [
    "plot_learning_curves(history)"
   ]
  },
  {
   "cell_type": "code",
   "execution_count": 39,
   "id": "respected-newcastle",
   "metadata": {
    "execution": {
     "iopub.execute_input": "2021-03-31T21:23:52.415899Z",
     "iopub.status.busy": "2021-03-31T21:23:52.414908Z",
     "iopub.status.idle": "2021-03-31T21:23:52.419173Z",
     "shell.execute_reply": "2021-03-31T21:23:52.419723Z"
    },
    "id": "Qhs-qlSMOpLG",
    "papermill": {
     "duration": 1.044656,
     "end_time": "2021-03-31T21:23:52.419912",
     "exception": false,
     "start_time": "2021-03-31T21:23:51.375256",
     "status": "completed"
    },
    "tags": []
   },
   "outputs": [],
   "source": [
    "root_logdir = os.path.join(os.curdir, \"my_logs\")"
   ]
  },
  {
   "cell_type": "code",
   "execution_count": 40,
   "id": "collected-constraint",
   "metadata": {
    "execution": {
     "iopub.execute_input": "2021-03-31T21:23:54.558494Z",
     "iopub.status.busy": "2021-03-31T21:23:54.557662Z",
     "iopub.status.idle": "2021-03-31T21:23:54.592136Z",
     "shell.execute_reply": "2021-03-31T21:23:54.591533Z"
    },
    "id": "WXDdTZW3O6bD",
    "papermill": {
     "duration": 1.09205,
     "end_time": "2021-03-31T21:23:54.592280",
     "exception": false,
     "start_time": "2021-03-31T21:23:53.500230",
     "status": "completed"
    },
    "tags": []
   },
   "outputs": [],
   "source": [
    "model = keras.models.Sequential([\n",
    "    keras.layers.Flatten(input_shape=[28, 28]),\n",
    "    keras.layers.Dense(300, activation=\"relu\"),\n",
    "    keras.layers.Dense(100, activation=\"relu\"),\n",
    "    keras.layers.Dense(10, activation=\"softmax\")\n",
    "])\n",
    "model.compile(loss=\"sparse_categorical_crossentropy\",\n",
    "              optimizer=keras.optimizers.SGD(1e-3), metrics=[\"accuracy\"])"
   ]
  },
  {
   "cell_type": "code",
   "execution_count": 41,
   "id": "equal-mixer",
   "metadata": {
    "execution": {
     "iopub.execute_input": "2021-03-31T21:23:56.829013Z",
     "iopub.status.busy": "2021-03-31T21:23:56.695606Z",
     "iopub.status.idle": "2021-03-31T21:27:24.723895Z",
     "shell.execute_reply": "2021-03-31T21:27:24.724428Z"
    },
    "id": "5idg-rZlPGNs",
    "papermill": {
     "duration": 209.070776,
     "end_time": "2021-03-31T21:27:24.724618",
     "exception": false,
     "start_time": "2021-03-31T21:23:55.653842",
     "status": "completed"
    },
    "tags": []
   },
   "outputs": [
    {
     "name": "stdout",
     "output_type": "stream",
     "text": [
      "Epoch 1/50\n",
      "1719/1719 [==============================] - 5s 3ms/step - loss: 1.2734 - accuracy: 0.5882 - val_loss: 0.6146 - val_accuracy: 0.7902\n",
      "Epoch 2/50\n",
      "1719/1719 [==============================] - 4s 2ms/step - loss: 0.6009 - accuracy: 0.7929 - val_loss: 0.5187 - val_accuracy: 0.8202\n",
      "Epoch 3/50\n",
      "1719/1719 [==============================] - 4s 2ms/step - loss: 0.5149 - accuracy: 0.8177 - val_loss: 0.4756 - val_accuracy: 0.8354\n",
      "Epoch 4/50\n",
      "1719/1719 [==============================] - 4s 2ms/step - loss: 0.4703 - accuracy: 0.8320 - val_loss: 0.4493 - val_accuracy: 0.8470\n",
      "Epoch 5/50\n",
      "1719/1719 [==============================] - 4s 2ms/step - loss: 0.4454 - accuracy: 0.8416 - val_loss: 0.4312 - val_accuracy: 0.8522\n",
      "Epoch 6/50\n",
      "1719/1719 [==============================] - 4s 3ms/step - loss: 0.4274 - accuracy: 0.8493 - val_loss: 0.4156 - val_accuracy: 0.8550\n",
      "Epoch 7/50\n",
      "1719/1719 [==============================] - 4s 2ms/step - loss: 0.4060 - accuracy: 0.8552 - val_loss: 0.4059 - val_accuracy: 0.8584\n",
      "Epoch 8/50\n",
      "1719/1719 [==============================] - 4s 3ms/step - loss: 0.3925 - accuracy: 0.8608 - val_loss: 0.3981 - val_accuracy: 0.8598\n",
      "Epoch 9/50\n",
      "1719/1719 [==============================] - 4s 2ms/step - loss: 0.3827 - accuracy: 0.8655 - val_loss: 0.3900 - val_accuracy: 0.8624\n",
      "Epoch 10/50\n",
      "1719/1719 [==============================] - 4s 2ms/step - loss: 0.3759 - accuracy: 0.8672 - val_loss: 0.3830 - val_accuracy: 0.8650\n",
      "Epoch 11/50\n",
      "1719/1719 [==============================] - 4s 2ms/step - loss: 0.3711 - accuracy: 0.8683 - val_loss: 0.3780 - val_accuracy: 0.8648\n",
      "Epoch 12/50\n",
      "1719/1719 [==============================] - 4s 2ms/step - loss: 0.3574 - accuracy: 0.8741 - val_loss: 0.3744 - val_accuracy: 0.8654\n",
      "Epoch 13/50\n",
      "1719/1719 [==============================] - 4s 2ms/step - loss: 0.3502 - accuracy: 0.8741 - val_loss: 0.3690 - val_accuracy: 0.8670\n",
      "Epoch 14/50\n",
      "1719/1719 [==============================] - 4s 2ms/step - loss: 0.3479 - accuracy: 0.8755 - val_loss: 0.3658 - val_accuracy: 0.8680\n",
      "Epoch 15/50\n",
      "1719/1719 [==============================] - 4s 2ms/step - loss: 0.3397 - accuracy: 0.8798 - val_loss: 0.3618 - val_accuracy: 0.8684\n",
      "Epoch 16/50\n",
      "1719/1719 [==============================] - 4s 2ms/step - loss: 0.3339 - accuracy: 0.8796 - val_loss: 0.3584 - val_accuracy: 0.8670\n",
      "Epoch 17/50\n",
      "1719/1719 [==============================] - 4s 2ms/step - loss: 0.3322 - accuracy: 0.8810 - val_loss: 0.3553 - val_accuracy: 0.8718\n",
      "Epoch 18/50\n",
      "1719/1719 [==============================] - 4s 2ms/step - loss: 0.3287 - accuracy: 0.8833 - val_loss: 0.3529 - val_accuracy: 0.8726\n",
      "Epoch 19/50\n",
      "1719/1719 [==============================] - 4s 2ms/step - loss: 0.3183 - accuracy: 0.8864 - val_loss: 0.3509 - val_accuracy: 0.8712\n",
      "Epoch 20/50\n",
      "1719/1719 [==============================] - 4s 2ms/step - loss: 0.3127 - accuracy: 0.8876 - val_loss: 0.3481 - val_accuracy: 0.8730\n",
      "Epoch 21/50\n",
      "1719/1719 [==============================] - 4s 3ms/step - loss: 0.3159 - accuracy: 0.8878 - val_loss: 0.3461 - val_accuracy: 0.8732\n",
      "Epoch 22/50\n",
      "1719/1719 [==============================] - 4s 2ms/step - loss: 0.3084 - accuracy: 0.8900 - val_loss: 0.3434 - val_accuracy: 0.8742\n",
      "Epoch 23/50\n",
      "1719/1719 [==============================] - 4s 2ms/step - loss: 0.3061 - accuracy: 0.8922 - val_loss: 0.3414 - val_accuracy: 0.8734\n",
      "Epoch 24/50\n",
      "1719/1719 [==============================] - 4s 2ms/step - loss: 0.2969 - accuracy: 0.8945 - val_loss: 0.3406 - val_accuracy: 0.8732\n",
      "Epoch 25/50\n",
      "1719/1719 [==============================] - 4s 2ms/step - loss: 0.3020 - accuracy: 0.8915 - val_loss: 0.3401 - val_accuracy: 0.8746\n",
      "Epoch 26/50\n",
      "1719/1719 [==============================] - 4s 2ms/step - loss: 0.2936 - accuracy: 0.8950 - val_loss: 0.3382 - val_accuracy: 0.8758\n",
      "Epoch 27/50\n",
      "1719/1719 [==============================] - 4s 2ms/step - loss: 0.2933 - accuracy: 0.8951 - val_loss: 0.3354 - val_accuracy: 0.8772\n",
      "Epoch 28/50\n",
      "1719/1719 [==============================] - 4s 2ms/step - loss: 0.2866 - accuracy: 0.8980 - val_loss: 0.3337 - val_accuracy: 0.8772\n",
      "Epoch 29/50\n",
      "1719/1719 [==============================] - 4s 2ms/step - loss: 0.2892 - accuracy: 0.8978 - val_loss: 0.3324 - val_accuracy: 0.8758\n",
      "Epoch 30/50\n",
      "1719/1719 [==============================] - 4s 2ms/step - loss: 0.2854 - accuracy: 0.8985 - val_loss: 0.3324 - val_accuracy: 0.8776\n",
      "Epoch 31/50\n",
      "1719/1719 [==============================] - 4s 3ms/step - loss: 0.2795 - accuracy: 0.9025 - val_loss: 0.3305 - val_accuracy: 0.8788\n",
      "Epoch 32/50\n",
      "1719/1719 [==============================] - 4s 2ms/step - loss: 0.2760 - accuracy: 0.9027 - val_loss: 0.3293 - val_accuracy: 0.8776\n",
      "Epoch 33/50\n",
      "1719/1719 [==============================] - 4s 2ms/step - loss: 0.2769 - accuracy: 0.9009 - val_loss: 0.3269 - val_accuracy: 0.8784\n",
      "Epoch 34/50\n",
      "1719/1719 [==============================] - 4s 2ms/step - loss: 0.2750 - accuracy: 0.9036 - val_loss: 0.3271 - val_accuracy: 0.8788\n",
      "Epoch 35/50\n",
      "1719/1719 [==============================] - 4s 2ms/step - loss: 0.2700 - accuracy: 0.9035 - val_loss: 0.3264 - val_accuracy: 0.8802\n",
      "Epoch 36/50\n",
      "1719/1719 [==============================] - 4s 2ms/step - loss: 0.2667 - accuracy: 0.9047 - val_loss: 0.3246 - val_accuracy: 0.8816\n",
      "Epoch 37/50\n",
      "1719/1719 [==============================] - 4s 2ms/step - loss: 0.2674 - accuracy: 0.9067 - val_loss: 0.3242 - val_accuracy: 0.8798\n",
      "Epoch 38/50\n",
      "1719/1719 [==============================] - 4s 2ms/step - loss: 0.2636 - accuracy: 0.9065 - val_loss: 0.3242 - val_accuracy: 0.8824\n",
      "Epoch 39/50\n",
      "1719/1719 [==============================] - 4s 3ms/step - loss: 0.2623 - accuracy: 0.9079 - val_loss: 0.3217 - val_accuracy: 0.8806\n",
      "Epoch 40/50\n",
      "1719/1719 [==============================] - 4s 2ms/step - loss: 0.2532 - accuracy: 0.9108 - val_loss: 0.3247 - val_accuracy: 0.8826\n",
      "Epoch 41/50\n",
      "1719/1719 [==============================] - 4s 2ms/step - loss: 0.2498 - accuracy: 0.9115 - val_loss: 0.3204 - val_accuracy: 0.8832\n",
      "Epoch 42/50\n",
      "1719/1719 [==============================] - 4s 2ms/step - loss: 0.2510 - accuracy: 0.9127 - val_loss: 0.3223 - val_accuracy: 0.8800\n",
      "Epoch 43/50\n",
      "1719/1719 [==============================] - 4s 2ms/step - loss: 0.2507 - accuracy: 0.9117 - val_loss: 0.3203 - val_accuracy: 0.8814\n",
      "Epoch 44/50\n",
      "1719/1719 [==============================] - 4s 2ms/step - loss: 0.2479 - accuracy: 0.9135 - val_loss: 0.3185 - val_accuracy: 0.8818\n",
      "Epoch 45/50\n",
      "1719/1719 [==============================] - 4s 2ms/step - loss: 0.2473 - accuracy: 0.9132 - val_loss: 0.3175 - val_accuracy: 0.8818\n",
      "Epoch 46/50\n",
      "1719/1719 [==============================] - 4s 2ms/step - loss: 0.2442 - accuracy: 0.9135 - val_loss: 0.3193 - val_accuracy: 0.8828\n",
      "Epoch 47/50\n",
      "1719/1719 [==============================] - 4s 2ms/step - loss: 0.2449 - accuracy: 0.9138 - val_loss: 0.3179 - val_accuracy: 0.8826\n",
      "Epoch 48/50\n",
      "1719/1719 [==============================] - 4s 2ms/step - loss: 0.2367 - accuracy: 0.9177 - val_loss: 0.3164 - val_accuracy: 0.8838\n",
      "Epoch 49/50\n",
      "1719/1719 [==============================] - 4s 2ms/step - loss: 0.2379 - accuracy: 0.9160 - val_loss: 0.3150 - val_accuracy: 0.8820\n",
      "Epoch 50/50\n",
      "1719/1719 [==============================] - 4s 2ms/step - loss: 0.2368 - accuracy: 0.9163 - val_loss: 0.3170 - val_accuracy: 0.8830\n"
     ]
    }
   ],
   "source": [
    "logdir = os.path.join(root_logdir, \"run_{}\".format(time.time()))\n",
    "\n",
    "callbacks = [\n",
    "    keras.callbacks.TensorBoard(logdir),\n",
    "    keras.callbacks.EarlyStopping(patience=5),\n",
    "    keras.callbacks.ModelCheckpoint(\"my_mnist_model.h5\", save_best_only=True),\n",
    "]\n",
    "history = model.fit(X_train_scaled, y_train, epochs=50,\n",
    "                    validation_data=(X_valid_scaled, y_valid),\n",
    "                    callbacks=callbacks)\n"
   ]
  },
  {
   "cell_type": "code",
   "execution_count": 42,
   "id": "binding-teach",
   "metadata": {
    "execution": {
     "iopub.execute_input": "2021-03-31T21:27:29.145818Z",
     "iopub.status.busy": "2021-03-31T21:27:29.144768Z",
     "iopub.status.idle": "2021-03-31T21:27:29.209033Z",
     "shell.execute_reply": "2021-03-31T21:27:29.208334Z"
    },
    "id": "6KqIMZtuPGvg",
    "papermill": {
     "duration": 2.279493,
     "end_time": "2021-03-31T21:27:29.209187",
     "exception": false,
     "start_time": "2021-03-31T21:27:26.929694",
     "status": "completed"
    },
    "tags": []
   },
   "outputs": [],
   "source": [
    "model = keras.models.load_model(\"my_mnist_model.h5\")"
   ]
  },
  {
   "cell_type": "code",
   "execution_count": 43,
   "id": "logical-phone",
   "metadata": {
    "execution": {
     "iopub.execute_input": "2021-03-31T21:27:33.736315Z",
     "iopub.status.busy": "2021-03-31T21:27:33.735627Z",
     "iopub.status.idle": "2021-03-31T21:27:34.111080Z",
     "shell.execute_reply": "2021-03-31T21:27:34.109981Z"
    },
    "id": "eH4QCyWZPX6n",
    "papermill": {
     "duration": 2.646899,
     "end_time": "2021-03-31T21:27:34.111241",
     "exception": false,
     "start_time": "2021-03-31T21:27:31.464342",
     "status": "completed"
    },
    "tags": []
   },
   "outputs": [
    {
     "name": "stdout",
     "output_type": "stream",
     "text": [
      "157/157 [==============================] - 0s 1ms/step - loss: 0.3150 - accuracy: 0.8820\n"
     ]
    },
    {
     "data": {
      "text/plain": [
       "[0.31501898169517517, 0.8820000290870667]"
      ]
     },
     "execution_count": 43,
     "metadata": {},
     "output_type": "execute_result"
    }
   ],
   "source": [
    "model.evaluate(X_valid_scaled, y_valid)"
   ]
  },
  {
   "cell_type": "code",
   "execution_count": 44,
   "id": "respiratory-exclusion",
   "metadata": {
    "execution": {
     "iopub.execute_input": "2021-03-31T21:27:38.552387Z",
     "iopub.status.busy": "2021-03-31T21:27:38.551746Z",
     "iopub.status.idle": "2021-03-31T21:27:41.175116Z",
     "shell.execute_reply": "2021-03-31T21:27:41.175655Z"
    },
    "id": "GqzTwJLyPcmL",
    "papermill": {
     "duration": 4.832766,
     "end_time": "2021-03-31T21:27:41.175852",
     "exception": false,
     "start_time": "2021-03-31T21:27:36.343086",
     "status": "completed"
    },
    "tags": []
   },
   "outputs": [],
   "source": [
    "from sklearn.datasets import fetch_california_housing\n",
    "housing = fetch_california_housing()"
   ]
  },
  {
   "cell_type": "code",
   "execution_count": 45,
   "id": "contemporary-carnival",
   "metadata": {
    "execution": {
     "iopub.execute_input": "2021-03-31T21:27:45.823579Z",
     "iopub.status.busy": "2021-03-31T21:27:45.822843Z",
     "iopub.status.idle": "2021-03-31T21:27:45.829576Z",
     "shell.execute_reply": "2021-03-31T21:27:45.828935Z"
    },
    "id": "Keuhmi9jPioM",
    "papermill": {
     "duration": 2.293378,
     "end_time": "2021-03-31T21:27:45.829722",
     "exception": false,
     "start_time": "2021-03-31T21:27:43.536344",
     "status": "completed"
    },
    "tags": []
   },
   "outputs": [
    {
     "name": "stdout",
     "output_type": "stream",
     "text": [
      ".. _california_housing_dataset:\n",
      "\n",
      "California Housing dataset\n",
      "--------------------------\n",
      "\n",
      "**Data Set Characteristics:**\n",
      "\n",
      "    :Number of Instances: 20640\n",
      "\n",
      "    :Number of Attributes: 8 numeric, predictive attributes and the target\n",
      "\n",
      "    :Attribute Information:\n",
      "        - MedInc        median income in block\n",
      "        - HouseAge      median house age in block\n",
      "        - AveRooms      average number of rooms\n",
      "        - AveBedrms     average number of bedrooms\n",
      "        - Population    block population\n",
      "        - AveOccup      average house occupancy\n",
      "        - Latitude      house block latitude\n",
      "        - Longitude     house block longitude\n",
      "\n",
      "    :Missing Attribute Values: None\n",
      "\n",
      "This dataset was obtained from the StatLib repository.\n",
      "http://lib.stat.cmu.edu/datasets/\n",
      "\n",
      "The target variable is the median house value for California districts.\n",
      "\n",
      "This dataset was derived from the 1990 U.S. census, using one row per census\n",
      "block group. A block group is the smallest geographical unit for which the U.S.\n",
      "Census Bureau publishes sample data (a block group typically has a population\n",
      "of 600 to 3,000 people).\n",
      "\n",
      "It can be downloaded/loaded using the\n",
      ":func:`sklearn.datasets.fetch_california_housing` function.\n",
      "\n",
      ".. topic:: References\n",
      "\n",
      "    - Pace, R. Kelley and Ronald Barry, Sparse Spatial Autoregressions,\n",
      "      Statistics and Probability Letters, 33 (1997) 291-297\n",
      "\n"
     ]
    }
   ],
   "source": [
    "print(housing.DESCR)"
   ]
  },
  {
   "cell_type": "code",
   "execution_count": 46,
   "id": "printable-darkness",
   "metadata": {
    "execution": {
     "iopub.execute_input": "2021-03-31T21:27:50.539268Z",
     "iopub.status.busy": "2021-03-31T21:27:50.538246Z",
     "iopub.status.idle": "2021-03-31T21:27:50.542215Z",
     "shell.execute_reply": "2021-03-31T21:27:50.542680Z"
    },
    "id": "4pm37A9qPlfg",
    "papermill": {
     "duration": 2.317786,
     "end_time": "2021-03-31T21:27:50.542887",
     "exception": false,
     "start_time": "2021-03-31T21:27:48.225101",
     "status": "completed"
    },
    "tags": []
   },
   "outputs": [
    {
     "data": {
      "text/plain": [
       "(20640, 8)"
      ]
     },
     "execution_count": 46,
     "metadata": {},
     "output_type": "execute_result"
    }
   ],
   "source": [
    "housing.data.shape"
   ]
  },
  {
   "cell_type": "code",
   "execution_count": 47,
   "id": "linear-canadian",
   "metadata": {
    "execution": {
     "iopub.execute_input": "2021-03-31T21:27:55.161214Z",
     "iopub.status.busy": "2021-03-31T21:27:55.159441Z",
     "iopub.status.idle": "2021-03-31T21:27:55.165073Z",
     "shell.execute_reply": "2021-03-31T21:27:55.164351Z"
    },
    "id": "WoqyQOuIPpxl",
    "papermill": {
     "duration": 2.36192,
     "end_time": "2021-03-31T21:27:55.165272",
     "exception": false,
     "start_time": "2021-03-31T21:27:52.803352",
     "status": "completed"
    },
    "tags": []
   },
   "outputs": [
    {
     "data": {
      "text/plain": [
       "(20640,)"
      ]
     },
     "execution_count": 47,
     "metadata": {},
     "output_type": "execute_result"
    }
   ],
   "source": [
    "housing.target.shape"
   ]
  },
  {
   "cell_type": "code",
   "execution_count": 48,
   "id": "conventional-travel",
   "metadata": {
    "execution": {
     "iopub.execute_input": "2021-03-31T21:28:00.535861Z",
     "iopub.status.busy": "2021-03-31T21:28:00.534748Z",
     "iopub.status.idle": "2021-03-31T21:28:00.615453Z",
     "shell.execute_reply": "2021-03-31T21:28:00.616055Z"
    },
    "id": "tDOwTGsgPsht",
    "papermill": {
     "duration": 2.488651,
     "end_time": "2021-03-31T21:28:00.616286",
     "exception": false,
     "start_time": "2021-03-31T21:27:58.127635",
     "status": "completed"
    },
    "tags": []
   },
   "outputs": [],
   "source": [
    "from sklearn.model_selection import train_test_split\n",
    "\n",
    "X_train_full, X_test, y_train_full, y_test = train_test_split(housing.data, housing.target, random_state=42)\n",
    "X_train, X_valid, y_train, y_valid = train_test_split(X_train_full, y_train_full, random_state=42)"
   ]
  },
  {
   "cell_type": "code",
   "execution_count": 49,
   "id": "virgin-syntax",
   "metadata": {
    "execution": {
     "iopub.execute_input": "2021-03-31T21:28:05.170352Z",
     "iopub.status.busy": "2021-03-31T21:28:05.169337Z",
     "iopub.status.idle": "2021-03-31T21:28:05.175392Z",
     "shell.execute_reply": "2021-03-31T21:28:05.175958Z"
    },
    "id": "yg15x_OvPvpW",
    "papermill": {
     "duration": 2.34146,
     "end_time": "2021-03-31T21:28:05.176133",
     "exception": false,
     "start_time": "2021-03-31T21:28:02.834673",
     "status": "completed"
    },
    "tags": []
   },
   "outputs": [
    {
     "data": {
      "text/plain": [
       "(11610, 3870, 5160)"
      ]
     },
     "execution_count": 49,
     "metadata": {},
     "output_type": "execute_result"
    }
   ],
   "source": [
    "len(X_train), len(X_valid), len(X_test)"
   ]
  },
  {
   "cell_type": "code",
   "execution_count": 50,
   "id": "understood-handy",
   "metadata": {
    "execution": {
     "iopub.execute_input": "2021-03-31T21:28:09.623575Z",
     "iopub.status.busy": "2021-03-31T21:28:09.622611Z",
     "iopub.status.idle": "2021-03-31T21:28:09.637849Z",
     "shell.execute_reply": "2021-03-31T21:28:09.638374Z"
    },
    "id": "GYKBKYobP1Rk",
    "papermill": {
     "duration": 2.254149,
     "end_time": "2021-03-31T21:28:09.638548",
     "exception": false,
     "start_time": "2021-03-31T21:28:07.384399",
     "status": "completed"
    },
    "tags": []
   },
   "outputs": [],
   "source": [
    "from sklearn.preprocessing import StandardScaler\n",
    "\n",
    "scaler = StandardScaler()\n",
    "X_train_scaled = scaler.fit_transform(X_train)\n",
    "X_valid_scaled = scaler.transform(X_valid)\n",
    "X_test_scaled = scaler.transform(X_test)"
   ]
  },
  {
   "cell_type": "code",
   "execution_count": 51,
   "id": "generous-allah",
   "metadata": {
    "execution": {
     "iopub.execute_input": "2021-03-31T21:28:14.114679Z",
     "iopub.status.busy": "2021-03-31T21:28:14.113570Z",
     "iopub.status.idle": "2021-03-31T21:28:14.142478Z",
     "shell.execute_reply": "2021-03-31T21:28:14.141879Z"
    },
    "id": "qIi3RWqwP4tU",
    "papermill": {
     "duration": 2.248689,
     "end_time": "2021-03-31T21:28:14.142634",
     "exception": false,
     "start_time": "2021-03-31T21:28:11.893945",
     "status": "completed"
    },
    "tags": []
   },
   "outputs": [],
   "source": [
    "model = keras.models.Sequential([\n",
    "    keras.layers.Dense(30, activation=\"relu\", input_shape=X_train.shape[1:]),\n",
    "    keras.layers.Dense(1)\n",
    "])\n",
    "model.compile(loss=\"mean_squared_error\", optimizer=keras.optimizers.SGD(1e-3))"
   ]
  },
  {
   "cell_type": "code",
   "execution_count": 52,
   "id": "alert-malta",
   "metadata": {
    "execution": {
     "iopub.execute_input": "2021-03-31T21:28:18.600983Z",
     "iopub.status.busy": "2021-03-31T21:28:18.600268Z",
     "iopub.status.idle": "2021-03-31T21:29:02.564212Z",
     "shell.execute_reply": "2021-03-31T21:29:02.564698Z"
    },
    "id": "E_7wA6d6P8lJ",
    "papermill": {
     "duration": 46.221258,
     "end_time": "2021-03-31T21:29:02.564949",
     "exception": false,
     "start_time": "2021-03-31T21:28:16.343691",
     "status": "completed"
    },
    "tags": []
   },
   "outputs": [
    {
     "name": "stdout",
     "output_type": "stream",
     "text": [
      "Epoch 1/100\n",
      "363/363 [==============================] - 1s 2ms/step - loss: 3.4283 - val_loss: 0.8806\n",
      "Epoch 2/100\n",
      "363/363 [==============================] - 0s 1ms/step - loss: 0.7322 - val_loss: 0.6011\n",
      "Epoch 3/100\n",
      "363/363 [==============================] - 0s 1ms/step - loss: 0.6089 - val_loss: 0.5709\n",
      "Epoch 4/100\n",
      "363/363 [==============================] - 0s 1ms/step - loss: 0.5851 - val_loss: 0.5492\n",
      "Epoch 5/100\n",
      "363/363 [==============================] - 0s 1ms/step - loss: 0.5470 - val_loss: 0.5332\n",
      "Epoch 6/100\n",
      "363/363 [==============================] - 0s 1ms/step - loss: 0.5420 - val_loss: 0.5204\n",
      "Epoch 7/100\n",
      "363/363 [==============================] - 0s 1ms/step - loss: 0.5270 - val_loss: 0.5140\n",
      "Epoch 8/100\n",
      "363/363 [==============================] - 0s 1ms/step - loss: 0.4947 - val_loss: 0.5045\n",
      "Epoch 9/100\n",
      "363/363 [==============================] - 0s 1ms/step - loss: 0.4772 - val_loss: 0.4822\n",
      "Epoch 10/100\n",
      "363/363 [==============================] - 0s 1ms/step - loss: 0.4877 - val_loss: 0.4548\n",
      "Epoch 11/100\n",
      "363/363 [==============================] - 0s 1ms/step - loss: 0.4798 - val_loss: 0.4491\n",
      "Epoch 12/100\n",
      "363/363 [==============================] - 0s 1ms/step - loss: 0.4549 - val_loss: 0.4365\n",
      "Epoch 13/100\n",
      "363/363 [==============================] - 0s 1ms/step - loss: 0.4587 - val_loss: 0.4280\n",
      "Epoch 14/100\n",
      "363/363 [==============================] - 0s 1ms/step - loss: 0.4385 - val_loss: 0.4162\n",
      "Epoch 15/100\n",
      "363/363 [==============================] - 0s 1ms/step - loss: 0.4439 - val_loss: 0.4105\n",
      "Epoch 16/100\n",
      "363/363 [==============================] - 0s 1ms/step - loss: 0.4394 - val_loss: 0.4064\n",
      "Epoch 17/100\n",
      "363/363 [==============================] - 0s 1ms/step - loss: 0.4416 - val_loss: 0.4023\n",
      "Epoch 18/100\n",
      "363/363 [==============================] - 0s 1ms/step - loss: 0.4453 - val_loss: 0.3992\n",
      "Epoch 19/100\n",
      "363/363 [==============================] - 0s 1ms/step - loss: 0.4169 - val_loss: 0.3987\n",
      "Epoch 20/100\n",
      "363/363 [==============================] - 0s 1ms/step - loss: 0.4227 - val_loss: 0.3958\n",
      "Epoch 21/100\n",
      "363/363 [==============================] - 0s 1ms/step - loss: 0.4174 - val_loss: 0.3940\n",
      "Epoch 22/100\n",
      "363/363 [==============================] - 0s 1ms/step - loss: 0.4205 - val_loss: 0.3916\n",
      "Epoch 23/100\n",
      "363/363 [==============================] - 0s 1ms/step - loss: 0.4269 - val_loss: 0.3913\n",
      "Epoch 24/100\n",
      "363/363 [==============================] - 0s 1ms/step - loss: 0.4181 - val_loss: 0.3940\n",
      "Epoch 25/100\n",
      "363/363 [==============================] - 0s 1ms/step - loss: 0.3944 - val_loss: 0.3947\n",
      "Epoch 26/100\n",
      "363/363 [==============================] - 0s 1ms/step - loss: 0.4174 - val_loss: 0.3934\n",
      "Epoch 27/100\n",
      "363/363 [==============================] - 0s 1ms/step - loss: 0.3994 - val_loss: 0.3933\n",
      "Epoch 28/100\n",
      "363/363 [==============================] - 0s 1ms/step - loss: 0.4128 - val_loss: 0.3888\n",
      "Epoch 29/100\n",
      "363/363 [==============================] - 0s 1ms/step - loss: 0.4122 - val_loss: 0.3887\n",
      "Epoch 30/100\n",
      "363/363 [==============================] - 0s 1ms/step - loss: 0.3875 - val_loss: 0.3909\n",
      "Epoch 31/100\n",
      "363/363 [==============================] - 0s 1ms/step - loss: 0.4152 - val_loss: 0.3927\n",
      "Epoch 32/100\n",
      "363/363 [==============================] - 0s 1ms/step - loss: 0.3994 - val_loss: 0.3870\n",
      "Epoch 33/100\n",
      "363/363 [==============================] - 0s 1ms/step - loss: 0.3988 - val_loss: 0.3900\n",
      "Epoch 34/100\n",
      "363/363 [==============================] - 0s 1ms/step - loss: 0.3862 - val_loss: 0.3823\n",
      "Epoch 35/100\n",
      "363/363 [==============================] - 0s 1ms/step - loss: 0.3915 - val_loss: 0.3789\n",
      "Epoch 36/100\n",
      "363/363 [==============================] - 0s 1ms/step - loss: 0.3910 - val_loss: 0.3869\n",
      "Epoch 37/100\n",
      "363/363 [==============================] - 0s 1ms/step - loss: 0.4011 - val_loss: 0.3835\n",
      "Epoch 38/100\n",
      "363/363 [==============================] - 1s 1ms/step - loss: 0.3837 - val_loss: 0.3786\n",
      "Epoch 39/100\n",
      "363/363 [==============================] - 0s 1ms/step - loss: 0.3866 - val_loss: 0.3785\n",
      "Epoch 40/100\n",
      "363/363 [==============================] - 0s 1ms/step - loss: 0.3860 - val_loss: 0.3750\n",
      "Epoch 41/100\n",
      "363/363 [==============================] - 0s 1ms/step - loss: 0.3973 - val_loss: 0.3781\n",
      "Epoch 42/100\n",
      "363/363 [==============================] - 0s 1ms/step - loss: 0.3897 - val_loss: 0.3803\n",
      "Epoch 43/100\n",
      "363/363 [==============================] - 0s 1ms/step - loss: 0.3911 - val_loss: 0.3760\n",
      "Epoch 44/100\n",
      "363/363 [==============================] - 0s 1ms/step - loss: 0.4102 - val_loss: 0.3790\n",
      "Epoch 45/100\n",
      "363/363 [==============================] - 0s 1ms/step - loss: 0.3732 - val_loss: 0.3710\n",
      "Epoch 46/100\n",
      "363/363 [==============================] - 0s 1ms/step - loss: 0.3981 - val_loss: 0.3760\n",
      "Epoch 47/100\n",
      "363/363 [==============================] - 0s 1ms/step - loss: 0.3826 - val_loss: 0.3799\n",
      "Epoch 48/100\n",
      "363/363 [==============================] - 0s 1ms/step - loss: 0.3929 - val_loss: 0.3761\n",
      "Epoch 49/100\n",
      "363/363 [==============================] - 0s 1ms/step - loss: 0.3828 - val_loss: 0.3759\n",
      "Epoch 50/100\n",
      "363/363 [==============================] - 0s 1ms/step - loss: 0.3840 - val_loss: 0.3727\n",
      "Epoch 51/100\n",
      "363/363 [==============================] - 0s 1ms/step - loss: 0.3911 - val_loss: 0.3712\n",
      "Epoch 52/100\n",
      "363/363 [==============================] - 0s 1ms/step - loss: 0.3795 - val_loss: 0.3672\n",
      "Epoch 53/100\n",
      "363/363 [==============================] - 0s 1ms/step - loss: 0.3793 - val_loss: 0.3658\n",
      "Epoch 54/100\n",
      "363/363 [==============================] - 0s 1ms/step - loss: 0.3911 - val_loss: 0.3710\n",
      "Epoch 55/100\n",
      "363/363 [==============================] - 0s 1ms/step - loss: 0.3785 - val_loss: 0.3698\n",
      "Epoch 56/100\n",
      "363/363 [==============================] - 0s 1ms/step - loss: 0.3693 - val_loss: 0.3637\n",
      "Epoch 57/100\n",
      "363/363 [==============================] - 0s 1ms/step - loss: 0.3834 - val_loss: 0.3619\n",
      "Epoch 58/100\n",
      "363/363 [==============================] - 0s 1ms/step - loss: 0.3766 - val_loss: 0.3631\n",
      "Epoch 59/100\n",
      "363/363 [==============================] - 0s 1ms/step - loss: 0.3914 - val_loss: 0.3682\n",
      "Epoch 60/100\n",
      "363/363 [==============================] - 0s 1ms/step - loss: 0.3910 - val_loss: 0.3617\n",
      "Epoch 61/100\n",
      "363/363 [==============================] - 0s 1ms/step - loss: 0.3771 - val_loss: 0.3657\n",
      "Epoch 62/100\n",
      "363/363 [==============================] - 0s 1ms/step - loss: 0.3905 - val_loss: 0.3634\n",
      "Epoch 63/100\n",
      "363/363 [==============================] - 0s 1ms/step - loss: 0.3662 - val_loss: 0.3607\n",
      "Epoch 64/100\n",
      "363/363 [==============================] - 0s 1ms/step - loss: 0.3651 - val_loss: 0.3580\n",
      "Epoch 65/100\n",
      "363/363 [==============================] - 0s 1ms/step - loss: 0.3723 - val_loss: 0.3610\n",
      "Epoch 66/100\n",
      "363/363 [==============================] - 0s 1ms/step - loss: 0.3790 - val_loss: 0.3599\n",
      "Epoch 67/100\n",
      "363/363 [==============================] - 0s 1ms/step - loss: 0.3664 - val_loss: 0.3576\n",
      "Epoch 68/100\n",
      "363/363 [==============================] - 0s 1ms/step - loss: 0.3725 - val_loss: 0.3589\n",
      "Epoch 69/100\n",
      "363/363 [==============================] - 0s 1ms/step - loss: 0.3694 - val_loss: 0.3592\n",
      "Epoch 70/100\n",
      "363/363 [==============================] - 0s 1ms/step - loss: 0.3806 - val_loss: 0.3532\n",
      "Epoch 71/100\n",
      "363/363 [==============================] - 0s 1ms/step - loss: 0.3818 - val_loss: 0.3585\n",
      "Epoch 72/100\n",
      "363/363 [==============================] - 0s 1ms/step - loss: 0.3766 - val_loss: 0.3580\n",
      "Epoch 73/100\n",
      "363/363 [==============================] - 0s 1ms/step - loss: 0.3632 - val_loss: 0.3547\n",
      "Epoch 74/100\n",
      "363/363 [==============================] - 0s 1ms/step - loss: 0.3631 - val_loss: 0.3590\n",
      "Epoch 75/100\n",
      "363/363 [==============================] - 0s 1ms/step - loss: 0.3765 - val_loss: 0.3545\n",
      "Epoch 76/100\n",
      "363/363 [==============================] - 0s 1ms/step - loss: 0.3592 - val_loss: 0.3557\n",
      "Epoch 77/100\n",
      "363/363 [==============================] - 0s 1ms/step - loss: 0.3732 - val_loss: 0.3534\n",
      "Epoch 78/100\n",
      "363/363 [==============================] - 0s 1ms/step - loss: 0.3561 - val_loss: 0.3540\n",
      "Epoch 79/100\n",
      "363/363 [==============================] - 0s 1ms/step - loss: 0.3687 - val_loss: 0.3525\n",
      "Epoch 80/100\n",
      "363/363 [==============================] - 0s 1ms/step - loss: 0.3747 - val_loss: 0.3539\n",
      "Epoch 81/100\n",
      "363/363 [==============================] - 0s 1ms/step - loss: 0.3684 - val_loss: 0.3503\n",
      "Epoch 82/100\n",
      "363/363 [==============================] - 0s 1ms/step - loss: 0.3755 - val_loss: 0.3537\n",
      "Epoch 83/100\n",
      "363/363 [==============================] - 0s 1ms/step - loss: 0.3822 - val_loss: 0.3558\n",
      "Epoch 84/100\n",
      "363/363 [==============================] - 0s 1ms/step - loss: 0.3655 - val_loss: 0.3494\n",
      "Epoch 85/100\n",
      "363/363 [==============================] - 0s 1ms/step - loss: 0.3692 - val_loss: 0.3523\n",
      "Epoch 86/100\n",
      "363/363 [==============================] - 0s 1ms/step - loss: 0.3593 - val_loss: 0.3519\n",
      "Epoch 87/100\n",
      "363/363 [==============================] - 0s 1ms/step - loss: 0.3591 - val_loss: 0.3551\n",
      "Epoch 88/100\n",
      "363/363 [==============================] - 0s 1ms/step - loss: 0.3713 - val_loss: 0.3478\n",
      "Epoch 89/100\n",
      "363/363 [==============================] - 0s 1ms/step - loss: 0.3552 - val_loss: 0.3457\n",
      "Epoch 90/100\n",
      "363/363 [==============================] - 0s 1ms/step - loss: 0.3675 - val_loss: 0.3469\n",
      "Epoch 91/100\n",
      "363/363 [==============================] - 0s 1ms/step - loss: 0.3672 - val_loss: 0.3465\n",
      "Epoch 92/100\n",
      "363/363 [==============================] - 0s 1ms/step - loss: 0.3670 - val_loss: 0.3490\n",
      "Epoch 93/100\n",
      "363/363 [==============================] - 0s 1ms/step - loss: 0.3560 - val_loss: 0.3466\n",
      "Epoch 94/100\n",
      "363/363 [==============================] - 0s 1ms/step - loss: 0.3623 - val_loss: 0.3490\n",
      "Epoch 95/100\n",
      "363/363 [==============================] - 0s 1ms/step - loss: 0.3640 - val_loss: 0.3477\n",
      "Epoch 96/100\n",
      "363/363 [==============================] - 0s 1ms/step - loss: 0.3595 - val_loss: 0.3441\n",
      "Epoch 97/100\n",
      "363/363 [==============================] - 0s 1ms/step - loss: 0.3618 - val_loss: 0.3476\n",
      "Epoch 98/100\n",
      "363/363 [==============================] - 0s 1ms/step - loss: 0.3617 - val_loss: 0.3425\n",
      "Epoch 99/100\n",
      "363/363 [==============================] - 0s 1ms/step - loss: 0.3641 - val_loss: 0.3417\n",
      "Epoch 100/100\n",
      "363/363 [==============================] - 0s 1ms/step - loss: 0.3641 - val_loss: 0.3421\n"
     ]
    }
   ],
   "source": [
    "callbacks = [keras.callbacks.EarlyStopping(patience=10)]\n",
    "history = model.fit(X_train_scaled, y_train,\n",
    "                    validation_data=(X_valid_scaled, y_valid), epochs=100,\n",
    "                    callbacks=callbacks)"
   ]
  },
  {
   "cell_type": "code",
   "execution_count": 53,
   "id": "respiratory-blind",
   "metadata": {
    "execution": {
     "iopub.execute_input": "2021-03-31T21:29:07.574136Z",
     "iopub.status.busy": "2021-03-31T21:29:07.573416Z",
     "iopub.status.idle": "2021-03-31T21:29:07.732205Z",
     "shell.execute_reply": "2021-03-31T21:29:07.731680Z"
    },
    "id": "4T8473IHQCfC",
    "papermill": {
     "duration": 2.703484,
     "end_time": "2021-03-31T21:29:07.732351",
     "exception": false,
     "start_time": "2021-03-31T21:29:05.028867",
     "status": "completed"
    },
    "tags": []
   },
   "outputs": [
    {
     "name": "stdout",
     "output_type": "stream",
     "text": [
      "162/162 [==============================] - 0s 704us/step - loss: 0.3586\n"
     ]
    },
    {
     "data": {
      "text/plain": [
       "0.3585503101348877"
      ]
     },
     "execution_count": 53,
     "metadata": {},
     "output_type": "execute_result"
    }
   ],
   "source": [
    "model.evaluate(X_test_scaled, y_test)"
   ]
  },
  {
   "cell_type": "code",
   "execution_count": 54,
   "id": "waiting-regression",
   "metadata": {
    "execution": {
     "iopub.execute_input": "2021-03-31T21:29:12.608462Z",
     "iopub.status.busy": "2021-03-31T21:29:12.607492Z",
     "iopub.status.idle": "2021-03-31T21:29:12.759802Z",
     "shell.execute_reply": "2021-03-31T21:29:12.758928Z"
    },
    "id": "atlx_5YlQC6i",
    "papermill": {
     "duration": 2.6041,
     "end_time": "2021-03-31T21:29:12.759965",
     "exception": false,
     "start_time": "2021-03-31T21:29:10.155865",
     "status": "completed"
    },
    "tags": []
   },
   "outputs": [
    {
     "data": {
      "text/plain": [
       "array([[0.692727 ],\n",
       "       [1.4818938],\n",
       "       [3.9495704],\n",
       "       ...,\n",
       "       [1.5915353],\n",
       "       [2.458242 ],\n",
       "       [3.996081 ]], dtype=float32)"
      ]
     },
     "execution_count": 54,
     "metadata": {},
     "output_type": "execute_result"
    }
   ],
   "source": [
    "model.predict(X_test_scaled)"
   ]
  },
  {
   "cell_type": "code",
   "execution_count": 55,
   "id": "missing-tactics",
   "metadata": {
    "execution": {
     "iopub.execute_input": "2021-03-31T21:29:17.769986Z",
     "iopub.status.busy": "2021-03-31T21:29:17.768995Z",
     "iopub.status.idle": "2021-03-31T21:29:17.898111Z",
     "shell.execute_reply": "2021-03-31T21:29:17.897481Z"
    },
    "id": "R_5mOwUxQGvm",
    "papermill": {
     "duration": 2.593597,
     "end_time": "2021-03-31T21:29:17.898251",
     "exception": false,
     "start_time": "2021-03-31T21:29:15.304654",
     "status": "completed"
    },
    "tags": []
   },
   "outputs": [
    {
     "data": {
      "image/png": "[encoded data removed]",
      "text/plain": [
       "<Figure size 576x360 with 1 Axes>"
      ]
     },
     "metadata": {
      "needs_background": "light"
     },
     "output_type": "display_data"
    }
   ],
   "source": [
    "plot_learning_curves(history)"
   ]
  },
  {
   "cell_type": "code",
   "execution_count": 56,
   "id": "hairy-concentrate",
   "metadata": {
    "execution": {
     "iopub.execute_input": "2021-03-31T21:29:22.821975Z",
     "iopub.status.busy": "2021-03-31T21:29:22.819164Z",
     "iopub.status.idle": "2021-03-31T21:31:43.629728Z",
     "shell.execute_reply": "2021-03-31T21:31:43.630225Z"
    },
    "id": "P5jAIdPCQJpZ",
    "papermill": {
     "duration": 143.303819,
     "end_time": "2021-03-31T21:31:43.630420",
     "exception": false,
     "start_time": "2021-03-31T21:29:20.326601",
     "status": "completed"
    },
    "tags": []
   },
   "outputs": [
    {
     "name": "stdout",
     "output_type": "stream",
     "text": [
      "Epoch 1/100\n",
      "363/363 [==============================] - 1s 1ms/step - loss: 4.7931 - val_loss: 5.9682\n",
      "Epoch 2/100\n",
      "363/363 [==============================] - 0s 1ms/step - loss: 3.6359 - val_loss: 6.5896\n",
      "Epoch 3/100\n",
      "363/363 [==============================] - 0s 1ms/step - loss: 2.7865 - val_loss: 6.8156\n",
      "Epoch 4/100\n",
      "363/363 [==============================] - 0s 1ms/step - loss: 2.2675 - val_loss: 6.7027\n",
      "Epoch 5/100\n",
      "363/363 [==============================] - 0s 1ms/step - loss: 1.7839 - val_loss: 6.2839\n",
      "Epoch 6/100\n",
      "363/363 [==============================] - 0s 1ms/step - loss: 1.5306 - val_loss: 5.7317\n",
      "Epoch 7/100\n",
      "363/363 [==============================] - 0s 1ms/step - loss: 1.4809 - val_loss: 5.0999\n",
      "Epoch 8/100\n",
      "363/363 [==============================] - 0s 1ms/step - loss: 1.2038 - val_loss: 4.3595\n",
      "Epoch 9/100\n",
      "363/363 [==============================] - 0s 1ms/step - loss: 1.0673 - val_loss: 3.6239\n",
      "Epoch 10/100\n",
      "363/363 [==============================] - 0s 1ms/step - loss: 0.9960 - val_loss: 2.9950\n",
      "Epoch 11/100\n",
      "363/363 [==============================] - 0s 1ms/step - loss: 0.9558 - val_loss: 2.4506\n",
      "Epoch 12/100\n",
      "363/363 [==============================] - 0s 1ms/step - loss: 0.8739 - val_loss: 1.9961\n",
      "Epoch 13/100\n",
      "363/363 [==============================] - 0s 1ms/step - loss: 0.8488 - val_loss: 1.6318\n",
      "Epoch 14/100\n",
      "363/363 [==============================] - 0s 1ms/step - loss: 0.8158 - val_loss: 1.3490\n",
      "Epoch 15/100\n",
      "363/363 [==============================] - 0s 1ms/step - loss: 0.7541 - val_loss: 1.1379\n",
      "Epoch 16/100\n",
      "363/363 [==============================] - 0s 1ms/step - loss: 0.7563 - val_loss: 0.9762\n",
      "Epoch 17/100\n",
      "363/363 [==============================] - 0s 1ms/step - loss: 0.7308 - val_loss: 0.8630\n",
      "Epoch 18/100\n",
      "363/363 [==============================] - 0s 1ms/step - loss: 0.7158 - val_loss: 0.7828\n",
      "Epoch 19/100\n",
      "363/363 [==============================] - 0s 1ms/step - loss: 0.7233 - val_loss: 0.7262\n",
      "Epoch 20/100\n",
      "363/363 [==============================] - 0s 1ms/step - loss: 0.7138 - val_loss: 0.6908\n",
      "Epoch 21/100\n",
      "363/363 [==============================] - 0s 1ms/step - loss: 0.6951 - val_loss: 0.6700\n",
      "Epoch 22/100\n",
      "363/363 [==============================] - 0s 1ms/step - loss: 0.6859 - val_loss: 0.6585\n",
      "Epoch 23/100\n",
      "363/363 [==============================] - 0s 1ms/step - loss: 0.6843 - val_loss: 0.6539\n",
      "Epoch 24/100\n",
      "363/363 [==============================] - 0s 1ms/step - loss: 0.6807 - val_loss: 0.6542\n",
      "Epoch 25/100\n",
      "363/363 [==============================] - 0s 1ms/step - loss: 0.6661 - val_loss: 0.6569\n",
      "Epoch 26/100\n",
      "363/363 [==============================] - 0s 1ms/step - loss: 0.6597 - val_loss: 0.6606\n",
      "Epoch 27/100\n",
      "363/363 [==============================] - 0s 1ms/step - loss: 0.7049 - val_loss: 0.6648\n",
      "Epoch 28/100\n",
      "363/363 [==============================] - 0s 1ms/step - loss: 0.6844 - val_loss: 0.6691\n",
      "Epoch 29/100\n",
      "363/363 [==============================] - 0s 1ms/step - loss: 0.6644 - val_loss: 0.6733\n",
      "Epoch 30/100\n",
      "363/363 [==============================] - 0s 1ms/step - loss: 0.6566 - val_loss: 0.6763\n",
      "Epoch 31/100\n",
      "363/363 [==============================] - 0s 1ms/step - loss: 0.6613 - val_loss: 0.6794\n",
      "Epoch 32/100\n",
      "363/363 [==============================] - 0s 1ms/step - loss: 0.6618 - val_loss: 0.6832\n",
      "Epoch 33/100\n",
      "363/363 [==============================] - 0s 1ms/step - loss: 0.6338 - val_loss: 0.6847\n",
      "Epoch 1/100\n",
      "363/363 [==============================] - 1s 2ms/step - loss: 7.0632 - val_loss: 3.1744\n",
      "Epoch 2/100\n",
      "363/363 [==============================] - 0s 1ms/step - loss: 2.8274 - val_loss: 2.3857\n",
      "Epoch 3/100\n",
      "363/363 [==============================] - 0s 1ms/step - loss: 1.5947 - val_loss: 1.7415\n",
      "Epoch 4/100\n",
      "363/363 [==============================] - 0s 1ms/step - loss: 1.1063 - val_loss: 1.1683\n",
      "Epoch 5/100\n",
      "363/363 [==============================] - 0s 1ms/step - loss: 0.8768 - val_loss: 0.8449\n",
      "Epoch 6/100\n",
      "363/363 [==============================] - 0s 1ms/step - loss: 0.7443 - val_loss: 0.6945\n",
      "Epoch 7/100\n",
      "363/363 [==============================] - 0s 1ms/step - loss: 0.6892 - val_loss: 0.6304\n",
      "Epoch 8/100\n",
      "363/363 [==============================] - 0s 1ms/step - loss: 0.6421 - val_loss: 0.5936\n",
      "Epoch 9/100\n",
      "363/363 [==============================] - 0s 1ms/step - loss: 0.6020 - val_loss: 0.5723\n",
      "Epoch 10/100\n",
      "363/363 [==============================] - 0s 1ms/step - loss: 0.5973 - val_loss: 0.5573\n",
      "Epoch 11/100\n",
      "363/363 [==============================] - 0s 1ms/step - loss: 0.5580 - val_loss: 0.5449\n",
      "Epoch 12/100\n",
      "363/363 [==============================] - 0s 1ms/step - loss: 0.5638 - val_loss: 0.5321\n",
      "Epoch 13/100\n",
      "363/363 [==============================] - 0s 1ms/step - loss: 0.5655 - val_loss: 0.5208\n",
      "Epoch 14/100\n",
      "363/363 [==============================] - 0s 1ms/step - loss: 0.5417 - val_loss: 0.5113\n",
      "Epoch 15/100\n",
      "363/363 [==============================] - 0s 1ms/step - loss: 0.5199 - val_loss: 0.5030\n",
      "Epoch 16/100\n",
      "363/363 [==============================] - 0s 1ms/step - loss: 0.5132 - val_loss: 0.4950\n",
      "Epoch 17/100\n",
      "363/363 [==============================] - 0s 1ms/step - loss: 0.5180 - val_loss: 0.4872\n",
      "Epoch 18/100\n",
      "363/363 [==============================] - 0s 1ms/step - loss: 0.5064 - val_loss: 0.4809\n",
      "Epoch 19/100\n",
      "363/363 [==============================] - 0s 1ms/step - loss: 0.5158 - val_loss: 0.4747\n",
      "Epoch 20/100\n",
      "363/363 [==============================] - 0s 1ms/step - loss: 0.5116 - val_loss: 0.4689\n",
      "Epoch 21/100\n",
      "363/363 [==============================] - 0s 1ms/step - loss: 0.4931 - val_loss: 0.4634\n",
      "Epoch 22/100\n",
      "363/363 [==============================] - 0s 1ms/step - loss: 0.4693 - val_loss: 0.4584\n",
      "Epoch 23/100\n",
      "363/363 [==============================] - 0s 1ms/step - loss: 0.4789 - val_loss: 0.4540\n",
      "Epoch 24/100\n",
      "363/363 [==============================] - 0s 1ms/step - loss: 0.4812 - val_loss: 0.4497\n",
      "Epoch 25/100\n",
      "363/363 [==============================] - 0s 1ms/step - loss: 0.4652 - val_loss: 0.4458\n",
      "Epoch 26/100\n",
      "363/363 [==============================] - 0s 1ms/step - loss: 0.4850 - val_loss: 0.4421\n",
      "Epoch 27/100\n",
      "363/363 [==============================] - 0s 1ms/step - loss: 0.4778 - val_loss: 0.4390\n",
      "Epoch 28/100\n",
      "363/363 [==============================] - 0s 1ms/step - loss: 0.4770 - val_loss: 0.4360\n",
      "Epoch 29/100\n",
      "363/363 [==============================] - 0s 1ms/step - loss: 0.4542 - val_loss: 0.4341\n",
      "Epoch 30/100\n",
      "363/363 [==============================] - 0s 1ms/step - loss: 0.4670 - val_loss: 0.4305\n",
      "Epoch 31/100\n",
      "363/363 [==============================] - 0s 1ms/step - loss: 0.4508 - val_loss: 0.4291\n",
      "Epoch 32/100\n",
      "363/363 [==============================] - 0s 1ms/step - loss: 0.4614 - val_loss: 0.4279\n",
      "Epoch 33/100\n",
      "363/363 [==============================] - 0s 1ms/step - loss: 0.4814 - val_loss: 0.4265\n",
      "Epoch 34/100\n",
      "363/363 [==============================] - 0s 1ms/step - loss: 0.4572 - val_loss: 0.4247\n",
      "Epoch 35/100\n",
      "363/363 [==============================] - 0s 1ms/step - loss: 0.4354 - val_loss: 0.4236\n",
      "Epoch 36/100\n",
      "363/363 [==============================] - 0s 1ms/step - loss: 0.4367 - val_loss: 0.4227\n",
      "Epoch 37/100\n",
      "363/363 [==============================] - 0s 1ms/step - loss: 0.4638 - val_loss: 0.4204\n",
      "Epoch 38/100\n",
      "363/363 [==============================] - 0s 1ms/step - loss: 0.4458 - val_loss: 0.4201\n",
      "Epoch 39/100\n",
      "363/363 [==============================] - 0s 1ms/step - loss: 0.4385 - val_loss: 0.4210\n",
      "Epoch 40/100\n",
      "363/363 [==============================] - 0s 1ms/step - loss: 0.4475 - val_loss: 0.4202\n",
      "Epoch 41/100\n",
      "363/363 [==============================] - 0s 1ms/step - loss: 0.4455 - val_loss: 0.4184\n",
      "Epoch 42/100\n",
      "363/363 [==============================] - 0s 1ms/step - loss: 0.4266 - val_loss: 0.4186\n",
      "Epoch 43/100\n",
      "363/363 [==============================] - 0s 1ms/step - loss: 0.4193 - val_loss: 0.4212\n",
      "Epoch 44/100\n",
      "363/363 [==============================] - 0s 1ms/step - loss: 0.4441 - val_loss: 0.4189\n",
      "Epoch 45/100\n",
      "363/363 [==============================] - 0s 1ms/step - loss: 0.4441 - val_loss: 0.4186\n",
      "Epoch 46/100\n",
      "363/363 [==============================] - 0s 1ms/step - loss: 0.4394 - val_loss: 0.4175\n",
      "Epoch 47/100\n",
      "363/363 [==============================] - 0s 1ms/step - loss: 0.4396 - val_loss: 0.4167\n",
      "Epoch 48/100\n",
      "363/363 [==============================] - 0s 1ms/step - loss: 0.4349 - val_loss: 0.4164\n",
      "Epoch 49/100\n",
      "363/363 [==============================] - 0s 1ms/step - loss: 0.4508 - val_loss: 0.4187\n",
      "Epoch 50/100\n",
      "363/363 [==============================] - 0s 1ms/step - loss: 0.4248 - val_loss: 0.4188\n",
      "Epoch 51/100\n",
      "363/363 [==============================] - 0s 1ms/step - loss: 0.4313 - val_loss: 0.4200\n",
      "Epoch 52/100\n",
      "363/363 [==============================] - 0s 1ms/step - loss: 0.4213 - val_loss: 0.4217\n",
      "Epoch 53/100\n",
      "363/363 [==============================] - 0s 1ms/step - loss: 0.4549 - val_loss: 0.4184\n",
      "Epoch 54/100\n",
      "363/363 [==============================] - 0s 1ms/step - loss: 0.4291 - val_loss: 0.4208\n",
      "Epoch 55/100\n",
      "363/363 [==============================] - 0s 1ms/step - loss: 0.4041 - val_loss: 0.4223\n",
      "Epoch 56/100\n",
      "363/363 [==============================] - 0s 1ms/step - loss: 0.4098 - val_loss: 0.4242\n",
      "Epoch 57/100\n",
      "363/363 [==============================] - 0s 1ms/step - loss: 0.4291 - val_loss: 0.4266\n",
      "Epoch 58/100\n",
      "363/363 [==============================] - 0s 1ms/step - loss: 0.4187 - val_loss: 0.4236\n",
      "Epoch 1/100\n",
      "363/363 [==============================] - 1s 2ms/step - loss: 4.1280 - val_loss: 13.3296\n",
      "Epoch 2/100\n",
      "363/363 [==============================] - 0s 1ms/step - loss: 0.7863 - val_loss: 0.6908\n",
      "Epoch 3/100\n",
      "363/363 [==============================] - 0s 1ms/step - loss: 0.5853 - val_loss: 0.5403\n",
      "Epoch 4/100\n",
      "363/363 [==============================] - 0s 1ms/step - loss: 0.5785 - val_loss: 0.5199\n",
      "Epoch 5/100\n",
      "363/363 [==============================] - 0s 1ms/step - loss: 0.5304 - val_loss: 0.4937\n",
      "Epoch 6/100\n",
      "363/363 [==============================] - 0s 1ms/step - loss: 0.5202 - val_loss: 0.4842\n",
      "Epoch 7/100\n",
      "363/363 [==============================] - 0s 1ms/step - loss: 0.5172 - val_loss: 0.4599\n",
      "Epoch 8/100\n",
      "363/363 [==============================] - 0s 1ms/step - loss: 0.4856 - val_loss: 0.4518\n",
      "Epoch 9/100\n",
      "363/363 [==============================] - 0s 1ms/step - loss: 0.4722 - val_loss: 0.4428\n",
      "Epoch 10/100\n",
      "363/363 [==============================] - 0s 1ms/step - loss: 0.4781 - val_loss: 0.4288\n",
      "Epoch 11/100\n",
      "363/363 [==============================] - 0s 1ms/step - loss: 0.4582 - val_loss: 0.4247\n",
      "Epoch 12/100\n",
      "363/363 [==============================] - 0s 1ms/step - loss: 0.4444 - val_loss: 0.4257\n",
      "Epoch 13/100\n",
      "363/363 [==============================] - 0s 1ms/step - loss: 0.4404 - val_loss: 0.4297\n",
      "Epoch 14/100\n",
      "363/363 [==============================] - 1s 1ms/step - loss: 0.4477 - val_loss: 0.4160\n",
      "Epoch 15/100\n",
      "363/363 [==============================] - 0s 1ms/step - loss: 0.4512 - val_loss: 0.4260\n",
      "Epoch 16/100\n",
      "363/363 [==============================] - 0s 1ms/step - loss: 0.4352 - val_loss: 0.4258\n",
      "Epoch 17/100\n",
      "363/363 [==============================] - 0s 1ms/step - loss: 0.4426 - val_loss: 0.4249\n",
      "Epoch 18/100\n",
      "363/363 [==============================] - 0s 1ms/step - loss: 0.4154 - val_loss: 0.4259\n",
      "Epoch 19/100\n",
      "363/363 [==============================] - 0s 1ms/step - loss: 0.4213 - val_loss: 0.4161\n",
      "Epoch 20/100\n",
      "363/363 [==============================] - 0s 1ms/step - loss: 0.4186 - val_loss: 0.4203\n",
      "Epoch 21/100\n",
      "363/363 [==============================] - 0s 1ms/step - loss: 0.4166 - val_loss: 0.4152\n",
      "Epoch 22/100\n",
      "363/363 [==============================] - 0s 1ms/step - loss: 0.4109 - val_loss: 0.4210\n",
      "Epoch 23/100\n",
      "363/363 [==============================] - 0s 1ms/step - loss: 0.4047 - val_loss: 0.4204\n",
      "Epoch 24/100\n",
      "363/363 [==============================] - 0s 1ms/step - loss: 0.4136 - val_loss: 0.4148\n",
      "Epoch 25/100\n",
      "363/363 [==============================] - 0s 1ms/step - loss: 0.4080 - val_loss: 0.4142\n",
      "Epoch 26/100\n",
      "363/363 [==============================] - 0s 1ms/step - loss: 0.3910 - val_loss: 0.4233\n",
      "Epoch 27/100\n",
      "363/363 [==============================] - 0s 1ms/step - loss: 0.3930 - val_loss: 0.4191\n",
      "Epoch 28/100\n",
      "363/363 [==============================] - 0s 1ms/step - loss: 0.3953 - val_loss: 0.3996\n",
      "Epoch 29/100\n",
      "363/363 [==============================] - 0s 1ms/step - loss: 0.4013 - val_loss: 0.4184\n",
      "Epoch 30/100\n",
      "363/363 [==============================] - 0s 1ms/step - loss: 0.4023 - val_loss: 0.3932\n",
      "Epoch 31/100\n",
      "363/363 [==============================] - 0s 1ms/step - loss: 0.4051 - val_loss: 0.4220\n",
      "Epoch 32/100\n",
      "363/363 [==============================] - 0s 1ms/step - loss: 0.4035 - val_loss: 0.4226\n",
      "Epoch 33/100\n",
      "363/363 [==============================] - 0s 1ms/step - loss: 0.3852 - val_loss: 0.4166\n",
      "Epoch 34/100\n",
      "363/363 [==============================] - 0s 1ms/step - loss: 0.3989 - val_loss: 0.4253\n",
      "Epoch 35/100\n",
      "363/363 [==============================] - 0s 1ms/step - loss: 0.3819 - val_loss: 0.3866\n",
      "Epoch 36/100\n",
      "363/363 [==============================] - 0s 1ms/step - loss: 0.4012 - val_loss: 0.3785\n",
      "Epoch 37/100\n",
      "363/363 [==============================] - 0s 1ms/step - loss: 0.3949 - val_loss: 0.3727\n",
      "Epoch 38/100\n",
      "363/363 [==============================] - 0s 1ms/step - loss: 0.3835 - val_loss: 0.4253\n",
      "Epoch 39/100\n",
      "363/363 [==============================] - 0s 1ms/step - loss: 0.3954 - val_loss: 0.3904\n",
      "Epoch 40/100\n",
      "363/363 [==============================] - 0s 1ms/step - loss: 0.3865 - val_loss: 0.4211\n",
      "Epoch 41/100\n",
      "363/363 [==============================] - 0s 1ms/step - loss: 0.3808 - val_loss: 0.3831\n",
      "Epoch 42/100\n",
      "363/363 [==============================] - 0s 1ms/step - loss: 0.3915 - val_loss: 0.4092\n",
      "Epoch 43/100\n",
      "363/363 [==============================] - 0s 1ms/step - loss: 0.3885 - val_loss: 0.3809\n",
      "Epoch 44/100\n",
      "363/363 [==============================] - 0s 1ms/step - loss: 0.3777 - val_loss: 0.3878\n",
      "Epoch 45/100\n",
      "363/363 [==============================] - 0s 1ms/step - loss: 0.3704 - val_loss: 0.3835\n",
      "Epoch 46/100\n",
      "363/363 [==============================] - 0s 1ms/step - loss: 0.4092 - val_loss: 0.3691\n",
      "Epoch 47/100\n",
      "363/363 [==============================] - 0s 1ms/step - loss: 0.3880 - val_loss: 0.3993\n",
      "Epoch 48/100\n",
      "363/363 [==============================] - 0s 1ms/step - loss: 0.3961 - val_loss: 0.4010\n",
      "Epoch 49/100\n",
      "363/363 [==============================] - 0s 1ms/step - loss: 0.3832 - val_loss: 0.3676\n",
      "Epoch 50/100\n",
      "363/363 [==============================] - 0s 1ms/step - loss: 0.3980 - val_loss: 0.3841\n",
      "Epoch 51/100\n",
      "363/363 [==============================] - 0s 1ms/step - loss: 0.3837 - val_loss: 0.3649\n",
      "Epoch 52/100\n",
      "363/363 [==============================] - 0s 1ms/step - loss: 0.3679 - val_loss: 0.3842\n",
      "Epoch 53/100\n",
      "363/363 [==============================] - 0s 1ms/step - loss: 0.3668 - val_loss: 0.3665\n",
      "Epoch 54/100\n",
      "363/363 [==============================] - 0s 1ms/step - loss: 0.3814 - val_loss: 0.3628\n",
      "Epoch 55/100\n",
      "363/363 [==============================] - 0s 1ms/step - loss: 0.3802 - val_loss: 0.3941\n",
      "Epoch 56/100\n",
      "363/363 [==============================] - 0s 1ms/step - loss: 0.3921 - val_loss: 0.3688\n",
      "Epoch 57/100\n",
      "363/363 [==============================] - 0s 1ms/step - loss: 0.3708 - val_loss: 0.4024\n",
      "Epoch 58/100\n",
      "363/363 [==============================] - 0s 1ms/step - loss: 0.3663 - val_loss: 0.3718\n",
      "Epoch 59/100\n",
      "363/363 [==============================] - 0s 1ms/step - loss: 0.3705 - val_loss: 0.3652\n",
      "Epoch 60/100\n",
      "363/363 [==============================] - 0s 1ms/step - loss: 0.3840 - val_loss: 0.3659\n",
      "Epoch 61/100\n",
      "363/363 [==============================] - 0s 1ms/step - loss: 0.3712 - val_loss: 0.3579\n",
      "Epoch 62/100\n",
      "363/363 [==============================] - 0s 1ms/step - loss: 0.3644 - val_loss: 0.3846\n",
      "Epoch 63/100\n",
      "363/363 [==============================] - 0s 1ms/step - loss: 0.3686 - val_loss: 0.3658\n",
      "Epoch 64/100\n",
      "363/363 [==============================] - 0s 1ms/step - loss: 0.3779 - val_loss: 0.3651\n",
      "Epoch 65/100\n",
      "363/363 [==============================] - 0s 1ms/step - loss: 0.3594 - val_loss: 0.3759\n",
      "Epoch 66/100\n",
      "363/363 [==============================] - 0s 1ms/step - loss: 0.3741 - val_loss: 0.3924\n",
      "Epoch 67/100\n",
      "363/363 [==============================] - 0s 1ms/step - loss: 0.3681 - val_loss: 0.3621\n",
      "Epoch 68/100\n",
      "363/363 [==============================] - 0s 1ms/step - loss: 0.3731 - val_loss: 0.3778\n",
      "Epoch 69/100\n",
      "363/363 [==============================] - 0s 1ms/step - loss: 0.3788 - val_loss: 0.3626\n",
      "Epoch 70/100\n",
      "363/363 [==============================] - 0s 1ms/step - loss: 0.3564 - val_loss: 0.3983\n",
      "Epoch 71/100\n",
      "363/363 [==============================] - 0s 1ms/step - loss: 0.3625 - val_loss: 0.3872\n",
      "Epoch 1/100\n",
      "363/363 [==============================] - 1s 2ms/step - loss: 1.8248 - val_loss: 6.3009\n",
      "Epoch 2/100\n",
      "363/363 [==============================] - 0s 1ms/step - loss: 0.5935 - val_loss: 0.9394\n",
      "Epoch 3/100\n",
      "363/363 [==============================] - 0s 1ms/step - loss: 0.5326 - val_loss: 0.4880\n",
      "Epoch 4/100\n",
      "363/363 [==============================] - 0s 1ms/step - loss: 0.4772 - val_loss: 0.4642\n",
      "Epoch 5/100\n",
      "363/363 [==============================] - 0s 1ms/step - loss: 0.4347 - val_loss: 0.4362\n",
      "Epoch 6/100\n",
      "363/363 [==============================] - 0s 1ms/step - loss: 0.4316 - val_loss: 0.4226\n",
      "Epoch 7/100\n",
      "363/363 [==============================] - 0s 1ms/step - loss: 0.4164 - val_loss: 0.4770\n",
      "Epoch 8/100\n",
      "363/363 [==============================] - 0s 1ms/step - loss: 0.4213 - val_loss: 0.4322\n",
      "Epoch 9/100\n",
      "363/363 [==============================] - 0s 1ms/step - loss: 0.4231 - val_loss: 0.4574\n",
      "Epoch 10/100\n",
      "363/363 [==============================] - 0s 1ms/step - loss: 0.3983 - val_loss: 0.3742\n",
      "Epoch 11/100\n",
      "363/363 [==============================] - 0s 1ms/step - loss: 0.3944 - val_loss: 0.4551\n",
      "Epoch 12/100\n",
      "363/363 [==============================] - 0s 1ms/step - loss: 0.3993 - val_loss: 0.4290\n",
      "Epoch 13/100\n",
      "363/363 [==============================] - 0s 1ms/step - loss: 0.3981 - val_loss: 0.3657\n",
      "Epoch 14/100\n",
      "363/363 [==============================] - 0s 1ms/step - loss: 0.4009 - val_loss: 0.4594\n",
      "Epoch 15/100\n",
      "363/363 [==============================] - 1s 1ms/step - loss: 0.3832 - val_loss: 0.4222\n",
      "Epoch 16/100\n",
      "363/363 [==============================] - 0s 1ms/step - loss: 0.3947 - val_loss: 0.3542\n",
      "Epoch 17/100\n",
      "363/363 [==============================] - 0s 1ms/step - loss: 0.3974 - val_loss: 0.4006\n",
      "Epoch 18/100\n",
      "363/363 [==============================] - 0s 1ms/step - loss: 0.3820 - val_loss: 0.3577\n",
      "Epoch 19/100\n",
      "363/363 [==============================] - 0s 1ms/step - loss: 0.3873 - val_loss: 0.4466\n",
      "Epoch 20/100\n",
      "363/363 [==============================] - 0s 1ms/step - loss: 0.3797 - val_loss: 0.3684\n",
      "Epoch 21/100\n",
      "363/363 [==============================] - 0s 1ms/step - loss: 0.3592 - val_loss: 0.4220\n",
      "Epoch 22/100\n",
      "363/363 [==============================] - 0s 1ms/step - loss: 0.3716 - val_loss: 0.3762\n",
      "Epoch 23/100\n",
      "363/363 [==============================] - 0s 1ms/step - loss: 0.3636 - val_loss: 0.3739\n",
      "Epoch 24/100\n",
      "363/363 [==============================] - 0s 1ms/step - loss: 0.3676 - val_loss: 0.3455\n",
      "Epoch 25/100\n",
      "363/363 [==============================] - 0s 1ms/step - loss: 0.3693 - val_loss: 0.4979\n",
      "Epoch 26/100\n",
      "363/363 [==============================] - 0s 1ms/step - loss: 0.3522 - val_loss: 0.3507\n",
      "Epoch 27/100\n",
      "363/363 [==============================] - 0s 1ms/step - loss: 0.3607 - val_loss: 0.4112\n",
      "Epoch 28/100\n",
      "363/363 [==============================] - 0s 1ms/step - loss: 0.3953 - val_loss: 0.3450\n",
      "Epoch 29/100\n",
      "363/363 [==============================] - 0s 1ms/step - loss: 0.3602 - val_loss: 0.3451\n",
      "Epoch 30/100\n",
      "363/363 [==============================] - 0s 1ms/step - loss: 0.3661 - val_loss: 0.3756\n",
      "Epoch 31/100\n",
      "363/363 [==============================] - 0s 1ms/step - loss: 0.3763 - val_loss: 0.4325\n",
      "Epoch 32/100\n",
      "363/363 [==============================] - 0s 1ms/step - loss: 0.3528 - val_loss: 0.3477\n",
      "Epoch 33/100\n",
      "363/363 [==============================] - 0s 1ms/step - loss: 0.3572 - val_loss: 0.4823\n",
      "Epoch 34/100\n",
      "363/363 [==============================] - 0s 1ms/step - loss: 0.3587 - val_loss: 0.3633\n",
      "Epoch 35/100\n",
      "363/363 [==============================] - 0s 1ms/step - loss: 0.3523 - val_loss: 0.3993\n",
      "Epoch 36/100\n",
      "363/363 [==============================] - 0s 1ms/step - loss: 0.3590 - val_loss: 0.3489\n",
      "Epoch 37/100\n",
      "363/363 [==============================] - 0s 1ms/step - loss: 0.3684 - val_loss: 0.3558\n",
      "Epoch 38/100\n",
      "363/363 [==============================] - 0s 1ms/step - loss: 0.3694 - val_loss: 0.3660\n",
      "Epoch 1/100\n",
      "363/363 [==============================] - 1s 2ms/step - loss: 1.6443 - val_loss: 14.6456\n",
      "Epoch 2/100\n",
      "363/363 [==============================] - 0s 1ms/step - loss: 0.8281 - val_loss: 4.4639\n",
      "Epoch 3/100\n",
      "363/363 [==============================] - 0s 1ms/step - loss: 0.4646 - val_loss: 29.7434\n",
      "Epoch 4/100\n",
      "363/363 [==============================] - 0s 1ms/step - loss: 0.5240 - val_loss: 8.5985\n",
      "Epoch 5/100\n",
      "363/363 [==============================] - 0s 1ms/step - loss: 0.4650 - val_loss: 0.3711\n",
      "Epoch 6/100\n",
      "363/363 [==============================] - 0s 1ms/step - loss: 0.4151 - val_loss: 0.3628\n",
      "Epoch 7/100\n",
      "363/363 [==============================] - 0s 1ms/step - loss: 0.4024 - val_loss: 0.3588\n",
      "Epoch 8/100\n",
      "363/363 [==============================] - 0s 1ms/step - loss: 0.3915 - val_loss: 0.3547\n",
      "Epoch 9/100\n",
      "363/363 [==============================] - 0s 1ms/step - loss: 0.3834 - val_loss: 0.3513\n",
      "Epoch 10/100\n",
      "363/363 [==============================] - 0s 1ms/step - loss: 0.3870 - val_loss: 0.3477\n",
      "Epoch 11/100\n",
      "363/363 [==============================] - 0s 1ms/step - loss: 0.3853 - val_loss: 0.3524\n",
      "Epoch 12/100\n",
      "363/363 [==============================] - 0s 1ms/step - loss: 0.3715 - val_loss: 0.3463\n",
      "Epoch 13/100\n",
      "363/363 [==============================] - 0s 1ms/step - loss: 0.3737 - val_loss: 0.3518\n",
      "Epoch 14/100\n",
      "363/363 [==============================] - 0s 1ms/step - loss: 0.3468 - val_loss: 0.3792\n",
      "Epoch 15/100\n",
      "363/363 [==============================] - 0s 1ms/step - loss: 0.3557 - val_loss: 0.3540\n",
      "Epoch 16/100\n",
      "363/363 [==============================] - 0s 1ms/step - loss: 0.3692 - val_loss: 0.3397\n",
      "Epoch 17/100\n",
      "363/363 [==============================] - 0s 1ms/step - loss: 0.3701 - val_loss: 0.3377\n",
      "Epoch 18/100\n",
      "363/363 [==============================] - 0s 1ms/step - loss: 0.3565 - val_loss: 0.3467\n",
      "Epoch 19/100\n",
      "363/363 [==============================] - 0s 1ms/step - loss: 0.3581 - val_loss: 0.3376\n",
      "Epoch 20/100\n",
      "363/363 [==============================] - 0s 1ms/step - loss: 0.3499 - val_loss: 0.3384\n",
      "Epoch 21/100\n",
      "363/363 [==============================] - 0s 1ms/step - loss: 0.3572 - val_loss: 0.3791\n",
      "Epoch 22/100\n",
      "363/363 [==============================] - 0s 1ms/step - loss: 0.3626 - val_loss: 0.3357\n",
      "Epoch 23/100\n",
      "363/363 [==============================] - 0s 1ms/step - loss: 0.3613 - val_loss: 0.3607\n",
      "Epoch 24/100\n",
      "363/363 [==============================] - 0s 1ms/step - loss: 0.3558 - val_loss: 0.3324\n",
      "Epoch 25/100\n",
      "363/363 [==============================] - 0s 1ms/step - loss: 0.3512 - val_loss: 0.3289\n",
      "Epoch 26/100\n",
      "363/363 [==============================] - 0s 1ms/step - loss: 0.3306 - val_loss: 0.3401\n",
      "Epoch 27/100\n",
      "363/363 [==============================] - 0s 1ms/step - loss: 0.3416 - val_loss: 0.3832\n",
      "Epoch 28/100\n",
      "363/363 [==============================] - 0s 1ms/step - loss: 0.3621 - val_loss: 0.3300\n",
      "Epoch 29/100\n",
      "363/363 [==============================] - 0s 1ms/step - loss: 0.3511 - val_loss: 0.3519\n",
      "Epoch 30/100\n",
      "363/363 [==============================] - 0s 1ms/step - loss: 0.3435 - val_loss: 0.3331\n",
      "Epoch 31/100\n",
      "363/363 [==============================] - 0s 1ms/step - loss: 0.3532 - val_loss: 0.3269\n",
      "Epoch 32/100\n",
      "363/363 [==============================] - 0s 1ms/step - loss: 0.3500 - val_loss: 0.3309\n",
      "Epoch 33/100\n",
      "363/363 [==============================] - 0s 1ms/step - loss: 0.3416 - val_loss: 0.3289\n",
      "Epoch 34/100\n",
      "363/363 [==============================] - 0s 1ms/step - loss: 0.3513 - val_loss: 0.3365\n",
      "Epoch 35/100\n",
      "363/363 [==============================] - 0s 1ms/step - loss: 0.3393 - val_loss: 0.3712\n",
      "Epoch 36/100\n",
      "363/363 [==============================] - 0s 1ms/step - loss: 0.3354 - val_loss: 0.3489\n",
      "Epoch 37/100\n",
      "363/363 [==============================] - 0s 1ms/step - loss: 0.3421 - val_loss: 0.3224\n",
      "Epoch 38/100\n",
      "363/363 [==============================] - 0s 1ms/step - loss: 0.3352 - val_loss: 0.3326\n",
      "Epoch 39/100\n",
      "363/363 [==============================] - 0s 1ms/step - loss: 0.3256 - val_loss: 0.3350\n",
      "Epoch 40/100\n",
      "363/363 [==============================] - 0s 1ms/step - loss: 0.3300 - val_loss: 0.3250\n",
      "Epoch 41/100\n",
      "363/363 [==============================] - 0s 1ms/step - loss: 0.3245 - val_loss: 0.3263\n",
      "Epoch 42/100\n",
      "363/363 [==============================] - 0s 1ms/step - loss: 0.3303 - val_loss: 0.3173\n",
      "Epoch 43/100\n",
      "363/363 [==============================] - 0s 1ms/step - loss: 0.3283 - val_loss: 0.3198\n",
      "Epoch 44/100\n",
      "363/363 [==============================] - 0s 1ms/step - loss: 0.3304 - val_loss: 0.3348\n",
      "Epoch 45/100\n",
      "363/363 [==============================] - 0s 1ms/step - loss: 0.3356 - val_loss: 0.3345\n",
      "Epoch 46/100\n",
      "363/363 [==============================] - 0s 1ms/step - loss: 0.3349 - val_loss: 0.3238\n",
      "Epoch 47/100\n",
      "363/363 [==============================] - 0s 1ms/step - loss: 0.3236 - val_loss: 0.3243\n",
      "Epoch 48/100\n",
      "363/363 [==============================] - 0s 1ms/step - loss: 0.3344 - val_loss: 0.3213\n",
      "Epoch 49/100\n",
      "363/363 [==============================] - 0s 1ms/step - loss: 0.3241 - val_loss: 0.3240\n",
      "Epoch 50/100\n",
      "363/363 [==============================] - 0s 1ms/step - loss: 0.3211 - val_loss: 0.3165\n",
      "Epoch 51/100\n",
      "363/363 [==============================] - 0s 1ms/step - loss: 0.3260 - val_loss: 0.7325\n",
      "Epoch 52/100\n",
      "363/363 [==============================] - 0s 1ms/step - loss: 0.3771 - val_loss: 0.3127\n",
      "Epoch 53/100\n",
      "363/363 [==============================] - 0s 1ms/step - loss: 0.3198 - val_loss: 0.3133\n",
      "Epoch 54/100\n",
      "363/363 [==============================] - 0s 1ms/step - loss: 0.3181 - val_loss: 0.3235\n",
      "Epoch 55/100\n",
      "363/363 [==============================] - 0s 1ms/step - loss: 0.3172 - val_loss: 0.3157\n",
      "Epoch 56/100\n",
      "363/363 [==============================] - 0s 1ms/step - loss: 0.3200 - val_loss: 0.3221\n",
      "Epoch 57/100\n",
      "363/363 [==============================] - 0s 1ms/step - loss: 0.3238 - val_loss: 0.3218\n",
      "Epoch 58/100\n",
      "363/363 [==============================] - 0s 1ms/step - loss: 0.3264 - val_loss: 0.3099\n",
      "Epoch 59/100\n",
      "363/363 [==============================] - 0s 1ms/step - loss: 0.3418 - val_loss: 0.3134\n",
      "Epoch 60/100\n",
      "363/363 [==============================] - 0s 1ms/step - loss: 0.3172 - val_loss: 0.3156\n",
      "Epoch 61/100\n",
      "363/363 [==============================] - 0s 1ms/step - loss: 0.3207 - val_loss: 0.3201\n",
      "Epoch 62/100\n",
      "363/363 [==============================] - 0s 1ms/step - loss: 0.3236 - val_loss: 0.5418\n",
      "Epoch 63/100\n",
      "363/363 [==============================] - 0s 1ms/step - loss: 0.4443 - val_loss: 0.3248\n",
      "Epoch 64/100\n",
      "363/363 [==============================] - 0s 1ms/step - loss: 0.3231 - val_loss: 0.3163\n",
      "Epoch 65/100\n",
      "363/363 [==============================] - 0s 1ms/step - loss: 0.3288 - val_loss: 0.3126\n",
      "Epoch 66/100\n",
      "363/363 [==============================] - 0s 1ms/step - loss: 0.3143 - val_loss: 0.3165\n",
      "Epoch 67/100\n",
      "363/363 [==============================] - 0s 1ms/step - loss: 0.3078 - val_loss: 0.3056\n",
      "Epoch 68/100\n",
      "363/363 [==============================] - 0s 1ms/step - loss: 0.3146 - val_loss: 0.3184\n",
      "Epoch 69/100\n",
      "363/363 [==============================] - 0s 1ms/step - loss: 0.3181 - val_loss: 0.3122\n",
      "Epoch 70/100\n",
      "363/363 [==============================] - 0s 1ms/step - loss: 0.3148 - val_loss: 0.3080\n",
      "Epoch 71/100\n",
      "363/363 [==============================] - 0s 1ms/step - loss: 0.3212 - val_loss: 0.3061\n",
      "Epoch 72/100\n",
      "363/363 [==============================] - 0s 1ms/step - loss: 0.3162 - val_loss: 0.3125\n",
      "Epoch 73/100\n",
      "363/363 [==============================] - 0s 1ms/step - loss: 0.2996 - val_loss: 0.3041\n",
      "Epoch 74/100\n",
      "363/363 [==============================] - 0s 1ms/step - loss: 0.2956 - val_loss: 0.3073\n",
      "Epoch 75/100\n",
      "363/363 [==============================] - 0s 1ms/step - loss: 0.3128 - val_loss: 0.3060\n",
      "Epoch 76/100\n",
      "363/363 [==============================] - 0s 1ms/step - loss: 0.3033 - val_loss: 0.3099\n",
      "Epoch 77/100\n",
      "363/363 [==============================] - 0s 1ms/step - loss: 0.3226 - val_loss: 0.3106\n",
      "Epoch 78/100\n",
      "363/363 [==============================] - 0s 1ms/step - loss: 0.3109 - val_loss: 0.3067\n",
      "Epoch 79/100\n",
      "363/363 [==============================] - 0s 1ms/step - loss: 0.3187 - val_loss: 0.3057\n",
      "Epoch 80/100\n",
      "363/363 [==============================] - 0s 1ms/step - loss: 0.3267 - val_loss: 0.3257\n",
      "Epoch 81/100\n",
      "363/363 [==============================] - 0s 1ms/step - loss: 0.3116 - val_loss: 0.3007\n",
      "Epoch 82/100\n",
      "363/363 [==============================] - 0s 1ms/step - loss: 0.3184 - val_loss: 0.3034\n",
      "Epoch 83/100\n",
      "363/363 [==============================] - 0s 1ms/step - loss: 0.3043 - val_loss: 0.2993\n",
      "Epoch 84/100\n",
      "363/363 [==============================] - 0s 1ms/step - loss: 0.3084 - val_loss: 0.3151\n",
      "Epoch 85/100\n",
      "363/363 [==============================] - 0s 1ms/step - loss: 0.3011 - val_loss: 0.3216\n",
      "Epoch 86/100\n",
      "363/363 [==============================] - 0s 1ms/step - loss: 0.3165 - val_loss: 0.2985\n",
      "Epoch 87/100\n",
      "363/363 [==============================] - 0s 1ms/step - loss: 0.3094 - val_loss: 0.3080\n",
      "Epoch 88/100\n",
      "363/363 [==============================] - 0s 1ms/step - loss: 0.3031 - val_loss: 0.3019\n",
      "Epoch 89/100\n",
      "363/363 [==============================] - 0s 1ms/step - loss: 0.3137 - val_loss: 0.2981\n",
      "Epoch 90/100\n",
      "363/363 [==============================] - 0s 1ms/step - loss: 0.3060 - val_loss: 0.2963\n",
      "Epoch 91/100\n",
      "363/363 [==============================] - 0s 1ms/step - loss: 0.3175 - val_loss: 0.3061\n",
      "Epoch 92/100\n",
      "363/363 [==============================] - 0s 1ms/step - loss: 0.3052 - val_loss: 0.3029\n",
      "Epoch 93/100\n",
      "363/363 [==============================] - 0s 1ms/step - loss: 0.2999 - val_loss: 0.3045\n",
      "Epoch 94/100\n",
      "363/363 [==============================] - 0s 1ms/step - loss: 0.3213 - val_loss: 0.2990\n",
      "Epoch 95/100\n",
      "363/363 [==============================] - 0s 1ms/step - loss: 0.3060 - val_loss: 0.2972\n",
      "Epoch 96/100\n",
      "363/363 [==============================] - 0s 1ms/step - loss: 0.2960 - val_loss: 0.2972\n",
      "Epoch 97/100\n",
      "363/363 [==============================] - 0s 1ms/step - loss: 0.3018 - val_loss: 0.2996\n",
      "Epoch 98/100\n",
      "363/363 [==============================] - 0s 1ms/step - loss: 0.3069 - val_loss: 0.3013\n",
      "Epoch 99/100\n",
      "363/363 [==============================] - 0s 1ms/step - loss: 0.3150 - val_loss: 0.2976\n",
      "Epoch 100/100\n",
      "363/363 [==============================] - 0s 1ms/step - loss: 0.3244 - val_loss: 0.3377\n",
      "Epoch 1/100\n",
      "363/363 [==============================] - 1s 2ms/step - loss: 0.9070 - val_loss: 1.3755\n",
      "Epoch 2/100\n",
      "363/363 [==============================] - 0s 1ms/step - loss: 0.4904 - val_loss: 0.3766\n",
      "Epoch 3/100\n",
      "363/363 [==============================] - 0s 1ms/step - loss: 0.4104 - val_loss: 2.6963\n",
      "Epoch 4/100\n",
      "363/363 [==============================] - 0s 1ms/step - loss: 0.4199 - val_loss: 2.2802\n",
      "Epoch 5/100\n",
      "363/363 [==============================] - 0s 1ms/step - loss: 0.3867 - val_loss: 0.3548\n",
      "Epoch 6/100\n",
      "363/363 [==============================] - 0s 1ms/step - loss: 0.3879 - val_loss: 0.3480\n",
      "Epoch 7/100\n",
      "363/363 [==============================] - 0s 1ms/step - loss: 0.3754 - val_loss: 0.3451\n",
      "Epoch 8/100\n",
      "363/363 [==============================] - 0s 1ms/step - loss: 0.3638 - val_loss: 0.3298\n",
      "Epoch 9/100\n",
      "363/363 [==============================] - 0s 1ms/step - loss: 0.4239 - val_loss: 0.3604\n",
      "Epoch 10/100\n",
      "363/363 [==============================] - 0s 1ms/step - loss: 0.3786 - val_loss: 0.3334\n",
      "Epoch 11/100\n",
      "363/363 [==============================] - 0s 1ms/step - loss: 0.4030 - val_loss: 0.3656\n",
      "Epoch 12/100\n",
      "363/363 [==============================] - 0s 1ms/step - loss: 0.3671 - val_loss: 0.3387\n",
      "Epoch 13/100\n",
      "363/363 [==============================] - 0s 1ms/step - loss: 0.3700 - val_loss: 0.3462\n",
      "Epoch 14/100\n",
      "363/363 [==============================] - 0s 1ms/step - loss: 0.3781 - val_loss: 0.3314\n",
      "Epoch 15/100\n",
      "363/363 [==============================] - 0s 1ms/step - loss: 0.3680 - val_loss: 0.3406\n",
      "Epoch 16/100\n",
      "363/363 [==============================] - 0s 1ms/step - loss: 0.3522 - val_loss: 0.3579\n",
      "Epoch 17/100\n",
      "363/363 [==============================] - 0s 1ms/step - loss: 0.3396 - val_loss: 0.3620\n",
      "Epoch 18/100\n",
      "363/363 [==============================] - 0s 1ms/step - loss: 0.3364 - val_loss: 0.3614\n"
     ]
    }
   ],
   "source": [
    "learning_rates = [1e-4, 3e-4, 1e-3, 3e-3, 1e-2, 3e-2]\n",
    "histories = []\n",
    "for learning_rate in learning_rates:\n",
    "    model = keras.models.Sequential([\n",
    "        keras.layers.Dense(30, activation=\"relu\", input_shape=X_train.shape[1:]),\n",
    "        keras.layers.Dense(1)\n",
    "    ])\n",
    "    optimizer = keras.optimizers.SGD(learning_rate)\n",
    "    model.compile(loss=\"mean_squared_error\", optimizer=optimizer)\n",
    "    callbacks = [keras.callbacks.EarlyStopping(patience=10)]\n",
    "    history = model.fit(X_train_scaled, y_train,\n",
    "                        validation_data=(X_valid_scaled, y_valid), epochs=100,\n",
    "                        callbacks=callbacks)\n",
    "    histories.append(history) "
   ]
  },
  {
   "cell_type": "code",
   "execution_count": 57,
   "id": "religious-wyoming",
   "metadata": {
    "execution": {
     "iopub.execute_input": "2021-03-31T21:31:50.141214Z",
     "iopub.status.busy": "2021-03-31T21:31:50.140517Z",
     "iopub.status.idle": "2021-03-31T21:31:51.456669Z",
     "shell.execute_reply": "2021-03-31T21:31:51.457163Z"
    },
    "id": "QnSmo6h8QdB0",
    "papermill": {
     "duration": 4.532633,
     "end_time": "2021-03-31T21:31:51.457351",
     "exception": false,
     "start_time": "2021-03-31T21:31:46.924718",
     "status": "completed"
    },
    "tags": []
   },
   "outputs": [
    {
     "name": "stdout",
     "output_type": "stream",
     "text": [
      "Learning rate: 0.0001\n"
     ]
    },
    {
     "data": {
      "image/png": "[encoded data removed]",
      "text/plain": [
       "<Figure size 576x360 with 1 Axes>"
      ]
     },
     "metadata": {
      "needs_background": "light"
     },
     "output_type": "display_data"
    },
    {
     "name": "stdout",
     "output_type": "stream",
     "text": [
      "Learning rate: 0.0003\n"
     ]
    },
    {
     "data": {
      "image/png": "[encoded data removed]",
      "text/plain": [
       "<Figure size 576x360 with 1 Axes>"
      ]
     },
     "metadata": {
      "needs_background": "light"
     },
     "output_type": "display_data"
    },
    {
     "name": "stdout",
     "output_type": "stream",
     "text": [
      "Learning rate: 0.001\n"
     ]
    },
    {
     "data": {
      "image/png": "[encoded data removed]",
      "text/plain": [
       "<Figure size 576x360 with 1 Axes>"
      ]
     },
     "metadata": {
      "needs_background": "light"
     },
     "output_type": "display_data"
    },
    {
     "name": "stdout",
     "output_type": "stream",
     "text": [
      "Learning rate: 0.003\n"
     ]
    },
    {
     "data": {
      "image/png": "[encoded data removed]",
      "text/plain": [
       "<Figure size 576x360 with 1 Axes>"
      ]
     },
     "metadata": {
      "needs_background": "light"
     },
     "output_type": "display_data"
    },
    {
     "name": "stdout",
     "output_type": "stream",
     "text": [
      "Learning rate: 0.01\n"
     ]
    },
    {
     "data": {
      "image/png": "[encoded data removed]",
      "text/plain": [
       "<Figure size 576x360 with 1 Axes>"
      ]
     },
     "metadata": {
      "needs_background": "light"
     },
     "output_type": "display_data"
    },
    {
     "name": "stdout",
     "output_type": "stream",
     "text": [
      "Learning rate: 0.03\n"
     ]
    },
    {
     "data": {
      "image/png": "[encoded data removed]",
      "text/plain": [
       "<Figure size 576x360 with 1 Axes>"
      ]
     },
     "metadata": {
      "needs_background": "light"
     },
     "output_type": "display_data"
    }
   ],
   "source": [
    "for learning_rate, history in zip(learning_rates, histories):\n",
    "    print(\"Learning rate:\", learning_rate)\n",
    "    plot_learning_curves(history)"
   ]
  },
  {
   "cell_type": "code",
   "execution_count": 58,
   "id": "spoken-socket",
   "metadata": {
    "execution": {
     "iopub.execute_input": "2021-03-31T21:31:57.877244Z",
     "iopub.status.busy": "2021-03-31T21:31:57.876524Z",
     "iopub.status.idle": "2021-03-31T21:31:57.883851Z",
     "shell.execute_reply": "2021-03-31T21:31:57.883143Z"
    },
    "id": "LVWzHGLuQoe-",
    "papermill": {
     "duration": 3.188719,
     "end_time": "2021-03-31T21:31:57.883999",
     "exception": false,
     "start_time": "2021-03-31T21:31:54.695280",
     "status": "completed"
    },
    "tags": []
   },
   "outputs": [],
   "source": [
    "def build_model(n_hidden=1, n_neurons=30, learning_rate=3e-3):\n",
    "    model = keras.models.Sequential()\n",
    "    options = {\"input_shape\": X_train.shape[1:]}\n",
    "    for layer in range(n_hidden + 1):\n",
    "        model.add(keras.layers.Dense(n_neurons, activation=\"relu\", **options))\n",
    "        options = {}\n",
    "    model.add(keras.layers.Dense(1, **options))\n",
    "    optimizer = keras.optimizers.SGD(learning_rate)\n",
    "    model.compile(loss=\"mse\", optimizer=optimizer)\n",
    "    return model"
   ]
  },
  {
   "cell_type": "code",
   "execution_count": 59,
   "id": "preliminary-looking",
   "metadata": {
    "execution": {
     "iopub.execute_input": "2021-03-31T21:32:04.291568Z",
     "iopub.status.busy": "2021-03-31T21:32:04.290580Z",
     "iopub.status.idle": "2021-03-31T21:32:04.293949Z",
     "shell.execute_reply": "2021-03-31T21:32:04.293412Z"
    },
    "id": "KWo3-rYeQs06",
    "papermill": {
     "duration": 3.170415,
     "end_time": "2021-03-31T21:32:04.294100",
     "exception": false,
     "start_time": "2021-03-31T21:32:01.123685",
     "status": "completed"
    },
    "tags": []
   },
   "outputs": [],
   "source": [
    "keras_reg = keras.wrappers.scikit_learn.KerasRegressor(build_model)"
   ]
  },
  {
   "cell_type": "code",
   "execution_count": 60,
   "id": "friendly-partner",
   "metadata": {
    "execution": {
     "iopub.execute_input": "2021-03-31T21:32:10.701614Z",
     "iopub.status.busy": "2021-03-31T21:32:10.700627Z",
     "iopub.status.idle": "2021-03-31T21:32:45.318409Z",
     "shell.execute_reply": "2021-03-31T21:32:45.242846Z"
    },
    "id": "eJ_tMysJQxwm",
    "papermill": {
     "duration": 37.807822,
     "end_time": "2021-03-31T21:32:45.318572",
     "exception": false,
     "start_time": "2021-03-31T21:32:07.510750",
     "status": "completed"
    },
    "tags": []
   },
   "outputs": [
    {
     "name": "stdout",
     "output_type": "stream",
     "text": [
      "Epoch 1/100\n",
      "363/363 [==============================] - 1s 2ms/step - loss: 2.4068 - val_loss: 5.0810\n",
      "Epoch 2/100\n",
      "363/363 [==============================] - 0s 1ms/step - loss: 0.6572 - val_loss: 1.0496\n",
      "Epoch 3/100\n",
      "363/363 [==============================] - 0s 1ms/step - loss: 0.5363 - val_loss: 0.4807\n",
      "Epoch 4/100\n",
      "363/363 [==============================] - 0s 1ms/step - loss: 0.5094 - val_loss: 0.4285\n",
      "Epoch 5/100\n",
      "363/363 [==============================] - 0s 1ms/step - loss: 0.4560 - val_loss: 0.4130\n",
      "Epoch 6/100\n",
      "363/363 [==============================] - 0s 1ms/step - loss: 0.4125 - val_loss: 0.3956\n",
      "Epoch 7/100\n",
      "363/363 [==============================] - 0s 1ms/step - loss: 0.3851 - val_loss: 0.3896\n",
      "Epoch 8/100\n",
      "363/363 [==============================] - 0s 1ms/step - loss: 0.3918 - val_loss: 0.4104\n",
      "Epoch 9/100\n",
      "363/363 [==============================] - 0s 1ms/step - loss: 0.3806 - val_loss: 0.4013\n",
      "Epoch 10/100\n",
      "363/363 [==============================] - 0s 1ms/step - loss: 0.3820 - val_loss: 0.3593\n",
      "Epoch 11/100\n",
      "363/363 [==============================] - 1s 2ms/step - loss: 0.3648 - val_loss: 0.4320\n",
      "Epoch 12/100\n",
      "363/363 [==============================] - 1s 1ms/step - loss: 0.3743 - val_loss: 0.4031\n",
      "Epoch 13/100\n",
      "363/363 [==============================] - 0s 1ms/step - loss: 0.3595 - val_loss: 0.4032\n",
      "Epoch 14/100\n",
      "363/363 [==============================] - 0s 1ms/step - loss: 0.3569 - val_loss: 0.3633\n",
      "Epoch 15/100\n",
      "363/363 [==============================] - 0s 1ms/step - loss: 0.3462 - val_loss: 0.3694\n",
      "Epoch 16/100\n",
      "363/363 [==============================] - 0s 1ms/step - loss: 0.3579 - val_loss: 0.3434\n",
      "Epoch 17/100\n",
      "363/363 [==============================] - 0s 1ms/step - loss: 0.3605 - val_loss: 0.3539\n",
      "Epoch 18/100\n",
      "363/363 [==============================] - 0s 1ms/step - loss: 0.3589 - val_loss: 0.3446\n",
      "Epoch 19/100\n",
      "363/363 [==============================] - 0s 1ms/step - loss: 0.3586 - val_loss: 0.3930\n",
      "Epoch 20/100\n",
      "363/363 [==============================] - 0s 1ms/step - loss: 0.3466 - val_loss: 0.3487\n",
      "Epoch 21/100\n",
      "363/363 [==============================] - 0s 1ms/step - loss: 0.3476 - val_loss: 0.3953\n",
      "Epoch 22/100\n",
      "363/363 [==============================] - 0s 1ms/step - loss: 0.3455 - val_loss: 0.3312\n",
      "Epoch 23/100\n",
      "363/363 [==============================] - 0s 1ms/step - loss: 0.3460 - val_loss: 0.3431\n",
      "Epoch 24/100\n",
      "363/363 [==============================] - 0s 1ms/step - loss: 0.3573 - val_loss: 0.3503\n",
      "Epoch 25/100\n",
      "363/363 [==============================] - 0s 1ms/step - loss: 0.3536 - val_loss: 0.3543\n",
      "Epoch 26/100\n",
      "363/363 [==============================] - 0s 1ms/step - loss: 0.3437 - val_loss: 0.3301\n",
      "Epoch 27/100\n",
      "363/363 [==============================] - 0s 1ms/step - loss: 0.3306 - val_loss: 0.3715\n",
      "Epoch 28/100\n",
      "363/363 [==============================] - 0s 1ms/step - loss: 0.3339 - val_loss: 0.3722\n",
      "Epoch 29/100\n",
      "363/363 [==============================] - 0s 1ms/step - loss: 0.3265 - val_loss: 0.3452\n",
      "Epoch 30/100\n",
      "363/363 [==============================] - 0s 1ms/step - loss: 0.3409 - val_loss: 0.3801\n",
      "Epoch 31/100\n",
      "363/363 [==============================] - 0s 1ms/step - loss: 0.3290 - val_loss: 0.3784\n",
      "Epoch 32/100\n",
      "363/363 [==============================] - 0s 1ms/step - loss: 0.3406 - val_loss: 0.3306\n",
      "Epoch 33/100\n",
      "363/363 [==============================] - 0s 1ms/step - loss: 0.3357 - val_loss: 0.3193\n",
      "Epoch 34/100\n",
      "363/363 [==============================] - 0s 1ms/step - loss: 0.3255 - val_loss: 0.3178\n",
      "Epoch 35/100\n",
      "363/363 [==============================] - 0s 1ms/step - loss: 0.3391 - val_loss: 0.3314\n",
      "Epoch 36/100\n",
      "363/363 [==============================] - 0s 1ms/step - loss: 0.3273 - val_loss: 0.3132\n",
      "Epoch 37/100\n",
      "363/363 [==============================] - 0s 1ms/step - loss: 0.3355 - val_loss: 0.3350\n",
      "Epoch 38/100\n",
      "363/363 [==============================] - 0s 1ms/step - loss: 0.3256 - val_loss: 0.3156\n",
      "Epoch 39/100\n",
      "363/363 [==============================] - 0s 1ms/step - loss: 0.3182 - val_loss: 0.3194\n",
      "Epoch 40/100\n",
      "363/363 [==============================] - 0s 1ms/step - loss: 0.3367 - val_loss: 0.3130\n",
      "Epoch 41/100\n",
      "363/363 [==============================] - 0s 1ms/step - loss: 0.3268 - val_loss: 0.3406\n",
      "Epoch 42/100\n",
      "363/363 [==============================] - 0s 1ms/step - loss: 0.3407 - val_loss: 0.3368\n",
      "Epoch 43/100\n",
      "363/363 [==============================] - 0s 1ms/step - loss: 0.3285 - val_loss: 0.3125\n",
      "Epoch 44/100\n",
      "363/363 [==============================] - 0s 1ms/step - loss: 0.3217 - val_loss: 0.3144\n",
      "Epoch 45/100\n",
      "363/363 [==============================] - 0s 1ms/step - loss: 0.3201 - val_loss: 0.3365\n",
      "Epoch 46/100\n",
      "363/363 [==============================] - 1s 1ms/step - loss: 0.3132 - val_loss: 0.3299\n",
      "Epoch 47/100\n",
      "363/363 [==============================] - 0s 1ms/step - loss: 0.3143 - val_loss: 0.3051\n",
      "Epoch 48/100\n",
      "363/363 [==============================] - 0s 1ms/step - loss: 0.3201 - val_loss: 0.3389\n",
      "Epoch 49/100\n",
      "363/363 [==============================] - 0s 1ms/step - loss: 0.3112 - val_loss: 0.3176\n",
      "Epoch 50/100\n",
      "363/363 [==============================] - 0s 1ms/step - loss: 0.2984 - val_loss: 0.3127\n",
      "Epoch 51/100\n",
      "363/363 [==============================] - 0s 1ms/step - loss: 0.3030 - val_loss: 0.3163\n",
      "Epoch 52/100\n",
      "363/363 [==============================] - 0s 1ms/step - loss: 0.3197 - val_loss: 0.3730\n",
      "Epoch 53/100\n",
      "363/363 [==============================] - 0s 1ms/step - loss: 0.3031 - val_loss: 0.3018\n",
      "Epoch 54/100\n",
      "363/363 [==============================] - 0s 1ms/step - loss: 0.3129 - val_loss: 0.3124\n",
      "Epoch 55/100\n",
      "363/363 [==============================] - 0s 1ms/step - loss: 0.3140 - val_loss: 0.2983\n",
      "Epoch 56/100\n",
      "363/363 [==============================] - 0s 1ms/step - loss: 0.3039 - val_loss: 0.3191\n",
      "Epoch 57/100\n",
      "363/363 [==============================] - 0s 1ms/step - loss: 0.3118 - val_loss: 0.3316\n",
      "Epoch 58/100\n",
      "363/363 [==============================] - 0s 1ms/step - loss: 0.3027 - val_loss: 0.3120\n",
      "Epoch 59/100\n",
      "363/363 [==============================] - 0s 1ms/step - loss: 0.3031 - val_loss: 0.3033\n",
      "Epoch 60/100\n",
      "363/363 [==============================] - 0s 1ms/step - loss: 0.3078 - val_loss: 0.3718\n",
      "Epoch 61/100\n",
      "363/363 [==============================] - 0s 1ms/step - loss: 0.3127 - val_loss: 0.3003\n",
      "Epoch 62/100\n",
      "363/363 [==============================] - 0s 1ms/step - loss: 0.3117 - val_loss: 0.3208\n",
      "Epoch 63/100\n",
      "363/363 [==============================] - 0s 1ms/step - loss: 0.3062 - val_loss: 0.2943\n",
      "Epoch 64/100\n",
      "363/363 [==============================] - 0s 1ms/step - loss: 0.2993 - val_loss: 0.3074\n",
      "Epoch 65/100\n",
      "363/363 [==============================] - 0s 1ms/step - loss: 0.2934 - val_loss: 0.3638\n",
      "Epoch 66/100\n",
      "363/363 [==============================] - 0s 1ms/step - loss: 0.2865 - val_loss: 0.2959\n",
      "Epoch 67/100\n",
      "363/363 [==============================] - 0s 1ms/step - loss: 0.3021 - val_loss: 0.4597\n",
      "Epoch 68/100\n",
      "363/363 [==============================] - 0s 1ms/step - loss: 0.3103 - val_loss: 0.3049\n",
      "Epoch 69/100\n",
      "363/363 [==============================] - 1s 1ms/step - loss: 0.3098 - val_loss: 0.3197\n",
      "Epoch 70/100\n",
      "363/363 [==============================] - 1s 1ms/step - loss: 0.3060 - val_loss: 0.3718\n",
      "Epoch 71/100\n",
      "363/363 [==============================] - 1s 1ms/step - loss: 0.3138 - val_loss: 0.2984\n",
      "Epoch 72/100\n",
      "363/363 [==============================] - 0s 1ms/step - loss: 0.2871 - val_loss: 0.2968\n",
      "Epoch 73/100\n",
      "363/363 [==============================] - 0s 1ms/step - loss: 0.3032 - val_loss: 0.3995\n"
     ]
    },
    {
     "data": {
      "text/plain": [
       "<tensorflow.python.keras.callbacks.History at 0x7f3217894a50>"
      ]
     },
     "execution_count": 60,
     "metadata": {},
     "output_type": "execute_result"
    }
   ],
   "source": [
    "keras_reg.fit(X_train_scaled, y_train, epochs=100,\n",
    "              validation_data=(X_valid_scaled, y_valid),\n",
    "              callbacks=[keras.callbacks.EarlyStopping(patience=10)])"
   ]
  },
  {
   "cell_type": "code",
   "execution_count": 61,
   "id": "illegal-referral",
   "metadata": {
    "execution": {
     "iopub.execute_input": "2021-03-31T21:32:52.129031Z",
     "iopub.status.busy": "2021-03-31T21:32:52.128320Z",
     "iopub.status.idle": "2021-03-31T21:32:52.282013Z",
     "shell.execute_reply": "2021-03-31T21:32:52.282546Z"
    },
    "id": "yYRdSeP4Q1fc",
    "papermill": {
     "duration": 3.555596,
     "end_time": "2021-03-31T21:32:52.282723",
     "exception": false,
     "start_time": "2021-03-31T21:32:48.727127",
     "status": "completed"
    },
    "tags": []
   },
   "outputs": [
    {
     "data": {
      "text/plain": [
       "array([0.46045828, 1.7196579 , 4.3644037 , ..., 1.4668708 , 2.3265543 ,\n",
       "       4.129657  ], dtype=float32)"
      ]
     },
     "execution_count": 61,
     "metadata": {},
     "output_type": "execute_result"
    }
   ],
   "source": [
    "keras_reg.predict(X_test_scaled)"
   ]
  },
  {
   "cell_type": "code",
   "execution_count": 62,
   "id": "steady-registrar",
   "metadata": {
    "execution": {
     "iopub.execute_input": "2021-03-31T21:32:59.063673Z",
     "iopub.status.busy": "2021-03-31T21:32:59.062986Z",
     "iopub.status.idle": "2021-03-31T21:32:59.065630Z",
     "shell.execute_reply": "2021-03-31T21:32:59.065140Z"
    },
    "id": "32V1qBmmQ5Yv",
    "papermill": {
     "duration": 3.40801,
     "end_time": "2021-03-31T21:32:59.065771",
     "exception": false,
     "start_time": "2021-03-31T21:32:55.657761",
     "status": "completed"
    },
    "tags": []
   },
   "outputs": [],
   "source": [
    "from scipy.stats import reciprocal\n",
    "\n",
    "param_distribs = {\n",
    "    \"n_hidden\": [0, 1, 2, 3],\n",
    "    \"n_neurons\": np.arange(1, 100),\n",
    "    \"learning_rate\": reciprocal(3e-4, 3e-2),\n",
    "}"
   ]
  },
  {
   "cell_type": "code",
   "execution_count": 63,
   "id": "revolutionary-incidence",
   "metadata": {
    "execution": {
     "iopub.execute_input": "2021-03-31T21:33:05.853901Z",
     "iopub.status.busy": "2021-03-31T21:33:05.852941Z",
     "iopub.status.idle": "2021-03-31T21:33:05.855541Z",
     "shell.execute_reply": "2021-03-31T21:33:05.855040Z"
    },
    "id": "tSmZUEwSQ9Mu",
    "papermill": {
     "duration": 3.434623,
     "end_time": "2021-03-31T21:33:05.855693",
     "exception": false,
     "start_time": "2021-03-31T21:33:02.421070",
     "status": "completed"
    },
    "tags": []
   },
   "outputs": [],
   "source": [
    "from sklearn.model_selection import RandomizedSearchCV\n",
    "\n",
    "rnd_search_cv = RandomizedSearchCV(keras_reg, param_distribs, n_iter=10, cv=3, verbose=2)"
   ]
  },
  {
   "cell_type": "code",
   "execution_count": 64,
   "id": "limiting-parliament",
   "metadata": {
    "execution": {
     "iopub.execute_input": "2021-03-31T21:33:12.559582Z",
     "iopub.status.busy": "2021-03-31T21:33:12.545954Z",
     "iopub.status.idle": "2021-03-31T21:33:12.564383Z",
     "shell.execute_reply": "2021-03-31T21:33:12.563706Z"
    },
    "id": "cXVjcLitRHaj",
    "papermill": {
     "duration": 3.357777,
     "end_time": "2021-03-31T21:33:12.564612",
     "exception": false,
     "start_time": "2021-03-31T21:33:09.206835",
     "status": "completed"
    },
    "tags": []
   },
   "outputs": [
    {
     "ename": "AttributeError",
     "evalue": "'RandomizedSearchCV' object has no attribute 'best_params_'",
     "output_type": "error",
     "traceback": [
      "\u001b[0;31m---------------------------------------------------------------------------\u001b[0m",
      "\u001b[0;31mAttributeError\u001b[0m                            Traceback (most recent call last)",
      "\u001b[0;32m<ipython-input-64-f97e75618950>\u001b[0m in \u001b[0;36m<module>\u001b[0;34m\u001b[0m\n\u001b[0;32m----> 1\u001b[0;31m \u001b[0mrnd_search_cv\u001b[0m\u001b[0;34m.\u001b[0m\u001b[0mbest_params_\u001b[0m\u001b[0;34m\u001b[0m\u001b[0;34m\u001b[0m\u001b[0m\n\u001b[0m",
      "\u001b[0;31mAttributeError\u001b[0m: 'RandomizedSearchCV' object has no attribute 'best_params_'"
     ]
    }
   ],
   "source": [
    "rnd_search_cv.best_params_"
   ]
  },
  {
   "cell_type": "code",
   "execution_count": 65,
   "id": "cloudy-baseline",
   "metadata": {
    "execution": {
     "iopub.execute_input": "2021-03-31T21:33:19.395742Z",
     "iopub.status.busy": "2021-03-31T21:33:19.395093Z",
     "iopub.status.idle": "2021-03-31T21:33:19.399283Z",
     "shell.execute_reply": "2021-03-31T21:33:19.398632Z"
    },
    "id": "vNKFxF7BRKnx",
    "papermill": {
     "duration": 3.438533,
     "end_time": "2021-03-31T21:33:19.399445",
     "exception": false,
     "start_time": "2021-03-31T21:33:15.960912",
     "status": "completed"
    },
    "tags": []
   },
   "outputs": [
    {
     "ename": "AttributeError",
     "evalue": "'RandomizedSearchCV' object has no attribute 'best_score_'",
     "output_type": "error",
     "traceback": [
      "\u001b[0;31m---------------------------------------------------------------------------\u001b[0m",
      "\u001b[0;31mAttributeError\u001b[0m                            Traceback (most recent call last)",
      "\u001b[0;32m<ipython-input-65-81f53dbb141a>\u001b[0m in \u001b[0;36m<module>\u001b[0;34m\u001b[0m\n\u001b[0;32m----> 1\u001b[0;31m \u001b[0mrnd_search_cv\u001b[0m\u001b[0;34m.\u001b[0m\u001b[0mbest_score_\u001b[0m\u001b[0;34m\u001b[0m\u001b[0;34m\u001b[0m\u001b[0m\n\u001b[0m",
      "\u001b[0;31mAttributeError\u001b[0m: 'RandomizedSearchCV' object has no attribute 'best_score_'"
     ]
    }
   ],
   "source": [
    "rnd_search_cv.best_score_"
   ]
  }
 ],
 "metadata": {
  "kernelspec": {
   "display_name": "Python 3",
   "language": "python",
   "name": "python3"
  },
  "language_info": {
   "codemirror_mode": {
    "name": "ipython",
    "version": 3
   },
   "file_extension": ".py",
   "mimetype": "text/x-python",
   "name": "python",
   "nbconvert_exporter": "python",
   "pygments_lexer": "ipython3",
   "version": "3.7.9"
  },
  "papermill": {
   "default_parameters": {},
   "duration": 786.861473,
   "end_time": "2021-03-31T21:33:24.009747",
   "environment_variables": {},
   "exception": null,
   "input_path": "__notebook__.ipynb",
   "output_path": "__notebook__.ipynb",
   "parameters": {},
   "start_time": "2021-03-31T21:20:17.148274",
   "version": "2.3.2"
  }
 },
 "nbformat": 4,
 "nbformat_minor": 5
}
