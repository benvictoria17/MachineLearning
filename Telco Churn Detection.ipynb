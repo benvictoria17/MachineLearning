{
 "cells": [
  {
   "cell_type": "code",
   "execution_count": 1,
   "id": "59c9327a",
   "metadata": {
    "execution": {
     "iopub.execute_input": "2022-03-28T23:38:18.277379Z",
     "iopub.status.busy": "2022-03-28T23:38:18.276191Z",
     "iopub.status.idle": "2022-03-28T23:38:19.744303Z",
     "shell.execute_reply": "2022-03-28T23:38:19.743374Z",
     "shell.execute_reply.started": "2022-03-28T23:36:38.844211Z"
    },
    "papermill": {
     "duration": 1.495319,
     "end_time": "2022-03-28T23:38:19.744499",
     "exception": false,
     "start_time": "2022-03-28T23:38:18.249180",
     "status": "completed"
    },
    "tags": []
   },
   "outputs": [],
   "source": [
    "import pandas as pd\n",
    "import numpy as np\n",
    "import matplotlib.pyplot as plt\n",
    "import seaborn as sns\n",
    "\n",
    "from sklearn import metrics\n",
    "from sklearn.preprocessing import MinMaxScaler, StandardScaler\n",
    "from sklearn.model_selection import train_test_split, GridSearchCV\n",
    "from sklearn.linear_model import LogisticRegression\n",
    "from sklearn.ensemble import GradientBoostingClassifier\n",
    "\n",
    "from xgboost import XGBClassifier"
   ]
  },
  {
   "cell_type": "code",
   "execution_count": 2,
   "id": "ae54e5ec",
   "metadata": {
    "execution": {
     "iopub.execute_input": "2022-03-28T23:38:19.799912Z",
     "iopub.status.busy": "2022-03-28T23:38:19.799188Z",
     "iopub.status.idle": "2022-03-28T23:38:20.762647Z",
     "shell.execute_reply": "2022-03-28T23:38:20.763149Z",
     "shell.execute_reply.started": "2022-03-28T23:36:38.855219Z"
    },
    "papermill": {
     "duration": 0.994925,
     "end_time": "2022-03-28T23:38:20.763324",
     "exception": false,
     "start_time": "2022-03-28T23:38:19.768399",
     "status": "completed"
    },
    "tags": []
   },
   "outputs": [
    {
     "data": {
      "text/html": [
       "<div>\n",
       "<style scoped>\n",
       "    .dataframe tbody tr th:only-of-type {\n",
       "        vertical-align: middle;\n",
       "    }\n",
       "\n",
       "    .dataframe tbody tr th {\n",
       "        vertical-align: top;\n",
       "    }\n",
       "\n",
       "    .dataframe thead th {\n",
       "        text-align: right;\n",
       "    }\n",
       "</style>\n",
       "<table border=\"1\" class=\"dataframe\">\n",
       "  <thead>\n",
       "    <tr style=\"text-align: right;\">\n",
       "      <th></th>\n",
       "      <th>CustomerID</th>\n",
       "      <th>Churn</th>\n",
       "      <th>MonthlyRevenue</th>\n",
       "      <th>MonthlyMinutes</th>\n",
       "      <th>TotalRecurringCharge</th>\n",
       "      <th>DirectorAssistedCalls</th>\n",
       "      <th>OverageMinutes</th>\n",
       "      <th>RoamingCalls</th>\n",
       "      <th>PercChangeMinutes</th>\n",
       "      <th>PercChangeRevenues</th>\n",
       "      <th>...</th>\n",
       "      <th>ReferralsMadeBySubscriber</th>\n",
       "      <th>IncomeGroup</th>\n",
       "      <th>OwnsMotorcycle</th>\n",
       "      <th>AdjustmentsToCreditRating</th>\n",
       "      <th>HandsetPrice</th>\n",
       "      <th>MadeCallToRetentionTeam</th>\n",
       "      <th>CreditRating</th>\n",
       "      <th>PrizmCode</th>\n",
       "      <th>Occupation</th>\n",
       "      <th>MaritalStatus</th>\n",
       "    </tr>\n",
       "  </thead>\n",
       "  <tbody>\n",
       "    <tr>\n",
       "      <th>0</th>\n",
       "      <td>3000002</td>\n",
       "      <td>Yes</td>\n",
       "      <td>24.00</td>\n",
       "      <td>219.0</td>\n",
       "      <td>22.0</td>\n",
       "      <td>0.25</td>\n",
       "      <td>0.0</td>\n",
       "      <td>0.0</td>\n",
       "      <td>-157.0</td>\n",
       "      <td>-19.0</td>\n",
       "      <td>...</td>\n",
       "      <td>0</td>\n",
       "      <td>4</td>\n",
       "      <td>No</td>\n",
       "      <td>0</td>\n",
       "      <td>30</td>\n",
       "      <td>Yes</td>\n",
       "      <td>1-Highest</td>\n",
       "      <td>Suburban</td>\n",
       "      <td>Professional</td>\n",
       "      <td>No</td>\n",
       "    </tr>\n",
       "    <tr>\n",
       "      <th>1</th>\n",
       "      <td>3000010</td>\n",
       "      <td>Yes</td>\n",
       "      <td>16.99</td>\n",
       "      <td>10.0</td>\n",
       "      <td>17.0</td>\n",
       "      <td>0.00</td>\n",
       "      <td>0.0</td>\n",
       "      <td>0.0</td>\n",
       "      <td>-4.0</td>\n",
       "      <td>0.0</td>\n",
       "      <td>...</td>\n",
       "      <td>0</td>\n",
       "      <td>5</td>\n",
       "      <td>No</td>\n",
       "      <td>0</td>\n",
       "      <td>30</td>\n",
       "      <td>No</td>\n",
       "      <td>4-Medium</td>\n",
       "      <td>Suburban</td>\n",
       "      <td>Professional</td>\n",
       "      <td>Yes</td>\n",
       "    </tr>\n",
       "    <tr>\n",
       "      <th>2</th>\n",
       "      <td>3000014</td>\n",
       "      <td>No</td>\n",
       "      <td>38.00</td>\n",
       "      <td>8.0</td>\n",
       "      <td>38.0</td>\n",
       "      <td>0.00</td>\n",
       "      <td>0.0</td>\n",
       "      <td>0.0</td>\n",
       "      <td>-2.0</td>\n",
       "      <td>0.0</td>\n",
       "      <td>...</td>\n",
       "      <td>0</td>\n",
       "      <td>6</td>\n",
       "      <td>No</td>\n",
       "      <td>0</td>\n",
       "      <td>Unknown</td>\n",
       "      <td>No</td>\n",
       "      <td>3-Good</td>\n",
       "      <td>Town</td>\n",
       "      <td>Crafts</td>\n",
       "      <td>Yes</td>\n",
       "    </tr>\n",
       "    <tr>\n",
       "      <th>3</th>\n",
       "      <td>3000022</td>\n",
       "      <td>No</td>\n",
       "      <td>82.28</td>\n",
       "      <td>1312.0</td>\n",
       "      <td>75.0</td>\n",
       "      <td>1.24</td>\n",
       "      <td>0.0</td>\n",
       "      <td>0.0</td>\n",
       "      <td>157.0</td>\n",
       "      <td>8.1</td>\n",
       "      <td>...</td>\n",
       "      <td>0</td>\n",
       "      <td>6</td>\n",
       "      <td>No</td>\n",
       "      <td>0</td>\n",
       "      <td>10</td>\n",
       "      <td>No</td>\n",
       "      <td>4-Medium</td>\n",
       "      <td>Other</td>\n",
       "      <td>Other</td>\n",
       "      <td>No</td>\n",
       "    </tr>\n",
       "    <tr>\n",
       "      <th>4</th>\n",
       "      <td>3000026</td>\n",
       "      <td>Yes</td>\n",
       "      <td>17.14</td>\n",
       "      <td>0.0</td>\n",
       "      <td>17.0</td>\n",
       "      <td>0.00</td>\n",
       "      <td>0.0</td>\n",
       "      <td>0.0</td>\n",
       "      <td>0.0</td>\n",
       "      <td>-0.2</td>\n",
       "      <td>...</td>\n",
       "      <td>0</td>\n",
       "      <td>9</td>\n",
       "      <td>No</td>\n",
       "      <td>1</td>\n",
       "      <td>10</td>\n",
       "      <td>No</td>\n",
       "      <td>1-Highest</td>\n",
       "      <td>Other</td>\n",
       "      <td>Professional</td>\n",
       "      <td>Yes</td>\n",
       "    </tr>\n",
       "    <tr>\n",
       "      <th>5</th>\n",
       "      <td>3000030</td>\n",
       "      <td>No</td>\n",
       "      <td>38.05</td>\n",
       "      <td>682.0</td>\n",
       "      <td>52.0</td>\n",
       "      <td>0.25</td>\n",
       "      <td>0.0</td>\n",
       "      <td>0.0</td>\n",
       "      <td>148.0</td>\n",
       "      <td>-3.1</td>\n",
       "      <td>...</td>\n",
       "      <td>0</td>\n",
       "      <td>1</td>\n",
       "      <td>No</td>\n",
       "      <td>1</td>\n",
       "      <td>30</td>\n",
       "      <td>No</td>\n",
       "      <td>3-Good</td>\n",
       "      <td>Other</td>\n",
       "      <td>Other</td>\n",
       "      <td>Yes</td>\n",
       "    </tr>\n",
       "    <tr>\n",
       "      <th>6</th>\n",
       "      <td>3000038</td>\n",
       "      <td>No</td>\n",
       "      <td>31.66</td>\n",
       "      <td>26.0</td>\n",
       "      <td>30.0</td>\n",
       "      <td>0.25</td>\n",
       "      <td>0.0</td>\n",
       "      <td>0.0</td>\n",
       "      <td>60.0</td>\n",
       "      <td>4.0</td>\n",
       "      <td>...</td>\n",
       "      <td>0</td>\n",
       "      <td>9</td>\n",
       "      <td>No</td>\n",
       "      <td>1</td>\n",
       "      <td>30</td>\n",
       "      <td>No</td>\n",
       "      <td>1-Highest</td>\n",
       "      <td>Other</td>\n",
       "      <td>Self</td>\n",
       "      <td>Yes</td>\n",
       "    </tr>\n",
       "    <tr>\n",
       "      <th>7</th>\n",
       "      <td>3000042</td>\n",
       "      <td>No</td>\n",
       "      <td>62.13</td>\n",
       "      <td>98.0</td>\n",
       "      <td>66.0</td>\n",
       "      <td>2.48</td>\n",
       "      <td>0.0</td>\n",
       "      <td>0.0</td>\n",
       "      <td>24.0</td>\n",
       "      <td>6.8</td>\n",
       "      <td>...</td>\n",
       "      <td>0</td>\n",
       "      <td>6</td>\n",
       "      <td>No</td>\n",
       "      <td>0</td>\n",
       "      <td>30</td>\n",
       "      <td>No</td>\n",
       "      <td>1-Highest</td>\n",
       "      <td>Other</td>\n",
       "      <td>Professional</td>\n",
       "      <td>No</td>\n",
       "    </tr>\n",
       "    <tr>\n",
       "      <th>8</th>\n",
       "      <td>3000046</td>\n",
       "      <td>No</td>\n",
       "      <td>35.30</td>\n",
       "      <td>24.0</td>\n",
       "      <td>35.0</td>\n",
       "      <td>0.00</td>\n",
       "      <td>0.0</td>\n",
       "      <td>0.0</td>\n",
       "      <td>20.0</td>\n",
       "      <td>-0.3</td>\n",
       "      <td>...</td>\n",
       "      <td>0</td>\n",
       "      <td>9</td>\n",
       "      <td>No</td>\n",
       "      <td>0</td>\n",
       "      <td>80</td>\n",
       "      <td>No</td>\n",
       "      <td>1-Highest</td>\n",
       "      <td>Other</td>\n",
       "      <td>Other</td>\n",
       "      <td>Yes</td>\n",
       "    </tr>\n",
       "    <tr>\n",
       "      <th>9</th>\n",
       "      <td>3000050</td>\n",
       "      <td>No</td>\n",
       "      <td>81.00</td>\n",
       "      <td>1056.0</td>\n",
       "      <td>75.0</td>\n",
       "      <td>0.00</td>\n",
       "      <td>0.0</td>\n",
       "      <td>0.0</td>\n",
       "      <td>43.0</td>\n",
       "      <td>2.4</td>\n",
       "      <td>...</td>\n",
       "      <td>0</td>\n",
       "      <td>5</td>\n",
       "      <td>No</td>\n",
       "      <td>1</td>\n",
       "      <td>30</td>\n",
       "      <td>No</td>\n",
       "      <td>3-Good</td>\n",
       "      <td>Other</td>\n",
       "      <td>Professional</td>\n",
       "      <td>No</td>\n",
       "    </tr>\n",
       "  </tbody>\n",
       "</table>\n",
       "<p>10 rows × 58 columns</p>\n",
       "</div>"
      ],
      "text/plain": [
       "   CustomerID Churn  MonthlyRevenue  MonthlyMinutes  TotalRecurringCharge  \\\n",
       "0     3000002   Yes           24.00           219.0                  22.0   \n",
       "1     3000010   Yes           16.99            10.0                  17.0   \n",
       "2     3000014    No           38.00             8.0                  38.0   \n",
       "3     3000022    No           82.28          1312.0                  75.0   \n",
       "4     3000026   Yes           17.14             0.0                  17.0   \n",
       "5     3000030    No           38.05           682.0                  52.0   \n",
       "6     3000038    No           31.66            26.0                  30.0   \n",
       "7     3000042    No           62.13            98.0                  66.0   \n",
       "8     3000046    No           35.30            24.0                  35.0   \n",
       "9     3000050    No           81.00          1056.0                  75.0   \n",
       "\n",
       "   DirectorAssistedCalls  OverageMinutes  RoamingCalls  PercChangeMinutes  \\\n",
       "0                   0.25             0.0           0.0             -157.0   \n",
       "1                   0.00             0.0           0.0               -4.0   \n",
       "2                   0.00             0.0           0.0               -2.0   \n",
       "3                   1.24             0.0           0.0              157.0   \n",
       "4                   0.00             0.0           0.0                0.0   \n",
       "5                   0.25             0.0           0.0              148.0   \n",
       "6                   0.25             0.0           0.0               60.0   \n",
       "7                   2.48             0.0           0.0               24.0   \n",
       "8                   0.00             0.0           0.0               20.0   \n",
       "9                   0.00             0.0           0.0               43.0   \n",
       "\n",
       "   PercChangeRevenues  ...  ReferralsMadeBySubscriber  IncomeGroup  \\\n",
       "0               -19.0  ...                          0            4   \n",
       "1                 0.0  ...                          0            5   \n",
       "2                 0.0  ...                          0            6   \n",
       "3                 8.1  ...                          0            6   \n",
       "4                -0.2  ...                          0            9   \n",
       "5                -3.1  ...                          0            1   \n",
       "6                 4.0  ...                          0            9   \n",
       "7                 6.8  ...                          0            6   \n",
       "8                -0.3  ...                          0            9   \n",
       "9                 2.4  ...                          0            5   \n",
       "\n",
       "   OwnsMotorcycle  AdjustmentsToCreditRating  HandsetPrice  \\\n",
       "0              No                          0            30   \n",
       "1              No                          0            30   \n",
       "2              No                          0       Unknown   \n",
       "3              No                          0            10   \n",
       "4              No                          1            10   \n",
       "5              No                          1            30   \n",
       "6              No                          1            30   \n",
       "7              No                          0            30   \n",
       "8              No                          0            80   \n",
       "9              No                          1            30   \n",
       "\n",
       "   MadeCallToRetentionTeam  CreditRating  PrizmCode    Occupation  \\\n",
       "0                      Yes     1-Highest   Suburban  Professional   \n",
       "1                       No      4-Medium   Suburban  Professional   \n",
       "2                       No        3-Good       Town        Crafts   \n",
       "3                       No      4-Medium      Other         Other   \n",
       "4                       No     1-Highest      Other  Professional   \n",
       "5                       No        3-Good      Other         Other   \n",
       "6                       No     1-Highest      Other          Self   \n",
       "7                       No     1-Highest      Other  Professional   \n",
       "8                       No     1-Highest      Other         Other   \n",
       "9                       No        3-Good      Other  Professional   \n",
       "\n",
       "   MaritalStatus  \n",
       "0             No  \n",
       "1            Yes  \n",
       "2            Yes  \n",
       "3             No  \n",
       "4            Yes  \n",
       "5            Yes  \n",
       "6            Yes  \n",
       "7             No  \n",
       "8            Yes  \n",
       "9             No  \n",
       "\n",
       "[10 rows x 58 columns]"
      ]
     },
     "execution_count": 2,
     "metadata": {},
     "output_type": "execute_result"
    }
   ],
   "source": [
    "df = pd.read_csv(\"https://raw.githubusercontent.com/benvictoria17/DataAnalytics/master/dataset/telecom%20churn%20(cell2cell)/cell2celltrain.csv\")\n",
    "df.head(10)"
   ]
  },
  {
   "cell_type": "code",
   "execution_count": 3,
   "id": "fa946133",
   "metadata": {
    "execution": {
     "iopub.execute_input": "2022-03-28T23:38:20.815403Z",
     "iopub.status.busy": "2022-03-28T23:38:20.814690Z",
     "iopub.status.idle": "2022-03-28T23:38:20.819623Z",
     "shell.execute_reply": "2022-03-28T23:38:20.820144Z",
     "shell.execute_reply.started": "2022-03-28T23:36:39.354180Z"
    },
    "papermill": {
     "duration": 0.032063,
     "end_time": "2022-03-28T23:38:20.820316",
     "exception": false,
     "start_time": "2022-03-28T23:38:20.788253",
     "status": "completed"
    },
    "tags": []
   },
   "outputs": [
    {
     "data": {
      "text/plain": [
       "(51047, 58)"
      ]
     },
     "execution_count": 3,
     "metadata": {},
     "output_type": "execute_result"
    }
   ],
   "source": [
    "df.shape"
   ]
  },
  {
   "cell_type": "code",
   "execution_count": 4,
   "id": "4fe0b138",
   "metadata": {
    "execution": {
     "iopub.execute_input": "2022-03-28T23:38:20.871731Z",
     "iopub.status.busy": "2022-03-28T23:38:20.870951Z",
     "iopub.status.idle": "2022-03-28T23:38:20.878359Z",
     "shell.execute_reply": "2022-03-28T23:38:20.878904Z",
     "shell.execute_reply.started": "2022-03-28T23:36:39.361179Z"
    },
    "papermill": {
     "duration": 0.034818,
     "end_time": "2022-03-28T23:38:20.879077",
     "exception": false,
     "start_time": "2022-03-28T23:38:20.844259",
     "status": "completed"
    },
    "tags": []
   },
   "outputs": [
    {
     "data": {
      "text/plain": [
       "CustomerID                     int64\n",
       "Churn                         object\n",
       "MonthlyRevenue               float64\n",
       "MonthlyMinutes               float64\n",
       "TotalRecurringCharge         float64\n",
       "DirectorAssistedCalls        float64\n",
       "OverageMinutes               float64\n",
       "RoamingCalls                 float64\n",
       "PercChangeMinutes            float64\n",
       "PercChangeRevenues           float64\n",
       "DroppedCalls                 float64\n",
       "BlockedCalls                 float64\n",
       "UnansweredCalls              float64\n",
       "CustomerCareCalls            float64\n",
       "ThreewayCalls                float64\n",
       "ReceivedCalls                float64\n",
       "OutboundCalls                float64\n",
       "InboundCalls                 float64\n",
       "PeakCallsInOut               float64\n",
       "OffPeakCallsInOut            float64\n",
       "DroppedBlockedCalls          float64\n",
       "CallForwardingCalls          float64\n",
       "CallWaitingCalls             float64\n",
       "MonthsInService                int64\n",
       "UniqueSubs                     int64\n",
       "ActiveSubs                     int64\n",
       "ServiceArea                   object\n",
       "Handsets                     float64\n",
       "HandsetModels                float64\n",
       "CurrentEquipmentDays         float64\n",
       "AgeHH1                       float64\n",
       "AgeHH2                       float64\n",
       "ChildrenInHH                  object\n",
       "HandsetRefurbished            object\n",
       "HandsetWebCapable             object\n",
       "TruckOwner                    object\n",
       "RVOwner                       object\n",
       "Homeownership                 object\n",
       "BuysViaMailOrder              object\n",
       "RespondsToMailOffers          object\n",
       "OptOutMailings                object\n",
       "NonUSTravel                   object\n",
       "OwnsComputer                  object\n",
       "HasCreditCard                 object\n",
       "RetentionCalls                 int64\n",
       "RetentionOffersAccepted        int64\n",
       "NewCellphoneUser              object\n",
       "NotNewCellphoneUser           object\n",
       "ReferralsMadeBySubscriber      int64\n",
       "IncomeGroup                    int64\n",
       "OwnsMotorcycle                object\n",
       "AdjustmentsToCreditRating      int64\n",
       "HandsetPrice                  object\n",
       "MadeCallToRetentionTeam       object\n",
       "CreditRating                  object\n",
       "PrizmCode                     object\n",
       "Occupation                    object\n",
       "MaritalStatus                 object\n",
       "dtype: object"
      ]
     },
     "execution_count": 4,
     "metadata": {},
     "output_type": "execute_result"
    }
   ],
   "source": [
    "df.dtypes"
   ]
  },
  {
   "cell_type": "code",
   "execution_count": 5,
   "id": "b67b31f9",
   "metadata": {
    "execution": {
     "iopub.execute_input": "2022-03-28T23:38:20.939983Z",
     "iopub.status.busy": "2022-03-28T23:38:20.938984Z",
     "iopub.status.idle": "2022-03-28T23:38:20.952785Z",
     "shell.execute_reply": "2022-03-28T23:38:20.953240Z",
     "shell.execute_reply.started": "2022-03-28T23:36:39.380120Z"
    },
    "papermill": {
     "duration": 0.049763,
     "end_time": "2022-03-28T23:38:20.953409",
     "exception": false,
     "start_time": "2022-03-28T23:38:20.903646",
     "status": "completed"
    },
    "tags": []
   },
   "outputs": [
    {
     "data": {
      "text/plain": [
       "No     36336\n",
       "Yes    14711\n",
       "Name: Churn, dtype: int64"
      ]
     },
     "execution_count": 5,
     "metadata": {},
     "output_type": "execute_result"
    }
   ],
   "source": [
    "df['Churn'].value_counts()"
   ]
  },
  {
   "cell_type": "code",
   "execution_count": 6,
   "id": "7e1315b3",
   "metadata": {
    "execution": {
     "iopub.execute_input": "2022-03-28T23:38:21.006450Z",
     "iopub.status.busy": "2022-03-28T23:38:21.005847Z",
     "iopub.status.idle": "2022-03-28T23:38:21.169273Z",
     "shell.execute_reply": "2022-03-28T23:38:21.169799Z",
     "shell.execute_reply.started": "2022-03-28T23:36:39.398399Z"
    },
    "papermill": {
     "duration": 0.191591,
     "end_time": "2022-03-28T23:38:21.169971",
     "exception": false,
     "start_time": "2022-03-28T23:38:20.978380",
     "status": "completed"
    },
    "tags": []
   },
   "outputs": [
    {
     "name": "stdout",
     "output_type": "stream",
     "text": [
      "MonthlyRevenue 156\n",
      "MonthlyMinutes 156\n",
      "TotalRecurringCharge 156\n",
      "DirectorAssistedCalls 156\n",
      "OverageMinutes 156\n",
      "RoamingCalls 156\n",
      "PercChangeMinutes 367\n",
      "PercChangeRevenues 367\n",
      "ServiceArea 24\n",
      "Handsets 1\n",
      "HandsetModels 1\n",
      "CurrentEquipmentDays 1\n",
      "AgeHH1 909\n",
      "AgeHH2 909\n"
     ]
    }
   ],
   "source": [
    "for x in df.columns:\n",
    "    if df[x].isnull().sum() != 0:\n",
    "        print(x, df[x].isnull().sum())"
   ]
  },
  {
   "cell_type": "code",
   "execution_count": 7,
   "id": "0239c01a",
   "metadata": {
    "execution": {
     "iopub.execute_input": "2022-03-28T23:38:21.227025Z",
     "iopub.status.busy": "2022-03-28T23:38:21.226285Z",
     "iopub.status.idle": "2022-03-28T23:38:21.388900Z",
     "shell.execute_reply": "2022-03-28T23:38:21.388293Z",
     "shell.execute_reply.started": "2022-03-28T23:36:39.491627Z"
    },
    "papermill": {
     "duration": 0.193593,
     "end_time": "2022-03-28T23:38:21.389039",
     "exception": false,
     "start_time": "2022-03-28T23:38:21.195446",
     "status": "completed"
    },
    "tags": []
   },
   "outputs": [],
   "source": [
    "df.drop(['CustomerID'], axis=1, inplace=True)\n",
    "df = df.dropna()"
   ]
  },
  {
   "cell_type": "code",
   "execution_count": 8,
   "id": "9604aac5",
   "metadata": {
    "execution": {
     "iopub.execute_input": "2022-03-28T23:38:21.470354Z",
     "iopub.status.busy": "2022-03-28T23:38:21.469647Z",
     "iopub.status.idle": "2022-03-28T23:38:21.477643Z",
     "shell.execute_reply": "2022-03-28T23:38:21.477086Z",
     "shell.execute_reply.started": "2022-03-28T23:36:39.575811Z"
    },
    "papermill": {
     "duration": 0.06342,
     "end_time": "2022-03-28T23:38:21.477788",
     "exception": false,
     "start_time": "2022-03-28T23:38:21.414368",
     "status": "completed"
    },
    "tags": []
   },
   "outputs": [],
   "source": [
    "df['Churn'].replace(to_replace='Yes', value=1, inplace=True)\n",
    "df['Churn'].replace(to_replace='No',  value=0, inplace=True)"
   ]
  },
  {
   "cell_type": "code",
   "execution_count": 9,
   "id": "28e91c84",
   "metadata": {
    "execution": {
     "iopub.execute_input": "2022-03-28T23:38:21.538368Z",
     "iopub.status.busy": "2022-03-28T23:38:21.531654Z",
     "iopub.status.idle": "2022-03-28T23:38:21.636600Z",
     "shell.execute_reply": "2022-03-28T23:38:21.636060Z",
     "shell.execute_reply.started": "2022-03-28T23:36:39.601933Z"
    },
    "papermill": {
     "duration": 0.133296,
     "end_time": "2022-03-28T23:38:21.636744",
     "exception": false,
     "start_time": "2022-03-28T23:38:21.503448",
     "status": "completed"
    },
    "tags": []
   },
   "outputs": [
    {
     "data": {
      "text/plain": [
       "ServiceArea                743\n",
       "ChildrenInHH                 2\n",
       "HandsetRefurbished           2\n",
       "HandsetWebCapable            2\n",
       "TruckOwner                   2\n",
       "RVOwner                      2\n",
       "Homeownership                2\n",
       "BuysViaMailOrder             2\n",
       "RespondsToMailOffers         2\n",
       "OptOutMailings               2\n",
       "NonUSTravel                  2\n",
       "OwnsComputer                 2\n",
       "HasCreditCard                2\n",
       "NewCellphoneUser             2\n",
       "NotNewCellphoneUser          2\n",
       "OwnsMotorcycle               2\n",
       "HandsetPrice                16\n",
       "MadeCallToRetentionTeam      2\n",
       "CreditRating                 7\n",
       "PrizmCode                    4\n",
       "Occupation                   8\n",
       "MaritalStatus                3\n",
       "dtype: int64"
      ]
     },
     "execution_count": 9,
     "metadata": {},
     "output_type": "execute_result"
    }
   ],
   "source": [
    "categoricals = list()\n",
    "for x in df.columns:\n",
    "    if df[x].dtype == 'object':\n",
    "        categoricals.append(x)\n",
    "df[categoricals].nunique()"
   ]
  },
  {
   "cell_type": "code",
   "execution_count": 10,
   "id": "8853e609",
   "metadata": {
    "execution": {
     "iopub.execute_input": "2022-03-28T23:38:21.691915Z",
     "iopub.status.busy": "2022-03-28T23:38:21.691196Z",
     "iopub.status.idle": "2022-03-28T23:38:21.696650Z",
     "shell.execute_reply": "2022-03-28T23:38:21.697175Z",
     "shell.execute_reply.started": "2022-03-28T23:36:39.693590Z"
    },
    "papermill": {
     "duration": 0.034914,
     "end_time": "2022-03-28T23:38:21.697351",
     "exception": false,
     "start_time": "2022-03-28T23:38:21.662437",
     "status": "completed"
    },
    "tags": []
   },
   "outputs": [],
   "source": [
    "def plot_val_counts(df, col=''):\n",
    "    plt.figure(figsize=(5,5))\n",
    "    plt.grid(True)\n",
    "    plt.bar(df[col][df.Churn==1].value_counts().index, \n",
    "            df[col][df.Churn==1].value_counts().values)\n",
    "    plt.title(f'{col}')\n",
    "    plt.xticks(rotation=-90)"
   ]
  },
  {
   "cell_type": "code",
   "execution_count": 11,
   "id": "f40f8278",
   "metadata": {
    "execution": {
     "iopub.execute_input": "2022-03-28T23:38:21.753385Z",
     "iopub.status.busy": "2022-03-28T23:38:21.752768Z",
     "iopub.status.idle": "2022-03-28T23:38:22.041171Z",
     "shell.execute_reply": "2022-03-28T23:38:22.040279Z",
     "shell.execute_reply.started": "2022-03-28T23:36:39.700848Z"
    },
    "papermill": {
     "duration": 0.316537,
     "end_time": "2022-03-28T23:38:22.041319",
     "exception": false,
     "start_time": "2022-03-28T23:38:21.724782",
     "status": "completed"
    },
    "tags": []
   },
   "outputs": [
    {
     "data": {
      "image/png": "[encoded data removed]",
      "text/plain": [
       "<Figure size 360x360 with 1 Axes>"
      ]
     },
     "metadata": {
      "needs_background": "light"
     },
     "output_type": "display_data"
    }
   ],
   "source": [
    "plot_val_counts(df, col='HandsetPrice')"
   ]
  },
  {
   "cell_type": "code",
   "execution_count": 12,
   "id": "d0455108",
   "metadata": {
    "execution": {
     "iopub.execute_input": "2022-03-28T23:38:22.097652Z",
     "iopub.status.busy": "2022-03-28T23:38:22.096973Z",
     "iopub.status.idle": "2022-03-28T23:38:22.263130Z",
     "shell.execute_reply": "2022-03-28T23:38:22.264155Z",
     "shell.execute_reply.started": "2022-03-28T23:36:39.938698Z"
    },
    "papermill": {
     "duration": 0.196417,
     "end_time": "2022-03-28T23:38:22.264451",
     "exception": false,
     "start_time": "2022-03-28T23:38:22.068034",
     "status": "completed"
    },
    "tags": []
   },
   "outputs": [
    {
     "data": {
      "image/png": "[encoded data removed]",
      "text/plain": [
       "<Figure size 360x360 with 1 Axes>"
      ]
     },
     "metadata": {
      "needs_background": "light"
     },
     "output_type": "display_data"
    }
   ],
   "source": [
    "plot_val_counts(df, col='CreditRating')"
   ]
  },
  {
   "cell_type": "code",
   "execution_count": 13,
   "id": "60a5d367",
   "metadata": {
    "execution": {
     "iopub.execute_input": "2022-03-28T23:38:22.327126Z",
     "iopub.status.busy": "2022-03-28T23:38:22.326492Z",
     "iopub.status.idle": "2022-03-28T23:38:22.551340Z",
     "shell.execute_reply": "2022-03-28T23:38:22.551890Z",
     "shell.execute_reply.started": "2022-03-28T23:36:40.098963Z"
    },
    "papermill": {
     "duration": 0.255429,
     "end_time": "2022-03-28T23:38:22.552058",
     "exception": false,
     "start_time": "2022-03-28T23:38:22.296629",
     "status": "completed"
    },
    "tags": []
   },
   "outputs": [
    {
     "data": {
      "image/png": "[encoded data removed]",
      "text/plain": [
       "<Figure size 360x360 with 1 Axes>"
      ]
     },
     "metadata": {
      "needs_background": "light"
     },
     "output_type": "display_data"
    }
   ],
   "source": [
    "plot_val_counts(df, col='Occupation')"
   ]
  },
  {
   "cell_type": "code",
   "execution_count": 14,
   "id": "e6372884",
   "metadata": {
    "execution": {
     "iopub.execute_input": "2022-03-28T23:38:22.612698Z",
     "iopub.status.busy": "2022-03-28T23:38:22.611737Z",
     "iopub.status.idle": "2022-03-28T23:38:22.818719Z",
     "shell.execute_reply": "2022-03-28T23:38:22.819173Z",
     "shell.execute_reply.started": "2022-03-28T23:36:40.322708Z"
    },
    "papermill": {
     "duration": 0.238899,
     "end_time": "2022-03-28T23:38:22.819346",
     "exception": false,
     "start_time": "2022-03-28T23:38:22.580447",
     "status": "completed"
    },
    "tags": []
   },
   "outputs": [
    {
     "data": {
      "image/png": "[encoded data removed]",
      "text/plain": [
       "<Figure size 360x360 with 1 Axes>"
      ]
     },
     "metadata": {
      "needs_background": "light"
     },
     "output_type": "display_data"
    }
   ],
   "source": [
    "plot_val_counts(df, col='PrizmCode')"
   ]
  },
  {
   "cell_type": "code",
   "execution_count": 15,
   "id": "ce0ed70a",
   "metadata": {
    "execution": {
     "iopub.execute_input": "2022-03-28T23:38:22.884420Z",
     "iopub.status.busy": "2022-03-28T23:38:22.883494Z",
     "iopub.status.idle": "2022-03-28T23:38:23.554278Z",
     "shell.execute_reply": "2022-03-28T23:38:23.554786Z",
     "shell.execute_reply.started": "2022-03-28T23:36:40.520793Z"
    },
    "papermill": {
     "duration": 0.704251,
     "end_time": "2022-03-28T23:38:23.554952",
     "exception": false,
     "start_time": "2022-03-28T23:38:22.850701",
     "status": "completed"
    },
    "tags": []
   },
   "outputs": [
    {
     "data": {
      "text/plain": [
       "<AxesSubplot:>"
      ]
     },
     "execution_count": 15,
     "metadata": {},
     "output_type": "execute_result"
    },
    {
     "data": {
      "image/png": "[encoded data removed]",
      "text/plain": [
       "<Figure size 1080x576 with 1 Axes>"
      ]
     },
     "metadata": {
      "needs_background": "light"
     },
     "output_type": "display_data"
    }
   ],
   "source": [
    "numericals = [x for x in df.columns if x not in categoricals]\n",
    "\n",
    "plt.figure(figsize=(15,8))\n",
    "df[numericals].corr()['Churn'].sort_values(ascending = False).plot(kind='bar')"
   ]
  },
  {
   "cell_type": "code",
   "execution_count": 16,
   "id": "c87516a5",
   "metadata": {
    "execution": {
     "iopub.execute_input": "2022-03-28T23:38:23.623231Z",
     "iopub.status.busy": "2022-03-28T23:38:23.622250Z",
     "iopub.status.idle": "2022-03-28T23:38:23.846933Z",
     "shell.execute_reply": "2022-03-28T23:38:23.847485Z",
     "shell.execute_reply.started": "2022-03-28T23:36:41.148429Z"
    },
    "papermill": {
     "duration": 0.260366,
     "end_time": "2022-03-28T23:38:23.847670",
     "exception": false,
     "start_time": "2022-03-28T23:38:23.587304",
     "status": "completed"
    },
    "tags": []
   },
   "outputs": [
    {
     "name": "stdout",
     "output_type": "stream",
     "text": [
      "{'ReceivedCalls', 'BlockedCalls', 'Handsets'}\n"
     ]
    }
   ],
   "source": [
    "correlated_features = set()\n",
    "correlation_matrix = df[numericals].corr()\n",
    "\n",
    "for i in range(len(correlation_matrix .columns)):\n",
    "    for j in range(i):\n",
    "        if abs(correlation_matrix.iloc[i, j]) > 0.8:\n",
    "            colname1 = correlation_matrix.columns[i]\n",
    "            colname2 = correlation_matrix.columns[j]\n",
    "            if colname1 != 'Churn' and colname2 != 'Churn':\n",
    "                if abs(correlation_matrix['Churn'][colname1]) > abs(correlation_matrix['Churn'][colname2]):\n",
    "                    correlated_features.add(colname2)\n",
    "                else:\n",
    "                    correlated_features.add(colname1)\n",
    "print(correlated_features)\n",
    "df.drop(correlated_features, axis=1, inplace=True)"
   ]
  },
  {
   "cell_type": "code",
   "execution_count": 17,
   "id": "9f118186",
   "metadata": {
    "execution": {
     "iopub.execute_input": "2022-03-28T23:38:23.916602Z",
     "iopub.status.busy": "2022-03-28T23:38:23.915657Z",
     "iopub.status.idle": "2022-03-28T23:38:24.413533Z",
     "shell.execute_reply": "2022-03-28T23:38:24.414101Z",
     "shell.execute_reply.started": "2022-03-28T23:36:41.380527Z"
    },
    "papermill": {
     "duration": 0.533503,
     "end_time": "2022-03-28T23:38:24.414287",
     "exception": false,
     "start_time": "2022-03-28T23:38:23.880784",
     "status": "completed"
    },
    "tags": []
   },
   "outputs": [],
   "source": [
    "df_dummies = pd.get_dummies(df, drop_first=True)\n",
    "X = df_dummies.drop(['Churn'], axis=1)\n",
    "y = df_dummies['Churn']"
   ]
  },
  {
   "cell_type": "code",
   "execution_count": 18,
   "id": "789cb82c",
   "metadata": {
    "execution": {
     "iopub.execute_input": "2022-03-28T23:38:24.492058Z",
     "iopub.status.busy": "2022-03-28T23:38:24.490740Z",
     "iopub.status.idle": "2022-03-28T23:38:25.289635Z",
     "shell.execute_reply": "2022-03-28T23:38:25.288978Z",
     "shell.execute_reply.started": "2022-03-28T23:36:41.878259Z"
    },
    "papermill": {
     "duration": 0.843572,
     "end_time": "2022-03-28T23:38:25.289799",
     "exception": false,
     "start_time": "2022-03-28T23:38:24.446227",
     "status": "completed"
    },
    "tags": []
   },
   "outputs": [],
   "source": [
    "features = X.columns.values\n",
    "scaler = StandardScaler()\n",
    "scaler.fit(X)\n",
    "X = pd.DataFrame(scaler.transform(X))\n",
    "X.columns = features"
   ]
  },
  {
   "cell_type": "code",
   "execution_count": 19,
   "id": "2f1da43b",
   "metadata": {
    "execution": {
     "iopub.execute_input": "2022-03-28T23:38:25.360772Z",
     "iopub.status.busy": "2022-03-28T23:38:25.360105Z",
     "iopub.status.idle": "2022-03-28T23:38:25.660375Z",
     "shell.execute_reply": "2022-03-28T23:38:25.659786Z",
     "shell.execute_reply.started": "2022-03-28T23:36:42.613843Z"
    },
    "papermill": {
     "duration": 0.337536,
     "end_time": "2022-03-28T23:38:25.660536",
     "exception": false,
     "start_time": "2022-03-28T23:38:25.323000",
     "status": "completed"
    },
    "tags": []
   },
   "outputs": [],
   "source": [
    "X_train, X_test, y_train, y_test = train_test_split(X, y, test_size=0.2, random_state=16, stratify=y)"
   ]
  },
  {
   "cell_type": "code",
   "execution_count": 20,
   "id": "b7016cdf",
   "metadata": {
    "execution": {
     "iopub.execute_input": "2022-03-28T23:38:25.739648Z",
     "iopub.status.busy": "2022-03-28T23:38:25.738993Z",
     "iopub.status.idle": "2022-03-28T23:38:38.840414Z",
     "shell.execute_reply": "2022-03-28T23:38:38.841317Z",
     "shell.execute_reply.started": "2022-03-28T23:36:42.915391Z"
    },
    "papermill": {
     "duration": 13.148894,
     "end_time": "2022-03-28T23:38:38.841615",
     "exception": false,
     "start_time": "2022-03-28T23:38:25.692721",
     "status": "completed"
    },
    "tags": []
   },
   "outputs": [
    {
     "name": "stdout",
     "output_type": "stream",
     "text": [
      "165\n"
     ]
    }
   ],
   "source": [
    "from sklearn.linear_model import LassoCV\n",
    "\n",
    "lasso = LassoCV().fit(X_train, y_train)\n",
    "importance = np.abs(lasso.coef_)\n",
    "print(len([x for x in importance if x != 0]))"
   ]
  },
  {
   "cell_type": "code",
   "execution_count": 21,
   "id": "31bc438a",
   "metadata": {
    "execution": {
     "iopub.execute_input": "2022-03-28T23:38:38.964531Z",
     "iopub.status.busy": "2022-03-28T23:38:38.963902Z",
     "iopub.status.idle": "2022-03-28T23:38:52.369743Z",
     "shell.execute_reply": "2022-03-28T23:38:52.371256Z",
     "shell.execute_reply.started": "2022-03-28T23:36:56.546531Z"
    },
    "papermill": {
     "duration": 13.468625,
     "end_time": "2022-03-28T23:38:52.371442",
     "exception": false,
     "start_time": "2022-03-28T23:38:38.902817",
     "status": "completed"
    },
    "tags": []
   },
   "outputs": [
    {
     "name": "stdout",
     "output_type": "stream",
     "text": [
      "Index(['MonthlyMinutes', 'TotalRecurringCharge', 'OverageMinutes',\n",
      "       'RoamingCalls', 'PercChangeMinutes', 'PercChangeRevenues',\n",
      "       'DroppedCalls', 'CustomerCareCalls', 'InboundCalls',\n",
      "       'DroppedBlockedCalls',\n",
      "       ...\n",
      "       'HandsetPrice_Unknown', 'MadeCallToRetentionTeam_Yes',\n",
      "       'CreditRating_2-High', 'CreditRating_3-Good', 'CreditRating_4-Medium',\n",
      "       'CreditRating_5-Low', 'PrizmCode_Rural', 'PrizmCode_Town',\n",
      "       'Occupation_Self', 'MaritalStatus_Unknown'],\n",
      "      dtype='object', length=164)\n"
     ]
    }
   ],
   "source": [
    "from sklearn.feature_selection import SelectFromModel\n",
    "sfm = SelectFromModel(lasso).fit(X_train, y_train)\n",
    "\n",
    "selected_feat = X_train.columns[(sfm.get_support())]\n",
    "print(selected_feat)\n",
    "\n",
    "X_train = sfm.transform(X_train)\n",
    "X_test = sfm.transform(X_test)"
   ]
  },
  {
   "cell_type": "code",
   "execution_count": 22,
   "id": "89e5c73f",
   "metadata": {
    "execution": {
     "iopub.execute_input": "2022-03-28T23:38:52.441525Z",
     "iopub.status.busy": "2022-03-28T23:38:52.440854Z",
     "iopub.status.idle": "2022-03-28T23:38:59.800910Z",
     "shell.execute_reply": "2022-03-28T23:38:59.802441Z",
     "shell.execute_reply.started": "2022-03-28T23:37:10.642863Z"
    },
    "papermill": {
     "duration": 7.397727,
     "end_time": "2022-03-28T23:38:59.802812",
     "exception": false,
     "start_time": "2022-03-28T23:38:52.405085",
     "status": "completed"
    },
    "tags": []
   },
   "outputs": [
    {
     "name": "stdout",
     "output_type": "stream",
     "text": [
      "Test Accuracy Score for LogisticRegression :  0.7126921917395237\n",
      "Test Precision Score for LogisticRegression :  0.4734042553191489\n",
      "Test Recall Score for LogisticRegression:  0.03123903123903124\n",
      "Test F1 Score for LogisticRegression:  0.05861047085940073\n",
      "Test auc Score for LogisticRegression:  0.5086496479765981\n",
      "\n",
      "Train Accuracy Score for LogisticRegression:  0.7163136604607925\n",
      "Train Precision Score for LogisticRegression:  0.5686274509803921\n",
      "Train Recall Score for LogisticRegression:  0.03817128817128817\n",
      "Train F1 Score for LogisticRegression:  0.07154016939396432\n",
      "Train auc Score for LogisticRegression:  0.513276807613192\n"
     ]
    }
   ],
   "source": [
    "lr = LogisticRegression()\n",
    "\n",
    "grid_values = {'C':[0.001,0.01,1,10]}#, 'penalty': ['l1', 'l2']}\n",
    "grid_lr = GridSearchCV(lr, param_grid = grid_values)#, scoring = 'roc_auc')\n",
    "grid_lr = grid_lr.fit(X_train, y_train)\n",
    "\n",
    "y_pred = grid_lr.predict(X_test)\n",
    "print('Test Accuracy Score for LogisticRegression : ', metrics.accuracy_score(y_test, y_pred))\n",
    "print('Test Precision Score for LogisticRegression : ', metrics.precision_score(y_test, y_pred))\n",
    "print('Test Recall Score for LogisticRegression: ', metrics.recall_score(y_test, y_pred))\n",
    "print('Test F1 Score for LogisticRegression: ', metrics.f1_score(y_test, y_pred))\n",
    "print('Test auc Score for LogisticRegression: ', metrics.roc_auc_score(y_test, y_pred))\n",
    "print()\n",
    "y_train_pred = grid_lr.predict(X_train)\n",
    "print('Train Accuracy Score for LogisticRegression: ', metrics.accuracy_score(y_train, y_train_pred))\n",
    "print('Train Precision Score for LogisticRegression: ', metrics.precision_score(y_train, y_train_pred))\n",
    "print('Train Recall Score for LogisticRegression: ', metrics.recall_score(y_train, y_train_pred))\n",
    "print('Train F1 Score for LogisticRegression: ', metrics.f1_score(y_train, y_train_pred))\n",
    "print('Train auc Score for LogisticRegression: ', metrics.roc_auc_score(y_train, y_train_pred))"
   ]
  }
 ],
 "metadata": {
  "kernelspec": {
   "display_name": "Python 3",
   "language": "python",
   "name": "python3"
  },
  "language_info": {
   "codemirror_mode": {
    "name": "ipython",
    "version": 3
   },
   "file_extension": ".py",
   "mimetype": "text/x-python",
   "name": "python",
   "nbconvert_exporter": "python",
   "pygments_lexer": "ipython3",
   "version": "3.7.12"
  },
  "papermill": {
   "default_parameters": {},
   "duration": 51.887339,
   "end_time": "2022-03-28T23:39:00.655274",
   "environment_variables": {},
   "exception": null,
   "input_path": "__notebook__.ipynb",
   "output_path": "__notebook__.ipynb",
   "parameters": {},
   "start_time": "2022-03-28T23:38:08.767935",
   "version": "2.3.3"
  }
 },
 "nbformat": 4,
 "nbformat_minor": 5
}
