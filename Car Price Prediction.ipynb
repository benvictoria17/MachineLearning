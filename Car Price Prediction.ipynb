{
 "cells":[
  {
   "cell_type":"code",
   "source":[
    "import pandas as pd\n",
    "import numpy as np\n",
    "import matplotlib.pyplot as plt\n",
    "import seaborn as sns\n",
    "import os\n",
    "import warnings\n",
    "\n",
    "%matplotlib inline\n",
    "pd.set_option(\"display.max_rows\", None,\"display.max_columns\", None)\n",
    "warnings.simplefilter(action='ignore')\n",
    "plt.style.use('seaborn')"
   ],
   "execution_count":1,
   "outputs":[
    
   ],
   "metadata":{
    "datalore":{
     "type":"CODE",
     "hide_input_from_viewers":false,
     "hide_output_from_viewers":false,
     "node_id":"ABUn5NEPvYDQ0ncpC7NgJs"
    }
   }
  },
  {
   "cell_type":"code",
   "source":[
    "df_main = pd.read_csv(\"https:\/\/raw.githubusercontent.com\/benvictoria17\/MachineLearning\/master\/dataset\/Vehicle%20dataset\/car%20data.csv\")"
   ],
   "execution_count":2,
   "outputs":[
    
   ],
   "metadata":{
    "datalore":{
     "type":"CODE",
     "hide_input_from_viewers":false,
     "hide_output_from_viewers":false,
     "node_id":"vqfmLGguJSXyqbYGp8UnrV"
    }
   }
  },
  {
   "cell_type":"code",
   "source":[
    "df_main.head()"
   ],
   "execution_count":3,
   "outputs":[
    {
     "data":{
      "text\/html":[
       "<div>\n",
       "<style scoped>\n",
       "    .dataframe tbody tr th:only-of-type {\n",
       "        vertical-align: middle;\n",
       "    }\n",
       "\n",
       "    .dataframe tbody tr th {\n",
       "        vertical-align: top;\n",
       "    }\n",
       "\n",
       "    .dataframe thead th {\n",
       "        text-align: right;\n",
       "    }\n",
       "<\/style>\n",
       "<table border=\"1\" class=\"dataframe\">\n",
       "  <thead>\n",
       "    <tr style=\"text-align: right;\">\n",
       "      <th><\/th>\n",
       "      <th>Car_Name<\/th>\n",
       "      <th>Year<\/th>\n",
       "      <th>Selling_Price<\/th>\n",
       "      <th>Present_Price<\/th>\n",
       "      <th>Kms_Driven<\/th>\n",
       "      <th>Fuel_Type<\/th>\n",
       "      <th>Seller_Type<\/th>\n",
       "      <th>Transmission<\/th>\n",
       "      <th>Owner<\/th>\n",
       "    <\/tr>\n",
       "  <\/thead>\n",
       "  <tbody>\n",
       "    <tr>\n",
       "      <th>0<\/th>\n",
       "      <td>ritz<\/td>\n",
       "      <td>2014<\/td>\n",
       "      <td>3.35<\/td>\n",
       "      <td>5.59<\/td>\n",
       "      <td>27000<\/td>\n",
       "      <td>Petrol<\/td>\n",
       "      <td>Dealer<\/td>\n",
       "      <td>Manual<\/td>\n",
       "      <td>0<\/td>\n",
       "    <\/tr>\n",
       "    <tr>\n",
       "      <th>1<\/th>\n",
       "      <td>sx4<\/td>\n",
       "      <td>2013<\/td>\n",
       "      <td>4.75<\/td>\n",
       "      <td>9.54<\/td>\n",
       "      <td>43000<\/td>\n",
       "      <td>Diesel<\/td>\n",
       "      <td>Dealer<\/td>\n",
       "      <td>Manual<\/td>\n",
       "      <td>0<\/td>\n",
       "    <\/tr>\n",
       "    <tr>\n",
       "      <th>2<\/th>\n",
       "      <td>ciaz<\/td>\n",
       "      <td>2017<\/td>\n",
       "      <td>7.25<\/td>\n",
       "      <td>9.85<\/td>\n",
       "      <td>6900<\/td>\n",
       "      <td>Petrol<\/td>\n",
       "      <td>Dealer<\/td>\n",
       "      <td>Manual<\/td>\n",
       "      <td>0<\/td>\n",
       "    <\/tr>\n",
       "    <tr>\n",
       "      <th>3<\/th>\n",
       "      <td>wagon r<\/td>\n",
       "      <td>2011<\/td>\n",
       "      <td>2.85<\/td>\n",
       "      <td>4.15<\/td>\n",
       "      <td>5200<\/td>\n",
       "      <td>Petrol<\/td>\n",
       "      <td>Dealer<\/td>\n",
       "      <td>Manual<\/td>\n",
       "      <td>0<\/td>\n",
       "    <\/tr>\n",
       "    <tr>\n",
       "      <th>4<\/th>\n",
       "      <td>swift<\/td>\n",
       "      <td>2014<\/td>\n",
       "      <td>4.60<\/td>\n",
       "      <td>6.87<\/td>\n",
       "      <td>42450<\/td>\n",
       "      <td>Diesel<\/td>\n",
       "      <td>Dealer<\/td>\n",
       "      <td>Manual<\/td>\n",
       "      <td>0<\/td>\n",
       "    <\/tr>\n",
       "  <\/tbody>\n",
       "<\/table>\n",
       "<\/div>"
      ]
     },
     "metadata":{
      
     },
     "output_type":"display_data"
    }
   ],
   "metadata":{
    "datalore":{
     "type":"CODE",
     "hide_input_from_viewers":false,
     "hide_output_from_viewers":false,
     "node_id":"qWqxRDnDEa9o3ZcrZzOQrj"
    }
   }
  },
  {
   "cell_type":"code",
   "source":[
    "df_main.shape"
   ],
   "execution_count":4,
   "outputs":[
    {
     "data":{
      "text\/plain":[
       "(301, 9)"
      ]
     },
     "metadata":{
      
     },
     "output_type":"display_data"
    }
   ],
   "metadata":{
    "datalore":{
     "type":"CODE",
     "hide_input_from_viewers":false,
     "hide_output_from_viewers":false,
     "node_id":"bv5u1kC3FLsQEdfUjVvGPE"
    }
   }
  },
  {
   "cell_type":"code",
   "source":[
    "df_main.info()"
   ],
   "execution_count":5,
   "outputs":[
    {
     "name":"stdout",
     "text":[
      "<class 'pandas.core.frame.DataFrame'>\n",
      "RangeIndex: 301 entries, 0 to 300\n",
      "Data columns (total 9 columns):\n",
      " #   Column         Non-Null Count  Dtype  \n",
      "---  ------         --------------  -----  \n",
      " 0   Car_Name       301 non-null    object \n",
      " 1   Year           301 non-null    int64  \n",
      " 2   Selling_Price  301 non-null    float64\n",
      " 3   Present_Price  301 non-null    float64\n",
      " 4   Kms_Driven     301 non-null    int64  \n",
      " 5   Fuel_Type      301 non-null    object \n",
      " 6   Seller_Type    301 non-null    object \n",
      " 7   Transmission   301 non-null    object \n",
      " 8   Owner          301 non-null    int64  \n",
      "dtypes: float64(2), int64(3), object(4)\n",
      "memory usage: 21.3+ KB\n"
     ],
     "output_type":"stream"
    }
   ],
   "metadata":{
    "datalore":{
     "type":"CODE",
     "hide_input_from_viewers":false,
     "hide_output_from_viewers":false,
     "node_id":"ZrXMdTDfBNjSXHuvvILqZG"
    }
   }
  },
  {
   "cell_type":"code",
   "source":[
    "df_main.describe()"
   ],
   "execution_count":6,
   "outputs":[
    {
     "data":{
      "text\/html":[
       "<div>\n",
       "<style scoped>\n",
       "    .dataframe tbody tr th:only-of-type {\n",
       "        vertical-align: middle;\n",
       "    }\n",
       "\n",
       "    .dataframe tbody tr th {\n",
       "        vertical-align: top;\n",
       "    }\n",
       "\n",
       "    .dataframe thead th {\n",
       "        text-align: right;\n",
       "    }\n",
       "<\/style>\n",
       "<table border=\"1\" class=\"dataframe\">\n",
       "  <thead>\n",
       "    <tr style=\"text-align: right;\">\n",
       "      <th><\/th>\n",
       "      <th>Year<\/th>\n",
       "      <th>Selling_Price<\/th>\n",
       "      <th>Present_Price<\/th>\n",
       "      <th>Kms_Driven<\/th>\n",
       "      <th>Owner<\/th>\n",
       "    <\/tr>\n",
       "  <\/thead>\n",
       "  <tbody>\n",
       "    <tr>\n",
       "      <th>count<\/th>\n",
       "      <td>301.000000<\/td>\n",
       "      <td>301.000000<\/td>\n",
       "      <td>301.000000<\/td>\n",
       "      <td>301.000000<\/td>\n",
       "      <td>301.000000<\/td>\n",
       "    <\/tr>\n",
       "    <tr>\n",
       "      <th>mean<\/th>\n",
       "      <td>2013.627907<\/td>\n",
       "      <td>4.661296<\/td>\n",
       "      <td>7.628472<\/td>\n",
       "      <td>36947.205980<\/td>\n",
       "      <td>0.043189<\/td>\n",
       "    <\/tr>\n",
       "    <tr>\n",
       "      <th>std<\/th>\n",
       "      <td>2.891554<\/td>\n",
       "      <td>5.082812<\/td>\n",
       "      <td>8.644115<\/td>\n",
       "      <td>38886.883882<\/td>\n",
       "      <td>0.247915<\/td>\n",
       "    <\/tr>\n",
       "    <tr>\n",
       "      <th>min<\/th>\n",
       "      <td>2003.000000<\/td>\n",
       "      <td>0.100000<\/td>\n",
       "      <td>0.320000<\/td>\n",
       "      <td>500.000000<\/td>\n",
       "      <td>0.000000<\/td>\n",
       "    <\/tr>\n",
       "    <tr>\n",
       "      <th>25%<\/th>\n",
       "      <td>2012.000000<\/td>\n",
       "      <td>0.900000<\/td>\n",
       "      <td>1.200000<\/td>\n",
       "      <td>15000.000000<\/td>\n",
       "      <td>0.000000<\/td>\n",
       "    <\/tr>\n",
       "    <tr>\n",
       "      <th>50%<\/th>\n",
       "      <td>2014.000000<\/td>\n",
       "      <td>3.600000<\/td>\n",
       "      <td>6.400000<\/td>\n",
       "      <td>32000.000000<\/td>\n",
       "      <td>0.000000<\/td>\n",
       "    <\/tr>\n",
       "    <tr>\n",
       "      <th>75%<\/th>\n",
       "      <td>2016.000000<\/td>\n",
       "      <td>6.000000<\/td>\n",
       "      <td>9.900000<\/td>\n",
       "      <td>48767.000000<\/td>\n",
       "      <td>0.000000<\/td>\n",
       "    <\/tr>\n",
       "    <tr>\n",
       "      <th>max<\/th>\n",
       "      <td>2018.000000<\/td>\n",
       "      <td>35.000000<\/td>\n",
       "      <td>92.600000<\/td>\n",
       "      <td>500000.000000<\/td>\n",
       "      <td>3.000000<\/td>\n",
       "    <\/tr>\n",
       "  <\/tbody>\n",
       "<\/table>\n",
       "<\/div>"
      ]
     },
     "metadata":{
      
     },
     "output_type":"display_data"
    }
   ],
   "metadata":{
    "datalore":{
     "type":"CODE",
     "hide_input_from_viewers":false,
     "hide_output_from_viewers":false,
     "node_id":"iSMTYISRdMg2LAbvBTo8Kv"
    }
   }
  },
  {
   "cell_type":"code",
   "source":[
    "df_main.isna().sum()"
   ],
   "execution_count":7,
   "outputs":[
    {
     "data":{
      "text\/html":[
       
      ]
     },
     "metadata":{
      
     },
     "output_type":"display_data"
    }
   ],
   "metadata":{
    "datalore":{
     "type":"CODE",
     "hide_input_from_viewers":false,
     "hide_output_from_viewers":false,
     "node_id":"V71MHHgzEofGC8t5OHIa71"
    }
   }
  },
  {
   "cell_type":"code",
   "source":[
    "df_main.isna().sum()"
   ],
   "execution_count":8,
   "outputs":[
    {
     "data":{
      "text\/html":[
       
      ]
     },
     "metadata":{
      
     },
     "output_type":"display_data"
    }
   ],
   "metadata":{
    "datalore":{
     "type":"CODE",
     "hide_input_from_viewers":false,
     "hide_output_from_viewers":false,
     "node_id":"6JmztrPxY5t2HubVpT7Vj6"
    }
   }
  },
  {
   "cell_type":"code",
   "source":[
    "df_main['Age'] = 2020 - df_main['Year']\n",
    "df_main.drop('Year',axis=1,inplace = True)\n",
    "df_main.rename(columns = {'Selling_Price':'Selling_Price(lacs)','Present_Price':'Present_Price(lacs)','Owner':'Past_Owners'},inplace = True)"
   ],
   "execution_count":9,
   "outputs":[
    
   ],
   "metadata":{
    "datalore":{
     "type":"CODE",
     "hide_input_from_viewers":false,
     "hide_output_from_viewers":false,
     "node_id":"HZdETz476VWdlkX5MWKvNG"
    }
   }
  },
  {
   "cell_type":"code",
   "source":[
    "df_main.columns"
   ],
   "execution_count":10,
   "outputs":[
    {
     "data":{
      "text\/plain":[
       "Index(['Car_Name', 'Selling_Price(lacs)', 'Present_Price(lacs)', 'Kms_Driven',\n",
       "       'Fuel_Type', 'Seller_Type', 'Transmission', 'Past_Owners', 'Age'],\n",
       "      dtype='object')"
      ]
     },
     "metadata":{
      
     },
     "output_type":"display_data"
    }
   ],
   "metadata":{
    "datalore":{
     "type":"CODE",
     "hide_input_from_viewers":false,
     "hide_output_from_viewers":false,
     "node_id":"i7TumwSZfZLqdaEfso5FdA"
    }
   }
  },
  {
   "cell_type":"code",
   "source":[
    "cat_cols = ['Fuel_Type','Seller_Type','Transmission','Past_Owners']\n",
    "i=0\n",
    "while i < 4:\n",
    "    fig = plt.figure(figsize=[10,4])\n",
    "     \n",
    "    plt.subplot(1,2,1)\n",
    "    sns.countplot(x=cat_cols[i], data=df_main)\n",
    "    i += 1\n",
    "    \n",
    "    plt.subplot(1,2,2)\n",
    "    sns.countplot(x=cat_cols[i], data=df_main)\n",
    "    i += 1\n",
    "    \n",
    "    plt.show()"
   ],
   "execution_count":11,
   "outputs":[
    {
     "data":{
      "image\/png":"[encoded data removed]"
     },
     "metadata":{
      "image\/png":{
       
      }
     },
     "output_type":"display_data"
    }
   ],
   "metadata":{
    "datalore":{
     "type":"CODE",
     "hide_input_from_viewers":false,
     "hide_output_from_viewers":false,
     "node_id":"ZbnSSIHjVNQxHWFOAbYw5E"
    }
   }
  },
  {
   "cell_type":"code",
   "source":[
    "num_cols = ['Selling_Price(lacs)','Present_Price(lacs)','Kms_Driven','Age']\n",
    "i=0\n",
    "while i < 4:\n",
    "    fig = plt.figure(figsize=[13,3])\n",
    "    \n",
    "    plt.subplot(1,2,1)\n",
    "    sns.boxplot(x=num_cols[i], data=df_main)\n",
    "    i += 1\n",
    "    \n",
    "    plt.subplot(1,2,2)\n",
    "    sns.boxplot(x=num_cols[i], data=df_main)\n",
    "    i += 1\n",
    "    \n",
    "    plt.show()"
   ],
   "execution_count":12,
   "outputs":[
    {
     "data":{
      "image\/png":"[encoded data removed]"
     },
     "metadata":{
      "image\/png":{
       
      }
     },
     "output_type":"display_data"
    }
   ],
   "metadata":{
    "datalore":{
     "type":"CODE",
     "hide_input_from_viewers":false,
     "hide_output_from_viewers":false,
     "node_id":"4lrErO7Ypy8lSsjbFQO2ZC"
    }
   }
  },
  {
   "cell_type":"code",
   "source":[
    "df_main[df_main['Present_Price(lacs)'] > df_main['Present_Price(lacs)'].quantile(0.99)]"
   ],
   "execution_count":13,
   "outputs":[
    {
     "data":{
      "text\/html":[
       "<div>\n",
       "<style scoped>\n",
       "    .dataframe tbody tr th:only-of-type {\n",
       "        vertical-align: middle;\n",
       "    }\n",
       "\n",
       "    .dataframe tbody tr th {\n",
       "        vertical-align: top;\n",
       "    }\n",
       "\n",
       "    .dataframe thead th {\n",
       "        text-align: right;\n",
       "    }\n",
       "<\/style>\n",
       "<table border=\"1\" class=\"dataframe\">\n",
       "  <thead>\n",
       "    <tr style=\"text-align: right;\">\n",
       "      <th><\/th>\n",
       "      <th>Car_Name<\/th>\n",
       "      <th>Selling_Price(lacs)<\/th>\n",
       "      <th>Present_Price(lacs)<\/th>\n",
       "      <th>Kms_Driven<\/th>\n",
       "      <th>Fuel_Type<\/th>\n",
       "      <th>Seller_Type<\/th>\n",
       "      <th>Transmission<\/th>\n",
       "      <th>Past_Owners<\/th>\n",
       "      <th>Age<\/th>\n",
       "    <\/tr>\n",
       "  <\/thead>\n",
       "  <tbody>\n",
       "    <tr>\n",
       "      <th>64<\/th>\n",
       "      <td>fortuner<\/td>\n",
       "      <td>33.0<\/td>\n",
       "      <td>36.23<\/td>\n",
       "      <td>6000<\/td>\n",
       "      <td>Diesel<\/td>\n",
       "      <td>Dealer<\/td>\n",
       "      <td>Automatic<\/td>\n",
       "      <td>0<\/td>\n",
       "      <td>3<\/td>\n",
       "    <\/tr>\n",
       "    <tr>\n",
       "      <th>86<\/th>\n",
       "      <td>land cruiser<\/td>\n",
       "      <td>35.0<\/td>\n",
       "      <td>92.60<\/td>\n",
       "      <td>78000<\/td>\n",
       "      <td>Diesel<\/td>\n",
       "      <td>Dealer<\/td>\n",
       "      <td>Manual<\/td>\n",
       "      <td>0<\/td>\n",
       "      <td>10<\/td>\n",
       "    <\/tr>\n",
       "  <\/tbody>\n",
       "<\/table>\n",
       "<\/div>"
      ]
     },
     "metadata":{
      
     },
     "output_type":"display_data"
    }
   ],
   "metadata":{
    "datalore":{
     "type":"CODE",
     "hide_input_from_viewers":false,
     "hide_output_from_viewers":false,
     "node_id":"dWjfh3JOOHYdVRZ976Vpkd"
    }
   }
  },
  {
   "cell_type":"code",
   "source":[
    "df_main[df_main['Selling_Price(lacs)'] > df_main['Selling_Price(lacs)'].quantile(0.99)]"
   ],
   "execution_count":14,
   "outputs":[
    {
     "data":{
      "text\/html":[
       "<div>\n",
       "<style scoped>\n",
       "    .dataframe tbody tr th:only-of-type {\n",
       "        vertical-align: middle;\n",
       "    }\n",
       "\n",
       "    .dataframe tbody tr th {\n",
       "        vertical-align: top;\n",
       "    }\n",
       "\n",
       "    .dataframe thead th {\n",
       "        text-align: right;\n",
       "    }\n",
       "<\/style>\n",
       "<table border=\"1\" class=\"dataframe\">\n",
       "  <thead>\n",
       "    <tr style=\"text-align: right;\">\n",
       "      <th><\/th>\n",
       "      <th>Car_Name<\/th>\n",
       "      <th>Selling_Price(lacs)<\/th>\n",
       "      <th>Present_Price(lacs)<\/th>\n",
       "      <th>Kms_Driven<\/th>\n",
       "      <th>Fuel_Type<\/th>\n",
       "      <th>Seller_Type<\/th>\n",
       "      <th>Transmission<\/th>\n",
       "      <th>Past_Owners<\/th>\n",
       "      <th>Age<\/th>\n",
       "    <\/tr>\n",
       "  <\/thead>\n",
       "  <tbody>\n",
       "    <tr>\n",
       "      <th>63<\/th>\n",
       "      <td>fortuner<\/td>\n",
       "      <td>23.5<\/td>\n",
       "      <td>35.96<\/td>\n",
       "      <td>47000<\/td>\n",
       "      <td>Diesel<\/td>\n",
       "      <td>Dealer<\/td>\n",
       "      <td>Automatic<\/td>\n",
       "      <td>0<\/td>\n",
       "      <td>5<\/td>\n",
       "    <\/tr>\n",
       "    <tr>\n",
       "      <th>64<\/th>\n",
       "      <td>fortuner<\/td>\n",
       "      <td>33.0<\/td>\n",
       "      <td>36.23<\/td>\n",
       "      <td>6000<\/td>\n",
       "      <td>Diesel<\/td>\n",
       "      <td>Dealer<\/td>\n",
       "      <td>Automatic<\/td>\n",
       "      <td>0<\/td>\n",
       "      <td>3<\/td>\n",
       "    <\/tr>\n",
       "    <tr>\n",
       "      <th>86<\/th>\n",
       "      <td>land cruiser<\/td>\n",
       "      <td>35.0<\/td>\n",
       "      <td>92.60<\/td>\n",
       "      <td>78000<\/td>\n",
       "      <td>Diesel<\/td>\n",
       "      <td>Dealer<\/td>\n",
       "      <td>Manual<\/td>\n",
       "      <td>0<\/td>\n",
       "      <td>10<\/td>\n",
       "    <\/tr>\n",
       "  <\/tbody>\n",
       "<\/table>\n",
       "<\/div>"
      ]
     },
     "metadata":{
      
     },
     "output_type":"display_data"
    }
   ],
   "metadata":{
    "datalore":{
     "type":"CODE",
     "hide_input_from_viewers":false,
     "hide_output_from_viewers":false,
     "node_id":"6W8HjezEFvh31qSWTWWEqe"
    }
   }
  },
  {
   "cell_type":"code",
   "source":[
    "df_main[df_main['Kms_Driven'] > df_main['Kms_Driven'].quantile(0.99)]"
   ],
   "execution_count":15,
   "outputs":[
    {
     "data":{
      "text\/html":[
       "<div>\n",
       "<style scoped>\n",
       "    .dataframe tbody tr th:only-of-type {\n",
       "        vertical-align: middle;\n",
       "    }\n",
       "\n",
       "    .dataframe tbody tr th {\n",
       "        vertical-align: top;\n",
       "    }\n",
       "\n",
       "    .dataframe thead th {\n",
       "        text-align: right;\n",
       "    }\n",
       "<\/style>\n",
       "<table border=\"1\" class=\"dataframe\">\n",
       "  <thead>\n",
       "    <tr style=\"text-align: right;\">\n",
       "      <th><\/th>\n",
       "      <th>Car_Name<\/th>\n",
       "      <th>Selling_Price(lacs)<\/th>\n",
       "      <th>Present_Price(lacs)<\/th>\n",
       "      <th>Kms_Driven<\/th>\n",
       "      <th>Fuel_Type<\/th>\n",
       "      <th>Seller_Type<\/th>\n",
       "      <th>Transmission<\/th>\n",
       "      <th>Past_Owners<\/th>\n",
       "      <th>Age<\/th>\n",
       "    <\/tr>\n",
       "  <\/thead>\n",
       "  <tbody>\n",
       "    <tr>\n",
       "      <th>84<\/th>\n",
       "      <td>innova<\/td>\n",
       "      <td>3.49<\/td>\n",
       "      <td>13.46<\/td>\n",
       "      <td>197176<\/td>\n",
       "      <td>Diesel<\/td>\n",
       "      <td>Dealer<\/td>\n",
       "      <td>Manual<\/td>\n",
       "      <td>0<\/td>\n",
       "      <td>15<\/td>\n",
       "    <\/tr>\n",
       "    <tr>\n",
       "      <th>179<\/th>\n",
       "      <td>Honda Karizma<\/td>\n",
       "      <td>0.31<\/td>\n",
       "      <td>1.05<\/td>\n",
       "      <td>213000<\/td>\n",
       "      <td>Petrol<\/td>\n",
       "      <td>Individual<\/td>\n",
       "      <td>Manual<\/td>\n",
       "      <td>0<\/td>\n",
       "      <td>10<\/td>\n",
       "    <\/tr>\n",
       "    <tr>\n",
       "      <th>196<\/th>\n",
       "      <td>Activa 3g<\/td>\n",
       "      <td>0.17<\/td>\n",
       "      <td>0.52<\/td>\n",
       "      <td>500000<\/td>\n",
       "      <td>Petrol<\/td>\n",
       "      <td>Individual<\/td>\n",
       "      <td>Automatic<\/td>\n",
       "      <td>0<\/td>\n",
       "      <td>12<\/td>\n",
       "    <\/tr>\n",
       "  <\/tbody>\n",
       "<\/table>\n",
       "<\/div>"
      ]
     },
     "metadata":{
      
     },
     "output_type":"display_data"
    }
   ],
   "metadata":{
    "datalore":{
     "type":"CODE",
     "hide_input_from_viewers":false,
     "hide_output_from_viewers":false,
     "node_id":"UgatqDNsX3dAkLWpwWbAu1"
    }
   }
  },
  {
   "cell_type":"code",
   "source":[
    "sns.heatmap(df_main.corr(), annot=True, cmap=\"RdBu\")\n",
    "plt.show()"
   ],
   "execution_count":16,
   "outputs":[
    {
     "data":{
      "image\/png":"[encoded data removed]"
     },
     "metadata":{
      "image\/png":{
       
      }
     },
     "output_type":"display_data"
    }
   ],
   "metadata":{
    "datalore":{
     "type":"CODE",
     "hide_input_from_viewers":false,
     "hide_output_from_viewers":false,
     "node_id":"q5A2CFTd9ZItvyNXafFoDb"
    }
   }
  },
  {
   "cell_type":"code",
   "source":[
    "df_main.corr()['Selling_Price(lacs)']"
   ],
   "execution_count":17,
   "outputs":[
    {
     "data":{
      "text\/html":[
       
      ]
     },
     "metadata":{
      
     },
     "output_type":"display_data"
    }
   ],
   "metadata":{
    "datalore":{
     "type":"CODE",
     "hide_input_from_viewers":false,
     "hide_output_from_viewers":false,
     "node_id":"6ErKXvhPpJwyF8zu9XW3cD"
    }
   }
  },
  {
   "cell_type":"code",
   "source":[
    "df_main.pivot_table(values='Selling_Price(lacs)', index = 'Seller_Type', columns= 'Fuel_Type')"
   ],
   "execution_count":18,
   "outputs":[
    {
     "data":{
      "text\/html":[
       "<div>\n",
       "<style scoped>\n",
       "    .dataframe tbody tr th:only-of-type {\n",
       "        vertical-align: middle;\n",
       "    }\n",
       "\n",
       "    .dataframe tbody tr th {\n",
       "        vertical-align: top;\n",
       "    }\n",
       "\n",
       "    .dataframe thead th {\n",
       "        text-align: right;\n",
       "    }\n",
       "<\/style>\n",
       "<table border=\"1\" class=\"dataframe\">\n",
       "  <thead>\n",
       "    <tr style=\"text-align: right;\">\n",
       "      <th>Fuel_Type<\/th>\n",
       "      <th>CNG<\/th>\n",
       "      <th>Diesel<\/th>\n",
       "      <th>Petrol<\/th>\n",
       "    <\/tr>\n",
       "    <tr>\n",
       "      <th>Seller_Type<\/th>\n",
       "      <th><\/th>\n",
       "      <th><\/th>\n",
       "      <th><\/th>\n",
       "    <\/tr>\n",
       "  <\/thead>\n",
       "  <tbody>\n",
       "    <tr>\n",
       "      <th>Dealer<\/th>\n",
       "      <td>3.1<\/td>\n",
       "      <td>10.181525<\/td>\n",
       "      <td>5.252388<\/td>\n",
       "    <\/tr>\n",
       "    <tr>\n",
       "      <th>Individual<\/th>\n",
       "      <td>NaN<\/td>\n",
       "      <td>16.000000<\/td>\n",
       "      <td>0.726857<\/td>\n",
       "    <\/tr>\n",
       "  <\/tbody>\n",
       "<\/table>\n",
       "<\/div>"
      ]
     },
     "metadata":{
      
     },
     "output_type":"display_data"
    }
   ],
   "metadata":{
    "datalore":{
     "type":"CODE",
     "hide_input_from_viewers":false,
     "hide_output_from_viewers":false,
     "node_id":"gbDeloOSD61CyX5XitL8O5"
    }
   }
  },
  {
   "cell_type":"code",
   "source":[
    "df_main.pivot_table(values='Selling_Price(lacs)', index = 'Seller_Type', columns= 'Transmission')"
   ],
   "execution_count":19,
   "outputs":[
    {
     "data":{
      "text\/html":[
       "<div>\n",
       "<style scoped>\n",
       "    .dataframe tbody tr th:only-of-type {\n",
       "        vertical-align: middle;\n",
       "    }\n",
       "\n",
       "    .dataframe tbody tr th {\n",
       "        vertical-align: top;\n",
       "    }\n",
       "\n",
       "    .dataframe thead th {\n",
       "        text-align: right;\n",
       "    }\n",
       "<\/style>\n",
       "<table border=\"1\" class=\"dataframe\">\n",
       "  <thead>\n",
       "    <tr style=\"text-align: right;\">\n",
       "      <th>Transmission<\/th>\n",
       "      <th>Automatic<\/th>\n",
       "      <th>Manual<\/th>\n",
       "    <\/tr>\n",
       "    <tr>\n",
       "      <th>Seller_Type<\/th>\n",
       "      <th><\/th>\n",
       "      <th><\/th>\n",
       "    <\/tr>\n",
       "  <\/thead>\n",
       "  <tbody>\n",
       "    <tr>\n",
       "      <th>Dealer<\/th>\n",
       "      <td>12.246552<\/td>\n",
       "      <td>5.756506<\/td>\n",
       "    <\/tr>\n",
       "    <tr>\n",
       "      <th>Individual<\/th>\n",
       "      <td>1.968182<\/td>\n",
       "      <td>0.743895<\/td>\n",
       "    <\/tr>\n",
       "  <\/tbody>\n",
       "<\/table>\n",
       "<\/div>"
      ]
     },
     "metadata":{
      
     },
     "output_type":"display_data"
    }
   ],
   "metadata":{
    "datalore":{
     "type":"CODE",
     "hide_input_from_viewers":false,
     "hide_output_from_viewers":false,
     "node_id":"8NLeYixIuk5GMPIQkRE1cC"
    }
   }
  },
  {
   "cell_type":"code",
   "source":[
    "df_main.drop(labels='Car_Name',axis= 1, inplace = True)\n",
    "df_main.head()"
   ],
   "execution_count":20,
   "outputs":[
    {
     "data":{
      "text\/html":[
       "<div>\n",
       "<style scoped>\n",
       "    .dataframe tbody tr th:only-of-type {\n",
       "        vertical-align: middle;\n",
       "    }\n",
       "\n",
       "    .dataframe tbody tr th {\n",
       "        vertical-align: top;\n",
       "    }\n",
       "\n",
       "    .dataframe thead th {\n",
       "        text-align: right;\n",
       "    }\n",
       "<\/style>\n",
       "<table border=\"1\" class=\"dataframe\">\n",
       "  <thead>\n",
       "    <tr style=\"text-align: right;\">\n",
       "      <th><\/th>\n",
       "      <th>Selling_Price(lacs)<\/th>\n",
       "      <th>Present_Price(lacs)<\/th>\n",
       "      <th>Kms_Driven<\/th>\n",
       "      <th>Fuel_Type<\/th>\n",
       "      <th>Seller_Type<\/th>\n",
       "      <th>Transmission<\/th>\n",
       "      <th>Past_Owners<\/th>\n",
       "      <th>Age<\/th>\n",
       "    <\/tr>\n",
       "  <\/thead>\n",
       "  <tbody>\n",
       "    <tr>\n",
       "      <th>0<\/th>\n",
       "      <td>3.35<\/td>\n",
       "      <td>5.59<\/td>\n",
       "      <td>27000<\/td>\n",
       "      <td>Petrol<\/td>\n",
       "      <td>Dealer<\/td>\n",
       "      <td>Manual<\/td>\n",
       "      <td>0<\/td>\n",
       "      <td>6<\/td>\n",
       "    <\/tr>\n",
       "    <tr>\n",
       "      <th>1<\/th>\n",
       "      <td>4.75<\/td>\n",
       "      <td>9.54<\/td>\n",
       "      <td>43000<\/td>\n",
       "      <td>Diesel<\/td>\n",
       "      <td>Dealer<\/td>\n",
       "      <td>Manual<\/td>\n",
       "      <td>0<\/td>\n",
       "      <td>7<\/td>\n",
       "    <\/tr>\n",
       "    <tr>\n",
       "      <th>2<\/th>\n",
       "      <td>7.25<\/td>\n",
       "      <td>9.85<\/td>\n",
       "      <td>6900<\/td>\n",
       "      <td>Petrol<\/td>\n",
       "      <td>Dealer<\/td>\n",
       "      <td>Manual<\/td>\n",
       "      <td>0<\/td>\n",
       "      <td>3<\/td>\n",
       "    <\/tr>\n",
       "    <tr>\n",
       "      <th>3<\/th>\n",
       "      <td>2.85<\/td>\n",
       "      <td>4.15<\/td>\n",
       "      <td>5200<\/td>\n",
       "      <td>Petrol<\/td>\n",
       "      <td>Dealer<\/td>\n",
       "      <td>Manual<\/td>\n",
       "      <td>0<\/td>\n",
       "      <td>9<\/td>\n",
       "    <\/tr>\n",
       "    <tr>\n",
       "      <th>4<\/th>\n",
       "      <td>4.60<\/td>\n",
       "      <td>6.87<\/td>\n",
       "      <td>42450<\/td>\n",
       "      <td>Diesel<\/td>\n",
       "      <td>Dealer<\/td>\n",
       "      <td>Manual<\/td>\n",
       "      <td>0<\/td>\n",
       "      <td>6<\/td>\n",
       "    <\/tr>\n",
       "  <\/tbody>\n",
       "<\/table>\n",
       "<\/div>"
      ]
     },
     "metadata":{
      
     },
     "output_type":"display_data"
    }
   ],
   "metadata":{
    "datalore":{
     "type":"CODE",
     "hide_input_from_viewers":false,
     "hide_output_from_viewers":false,
     "node_id":"1bAfk0TLrtPlxC0pajKeH7"
    }
   }
  },
  {
   "cell_type":"code",
   "source":[
    "df_main = pd.get_dummies(data = df_main,drop_first=True) "
   ],
   "execution_count":21,
   "outputs":[
    
   ],
   "metadata":{
    "datalore":{
     "type":"CODE",
     "hide_input_from_viewers":false,
     "hide_output_from_viewers":false,
     "node_id":"AA9VWiQzLUqz2u7zy8LwVU"
    }
   }
  },
  {
   "cell_type":"code",
   "source":[
    "df_main.head()"
   ],
   "execution_count":22,
   "outputs":[
    {
     "data":{
      "text\/html":[
       "<div>\n",
       "<style scoped>\n",
       "    .dataframe tbody tr th:only-of-type {\n",
       "        vertical-align: middle;\n",
       "    }\n",
       "\n",
       "    .dataframe tbody tr th {\n",
       "        vertical-align: top;\n",
       "    }\n",
       "\n",
       "    .dataframe thead th {\n",
       "        text-align: right;\n",
       "    }\n",
       "<\/style>\n",
       "<table border=\"1\" class=\"dataframe\">\n",
       "  <thead>\n",
       "    <tr style=\"text-align: right;\">\n",
       "      <th><\/th>\n",
       "      <th>Selling_Price(lacs)<\/th>\n",
       "      <th>Present_Price(lacs)<\/th>\n",
       "      <th>Kms_Driven<\/th>\n",
       "      <th>Past_Owners<\/th>\n",
       "      <th>Age<\/th>\n",
       "      <th>Fuel_Type_Diesel<\/th>\n",
       "      <th>Fuel_Type_Petrol<\/th>\n",
       "      <th>Seller_Type_Individual<\/th>\n",
       "      <th>Transmission_Manual<\/th>\n",
       "    <\/tr>\n",
       "  <\/thead>\n",
       "  <tbody>\n",
       "    <tr>\n",
       "      <th>0<\/th>\n",
       "      <td>3.35<\/td>\n",
       "      <td>5.59<\/td>\n",
       "      <td>27000<\/td>\n",
       "      <td>0<\/td>\n",
       "      <td>6<\/td>\n",
       "      <td>0<\/td>\n",
       "      <td>1<\/td>\n",
       "      <td>0<\/td>\n",
       "      <td>1<\/td>\n",
       "    <\/tr>\n",
       "    <tr>\n",
       "      <th>1<\/th>\n",
       "      <td>4.75<\/td>\n",
       "      <td>9.54<\/td>\n",
       "      <td>43000<\/td>\n",
       "      <td>0<\/td>\n",
       "      <td>7<\/td>\n",
       "      <td>1<\/td>\n",
       "      <td>0<\/td>\n",
       "      <td>0<\/td>\n",
       "      <td>1<\/td>\n",
       "    <\/tr>\n",
       "    <tr>\n",
       "      <th>2<\/th>\n",
       "      <td>7.25<\/td>\n",
       "      <td>9.85<\/td>\n",
       "      <td>6900<\/td>\n",
       "      <td>0<\/td>\n",
       "      <td>3<\/td>\n",
       "      <td>0<\/td>\n",
       "      <td>1<\/td>\n",
       "      <td>0<\/td>\n",
       "      <td>1<\/td>\n",
       "    <\/tr>\n",
       "    <tr>\n",
       "      <th>3<\/th>\n",
       "      <td>2.85<\/td>\n",
       "      <td>4.15<\/td>\n",
       "      <td>5200<\/td>\n",
       "      <td>0<\/td>\n",
       "      <td>9<\/td>\n",
       "      <td>0<\/td>\n",
       "      <td>1<\/td>\n",
       "      <td>0<\/td>\n",
       "      <td>1<\/td>\n",
       "    <\/tr>\n",
       "    <tr>\n",
       "      <th>4<\/th>\n",
       "      <td>4.60<\/td>\n",
       "      <td>6.87<\/td>\n",
       "      <td>42450<\/td>\n",
       "      <td>0<\/td>\n",
       "      <td>6<\/td>\n",
       "      <td>1<\/td>\n",
       "      <td>0<\/td>\n",
       "      <td>0<\/td>\n",
       "      <td>1<\/td>\n",
       "    <\/tr>\n",
       "  <\/tbody>\n",
       "<\/table>\n",
       "<\/div>"
      ]
     },
     "metadata":{
      
     },
     "output_type":"display_data"
    }
   ],
   "metadata":{
    "datalore":{
     "type":"CODE",
     "hide_input_from_viewers":false,
     "hide_output_from_viewers":false,
     "node_id":"FcW6xgfRM50QWtrcfD1TxH"
    }
   }
  },
  {
   "cell_type":"code",
   "source":[
    "y = df_main['Selling_Price(lacs)']\n",
    "X = df_main.drop('Selling_Price(lacs)',axis=1)\n",
    "from sklearn.model_selection import train_test_split\n",
    "X_train, X_test, y_train, y_test = train_test_split(X, y, test_size=0.2, random_state=1)\n",
    "print(\"x train: \",X_train.shape)\n",
    "print(\"x test: \",X_test.shape)\n",
    "print(\"y train: \",y_train.shape)\n",
    "print(\"y test: \",y_test.shape)"
   ],
   "execution_count":23,
   "outputs":[
    {
     "name":"stdout",
     "text":[
      "x train:  (240, 8)\n",
      "x test:  (61, 8)\n",
      "y train:  (240,)\n",
      "y test:  (61,)\n"
     ],
     "output_type":"stream"
    }
   ],
   "metadata":{
    "datalore":{
     "type":"CODE",
     "hide_input_from_viewers":false,
     "hide_output_from_viewers":false,
     "node_id":"zrjWe2j9GOw9AerrjkIjuk"
    }
   }
  },
  {
   "cell_type":"code",
   "source":[
    "from sklearn.metrics import r2_score\n",
    "from sklearn.model_selection import cross_val_score\n",
    "CV = []\n",
    "R2_train = []\n",
    "R2_test = []\n",
    "\n",
    "def car_pred_model(model,model_name):\n",
    "    \n",
    "    model.fit(X_train,y_train)\n",
    "            \n",
    "   \n",
    "    y_pred_train = model.predict(X_train)\n",
    "    R2_train_model = r2_score(y_train,y_pred_train)\n",
    "    R2_train.append(round(R2_train_model,2))\n",
    "    \n",
    "    y_pred_test = model.predict(X_test)\n",
    "    R2_test_model = r2_score(y_test,y_pred_test)\n",
    "    R2_test.append(round(R2_test_model,2))\n",
    "    \n",
    "    cross_val = cross_val_score(model ,X_train ,y_train ,cv=5)\n",
    "    cv_mean = cross_val.mean()\n",
    "    CV.append(round(cv_mean,2))\n",
    "    \n",
    "    print(\"Train R2-score :\",round(R2_train_model,2))\n",
    "    print(\"Test R2-score :\",round(R2_test_model,2))\n",
    "    print(\"Train CV scores :\",cross_val)\n",
    "    print(\"Train CV mean :\",round(cv_mean,2))\n",
    "    \n",
    "    \n",
    "    fig, ax = plt.subplots(1,2,figsize = (10,4))\n",
    "    ax[0].set_title('Residual Plot of Train samples')\n",
    "    sns.distplot((y_train-y_pred_train),hist = False,ax = ax[0])\n",
    "    ax[0].set_xlabel('y_train - y_pred_train')\n",
    "    \n",
    "    ax[1].set_title('y_test vs y_pred_test')\n",
    "    ax[1].scatter(x = y_test, y = y_pred_test)\n",
    "    ax[1].set_xlabel('y_test')\n",
    "    ax[1].set_ylabel('y_pred_test')\n",
    "    \n",
    "    plt.show()"
   ],
   "execution_count":24,
   "outputs":[
    
   ],
   "metadata":{
    "datalore":{
     "type":"CODE",
     "hide_input_from_viewers":false,
     "hide_output_from_viewers":false,
     "node_id":"79X27H5UEdn4ZpGPnOoyuM"
    }
   }
  },
  {
   "cell_type":"code",
   "source":[
    "from sklearn.linear_model import LinearRegression\n",
    "\n",
    "lr = LinearRegression()\n",
    "car_pred_model(lr,\"Linear_regressor.pkl\")"
   ],
   "execution_count":25,
   "outputs":[
    {
     "name":"stdout",
     "text":[
      "Train R2-score : 0.88\n",
      "Test R2-score : 0.86\n",
      "Train CV scores : [0.89912189 0.89838688 0.82980069 0.81769076 0.76113925]\n",
      "Train CV mean : 0.84\n"
     ],
     "output_type":"stream"
    },
    {
     "data":{
      "image\/png":"[encoded data removed]"
     },
     "metadata":{
      "image\/png":{
       
      }
     },
     "output_type":"display_data"
    }
   ],
   "metadata":{
    "datalore":{
     "type":"CODE",
     "hide_input_from_viewers":false,
     "hide_output_from_viewers":false,
     "node_id":"2wyzSnzmxocrw6kCdEIuQE"
    }
   }
  },
  {
   "cell_type":"code",
   "source":[
    "from sklearn.linear_model import Ridge\n",
    "from sklearn.model_selection import RandomizedSearchCV\n",
    "\n",
    "rg = Ridge()\n",
    "alpha = np.logspace(-3,3,num=14)\n",
    "\n",
    "rg_rs = RandomizedSearchCV(estimator = rg, param_distributions = dict(alpha=alpha))\n",
    "\n",
    "car_pred_model(rg_rs,\"ridge.pkl\")"
   ],
   "execution_count":26,
   "outputs":[
    {
     "name":"stdout",
     "text":[
      "Train R2-score : 0.88\n",
      "Test R2-score : 0.86\n",
      "Train CV scores : [0.89912126 0.8983878  0.82980292 0.81769305 0.73377277]\n",
      "Train CV mean : 0.84\n"
     ],
     "output_type":"stream"
    },
    {
     "data":{
      "image\/png":"[encoded data removed]"
     },
     "metadata":{
      "image\/png":{
       
      }
     },
     "output_type":"display_data"
    }
   ],
   "metadata":{
    "datalore":{
     "type":"CODE",
     "hide_input_from_viewers":false,
     "hide_output_from_viewers":false,
     "node_id":"NzLbEp3gjsu0R2QpgCKTYB"
    }
   }
  },
  {
   "cell_type":"code",
   "source":[
    "from sklearn.linear_model import Lasso\n",
    "from sklearn.model_selection import RandomizedSearchCV\n",
    "\n",
    "ls = Lasso()\n",
    "alpha = np.logspace(-3,3,num=14) # range for alpha\n",
    "\n",
    "ls_rs = RandomizedSearchCV(estimator = ls, param_distributions = dict(alpha=alpha))\n",
    "car_pred_model(ls_rs,\"lasso.pkl\")"
   ],
   "execution_count":27,
   "outputs":[
    {
     "name":"stdout",
     "text":[
      "Train R2-score : 0.88\n",
      "Test R2-score : 0.86\n",
      "Train CV scores : [0.8990973  0.89975361 0.8301628  0.81785432 0.70210321]\n",
      "Train CV mean : 0.83\n"
     ],
     "output_type":"stream"
    },
    {
     "data":{
      "image\/png":"[encoded data removed]"
     },
     "metadata":{
      "image\/png":{
       
      }
     },
     "output_type":"display_data"
    }
   ],
   "metadata":{
    "datalore":{
     "type":"CODE",
     "hide_input_from_viewers":false,
     "hide_output_from_viewers":false,
     "node_id":"kIb9bPj2YsfORA29rfl5ow"
    }
   }
  },
  {
   "cell_type":"code",
   "source":[
    "print(rf_rs.best_estimator_)"
   ],
   "execution_count":29,
   "outputs":[
    {
     "name":"stdout",
     "text":[
      "RandomForestRegressor(max_depth=8, min_samples_leaf=2, min_samples_split=4,\n",
      "                      n_estimators=500)\n"
     ],
     "output_type":"stream"
    }
   ],
   "metadata":{
    "datalore":{
     "type":"CODE",
     "hide_input_from_viewers":false,
     "hide_output_from_viewers":false,
     "node_id":"JDgUFBGz9mcjWdB1k7I15g"
    }
   }
  }
 ],
 "metadata":{
  "datalore":{
   "version":1,
   "computation_mode":"JUPYTER",
   "package_manager":"pip",
   "base_environment":"default",
   "packages":[
    
   ]
  }
 },
 "nbformat":4,
 "nbformat_minor":4
}