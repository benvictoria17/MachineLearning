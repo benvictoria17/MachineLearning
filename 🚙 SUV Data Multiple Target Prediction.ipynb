{
 "cells":[
  {
   "cell_type":"code",
   "source":[
    "import numpy as np \n",
    "import pandas as pd \n",
    "from sklearn.model_selection import train_test_split\n",
    "from sklearn.preprocessing import FunctionTransformer\n",
    "from sklearn.compose import ColumnTransformer\n",
    "from sklearn.pipeline import Pipeline\n",
    "from sklearn.tree import DecisionTreeRegressor, DecisionTreeClassifier"
   ],
   "execution_count":4,
   "outputs":[
    
   ],
   "metadata":{
    "datalore":{
     "type":"CODE",
     "hide_input_from_viewers":false,
     "hide_output_from_viewers":false,
     "node_id":"rHpddFcDOmSIa31Iveay14"
    }
   }
  },
  {
   "cell_type":"code",
   "source":[
    "data = pd.read_csv(\"https:\/\/raw.githubusercontent.com\/benvictoria17\/MachineLearning\/master\/dataset\/SUV%20Purchase%20Decision\/SUV_Purchase.csv\")"
   ],
   "execution_count":5,
   "outputs":[
    
   ],
   "metadata":{
    "datalore":{
     "type":"CODE",
     "hide_input_from_viewers":false,
     "hide_output_from_viewers":false,
     "node_id":"HQi202OXaQBSqOCJZvaQXd"
    }
   }
  },
  {
   "cell_type":"code",
   "source":[
    "data"
   ],
   "execution_count":6,
   "outputs":[
    {
     "data":{
      "text\/html":[
       "<div>\n",
       "<style scoped>\n",
       "    .dataframe tbody tr th:only-of-type {\n",
       "        vertical-align: middle;\n",
       "    }\n",
       "\n",
       "    .dataframe tbody tr th {\n",
       "        vertical-align: top;\n",
       "    }\n",
       "\n",
       "    .dataframe thead th {\n",
       "        text-align: right;\n",
       "    }\n",
       "<\/style>\n",
       "<table border=\"1\" class=\"dataframe\">\n",
       "  <thead>\n",
       "    <tr style=\"text-align: right;\">\n",
       "      <th><\/th>\n",
       "      <th>User ID<\/th>\n",
       "      <th>Gender<\/th>\n",
       "      <th>Age<\/th>\n",
       "      <th>EstimatedSalary<\/th>\n",
       "      <th>Purchased<\/th>\n",
       "    <\/tr>\n",
       "  <\/thead>\n",
       "  <tbody>\n",
       "    <tr>\n",
       "      <th>0<\/th>\n",
       "      <td>15624510<\/td>\n",
       "      <td>Male<\/td>\n",
       "      <td>19<\/td>\n",
       "      <td>19000<\/td>\n",
       "      <td>0<\/td>\n",
       "    <\/tr>\n",
       "    <tr>\n",
       "      <th>1<\/th>\n",
       "      <td>15810944<\/td>\n",
       "      <td>Male<\/td>\n",
       "      <td>35<\/td>\n",
       "      <td>20000<\/td>\n",
       "      <td>0<\/td>\n",
       "    <\/tr>\n",
       "    <tr>\n",
       "      <th>2<\/th>\n",
       "      <td>15668575<\/td>\n",
       "      <td>Female<\/td>\n",
       "      <td>26<\/td>\n",
       "      <td>43000<\/td>\n",
       "      <td>0<\/td>\n",
       "    <\/tr>\n",
       "    <tr>\n",
       "      <th>3<\/th>\n",
       "      <td>15603246<\/td>\n",
       "      <td>Female<\/td>\n",
       "      <td>27<\/td>\n",
       "      <td>57000<\/td>\n",
       "      <td>0<\/td>\n",
       "    <\/tr>\n",
       "    <tr>\n",
       "      <th>4<\/th>\n",
       "      <td>15804002<\/td>\n",
       "      <td>Male<\/td>\n",
       "      <td>19<\/td>\n",
       "      <td>76000<\/td>\n",
       "      <td>0<\/td>\n",
       "    <\/tr>\n",
       "    <tr>\n",
       "      <th>...<\/th>\n",
       "      <td>...<\/td>\n",
       "      <td>...<\/td>\n",
       "      <td>...<\/td>\n",
       "      <td>...<\/td>\n",
       "      <td>...<\/td>\n",
       "    <\/tr>\n",
       "    <tr>\n",
       "      <th>395<\/th>\n",
       "      <td>15691863<\/td>\n",
       "      <td>Female<\/td>\n",
       "      <td>46<\/td>\n",
       "      <td>41000<\/td>\n",
       "      <td>1<\/td>\n",
       "    <\/tr>\n",
       "    <tr>\n",
       "      <th>396<\/th>\n",
       "      <td>15706071<\/td>\n",
       "      <td>Male<\/td>\n",
       "      <td>51<\/td>\n",
       "      <td>23000<\/td>\n",
       "      <td>1<\/td>\n",
       "    <\/tr>\n",
       "    <tr>\n",
       "      <th>397<\/th>\n",
       "      <td>15654296<\/td>\n",
       "      <td>Female<\/td>\n",
       "      <td>50<\/td>\n",
       "      <td>20000<\/td>\n",
       "      <td>1<\/td>\n",
       "    <\/tr>\n",
       "    <tr>\n",
       "      <th>398<\/th>\n",
       "      <td>15755018<\/td>\n",
       "      <td>Male<\/td>\n",
       "      <td>36<\/td>\n",
       "      <td>33000<\/td>\n",
       "      <td>0<\/td>\n",
       "    <\/tr>\n",
       "    <tr>\n",
       "      <th>399<\/th>\n",
       "      <td>15594041<\/td>\n",
       "      <td>Female<\/td>\n",
       "      <td>49<\/td>\n",
       "      <td>36000<\/td>\n",
       "      <td>1<\/td>\n",
       "    <\/tr>\n",
       "  <\/tbody>\n",
       "<\/table>\n",
       "<p>400 rows × 5 columns<\/p>\n",
       "<\/div>"
      ]
     },
     "metadata":{
      
     },
     "output_type":"display_data"
    }
   ],
   "metadata":{
    "datalore":{
     "type":"CODE",
     "hide_input_from_viewers":false,
     "hide_output_from_viewers":false,
     "node_id":"rXBzEPfz8qz4OIwSBYZ1V9"
    }
   }
  },
  {
   "cell_type":"code",
   "source":[
    "data.info()"
   ],
   "execution_count":7,
   "outputs":[
    {
     "name":"stdout",
     "text":[
      "<class 'pandas.core.frame.DataFrame'>\n",
      "RangeIndex: 400 entries, 0 to 399\n",
      "Data columns (total 5 columns):\n",
      " #   Column           Non-Null Count  Dtype \n",
      "---  ------           --------------  ----- \n",
      " 0   User ID          400 non-null    int64 \n",
      " 1   Gender           400 non-null    object\n",
      " 2   Age              400 non-null    int64 \n",
      " 3   EstimatedSalary  400 non-null    int64 \n",
      " 4   Purchased        400 non-null    int64 \n",
      "dtypes: int64(4), object(1)\n",
      "memory usage: 15.8+ KB\n"
     ],
     "output_type":"stream"
    }
   ],
   "metadata":{
    "datalore":{
     "type":"CODE",
     "hide_input_from_viewers":false,
     "hide_output_from_viewers":false,
     "node_id":"KGbF98toKtohv45DHzJf6t"
    }
   }
  },
  {
   "cell_type":"code",
   "source":[
    "def predict_on_raw_data(df, target, task):\n",
    "    df = df.copy()\n",
    "    \n",
    "    df = df.drop('User ID', axis=1)\n",
    "    \n",
    "    y = df[target]\n",
    "    X = df.drop(target, axis=1)\n",
    "    \n",
    "    X_train, X_test, y_train, y_test = train_test_split(X, y, train_size=0.7, shuffle=True, random_state=1)\n",
    "    \n",
    "    binary_encoder = Pipeline(steps=[\n",
    "        ('function', FunctionTransformer(lambda column: column.replace({'Female': 0, 'Male': 1})))\n",
    "    ])\n",
    "    \n",
    "    preprocessor = ColumnTransformer(transformers=[\n",
    "        ('binary', binary_encoder, ['Gender'])\n",
    "    ], remainder='passthrough')\n",
    "    \n",
    "    if target == 'Gender':\n",
    "        model = DecisionTreeRegressor() if task == 'regression' else DecisionTreeClassifier()\n",
    "    else:\n",
    "        model = Pipeline(steps=[\n",
    "            ('preprocessor', preprocessor),\n",
    "            ('mod', DecisionTreeRegressor() if task == 'regression' else DecisionTreeClassifier())\n",
    "        ])\n",
    "    \n",
    "    model.fit(X_train, y_train)\n",
    "    \n",
    "    result = model.score(X_test, y_test)\n",
    "    \n",
    "    return result"
   ],
   "execution_count":8,
   "outputs":[
    
   ],
   "metadata":{
    "datalore":{
     "type":"CODE",
     "hide_input_from_viewers":false,
     "hide_output_from_viewers":false,
     "node_id":"8YbnBBGjIo3XJYsx5ohRMN"
    }
   }
  },
  {
   "cell_type":"code",
   "source":[
    "gender_acc = predict_on_raw_data(data, target='Gender', task='classification')\n",
    "purchased_acc = predict_on_raw_data(data, target='Purchased', task='classification')\n",
    "\n",
    "age_r2 = predict_on_raw_data(data, target='Age', task='regression')\n",
    "salary_r2 = predict_on_raw_data(data, target='EstimatedSalary', task='regression')\n",
    "print(\"Target: Gender (Accuracy): {:.2f}%\".format(gender_acc * 100))\n",
    "print(\"Target: Purchased (Accuracy): {:.2f}%\".format(purchased_acc * 100))\n",
    "print(\"Target: Age (R^2): {:.4f}\".format(age_r2))\n",
    "print(\"Target: EstimatedSalary (R^2): {:.4f}\".format(salary_r2))"
   ],
   "execution_count":9,
   "outputs":[
    {
     "name":"stdout",
     "text":[
      "Target: Gender (Accuracy): 47.50%\n",
      "Target: Purchased (Accuracy): 83.33%\n",
      "Target: Age (R^2): 0.3104\n",
      "Target: EstimatedSalary (R^2): -0.3353\n"
     ],
     "output_type":"stream"
    }
   ],
   "metadata":{
    "datalore":{
     "type":"CODE",
     "hide_input_from_viewers":false,
     "hide_output_from_viewers":false,
     "node_id":"JedAsdTfBy2m95LDVBCD5Y"
    }
   }
  }
 ],
 "metadata":{
  "datalore":{
   "version":1,
   "computation_mode":"JUPYTER",
   "package_manager":"pip",
   "base_environment":"default",
   "packages":[
    
   ]
  }
 },
 "nbformat":4,
 "nbformat_minor":4
}