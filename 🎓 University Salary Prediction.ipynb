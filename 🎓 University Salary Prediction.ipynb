{
 "cells":[
  {
   "cell_type":"code",
   "source":[
    "import numpy as np\n",
    "import pandas as pd\n",
    "\n",
    "from sklearn.preprocessing import OneHotEncoder, StandardScaler\n",
    "from sklearn.compose import ColumnTransformer\n",
    "from sklearn.pipeline import Pipeline\n",
    "from sklearn.model_selection import KFold\n",
    "\n",
    "from sklearn.linear_model import Ridge\n",
    "from sklearn.tree import DecisionTreeRegressor\n",
    "from sklearn.neural_network import MLPRegressor\n",
    "from sklearn.ensemble import RandomForestRegressor, GradientBoostingRegressor\n",
    "\n",
    "import warnings\n",
    "warnings.filterwarnings(action='ignore')"
   ],
   "execution_count":1,
   "outputs":[
    
   ],
   "metadata":{
    "datalore":{
     "type":"CODE",
     "hide_input_from_viewers":false,
     "hide_output_from_viewers":false
    }
   }
  },
  {
   "cell_type":"code",
   "source":[
    "data = pd.read_csv(\"https:\/\/raw.githubusercontent.com\/benvictoria17\/MachineLearning\/master\/dataset\/University%20Salaries\/salaries_final.csv\")"
   ],
   "execution_count":2,
   "outputs":[
    
   ],
   "metadata":{
    "datalore":{
     "type":"CODE",
     "hide_input_from_viewers":false,
     "hide_output_from_viewers":false
    }
   }
  },
  {
   "cell_type":"code",
   "source":[
    "data"
   ],
   "execution_count":3,
   "outputs":[
    {
     "data":{
      "text\/html":[
       "<div>\n",
       "<style scoped>\n",
       "    .dataframe tbody tr th:only-of-type {\n",
       "        vertical-align: middle;\n",
       "    }\n",
       "\n",
       "    .dataframe tbody tr th {\n",
       "        vertical-align: top;\n",
       "    }\n",
       "\n",
       "    .dataframe thead th {\n",
       "        text-align: right;\n",
       "    }\n",
       "<\/style>\n",
       "<table border=\"1\" class=\"dataframe\">\n",
       "  <thead>\n",
       "    <tr style=\"text-align: right;\">\n",
       "      <th><\/th>\n",
       "      <th>Year<\/th>\n",
       "      <th>Name<\/th>\n",
       "      <th>Primary Job Title<\/th>\n",
       "      <th>Base Pay<\/th>\n",
       "      <th>Department<\/th>\n",
       "      <th>College<\/th>\n",
       "    <\/tr>\n",
       "  <\/thead>\n",
       "  <tbody>\n",
       "    <tr>\n",
       "      <th>0<\/th>\n",
       "      <td>2010<\/td>\n",
       "      <td>Abaied, Jamie L.<\/td>\n",
       "      <td>Assistant Professor<\/td>\n",
       "      <td>64000.0<\/td>\n",
       "      <td>Department of Psychological Science<\/td>\n",
       "      <td>CAS<\/td>\n",
       "    <\/tr>\n",
       "    <tr>\n",
       "      <th>1<\/th>\n",
       "      <td>2011<\/td>\n",
       "      <td>Abaied, Jamie L.<\/td>\n",
       "      <td>Assistant Professor<\/td>\n",
       "      <td>64000.0<\/td>\n",
       "      <td>Department of Psychological Science<\/td>\n",
       "      <td>CAS<\/td>\n",
       "    <\/tr>\n",
       "    <tr>\n",
       "      <th>2<\/th>\n",
       "      <td>2012<\/td>\n",
       "      <td>Abaied, Jamie L.<\/td>\n",
       "      <td>Assistant Professor<\/td>\n",
       "      <td>65229.0<\/td>\n",
       "      <td>Department of Psychological Science<\/td>\n",
       "      <td>CAS<\/td>\n",
       "    <\/tr>\n",
       "    <tr>\n",
       "      <th>3<\/th>\n",
       "      <td>2013<\/td>\n",
       "      <td>Abaied, Jamie L.<\/td>\n",
       "      <td>Assistant Professor<\/td>\n",
       "      <td>66969.0<\/td>\n",
       "      <td>Department of Psychological Science<\/td>\n",
       "      <td>CAS<\/td>\n",
       "    <\/tr>\n",
       "    <tr>\n",
       "      <th>4<\/th>\n",
       "      <td>2014<\/td>\n",
       "      <td>Abaied, Jamie L.<\/td>\n",
       "      <td>Assistant Professor<\/td>\n",
       "      <td>68658.0<\/td>\n",
       "      <td>Department of Psychological Science<\/td>\n",
       "      <td>CAS<\/td>\n",
       "    <\/tr>\n",
       "    <tr>\n",
       "      <th>...<\/th>\n",
       "      <td>...<\/td>\n",
       "      <td>...<\/td>\n",
       "      <td>...<\/td>\n",
       "      <td>...<\/td>\n",
       "      <td>...<\/td>\n",
       "      <td>...<\/td>\n",
       "    <\/tr>\n",
       "    <tr>\n",
       "      <th>14465<\/th>\n",
       "      <td>2016<\/td>\n",
       "      <td>van der Vliet, Albert<\/td>\n",
       "      <td>Professor<\/td>\n",
       "      <td>163635.0<\/td>\n",
       "      <td>Department of Pathology&amp;Laboratory Medicine<\/td>\n",
       "      <td>COM<\/td>\n",
       "    <\/tr>\n",
       "    <tr>\n",
       "      <th>14466<\/th>\n",
       "      <td>2017<\/td>\n",
       "      <td>van der Vliet, Albert<\/td>\n",
       "      <td>Professor<\/td>\n",
       "      <td>175294.0<\/td>\n",
       "      <td>Department of Pathology&amp;Laboratory Medicine<\/td>\n",
       "      <td>COM<\/td>\n",
       "    <\/tr>\n",
       "    <tr>\n",
       "      <th>14467<\/th>\n",
       "      <td>2018<\/td>\n",
       "      <td>van der Vliet, Albert<\/td>\n",
       "      <td>Professor<\/td>\n",
       "      <td>191000.0<\/td>\n",
       "      <td>Department of Pathology&amp;Laboratory Medicine<\/td>\n",
       "      <td>COM<\/td>\n",
       "    <\/tr>\n",
       "    <tr>\n",
       "      <th>14468<\/th>\n",
       "      <td>2019<\/td>\n",
       "      <td>van der Vliet, Albert<\/td>\n",
       "      <td>Professor<\/td>\n",
       "      <td>196000.0<\/td>\n",
       "      <td>Department of Pathology&amp;Laboratory Medicine<\/td>\n",
       "      <td>COM<\/td>\n",
       "    <\/tr>\n",
       "    <tr>\n",
       "      <th>14469<\/th>\n",
       "      <td>2020<\/td>\n",
       "      <td>van der Vliet, Albert<\/td>\n",
       "      <td>Professor<\/td>\n",
       "      <td>186200.0<\/td>\n",
       "      <td>Department of Pathology&amp;Laboratory Medicine<\/td>\n",
       "      <td>COM<\/td>\n",
       "    <\/tr>\n",
       "  <\/tbody>\n",
       "<\/table>\n",
       "<p>14470 rows × 6 columns<\/p>\n",
       "<\/div>"
      ]
     },
     "metadata":{
      
     },
     "output_type":"display_data"
    }
   ],
   "metadata":{
    "datalore":{
     "type":"CODE",
     "hide_input_from_viewers":false,
     "hide_output_from_viewers":false
    }
   }
  },
  {
   "cell_type":"code",
   "source":[
    "data.info()"
   ],
   "execution_count":4,
   "outputs":[
    {
     "name":"stdout",
     "text":[
      "<class 'pandas.core.frame.DataFrame'>\n",
      "RangeIndex: 14470 entries, 0 to 14469\n",
      "Data columns (total 6 columns):\n",
      " #   Column             Non-Null Count  Dtype  \n",
      "---  ------             --------------  -----  \n",
      " 0   Year               14470 non-null  int64  \n",
      " 1   Name               14470 non-null  object \n",
      " 2   Primary Job Title  14470 non-null  object \n",
      " 3   Base Pay           14470 non-null  float64\n",
      " 4   Department         14470 non-null  object \n",
      " 5   College            14470 non-null  object \n",
      "dtypes: float64(1), int64(1), object(4)\n",
      "memory usage: 678.4+ KB\n"
     ],
     "output_type":"stream"
    }
   ],
   "metadata":{
    "datalore":{
     "type":"CODE",
     "hide_input_from_viewers":false,
     "hide_output_from_viewers":false
    }
   }
  },
  {
   "cell_type":"code",
   "source":[
    "def preprocess_inputs(df):\n",
    "    df = df.copy()\n",
    "    \n",
    "    df = df.drop('Name', axis=1)\n",
    "    \n",
    "    df = df.sample(frac=1.0).reset_index(drop=True)\n",
    "    \n",
    "    y = df['Base Pay']\n",
    "    X = df.drop('Base Pay', axis=1)\n",
    "    \n",
    "    return X, y\n",
    "X, y = preprocess_inputs(data)\n",
    "X"
   ],
   "execution_count":5,
   "outputs":[
    {
     "data":{
      "text\/html":[
       "<div>\n",
       "<style scoped>\n",
       "    .dataframe tbody tr th:only-of-type {\n",
       "        vertical-align: middle;\n",
       "    }\n",
       "\n",
       "    .dataframe tbody tr th {\n",
       "        vertical-align: top;\n",
       "    }\n",
       "\n",
       "    .dataframe thead th {\n",
       "        text-align: right;\n",
       "    }\n",
       "<\/style>\n",
       "<table border=\"1\" class=\"dataframe\">\n",
       "  <thead>\n",
       "    <tr style=\"text-align: right;\">\n",
       "      <th><\/th>\n",
       "      <th>Year<\/th>\n",
       "      <th>Primary Job Title<\/th>\n",
       "      <th>Department<\/th>\n",
       "      <th>College<\/th>\n",
       "    <\/tr>\n",
       "  <\/thead>\n",
       "  <tbody>\n",
       "    <tr>\n",
       "      <th>0<\/th>\n",
       "      <td>2010<\/td>\n",
       "      <td>Lecturer I<\/td>\n",
       "      <td>Department of Physics<\/td>\n",
       "      <td>CAS<\/td>\n",
       "    <\/tr>\n",
       "    <tr>\n",
       "      <th>1<\/th>\n",
       "      <td>2012<\/td>\n",
       "      <td>Office\/Prgm Support Generalist<\/td>\n",
       "      <td>Department of Med-Cardiology<\/td>\n",
       "      <td>COM<\/td>\n",
       "    <\/tr>\n",
       "    <tr>\n",
       "      <th>2<\/th>\n",
       "      <td>2020<\/td>\n",
       "      <td>Associate Professor<\/td>\n",
       "      <td>Department of Radiology<\/td>\n",
       "      <td>COM<\/td>\n",
       "    <\/tr>\n",
       "    <tr>\n",
       "      <th>3<\/th>\n",
       "      <td>2019<\/td>\n",
       "      <td>Professor<\/td>\n",
       "      <td>Department of Psychiatry<\/td>\n",
       "      <td>COM<\/td>\n",
       "    <\/tr>\n",
       "    <tr>\n",
       "      <th>4<\/th>\n",
       "      <td>2011<\/td>\n",
       "      <td>Assistant Professor<\/td>\n",
       "      <td>Department of Family Medicine<\/td>\n",
       "      <td>COM<\/td>\n",
       "    <\/tr>\n",
       "    <tr>\n",
       "      <th>...<\/th>\n",
       "      <td>...<\/td>\n",
       "      <td>...<\/td>\n",
       "      <td>...<\/td>\n",
       "      <td>...<\/td>\n",
       "    <\/tr>\n",
       "    <tr>\n",
       "      <th>14465<\/th>\n",
       "      <td>2011<\/td>\n",
       "      <td>Research Assistant Prof<\/td>\n",
       "      <td>Department of Biochemistry<\/td>\n",
       "      <td>CAS<\/td>\n",
       "    <\/tr>\n",
       "    <tr>\n",
       "      <th>14466<\/th>\n",
       "      <td>2019<\/td>\n",
       "      <td>Associate Professor<\/td>\n",
       "      <td>Department of Biology<\/td>\n",
       "      <td>CAS<\/td>\n",
       "    <\/tr>\n",
       "    <tr>\n",
       "      <th>14467<\/th>\n",
       "      <td>2012<\/td>\n",
       "      <td>Associate Professor<\/td>\n",
       "      <td>Department of Radiation-Oncology<\/td>\n",
       "      <td>COM<\/td>\n",
       "    <\/tr>\n",
       "    <tr>\n",
       "      <th>14468<\/th>\n",
       "      <td>2016<\/td>\n",
       "      <td>Researcher\/Analyst<\/td>\n",
       "      <td>Department of COM Microbio &amp; Molec Genetics<\/td>\n",
       "      <td>COM<\/td>\n",
       "    <\/tr>\n",
       "    <tr>\n",
       "      <th>14469<\/th>\n",
       "      <td>2019<\/td>\n",
       "      <td>Assistant Professor<\/td>\n",
       "      <td>Department of Anesthesiology<\/td>\n",
       "      <td>COM<\/td>\n",
       "    <\/tr>\n",
       "  <\/tbody>\n",
       "<\/table>\n",
       "<p>14470 rows × 4 columns<\/p>\n",
       "<\/div>"
      ]
     },
     "metadata":{
      
     },
     "output_type":"display_data"
    }
   ],
   "metadata":{
    "datalore":{
     "type":"CODE",
     "hide_input_from_viewers":false,
     "hide_output_from_viewers":false
    }
   }
  },
  {
   "cell_type":"code",
   "source":[
    "y"
   ],
   "execution_count":9,
   "outputs":[
    {
     "data":{
      "text\/html":[
       
      ]
     },
     "metadata":{
      
     },
     "output_type":"display_data"
    }
   ],
   "metadata":{
    "datalore":{
     "type":"CODE",
     "hide_input_from_viewers":false,
     "hide_output_from_viewers":false
    }
   }
  },
  {
   "cell_type":"code",
   "source":[
    "def build_pipeline(regressor):\n",
    "    \n",
    "    nominal_transformer = Pipeline(steps=[\n",
    "        ('onehot', OneHotEncoder(sparse=False, handle_unknown='ignore'))\n",
    "    ])\n",
    "    \n",
    "    preprocessor = ColumnTransformer(transformers=[\n",
    "        ('nominal', nominal_transformer, ['Primary Job Title', 'Department', 'College'])\n",
    "    ], remainder='passthrough')\n",
    "    \n",
    "    model = Pipeline(steps=[\n",
    "        ('preprocessor', preprocessor),\n",
    "        ('scaler', StandardScaler()),\n",
    "        ('regressor', regressor)\n",
    "    ])\n",
    "    \n",
    "    return model\n",
    "models = {\n",
    "    \"Linear Regression (Ridge)\": build_pipeline(Ridge()),\n",
    "    \"            Decision Tree\": build_pipeline(DecisionTreeRegressor()),\n",
    "    \"           Neural Network\": build_pipeline(MLPRegressor()),\n",
    "    \"            Random Forest\": build_pipeline(RandomForestRegressor()),\n",
    "    \"        Gradient Boosting\": build_pipeline(GradientBoostingRegressor())\n",
    "}"
   ],
   "execution_count":7,
   "outputs":[
    
   ],
   "metadata":{
    "datalore":{
     "type":"CODE",
     "hide_input_from_viewers":false,
     "hide_output_from_viewers":false
    }
   }
  },
  {
   "cell_type":"code",
   "source":[
    "def evaluate_model(model, X, y):\n",
    "    \n",
    "    kf = KFold(n_splits=5)\n",
    "    rmses = []\n",
    "    r2s = []\n",
    "    \n",
    "    for train_idx, test_idx in kf.split(X):\n",
    "        model.fit(X.iloc[train_idx, :], y.iloc[train_idx])\n",
    "        \n",
    "        pred = model.predict(X.iloc[test_idx, :])\n",
    "        \n",
    "        rmse = np.sqrt(np.mean((y.iloc[test_idx] - pred)**2))\n",
    "        rmses.append(rmse)\n",
    "        \n",
    "        r2 = 1 - (np.sum((y.iloc[test_idx] - pred)**2) \/ np.sum((y.iloc[test_idx] - y.iloc[test_idx].mean())**2))\n",
    "        r2s.append(r2)\n",
    "        \n",
    "    return np.mean(rmses), np.mean(r2s)\n",
    "for name, model in models.items():\n",
    "    print(name + \" RMSE: {:.2f}\".format(evaluate_model(model, X, y)[0]))"
   ],
   "execution_count":8,
   "outputs":[
    {
     "name":"stdout",
     "text":[
      "Linear Regression (Ridge) RMSE: 28441.42\n",
      "            Decision Tree RMSE: 30055.08\n",
      "           Neural Network RMSE: 40190.27\n",
      "            Random Forest RMSE: 28792.14\n",
      "        Gradient Boosting RMSE: 31634.76\n"
     ],
     "output_type":"stream"
    }
   ],
   "metadata":{
    "datalore":{
     "type":"CODE",
     "hide_input_from_viewers":false,
     "hide_output_from_viewers":false
    }
   }
  },
  {
   "cell_type":"code",
   "source":[
    "for name, model in models.items():\n",
    "    print(name + \" R^2: {:.5f}\".format(evaluate_model(model, X, y)[1]))"
   ],
   "execution_count":10,
   "outputs":[
    {
     "name":"stdout",
     "text":[
      "Linear Regression (Ridge) R^2: 0.63796\n",
      "            Decision Tree R^2: 0.59514\n",
      "           Neural Network R^2: 0.56919\n",
      "            Random Forest R^2: 0.62752\n",
      "        Gradient Boosting R^2: 0.55209\n"
     ],
     "output_type":"stream"
    }
   ],
   "metadata":{
    "datalore":{
     "type":"CODE",
     "hide_input_from_viewers":false,
     "hide_output_from_viewers":false
    }
   }
  }
 ],
 "metadata":{
  "datalore":{
   "version":1,
   "computation_mode":"JUPYTER",
   "package_manager":"pip",
   "base_environment":"default",
   "packages":[
    
   ]
  }
 },
 "nbformat":4,
 "nbformat_minor":4
}